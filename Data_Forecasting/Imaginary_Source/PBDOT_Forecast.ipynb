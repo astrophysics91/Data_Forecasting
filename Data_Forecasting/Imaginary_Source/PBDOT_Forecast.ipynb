{
 "cells": [
  {
   "cell_type": "markdown",
   "id": "78f2466b",
   "metadata": {},
   "source": [
    "## 2. This module determines the effect of PBDOT.\n",
    "\n",
    "Calculate PBDOT based on the timing.\n",
    "This will find the proper values of PBDOT that can be used for simulation\n",
    "\n",
    "\n",
    "!! This code uses galactic longitude and lattitude. I checked the conversion with YMW16 (J1713) for DM distance measur, and PBDOT_gal with J2222. They are consistent when I used galactic definition of coordinate. "
   ]
  },
  {
   "cell_type": "code",
   "execution_count": 96,
   "id": "70d68dde",
   "metadata": {},
   "outputs": [
    {
     "name": "stdout",
     "output_type": "stream",
     "text": [
      "1.25\n"
     ]
    }
   ],
   "source": [
    "%matplotlib inline\n",
    "%config InlineBackend.figure_format = 'retina'\n",
    "import sys, math, numpy as N, matplotlib.pyplot as P\n",
    "from libstempo.libstempo import *\n",
    "import libstempo\n",
    "import libstempo.plot as LP, libstempo.toasim as LT\n",
    "import numpy as np\n",
    "import matplotlib\n",
    "import matplotlib.pyplot as plt\n",
    "import matplotlib.gridspec as gridspec\n",
    "import libstempo as T\n",
    "import pandas as pd\n",
    "import subprocess\n",
    "from astropy.constants import G\n",
    "from astropy.constants import c\n",
    "from astropy.stats import LombScargle\n",
    "from astropy import constants as const\n",
    "\n",
    "class params:\n",
    "    \n",
    "    def __init__(self):\n",
    "        pass\n",
    "    \n",
    "    def call_parameters(name):\n",
    "        call=(open(name).read())\n",
    "        call=re.sub(r'\\t', ' ', call)\n",
    "        call=call.split('\\n')\n",
    "\n",
    "        param_array=np.zeros(0)\n",
    "        for i in range(0,len(call)):\n",
    "            each_line=np.array(call[i].split(' ')) \n",
    "            each_line=each_line[each_line!='']\n",
    "            if each_line[0]=='CLK':\n",
    "                break\n",
    "            else:\n",
    "                pass\n",
    "            param_array=np.append(param_array,each_line)\n",
    "        return param_array\n",
    "    \n",
    "    def param_finder(array,param):\n",
    "        param_idx=np.where(array==param)\n",
    "        param_name=array[param_idx]\n",
    "\n",
    "        param_val=array[param_idx[0]+1]\n",
    "        #param_err=array[param_idx[0]+3]\n",
    "        if param=='RAJ' or param=='DECJ': \n",
    "            if param=='RAJ':\n",
    "                head='h'\n",
    "                head_sub='d'\n",
    "                param_idx_sub=np.where(array=='DECJ')\n",
    "                param_name_sub=array[param_idx_sub]\n",
    "                param_val_sub=array[param_idx_sub[0]+1]\n",
    "                #param_err_sub=array[param_idx_sub[0]+3]\n",
    "            if param=='DECJ':\n",
    "                head='d'\n",
    "                head_sub='h'\n",
    "                param_idx_sub=np.where(array=='RAJ')\n",
    "                param_name_sub=array[param_idx_sub]\n",
    "                param_val_sub=array[param_idx_sub[0]+1]\n",
    "                #param_err_sub=array[param_idx_sub[0]+]\n",
    "\n",
    "            coord=''\n",
    "            err_part=''\n",
    "            locator=0\n",
    "\n",
    "            for i in param_val[0]:\n",
    "                if i==':': \n",
    "                    if locator==0:\n",
    "                        i=head\n",
    "\n",
    "                    locator=locator+1\n",
    "                if locator<=1:\n",
    "                    coord=coord+i\n",
    "                if locator>1:\n",
    "                    err_part=err_part+i\n",
    "\n",
    "            upper=float(err_part[1:])+float(param_err[0])\n",
    "            lower=float(err_part[1:])-float(param_err[0])\n",
    "\n",
    "            coord_upper=coord+'m'+str(upper)\n",
    "            coord_lower=coord+'m'+str(lower)\n",
    "\n",
    "            coord_sub=''\n",
    "            err_part_sub=''\n",
    "            locator_sub=0\n",
    "            \n",
    "            for i in param_val_sub[0]:\n",
    "                if i==':': \n",
    "                    if locator_sub==0:\n",
    "                        i=head_sub\n",
    "                    locator_sub=locator_sub+1\n",
    "                if locator_sub<=1:\n",
    "                    coord_sub=coord_sub+i\n",
    "                if locator_sub>1:\n",
    "                    err_part_sub=err_part_sub+i\n",
    "\n",
    "\n",
    "            sub_part=float(err_part_sub[1:])\n",
    "            coord_sub=coord_sub+'m'+str(sub_part)\n",
    "             \n",
    "\n",
    "            if param=='RAJ':\n",
    "                coord_lw= SkyCoord(coord_upper, coord_sub, frame='icrs')\n",
    "                coord_up= SkyCoord(coord_lower, coord_sub, frame='icrs')  \n",
    "                mean=(coord_lw.galactic.frame.l.deg+coord_up.galactic.frame.l.deg)/2\n",
    "                #err=(mean-coord_lw.galactic.frame.l.deg)\n",
    "\n",
    "            if param=='DECJ':\n",
    "                coord_lw= SkyCoord(coord_sub, coord_upper, frame='icrs')\n",
    "                coord_up= SkyCoord(coord_sub, coord_lower, frame='icrs')            \n",
    "                mean=(coord_lw.galactic.frame.b.deg+coord_up.galactic.frame.b.deg)/2\n",
    "                #err=(mean-coord_lw.galactic.frame.b.deg)\n",
    "\n",
    "            param_val=mean\n",
    "            #param_err=err\n",
    "                \n",
    "        else:\n",
    "            param_val=float(param_val[0])\n",
    "            #param_err=float(param_err[0])\n",
    "      \n",
    "        return param_name,param_val\n",
    "\n",
    "\n",
    "class PK(params):\n",
    "    def __init__(self):\n",
    "        pass\n",
    "    \n",
    "    def pbdot(mass_m2, mass_m1, d, param):\n",
    "        array_al=params.call_parameters('Original_Model.par')\n",
    "\n",
    "        e=params.param_finder(array_al,'ECC')[1]\n",
    "        pmra=params.param_finder(array_al,'PMRA')[1]*4.8481368110954e-9\n",
    "        pmdec=params.param_finder(array_al,'PMDEC')[1]*4.8481368110954e-9\n",
    "        pb=params.param_finder(array_al,'PB')[1]\n",
    "        \n",
    "        #l=params.param_finder(array_al,'RAJ')[0]\n",
    "        #b=params.param_finder(array_al,'DECJ')[0]\n",
    "        \n",
    "        mu2=pmra**2+pmdec**2\n",
    "\n",
    "        \n",
    "        def pbd_gw(mass_m2, mass_m1, e, pb):\n",
    "            t0=4.925490947*1e-6\n",
    "            pb=pb*u.day.to('second')\n",
    "            m=mass_m2+mass_m1\n",
    "            return -192*np.pi/5*(pb/2/np.pi)**(-5/3)*(1+73/24*e**2+37/96*e**4)*(1-e**2)**(-7/2)*t0**(5/3)*mass_m2*mass_m1*m**(-1/3)\n",
    "\n",
    "\n",
    "        def pbd_shk(mu2,d,pb): \n",
    "            \n",
    "            dist=d*u.kpc.to('m')#np.random.normal(d,dd,iterations)*3.09e+16 # to m\n",
    "            c=const.c.value/3.17098e-8 # to m/yt\n",
    "            pb=pb*u.day.to('yr') # to yr\n",
    "            \n",
    "            return mu2*pb*dist/c\n",
    " \n",
    "\n",
    "        def pbd_gal(ra, decj, pb, d):\n",
    "            \n",
    "            MYR = 1e+6*365.25*86400*u.s\n",
    "            DAY = 86400 * u.s\n",
    "            KPC = (1.0*u.kpc).value\n",
    "            R0    = 8.20  * u.kpc \n",
    "            z_sun = 0.014 * u.kpc \n",
    "            Phi = GalaxyPotential(\"pot/PJM17_best.Tpot\")\n",
    "            coord.galactocentric_frame_defaults.set('v4.0')\n",
    "            scSgrA = SkyCoord(ra=266.416817*u.deg, dec=-29.007825*u.deg, distance=R0, frame=ICRS, equinox='J2000.0')\n",
    "            scSun  = SkyCoord(ra=0*u.deg, dec=0*u.deg, distance=0*u.kpc, frame=coord.ICRS, equinox='J2000.0')\n",
    "            gc_frame = coord.Galactocentric(galcen_coord=scSgrA,galcen_distance=R0,z_sun=z_sun,roll=-0.0057822*u.deg) \n",
    "\n",
    "            #example coordinate\n",
    "\n",
    "            # Original RAJ,DECJ were determined by generating random array.\n",
    "\n",
    "            PSR  = \"NGC1851E\"\n",
    "            Pb   = pb * DAY\n",
    "            #d    = d * u.kpc\n",
    "\n",
    "            # coordinate transformation\n",
    "            gal_Pbdot=np.zeros(0)\n",
    "            for i in d:\n",
    "                scPsr  = SkyCoord('{0:s} {1:s}'.format(ra, decj), unit=(u.hourangle, u.deg), distance=i*u.kpc, frame=ICRS, equinox='J2000')\n",
    "                print(scPsr)\n",
    "                    # Express the coordinates of the sun and the pulsar with respect to the SgrA \n",
    "\n",
    "                gcSun  = scSun.transform_to(gc_frame)\n",
    "                gcPsr  = scPsr.transform_to(gc_frame)\n",
    "\n",
    "                    #Express the coordinate for each vector\n",
    "\n",
    "                Xsun = np.array([gcSun.x/u.kpc, gcSun.y/u.kpc, gcSun.z/u.kpc])\n",
    "                Rsun = np.sqrt(Xsun[0]**2 + Xsun[1]**2)\n",
    "                Xpsr = np.array([gcPsr.x/u.kpc, gcPsr.y/u.kpc, gcPsr.z/u.kpc])\n",
    "                Rpsr = np.sqrt(Xpsr[0]**2 + Xpsr[1]**2)\n",
    "\n",
    "\n",
    "                    # find the acceleration difference\n",
    "\n",
    "\n",
    "                fRzSun = Phi.ForceRz(Rsun,Xsun[2])\n",
    "                accSun = np.array([-fRzSun[0], 0, fRzSun[1]]) * u.kpc/MYR**2\n",
    "\n",
    "                fRzPsr = Phi.ForceRz(Rpsr,Xpsr[2])\n",
    "                accPsr = np.array([fRzPsr[0]*Xpsr[0]/Rpsr, fRzPsr[0]*Xpsr[1]/Rpsr, fRzPsr[1]]) * u.kpc/MYR**2\n",
    "\n",
    "\n",
    "                XX = Xpsr - Xsun\n",
    "                K0 = XX/np.linalg.norm(XX)\n",
    "                acc_diff = accPsr - accSun\n",
    "\n",
    "\n",
    "                    # find PbDOT by Galactic Potential\n",
    "                PdotP = np.dot(K0, acc_diff)/c # Pdot/P\n",
    "                gal_Pbdot=np.append(gal_Pbdot,(PdotP * Pb).si)\n",
    "                \n",
    "            return gal_Pbdot\n",
    "        \n",
    "        #gal_dist=pbd_gal(l,b, pb, d, iterations)\n",
    "        shk_dist=pbd_shk(mu2,d,pb)\n",
    "        pbd_gw_factor=pbd_gw(mass_m2, mass_m1, e,pb)\n",
    "        \n",
    "        total=shk_dist+pbd_gw_factor\n",
    "        return total\n",
    " \n",
    "def ephemeris_gen(i,Invest,d):\n",
    "\n",
    "    mass_m2=1.25\n",
    "    mass_m1=1.25\n",
    "\n",
    "    array_al=params.call_parameters('Original_Model.par')\n",
    "\n",
    "\n",
    "    pbdot=PK.pbdot(mass_m2, mass_m1, d, params)\n",
    "\n",
    "    sini=str(np.sin(i*np.pi/180))\n",
    "    m2=mass_m2\n",
    "    \n",
    "    stig=np.sqrt((1-np.cos(i*np.pi/180))/(1+np.cos(i*np.pi/180)))\n",
    "    h3=stig**3*4.925490947e-6*mass_m2 \n",
    "    h4=h3*stig\n",
    "\n",
    "       \n",
    "    SPR_another_param='STIG            '\n",
    "    value=str(stig)\n",
    "    \n",
    "\n",
    "    if Invest=='pbdot':\n",
    "        PBD='PBDOT            '+str(pbdot)+' 1        0\\n'\n",
    "        M2='H3            '+str(h3)+'         0\\n'\n",
    "        SINI=SPR_another_param+value+'       0\\n'\n",
    "    if Invest=='spr':\n",
    "        PBD='PBDOT            '+str(pbdot)+'         0\\n'\n",
    "        M2='H3            '+str(h3)+'   1      0\\n'\n",
    "        SINI=SPR_another_param+value+'   1       0\\n'\n",
    "    print(m2)\n",
    "    \n",
    "    data=open('Original_Model.par')\n",
    "    texts=data.read()\n",
    "\n",
    "    perfect_model_params=texts+M2+SINI+PBD\n",
    "    perfect_model=open('Perfect_Model.par', \"w\")\n",
    "    f=perfect_model.write(perfect_model_params)\n",
    "\n",
    "    \n",
    "    \n",
    "    if Invest=='pbdot':\n",
    "        PBD='PBDOT            '+'0'+' 1        0\\n'\n",
    "        M2='H3            '+str(h3)+'         0\\n'\n",
    "        SINI=SPR_another_param+value+'       0\\n'\n",
    "    if Invest=='spr':\n",
    "        PBD='PBDOT            '+str(pbdot)+' 1         0\\n'\n",
    "        M2='H3            '+'0'+'          0\\n'\n",
    "        SINI=SPR_another_param+'0'+'       0\\n'\n",
    "        \n",
    "\n",
    "\n",
    "    weak_model_params=texts+M2+SINI+PBD\n",
    "    weak_model=open('Weak_Model.par', \"w\")\n",
    "    f=weak_model.write(weak_model_params)\n",
    "\n",
    "class Model:\n",
    "\n",
    "    def __init__(self):\n",
    "        pass\n",
    "    \n",
    "    def ln_L(new,toa_err,mask):\n",
    "        \n",
    "        residual=new[mask]\n",
    "        \n",
    "        toa_err=[toa_err]*len(new)\n",
    "        toa_err=np.array(toa_err)*1e-6\n",
    "        toaerr=toa_err[mask]\n",
    "   \n",
    "        likeli=1/np.sqrt(2*np.pi*toaerr**2)*np.exp(-residual**2/(2*toaerr**2))\n",
    "        log_lik=1\n",
    "        for l in likeli:\n",
    "            log_lik=log_lik*l\n",
    "        lnL=np.log(log_lik)\n",
    "        \n",
    "        return -lnL\n",
    "\n",
    "\n",
    "def add_colorbar_outside(im,ax):\n",
    "    fig = ax.get_figure()\n",
    "    bbox = ax.get_position() #bbox contains the [x0 (left), y0 (bottom), x1 (right), y1 (top)] of the axis.\n",
    "    width = 0.05\n",
    "    eps = 0.01 #margin between plot and colorbar\n",
    "    cax = fig.add_axes([bbox.x1 + eps, bbox.y0, width, bbox.height])\n",
    "    cbar = fig.colorbar(im, cax=cax)\n",
    "\n",
    "\n",
    "    "
   ]
  },
  {
   "cell_type": "markdown",
   "id": "05d1cc97",
   "metadata": {},
   "source": [
    "# 2. Fit parameters\n",
    "\n",
    "This module fits the parameters and shows the resulting residuals.\n",
    "\n",
    "The first version is made with libstempo fake generator\n",
    "\n"
   ]
  },
  {
   "cell_type": "code",
   "execution_count": 112,
   "id": "de0bd159",
   "metadata": {
    "scrolled": true
   },
   "outputs": [
    {
     "name": "stdout",
     "output_type": "stream",
     "text": [
      "1.25\n",
      "iteration: 0\n",
      "************************************************* \n",
      "Warning: you are running in tempo1 emulation mode \n",
      "************************************************* \n",
      "************************************************* \n",
      "Warning: you are running in tempo1 emulation mode \n",
      "************************************************* \n"
     ]
    },
    {
     "name": "stderr",
     "output_type": "stream",
     "text": [
      "/tmp/ipykernel_8229/2184178469.py:98: DeprecationWarning: distutils Version classes are deprecated. Use packaging.version instead.\n",
      "  weak_ft=T.tempopulsar('Perfect_Model.par','iteration_sub.tim')\n"
     ]
    },
    {
     "name": "stdout",
     "output_type": "stream",
     "text": [
      "************************************************* \n",
      "Warning: you are running in tempo1 emulation mode \n",
      "************************************************* \n",
      "spr\n"
     ]
    },
    {
     "name": "stderr",
     "output_type": "stream",
     "text": [
      "/tmp/ipykernel_8229/2184178469.py:98: DeprecationWarning: distutils Version classes are deprecated. Use packaging.version instead.\n",
      "  weak_ft=T.tempopulsar('Perfect_Model.par','iteration_sub.tim')\n"
     ]
    },
    {
     "name": "stdout",
     "output_type": "stream",
     "text": [
      "spr************************************************* \n",
      "Warning: you are running in tempo1 emulation mode \n",
      "************************************************* \n",
      "\n"
     ]
    },
    {
     "name": "stderr",
     "output_type": "stream",
     "text": [
      "/tmp/ipykernel_8229/2184178469.py:98: DeprecationWarning: distutils Version classes are deprecated. Use packaging.version instead.\n",
      "  weak_ft=T.tempopulsar('Perfect_Model.par','iteration_sub.tim')\n"
     ]
    },
    {
     "name": "stdout",
     "output_type": "stream",
     "text": [
      "************************************************* \n",
      "Warning: you are running in tempo1 emulation mode \n",
      "************************************************* \n",
      "spr\n"
     ]
    },
    {
     "name": "stderr",
     "output_type": "stream",
     "text": [
      "/tmp/ipykernel_8229/2184178469.py:98: DeprecationWarning: distutils Version classes are deprecated. Use packaging.version instead.\n",
      "  weak_ft=T.tempopulsar('Perfect_Model.par','iteration_sub.tim')\n"
     ]
    },
    {
     "name": "stdout",
     "output_type": "stream",
     "text": [
      "************************************************* \n",
      "Warning: you are running in tempo1 emulation mode \n",
      "************************************************* \n",
      "spr\n"
     ]
    },
    {
     "name": "stderr",
     "output_type": "stream",
     "text": [
      "/tmp/ipykernel_8229/2184178469.py:98: DeprecationWarning: distutils Version classes are deprecated. Use packaging.version instead.\n",
      "  weak_ft=T.tempopulsar('Perfect_Model.par','iteration_sub.tim')\n"
     ]
    },
    {
     "name": "stdout",
     "output_type": "stream",
     "text": [
      "************************************************* \n",
      "Warning: you are running in tempo1 emulation mode \n",
      "************************************************* \n",
      "spr\n"
     ]
    },
    {
     "name": "stderr",
     "output_type": "stream",
     "text": [
      "/tmp/ipykernel_8229/2184178469.py:98: DeprecationWarning: distutils Version classes are deprecated. Use packaging.version instead.\n",
      "  weak_ft=T.tempopulsar('Perfect_Model.par','iteration_sub.tim')\n"
     ]
    },
    {
     "name": "stdout",
     "output_type": "stream",
     "text": [
      "************************************************* \n",
      "Warning: you are running in tempo1 emulation mode \n",
      "************************************************* \n",
      "spr\n"
     ]
    },
    {
     "name": "stderr",
     "output_type": "stream",
     "text": [
      "/tmp/ipykernel_8229/2184178469.py:98: DeprecationWarning: distutils Version classes are deprecated. Use packaging.version instead.\n",
      "  weak_ft=T.tempopulsar('Perfect_Model.par','iteration_sub.tim')\n"
     ]
    },
    {
     "name": "stdout",
     "output_type": "stream",
     "text": [
      "spr************************************************* \n",
      "Warning: you are running in tempo1 emulation mode \n",
      "************************************************* \n",
      "\n"
     ]
    },
    {
     "name": "stderr",
     "output_type": "stream",
     "text": [
      "/tmp/ipykernel_8229/2184178469.py:98: DeprecationWarning: distutils Version classes are deprecated. Use packaging.version instead.\n",
      "  weak_ft=T.tempopulsar('Perfect_Model.par','iteration_sub.tim')\n"
     ]
    },
    {
     "name": "stdout",
     "output_type": "stream",
     "text": [
      "************************************************* \n",
      "Warning: you are running in tempo1 emulation mode \n",
      "************************************************* \n",
      "spr\n"
     ]
    },
    {
     "name": "stderr",
     "output_type": "stream",
     "text": [
      "/tmp/ipykernel_8229/2184178469.py:98: DeprecationWarning: distutils Version classes are deprecated. Use packaging.version instead.\n",
      "  weak_ft=T.tempopulsar('Perfect_Model.par','iteration_sub.tim')\n"
     ]
    },
    {
     "name": "stdout",
     "output_type": "stream",
     "text": [
      "spr************************************************* \n",
      "Warning: you are running in tempo1 emulation mode \n",
      "************************************************* \n",
      "\n"
     ]
    },
    {
     "name": "stderr",
     "output_type": "stream",
     "text": [
      "/tmp/ipykernel_8229/2184178469.py:98: DeprecationWarning: distutils Version classes are deprecated. Use packaging.version instead.\n",
      "  weak_ft=T.tempopulsar('Perfect_Model.par','iteration_sub.tim')\n"
     ]
    },
    {
     "name": "stdout",
     "output_type": "stream",
     "text": [
      "************************************************* \n",
      "Warning: you are running in tempo1 emulation mode \n",
      "************************************************* \n",
      "spr\n",
      "iteration: 1\n",
      "************************************************* \n",
      "Warning: you are running in tempo1 emulation mode \n",
      "************************************************* \n",
      "************************************************* \n",
      "Warning: you are running in tempo1 emulation mode \n",
      "************************************************* \n"
     ]
    },
    {
     "name": "stderr",
     "output_type": "stream",
     "text": [
      "/tmp/ipykernel_8229/2184178469.py:98: DeprecationWarning: distutils Version classes are deprecated. Use packaging.version instead.\n",
      "  weak_ft=T.tempopulsar('Perfect_Model.par','iteration_sub.tim')\n"
     ]
    },
    {
     "name": "stdout",
     "output_type": "stream",
     "text": [
      "spr************************************************* \n",
      "Warning: you are running in tempo1 emulation mode \n",
      "************************************************* \n",
      "\n"
     ]
    },
    {
     "name": "stderr",
     "output_type": "stream",
     "text": [
      "/tmp/ipykernel_8229/2184178469.py:98: DeprecationWarning: distutils Version classes are deprecated. Use packaging.version instead.\n",
      "  weak_ft=T.tempopulsar('Perfect_Model.par','iteration_sub.tim')\n"
     ]
    },
    {
     "name": "stdout",
     "output_type": "stream",
     "text": [
      "spr************************************************* \n",
      "Warning: you are running in tempo1 emulation mode \n",
      "************************************************* \n",
      "\n"
     ]
    },
    {
     "name": "stderr",
     "output_type": "stream",
     "text": [
      "/tmp/ipykernel_8229/2184178469.py:98: DeprecationWarning: distutils Version classes are deprecated. Use packaging.version instead.\n",
      "  weak_ft=T.tempopulsar('Perfect_Model.par','iteration_sub.tim')\n"
     ]
    },
    {
     "name": "stdout",
     "output_type": "stream",
     "text": [
      "spr************************************************* \n",
      "Warning: you are running in tempo1 emulation mode \n",
      "************************************************* \n",
      "\n"
     ]
    },
    {
     "name": "stderr",
     "output_type": "stream",
     "text": [
      "/tmp/ipykernel_8229/2184178469.py:98: DeprecationWarning: distutils Version classes are deprecated. Use packaging.version instead.\n",
      "  weak_ft=T.tempopulsar('Perfect_Model.par','iteration_sub.tim')\n"
     ]
    },
    {
     "name": "stdout",
     "output_type": "stream",
     "text": [
      "spr************************************************* \n",
      "Warning: you are running in tempo1 emulation mode \n",
      "************************************************* \n",
      "\n"
     ]
    },
    {
     "name": "stderr",
     "output_type": "stream",
     "text": [
      "/tmp/ipykernel_8229/2184178469.py:98: DeprecationWarning: distutils Version classes are deprecated. Use packaging.version instead.\n",
      "  weak_ft=T.tempopulsar('Perfect_Model.par','iteration_sub.tim')\n"
     ]
    },
    {
     "name": "stdout",
     "output_type": "stream",
     "text": [
      "spr************************************************* \n",
      "Warning: you are running in tempo1 emulation mode \n",
      "************************************************* \n",
      "\n"
     ]
    },
    {
     "name": "stderr",
     "output_type": "stream",
     "text": [
      "/tmp/ipykernel_8229/2184178469.py:98: DeprecationWarning: distutils Version classes are deprecated. Use packaging.version instead.\n",
      "  weak_ft=T.tempopulsar('Perfect_Model.par','iteration_sub.tim')\n"
     ]
    },
    {
     "name": "stdout",
     "output_type": "stream",
     "text": [
      "spr************************************************* \n",
      "Warning: you are running in tempo1 emulation mode \n",
      "************************************************* \n",
      "\n"
     ]
    },
    {
     "name": "stderr",
     "output_type": "stream",
     "text": [
      "/tmp/ipykernel_8229/2184178469.py:98: DeprecationWarning: distutils Version classes are deprecated. Use packaging.version instead.\n",
      "  weak_ft=T.tempopulsar('Perfect_Model.par','iteration_sub.tim')\n"
     ]
    },
    {
     "name": "stdout",
     "output_type": "stream",
     "text": [
      "spr************************************************* \n",
      "Warning: you are running in tempo1 emulation mode \n",
      "************************************************* \n",
      "\n"
     ]
    },
    {
     "name": "stderr",
     "output_type": "stream",
     "text": [
      "/tmp/ipykernel_8229/2184178469.py:98: DeprecationWarning: distutils Version classes are deprecated. Use packaging.version instead.\n",
      "  weak_ft=T.tempopulsar('Perfect_Model.par','iteration_sub.tim')\n"
     ]
    },
    {
     "name": "stdout",
     "output_type": "stream",
     "text": [
      "spr************************************************* \n",
      "Warning: you are running in tempo1 emulation mode \n",
      "************************************************* \n",
      "\n"
     ]
    },
    {
     "name": "stderr",
     "output_type": "stream",
     "text": [
      "/tmp/ipykernel_8229/2184178469.py:98: DeprecationWarning: distutils Version classes are deprecated. Use packaging.version instead.\n",
      "  weak_ft=T.tempopulsar('Perfect_Model.par','iteration_sub.tim')\n"
     ]
    },
    {
     "name": "stdout",
     "output_type": "stream",
     "text": [
      "spr************************************************* \n",
      "Warning: you are running in tempo1 emulation mode \n",
      "************************************************* \n",
      "\n"
     ]
    },
    {
     "name": "stderr",
     "output_type": "stream",
     "text": [
      "/tmp/ipykernel_8229/2184178469.py:98: DeprecationWarning: distutils Version classes are deprecated. Use packaging.version instead.\n",
      "  weak_ft=T.tempopulsar('Perfect_Model.par','iteration_sub.tim')\n"
     ]
    },
    {
     "name": "stdout",
     "output_type": "stream",
     "text": [
      "spr************************************************* \n",
      "Warning: you are running in tempo1 emulation mode \n",
      "************************************************* \n",
      "\n",
      "iteration: 2\n",
      "************************************************* \n",
      "Warning: you are running in tempo1 emulation mode \n",
      "************************************************* \n",
      "************************************************* \n",
      "Warning: you are running in tempo1 emulation mode \n",
      "************************************************* \n"
     ]
    },
    {
     "name": "stderr",
     "output_type": "stream",
     "text": [
      "/tmp/ipykernel_8229/2184178469.py:98: DeprecationWarning: distutils Version classes are deprecated. Use packaging.version instead.\n",
      "  weak_ft=T.tempopulsar('Perfect_Model.par','iteration_sub.tim')\n"
     ]
    },
    {
     "name": "stdout",
     "output_type": "stream",
     "text": [
      "************************************************* \n",
      "Warning: you are running in tempo1 emulation mode \n",
      "************************************************* \n",
      "spr\n"
     ]
    },
    {
     "name": "stderr",
     "output_type": "stream",
     "text": [
      "/tmp/ipykernel_8229/2184178469.py:98: DeprecationWarning: distutils Version classes are deprecated. Use packaging.version instead.\n",
      "  weak_ft=T.tempopulsar('Perfect_Model.par','iteration_sub.tim')\n"
     ]
    },
    {
     "name": "stdout",
     "output_type": "stream",
     "text": [
      "spr************************************************* \n",
      "Warning: you are running in tempo1 emulation mode \n",
      "************************************************* \n",
      "\n"
     ]
    },
    {
     "name": "stderr",
     "output_type": "stream",
     "text": [
      "/tmp/ipykernel_8229/2184178469.py:98: DeprecationWarning: distutils Version classes are deprecated. Use packaging.version instead.\n",
      "  weak_ft=T.tempopulsar('Perfect_Model.par','iteration_sub.tim')\n"
     ]
    },
    {
     "name": "stdout",
     "output_type": "stream",
     "text": [
      "spr************************************************* \n",
      "Warning: you are running in tempo1 emulation mode \n",
      "************************************************* \n",
      "\n"
     ]
    },
    {
     "name": "stderr",
     "output_type": "stream",
     "text": [
      "/tmp/ipykernel_8229/2184178469.py:98: DeprecationWarning: distutils Version classes are deprecated. Use packaging.version instead.\n",
      "  weak_ft=T.tempopulsar('Perfect_Model.par','iteration_sub.tim')\n"
     ]
    },
    {
     "name": "stdout",
     "output_type": "stream",
     "text": [
      "spr************************************************* \n",
      "Warning: you are running in tempo1 emulation mode \n",
      "************************************************* \n",
      "\n"
     ]
    },
    {
     "name": "stderr",
     "output_type": "stream",
     "text": [
      "/tmp/ipykernel_8229/2184178469.py:98: DeprecationWarning: distutils Version classes are deprecated. Use packaging.version instead.\n",
      "  weak_ft=T.tempopulsar('Perfect_Model.par','iteration_sub.tim')\n"
     ]
    },
    {
     "name": "stdout",
     "output_type": "stream",
     "text": [
      "spr************************************************* \n",
      "Warning: you are running in tempo1 emulation mode \n",
      "************************************************* \n",
      "\n"
     ]
    },
    {
     "name": "stderr",
     "output_type": "stream",
     "text": [
      "/tmp/ipykernel_8229/2184178469.py:98: DeprecationWarning: distutils Version classes are deprecated. Use packaging.version instead.\n",
      "  weak_ft=T.tempopulsar('Perfect_Model.par','iteration_sub.tim')\n"
     ]
    },
    {
     "name": "stdout",
     "output_type": "stream",
     "text": [
      "spr\n",
      "************************************************* \n",
      "Warning: you are running in tempo1 emulation mode \n",
      "************************************************* \n"
     ]
    },
    {
     "name": "stderr",
     "output_type": "stream",
     "text": [
      "/tmp/ipykernel_8229/2184178469.py:98: DeprecationWarning: distutils Version classes are deprecated. Use packaging.version instead.\n",
      "  weak_ft=T.tempopulsar('Perfect_Model.par','iteration_sub.tim')\n"
     ]
    },
    {
     "name": "stdout",
     "output_type": "stream",
     "text": [
      "************************************************* \n",
      "Warning: you are running in tempo1 emulation mode \n",
      "************************************************* \n",
      "spr\n"
     ]
    },
    {
     "name": "stderr",
     "output_type": "stream",
     "text": [
      "/tmp/ipykernel_8229/2184178469.py:98: DeprecationWarning: distutils Version classes are deprecated. Use packaging.version instead.\n",
      "  weak_ft=T.tempopulsar('Perfect_Model.par','iteration_sub.tim')\n"
     ]
    },
    {
     "name": "stdout",
     "output_type": "stream",
     "text": [
      "************************************************* \n",
      "Warning: you are running in tempo1 emulation mode \n",
      "************************************************* \n",
      "spr\n"
     ]
    },
    {
     "name": "stderr",
     "output_type": "stream",
     "text": [
      "/tmp/ipykernel_8229/2184178469.py:98: DeprecationWarning: distutils Version classes are deprecated. Use packaging.version instead.\n",
      "  weak_ft=T.tempopulsar('Perfect_Model.par','iteration_sub.tim')\n"
     ]
    },
    {
     "name": "stdout",
     "output_type": "stream",
     "text": [
      "spr************************************************* \n",
      "Warning: you are running in tempo1 emulation mode \n",
      "************************************************* \n",
      "\n"
     ]
    },
    {
     "name": "stderr",
     "output_type": "stream",
     "text": [
      "/tmp/ipykernel_8229/2184178469.py:98: DeprecationWarning: distutils Version classes are deprecated. Use packaging.version instead.\n",
      "  weak_ft=T.tempopulsar('Perfect_Model.par','iteration_sub.tim')\n"
     ]
    },
    {
     "name": "stdout",
     "output_type": "stream",
     "text": [
      "spr************************************************* \n",
      "Warning: you are running in tempo1 emulation mode \n",
      "************************************************* \n",
      "\n",
      "iteration: 3\n",
      "************************************************* \n",
      "Warning: you are running in tempo1 emulation mode \n",
      "************************************************* \n",
      "************************************************* \n",
      "Warning: you are running in tempo1 emulation mode \n",
      "************************************************* \n"
     ]
    },
    {
     "name": "stderr",
     "output_type": "stream",
     "text": [
      "/tmp/ipykernel_8229/2184178469.py:98: DeprecationWarning: distutils Version classes are deprecated. Use packaging.version instead.\n",
      "  weak_ft=T.tempopulsar('Perfect_Model.par','iteration_sub.tim')\n"
     ]
    },
    {
     "name": "stdout",
     "output_type": "stream",
     "text": [
      "spr************************************************* \n",
      "Warning: you are running in tempo1 emulation mode \n",
      "************************************************* \n",
      "\n"
     ]
    },
    {
     "name": "stderr",
     "output_type": "stream",
     "text": [
      "/tmp/ipykernel_8229/2184178469.py:98: DeprecationWarning: distutils Version classes are deprecated. Use packaging.version instead.\n",
      "  weak_ft=T.tempopulsar('Perfect_Model.par','iteration_sub.tim')\n"
     ]
    },
    {
     "name": "stdout",
     "output_type": "stream",
     "text": [
      "spr************************************************* \n",
      "Warning: you are running in tempo1 emulation mode \n",
      "************************************************* \n",
      "\n"
     ]
    },
    {
     "name": "stderr",
     "output_type": "stream",
     "text": [
      "/tmp/ipykernel_8229/2184178469.py:98: DeprecationWarning: distutils Version classes are deprecated. Use packaging.version instead.\n",
      "  weak_ft=T.tempopulsar('Perfect_Model.par','iteration_sub.tim')\n"
     ]
    },
    {
     "name": "stdout",
     "output_type": "stream",
     "text": [
      "************************************************* \n",
      "Warning: you are running in tempo1 emulation mode \n",
      "************************************************* \n",
      "spr\n"
     ]
    },
    {
     "name": "stderr",
     "output_type": "stream",
     "text": [
      "/tmp/ipykernel_8229/2184178469.py:98: DeprecationWarning: distutils Version classes are deprecated. Use packaging.version instead.\n",
      "  weak_ft=T.tempopulsar('Perfect_Model.par','iteration_sub.tim')\n"
     ]
    },
    {
     "name": "stdout",
     "output_type": "stream",
     "text": [
      "spr\n",
      "************************************************* \n",
      "Warning: you are running in tempo1 emulation mode \n",
      "************************************************* \n"
     ]
    },
    {
     "name": "stderr",
     "output_type": "stream",
     "text": [
      "/tmp/ipykernel_8229/2184178469.py:98: DeprecationWarning: distutils Version classes are deprecated. Use packaging.version instead.\n",
      "  weak_ft=T.tempopulsar('Perfect_Model.par','iteration_sub.tim')\n"
     ]
    },
    {
     "name": "stdout",
     "output_type": "stream",
     "text": [
      "spr************************************************* \n",
      "Warning: you are running in tempo1 emulation mode \n",
      "************************************************* \n",
      "\n"
     ]
    },
    {
     "name": "stderr",
     "output_type": "stream",
     "text": [
      "/tmp/ipykernel_8229/2184178469.py:98: DeprecationWarning: distutils Version classes are deprecated. Use packaging.version instead.\n",
      "  weak_ft=T.tempopulsar('Perfect_Model.par','iteration_sub.tim')\n"
     ]
    },
    {
     "name": "stdout",
     "output_type": "stream",
     "text": [
      "spr\n",
      "************************************************* \n",
      "Warning: you are running in tempo1 emulation mode \n",
      "************************************************* \n"
     ]
    },
    {
     "name": "stderr",
     "output_type": "stream",
     "text": [
      "/tmp/ipykernel_8229/2184178469.py:98: DeprecationWarning: distutils Version classes are deprecated. Use packaging.version instead.\n",
      "  weak_ft=T.tempopulsar('Perfect_Model.par','iteration_sub.tim')\n"
     ]
    },
    {
     "name": "stdout",
     "output_type": "stream",
     "text": [
      "************************************************* \n",
      "Warning: you are running in tempo1 emulation mode \n",
      "************************************************* \n",
      "spr\n"
     ]
    },
    {
     "name": "stderr",
     "output_type": "stream",
     "text": [
      "/tmp/ipykernel_8229/2184178469.py:98: DeprecationWarning: distutils Version classes are deprecated. Use packaging.version instead.\n",
      "  weak_ft=T.tempopulsar('Perfect_Model.par','iteration_sub.tim')\n"
     ]
    },
    {
     "name": "stdout",
     "output_type": "stream",
     "text": [
      "************************************************* \n",
      "Warning: you are running in tempo1 emulation mode \n",
      "************************************************* \n",
      "spr\n"
     ]
    },
    {
     "name": "stderr",
     "output_type": "stream",
     "text": [
      "/tmp/ipykernel_8229/2184178469.py:98: DeprecationWarning: distutils Version classes are deprecated. Use packaging.version instead.\n",
      "  weak_ft=T.tempopulsar('Perfect_Model.par','iteration_sub.tim')\n"
     ]
    },
    {
     "name": "stdout",
     "output_type": "stream",
     "text": [
      "************************************************* \n",
      "Warning: you are running in tempo1 emulation mode \n",
      "************************************************* \n",
      "spr\n"
     ]
    },
    {
     "name": "stderr",
     "output_type": "stream",
     "text": [
      "/tmp/ipykernel_8229/2184178469.py:98: DeprecationWarning: distutils Version classes are deprecated. Use packaging.version instead.\n",
      "  weak_ft=T.tempopulsar('Perfect_Model.par','iteration_sub.tim')\n"
     ]
    },
    {
     "name": "stdout",
     "output_type": "stream",
     "text": [
      "spr\n",
      "************************************************* \n",
      "Warning: you are running in tempo1 emulation mode \n",
      "************************************************* \n",
      "iteration: 4\n",
      "************************************************* \n",
      "Warning: you are running in tempo1 emulation mode \n",
      "************************************************* \n",
      "************************************************* \n",
      "Warning: you are running in tempo1 emulation mode \n",
      "************************************************* \n"
     ]
    },
    {
     "name": "stderr",
     "output_type": "stream",
     "text": [
      "/tmp/ipykernel_8229/2184178469.py:98: DeprecationWarning: distutils Version classes are deprecated. Use packaging.version instead.\n",
      "  weak_ft=T.tempopulsar('Perfect_Model.par','iteration_sub.tim')\n"
     ]
    },
    {
     "name": "stdout",
     "output_type": "stream",
     "text": [
      "************************************************* \n",
      "Warning: you are running in tempo1 emulation mode \n",
      "************************************************* \n",
      "spr\n"
     ]
    },
    {
     "name": "stderr",
     "output_type": "stream",
     "text": [
      "/tmp/ipykernel_8229/2184178469.py:98: DeprecationWarning: distutils Version classes are deprecated. Use packaging.version instead.\n",
      "  weak_ft=T.tempopulsar('Perfect_Model.par','iteration_sub.tim')\n"
     ]
    },
    {
     "name": "stdout",
     "output_type": "stream",
     "text": [
      "************************************************* \n",
      "Warning: you are running in tempo1 emulation mode \n",
      "************************************************* \n",
      "spr\n"
     ]
    },
    {
     "name": "stderr",
     "output_type": "stream",
     "text": [
      "/tmp/ipykernel_8229/2184178469.py:98: DeprecationWarning: distutils Version classes are deprecated. Use packaging.version instead.\n",
      "  weak_ft=T.tempopulsar('Perfect_Model.par','iteration_sub.tim')\n"
     ]
    },
    {
     "name": "stdout",
     "output_type": "stream",
     "text": [
      "spr************************************************* \n",
      "Warning: you are running in tempo1 emulation mode \n",
      "************************************************* \n",
      "\n"
     ]
    },
    {
     "name": "stderr",
     "output_type": "stream",
     "text": [
      "/tmp/ipykernel_8229/2184178469.py:98: DeprecationWarning: distutils Version classes are deprecated. Use packaging.version instead.\n",
      "  weak_ft=T.tempopulsar('Perfect_Model.par','iteration_sub.tim')\n"
     ]
    },
    {
     "name": "stdout",
     "output_type": "stream",
     "text": [
      "spr************************************************* \n",
      "Warning: you are running in tempo1 emulation mode \n",
      "************************************************* \n",
      "\n"
     ]
    },
    {
     "name": "stderr",
     "output_type": "stream",
     "text": [
      "/tmp/ipykernel_8229/2184178469.py:98: DeprecationWarning: distutils Version classes are deprecated. Use packaging.version instead.\n",
      "  weak_ft=T.tempopulsar('Perfect_Model.par','iteration_sub.tim')\n"
     ]
    },
    {
     "name": "stdout",
     "output_type": "stream",
     "text": [
      "spr************************************************* \n",
      "Warning: you are running in tempo1 emulation mode \n",
      "************************************************* \n",
      "\n"
     ]
    },
    {
     "name": "stderr",
     "output_type": "stream",
     "text": [
      "/tmp/ipykernel_8229/2184178469.py:98: DeprecationWarning: distutils Version classes are deprecated. Use packaging.version instead.\n",
      "  weak_ft=T.tempopulsar('Perfect_Model.par','iteration_sub.tim')\n"
     ]
    },
    {
     "name": "stdout",
     "output_type": "stream",
     "text": [
      "************************************************* \n",
      "Warning: you are running in tempo1 emulation mode \n",
      "************************************************* \n",
      "spr\n"
     ]
    },
    {
     "name": "stderr",
     "output_type": "stream",
     "text": [
      "/tmp/ipykernel_8229/2184178469.py:98: DeprecationWarning: distutils Version classes are deprecated. Use packaging.version instead.\n",
      "  weak_ft=T.tempopulsar('Perfect_Model.par','iteration_sub.tim')\n"
     ]
    },
    {
     "name": "stdout",
     "output_type": "stream",
     "text": [
      "************************************************* \n",
      "Warning: you are running in tempo1 emulation mode \n",
      "************************************************* \n",
      "spr\n"
     ]
    },
    {
     "name": "stderr",
     "output_type": "stream",
     "text": [
      "/tmp/ipykernel_8229/2184178469.py:98: DeprecationWarning: distutils Version classes are deprecated. Use packaging.version instead.\n",
      "  weak_ft=T.tempopulsar('Perfect_Model.par','iteration_sub.tim')\n"
     ]
    },
    {
     "name": "stdout",
     "output_type": "stream",
     "text": [
      "************************************************* \n",
      "Warning: you are running in tempo1 emulation mode \n",
      "************************************************* \n",
      "spr\n"
     ]
    },
    {
     "name": "stderr",
     "output_type": "stream",
     "text": [
      "/tmp/ipykernel_8229/2184178469.py:98: DeprecationWarning: distutils Version classes are deprecated. Use packaging.version instead.\n",
      "  weak_ft=T.tempopulsar('Perfect_Model.par','iteration_sub.tim')\n"
     ]
    },
    {
     "name": "stdout",
     "output_type": "stream",
     "text": [
      "************************************************* \n",
      "Warning: you are running in tempo1 emulation mode \n",
      "************************************************* \n",
      "spr\n"
     ]
    },
    {
     "name": "stderr",
     "output_type": "stream",
     "text": [
      "/tmp/ipykernel_8229/2184178469.py:98: DeprecationWarning: distutils Version classes are deprecated. Use packaging.version instead.\n",
      "  weak_ft=T.tempopulsar('Perfect_Model.par','iteration_sub.tim')\n"
     ]
    },
    {
     "name": "stdout",
     "output_type": "stream",
     "text": [
      "spr************************************************* \n",
      "Warning: you are running in tempo1 emulation mode \n",
      "************************************************* \n",
      "\n",
      "iteration: 5\n",
      "************************************************* \n",
      "Warning: you are running in tempo1 emulation mode \n",
      "************************************************* \n",
      "************************************************* \n",
      "Warning: you are running in tempo1 emulation mode \n",
      "************************************************* \n"
     ]
    },
    {
     "name": "stderr",
     "output_type": "stream",
     "text": [
      "/tmp/ipykernel_8229/2184178469.py:98: DeprecationWarning: distutils Version classes are deprecated. Use packaging.version instead.\n",
      "  weak_ft=T.tempopulsar('Perfect_Model.par','iteration_sub.tim')\n"
     ]
    },
    {
     "name": "stdout",
     "output_type": "stream",
     "text": [
      "spr************************************************* \n",
      "Warning: you are running in tempo1 emulation mode \n",
      "************************************************* \n",
      "\n"
     ]
    },
    {
     "name": "stderr",
     "output_type": "stream",
     "text": [
      "/tmp/ipykernel_8229/2184178469.py:98: DeprecationWarning: distutils Version classes are deprecated. Use packaging.version instead.\n",
      "  weak_ft=T.tempopulsar('Perfect_Model.par','iteration_sub.tim')\n"
     ]
    },
    {
     "name": "stdout",
     "output_type": "stream",
     "text": [
      "************************************************* \n",
      "Warning: you are running in tempo1 emulation mode \n",
      "************************************************* \n",
      "spr\n"
     ]
    },
    {
     "name": "stderr",
     "output_type": "stream",
     "text": [
      "/tmp/ipykernel_8229/2184178469.py:98: DeprecationWarning: distutils Version classes are deprecated. Use packaging.version instead.\n",
      "  weak_ft=T.tempopulsar('Perfect_Model.par','iteration_sub.tim')\n"
     ]
    },
    {
     "name": "stdout",
     "output_type": "stream",
     "text": [
      "spr************************************************* \n",
      "Warning: you are running in tempo1 emulation mode \n",
      "************************************************* \n",
      "\n"
     ]
    },
    {
     "name": "stderr",
     "output_type": "stream",
     "text": [
      "/tmp/ipykernel_8229/2184178469.py:98: DeprecationWarning: distutils Version classes are deprecated. Use packaging.version instead.\n",
      "  weak_ft=T.tempopulsar('Perfect_Model.par','iteration_sub.tim')\n"
     ]
    },
    {
     "name": "stdout",
     "output_type": "stream",
     "text": [
      "spr************************************************* \n",
      "Warning: you are running in tempo1 emulation mode \n",
      "************************************************* \n",
      "\n"
     ]
    },
    {
     "name": "stderr",
     "output_type": "stream",
     "text": [
      "/tmp/ipykernel_8229/2184178469.py:98: DeprecationWarning: distutils Version classes are deprecated. Use packaging.version instead.\n",
      "  weak_ft=T.tempopulsar('Perfect_Model.par','iteration_sub.tim')\n"
     ]
    },
    {
     "name": "stdout",
     "output_type": "stream",
     "text": [
      "************************************************* \n",
      "Warning: you are running in tempo1 emulation mode \n",
      "************************************************* \n",
      "spr\n"
     ]
    },
    {
     "name": "stderr",
     "output_type": "stream",
     "text": [
      "/tmp/ipykernel_8229/2184178469.py:98: DeprecationWarning: distutils Version classes are deprecated. Use packaging.version instead.\n",
      "  weak_ft=T.tempopulsar('Perfect_Model.par','iteration_sub.tim')\n"
     ]
    },
    {
     "name": "stdout",
     "output_type": "stream",
     "text": [
      "spr************************************************* \n",
      "Warning: you are running in tempo1 emulation mode \n",
      "************************************************* \n",
      "\n"
     ]
    },
    {
     "name": "stderr",
     "output_type": "stream",
     "text": [
      "/tmp/ipykernel_8229/2184178469.py:98: DeprecationWarning: distutils Version classes are deprecated. Use packaging.version instead.\n",
      "  weak_ft=T.tempopulsar('Perfect_Model.par','iteration_sub.tim')\n"
     ]
    },
    {
     "name": "stdout",
     "output_type": "stream",
     "text": [
      "spr************************************************* \n",
      "Warning: you are running in tempo1 emulation mode \n",
      "************************************************* \n",
      "\n"
     ]
    },
    {
     "name": "stderr",
     "output_type": "stream",
     "text": [
      "/tmp/ipykernel_8229/2184178469.py:98: DeprecationWarning: distutils Version classes are deprecated. Use packaging.version instead.\n",
      "  weak_ft=T.tempopulsar('Perfect_Model.par','iteration_sub.tim')\n"
     ]
    },
    {
     "name": "stdout",
     "output_type": "stream",
     "text": [
      "spr************************************************* \n",
      "Warning: you are running in tempo1 emulation mode \n",
      "************************************************* \n",
      "\n"
     ]
    },
    {
     "name": "stderr",
     "output_type": "stream",
     "text": [
      "/tmp/ipykernel_8229/2184178469.py:98: DeprecationWarning: distutils Version classes are deprecated. Use packaging.version instead.\n",
      "  weak_ft=T.tempopulsar('Perfect_Model.par','iteration_sub.tim')\n"
     ]
    },
    {
     "name": "stdout",
     "output_type": "stream",
     "text": [
      "spr************************************************* \n",
      "Warning: you are running in tempo1 emulation mode \n",
      "************************************************* \n",
      "\n"
     ]
    },
    {
     "name": "stderr",
     "output_type": "stream",
     "text": [
      "/tmp/ipykernel_8229/2184178469.py:98: DeprecationWarning: distutils Version classes are deprecated. Use packaging.version instead.\n",
      "  weak_ft=T.tempopulsar('Perfect_Model.par','iteration_sub.tim')\n"
     ]
    },
    {
     "name": "stdout",
     "output_type": "stream",
     "text": [
      "spr************************************************* \n",
      "Warning: you are running in tempo1 emulation mode \n",
      "************************************************* \n",
      "\n",
      "iteration: 6\n",
      "************************************************* \n",
      "Warning: you are running in tempo1 emulation mode \n",
      "************************************************* \n",
      "************************************************* \n",
      "Warning: you are running in tempo1 emulation mode \n",
      "************************************************* \n"
     ]
    },
    {
     "name": "stderr",
     "output_type": "stream",
     "text": [
      "/tmp/ipykernel_8229/2184178469.py:98: DeprecationWarning: distutils Version classes are deprecated. Use packaging.version instead.\n",
      "  weak_ft=T.tempopulsar('Perfect_Model.par','iteration_sub.tim')\n"
     ]
    },
    {
     "name": "stdout",
     "output_type": "stream",
     "text": [
      "************************************************* \n",
      "Warning: you are running in tempo1 emulation mode \n",
      "************************************************* \n",
      "spr\n"
     ]
    },
    {
     "name": "stderr",
     "output_type": "stream",
     "text": [
      "/tmp/ipykernel_8229/2184178469.py:98: DeprecationWarning: distutils Version classes are deprecated. Use packaging.version instead.\n",
      "  weak_ft=T.tempopulsar('Perfect_Model.par','iteration_sub.tim')\n"
     ]
    },
    {
     "name": "stdout",
     "output_type": "stream",
     "text": [
      "spr************************************************* \n",
      "Warning: you are running in tempo1 emulation mode \n",
      "************************************************* \n",
      "\n"
     ]
    },
    {
     "name": "stderr",
     "output_type": "stream",
     "text": [
      "/tmp/ipykernel_8229/2184178469.py:98: DeprecationWarning: distutils Version classes are deprecated. Use packaging.version instead.\n",
      "  weak_ft=T.tempopulsar('Perfect_Model.par','iteration_sub.tim')\n"
     ]
    },
    {
     "name": "stdout",
     "output_type": "stream",
     "text": [
      "************************************************* \n",
      "Warning: you are running in tempo1 emulation mode \n",
      "************************************************* \n",
      "spr\n"
     ]
    },
    {
     "name": "stderr",
     "output_type": "stream",
     "text": [
      "/tmp/ipykernel_8229/2184178469.py:98: DeprecationWarning: distutils Version classes are deprecated. Use packaging.version instead.\n",
      "  weak_ft=T.tempopulsar('Perfect_Model.par','iteration_sub.tim')\n"
     ]
    },
    {
     "name": "stdout",
     "output_type": "stream",
     "text": [
      "************************************************* \n",
      "Warning: you are running in tempo1 emulation mode \n",
      "************************************************* \n",
      "spr\n"
     ]
    },
    {
     "name": "stderr",
     "output_type": "stream",
     "text": [
      "/tmp/ipykernel_8229/2184178469.py:98: DeprecationWarning: distutils Version classes are deprecated. Use packaging.version instead.\n",
      "  weak_ft=T.tempopulsar('Perfect_Model.par','iteration_sub.tim')\n"
     ]
    },
    {
     "name": "stdout",
     "output_type": "stream",
     "text": [
      "************************************************* \n",
      "Warning: you are running in tempo1 emulation mode \n",
      "************************************************* \n",
      "spr\n"
     ]
    },
    {
     "name": "stderr",
     "output_type": "stream",
     "text": [
      "/tmp/ipykernel_8229/2184178469.py:98: DeprecationWarning: distutils Version classes are deprecated. Use packaging.version instead.\n",
      "  weak_ft=T.tempopulsar('Perfect_Model.par','iteration_sub.tim')\n"
     ]
    },
    {
     "name": "stdout",
     "output_type": "stream",
     "text": [
      "************************************************* \n",
      "Warning: you are running in tempo1 emulation mode \n",
      "************************************************* \n",
      "spr\n"
     ]
    },
    {
     "name": "stderr",
     "output_type": "stream",
     "text": [
      "/tmp/ipykernel_8229/2184178469.py:98: DeprecationWarning: distutils Version classes are deprecated. Use packaging.version instead.\n",
      "  weak_ft=T.tempopulsar('Perfect_Model.par','iteration_sub.tim')\n"
     ]
    },
    {
     "name": "stdout",
     "output_type": "stream",
     "text": [
      "spr************************************************* \n",
      "Warning: you are running in tempo1 emulation mode \n",
      "************************************************* \n",
      "\n"
     ]
    },
    {
     "name": "stderr",
     "output_type": "stream",
     "text": [
      "/tmp/ipykernel_8229/2184178469.py:98: DeprecationWarning: distutils Version classes are deprecated. Use packaging.version instead.\n",
      "  weak_ft=T.tempopulsar('Perfect_Model.par','iteration_sub.tim')\n"
     ]
    },
    {
     "name": "stdout",
     "output_type": "stream",
     "text": [
      "spr************************************************* \n",
      "Warning: you are running in tempo1 emulation mode \n",
      "************************************************* \n",
      "\n"
     ]
    },
    {
     "name": "stderr",
     "output_type": "stream",
     "text": [
      "/tmp/ipykernel_8229/2184178469.py:98: DeprecationWarning: distutils Version classes are deprecated. Use packaging.version instead.\n",
      "  weak_ft=T.tempopulsar('Perfect_Model.par','iteration_sub.tim')\n"
     ]
    },
    {
     "name": "stdout",
     "output_type": "stream",
     "text": [
      "************************************************* \n",
      "Warning: you are running in tempo1 emulation mode \n",
      "************************************************* \n",
      "spr\n"
     ]
    },
    {
     "name": "stderr",
     "output_type": "stream",
     "text": [
      "/tmp/ipykernel_8229/2184178469.py:98: DeprecationWarning: distutils Version classes are deprecated. Use packaging.version instead.\n",
      "  weak_ft=T.tempopulsar('Perfect_Model.par','iteration_sub.tim')\n"
     ]
    },
    {
     "name": "stdout",
     "output_type": "stream",
     "text": [
      "spr\n",
      "iteration: 7\n",
      "************************************************* \n",
      "Warning: you are running in tempo1 emulation mode \n",
      "************************************************* \n",
      "************************************************* \n",
      "Warning: you are running in tempo1 emulation mode \n",
      "************************************************* \n",
      "************************************************* \n",
      "Warning: you are running in tempo1 emulation mode \n",
      "************************************************* \n"
     ]
    },
    {
     "name": "stderr",
     "output_type": "stream",
     "text": [
      "/tmp/ipykernel_8229/2184178469.py:98: DeprecationWarning: distutils Version classes are deprecated. Use packaging.version instead.\n",
      "  weak_ft=T.tempopulsar('Perfect_Model.par','iteration_sub.tim')\n"
     ]
    },
    {
     "name": "stdout",
     "output_type": "stream",
     "text": [
      "************************************************* \n",
      "Warning: you are running in tempo1 emulation mode \n",
      "************************************************* \n",
      "spr\n"
     ]
    },
    {
     "name": "stderr",
     "output_type": "stream",
     "text": [
      "/tmp/ipykernel_8229/2184178469.py:98: DeprecationWarning: distutils Version classes are deprecated. Use packaging.version instead.\n",
      "  weak_ft=T.tempopulsar('Perfect_Model.par','iteration_sub.tim')\n"
     ]
    },
    {
     "name": "stdout",
     "output_type": "stream",
     "text": [
      "spr************************************************* \n",
      "Warning: you are running in tempo1 emulation mode \n",
      "************************************************* \n",
      "\n"
     ]
    },
    {
     "name": "stderr",
     "output_type": "stream",
     "text": [
      "/tmp/ipykernel_8229/2184178469.py:98: DeprecationWarning: distutils Version classes are deprecated. Use packaging.version instead.\n",
      "  weak_ft=T.tempopulsar('Perfect_Model.par','iteration_sub.tim')\n"
     ]
    },
    {
     "name": "stdout",
     "output_type": "stream",
     "text": [
      "spr\n",
      "************************************************* \n",
      "Warning: you are running in tempo1 emulation mode \n",
      "************************************************* \n"
     ]
    },
    {
     "name": "stderr",
     "output_type": "stream",
     "text": [
      "/tmp/ipykernel_8229/2184178469.py:98: DeprecationWarning: distutils Version classes are deprecated. Use packaging.version instead.\n",
      "  weak_ft=T.tempopulsar('Perfect_Model.par','iteration_sub.tim')\n"
     ]
    },
    {
     "name": "stdout",
     "output_type": "stream",
     "text": [
      "************************************************* \n",
      "Warning: you are running in tempo1 emulation mode \n",
      "************************************************* \n",
      "spr\n"
     ]
    },
    {
     "name": "stderr",
     "output_type": "stream",
     "text": [
      "/tmp/ipykernel_8229/2184178469.py:98: DeprecationWarning: distutils Version classes are deprecated. Use packaging.version instead.\n",
      "  weak_ft=T.tempopulsar('Perfect_Model.par','iteration_sub.tim')\n"
     ]
    },
    {
     "name": "stdout",
     "output_type": "stream",
     "text": [
      "************************************************* \n",
      "Warning: you are running in tempo1 emulation mode \n",
      "************************************************* \n",
      "spr\n"
     ]
    },
    {
     "name": "stderr",
     "output_type": "stream",
     "text": [
      "/tmp/ipykernel_8229/2184178469.py:98: DeprecationWarning: distutils Version classes are deprecated. Use packaging.version instead.\n",
      "  weak_ft=T.tempopulsar('Perfect_Model.par','iteration_sub.tim')\n"
     ]
    },
    {
     "name": "stdout",
     "output_type": "stream",
     "text": [
      "spr\n",
      "************************************************* \n",
      "Warning: you are running in tempo1 emulation mode \n",
      "************************************************* \n"
     ]
    },
    {
     "name": "stderr",
     "output_type": "stream",
     "text": [
      "/tmp/ipykernel_8229/2184178469.py:98: DeprecationWarning: distutils Version classes are deprecated. Use packaging.version instead.\n",
      "  weak_ft=T.tempopulsar('Perfect_Model.par','iteration_sub.tim')\n"
     ]
    },
    {
     "name": "stdout",
     "output_type": "stream",
     "text": [
      "************************************************* \n",
      "Warning: you are running in tempo1 emulation mode \n",
      "************************************************* \n",
      "spr\n"
     ]
    },
    {
     "name": "stderr",
     "output_type": "stream",
     "text": [
      "/tmp/ipykernel_8229/2184178469.py:98: DeprecationWarning: distutils Version classes are deprecated. Use packaging.version instead.\n",
      "  weak_ft=T.tempopulsar('Perfect_Model.par','iteration_sub.tim')\n"
     ]
    },
    {
     "name": "stdout",
     "output_type": "stream",
     "text": [
      "spr************************************************* \n",
      "Warning: you are running in tempo1 emulation mode \n",
      "************************************************* \n",
      "\n"
     ]
    },
    {
     "name": "stderr",
     "output_type": "stream",
     "text": [
      "/tmp/ipykernel_8229/2184178469.py:98: DeprecationWarning: distutils Version classes are deprecated. Use packaging.version instead.\n",
      "  weak_ft=T.tempopulsar('Perfect_Model.par','iteration_sub.tim')\n"
     ]
    },
    {
     "name": "stdout",
     "output_type": "stream",
     "text": [
      "spr\n",
      "************************************************* \n",
      "Warning: you are running in tempo1 emulation mode \n",
      "************************************************* \n"
     ]
    },
    {
     "name": "stderr",
     "output_type": "stream",
     "text": [
      "/tmp/ipykernel_8229/2184178469.py:98: DeprecationWarning: distutils Version classes are deprecated. Use packaging.version instead.\n",
      "  weak_ft=T.tempopulsar('Perfect_Model.par','iteration_sub.tim')\n"
     ]
    },
    {
     "name": "stdout",
     "output_type": "stream",
     "text": [
      "spr************************************************* \n",
      "Warning: you are running in tempo1 emulation mode \n",
      "************************************************* \n",
      "\n",
      "iteration: 8\n",
      "************************************************* \n",
      "Warning: you are running in tempo1 emulation mode \n",
      "************************************************* \n",
      "************************************************* \n",
      "Warning: you are running in tempo1 emulation mode \n",
      "************************************************* \n"
     ]
    },
    {
     "name": "stderr",
     "output_type": "stream",
     "text": [
      "/tmp/ipykernel_8229/2184178469.py:98: DeprecationWarning: distutils Version classes are deprecated. Use packaging.version instead.\n",
      "  weak_ft=T.tempopulsar('Perfect_Model.par','iteration_sub.tim')\n"
     ]
    },
    {
     "name": "stdout",
     "output_type": "stream",
     "text": [
      "spr************************************************* \n",
      "Warning: you are running in tempo1 emulation mode \n",
      "************************************************* \n",
      "\n"
     ]
    },
    {
     "name": "stderr",
     "output_type": "stream",
     "text": [
      "/tmp/ipykernel_8229/2184178469.py:98: DeprecationWarning: distutils Version classes are deprecated. Use packaging.version instead.\n",
      "  weak_ft=T.tempopulsar('Perfect_Model.par','iteration_sub.tim')\n"
     ]
    },
    {
     "name": "stdout",
     "output_type": "stream",
     "text": [
      "************************************************* \n",
      "Warning: you are running in tempo1 emulation mode \n",
      "************************************************* \n",
      "spr\n"
     ]
    },
    {
     "name": "stderr",
     "output_type": "stream",
     "text": [
      "/tmp/ipykernel_8229/2184178469.py:98: DeprecationWarning: distutils Version classes are deprecated. Use packaging.version instead.\n",
      "  weak_ft=T.tempopulsar('Perfect_Model.par','iteration_sub.tim')\n"
     ]
    },
    {
     "name": "stdout",
     "output_type": "stream",
     "text": [
      "spr************************************************* \n",
      "Warning: you are running in tempo1 emulation mode \n",
      "************************************************* \n",
      "\n"
     ]
    },
    {
     "name": "stderr",
     "output_type": "stream",
     "text": [
      "/tmp/ipykernel_8229/2184178469.py:98: DeprecationWarning: distutils Version classes are deprecated. Use packaging.version instead.\n",
      "  weak_ft=T.tempopulsar('Perfect_Model.par','iteration_sub.tim')\n"
     ]
    },
    {
     "name": "stdout",
     "output_type": "stream",
     "text": [
      "spr************************************************* \n",
      "Warning: you are running in tempo1 emulation mode \n",
      "************************************************* \n",
      "\n"
     ]
    },
    {
     "name": "stderr",
     "output_type": "stream",
     "text": [
      "/tmp/ipykernel_8229/2184178469.py:98: DeprecationWarning: distutils Version classes are deprecated. Use packaging.version instead.\n",
      "  weak_ft=T.tempopulsar('Perfect_Model.par','iteration_sub.tim')\n"
     ]
    },
    {
     "name": "stdout",
     "output_type": "stream",
     "text": [
      "spr************************************************* \n",
      "Warning: you are running in tempo1 emulation mode \n",
      "************************************************* \n",
      "\n"
     ]
    },
    {
     "name": "stderr",
     "output_type": "stream",
     "text": [
      "/tmp/ipykernel_8229/2184178469.py:98: DeprecationWarning: distutils Version classes are deprecated. Use packaging.version instead.\n",
      "  weak_ft=T.tempopulsar('Perfect_Model.par','iteration_sub.tim')\n"
     ]
    },
    {
     "name": "stdout",
     "output_type": "stream",
     "text": [
      "spr************************************************* \n",
      "Warning: you are running in tempo1 emulation mode \n",
      "************************************************* \n",
      "\n"
     ]
    },
    {
     "name": "stderr",
     "output_type": "stream",
     "text": [
      "/tmp/ipykernel_8229/2184178469.py:98: DeprecationWarning: distutils Version classes are deprecated. Use packaging.version instead.\n",
      "  weak_ft=T.tempopulsar('Perfect_Model.par','iteration_sub.tim')\n"
     ]
    },
    {
     "name": "stdout",
     "output_type": "stream",
     "text": [
      "spr************************************************* \n",
      "Warning: you are running in tempo1 emulation mode \n",
      "************************************************* \n",
      "\n"
     ]
    },
    {
     "name": "stderr",
     "output_type": "stream",
     "text": [
      "/tmp/ipykernel_8229/2184178469.py:98: DeprecationWarning: distutils Version classes are deprecated. Use packaging.version instead.\n",
      "  weak_ft=T.tempopulsar('Perfect_Model.par','iteration_sub.tim')\n"
     ]
    },
    {
     "name": "stdout",
     "output_type": "stream",
     "text": [
      "spr************************************************* \n",
      "Warning: you are running in tempo1 emulation mode \n",
      "************************************************* \n",
      "\n"
     ]
    },
    {
     "name": "stderr",
     "output_type": "stream",
     "text": [
      "/tmp/ipykernel_8229/2184178469.py:98: DeprecationWarning: distutils Version classes are deprecated. Use packaging.version instead.\n",
      "  weak_ft=T.tempopulsar('Perfect_Model.par','iteration_sub.tim')\n"
     ]
    },
    {
     "name": "stdout",
     "output_type": "stream",
     "text": [
      "spr************************************************* \n",
      "Warning: you are running in tempo1 emulation mode \n",
      "************************************************* \n",
      "\n"
     ]
    },
    {
     "name": "stderr",
     "output_type": "stream",
     "text": [
      "/tmp/ipykernel_8229/2184178469.py:98: DeprecationWarning: distutils Version classes are deprecated. Use packaging.version instead.\n",
      "  weak_ft=T.tempopulsar('Perfect_Model.par','iteration_sub.tim')\n"
     ]
    },
    {
     "name": "stdout",
     "output_type": "stream",
     "text": [
      "************************************************* \n",
      "Warning: you are running in tempo1 emulation mode \n",
      "************************************************* \n",
      "spr\n",
      "iteration: 9\n",
      "************************************************* \n",
      "Warning: you are running in tempo1 emulation mode \n",
      "************************************************* \n",
      "************************************************* \n",
      "Warning: you are running in tempo1 emulation mode \n",
      "************************************************* \n"
     ]
    },
    {
     "name": "stderr",
     "output_type": "stream",
     "text": [
      "/tmp/ipykernel_8229/2184178469.py:98: DeprecationWarning: distutils Version classes are deprecated. Use packaging.version instead.\n",
      "  weak_ft=T.tempopulsar('Perfect_Model.par','iteration_sub.tim')\n"
     ]
    },
    {
     "name": "stdout",
     "output_type": "stream",
     "text": [
      "spr************************************************* \n",
      "Warning: you are running in tempo1 emulation mode \n",
      "************************************************* \n",
      "\n"
     ]
    },
    {
     "name": "stderr",
     "output_type": "stream",
     "text": [
      "/tmp/ipykernel_8229/2184178469.py:98: DeprecationWarning: distutils Version classes are deprecated. Use packaging.version instead.\n",
      "  weak_ft=T.tempopulsar('Perfect_Model.par','iteration_sub.tim')\n"
     ]
    },
    {
     "name": "stdout",
     "output_type": "stream",
     "text": [
      "spr\n",
      "************************************************* \n",
      "Warning: you are running in tempo1 emulation mode \n",
      "************************************************* \n"
     ]
    },
    {
     "name": "stderr",
     "output_type": "stream",
     "text": [
      "/tmp/ipykernel_8229/2184178469.py:98: DeprecationWarning: distutils Version classes are deprecated. Use packaging.version instead.\n",
      "  weak_ft=T.tempopulsar('Perfect_Model.par','iteration_sub.tim')\n"
     ]
    },
    {
     "name": "stdout",
     "output_type": "stream",
     "text": [
      "************************************************* \n",
      "Warning: you are running in tempo1 emulation mode \n",
      "************************************************* \n",
      "spr\n"
     ]
    },
    {
     "name": "stderr",
     "output_type": "stream",
     "text": [
      "/tmp/ipykernel_8229/2184178469.py:98: DeprecationWarning: distutils Version classes are deprecated. Use packaging.version instead.\n",
      "  weak_ft=T.tempopulsar('Perfect_Model.par','iteration_sub.tim')\n"
     ]
    },
    {
     "name": "stdout",
     "output_type": "stream",
     "text": [
      "spr************************************************* \n",
      "Warning: you are running in tempo1 emulation mode \n",
      "************************************************* \n",
      "\n"
     ]
    },
    {
     "name": "stderr",
     "output_type": "stream",
     "text": [
      "/tmp/ipykernel_8229/2184178469.py:98: DeprecationWarning: distutils Version classes are deprecated. Use packaging.version instead.\n",
      "  weak_ft=T.tempopulsar('Perfect_Model.par','iteration_sub.tim')\n"
     ]
    },
    {
     "name": "stdout",
     "output_type": "stream",
     "text": [
      "************************************************* \n",
      "Warning: you are running in tempo1 emulation mode \n",
      "************************************************* \n",
      "spr\n"
     ]
    },
    {
     "name": "stderr",
     "output_type": "stream",
     "text": [
      "/tmp/ipykernel_8229/2184178469.py:98: DeprecationWarning: distutils Version classes are deprecated. Use packaging.version instead.\n",
      "  weak_ft=T.tempopulsar('Perfect_Model.par','iteration_sub.tim')\n"
     ]
    },
    {
     "name": "stdout",
     "output_type": "stream",
     "text": [
      "************************************************* \n",
      "Warning: you are running in tempo1 emulation mode \n",
      "************************************************* \n",
      "spr\n"
     ]
    },
    {
     "name": "stderr",
     "output_type": "stream",
     "text": [
      "/tmp/ipykernel_8229/2184178469.py:98: DeprecationWarning: distutils Version classes are deprecated. Use packaging.version instead.\n",
      "  weak_ft=T.tempopulsar('Perfect_Model.par','iteration_sub.tim')\n"
     ]
    },
    {
     "name": "stdout",
     "output_type": "stream",
     "text": [
      "spr************************************************* \n",
      "Warning: you are running in tempo1 emulation mode \n",
      "************************************************* \n",
      "\n"
     ]
    },
    {
     "name": "stderr",
     "output_type": "stream",
     "text": [
      "/tmp/ipykernel_8229/2184178469.py:98: DeprecationWarning: distutils Version classes are deprecated. Use packaging.version instead.\n",
      "  weak_ft=T.tempopulsar('Perfect_Model.par','iteration_sub.tim')\n"
     ]
    },
    {
     "name": "stdout",
     "output_type": "stream",
     "text": [
      "************************************************* \n",
      "Warning: you are running in tempo1 emulation mode \n",
      "************************************************* \n",
      "spr\n"
     ]
    },
    {
     "name": "stderr",
     "output_type": "stream",
     "text": [
      "/tmp/ipykernel_8229/2184178469.py:98: DeprecationWarning: distutils Version classes are deprecated. Use packaging.version instead.\n",
      "  weak_ft=T.tempopulsar('Perfect_Model.par','iteration_sub.tim')\n"
     ]
    },
    {
     "name": "stdout",
     "output_type": "stream",
     "text": [
      "spr\n",
      "************************************************* \n",
      "Warning: you are running in tempo1 emulation mode \n",
      "************************************************* \n"
     ]
    },
    {
     "name": "stderr",
     "output_type": "stream",
     "text": [
      "/tmp/ipykernel_8229/2184178469.py:98: DeprecationWarning: distutils Version classes are deprecated. Use packaging.version instead.\n",
      "  weak_ft=T.tempopulsar('Perfect_Model.par','iteration_sub.tim')\n"
     ]
    },
    {
     "name": "stdout",
     "output_type": "stream",
     "text": [
      "spr************************************************* \n",
      "Warning: you are running in tempo1 emulation mode \n",
      "************************************************* \n",
      "\n",
      "iteration: 10\n",
      "************************************************* \n",
      "Warning: you are running in tempo1 emulation mode \n",
      "************************************************* \n",
      "************************************************* \n",
      "Warning: you are running in tempo1 emulation mode \n",
      "************************************************* \n"
     ]
    },
    {
     "name": "stderr",
     "output_type": "stream",
     "text": [
      "/tmp/ipykernel_8229/2184178469.py:98: DeprecationWarning: distutils Version classes are deprecated. Use packaging.version instead.\n",
      "  weak_ft=T.tempopulsar('Perfect_Model.par','iteration_sub.tim')\n"
     ]
    },
    {
     "name": "stdout",
     "output_type": "stream",
     "text": [
      "spr************************************************* \n",
      "Warning: you are running in tempo1 emulation mode \n",
      "************************************************* \n",
      "\n"
     ]
    },
    {
     "name": "stderr",
     "output_type": "stream",
     "text": [
      "/tmp/ipykernel_8229/2184178469.py:98: DeprecationWarning: distutils Version classes are deprecated. Use packaging.version instead.\n",
      "  weak_ft=T.tempopulsar('Perfect_Model.par','iteration_sub.tim')\n",
      "/tmp/ipykernel_8229/2184178469.py:98: DeprecationWarning: distutils Version classes are deprecated. Use packaging.version instead.\n",
      "  weak_ft=T.tempopulsar('Perfect_Model.par','iteration_sub.tim')\n"
     ]
    },
    {
     "name": "stdout",
     "output_type": "stream",
     "text": [
      "spr************************************************* \n",
      "Warning: you are running in tempo1 emulation mode \n",
      "************************************************* \n",
      "\n",
      "spr************************************************* \n",
      "Warning: you are running in tempo1 emulation mode \n",
      "************************************************* \n",
      "\n"
     ]
    },
    {
     "name": "stderr",
     "output_type": "stream",
     "text": [
      "/tmp/ipykernel_8229/2184178469.py:98: DeprecationWarning: distutils Version classes are deprecated. Use packaging.version instead.\n",
      "  weak_ft=T.tempopulsar('Perfect_Model.par','iteration_sub.tim')\n"
     ]
    },
    {
     "name": "stdout",
     "output_type": "stream",
     "text": [
      "spr************************************************* \n",
      "Warning: you are running in tempo1 emulation mode \n",
      "************************************************* \n",
      "\n"
     ]
    },
    {
     "name": "stderr",
     "output_type": "stream",
     "text": [
      "/tmp/ipykernel_8229/2184178469.py:98: DeprecationWarning: distutils Version classes are deprecated. Use packaging.version instead.\n",
      "  weak_ft=T.tempopulsar('Perfect_Model.par','iteration_sub.tim')\n"
     ]
    },
    {
     "name": "stdout",
     "output_type": "stream",
     "text": [
      "spr************************************************* \n",
      "Warning: you are running in tempo1 emulation mode \n",
      "************************************************* \n",
      "\n"
     ]
    },
    {
     "name": "stderr",
     "output_type": "stream",
     "text": [
      "/tmp/ipykernel_8229/2184178469.py:98: DeprecationWarning: distutils Version classes are deprecated. Use packaging.version instead.\n",
      "  weak_ft=T.tempopulsar('Perfect_Model.par','iteration_sub.tim')\n"
     ]
    },
    {
     "name": "stdout",
     "output_type": "stream",
     "text": [
      "spr************************************************* \n",
      "Warning: you are running in tempo1 emulation mode \n",
      "************************************************* \n",
      "\n"
     ]
    },
    {
     "name": "stderr",
     "output_type": "stream",
     "text": [
      "/tmp/ipykernel_8229/2184178469.py:98: DeprecationWarning: distutils Version classes are deprecated. Use packaging.version instead.\n",
      "  weak_ft=T.tempopulsar('Perfect_Model.par','iteration_sub.tim')\n"
     ]
    },
    {
     "name": "stdout",
     "output_type": "stream",
     "text": [
      "spr************************************************* \n",
      "Warning: you are running in tempo1 emulation mode \n",
      "************************************************* \n",
      "\n"
     ]
    },
    {
     "name": "stderr",
     "output_type": "stream",
     "text": [
      "/tmp/ipykernel_8229/2184178469.py:98: DeprecationWarning: distutils Version classes are deprecated. Use packaging.version instead.\n",
      "  weak_ft=T.tempopulsar('Perfect_Model.par','iteration_sub.tim')\n"
     ]
    },
    {
     "name": "stdout",
     "output_type": "stream",
     "text": [
      "************************************************* \n",
      "Warning: you are running in tempo1 emulation mode \n",
      "************************************************* \n",
      "spr\n"
     ]
    },
    {
     "name": "stderr",
     "output_type": "stream",
     "text": [
      "/tmp/ipykernel_8229/2184178469.py:98: DeprecationWarning: distutils Version classes are deprecated. Use packaging.version instead.\n",
      "  weak_ft=T.tempopulsar('Perfect_Model.par','iteration_sub.tim')\n"
     ]
    },
    {
     "name": "stdout",
     "output_type": "stream",
     "text": [
      "spr************************************************* \n",
      "Warning: you are running in tempo1 emulation mode \n",
      "************************************************* \n",
      "\n"
     ]
    },
    {
     "name": "stderr",
     "output_type": "stream",
     "text": [
      "/tmp/ipykernel_8229/2184178469.py:98: DeprecationWarning: distutils Version classes are deprecated. Use packaging.version instead.\n",
      "  weak_ft=T.tempopulsar('Perfect_Model.par','iteration_sub.tim')\n"
     ]
    },
    {
     "name": "stdout",
     "output_type": "stream",
     "text": [
      "spr************************************************* \n",
      "Warning: you are running in tempo1 emulation mode \n",
      "************************************************* \n",
      "\n",
      "iteration: 11\n",
      "************************************************* \n",
      "Warning: you are running in tempo1 emulation mode \n",
      "************************************************* \n",
      "************************************************* \n",
      "Warning: you are running in tempo1 emulation mode \n",
      "************************************************* \n"
     ]
    },
    {
     "name": "stderr",
     "output_type": "stream",
     "text": [
      "/tmp/ipykernel_8229/2184178469.py:98: DeprecationWarning: distutils Version classes are deprecated. Use packaging.version instead.\n",
      "  weak_ft=T.tempopulsar('Perfect_Model.par','iteration_sub.tim')\n"
     ]
    },
    {
     "name": "stdout",
     "output_type": "stream",
     "text": [
      "spr************************************************* \n",
      "Warning: you are running in tempo1 emulation mode \n",
      "************************************************* \n",
      "\n"
     ]
    },
    {
     "name": "stderr",
     "output_type": "stream",
     "text": [
      "/tmp/ipykernel_8229/2184178469.py:98: DeprecationWarning: distutils Version classes are deprecated. Use packaging.version instead.\n",
      "  weak_ft=T.tempopulsar('Perfect_Model.par','iteration_sub.tim')\n"
     ]
    },
    {
     "name": "stdout",
     "output_type": "stream",
     "text": [
      "spr************************************************* \n",
      "Warning: you are running in tempo1 emulation mode \n",
      "************************************************* \n",
      "\n"
     ]
    },
    {
     "name": "stderr",
     "output_type": "stream",
     "text": [
      "/tmp/ipykernel_8229/2184178469.py:98: DeprecationWarning: distutils Version classes are deprecated. Use packaging.version instead.\n",
      "  weak_ft=T.tempopulsar('Perfect_Model.par','iteration_sub.tim')\n"
     ]
    },
    {
     "name": "stdout",
     "output_type": "stream",
     "text": [
      "************************************************* \n",
      "Warning: you are running in tempo1 emulation mode \n",
      "************************************************* \n",
      "spr\n"
     ]
    },
    {
     "name": "stderr",
     "output_type": "stream",
     "text": [
      "/tmp/ipykernel_8229/2184178469.py:98: DeprecationWarning: distutils Version classes are deprecated. Use packaging.version instead.\n",
      "  weak_ft=T.tempopulsar('Perfect_Model.par','iteration_sub.tim')\n"
     ]
    },
    {
     "name": "stdout",
     "output_type": "stream",
     "text": [
      "spr************************************************* \n",
      "Warning: you are running in tempo1 emulation mode \n",
      "************************************************* \n",
      "\n"
     ]
    },
    {
     "name": "stderr",
     "output_type": "stream",
     "text": [
      "/tmp/ipykernel_8229/2184178469.py:98: DeprecationWarning: distutils Version classes are deprecated. Use packaging.version instead.\n",
      "  weak_ft=T.tempopulsar('Perfect_Model.par','iteration_sub.tim')\n"
     ]
    },
    {
     "name": "stdout",
     "output_type": "stream",
     "text": [
      "************************************************* \n",
      "Warning: you are running in tempo1 emulation mode \n",
      "************************************************* \n",
      "spr\n"
     ]
    },
    {
     "name": "stderr",
     "output_type": "stream",
     "text": [
      "/tmp/ipykernel_8229/2184178469.py:98: DeprecationWarning: distutils Version classes are deprecated. Use packaging.version instead.\n",
      "  weak_ft=T.tempopulsar('Perfect_Model.par','iteration_sub.tim')\n"
     ]
    },
    {
     "name": "stdout",
     "output_type": "stream",
     "text": [
      "spr************************************************* \n",
      "Warning: you are running in tempo1 emulation mode \n",
      "************************************************* \n",
      "\n"
     ]
    },
    {
     "name": "stderr",
     "output_type": "stream",
     "text": [
      "/tmp/ipykernel_8229/2184178469.py:98: DeprecationWarning: distutils Version classes are deprecated. Use packaging.version instead.\n",
      "  weak_ft=T.tempopulsar('Perfect_Model.par','iteration_sub.tim')\n"
     ]
    },
    {
     "name": "stdout",
     "output_type": "stream",
     "text": [
      "spr************************************************* \n",
      "Warning: you are running in tempo1 emulation mode \n",
      "************************************************* \n",
      "\n"
     ]
    },
    {
     "name": "stderr",
     "output_type": "stream",
     "text": [
      "/tmp/ipykernel_8229/2184178469.py:98: DeprecationWarning: distutils Version classes are deprecated. Use packaging.version instead.\n",
      "  weak_ft=T.tempopulsar('Perfect_Model.par','iteration_sub.tim')\n"
     ]
    },
    {
     "name": "stdout",
     "output_type": "stream",
     "text": [
      "spr************************************************* \n",
      "Warning: you are running in tempo1 emulation mode \n",
      "************************************************* \n",
      "\n"
     ]
    },
    {
     "name": "stderr",
     "output_type": "stream",
     "text": [
      "/tmp/ipykernel_8229/2184178469.py:98: DeprecationWarning: distutils Version classes are deprecated. Use packaging.version instead.\n",
      "  weak_ft=T.tempopulsar('Perfect_Model.par','iteration_sub.tim')\n"
     ]
    },
    {
     "name": "stdout",
     "output_type": "stream",
     "text": [
      "************************************************* \n",
      "Warning: you are running in tempo1 emulation mode \n",
      "************************************************* \n",
      "spr\n"
     ]
    },
    {
     "name": "stderr",
     "output_type": "stream",
     "text": [
      "/tmp/ipykernel_8229/2184178469.py:98: DeprecationWarning: distutils Version classes are deprecated. Use packaging.version instead.\n",
      "  weak_ft=T.tempopulsar('Perfect_Model.par','iteration_sub.tim')\n"
     ]
    },
    {
     "name": "stdout",
     "output_type": "stream",
     "text": [
      "spr\n",
      "************************************************* \n",
      "Warning: you are running in tempo1 emulation mode \n",
      "************************************************* \n",
      "iteration: 12\n",
      "************************************************* \n",
      "Warning: you are running in tempo1 emulation mode \n",
      "************************************************* \n",
      "************************************************* \n",
      "Warning: you are running in tempo1 emulation mode \n",
      "************************************************* \n"
     ]
    },
    {
     "name": "stderr",
     "output_type": "stream",
     "text": [
      "/tmp/ipykernel_8229/2184178469.py:98: DeprecationWarning: distutils Version classes are deprecated. Use packaging.version instead.\n",
      "  weak_ft=T.tempopulsar('Perfect_Model.par','iteration_sub.tim')\n"
     ]
    },
    {
     "name": "stdout",
     "output_type": "stream",
     "text": [
      "spr************************************************* \n",
      "Warning: you are running in tempo1 emulation mode \n",
      "************************************************* \n",
      "\n"
     ]
    },
    {
     "name": "stderr",
     "output_type": "stream",
     "text": [
      "/tmp/ipykernel_8229/2184178469.py:98: DeprecationWarning: distutils Version classes are deprecated. Use packaging.version instead.\n",
      "  weak_ft=T.tempopulsar('Perfect_Model.par','iteration_sub.tim')\n"
     ]
    },
    {
     "name": "stdout",
     "output_type": "stream",
     "text": [
      "************************************************* \n",
      "Warning: you are running in tempo1 emulation mode \n",
      "************************************************* \n",
      "spr\n"
     ]
    },
    {
     "name": "stderr",
     "output_type": "stream",
     "text": [
      "/tmp/ipykernel_8229/2184178469.py:98: DeprecationWarning: distutils Version classes are deprecated. Use packaging.version instead.\n",
      "  weak_ft=T.tempopulsar('Perfect_Model.par','iteration_sub.tim')\n"
     ]
    },
    {
     "name": "stdout",
     "output_type": "stream",
     "text": [
      "************************************************* \n",
      "Warning: you are running in tempo1 emulation mode \n",
      "************************************************* \n",
      "spr\n"
     ]
    },
    {
     "name": "stderr",
     "output_type": "stream",
     "text": [
      "/tmp/ipykernel_8229/2184178469.py:98: DeprecationWarning: distutils Version classes are deprecated. Use packaging.version instead.\n",
      "  weak_ft=T.tempopulsar('Perfect_Model.par','iteration_sub.tim')\n"
     ]
    },
    {
     "name": "stdout",
     "output_type": "stream",
     "text": [
      "spr************************************************* \n",
      "Warning: you are running in tempo1 emulation mode \n",
      "************************************************* \n",
      "\n"
     ]
    },
    {
     "name": "stderr",
     "output_type": "stream",
     "text": [
      "/tmp/ipykernel_8229/2184178469.py:98: DeprecationWarning: distutils Version classes are deprecated. Use packaging.version instead.\n",
      "  weak_ft=T.tempopulsar('Perfect_Model.par','iteration_sub.tim')\n"
     ]
    },
    {
     "name": "stdout",
     "output_type": "stream",
     "text": [
      "************************************************* \n",
      "Warning: you are running in tempo1 emulation mode \n",
      "************************************************* \n",
      "spr\n"
     ]
    },
    {
     "name": "stderr",
     "output_type": "stream",
     "text": [
      "/tmp/ipykernel_8229/2184178469.py:98: DeprecationWarning: distutils Version classes are deprecated. Use packaging.version instead.\n",
      "  weak_ft=T.tempopulsar('Perfect_Model.par','iteration_sub.tim')\n"
     ]
    },
    {
     "name": "stdout",
     "output_type": "stream",
     "text": [
      "spr************************************************* \n",
      "Warning: you are running in tempo1 emulation mode \n",
      "************************************************* \n",
      "\n"
     ]
    },
    {
     "name": "stderr",
     "output_type": "stream",
     "text": [
      "/tmp/ipykernel_8229/2184178469.py:98: DeprecationWarning: distutils Version classes are deprecated. Use packaging.version instead.\n",
      "  weak_ft=T.tempopulsar('Perfect_Model.par','iteration_sub.tim')\n"
     ]
    },
    {
     "name": "stdout",
     "output_type": "stream",
     "text": [
      "spr************************************************* \n",
      "Warning: you are running in tempo1 emulation mode \n",
      "************************************************* \n",
      "\n"
     ]
    },
    {
     "name": "stderr",
     "output_type": "stream",
     "text": [
      "/tmp/ipykernel_8229/2184178469.py:98: DeprecationWarning: distutils Version classes are deprecated. Use packaging.version instead.\n",
      "  weak_ft=T.tempopulsar('Perfect_Model.par','iteration_sub.tim')\n"
     ]
    },
    {
     "name": "stdout",
     "output_type": "stream",
     "text": [
      "spr\n",
      "************************************************* \n",
      "Warning: you are running in tempo1 emulation mode \n",
      "************************************************* \n"
     ]
    },
    {
     "name": "stderr",
     "output_type": "stream",
     "text": [
      "/tmp/ipykernel_8229/2184178469.py:98: DeprecationWarning: distutils Version classes are deprecated. Use packaging.version instead.\n",
      "  weak_ft=T.tempopulsar('Perfect_Model.par','iteration_sub.tim')\n"
     ]
    },
    {
     "name": "stdout",
     "output_type": "stream",
     "text": [
      "spr************************************************* \n",
      "Warning: you are running in tempo1 emulation mode \n",
      "************************************************* \n",
      "\n"
     ]
    },
    {
     "name": "stderr",
     "output_type": "stream",
     "text": [
      "/tmp/ipykernel_8229/2184178469.py:98: DeprecationWarning: distutils Version classes are deprecated. Use packaging.version instead.\n",
      "  weak_ft=T.tempopulsar('Perfect_Model.par','iteration_sub.tim')\n"
     ]
    },
    {
     "name": "stdout",
     "output_type": "stream",
     "text": [
      "spr************************************************* \n",
      "Warning: you are running in tempo1 emulation mode \n",
      "************************************************* \n",
      "\n",
      "iteration: 13\n",
      "************************************************* \n",
      "Warning: you are running in tempo1 emulation mode \n",
      "************************************************* \n",
      "************************************************* \n",
      "Warning: you are running in tempo1 emulation mode \n",
      "************************************************* \n"
     ]
    },
    {
     "name": "stderr",
     "output_type": "stream",
     "text": [
      "/tmp/ipykernel_8229/2184178469.py:98: DeprecationWarning: distutils Version classes are deprecated. Use packaging.version instead.\n",
      "  weak_ft=T.tempopulsar('Perfect_Model.par','iteration_sub.tim')\n"
     ]
    },
    {
     "name": "stdout",
     "output_type": "stream",
     "text": [
      "spr************************************************* \n",
      "Warning: you are running in tempo1 emulation mode \n",
      "************************************************* \n",
      "\n"
     ]
    },
    {
     "name": "stderr",
     "output_type": "stream",
     "text": [
      "/tmp/ipykernel_8229/2184178469.py:98: DeprecationWarning: distutils Version classes are deprecated. Use packaging.version instead.\n",
      "  weak_ft=T.tempopulsar('Perfect_Model.par','iteration_sub.tim')\n"
     ]
    },
    {
     "name": "stdout",
     "output_type": "stream",
     "text": [
      "spr************************************************* \n",
      "Warning: you are running in tempo1 emulation mode \n",
      "************************************************* \n",
      "\n"
     ]
    },
    {
     "name": "stderr",
     "output_type": "stream",
     "text": [
      "/tmp/ipykernel_8229/2184178469.py:98: DeprecationWarning: distutils Version classes are deprecated. Use packaging.version instead.\n",
      "  weak_ft=T.tempopulsar('Perfect_Model.par','iteration_sub.tim')\n"
     ]
    },
    {
     "name": "stdout",
     "output_type": "stream",
     "text": [
      "spr************************************************* \n",
      "Warning: you are running in tempo1 emulation mode \n",
      "************************************************* \n",
      "\n"
     ]
    },
    {
     "name": "stderr",
     "output_type": "stream",
     "text": [
      "/tmp/ipykernel_8229/2184178469.py:98: DeprecationWarning: distutils Version classes are deprecated. Use packaging.version instead.\n",
      "  weak_ft=T.tempopulsar('Perfect_Model.par','iteration_sub.tim')\n"
     ]
    },
    {
     "name": "stdout",
     "output_type": "stream",
     "text": [
      "spr************************************************* \n",
      "Warning: you are running in tempo1 emulation mode \n",
      "************************************************* \n",
      "\n"
     ]
    },
    {
     "name": "stderr",
     "output_type": "stream",
     "text": [
      "/tmp/ipykernel_8229/2184178469.py:98: DeprecationWarning: distutils Version classes are deprecated. Use packaging.version instead.\n",
      "  weak_ft=T.tempopulsar('Perfect_Model.par','iteration_sub.tim')\n"
     ]
    },
    {
     "name": "stdout",
     "output_type": "stream",
     "text": [
      "************************************************* \n",
      "Warning: you are running in tempo1 emulation mode \n",
      "************************************************* \n",
      "spr\n"
     ]
    },
    {
     "name": "stderr",
     "output_type": "stream",
     "text": [
      "/tmp/ipykernel_8229/2184178469.py:98: DeprecationWarning: distutils Version classes are deprecated. Use packaging.version instead.\n",
      "  weak_ft=T.tempopulsar('Perfect_Model.par','iteration_sub.tim')\n"
     ]
    },
    {
     "name": "stdout",
     "output_type": "stream",
     "text": [
      "************************************************* \n",
      "Warning: you are running in tempo1 emulation mode \n",
      "************************************************* \n",
      "spr\n"
     ]
    },
    {
     "name": "stderr",
     "output_type": "stream",
     "text": [
      "/tmp/ipykernel_8229/2184178469.py:98: DeprecationWarning: distutils Version classes are deprecated. Use packaging.version instead.\n",
      "  weak_ft=T.tempopulsar('Perfect_Model.par','iteration_sub.tim')\n"
     ]
    },
    {
     "name": "stdout",
     "output_type": "stream",
     "text": [
      "spr************************************************* \n",
      "Warning: you are running in tempo1 emulation mode \n",
      "************************************************* \n",
      "\n"
     ]
    },
    {
     "name": "stderr",
     "output_type": "stream",
     "text": [
      "/tmp/ipykernel_8229/2184178469.py:98: DeprecationWarning: distutils Version classes are deprecated. Use packaging.version instead.\n",
      "  weak_ft=T.tempopulsar('Perfect_Model.par','iteration_sub.tim')\n"
     ]
    },
    {
     "name": "stdout",
     "output_type": "stream",
     "text": [
      "spr************************************************* \n",
      "Warning: you are running in tempo1 emulation mode \n",
      "************************************************* \n",
      "\n"
     ]
    },
    {
     "name": "stderr",
     "output_type": "stream",
     "text": [
      "/tmp/ipykernel_8229/2184178469.py:98: DeprecationWarning: distutils Version classes are deprecated. Use packaging.version instead.\n",
      "  weak_ft=T.tempopulsar('Perfect_Model.par','iteration_sub.tim')\n"
     ]
    },
    {
     "name": "stdout",
     "output_type": "stream",
     "text": [
      "spr************************************************* \n",
      "Warning: you are running in tempo1 emulation mode \n",
      "************************************************* \n",
      "\n"
     ]
    },
    {
     "name": "stderr",
     "output_type": "stream",
     "text": [
      "/tmp/ipykernel_8229/2184178469.py:98: DeprecationWarning: distutils Version classes are deprecated. Use packaging.version instead.\n",
      "  weak_ft=T.tempopulsar('Perfect_Model.par','iteration_sub.tim')\n"
     ]
    },
    {
     "name": "stdout",
     "output_type": "stream",
     "text": [
      "spr************************************************* \n",
      "Warning: you are running in tempo1 emulation mode \n",
      "************************************************* \n",
      "\n",
      "iteration: 14\n",
      "************************************************* \n",
      "Warning: you are running in tempo1 emulation mode \n",
      "************************************************* \n",
      "************************************************* \n",
      "Warning: you are running in tempo1 emulation mode \n",
      "************************************************* \n"
     ]
    },
    {
     "name": "stderr",
     "output_type": "stream",
     "text": [
      "/tmp/ipykernel_8229/2184178469.py:98: DeprecationWarning: distutils Version classes are deprecated. Use packaging.version instead.\n",
      "  weak_ft=T.tempopulsar('Perfect_Model.par','iteration_sub.tim')\n"
     ]
    },
    {
     "name": "stdout",
     "output_type": "stream",
     "text": [
      "spr************************************************* \n",
      "Warning: you are running in tempo1 emulation mode \n",
      "************************************************* \n",
      "\n"
     ]
    },
    {
     "name": "stderr",
     "output_type": "stream",
     "text": [
      "/tmp/ipykernel_8229/2184178469.py:98: DeprecationWarning: distutils Version classes are deprecated. Use packaging.version instead.\n",
      "  weak_ft=T.tempopulsar('Perfect_Model.par','iteration_sub.tim')\n"
     ]
    },
    {
     "name": "stdout",
     "output_type": "stream",
     "text": [
      "spr************************************************* \n",
      "Warning: you are running in tempo1 emulation mode \n",
      "************************************************* \n",
      "\n"
     ]
    },
    {
     "name": "stderr",
     "output_type": "stream",
     "text": [
      "/tmp/ipykernel_8229/2184178469.py:98: DeprecationWarning: distutils Version classes are deprecated. Use packaging.version instead.\n",
      "  weak_ft=T.tempopulsar('Perfect_Model.par','iteration_sub.tim')\n"
     ]
    },
    {
     "name": "stdout",
     "output_type": "stream",
     "text": [
      "spr************************************************* \n",
      "Warning: you are running in tempo1 emulation mode \n",
      "************************************************* \n",
      "\n"
     ]
    },
    {
     "name": "stderr",
     "output_type": "stream",
     "text": [
      "/tmp/ipykernel_8229/2184178469.py:98: DeprecationWarning: distutils Version classes are deprecated. Use packaging.version instead.\n",
      "  weak_ft=T.tempopulsar('Perfect_Model.par','iteration_sub.tim')\n"
     ]
    },
    {
     "name": "stdout",
     "output_type": "stream",
     "text": [
      "spr************************************************* \n",
      "Warning: you are running in tempo1 emulation mode \n",
      "************************************************* \n",
      "\n"
     ]
    },
    {
     "name": "stderr",
     "output_type": "stream",
     "text": [
      "/tmp/ipykernel_8229/2184178469.py:98: DeprecationWarning: distutils Version classes are deprecated. Use packaging.version instead.\n",
      "  weak_ft=T.tempopulsar('Perfect_Model.par','iteration_sub.tim')\n"
     ]
    },
    {
     "name": "stdout",
     "output_type": "stream",
     "text": [
      "spr************************************************* \n",
      "Warning: you are running in tempo1 emulation mode \n",
      "************************************************* \n",
      "\n"
     ]
    },
    {
     "name": "stderr",
     "output_type": "stream",
     "text": [
      "/tmp/ipykernel_8229/2184178469.py:98: DeprecationWarning: distutils Version classes are deprecated. Use packaging.version instead.\n",
      "  weak_ft=T.tempopulsar('Perfect_Model.par','iteration_sub.tim')\n"
     ]
    },
    {
     "name": "stdout",
     "output_type": "stream",
     "text": [
      "spr************************************************* \n",
      "Warning: you are running in tempo1 emulation mode \n",
      "************************************************* \n",
      "\n"
     ]
    },
    {
     "name": "stderr",
     "output_type": "stream",
     "text": [
      "/tmp/ipykernel_8229/2184178469.py:98: DeprecationWarning: distutils Version classes are deprecated. Use packaging.version instead.\n",
      "  weak_ft=T.tempopulsar('Perfect_Model.par','iteration_sub.tim')\n"
     ]
    },
    {
     "name": "stdout",
     "output_type": "stream",
     "text": [
      "************************************************* \n",
      "Warning: you are running in tempo1 emulation mode \n",
      "************************************************* \n",
      "spr\n"
     ]
    },
    {
     "name": "stderr",
     "output_type": "stream",
     "text": [
      "/tmp/ipykernel_8229/2184178469.py:98: DeprecationWarning: distutils Version classes are deprecated. Use packaging.version instead.\n",
      "  weak_ft=T.tempopulsar('Perfect_Model.par','iteration_sub.tim')\n"
     ]
    },
    {
     "name": "stdout",
     "output_type": "stream",
     "text": [
      "************************************************* \n",
      "Warning: you are running in tempo1 emulation mode \n",
      "************************************************* \n",
      "spr\n"
     ]
    },
    {
     "name": "stderr",
     "output_type": "stream",
     "text": [
      "/tmp/ipykernel_8229/2184178469.py:98: DeprecationWarning: distutils Version classes are deprecated. Use packaging.version instead.\n",
      "  weak_ft=T.tempopulsar('Perfect_Model.par','iteration_sub.tim')\n"
     ]
    },
    {
     "name": "stdout",
     "output_type": "stream",
     "text": [
      "spr************************************************* \n",
      "Warning: you are running in tempo1 emulation mode \n",
      "************************************************* \n",
      "\n"
     ]
    },
    {
     "name": "stderr",
     "output_type": "stream",
     "text": [
      "/tmp/ipykernel_8229/2184178469.py:98: DeprecationWarning: distutils Version classes are deprecated. Use packaging.version instead.\n",
      "  weak_ft=T.tempopulsar('Perfect_Model.par','iteration_sub.tim')\n"
     ]
    },
    {
     "name": "stdout",
     "output_type": "stream",
     "text": [
      "************************************************* \n",
      "Warning: you are running in tempo1 emulation mode \n",
      "************************************************* \n",
      "spr\n",
      "iteration: 15\n",
      "************************************************* \n",
      "Warning: you are running in tempo1 emulation mode \n",
      "************************************************* \n",
      "************************************************* \n",
      "Warning: you are running in tempo1 emulation mode \n",
      "************************************************* \n"
     ]
    },
    {
     "name": "stderr",
     "output_type": "stream",
     "text": [
      "/tmp/ipykernel_8229/2184178469.py:98: DeprecationWarning: distutils Version classes are deprecated. Use packaging.version instead.\n",
      "  weak_ft=T.tempopulsar('Perfect_Model.par','iteration_sub.tim')\n"
     ]
    },
    {
     "name": "stdout",
     "output_type": "stream",
     "text": [
      "************************************************* \n",
      "Warning: you are running in tempo1 emulation mode \n",
      "************************************************* \n",
      "spr\n"
     ]
    },
    {
     "name": "stderr",
     "output_type": "stream",
     "text": [
      "/tmp/ipykernel_8229/2184178469.py:98: DeprecationWarning: distutils Version classes are deprecated. Use packaging.version instead.\n",
      "  weak_ft=T.tempopulsar('Perfect_Model.par','iteration_sub.tim')\n"
     ]
    },
    {
     "name": "stdout",
     "output_type": "stream",
     "text": [
      "spr************************************************* \n",
      "Warning: you are running in tempo1 emulation mode \n",
      "************************************************* \n",
      "\n"
     ]
    },
    {
     "name": "stderr",
     "output_type": "stream",
     "text": [
      "/tmp/ipykernel_8229/2184178469.py:98: DeprecationWarning: distutils Version classes are deprecated. Use packaging.version instead.\n",
      "  weak_ft=T.tempopulsar('Perfect_Model.par','iteration_sub.tim')\n"
     ]
    },
    {
     "name": "stdout",
     "output_type": "stream",
     "text": [
      "************************************************* \n",
      "Warning: you are running in tempo1 emulation mode \n",
      "************************************************* \n",
      "spr\n"
     ]
    },
    {
     "name": "stderr",
     "output_type": "stream",
     "text": [
      "/tmp/ipykernel_8229/2184178469.py:98: DeprecationWarning: distutils Version classes are deprecated. Use packaging.version instead.\n",
      "  weak_ft=T.tempopulsar('Perfect_Model.par','iteration_sub.tim')\n"
     ]
    },
    {
     "name": "stdout",
     "output_type": "stream",
     "text": [
      "spr\n",
      "************************************************* \n",
      "Warning: you are running in tempo1 emulation mode \n",
      "************************************************* \n"
     ]
    },
    {
     "name": "stderr",
     "output_type": "stream",
     "text": [
      "/tmp/ipykernel_8229/2184178469.py:98: DeprecationWarning: distutils Version classes are deprecated. Use packaging.version instead.\n",
      "  weak_ft=T.tempopulsar('Perfect_Model.par','iteration_sub.tim')\n"
     ]
    },
    {
     "name": "stdout",
     "output_type": "stream",
     "text": [
      "spr************************************************* \n",
      "Warning: you are running in tempo1 emulation mode \n",
      "************************************************* \n",
      "\n"
     ]
    },
    {
     "name": "stderr",
     "output_type": "stream",
     "text": [
      "/tmp/ipykernel_8229/2184178469.py:98: DeprecationWarning: distutils Version classes are deprecated. Use packaging.version instead.\n",
      "  weak_ft=T.tempopulsar('Perfect_Model.par','iteration_sub.tim')\n"
     ]
    },
    {
     "name": "stdout",
     "output_type": "stream",
     "text": [
      "spr************************************************* \n",
      "Warning: you are running in tempo1 emulation mode \n",
      "************************************************* \n",
      "\n"
     ]
    },
    {
     "name": "stderr",
     "output_type": "stream",
     "text": [
      "/tmp/ipykernel_8229/2184178469.py:98: DeprecationWarning: distutils Version classes are deprecated. Use packaging.version instead.\n",
      "  weak_ft=T.tempopulsar('Perfect_Model.par','iteration_sub.tim')\n"
     ]
    },
    {
     "name": "stdout",
     "output_type": "stream",
     "text": [
      "spr************************************************* \n",
      "Warning: you are running in tempo1 emulation mode \n",
      "************************************************* \n",
      "\n"
     ]
    },
    {
     "name": "stderr",
     "output_type": "stream",
     "text": [
      "/tmp/ipykernel_8229/2184178469.py:98: DeprecationWarning: distutils Version classes are deprecated. Use packaging.version instead.\n",
      "  weak_ft=T.tempopulsar('Perfect_Model.par','iteration_sub.tim')\n"
     ]
    },
    {
     "name": "stdout",
     "output_type": "stream",
     "text": [
      "spr************************************************* \n",
      "Warning: you are running in tempo1 emulation mode \n",
      "************************************************* \n",
      "\n"
     ]
    },
    {
     "name": "stderr",
     "output_type": "stream",
     "text": [
      "/tmp/ipykernel_8229/2184178469.py:98: DeprecationWarning: distutils Version classes are deprecated. Use packaging.version instead.\n",
      "  weak_ft=T.tempopulsar('Perfect_Model.par','iteration_sub.tim')\n"
     ]
    },
    {
     "name": "stdout",
     "output_type": "stream",
     "text": [
      "spr\n",
      "************************************************* \n",
      "Warning: you are running in tempo1 emulation mode \n",
      "************************************************* \n"
     ]
    },
    {
     "name": "stderr",
     "output_type": "stream",
     "text": [
      "/tmp/ipykernel_8229/2184178469.py:98: DeprecationWarning: distutils Version classes are deprecated. Use packaging.version instead.\n",
      "  weak_ft=T.tempopulsar('Perfect_Model.par','iteration_sub.tim')\n"
     ]
    },
    {
     "name": "stdout",
     "output_type": "stream",
     "text": [
      "spr************************************************* \n",
      "Warning: you are running in tempo1 emulation mode \n",
      "************************************************* \n",
      "\n",
      "iteration: 16\n",
      "************************************************* \n",
      "Warning: you are running in tempo1 emulation mode \n",
      "************************************************* \n",
      "************************************************* \n",
      "Warning: you are running in tempo1 emulation mode \n",
      "************************************************* \n"
     ]
    },
    {
     "name": "stderr",
     "output_type": "stream",
     "text": [
      "/tmp/ipykernel_8229/2184178469.py:98: DeprecationWarning: distutils Version classes are deprecated. Use packaging.version instead.\n",
      "  weak_ft=T.tempopulsar('Perfect_Model.par','iteration_sub.tim')\n"
     ]
    },
    {
     "name": "stdout",
     "output_type": "stream",
     "text": [
      "************************************************* \n",
      "Warning: you are running in tempo1 emulation mode \n",
      "************************************************* \n",
      "spr\n"
     ]
    },
    {
     "name": "stderr",
     "output_type": "stream",
     "text": [
      "/tmp/ipykernel_8229/2184178469.py:98: DeprecationWarning: distutils Version classes are deprecated. Use packaging.version instead.\n",
      "  weak_ft=T.tempopulsar('Perfect_Model.par','iteration_sub.tim')\n"
     ]
    },
    {
     "name": "stdout",
     "output_type": "stream",
     "text": [
      "spr************************************************* \n",
      "Warning: you are running in tempo1 emulation mode \n",
      "************************************************* \n",
      "\n"
     ]
    },
    {
     "name": "stderr",
     "output_type": "stream",
     "text": [
      "/tmp/ipykernel_8229/2184178469.py:98: DeprecationWarning: distutils Version classes are deprecated. Use packaging.version instead.\n",
      "  weak_ft=T.tempopulsar('Perfect_Model.par','iteration_sub.tim')\n"
     ]
    },
    {
     "name": "stdout",
     "output_type": "stream",
     "text": [
      "************************************************* \n",
      "Warning: you are running in tempo1 emulation mode \n",
      "************************************************* \n",
      "spr\n"
     ]
    },
    {
     "name": "stderr",
     "output_type": "stream",
     "text": [
      "/tmp/ipykernel_8229/2184178469.py:98: DeprecationWarning: distutils Version classes are deprecated. Use packaging.version instead.\n",
      "  weak_ft=T.tempopulsar('Perfect_Model.par','iteration_sub.tim')\n"
     ]
    },
    {
     "name": "stdout",
     "output_type": "stream",
     "text": [
      "spr************************************************* \n",
      "Warning: you are running in tempo1 emulation mode \n",
      "************************************************* \n",
      "\n"
     ]
    },
    {
     "name": "stderr",
     "output_type": "stream",
     "text": [
      "/tmp/ipykernel_8229/2184178469.py:98: DeprecationWarning: distutils Version classes are deprecated. Use packaging.version instead.\n",
      "  weak_ft=T.tempopulsar('Perfect_Model.par','iteration_sub.tim')\n"
     ]
    },
    {
     "name": "stdout",
     "output_type": "stream",
     "text": [
      "spr************************************************* \n",
      "Warning: you are running in tempo1 emulation mode \n",
      "************************************************* \n",
      "\n"
     ]
    },
    {
     "name": "stderr",
     "output_type": "stream",
     "text": [
      "/tmp/ipykernel_8229/2184178469.py:98: DeprecationWarning: distutils Version classes are deprecated. Use packaging.version instead.\n",
      "  weak_ft=T.tempopulsar('Perfect_Model.par','iteration_sub.tim')\n"
     ]
    },
    {
     "name": "stdout",
     "output_type": "stream",
     "text": [
      "spr************************************************* \n",
      "Warning: you are running in tempo1 emulation mode \n",
      "************************************************* \n",
      "\n"
     ]
    },
    {
     "name": "stderr",
     "output_type": "stream",
     "text": [
      "/tmp/ipykernel_8229/2184178469.py:98: DeprecationWarning: distutils Version classes are deprecated. Use packaging.version instead.\n",
      "  weak_ft=T.tempopulsar('Perfect_Model.par','iteration_sub.tim')\n"
     ]
    },
    {
     "name": "stdout",
     "output_type": "stream",
     "text": [
      "spr************************************************* \n",
      "Warning: you are running in tempo1 emulation mode \n",
      "************************************************* \n",
      "\n"
     ]
    },
    {
     "name": "stderr",
     "output_type": "stream",
     "text": [
      "/tmp/ipykernel_8229/2184178469.py:98: DeprecationWarning: distutils Version classes are deprecated. Use packaging.version instead.\n",
      "  weak_ft=T.tempopulsar('Perfect_Model.par','iteration_sub.tim')\n"
     ]
    },
    {
     "name": "stdout",
     "output_type": "stream",
     "text": [
      "************************************************* \n",
      "Warning: you are running in tempo1 emulation mode \n",
      "************************************************* \n",
      "spr\n"
     ]
    },
    {
     "name": "stderr",
     "output_type": "stream",
     "text": [
      "/tmp/ipykernel_8229/2184178469.py:98: DeprecationWarning: distutils Version classes are deprecated. Use packaging.version instead.\n",
      "  weak_ft=T.tempopulsar('Perfect_Model.par','iteration_sub.tim')\n"
     ]
    },
    {
     "name": "stdout",
     "output_type": "stream",
     "text": [
      "spr************************************************* \n",
      "Warning: you are running in tempo1 emulation mode \n",
      "************************************************* \n",
      "\n"
     ]
    },
    {
     "name": "stderr",
     "output_type": "stream",
     "text": [
      "/tmp/ipykernel_8229/2184178469.py:98: DeprecationWarning: distutils Version classes are deprecated. Use packaging.version instead.\n",
      "  weak_ft=T.tempopulsar('Perfect_Model.par','iteration_sub.tim')\n"
     ]
    },
    {
     "name": "stdout",
     "output_type": "stream",
     "text": [
      "spr************************************************* \n",
      "Warning: you are running in tempo1 emulation mode \n",
      "************************************************* \n",
      "\n",
      "iteration: 17\n",
      "************************************************* \n",
      "Warning: you are running in tempo1 emulation mode \n",
      "************************************************* \n",
      "************************************************* \n",
      "Warning: you are running in tempo1 emulation mode \n",
      "************************************************* \n"
     ]
    },
    {
     "name": "stderr",
     "output_type": "stream",
     "text": [
      "/tmp/ipykernel_8229/2184178469.py:98: DeprecationWarning: distutils Version classes are deprecated. Use packaging.version instead.\n",
      "  weak_ft=T.tempopulsar('Perfect_Model.par','iteration_sub.tim')\n"
     ]
    },
    {
     "name": "stdout",
     "output_type": "stream",
     "text": [
      "spr************************************************* \n",
      "Warning: you are running in tempo1 emulation mode \n",
      "************************************************* \n",
      "\n"
     ]
    },
    {
     "name": "stderr",
     "output_type": "stream",
     "text": [
      "/tmp/ipykernel_8229/2184178469.py:98: DeprecationWarning: distutils Version classes are deprecated. Use packaging.version instead.\n",
      "  weak_ft=T.tempopulsar('Perfect_Model.par','iteration_sub.tim')\n"
     ]
    },
    {
     "name": "stdout",
     "output_type": "stream",
     "text": [
      "spr************************************************* \n",
      "Warning: you are running in tempo1 emulation mode \n",
      "************************************************* \n",
      "\n"
     ]
    },
    {
     "name": "stderr",
     "output_type": "stream",
     "text": [
      "/tmp/ipykernel_8229/2184178469.py:98: DeprecationWarning: distutils Version classes are deprecated. Use packaging.version instead.\n",
      "  weak_ft=T.tempopulsar('Perfect_Model.par','iteration_sub.tim')\n"
     ]
    },
    {
     "name": "stdout",
     "output_type": "stream",
     "text": [
      "spr************************************************* \n",
      "Warning: you are running in tempo1 emulation mode \n",
      "************************************************* \n",
      "\n"
     ]
    },
    {
     "name": "stderr",
     "output_type": "stream",
     "text": [
      "/tmp/ipykernel_8229/2184178469.py:98: DeprecationWarning: distutils Version classes are deprecated. Use packaging.version instead.\n",
      "  weak_ft=T.tempopulsar('Perfect_Model.par','iteration_sub.tim')\n"
     ]
    },
    {
     "name": "stdout",
     "output_type": "stream",
     "text": [
      "spr************************************************* \n",
      "Warning: you are running in tempo1 emulation mode \n",
      "************************************************* \n",
      "\n"
     ]
    },
    {
     "name": "stderr",
     "output_type": "stream",
     "text": [
      "/tmp/ipykernel_8229/2184178469.py:98: DeprecationWarning: distutils Version classes are deprecated. Use packaging.version instead.\n",
      "  weak_ft=T.tempopulsar('Perfect_Model.par','iteration_sub.tim')\n"
     ]
    },
    {
     "name": "stdout",
     "output_type": "stream",
     "text": [
      "spr************************************************* \n",
      "Warning: you are running in tempo1 emulation mode \n",
      "************************************************* \n",
      "\n"
     ]
    },
    {
     "name": "stderr",
     "output_type": "stream",
     "text": [
      "/tmp/ipykernel_8229/2184178469.py:98: DeprecationWarning: distutils Version classes are deprecated. Use packaging.version instead.\n",
      "  weak_ft=T.tempopulsar('Perfect_Model.par','iteration_sub.tim')\n"
     ]
    },
    {
     "name": "stdout",
     "output_type": "stream",
     "text": [
      "spr************************************************* \n",
      "Warning: you are running in tempo1 emulation mode \n",
      "************************************************* \n",
      "\n"
     ]
    },
    {
     "name": "stderr",
     "output_type": "stream",
     "text": [
      "/tmp/ipykernel_8229/2184178469.py:98: DeprecationWarning: distutils Version classes are deprecated. Use packaging.version instead.\n",
      "  weak_ft=T.tempopulsar('Perfect_Model.par','iteration_sub.tim')\n"
     ]
    },
    {
     "name": "stdout",
     "output_type": "stream",
     "text": [
      "spr************************************************* \n",
      "Warning: you are running in tempo1 emulation mode \n",
      "************************************************* \n",
      "\n"
     ]
    },
    {
     "name": "stderr",
     "output_type": "stream",
     "text": [
      "/tmp/ipykernel_8229/2184178469.py:98: DeprecationWarning: distutils Version classes are deprecated. Use packaging.version instead.\n",
      "  weak_ft=T.tempopulsar('Perfect_Model.par','iteration_sub.tim')\n"
     ]
    },
    {
     "name": "stdout",
     "output_type": "stream",
     "text": [
      "spr************************************************* \n",
      "Warning: you are running in tempo1 emulation mode \n",
      "************************************************* \n",
      "\n"
     ]
    },
    {
     "name": "stderr",
     "output_type": "stream",
     "text": [
      "/tmp/ipykernel_8229/2184178469.py:98: DeprecationWarning: distutils Version classes are deprecated. Use packaging.version instead.\n",
      "  weak_ft=T.tempopulsar('Perfect_Model.par','iteration_sub.tim')\n"
     ]
    },
    {
     "name": "stdout",
     "output_type": "stream",
     "text": [
      "spr************************************************* \n",
      "Warning: you are running in tempo1 emulation mode \n",
      "************************************************* \n",
      "\n"
     ]
    },
    {
     "name": "stderr",
     "output_type": "stream",
     "text": [
      "/tmp/ipykernel_8229/2184178469.py:98: DeprecationWarning: distutils Version classes are deprecated. Use packaging.version instead.\n",
      "  weak_ft=T.tempopulsar('Perfect_Model.par','iteration_sub.tim')\n"
     ]
    },
    {
     "name": "stdout",
     "output_type": "stream",
     "text": [
      "spr************************************************* \n",
      "Warning: you are running in tempo1 emulation mode \n",
      "************************************************* \n",
      "\n",
      "iteration: 18\n",
      "************************************************* \n",
      "Warning: you are running in tempo1 emulation mode \n",
      "************************************************* \n",
      "************************************************* \n",
      "Warning: you are running in tempo1 emulation mode \n",
      "************************************************* \n"
     ]
    },
    {
     "name": "stderr",
     "output_type": "stream",
     "text": [
      "/tmp/ipykernel_8229/2184178469.py:98: DeprecationWarning: distutils Version classes are deprecated. Use packaging.version instead.\n",
      "  weak_ft=T.tempopulsar('Perfect_Model.par','iteration_sub.tim')\n"
     ]
    },
    {
     "name": "stdout",
     "output_type": "stream",
     "text": [
      "spr************************************************* \n",
      "Warning: you are running in tempo1 emulation mode \n",
      "************************************************* \n",
      "\n"
     ]
    },
    {
     "name": "stderr",
     "output_type": "stream",
     "text": [
      "/tmp/ipykernel_8229/2184178469.py:98: DeprecationWarning: distutils Version classes are deprecated. Use packaging.version instead.\n",
      "  weak_ft=T.tempopulsar('Perfect_Model.par','iteration_sub.tim')\n"
     ]
    },
    {
     "name": "stdout",
     "output_type": "stream",
     "text": [
      "spr\n",
      "************************************************* \n",
      "Warning: you are running in tempo1 emulation mode \n",
      "************************************************* \n"
     ]
    },
    {
     "name": "stderr",
     "output_type": "stream",
     "text": [
      "/tmp/ipykernel_8229/2184178469.py:98: DeprecationWarning: distutils Version classes are deprecated. Use packaging.version instead.\n",
      "  weak_ft=T.tempopulsar('Perfect_Model.par','iteration_sub.tim')\n"
     ]
    },
    {
     "name": "stdout",
     "output_type": "stream",
     "text": [
      "spr\n",
      "************************************************* \n",
      "Warning: you are running in tempo1 emulation mode \n",
      "************************************************* \n"
     ]
    },
    {
     "name": "stderr",
     "output_type": "stream",
     "text": [
      "/tmp/ipykernel_8229/2184178469.py:98: DeprecationWarning: distutils Version classes are deprecated. Use packaging.version instead.\n",
      "  weak_ft=T.tempopulsar('Perfect_Model.par','iteration_sub.tim')\n"
     ]
    },
    {
     "name": "stdout",
     "output_type": "stream",
     "text": [
      "spr************************************************* \n",
      "Warning: you are running in tempo1 emulation mode \n",
      "************************************************* \n",
      "\n"
     ]
    },
    {
     "name": "stderr",
     "output_type": "stream",
     "text": [
      "/tmp/ipykernel_8229/2184178469.py:98: DeprecationWarning: distutils Version classes are deprecated. Use packaging.version instead.\n",
      "  weak_ft=T.tempopulsar('Perfect_Model.par','iteration_sub.tim')\n"
     ]
    },
    {
     "name": "stdout",
     "output_type": "stream",
     "text": [
      "spr************************************************* \n",
      "Warning: you are running in tempo1 emulation mode \n",
      "************************************************* \n",
      "\n"
     ]
    },
    {
     "name": "stderr",
     "output_type": "stream",
     "text": [
      "/tmp/ipykernel_8229/2184178469.py:98: DeprecationWarning: distutils Version classes are deprecated. Use packaging.version instead.\n",
      "  weak_ft=T.tempopulsar('Perfect_Model.par','iteration_sub.tim')\n"
     ]
    },
    {
     "name": "stdout",
     "output_type": "stream",
     "text": [
      "spr************************************************* \n",
      "Warning: you are running in tempo1 emulation mode \n",
      "************************************************* \n",
      "\n"
     ]
    },
    {
     "name": "stderr",
     "output_type": "stream",
     "text": [
      "/tmp/ipykernel_8229/2184178469.py:98: DeprecationWarning: distutils Version classes are deprecated. Use packaging.version instead.\n",
      "  weak_ft=T.tempopulsar('Perfect_Model.par','iteration_sub.tim')\n"
     ]
    },
    {
     "name": "stdout",
     "output_type": "stream",
     "text": [
      "spr************************************************* \n",
      "Warning: you are running in tempo1 emulation mode \n",
      "************************************************* \n",
      "\n"
     ]
    },
    {
     "name": "stderr",
     "output_type": "stream",
     "text": [
      "/tmp/ipykernel_8229/2184178469.py:98: DeprecationWarning: distutils Version classes are deprecated. Use packaging.version instead.\n",
      "  weak_ft=T.tempopulsar('Perfect_Model.par','iteration_sub.tim')\n"
     ]
    },
    {
     "name": "stdout",
     "output_type": "stream",
     "text": [
      "spr************************************************* \n",
      "Warning: you are running in tempo1 emulation mode \n",
      "************************************************* \n",
      "\n"
     ]
    },
    {
     "name": "stderr",
     "output_type": "stream",
     "text": [
      "/tmp/ipykernel_8229/2184178469.py:98: DeprecationWarning: distutils Version classes are deprecated. Use packaging.version instead.\n",
      "  weak_ft=T.tempopulsar('Perfect_Model.par','iteration_sub.tim')\n"
     ]
    },
    {
     "name": "stdout",
     "output_type": "stream",
     "text": [
      "spr************************************************* \n",
      "Warning: you are running in tempo1 emulation mode \n",
      "************************************************* \n",
      "\n"
     ]
    },
    {
     "name": "stderr",
     "output_type": "stream",
     "text": [
      "/tmp/ipykernel_8229/2184178469.py:98: DeprecationWarning: distutils Version classes are deprecated. Use packaging.version instead.\n",
      "  weak_ft=T.tempopulsar('Perfect_Model.par','iteration_sub.tim')\n"
     ]
    },
    {
     "name": "stdout",
     "output_type": "stream",
     "text": [
      "spr************************************************* \n",
      "Warning: you are running in tempo1 emulation mode \n",
      "************************************************* \n",
      "\n",
      "iteration: 19\n",
      "************************************************* \n",
      "Warning: you are running in tempo1 emulation mode \n",
      "************************************************* \n",
      "************************************************* \n",
      "Warning: you are running in tempo1 emulation mode \n",
      "************************************************* \n"
     ]
    },
    {
     "name": "stderr",
     "output_type": "stream",
     "text": [
      "/tmp/ipykernel_8229/2184178469.py:98: DeprecationWarning: distutils Version classes are deprecated. Use packaging.version instead.\n",
      "  weak_ft=T.tempopulsar('Perfect_Model.par','iteration_sub.tim')\n"
     ]
    },
    {
     "name": "stdout",
     "output_type": "stream",
     "text": [
      "spr************************************************* \n",
      "Warning: you are running in tempo1 emulation mode \n",
      "************************************************* \n",
      "\n"
     ]
    },
    {
     "name": "stderr",
     "output_type": "stream",
     "text": [
      "/tmp/ipykernel_8229/2184178469.py:98: DeprecationWarning: distutils Version classes are deprecated. Use packaging.version instead.\n",
      "  weak_ft=T.tempopulsar('Perfect_Model.par','iteration_sub.tim')\n"
     ]
    },
    {
     "name": "stdout",
     "output_type": "stream",
     "text": [
      "spr************************************************* \n",
      "Warning: you are running in tempo1 emulation mode \n",
      "************************************************* \n",
      "\n"
     ]
    },
    {
     "name": "stderr",
     "output_type": "stream",
     "text": [
      "/tmp/ipykernel_8229/2184178469.py:98: DeprecationWarning: distutils Version classes are deprecated. Use packaging.version instead.\n",
      "  weak_ft=T.tempopulsar('Perfect_Model.par','iteration_sub.tim')\n"
     ]
    },
    {
     "name": "stdout",
     "output_type": "stream",
     "text": [
      "spr************************************************* \n",
      "Warning: you are running in tempo1 emulation mode \n",
      "************************************************* \n",
      "\n"
     ]
    },
    {
     "name": "stderr",
     "output_type": "stream",
     "text": [
      "/tmp/ipykernel_8229/2184178469.py:98: DeprecationWarning: distutils Version classes are deprecated. Use packaging.version instead.\n",
      "  weak_ft=T.tempopulsar('Perfect_Model.par','iteration_sub.tim')\n"
     ]
    },
    {
     "name": "stdout",
     "output_type": "stream",
     "text": [
      "spr************************************************* \n",
      "Warning: you are running in tempo1 emulation mode \n",
      "************************************************* \n",
      "\n"
     ]
    },
    {
     "name": "stderr",
     "output_type": "stream",
     "text": [
      "/tmp/ipykernel_8229/2184178469.py:98: DeprecationWarning: distutils Version classes are deprecated. Use packaging.version instead.\n",
      "  weak_ft=T.tempopulsar('Perfect_Model.par','iteration_sub.tim')\n"
     ]
    },
    {
     "name": "stdout",
     "output_type": "stream",
     "text": [
      "spr************************************************* \n",
      "Warning: you are running in tempo1 emulation mode \n",
      "************************************************* \n",
      "\n"
     ]
    },
    {
     "name": "stderr",
     "output_type": "stream",
     "text": [
      "/tmp/ipykernel_8229/2184178469.py:98: DeprecationWarning: distutils Version classes are deprecated. Use packaging.version instead.\n",
      "  weak_ft=T.tempopulsar('Perfect_Model.par','iteration_sub.tim')\n"
     ]
    },
    {
     "name": "stdout",
     "output_type": "stream",
     "text": [
      "spr************************************************* \n",
      "Warning: you are running in tempo1 emulation mode \n",
      "************************************************* \n",
      "\n"
     ]
    },
    {
     "name": "stderr",
     "output_type": "stream",
     "text": [
      "/tmp/ipykernel_8229/2184178469.py:98: DeprecationWarning: distutils Version classes are deprecated. Use packaging.version instead.\n",
      "  weak_ft=T.tempopulsar('Perfect_Model.par','iteration_sub.tim')\n"
     ]
    },
    {
     "name": "stdout",
     "output_type": "stream",
     "text": [
      "spr************************************************* \n",
      "Warning: you are running in tempo1 emulation mode \n",
      "************************************************* \n",
      "\n"
     ]
    },
    {
     "name": "stderr",
     "output_type": "stream",
     "text": [
      "/tmp/ipykernel_8229/2184178469.py:98: DeprecationWarning: distutils Version classes are deprecated. Use packaging.version instead.\n",
      "  weak_ft=T.tempopulsar('Perfect_Model.par','iteration_sub.tim')\n"
     ]
    },
    {
     "name": "stdout",
     "output_type": "stream",
     "text": [
      "spr************************************************* \n",
      "Warning: you are running in tempo1 emulation mode \n",
      "************************************************* \n",
      "\n"
     ]
    },
    {
     "name": "stderr",
     "output_type": "stream",
     "text": [
      "/tmp/ipykernel_8229/2184178469.py:98: DeprecationWarning: distutils Version classes are deprecated. Use packaging.version instead.\n",
      "  weak_ft=T.tempopulsar('Perfect_Model.par','iteration_sub.tim')\n"
     ]
    },
    {
     "name": "stdout",
     "output_type": "stream",
     "text": [
      "spr************************************************* \n",
      "Warning: you are running in tempo1 emulation mode \n",
      "************************************************* \n",
      "\n"
     ]
    },
    {
     "name": "stderr",
     "output_type": "stream",
     "text": [
      "/tmp/ipykernel_8229/2184178469.py:98: DeprecationWarning: distutils Version classes are deprecated. Use packaging.version instead.\n",
      "  weak_ft=T.tempopulsar('Perfect_Model.par','iteration_sub.tim')\n"
     ]
    },
    {
     "name": "stdout",
     "output_type": "stream",
     "text": [
      "************************************************* \n",
      "Warning: you are running in tempo1 emulation mode \n",
      "************************************************* \n",
      "spr\n",
      "iteration: 20\n",
      "************************************************* \n",
      "Warning: you are running in tempo1 emulation mode \n",
      "************************************************* \n",
      "************************************************* \n",
      "Warning: you are running in tempo1 emulation mode \n",
      "************************************************* \n"
     ]
    },
    {
     "name": "stderr",
     "output_type": "stream",
     "text": [
      "/tmp/ipykernel_8229/2184178469.py:98: DeprecationWarning: distutils Version classes are deprecated. Use packaging.version instead.\n",
      "  weak_ft=T.tempopulsar('Perfect_Model.par','iteration_sub.tim')\n"
     ]
    },
    {
     "name": "stdout",
     "output_type": "stream",
     "text": [
      "spr************************************************* \n",
      "Warning: you are running in tempo1 emulation mode \n",
      "************************************************* \n",
      "\n"
     ]
    },
    {
     "name": "stderr",
     "output_type": "stream",
     "text": [
      "/tmp/ipykernel_8229/2184178469.py:98: DeprecationWarning: distutils Version classes are deprecated. Use packaging.version instead.\n",
      "  weak_ft=T.tempopulsar('Perfect_Model.par','iteration_sub.tim')\n"
     ]
    },
    {
     "name": "stdout",
     "output_type": "stream",
     "text": [
      "spr************************************************* \n",
      "Warning: you are running in tempo1 emulation mode \n",
      "************************************************* \n",
      "\n"
     ]
    },
    {
     "name": "stderr",
     "output_type": "stream",
     "text": [
      "/tmp/ipykernel_8229/2184178469.py:98: DeprecationWarning: distutils Version classes are deprecated. Use packaging.version instead.\n",
      "  weak_ft=T.tempopulsar('Perfect_Model.par','iteration_sub.tim')\n"
     ]
    },
    {
     "name": "stdout",
     "output_type": "stream",
     "text": [
      "spr************************************************* \n",
      "Warning: you are running in tempo1 emulation mode \n",
      "************************************************* \n",
      "\n"
     ]
    },
    {
     "name": "stderr",
     "output_type": "stream",
     "text": [
      "/tmp/ipykernel_8229/2184178469.py:98: DeprecationWarning: distutils Version classes are deprecated. Use packaging.version instead.\n",
      "  weak_ft=T.tempopulsar('Perfect_Model.par','iteration_sub.tim')\n"
     ]
    },
    {
     "name": "stdout",
     "output_type": "stream",
     "text": [
      "spr************************************************* \n",
      "Warning: you are running in tempo1 emulation mode \n",
      "************************************************* \n",
      "\n"
     ]
    },
    {
     "name": "stderr",
     "output_type": "stream",
     "text": [
      "/tmp/ipykernel_8229/2184178469.py:98: DeprecationWarning: distutils Version classes are deprecated. Use packaging.version instead.\n",
      "  weak_ft=T.tempopulsar('Perfect_Model.par','iteration_sub.tim')\n"
     ]
    },
    {
     "name": "stdout",
     "output_type": "stream",
     "text": [
      "spr************************************************* \n",
      "Warning: you are running in tempo1 emulation mode \n",
      "************************************************* \n",
      "\n"
     ]
    },
    {
     "name": "stderr",
     "output_type": "stream",
     "text": [
      "/tmp/ipykernel_8229/2184178469.py:98: DeprecationWarning: distutils Version classes are deprecated. Use packaging.version instead.\n",
      "  weak_ft=T.tempopulsar('Perfect_Model.par','iteration_sub.tim')\n"
     ]
    },
    {
     "name": "stdout",
     "output_type": "stream",
     "text": [
      "spr************************************************* \n",
      "Warning: you are running in tempo1 emulation mode \n",
      "************************************************* \n",
      "\n"
     ]
    },
    {
     "name": "stderr",
     "output_type": "stream",
     "text": [
      "/tmp/ipykernel_8229/2184178469.py:98: DeprecationWarning: distutils Version classes are deprecated. Use packaging.version instead.\n",
      "  weak_ft=T.tempopulsar('Perfect_Model.par','iteration_sub.tim')\n"
     ]
    },
    {
     "name": "stdout",
     "output_type": "stream",
     "text": [
      "spr************************************************* \n",
      "Warning: you are running in tempo1 emulation mode \n",
      "************************************************* \n",
      "\n"
     ]
    },
    {
     "name": "stderr",
     "output_type": "stream",
     "text": [
      "/tmp/ipykernel_8229/2184178469.py:98: DeprecationWarning: distutils Version classes are deprecated. Use packaging.version instead.\n",
      "  weak_ft=T.tempopulsar('Perfect_Model.par','iteration_sub.tim')\n"
     ]
    },
    {
     "name": "stdout",
     "output_type": "stream",
     "text": [
      "spr************************************************* \n",
      "Warning: you are running in tempo1 emulation mode \n",
      "************************************************* \n",
      "\n"
     ]
    },
    {
     "name": "stderr",
     "output_type": "stream",
     "text": [
      "/tmp/ipykernel_8229/2184178469.py:98: DeprecationWarning: distutils Version classes are deprecated. Use packaging.version instead.\n",
      "  weak_ft=T.tempopulsar('Perfect_Model.par','iteration_sub.tim')\n"
     ]
    },
    {
     "name": "stdout",
     "output_type": "stream",
     "text": [
      "spr************************************************* \n",
      "Warning: you are running in tempo1 emulation mode \n",
      "************************************************* \n",
      "\n"
     ]
    },
    {
     "name": "stderr",
     "output_type": "stream",
     "text": [
      "/tmp/ipykernel_8229/2184178469.py:98: DeprecationWarning: distutils Version classes are deprecated. Use packaging.version instead.\n",
      "  weak_ft=T.tempopulsar('Perfect_Model.par','iteration_sub.tim')\n"
     ]
    },
    {
     "name": "stdout",
     "output_type": "stream",
     "text": [
      "spr************************************************* \n",
      "Warning: you are running in tempo1 emulation mode \n",
      "************************************************* \n",
      "\n",
      "iteration: 21\n",
      "************************************************* \n",
      "Warning: you are running in tempo1 emulation mode \n",
      "************************************************* \n",
      "************************************************* \n",
      "Warning: you are running in tempo1 emulation mode \n",
      "************************************************* \n"
     ]
    },
    {
     "name": "stderr",
     "output_type": "stream",
     "text": [
      "/tmp/ipykernel_8229/2184178469.py:98: DeprecationWarning: distutils Version classes are deprecated. Use packaging.version instead.\n",
      "  weak_ft=T.tempopulsar('Perfect_Model.par','iteration_sub.tim')\n"
     ]
    },
    {
     "name": "stdout",
     "output_type": "stream",
     "text": [
      "spr************************************************* \n",
      "Warning: you are running in tempo1 emulation mode \n",
      "************************************************* \n",
      "\n"
     ]
    },
    {
     "name": "stderr",
     "output_type": "stream",
     "text": [
      "/tmp/ipykernel_8229/2184178469.py:98: DeprecationWarning: distutils Version classes are deprecated. Use packaging.version instead.\n",
      "  weak_ft=T.tempopulsar('Perfect_Model.par','iteration_sub.tim')\n"
     ]
    },
    {
     "name": "stdout",
     "output_type": "stream",
     "text": [
      "spr************************************************* \n",
      "Warning: you are running in tempo1 emulation mode \n",
      "************************************************* \n",
      "\n"
     ]
    },
    {
     "name": "stderr",
     "output_type": "stream",
     "text": [
      "/tmp/ipykernel_8229/2184178469.py:98: DeprecationWarning: distutils Version classes are deprecated. Use packaging.version instead.\n",
      "  weak_ft=T.tempopulsar('Perfect_Model.par','iteration_sub.tim')\n"
     ]
    },
    {
     "name": "stdout",
     "output_type": "stream",
     "text": [
      "spr************************************************* \n",
      "Warning: you are running in tempo1 emulation mode \n",
      "************************************************* \n",
      "\n"
     ]
    },
    {
     "name": "stderr",
     "output_type": "stream",
     "text": [
      "/tmp/ipykernel_8229/2184178469.py:98: DeprecationWarning: distutils Version classes are deprecated. Use packaging.version instead.\n",
      "  weak_ft=T.tempopulsar('Perfect_Model.par','iteration_sub.tim')\n"
     ]
    },
    {
     "name": "stdout",
     "output_type": "stream",
     "text": [
      "spr************************************************* \n",
      "Warning: you are running in tempo1 emulation mode \n",
      "************************************************* \n",
      "\n"
     ]
    },
    {
     "name": "stderr",
     "output_type": "stream",
     "text": [
      "/tmp/ipykernel_8229/2184178469.py:98: DeprecationWarning: distutils Version classes are deprecated. Use packaging.version instead.\n",
      "  weak_ft=T.tempopulsar('Perfect_Model.par','iteration_sub.tim')\n"
     ]
    },
    {
     "name": "stdout",
     "output_type": "stream",
     "text": [
      "spr************************************************* \n",
      "Warning: you are running in tempo1 emulation mode \n",
      "************************************************* \n",
      "\n"
     ]
    },
    {
     "name": "stderr",
     "output_type": "stream",
     "text": [
      "/tmp/ipykernel_8229/2184178469.py:98: DeprecationWarning: distutils Version classes are deprecated. Use packaging.version instead.\n",
      "  weak_ft=T.tempopulsar('Perfect_Model.par','iteration_sub.tim')\n"
     ]
    },
    {
     "name": "stdout",
     "output_type": "stream",
     "text": [
      "spr************************************************* \n",
      "Warning: you are running in tempo1 emulation mode \n",
      "************************************************* \n",
      "\n"
     ]
    },
    {
     "name": "stderr",
     "output_type": "stream",
     "text": [
      "/tmp/ipykernel_8229/2184178469.py:98: DeprecationWarning: distutils Version classes are deprecated. Use packaging.version instead.\n",
      "  weak_ft=T.tempopulsar('Perfect_Model.par','iteration_sub.tim')\n"
     ]
    },
    {
     "name": "stdout",
     "output_type": "stream",
     "text": [
      "************************************************* \n",
      "Warning: you are running in tempo1 emulation mode \n",
      "************************************************* \n",
      "spr\n"
     ]
    },
    {
     "name": "stderr",
     "output_type": "stream",
     "text": [
      "/tmp/ipykernel_8229/2184178469.py:98: DeprecationWarning: distutils Version classes are deprecated. Use packaging.version instead.\n",
      "  weak_ft=T.tempopulsar('Perfect_Model.par','iteration_sub.tim')\n"
     ]
    },
    {
     "name": "stdout",
     "output_type": "stream",
     "text": [
      "spr************************************************* \n",
      "Warning: you are running in tempo1 emulation mode \n",
      "************************************************* \n",
      "\n"
     ]
    },
    {
     "name": "stderr",
     "output_type": "stream",
     "text": [
      "/tmp/ipykernel_8229/2184178469.py:98: DeprecationWarning: distutils Version classes are deprecated. Use packaging.version instead.\n",
      "  weak_ft=T.tempopulsar('Perfect_Model.par','iteration_sub.tim')\n"
     ]
    },
    {
     "name": "stdout",
     "output_type": "stream",
     "text": [
      "spr************************************************* \n",
      "Warning: you are running in tempo1 emulation mode \n",
      "************************************************* \n",
      "\n"
     ]
    },
    {
     "name": "stderr",
     "output_type": "stream",
     "text": [
      "/tmp/ipykernel_8229/2184178469.py:98: DeprecationWarning: distutils Version classes are deprecated. Use packaging.version instead.\n",
      "  weak_ft=T.tempopulsar('Perfect_Model.par','iteration_sub.tim')\n"
     ]
    },
    {
     "name": "stdout",
     "output_type": "stream",
     "text": [
      "spr\n",
      "************************************************* \n",
      "Warning: you are running in tempo1 emulation mode \n",
      "************************************************* \n",
      "iteration: 22\n",
      "************************************************* \n",
      "Warning: you are running in tempo1 emulation mode \n",
      "************************************************* \n",
      "************************************************* \n",
      "Warning: you are running in tempo1 emulation mode \n",
      "************************************************* \n"
     ]
    },
    {
     "name": "stderr",
     "output_type": "stream",
     "text": [
      "/tmp/ipykernel_8229/2184178469.py:98: DeprecationWarning: distutils Version classes are deprecated. Use packaging.version instead.\n",
      "  weak_ft=T.tempopulsar('Perfect_Model.par','iteration_sub.tim')\n"
     ]
    },
    {
     "name": "stdout",
     "output_type": "stream",
     "text": [
      "spr************************************************* \n",
      "Warning: you are running in tempo1 emulation mode \n",
      "************************************************* \n",
      "\n"
     ]
    },
    {
     "name": "stderr",
     "output_type": "stream",
     "text": [
      "/tmp/ipykernel_8229/2184178469.py:98: DeprecationWarning: distutils Version classes are deprecated. Use packaging.version instead.\n",
      "  weak_ft=T.tempopulsar('Perfect_Model.par','iteration_sub.tim')\n"
     ]
    },
    {
     "name": "stdout",
     "output_type": "stream",
     "text": [
      "spr************************************************* \n",
      "Warning: you are running in tempo1 emulation mode \n",
      "************************************************* \n",
      "\n"
     ]
    },
    {
     "name": "stderr",
     "output_type": "stream",
     "text": [
      "/tmp/ipykernel_8229/2184178469.py:98: DeprecationWarning: distutils Version classes are deprecated. Use packaging.version instead.\n",
      "  weak_ft=T.tempopulsar('Perfect_Model.par','iteration_sub.tim')\n"
     ]
    },
    {
     "name": "stdout",
     "output_type": "stream",
     "text": [
      "spr************************************************* \n",
      "Warning: you are running in tempo1 emulation mode \n",
      "************************************************* \n",
      "\n"
     ]
    },
    {
     "name": "stderr",
     "output_type": "stream",
     "text": [
      "/tmp/ipykernel_8229/2184178469.py:98: DeprecationWarning: distutils Version classes are deprecated. Use packaging.version instead.\n",
      "  weak_ft=T.tempopulsar('Perfect_Model.par','iteration_sub.tim')\n"
     ]
    },
    {
     "name": "stdout",
     "output_type": "stream",
     "text": [
      "spr************************************************* \n",
      "Warning: you are running in tempo1 emulation mode \n",
      "************************************************* \n",
      "\n"
     ]
    },
    {
     "name": "stderr",
     "output_type": "stream",
     "text": [
      "/tmp/ipykernel_8229/2184178469.py:98: DeprecationWarning: distutils Version classes are deprecated. Use packaging.version instead.\n",
      "  weak_ft=T.tempopulsar('Perfect_Model.par','iteration_sub.tim')\n"
     ]
    },
    {
     "name": "stdout",
     "output_type": "stream",
     "text": [
      "spr************************************************* \n",
      "Warning: you are running in tempo1 emulation mode \n",
      "************************************************* \n",
      "\n"
     ]
    },
    {
     "name": "stderr",
     "output_type": "stream",
     "text": [
      "/tmp/ipykernel_8229/2184178469.py:98: DeprecationWarning: distutils Version classes are deprecated. Use packaging.version instead.\n",
      "  weak_ft=T.tempopulsar('Perfect_Model.par','iteration_sub.tim')\n"
     ]
    },
    {
     "name": "stdout",
     "output_type": "stream",
     "text": [
      "spr************************************************* \n",
      "Warning: you are running in tempo1 emulation mode \n",
      "************************************************* \n",
      "\n"
     ]
    },
    {
     "name": "stderr",
     "output_type": "stream",
     "text": [
      "/tmp/ipykernel_8229/2184178469.py:98: DeprecationWarning: distutils Version classes are deprecated. Use packaging.version instead.\n",
      "  weak_ft=T.tempopulsar('Perfect_Model.par','iteration_sub.tim')\n"
     ]
    },
    {
     "name": "stdout",
     "output_type": "stream",
     "text": [
      "************************************************* \n",
      "Warning: you are running in tempo1 emulation mode \n",
      "************************************************* \n",
      "spr\n"
     ]
    },
    {
     "name": "stderr",
     "output_type": "stream",
     "text": [
      "/tmp/ipykernel_8229/2184178469.py:98: DeprecationWarning: distutils Version classes are deprecated. Use packaging.version instead.\n",
      "  weak_ft=T.tempopulsar('Perfect_Model.par','iteration_sub.tim')\n"
     ]
    },
    {
     "name": "stdout",
     "output_type": "stream",
     "text": [
      "spr************************************************* \n",
      "Warning: you are running in tempo1 emulation mode \n",
      "************************************************* \n",
      "\n"
     ]
    },
    {
     "name": "stderr",
     "output_type": "stream",
     "text": [
      "/tmp/ipykernel_8229/2184178469.py:98: DeprecationWarning: distutils Version classes are deprecated. Use packaging.version instead.\n",
      "  weak_ft=T.tempopulsar('Perfect_Model.par','iteration_sub.tim')\n"
     ]
    },
    {
     "name": "stdout",
     "output_type": "stream",
     "text": [
      "spr\n",
      "************************************************* \n",
      "Warning: you are running in tempo1 emulation mode \n",
      "************************************************* \n"
     ]
    },
    {
     "name": "stderr",
     "output_type": "stream",
     "text": [
      "/tmp/ipykernel_8229/2184178469.py:98: DeprecationWarning: distutils Version classes are deprecated. Use packaging.version instead.\n",
      "  weak_ft=T.tempopulsar('Perfect_Model.par','iteration_sub.tim')\n"
     ]
    },
    {
     "name": "stdout",
     "output_type": "stream",
     "text": [
      "spr************************************************* \n",
      "Warning: you are running in tempo1 emulation mode \n",
      "************************************************* \n",
      "\n",
      "iteration: 23\n",
      "************************************************* \n",
      "Warning: you are running in tempo1 emulation mode \n",
      "************************************************* \n",
      "************************************************* \n",
      "Warning: you are running in tempo1 emulation mode \n",
      "************************************************* \n"
     ]
    },
    {
     "name": "stderr",
     "output_type": "stream",
     "text": [
      "/tmp/ipykernel_8229/2184178469.py:98: DeprecationWarning: distutils Version classes are deprecated. Use packaging.version instead.\n",
      "  weak_ft=T.tempopulsar('Perfect_Model.par','iteration_sub.tim')\n"
     ]
    },
    {
     "name": "stdout",
     "output_type": "stream",
     "text": [
      "spr************************************************* \n",
      "Warning: you are running in tempo1 emulation mode \n",
      "************************************************* \n",
      "\n"
     ]
    },
    {
     "name": "stderr",
     "output_type": "stream",
     "text": [
      "/tmp/ipykernel_8229/2184178469.py:98: DeprecationWarning: distutils Version classes are deprecated. Use packaging.version instead.\n",
      "  weak_ft=T.tempopulsar('Perfect_Model.par','iteration_sub.tim')\n"
     ]
    },
    {
     "name": "stdout",
     "output_type": "stream",
     "text": [
      "spr************************************************* \n",
      "Warning: you are running in tempo1 emulation mode \n",
      "************************************************* \n",
      "\n"
     ]
    },
    {
     "name": "stderr",
     "output_type": "stream",
     "text": [
      "/tmp/ipykernel_8229/2184178469.py:98: DeprecationWarning: distutils Version classes are deprecated. Use packaging.version instead.\n",
      "  weak_ft=T.tempopulsar('Perfect_Model.par','iteration_sub.tim')\n"
     ]
    },
    {
     "name": "stdout",
     "output_type": "stream",
     "text": [
      "spr************************************************* \n",
      "Warning: you are running in tempo1 emulation mode \n",
      "************************************************* \n",
      "\n"
     ]
    },
    {
     "name": "stderr",
     "output_type": "stream",
     "text": [
      "/tmp/ipykernel_8229/2184178469.py:98: DeprecationWarning: distutils Version classes are deprecated. Use packaging.version instead.\n",
      "  weak_ft=T.tempopulsar('Perfect_Model.par','iteration_sub.tim')\n"
     ]
    },
    {
     "name": "stdout",
     "output_type": "stream",
     "text": [
      "spr************************************************* \n",
      "Warning: you are running in tempo1 emulation mode \n",
      "************************************************* \n",
      "\n"
     ]
    },
    {
     "name": "stderr",
     "output_type": "stream",
     "text": [
      "/tmp/ipykernel_8229/2184178469.py:98: DeprecationWarning: distutils Version classes are deprecated. Use packaging.version instead.\n",
      "  weak_ft=T.tempopulsar('Perfect_Model.par','iteration_sub.tim')\n"
     ]
    },
    {
     "name": "stdout",
     "output_type": "stream",
     "text": [
      "spr************************************************* \n",
      "Warning: you are running in tempo1 emulation mode \n",
      "************************************************* \n",
      "\n"
     ]
    },
    {
     "name": "stderr",
     "output_type": "stream",
     "text": [
      "/tmp/ipykernel_8229/2184178469.py:98: DeprecationWarning: distutils Version classes are deprecated. Use packaging.version instead.\n",
      "  weak_ft=T.tempopulsar('Perfect_Model.par','iteration_sub.tim')\n"
     ]
    },
    {
     "name": "stdout",
     "output_type": "stream",
     "text": [
      "spr************************************************* \n",
      "Warning: you are running in tempo1 emulation mode \n",
      "************************************************* \n",
      "\n"
     ]
    },
    {
     "name": "stderr",
     "output_type": "stream",
     "text": [
      "/tmp/ipykernel_8229/2184178469.py:98: DeprecationWarning: distutils Version classes are deprecated. Use packaging.version instead.\n",
      "  weak_ft=T.tempopulsar('Perfect_Model.par','iteration_sub.tim')\n"
     ]
    },
    {
     "name": "stdout",
     "output_type": "stream",
     "text": [
      "************************************************* \n",
      "Warning: you are running in tempo1 emulation mode \n",
      "************************************************* \n",
      "spr\n"
     ]
    },
    {
     "name": "stderr",
     "output_type": "stream",
     "text": [
      "/tmp/ipykernel_8229/2184178469.py:98: DeprecationWarning: distutils Version classes are deprecated. Use packaging.version instead.\n",
      "  weak_ft=T.tempopulsar('Perfect_Model.par','iteration_sub.tim')\n"
     ]
    },
    {
     "name": "stdout",
     "output_type": "stream",
     "text": [
      "spr************************************************* \n",
      "Warning: you are running in tempo1 emulation mode \n",
      "************************************************* \n",
      "\n"
     ]
    },
    {
     "name": "stderr",
     "output_type": "stream",
     "text": [
      "/tmp/ipykernel_8229/2184178469.py:98: DeprecationWarning: distutils Version classes are deprecated. Use packaging.version instead.\n",
      "  weak_ft=T.tempopulsar('Perfect_Model.par','iteration_sub.tim')\n"
     ]
    },
    {
     "name": "stdout",
     "output_type": "stream",
     "text": [
      "spr\n",
      "************************************************* \n",
      "Warning: you are running in tempo1 emulation mode \n",
      "************************************************* \n"
     ]
    },
    {
     "name": "stderr",
     "output_type": "stream",
     "text": [
      "/tmp/ipykernel_8229/2184178469.py:98: DeprecationWarning: distutils Version classes are deprecated. Use packaging.version instead.\n",
      "  weak_ft=T.tempopulsar('Perfect_Model.par','iteration_sub.tim')\n"
     ]
    },
    {
     "name": "stdout",
     "output_type": "stream",
     "text": [
      "spr************************************************* \n",
      "Warning: you are running in tempo1 emulation mode \n",
      "************************************************* \n",
      "\n",
      "iteration: 24\n",
      "************************************************* \n",
      "Warning: you are running in tempo1 emulation mode \n",
      "************************************************* \n",
      "************************************************* \n",
      "Warning: you are running in tempo1 emulation mode \n",
      "************************************************* \n"
     ]
    },
    {
     "name": "stderr",
     "output_type": "stream",
     "text": [
      "/tmp/ipykernel_8229/2184178469.py:98: DeprecationWarning: distutils Version classes are deprecated. Use packaging.version instead.\n",
      "  weak_ft=T.tempopulsar('Perfect_Model.par','iteration_sub.tim')\n"
     ]
    },
    {
     "name": "stdout",
     "output_type": "stream",
     "text": [
      "************************************************* \n",
      "Warning: you are running in tempo1 emulation mode \n",
      "************************************************* \n",
      "spr\n"
     ]
    },
    {
     "name": "stderr",
     "output_type": "stream",
     "text": [
      "/tmp/ipykernel_8229/2184178469.py:98: DeprecationWarning: distutils Version classes are deprecated. Use packaging.version instead.\n",
      "  weak_ft=T.tempopulsar('Perfect_Model.par','iteration_sub.tim')\n"
     ]
    },
    {
     "name": "stdout",
     "output_type": "stream",
     "text": [
      "spr************************************************* \n",
      "Warning: you are running in tempo1 emulation mode \n",
      "************************************************* \n",
      "\n"
     ]
    },
    {
     "name": "stderr",
     "output_type": "stream",
     "text": [
      "/tmp/ipykernel_8229/2184178469.py:98: DeprecationWarning: distutils Version classes are deprecated. Use packaging.version instead.\n",
      "  weak_ft=T.tempopulsar('Perfect_Model.par','iteration_sub.tim')\n"
     ]
    },
    {
     "name": "stdout",
     "output_type": "stream",
     "text": [
      "spr************************************************* \n",
      "Warning: you are running in tempo1 emulation mode \n",
      "************************************************* \n",
      "\n"
     ]
    },
    {
     "name": "stderr",
     "output_type": "stream",
     "text": [
      "/tmp/ipykernel_8229/2184178469.py:98: DeprecationWarning: distutils Version classes are deprecated. Use packaging.version instead.\n",
      "  weak_ft=T.tempopulsar('Perfect_Model.par','iteration_sub.tim')\n"
     ]
    },
    {
     "name": "stdout",
     "output_type": "stream",
     "text": [
      "spr************************************************* \n",
      "Warning: you are running in tempo1 emulation mode \n",
      "************************************************* \n",
      "\n"
     ]
    },
    {
     "name": "stderr",
     "output_type": "stream",
     "text": [
      "/tmp/ipykernel_8229/2184178469.py:98: DeprecationWarning: distutils Version classes are deprecated. Use packaging.version instead.\n",
      "  weak_ft=T.tempopulsar('Perfect_Model.par','iteration_sub.tim')\n"
     ]
    },
    {
     "name": "stdout",
     "output_type": "stream",
     "text": [
      "spr************************************************* \n",
      "Warning: you are running in tempo1 emulation mode \n",
      "************************************************* \n",
      "\n"
     ]
    },
    {
     "name": "stderr",
     "output_type": "stream",
     "text": [
      "/tmp/ipykernel_8229/2184178469.py:98: DeprecationWarning: distutils Version classes are deprecated. Use packaging.version instead.\n",
      "  weak_ft=T.tempopulsar('Perfect_Model.par','iteration_sub.tim')\n"
     ]
    },
    {
     "name": "stdout",
     "output_type": "stream",
     "text": [
      "spr************************************************* \n",
      "Warning: you are running in tempo1 emulation mode \n",
      "************************************************* \n",
      "\n"
     ]
    },
    {
     "name": "stderr",
     "output_type": "stream",
     "text": [
      "/tmp/ipykernel_8229/2184178469.py:98: DeprecationWarning: distutils Version classes are deprecated. Use packaging.version instead.\n",
      "  weak_ft=T.tempopulsar('Perfect_Model.par','iteration_sub.tim')\n"
     ]
    },
    {
     "name": "stdout",
     "output_type": "stream",
     "text": [
      "spr************************************************* \n",
      "Warning: you are running in tempo1 emulation mode \n",
      "************************************************* \n",
      "\n"
     ]
    },
    {
     "name": "stderr",
     "output_type": "stream",
     "text": [
      "/tmp/ipykernel_8229/2184178469.py:98: DeprecationWarning: distutils Version classes are deprecated. Use packaging.version instead.\n",
      "  weak_ft=T.tempopulsar('Perfect_Model.par','iteration_sub.tim')\n"
     ]
    },
    {
     "name": "stdout",
     "output_type": "stream",
     "text": [
      "spr************************************************* \n",
      "Warning: you are running in tempo1 emulation mode \n",
      "************************************************* \n",
      "\n"
     ]
    },
    {
     "name": "stderr",
     "output_type": "stream",
     "text": [
      "/tmp/ipykernel_8229/2184178469.py:98: DeprecationWarning: distutils Version classes are deprecated. Use packaging.version instead.\n",
      "  weak_ft=T.tempopulsar('Perfect_Model.par','iteration_sub.tim')\n"
     ]
    },
    {
     "name": "stdout",
     "output_type": "stream",
     "text": [
      "spr************************************************* \n",
      "Warning: you are running in tempo1 emulation mode \n",
      "************************************************* \n",
      "\n"
     ]
    },
    {
     "name": "stderr",
     "output_type": "stream",
     "text": [
      "/tmp/ipykernel_8229/2184178469.py:98: DeprecationWarning: distutils Version classes are deprecated. Use packaging.version instead.\n",
      "  weak_ft=T.tempopulsar('Perfect_Model.par','iteration_sub.tim')\n"
     ]
    },
    {
     "name": "stdout",
     "output_type": "stream",
     "text": [
      "spr************************************************* \n",
      "Warning: you are running in tempo1 emulation mode \n",
      "************************************************* \n",
      "\n",
      "iteration: 25\n",
      "************************************************* \n",
      "Warning: you are running in tempo1 emulation mode \n",
      "************************************************* \n",
      "************************************************* \n",
      "Warning: you are running in tempo1 emulation mode \n",
      "************************************************* \n"
     ]
    },
    {
     "name": "stderr",
     "output_type": "stream",
     "text": [
      "/tmp/ipykernel_8229/2184178469.py:98: DeprecationWarning: distutils Version classes are deprecated. Use packaging.version instead.\n",
      "  weak_ft=T.tempopulsar('Perfect_Model.par','iteration_sub.tim')\n"
     ]
    },
    {
     "name": "stdout",
     "output_type": "stream",
     "text": [
      "spr************************************************* \n",
      "Warning: you are running in tempo1 emulation mode \n",
      "************************************************* \n",
      "\n"
     ]
    },
    {
     "name": "stderr",
     "output_type": "stream",
     "text": [
      "/tmp/ipykernel_8229/2184178469.py:98: DeprecationWarning: distutils Version classes are deprecated. Use packaging.version instead.\n",
      "  weak_ft=T.tempopulsar('Perfect_Model.par','iteration_sub.tim')\n"
     ]
    },
    {
     "name": "stdout",
     "output_type": "stream",
     "text": [
      "spr************************************************* \n",
      "Warning: you are running in tempo1 emulation mode \n",
      "************************************************* \n",
      "\n"
     ]
    },
    {
     "name": "stderr",
     "output_type": "stream",
     "text": [
      "/tmp/ipykernel_8229/2184178469.py:98: DeprecationWarning: distutils Version classes are deprecated. Use packaging.version instead.\n",
      "  weak_ft=T.tempopulsar('Perfect_Model.par','iteration_sub.tim')\n"
     ]
    },
    {
     "name": "stdout",
     "output_type": "stream",
     "text": [
      "spr************************************************* \n",
      "Warning: you are running in tempo1 emulation mode \n",
      "************************************************* \n",
      "\n"
     ]
    },
    {
     "name": "stderr",
     "output_type": "stream",
     "text": [
      "/tmp/ipykernel_8229/2184178469.py:98: DeprecationWarning: distutils Version classes are deprecated. Use packaging.version instead.\n",
      "  weak_ft=T.tempopulsar('Perfect_Model.par','iteration_sub.tim')\n"
     ]
    },
    {
     "name": "stdout",
     "output_type": "stream",
     "text": [
      "spr************************************************* \n",
      "Warning: you are running in tempo1 emulation mode \n",
      "************************************************* \n",
      "\n"
     ]
    },
    {
     "name": "stderr",
     "output_type": "stream",
     "text": [
      "/tmp/ipykernel_8229/2184178469.py:98: DeprecationWarning: distutils Version classes are deprecated. Use packaging.version instead.\n",
      "  weak_ft=T.tempopulsar('Perfect_Model.par','iteration_sub.tim')\n"
     ]
    },
    {
     "name": "stdout",
     "output_type": "stream",
     "text": [
      "spr************************************************* \n",
      "Warning: you are running in tempo1 emulation mode \n",
      "************************************************* \n",
      "\n"
     ]
    },
    {
     "name": "stderr",
     "output_type": "stream",
     "text": [
      "/tmp/ipykernel_8229/2184178469.py:98: DeprecationWarning: distutils Version classes are deprecated. Use packaging.version instead.\n",
      "  weak_ft=T.tempopulsar('Perfect_Model.par','iteration_sub.tim')\n"
     ]
    },
    {
     "name": "stdout",
     "output_type": "stream",
     "text": [
      "spr************************************************* \n",
      "Warning: you are running in tempo1 emulation mode \n",
      "************************************************* \n",
      "\n"
     ]
    },
    {
     "name": "stderr",
     "output_type": "stream",
     "text": [
      "/tmp/ipykernel_8229/2184178469.py:98: DeprecationWarning: distutils Version classes are deprecated. Use packaging.version instead.\n",
      "  weak_ft=T.tempopulsar('Perfect_Model.par','iteration_sub.tim')\n"
     ]
    },
    {
     "name": "stdout",
     "output_type": "stream",
     "text": [
      "spr************************************************* \n",
      "Warning: you are running in tempo1 emulation mode \n",
      "************************************************* \n",
      "\n"
     ]
    },
    {
     "name": "stderr",
     "output_type": "stream",
     "text": [
      "/tmp/ipykernel_8229/2184178469.py:98: DeprecationWarning: distutils Version classes are deprecated. Use packaging.version instead.\n",
      "  weak_ft=T.tempopulsar('Perfect_Model.par','iteration_sub.tim')\n"
     ]
    },
    {
     "name": "stdout",
     "output_type": "stream",
     "text": [
      "spr************************************************* \n",
      "Warning: you are running in tempo1 emulation mode \n",
      "************************************************* \n",
      "\n"
     ]
    },
    {
     "name": "stderr",
     "output_type": "stream",
     "text": [
      "/tmp/ipykernel_8229/2184178469.py:98: DeprecationWarning: distutils Version classes are deprecated. Use packaging.version instead.\n",
      "  weak_ft=T.tempopulsar('Perfect_Model.par','iteration_sub.tim')\n"
     ]
    },
    {
     "name": "stdout",
     "output_type": "stream",
     "text": [
      "spr************************************************* \n",
      "Warning: you are running in tempo1 emulation mode \n",
      "************************************************* \n",
      "\n"
     ]
    },
    {
     "name": "stderr",
     "output_type": "stream",
     "text": [
      "/tmp/ipykernel_8229/2184178469.py:98: DeprecationWarning: distutils Version classes are deprecated. Use packaging.version instead.\n",
      "  weak_ft=T.tempopulsar('Perfect_Model.par','iteration_sub.tim')\n"
     ]
    },
    {
     "name": "stdout",
     "output_type": "stream",
     "text": [
      "spr************************************************* \n",
      "Warning: you are running in tempo1 emulation mode \n",
      "************************************************* \n",
      "\n",
      "iteration: 26\n",
      "************************************************* \n",
      "Warning: you are running in tempo1 emulation mode \n",
      "************************************************* \n",
      "************************************************* \n",
      "Warning: you are running in tempo1 emulation mode \n",
      "************************************************* \n"
     ]
    },
    {
     "name": "stderr",
     "output_type": "stream",
     "text": [
      "/tmp/ipykernel_8229/2184178469.py:98: DeprecationWarning: distutils Version classes are deprecated. Use packaging.version instead.\n",
      "  weak_ft=T.tempopulsar('Perfect_Model.par','iteration_sub.tim')\n"
     ]
    },
    {
     "name": "stdout",
     "output_type": "stream",
     "text": [
      "spr************************************************* \n",
      "Warning: you are running in tempo1 emulation mode \n",
      "************************************************* \n",
      "\n"
     ]
    },
    {
     "name": "stderr",
     "output_type": "stream",
     "text": [
      "/tmp/ipykernel_8229/2184178469.py:98: DeprecationWarning: distutils Version classes are deprecated. Use packaging.version instead.\n",
      "  weak_ft=T.tempopulsar('Perfect_Model.par','iteration_sub.tim')\n"
     ]
    },
    {
     "name": "stdout",
     "output_type": "stream",
     "text": [
      "spr************************************************* \n",
      "Warning: you are running in tempo1 emulation mode \n",
      "************************************************* \n",
      "\n"
     ]
    },
    {
     "name": "stderr",
     "output_type": "stream",
     "text": [
      "/tmp/ipykernel_8229/2184178469.py:98: DeprecationWarning: distutils Version classes are deprecated. Use packaging.version instead.\n",
      "  weak_ft=T.tempopulsar('Perfect_Model.par','iteration_sub.tim')\n"
     ]
    },
    {
     "name": "stdout",
     "output_type": "stream",
     "text": [
      "spr************************************************* \n",
      "Warning: you are running in tempo1 emulation mode \n",
      "************************************************* \n",
      "\n"
     ]
    },
    {
     "name": "stderr",
     "output_type": "stream",
     "text": [
      "/tmp/ipykernel_8229/2184178469.py:98: DeprecationWarning: distutils Version classes are deprecated. Use packaging.version instead.\n",
      "  weak_ft=T.tempopulsar('Perfect_Model.par','iteration_sub.tim')\n"
     ]
    },
    {
     "name": "stdout",
     "output_type": "stream",
     "text": [
      "spr************************************************* \n",
      "Warning: you are running in tempo1 emulation mode \n",
      "************************************************* \n",
      "\n"
     ]
    },
    {
     "name": "stderr",
     "output_type": "stream",
     "text": [
      "/tmp/ipykernel_8229/2184178469.py:98: DeprecationWarning: distutils Version classes are deprecated. Use packaging.version instead.\n",
      "  weak_ft=T.tempopulsar('Perfect_Model.par','iteration_sub.tim')\n"
     ]
    },
    {
     "name": "stdout",
     "output_type": "stream",
     "text": [
      "************************************************* \n",
      "Warning: you are running in tempo1 emulation mode \n",
      "************************************************* \n",
      "spr\n"
     ]
    },
    {
     "name": "stderr",
     "output_type": "stream",
     "text": [
      "/tmp/ipykernel_8229/2184178469.py:98: DeprecationWarning: distutils Version classes are deprecated. Use packaging.version instead.\n",
      "  weak_ft=T.tempopulsar('Perfect_Model.par','iteration_sub.tim')\n"
     ]
    },
    {
     "name": "stdout",
     "output_type": "stream",
     "text": [
      "spr************************************************* \n",
      "Warning: you are running in tempo1 emulation mode \n",
      "************************************************* \n",
      "\n"
     ]
    },
    {
     "name": "stderr",
     "output_type": "stream",
     "text": [
      "/tmp/ipykernel_8229/2184178469.py:98: DeprecationWarning: distutils Version classes are deprecated. Use packaging.version instead.\n",
      "  weak_ft=T.tempopulsar('Perfect_Model.par','iteration_sub.tim')\n"
     ]
    },
    {
     "name": "stdout",
     "output_type": "stream",
     "text": [
      "spr************************************************* \n",
      "Warning: you are running in tempo1 emulation mode \n",
      "************************************************* \n",
      "\n"
     ]
    },
    {
     "name": "stderr",
     "output_type": "stream",
     "text": [
      "/tmp/ipykernel_8229/2184178469.py:98: DeprecationWarning: distutils Version classes are deprecated. Use packaging.version instead.\n",
      "  weak_ft=T.tempopulsar('Perfect_Model.par','iteration_sub.tim')\n"
     ]
    },
    {
     "name": "stdout",
     "output_type": "stream",
     "text": [
      "spr************************************************* \n",
      "Warning: you are running in tempo1 emulation mode \n",
      "************************************************* \n",
      "\n"
     ]
    },
    {
     "name": "stderr",
     "output_type": "stream",
     "text": [
      "/tmp/ipykernel_8229/2184178469.py:98: DeprecationWarning: distutils Version classes are deprecated. Use packaging.version instead.\n",
      "  weak_ft=T.tempopulsar('Perfect_Model.par','iteration_sub.tim')\n"
     ]
    },
    {
     "name": "stdout",
     "output_type": "stream",
     "text": [
      "************************************************* \n",
      "Warning: you are running in tempo1 emulation mode \n",
      "************************************************* \n",
      "spr\n"
     ]
    },
    {
     "name": "stderr",
     "output_type": "stream",
     "text": [
      "/tmp/ipykernel_8229/2184178469.py:98: DeprecationWarning: distutils Version classes are deprecated. Use packaging.version instead.\n",
      "  weak_ft=T.tempopulsar('Perfect_Model.par','iteration_sub.tim')\n"
     ]
    },
    {
     "name": "stdout",
     "output_type": "stream",
     "text": [
      "spr\n",
      "************************************************* \n",
      "Warning: you are running in tempo1 emulation mode \n",
      "************************************************* \n",
      "iteration: 27\n",
      "************************************************* \n",
      "Warning: you are running in tempo1 emulation mode \n",
      "************************************************* \n",
      "************************************************* \n",
      "Warning: you are running in tempo1 emulation mode \n",
      "************************************************* \n"
     ]
    },
    {
     "name": "stderr",
     "output_type": "stream",
     "text": [
      "/tmp/ipykernel_8229/2184178469.py:98: DeprecationWarning: distutils Version classes are deprecated. Use packaging.version instead.\n",
      "  weak_ft=T.tempopulsar('Perfect_Model.par','iteration_sub.tim')\n"
     ]
    },
    {
     "name": "stdout",
     "output_type": "stream",
     "text": [
      "spr************************************************* \n",
      "Warning: you are running in tempo1 emulation mode \n",
      "************************************************* \n",
      "\n"
     ]
    },
    {
     "name": "stderr",
     "output_type": "stream",
     "text": [
      "/tmp/ipykernel_8229/2184178469.py:98: DeprecationWarning: distutils Version classes are deprecated. Use packaging.version instead.\n",
      "  weak_ft=T.tempopulsar('Perfect_Model.par','iteration_sub.tim')\n"
     ]
    },
    {
     "name": "stdout",
     "output_type": "stream",
     "text": [
      "spr************************************************* \n",
      "Warning: you are running in tempo1 emulation mode \n",
      "************************************************* \n",
      "\n"
     ]
    },
    {
     "name": "stderr",
     "output_type": "stream",
     "text": [
      "/tmp/ipykernel_8229/2184178469.py:98: DeprecationWarning: distutils Version classes are deprecated. Use packaging.version instead.\n",
      "  weak_ft=T.tempopulsar('Perfect_Model.par','iteration_sub.tim')\n"
     ]
    },
    {
     "name": "stdout",
     "output_type": "stream",
     "text": [
      "spr************************************************* \n",
      "Warning: you are running in tempo1 emulation mode \n",
      "************************************************* \n",
      "\n"
     ]
    },
    {
     "name": "stderr",
     "output_type": "stream",
     "text": [
      "/tmp/ipykernel_8229/2184178469.py:98: DeprecationWarning: distutils Version classes are deprecated. Use packaging.version instead.\n",
      "  weak_ft=T.tempopulsar('Perfect_Model.par','iteration_sub.tim')\n"
     ]
    },
    {
     "name": "stdout",
     "output_type": "stream",
     "text": [
      "spr************************************************* \n",
      "Warning: you are running in tempo1 emulation mode \n",
      "************************************************* \n",
      "\n"
     ]
    },
    {
     "name": "stderr",
     "output_type": "stream",
     "text": [
      "/tmp/ipykernel_8229/2184178469.py:98: DeprecationWarning: distutils Version classes are deprecated. Use packaging.version instead.\n",
      "  weak_ft=T.tempopulsar('Perfect_Model.par','iteration_sub.tim')\n"
     ]
    },
    {
     "name": "stdout",
     "output_type": "stream",
     "text": [
      "spr************************************************* \n",
      "Warning: you are running in tempo1 emulation mode \n",
      "************************************************* \n",
      "\n"
     ]
    },
    {
     "name": "stderr",
     "output_type": "stream",
     "text": [
      "/tmp/ipykernel_8229/2184178469.py:98: DeprecationWarning: distutils Version classes are deprecated. Use packaging.version instead.\n",
      "  weak_ft=T.tempopulsar('Perfect_Model.par','iteration_sub.tim')\n"
     ]
    },
    {
     "name": "stdout",
     "output_type": "stream",
     "text": [
      "spr************************************************* \n",
      "Warning: you are running in tempo1 emulation mode \n",
      "************************************************* \n",
      "\n"
     ]
    },
    {
     "name": "stderr",
     "output_type": "stream",
     "text": [
      "/tmp/ipykernel_8229/2184178469.py:98: DeprecationWarning: distutils Version classes are deprecated. Use packaging.version instead.\n",
      "  weak_ft=T.tempopulsar('Perfect_Model.par','iteration_sub.tim')\n"
     ]
    },
    {
     "name": "stdout",
     "output_type": "stream",
     "text": [
      "************************************************* \n",
      "Warning: you are running in tempo1 emulation mode \n",
      "************************************************* \n",
      "spr\n"
     ]
    },
    {
     "name": "stderr",
     "output_type": "stream",
     "text": [
      "/tmp/ipykernel_8229/2184178469.py:98: DeprecationWarning: distutils Version classes are deprecated. Use packaging.version instead.\n",
      "  weak_ft=T.tempopulsar('Perfect_Model.par','iteration_sub.tim')\n"
     ]
    },
    {
     "name": "stdout",
     "output_type": "stream",
     "text": [
      "spr************************************************* \n",
      "Warning: you are running in tempo1 emulation mode \n",
      "************************************************* \n",
      "\n"
     ]
    },
    {
     "name": "stderr",
     "output_type": "stream",
     "text": [
      "/tmp/ipykernel_8229/2184178469.py:98: DeprecationWarning: distutils Version classes are deprecated. Use packaging.version instead.\n",
      "  weak_ft=T.tempopulsar('Perfect_Model.par','iteration_sub.tim')\n"
     ]
    },
    {
     "name": "stdout",
     "output_type": "stream",
     "text": [
      "spr************************************************* \n",
      "Warning: you are running in tempo1 emulation mode \n",
      "************************************************* \n",
      "\n"
     ]
    },
    {
     "name": "stderr",
     "output_type": "stream",
     "text": [
      "/tmp/ipykernel_8229/2184178469.py:98: DeprecationWarning: distutils Version classes are deprecated. Use packaging.version instead.\n",
      "  weak_ft=T.tempopulsar('Perfect_Model.par','iteration_sub.tim')\n"
     ]
    },
    {
     "name": "stdout",
     "output_type": "stream",
     "text": [
      "spr************************************************* \n",
      "Warning: you are running in tempo1 emulation mode \n",
      "************************************************* \n",
      "\n",
      "iteration: 28\n",
      "************************************************* \n",
      "Warning: you are running in tempo1 emulation mode \n",
      "************************************************* \n",
      "************************************************* \n",
      "Warning: you are running in tempo1 emulation mode \n",
      "************************************************* \n"
     ]
    },
    {
     "name": "stderr",
     "output_type": "stream",
     "text": [
      "/tmp/ipykernel_8229/2184178469.py:98: DeprecationWarning: distutils Version classes are deprecated. Use packaging.version instead.\n",
      "  weak_ft=T.tempopulsar('Perfect_Model.par','iteration_sub.tim')\n"
     ]
    },
    {
     "name": "stdout",
     "output_type": "stream",
     "text": [
      "spr************************************************* \n",
      "Warning: you are running in tempo1 emulation mode \n",
      "************************************************* \n",
      "\n"
     ]
    },
    {
     "name": "stderr",
     "output_type": "stream",
     "text": [
      "/tmp/ipykernel_8229/2184178469.py:98: DeprecationWarning: distutils Version classes are deprecated. Use packaging.version instead.\n",
      "  weak_ft=T.tempopulsar('Perfect_Model.par','iteration_sub.tim')\n"
     ]
    },
    {
     "name": "stdout",
     "output_type": "stream",
     "text": [
      "spr************************************************* \n",
      "Warning: you are running in tempo1 emulation mode \n",
      "************************************************* \n",
      "\n"
     ]
    },
    {
     "name": "stderr",
     "output_type": "stream",
     "text": [
      "/tmp/ipykernel_8229/2184178469.py:98: DeprecationWarning: distutils Version classes are deprecated. Use packaging.version instead.\n",
      "  weak_ft=T.tempopulsar('Perfect_Model.par','iteration_sub.tim')\n"
     ]
    },
    {
     "name": "stdout",
     "output_type": "stream",
     "text": [
      "spr************************************************* \n",
      "Warning: you are running in tempo1 emulation mode \n",
      "************************************************* \n",
      "\n"
     ]
    },
    {
     "name": "stderr",
     "output_type": "stream",
     "text": [
      "/tmp/ipykernel_8229/2184178469.py:98: DeprecationWarning: distutils Version classes are deprecated. Use packaging.version instead.\n",
      "  weak_ft=T.tempopulsar('Perfect_Model.par','iteration_sub.tim')\n"
     ]
    },
    {
     "name": "stdout",
     "output_type": "stream",
     "text": [
      "spr************************************************* \n",
      "Warning: you are running in tempo1 emulation mode \n",
      "************************************************* \n",
      "\n"
     ]
    },
    {
     "name": "stderr",
     "output_type": "stream",
     "text": [
      "/tmp/ipykernel_8229/2184178469.py:98: DeprecationWarning: distutils Version classes are deprecated. Use packaging.version instead.\n",
      "  weak_ft=T.tempopulsar('Perfect_Model.par','iteration_sub.tim')\n"
     ]
    },
    {
     "name": "stdout",
     "output_type": "stream",
     "text": [
      "spr************************************************* \n",
      "Warning: you are running in tempo1 emulation mode \n",
      "************************************************* \n",
      "\n"
     ]
    },
    {
     "name": "stderr",
     "output_type": "stream",
     "text": [
      "/tmp/ipykernel_8229/2184178469.py:98: DeprecationWarning: distutils Version classes are deprecated. Use packaging.version instead.\n",
      "  weak_ft=T.tempopulsar('Perfect_Model.par','iteration_sub.tim')\n"
     ]
    },
    {
     "name": "stdout",
     "output_type": "stream",
     "text": [
      "spr************************************************* \n",
      "Warning: you are running in tempo1 emulation mode \n",
      "************************************************* \n",
      "\n"
     ]
    },
    {
     "name": "stderr",
     "output_type": "stream",
     "text": [
      "/tmp/ipykernel_8229/2184178469.py:98: DeprecationWarning: distutils Version classes are deprecated. Use packaging.version instead.\n",
      "  weak_ft=T.tempopulsar('Perfect_Model.par','iteration_sub.tim')\n"
     ]
    },
    {
     "name": "stdout",
     "output_type": "stream",
     "text": [
      "spr************************************************* \n",
      "Warning: you are running in tempo1 emulation mode \n",
      "************************************************* \n",
      "\n"
     ]
    },
    {
     "name": "stderr",
     "output_type": "stream",
     "text": [
      "/tmp/ipykernel_8229/2184178469.py:98: DeprecationWarning: distutils Version classes are deprecated. Use packaging.version instead.\n",
      "  weak_ft=T.tempopulsar('Perfect_Model.par','iteration_sub.tim')\n"
     ]
    },
    {
     "name": "stdout",
     "output_type": "stream",
     "text": [
      "spr************************************************* \n",
      "Warning: you are running in tempo1 emulation mode \n",
      "************************************************* \n",
      "\n"
     ]
    },
    {
     "name": "stderr",
     "output_type": "stream",
     "text": [
      "/tmp/ipykernel_8229/2184178469.py:98: DeprecationWarning: distutils Version classes are deprecated. Use packaging.version instead.\n",
      "  weak_ft=T.tempopulsar('Perfect_Model.par','iteration_sub.tim')\n"
     ]
    },
    {
     "name": "stdout",
     "output_type": "stream",
     "text": [
      "spr************************************************* \n",
      "Warning: you are running in tempo1 emulation mode \n",
      "************************************************* \n",
      "\n"
     ]
    },
    {
     "name": "stderr",
     "output_type": "stream",
     "text": [
      "/tmp/ipykernel_8229/2184178469.py:98: DeprecationWarning: distutils Version classes are deprecated. Use packaging.version instead.\n",
      "  weak_ft=T.tempopulsar('Perfect_Model.par','iteration_sub.tim')\n"
     ]
    },
    {
     "name": "stdout",
     "output_type": "stream",
     "text": [
      "spr************************************************* \n",
      "Warning: you are running in tempo1 emulation mode \n",
      "************************************************* \n",
      "\n",
      "iteration: 29\n",
      "************************************************* \n",
      "Warning: you are running in tempo1 emulation mode \n",
      "************************************************* \n",
      "************************************************* \n",
      "Warning: you are running in tempo1 emulation mode \n",
      "************************************************* \n"
     ]
    },
    {
     "name": "stderr",
     "output_type": "stream",
     "text": [
      "/tmp/ipykernel_8229/2184178469.py:98: DeprecationWarning: distutils Version classes are deprecated. Use packaging.version instead.\n",
      "  weak_ft=T.tempopulsar('Perfect_Model.par','iteration_sub.tim')\n"
     ]
    },
    {
     "name": "stdout",
     "output_type": "stream",
     "text": [
      "************************************************* \n",
      "Warning: you are running in tempo1 emulation mode \n",
      "************************************************* \n",
      "spr\n"
     ]
    },
    {
     "name": "stderr",
     "output_type": "stream",
     "text": [
      "/tmp/ipykernel_8229/2184178469.py:98: DeprecationWarning: distutils Version classes are deprecated. Use packaging.version instead.\n",
      "  weak_ft=T.tempopulsar('Perfect_Model.par','iteration_sub.tim')\n"
     ]
    },
    {
     "name": "stdout",
     "output_type": "stream",
     "text": [
      "spr************************************************* \n",
      "Warning: you are running in tempo1 emulation mode \n",
      "************************************************* \n",
      "\n"
     ]
    },
    {
     "name": "stderr",
     "output_type": "stream",
     "text": [
      "/tmp/ipykernel_8229/2184178469.py:98: DeprecationWarning: distutils Version classes are deprecated. Use packaging.version instead.\n",
      "  weak_ft=T.tempopulsar('Perfect_Model.par','iteration_sub.tim')\n"
     ]
    },
    {
     "name": "stdout",
     "output_type": "stream",
     "text": [
      "spr************************************************* \n",
      "Warning: you are running in tempo1 emulation mode \n",
      "************************************************* \n",
      "\n"
     ]
    },
    {
     "name": "stderr",
     "output_type": "stream",
     "text": [
      "/tmp/ipykernel_8229/2184178469.py:98: DeprecationWarning: distutils Version classes are deprecated. Use packaging.version instead.\n",
      "  weak_ft=T.tempopulsar('Perfect_Model.par','iteration_sub.tim')\n"
     ]
    },
    {
     "name": "stdout",
     "output_type": "stream",
     "text": [
      "spr************************************************* \n",
      "Warning: you are running in tempo1 emulation mode \n",
      "************************************************* \n",
      "\n"
     ]
    },
    {
     "name": "stderr",
     "output_type": "stream",
     "text": [
      "/tmp/ipykernel_8229/2184178469.py:98: DeprecationWarning: distutils Version classes are deprecated. Use packaging.version instead.\n",
      "  weak_ft=T.tempopulsar('Perfect_Model.par','iteration_sub.tim')\n"
     ]
    },
    {
     "name": "stdout",
     "output_type": "stream",
     "text": [
      "spr\n",
      "************************************************* \n",
      "Warning: you are running in tempo1 emulation mode \n",
      "************************************************* \n"
     ]
    },
    {
     "name": "stderr",
     "output_type": "stream",
     "text": [
      "/tmp/ipykernel_8229/2184178469.py:98: DeprecationWarning: distutils Version classes are deprecated. Use packaging.version instead.\n",
      "  weak_ft=T.tempopulsar('Perfect_Model.par','iteration_sub.tim')\n"
     ]
    },
    {
     "name": "stdout",
     "output_type": "stream",
     "text": [
      "spr************************************************* \n",
      "Warning: you are running in tempo1 emulation mode \n",
      "************************************************* \n",
      "\n"
     ]
    },
    {
     "name": "stderr",
     "output_type": "stream",
     "text": [
      "/tmp/ipykernel_8229/2184178469.py:98: DeprecationWarning: distutils Version classes are deprecated. Use packaging.version instead.\n",
      "  weak_ft=T.tempopulsar('Perfect_Model.par','iteration_sub.tim')\n"
     ]
    },
    {
     "name": "stdout",
     "output_type": "stream",
     "text": [
      "spr************************************************* \n",
      "Warning: you are running in tempo1 emulation mode \n",
      "************************************************* \n",
      "\n"
     ]
    },
    {
     "name": "stderr",
     "output_type": "stream",
     "text": [
      "/tmp/ipykernel_8229/2184178469.py:98: DeprecationWarning: distutils Version classes are deprecated. Use packaging.version instead.\n",
      "  weak_ft=T.tempopulsar('Perfect_Model.par','iteration_sub.tim')\n"
     ]
    },
    {
     "name": "stdout",
     "output_type": "stream",
     "text": [
      "spr************************************************* \n",
      "Warning: you are running in tempo1 emulation mode \n",
      "************************************************* \n",
      "\n"
     ]
    },
    {
     "name": "stderr",
     "output_type": "stream",
     "text": [
      "/tmp/ipykernel_8229/2184178469.py:98: DeprecationWarning: distutils Version classes are deprecated. Use packaging.version instead.\n",
      "  weak_ft=T.tempopulsar('Perfect_Model.par','iteration_sub.tim')\n"
     ]
    },
    {
     "name": "stdout",
     "output_type": "stream",
     "text": [
      "spr************************************************* \n",
      "Warning: you are running in tempo1 emulation mode \n",
      "************************************************* \n",
      "\n"
     ]
    },
    {
     "name": "stderr",
     "output_type": "stream",
     "text": [
      "/tmp/ipykernel_8229/2184178469.py:98: DeprecationWarning: distutils Version classes are deprecated. Use packaging.version instead.\n",
      "  weak_ft=T.tempopulsar('Perfect_Model.par','iteration_sub.tim')\n"
     ]
    },
    {
     "name": "stdout",
     "output_type": "stream",
     "text": [
      "spr************************************************* \n",
      "Warning: you are running in tempo1 emulation mode \n",
      "************************************************* \n",
      "\n",
      "iteration: 30\n",
      "************************************************* \n",
      "Warning: you are running in tempo1 emulation mode \n",
      "************************************************* \n",
      "************************************************* \n",
      "Warning: you are running in tempo1 emulation mode \n",
      "************************************************* \n"
     ]
    },
    {
     "name": "stderr",
     "output_type": "stream",
     "text": [
      "/tmp/ipykernel_8229/2184178469.py:98: DeprecationWarning: distutils Version classes are deprecated. Use packaging.version instead.\n",
      "  weak_ft=T.tempopulsar('Perfect_Model.par','iteration_sub.tim')\n"
     ]
    },
    {
     "name": "stdout",
     "output_type": "stream",
     "text": [
      "spr************************************************* \n",
      "Warning: you are running in tempo1 emulation mode \n",
      "************************************************* \n",
      "\n"
     ]
    },
    {
     "name": "stderr",
     "output_type": "stream",
     "text": [
      "/tmp/ipykernel_8229/2184178469.py:98: DeprecationWarning: distutils Version classes are deprecated. Use packaging.version instead.\n",
      "  weak_ft=T.tempopulsar('Perfect_Model.par','iteration_sub.tim')\n"
     ]
    },
    {
     "name": "stdout",
     "output_type": "stream",
     "text": [
      "************************************************* \n",
      "Warning: you are running in tempo1 emulation mode \n",
      "************************************************* \n",
      "spr\n"
     ]
    },
    {
     "name": "stderr",
     "output_type": "stream",
     "text": [
      "/tmp/ipykernel_8229/2184178469.py:98: DeprecationWarning: distutils Version classes are deprecated. Use packaging.version instead.\n",
      "  weak_ft=T.tempopulsar('Perfect_Model.par','iteration_sub.tim')\n"
     ]
    },
    {
     "name": "stdout",
     "output_type": "stream",
     "text": [
      "spr************************************************* \n",
      "Warning: you are running in tempo1 emulation mode \n",
      "************************************************* \n",
      "\n"
     ]
    },
    {
     "name": "stderr",
     "output_type": "stream",
     "text": [
      "/tmp/ipykernel_8229/2184178469.py:98: DeprecationWarning: distutils Version classes are deprecated. Use packaging.version instead.\n",
      "  weak_ft=T.tempopulsar('Perfect_Model.par','iteration_sub.tim')\n"
     ]
    },
    {
     "name": "stdout",
     "output_type": "stream",
     "text": [
      "spr************************************************* \n",
      "Warning: you are running in tempo1 emulation mode \n",
      "************************************************* \n",
      "\n"
     ]
    },
    {
     "name": "stderr",
     "output_type": "stream",
     "text": [
      "/tmp/ipykernel_8229/2184178469.py:98: DeprecationWarning: distutils Version classes are deprecated. Use packaging.version instead.\n",
      "  weak_ft=T.tempopulsar('Perfect_Model.par','iteration_sub.tim')\n"
     ]
    },
    {
     "name": "stdout",
     "output_type": "stream",
     "text": [
      "spr************************************************* \n",
      "Warning: you are running in tempo1 emulation mode \n",
      "************************************************* \n",
      "\n"
     ]
    },
    {
     "name": "stderr",
     "output_type": "stream",
     "text": [
      "/tmp/ipykernel_8229/2184178469.py:98: DeprecationWarning: distutils Version classes are deprecated. Use packaging.version instead.\n",
      "  weak_ft=T.tempopulsar('Perfect_Model.par','iteration_sub.tim')\n"
     ]
    },
    {
     "name": "stdout",
     "output_type": "stream",
     "text": [
      "spr************************************************* \n",
      "Warning: you are running in tempo1 emulation mode \n",
      "************************************************* \n",
      "\n"
     ]
    },
    {
     "name": "stderr",
     "output_type": "stream",
     "text": [
      "/tmp/ipykernel_8229/2184178469.py:98: DeprecationWarning: distutils Version classes are deprecated. Use packaging.version instead.\n",
      "  weak_ft=T.tempopulsar('Perfect_Model.par','iteration_sub.tim')\n"
     ]
    },
    {
     "name": "stdout",
     "output_type": "stream",
     "text": [
      "************************************************* \n",
      "Warning: you are running in tempo1 emulation mode \n",
      "************************************************* \n",
      "spr\n"
     ]
    },
    {
     "name": "stderr",
     "output_type": "stream",
     "text": [
      "/tmp/ipykernel_8229/2184178469.py:98: DeprecationWarning: distutils Version classes are deprecated. Use packaging.version instead.\n",
      "  weak_ft=T.tempopulsar('Perfect_Model.par','iteration_sub.tim')\n"
     ]
    },
    {
     "name": "stdout",
     "output_type": "stream",
     "text": [
      "spr************************************************* \n",
      "Warning: you are running in tempo1 emulation mode \n",
      "************************************************* \n",
      "\n"
     ]
    },
    {
     "name": "stderr",
     "output_type": "stream",
     "text": [
      "/tmp/ipykernel_8229/2184178469.py:98: DeprecationWarning: distutils Version classes are deprecated. Use packaging.version instead.\n",
      "  weak_ft=T.tempopulsar('Perfect_Model.par','iteration_sub.tim')\n"
     ]
    },
    {
     "name": "stdout",
     "output_type": "stream",
     "text": [
      "************************************************* \n",
      "Warning: you are running in tempo1 emulation mode \n",
      "************************************************* \n",
      "spr\n"
     ]
    },
    {
     "name": "stderr",
     "output_type": "stream",
     "text": [
      "/tmp/ipykernel_8229/2184178469.py:98: DeprecationWarning: distutils Version classes are deprecated. Use packaging.version instead.\n",
      "  weak_ft=T.tempopulsar('Perfect_Model.par','iteration_sub.tim')\n"
     ]
    },
    {
     "name": "stdout",
     "output_type": "stream",
     "text": [
      "spr************************************************* \n",
      "Warning: you are running in tempo1 emulation mode \n",
      "************************************************* \n",
      "\n",
      "iteration: 31\n",
      "************************************************* \n",
      "Warning: you are running in tempo1 emulation mode \n",
      "************************************************* \n",
      "************************************************* \n",
      "Warning: you are running in tempo1 emulation mode \n",
      "************************************************* \n"
     ]
    },
    {
     "name": "stderr",
     "output_type": "stream",
     "text": [
      "/tmp/ipykernel_8229/2184178469.py:98: DeprecationWarning: distutils Version classes are deprecated. Use packaging.version instead.\n",
      "  weak_ft=T.tempopulsar('Perfect_Model.par','iteration_sub.tim')\n"
     ]
    },
    {
     "name": "stdout",
     "output_type": "stream",
     "text": [
      "spr************************************************* \n",
      "Warning: you are running in tempo1 emulation mode \n",
      "************************************************* \n",
      "\n"
     ]
    },
    {
     "name": "stderr",
     "output_type": "stream",
     "text": [
      "/tmp/ipykernel_8229/2184178469.py:98: DeprecationWarning: distutils Version classes are deprecated. Use packaging.version instead.\n",
      "  weak_ft=T.tempopulsar('Perfect_Model.par','iteration_sub.tim')\n"
     ]
    },
    {
     "name": "stdout",
     "output_type": "stream",
     "text": [
      "spr************************************************* \n",
      "Warning: you are running in tempo1 emulation mode \n",
      "************************************************* \n",
      "\n"
     ]
    },
    {
     "name": "stderr",
     "output_type": "stream",
     "text": [
      "/tmp/ipykernel_8229/2184178469.py:98: DeprecationWarning: distutils Version classes are deprecated. Use packaging.version instead.\n",
      "  weak_ft=T.tempopulsar('Perfect_Model.par','iteration_sub.tim')\n"
     ]
    },
    {
     "name": "stdout",
     "output_type": "stream",
     "text": [
      "spr************************************************* \n",
      "Warning: you are running in tempo1 emulation mode \n",
      "************************************************* \n",
      "\n"
     ]
    },
    {
     "name": "stderr",
     "output_type": "stream",
     "text": [
      "/tmp/ipykernel_8229/2184178469.py:98: DeprecationWarning: distutils Version classes are deprecated. Use packaging.version instead.\n",
      "  weak_ft=T.tempopulsar('Perfect_Model.par','iteration_sub.tim')\n"
     ]
    },
    {
     "name": "stdout",
     "output_type": "stream",
     "text": [
      "spr************************************************* \n",
      "Warning: you are running in tempo1 emulation mode \n",
      "************************************************* \n",
      "\n"
     ]
    },
    {
     "name": "stderr",
     "output_type": "stream",
     "text": [
      "/tmp/ipykernel_8229/2184178469.py:98: DeprecationWarning: distutils Version classes are deprecated. Use packaging.version instead.\n",
      "  weak_ft=T.tempopulsar('Perfect_Model.par','iteration_sub.tim')\n"
     ]
    },
    {
     "name": "stdout",
     "output_type": "stream",
     "text": [
      "spr************************************************* \n",
      "Warning: you are running in tempo1 emulation mode \n",
      "************************************************* \n",
      "\n"
     ]
    },
    {
     "name": "stderr",
     "output_type": "stream",
     "text": [
      "/tmp/ipykernel_8229/2184178469.py:98: DeprecationWarning: distutils Version classes are deprecated. Use packaging.version instead.\n",
      "  weak_ft=T.tempopulsar('Perfect_Model.par','iteration_sub.tim')\n"
     ]
    },
    {
     "name": "stdout",
     "output_type": "stream",
     "text": [
      "spr************************************************* \n",
      "Warning: you are running in tempo1 emulation mode \n",
      "************************************************* \n",
      "\n"
     ]
    },
    {
     "name": "stderr",
     "output_type": "stream",
     "text": [
      "/tmp/ipykernel_8229/2184178469.py:98: DeprecationWarning: distutils Version classes are deprecated. Use packaging.version instead.\n",
      "  weak_ft=T.tempopulsar('Perfect_Model.par','iteration_sub.tim')\n"
     ]
    },
    {
     "name": "stdout",
     "output_type": "stream",
     "text": [
      "spr************************************************* \n",
      "Warning: you are running in tempo1 emulation mode \n",
      "************************************************* \n",
      "\n"
     ]
    },
    {
     "name": "stderr",
     "output_type": "stream",
     "text": [
      "/tmp/ipykernel_8229/2184178469.py:98: DeprecationWarning: distutils Version classes are deprecated. Use packaging.version instead.\n",
      "  weak_ft=T.tempopulsar('Perfect_Model.par','iteration_sub.tim')\n"
     ]
    },
    {
     "name": "stdout",
     "output_type": "stream",
     "text": [
      "************************************************* \n",
      "Warning: you are running in tempo1 emulation mode \n",
      "************************************************* \n",
      "spr\n"
     ]
    },
    {
     "name": "stderr",
     "output_type": "stream",
     "text": [
      "/tmp/ipykernel_8229/2184178469.py:98: DeprecationWarning: distutils Version classes are deprecated. Use packaging.version instead.\n",
      "  weak_ft=T.tempopulsar('Perfect_Model.par','iteration_sub.tim')\n"
     ]
    },
    {
     "name": "stdout",
     "output_type": "stream",
     "text": [
      "spr\n",
      "************************************************* \n",
      "Warning: you are running in tempo1 emulation mode \n",
      "************************************************* \n"
     ]
    },
    {
     "name": "stderr",
     "output_type": "stream",
     "text": [
      "/tmp/ipykernel_8229/2184178469.py:98: DeprecationWarning: distutils Version classes are deprecated. Use packaging.version instead.\n",
      "  weak_ft=T.tempopulsar('Perfect_Model.par','iteration_sub.tim')\n"
     ]
    },
    {
     "name": "stdout",
     "output_type": "stream",
     "text": [
      "************************************************* \n",
      "Warning: you are running in tempo1 emulation mode \n",
      "************************************************* \n",
      "spr\n",
      "iteration: 32\n",
      "************************************************* \n",
      "Warning: you are running in tempo1 emulation mode \n",
      "************************************************* \n",
      "************************************************* \n",
      "Warning: you are running in tempo1 emulation mode \n",
      "************************************************* \n"
     ]
    },
    {
     "name": "stderr",
     "output_type": "stream",
     "text": [
      "/tmp/ipykernel_8229/2184178469.py:98: DeprecationWarning: distutils Version classes are deprecated. Use packaging.version instead.\n",
      "  weak_ft=T.tempopulsar('Perfect_Model.par','iteration_sub.tim')\n"
     ]
    },
    {
     "name": "stdout",
     "output_type": "stream",
     "text": [
      "spr************************************************* \n",
      "Warning: you are running in tempo1 emulation mode \n",
      "************************************************* \n",
      "\n"
     ]
    },
    {
     "name": "stderr",
     "output_type": "stream",
     "text": [
      "/tmp/ipykernel_8229/2184178469.py:98: DeprecationWarning: distutils Version classes are deprecated. Use packaging.version instead.\n",
      "  weak_ft=T.tempopulsar('Perfect_Model.par','iteration_sub.tim')\n"
     ]
    },
    {
     "name": "stdout",
     "output_type": "stream",
     "text": [
      "spr************************************************* \n",
      "Warning: you are running in tempo1 emulation mode \n",
      "************************************************* \n",
      "\n"
     ]
    },
    {
     "name": "stderr",
     "output_type": "stream",
     "text": [
      "/tmp/ipykernel_8229/2184178469.py:98: DeprecationWarning: distutils Version classes are deprecated. Use packaging.version instead.\n",
      "  weak_ft=T.tempopulsar('Perfect_Model.par','iteration_sub.tim')\n"
     ]
    },
    {
     "name": "stdout",
     "output_type": "stream",
     "text": [
      "spr************************************************* \n",
      "Warning: you are running in tempo1 emulation mode \n",
      "************************************************* \n",
      "\n"
     ]
    },
    {
     "name": "stderr",
     "output_type": "stream",
     "text": [
      "/tmp/ipykernel_8229/2184178469.py:98: DeprecationWarning: distutils Version classes are deprecated. Use packaging.version instead.\n",
      "  weak_ft=T.tempopulsar('Perfect_Model.par','iteration_sub.tim')\n"
     ]
    },
    {
     "name": "stdout",
     "output_type": "stream",
     "text": [
      "spr************************************************* \n",
      "Warning: you are running in tempo1 emulation mode \n",
      "************************************************* \n",
      "\n"
     ]
    },
    {
     "name": "stderr",
     "output_type": "stream",
     "text": [
      "/tmp/ipykernel_8229/2184178469.py:98: DeprecationWarning: distutils Version classes are deprecated. Use packaging.version instead.\n",
      "  weak_ft=T.tempopulsar('Perfect_Model.par','iteration_sub.tim')\n"
     ]
    },
    {
     "name": "stdout",
     "output_type": "stream",
     "text": [
      "spr************************************************* \n",
      "Warning: you are running in tempo1 emulation mode \n",
      "************************************************* \n",
      "\n"
     ]
    },
    {
     "name": "stderr",
     "output_type": "stream",
     "text": [
      "/tmp/ipykernel_8229/2184178469.py:98: DeprecationWarning: distutils Version classes are deprecated. Use packaging.version instead.\n",
      "  weak_ft=T.tempopulsar('Perfect_Model.par','iteration_sub.tim')\n"
     ]
    },
    {
     "name": "stdout",
     "output_type": "stream",
     "text": [
      "spr************************************************* \n",
      "Warning: you are running in tempo1 emulation mode \n",
      "************************************************* \n",
      "\n"
     ]
    },
    {
     "name": "stderr",
     "output_type": "stream",
     "text": [
      "/tmp/ipykernel_8229/2184178469.py:98: DeprecationWarning: distutils Version classes are deprecated. Use packaging.version instead.\n",
      "  weak_ft=T.tempopulsar('Perfect_Model.par','iteration_sub.tim')\n"
     ]
    },
    {
     "name": "stdout",
     "output_type": "stream",
     "text": [
      "spr************************************************* \n",
      "Warning: you are running in tempo1 emulation mode \n",
      "************************************************* \n",
      "\n"
     ]
    },
    {
     "name": "stderr",
     "output_type": "stream",
     "text": [
      "/tmp/ipykernel_8229/2184178469.py:98: DeprecationWarning: distutils Version classes are deprecated. Use packaging.version instead.\n",
      "  weak_ft=T.tempopulsar('Perfect_Model.par','iteration_sub.tim')\n"
     ]
    },
    {
     "name": "stdout",
     "output_type": "stream",
     "text": [
      "spr************************************************* \n",
      "Warning: you are running in tempo1 emulation mode \n",
      "************************************************* \n",
      "\n"
     ]
    },
    {
     "name": "stderr",
     "output_type": "stream",
     "text": [
      "/tmp/ipykernel_8229/2184178469.py:98: DeprecationWarning: distutils Version classes are deprecated. Use packaging.version instead.\n",
      "  weak_ft=T.tempopulsar('Perfect_Model.par','iteration_sub.tim')\n"
     ]
    },
    {
     "name": "stdout",
     "output_type": "stream",
     "text": [
      "spr************************************************* \n",
      "Warning: you are running in tempo1 emulation mode \n",
      "************************************************* \n",
      "\n"
     ]
    },
    {
     "name": "stderr",
     "output_type": "stream",
     "text": [
      "/tmp/ipykernel_8229/2184178469.py:98: DeprecationWarning: distutils Version classes are deprecated. Use packaging.version instead.\n",
      "  weak_ft=T.tempopulsar('Perfect_Model.par','iteration_sub.tim')\n"
     ]
    },
    {
     "name": "stdout",
     "output_type": "stream",
     "text": [
      "spr\n",
      "************************************************* \n",
      "Warning: you are running in tempo1 emulation mode \n",
      "************************************************* \n",
      "iteration: 33\n",
      "************************************************* \n",
      "Warning: you are running in tempo1 emulation mode \n",
      "************************************************* \n",
      "************************************************* \n",
      "Warning: you are running in tempo1 emulation mode \n",
      "************************************************* \n"
     ]
    },
    {
     "name": "stderr",
     "output_type": "stream",
     "text": [
      "/tmp/ipykernel_8229/2184178469.py:98: DeprecationWarning: distutils Version classes are deprecated. Use packaging.version instead.\n",
      "  weak_ft=T.tempopulsar('Perfect_Model.par','iteration_sub.tim')\n"
     ]
    },
    {
     "name": "stdout",
     "output_type": "stream",
     "text": [
      "spr************************************************* \n",
      "Warning: you are running in tempo1 emulation mode \n",
      "************************************************* \n",
      "\n"
     ]
    },
    {
     "name": "stderr",
     "output_type": "stream",
     "text": [
      "/tmp/ipykernel_8229/2184178469.py:98: DeprecationWarning: distutils Version classes are deprecated. Use packaging.version instead.\n",
      "  weak_ft=T.tempopulsar('Perfect_Model.par','iteration_sub.tim')\n"
     ]
    },
    {
     "name": "stdout",
     "output_type": "stream",
     "text": [
      "spr************************************************* \n",
      "Warning: you are running in tempo1 emulation mode \n",
      "************************************************* \n",
      "\n"
     ]
    },
    {
     "name": "stderr",
     "output_type": "stream",
     "text": [
      "/tmp/ipykernel_8229/2184178469.py:98: DeprecationWarning: distutils Version classes are deprecated. Use packaging.version instead.\n",
      "  weak_ft=T.tempopulsar('Perfect_Model.par','iteration_sub.tim')\n"
     ]
    },
    {
     "name": "stdout",
     "output_type": "stream",
     "text": [
      "spr************************************************* \n",
      "Warning: you are running in tempo1 emulation mode \n",
      "************************************************* \n",
      "\n"
     ]
    },
    {
     "name": "stderr",
     "output_type": "stream",
     "text": [
      "/tmp/ipykernel_8229/2184178469.py:98: DeprecationWarning: distutils Version classes are deprecated. Use packaging.version instead.\n",
      "  weak_ft=T.tempopulsar('Perfect_Model.par','iteration_sub.tim')\n"
     ]
    },
    {
     "name": "stdout",
     "output_type": "stream",
     "text": [
      "spr************************************************* \n",
      "Warning: you are running in tempo1 emulation mode \n",
      "************************************************* \n",
      "\n"
     ]
    },
    {
     "name": "stderr",
     "output_type": "stream",
     "text": [
      "/tmp/ipykernel_8229/2184178469.py:98: DeprecationWarning: distutils Version classes are deprecated. Use packaging.version instead.\n",
      "  weak_ft=T.tempopulsar('Perfect_Model.par','iteration_sub.tim')\n"
     ]
    },
    {
     "name": "stdout",
     "output_type": "stream",
     "text": [
      "spr************************************************* \n",
      "Warning: you are running in tempo1 emulation mode \n",
      "************************************************* \n",
      "\n"
     ]
    },
    {
     "name": "stderr",
     "output_type": "stream",
     "text": [
      "/tmp/ipykernel_8229/2184178469.py:98: DeprecationWarning: distutils Version classes are deprecated. Use packaging.version instead.\n",
      "  weak_ft=T.tempopulsar('Perfect_Model.par','iteration_sub.tim')\n"
     ]
    },
    {
     "name": "stdout",
     "output_type": "stream",
     "text": [
      "************************************************* \n",
      "Warning: you are running in tempo1 emulation mode \n",
      "************************************************* \n",
      "spr\n"
     ]
    },
    {
     "name": "stderr",
     "output_type": "stream",
     "text": [
      "/tmp/ipykernel_8229/2184178469.py:98: DeprecationWarning: distutils Version classes are deprecated. Use packaging.version instead.\n",
      "  weak_ft=T.tempopulsar('Perfect_Model.par','iteration_sub.tim')\n"
     ]
    },
    {
     "name": "stdout",
     "output_type": "stream",
     "text": [
      "spr************************************************* \n",
      "Warning: you are running in tempo1 emulation mode \n",
      "************************************************* \n",
      "\n"
     ]
    },
    {
     "name": "stderr",
     "output_type": "stream",
     "text": [
      "/tmp/ipykernel_8229/2184178469.py:98: DeprecationWarning: distutils Version classes are deprecated. Use packaging.version instead.\n",
      "  weak_ft=T.tempopulsar('Perfect_Model.par','iteration_sub.tim')\n"
     ]
    },
    {
     "name": "stdout",
     "output_type": "stream",
     "text": [
      "spr************************************************* \n",
      "Warning: you are running in tempo1 emulation mode \n",
      "************************************************* \n",
      "\n"
     ]
    },
    {
     "name": "stderr",
     "output_type": "stream",
     "text": [
      "/tmp/ipykernel_8229/2184178469.py:98: DeprecationWarning: distutils Version classes are deprecated. Use packaging.version instead.\n",
      "  weak_ft=T.tempopulsar('Perfect_Model.par','iteration_sub.tim')\n"
     ]
    },
    {
     "name": "stdout",
     "output_type": "stream",
     "text": [
      "spr************************************************* \n",
      "Warning: you are running in tempo1 emulation mode \n",
      "************************************************* \n",
      "\n"
     ]
    },
    {
     "name": "stderr",
     "output_type": "stream",
     "text": [
      "/tmp/ipykernel_8229/2184178469.py:98: DeprecationWarning: distutils Version classes are deprecated. Use packaging.version instead.\n",
      "  weak_ft=T.tempopulsar('Perfect_Model.par','iteration_sub.tim')\n"
     ]
    },
    {
     "name": "stdout",
     "output_type": "stream",
     "text": [
      "spr************************************************* \n",
      "Warning: you are running in tempo1 emulation mode \n",
      "************************************************* \n",
      "\n",
      "iteration: 34\n",
      "************************************************* \n",
      "Warning: you are running in tempo1 emulation mode \n",
      "************************************************* \n",
      "************************************************* \n",
      "Warning: you are running in tempo1 emulation mode \n",
      "************************************************* \n"
     ]
    },
    {
     "name": "stderr",
     "output_type": "stream",
     "text": [
      "/tmp/ipykernel_8229/2184178469.py:98: DeprecationWarning: distutils Version classes are deprecated. Use packaging.version instead.\n",
      "  weak_ft=T.tempopulsar('Perfect_Model.par','iteration_sub.tim')\n"
     ]
    },
    {
     "name": "stdout",
     "output_type": "stream",
     "text": [
      "spr************************************************* \n",
      "Warning: you are running in tempo1 emulation mode \n",
      "************************************************* \n",
      "\n"
     ]
    },
    {
     "name": "stderr",
     "output_type": "stream",
     "text": [
      "/tmp/ipykernel_8229/2184178469.py:98: DeprecationWarning: distutils Version classes are deprecated. Use packaging.version instead.\n",
      "  weak_ft=T.tempopulsar('Perfect_Model.par','iteration_sub.tim')\n"
     ]
    },
    {
     "name": "stdout",
     "output_type": "stream",
     "text": [
      "spr************************************************* \n",
      "Warning: you are running in tempo1 emulation mode \n",
      "************************************************* \n",
      "\n"
     ]
    },
    {
     "name": "stderr",
     "output_type": "stream",
     "text": [
      "/tmp/ipykernel_8229/2184178469.py:98: DeprecationWarning: distutils Version classes are deprecated. Use packaging.version instead.\n",
      "  weak_ft=T.tempopulsar('Perfect_Model.par','iteration_sub.tim')\n"
     ]
    },
    {
     "name": "stdout",
     "output_type": "stream",
     "text": [
      "spr\n",
      "************************************************* \n",
      "Warning: you are running in tempo1 emulation mode \n",
      "************************************************* \n"
     ]
    },
    {
     "name": "stderr",
     "output_type": "stream",
     "text": [
      "/tmp/ipykernel_8229/2184178469.py:98: DeprecationWarning: distutils Version classes are deprecated. Use packaging.version instead.\n",
      "  weak_ft=T.tempopulsar('Perfect_Model.par','iteration_sub.tim')\n"
     ]
    },
    {
     "name": "stdout",
     "output_type": "stream",
     "text": [
      "************************************************* \n",
      "Warning: you are running in tempo1 emulation mode \n",
      "************************************************* \n",
      "spr\n"
     ]
    },
    {
     "name": "stderr",
     "output_type": "stream",
     "text": [
      "/tmp/ipykernel_8229/2184178469.py:98: DeprecationWarning: distutils Version classes are deprecated. Use packaging.version instead.\n",
      "  weak_ft=T.tempopulsar('Perfect_Model.par','iteration_sub.tim')\n"
     ]
    },
    {
     "name": "stdout",
     "output_type": "stream",
     "text": [
      "spr************************************************* \n",
      "Warning: you are running in tempo1 emulation mode \n",
      "************************************************* \n",
      "\n"
     ]
    },
    {
     "name": "stderr",
     "output_type": "stream",
     "text": [
      "/tmp/ipykernel_8229/2184178469.py:98: DeprecationWarning: distutils Version classes are deprecated. Use packaging.version instead.\n",
      "  weak_ft=T.tempopulsar('Perfect_Model.par','iteration_sub.tim')\n"
     ]
    },
    {
     "name": "stdout",
     "output_type": "stream",
     "text": [
      "************************************************* \n",
      "Warning: you are running in tempo1 emulation mode \n",
      "************************************************* \n",
      "spr\n"
     ]
    },
    {
     "name": "stderr",
     "output_type": "stream",
     "text": [
      "/tmp/ipykernel_8229/2184178469.py:98: DeprecationWarning: distutils Version classes are deprecated. Use packaging.version instead.\n",
      "  weak_ft=T.tempopulsar('Perfect_Model.par','iteration_sub.tim')\n"
     ]
    },
    {
     "name": "stdout",
     "output_type": "stream",
     "text": [
      "spr************************************************* \n",
      "Warning: you are running in tempo1 emulation mode \n",
      "************************************************* \n",
      "\n"
     ]
    },
    {
     "name": "stderr",
     "output_type": "stream",
     "text": [
      "/tmp/ipykernel_8229/2184178469.py:98: DeprecationWarning: distutils Version classes are deprecated. Use packaging.version instead.\n",
      "  weak_ft=T.tempopulsar('Perfect_Model.par','iteration_sub.tim')\n"
     ]
    },
    {
     "name": "stdout",
     "output_type": "stream",
     "text": [
      "spr************************************************* \n",
      "Warning: you are running in tempo1 emulation mode \n",
      "************************************************* \n",
      "\n"
     ]
    },
    {
     "name": "stderr",
     "output_type": "stream",
     "text": [
      "/tmp/ipykernel_8229/2184178469.py:98: DeprecationWarning: distutils Version classes are deprecated. Use packaging.version instead.\n",
      "  weak_ft=T.tempopulsar('Perfect_Model.par','iteration_sub.tim')\n"
     ]
    },
    {
     "name": "stdout",
     "output_type": "stream",
     "text": [
      "************************************************* \n",
      "Warning: you are running in tempo1 emulation mode \n",
      "************************************************* \n",
      "spr\n"
     ]
    },
    {
     "name": "stderr",
     "output_type": "stream",
     "text": [
      "/tmp/ipykernel_8229/2184178469.py:98: DeprecationWarning: distutils Version classes are deprecated. Use packaging.version instead.\n",
      "  weak_ft=T.tempopulsar('Perfect_Model.par','iteration_sub.tim')\n"
     ]
    },
    {
     "name": "stdout",
     "output_type": "stream",
     "text": [
      "spr************************************************* \n",
      "Warning: you are running in tempo1 emulation mode \n",
      "************************************************* \n",
      "\n",
      "iteration: 35\n",
      "************************************************* \n",
      "Warning: you are running in tempo1 emulation mode \n",
      "************************************************* \n",
      "************************************************* \n",
      "Warning: you are running in tempo1 emulation mode \n",
      "************************************************* \n"
     ]
    },
    {
     "name": "stderr",
     "output_type": "stream",
     "text": [
      "/tmp/ipykernel_8229/2184178469.py:98: DeprecationWarning: distutils Version classes are deprecated. Use packaging.version instead.\n",
      "  weak_ft=T.tempopulsar('Perfect_Model.par','iteration_sub.tim')\n"
     ]
    },
    {
     "name": "stdout",
     "output_type": "stream",
     "text": [
      "************************************************* \n",
      "Warning: you are running in tempo1 emulation mode \n",
      "************************************************* \n",
      "spr\n"
     ]
    },
    {
     "name": "stderr",
     "output_type": "stream",
     "text": [
      "/tmp/ipykernel_8229/2184178469.py:98: DeprecationWarning: distutils Version classes are deprecated. Use packaging.version instead.\n",
      "  weak_ft=T.tempopulsar('Perfect_Model.par','iteration_sub.tim')\n"
     ]
    },
    {
     "name": "stdout",
     "output_type": "stream",
     "text": [
      "spr************************************************* \n",
      "Warning: you are running in tempo1 emulation mode \n",
      "************************************************* \n",
      "\n"
     ]
    },
    {
     "name": "stderr",
     "output_type": "stream",
     "text": [
      "/tmp/ipykernel_8229/2184178469.py:98: DeprecationWarning: distutils Version classes are deprecated. Use packaging.version instead.\n",
      "  weak_ft=T.tempopulsar('Perfect_Model.par','iteration_sub.tim')\n"
     ]
    },
    {
     "name": "stdout",
     "output_type": "stream",
     "text": [
      "spr************************************************* \n",
      "Warning: you are running in tempo1 emulation mode \n",
      "************************************************* \n",
      "\n"
     ]
    },
    {
     "name": "stderr",
     "output_type": "stream",
     "text": [
      "/tmp/ipykernel_8229/2184178469.py:98: DeprecationWarning: distutils Version classes are deprecated. Use packaging.version instead.\n",
      "  weak_ft=T.tempopulsar('Perfect_Model.par','iteration_sub.tim')\n"
     ]
    },
    {
     "name": "stdout",
     "output_type": "stream",
     "text": [
      "spr************************************************* \n",
      "Warning: you are running in tempo1 emulation mode \n",
      "************************************************* \n",
      "\n"
     ]
    },
    {
     "name": "stderr",
     "output_type": "stream",
     "text": [
      "/tmp/ipykernel_8229/2184178469.py:98: DeprecationWarning: distutils Version classes are deprecated. Use packaging.version instead.\n",
      "  weak_ft=T.tempopulsar('Perfect_Model.par','iteration_sub.tim')\n"
     ]
    },
    {
     "name": "stdout",
     "output_type": "stream",
     "text": [
      "spr************************************************* \n",
      "Warning: you are running in tempo1 emulation mode \n",
      "************************************************* \n",
      "\n"
     ]
    },
    {
     "name": "stderr",
     "output_type": "stream",
     "text": [
      "/tmp/ipykernel_8229/2184178469.py:98: DeprecationWarning: distutils Version classes are deprecated. Use packaging.version instead.\n",
      "  weak_ft=T.tempopulsar('Perfect_Model.par','iteration_sub.tim')\n"
     ]
    },
    {
     "name": "stdout",
     "output_type": "stream",
     "text": [
      "spr************************************************* \n",
      "Warning: you are running in tempo1 emulation mode \n",
      "************************************************* \n",
      "\n"
     ]
    },
    {
     "name": "stderr",
     "output_type": "stream",
     "text": [
      "/tmp/ipykernel_8229/2184178469.py:98: DeprecationWarning: distutils Version classes are deprecated. Use packaging.version instead.\n",
      "  weak_ft=T.tempopulsar('Perfect_Model.par','iteration_sub.tim')\n"
     ]
    },
    {
     "name": "stdout",
     "output_type": "stream",
     "text": [
      "spr************************************************* \n",
      "Warning: you are running in tempo1 emulation mode \n",
      "************************************************* \n",
      "\n"
     ]
    },
    {
     "name": "stderr",
     "output_type": "stream",
     "text": [
      "/tmp/ipykernel_8229/2184178469.py:98: DeprecationWarning: distutils Version classes are deprecated. Use packaging.version instead.\n",
      "  weak_ft=T.tempopulsar('Perfect_Model.par','iteration_sub.tim')\n"
     ]
    },
    {
     "name": "stdout",
     "output_type": "stream",
     "text": [
      "spr************************************************* \n",
      "Warning: you are running in tempo1 emulation mode \n",
      "************************************************* \n",
      "\n"
     ]
    },
    {
     "name": "stderr",
     "output_type": "stream",
     "text": [
      "/tmp/ipykernel_8229/2184178469.py:98: DeprecationWarning: distutils Version classes are deprecated. Use packaging.version instead.\n",
      "  weak_ft=T.tempopulsar('Perfect_Model.par','iteration_sub.tim')\n"
     ]
    },
    {
     "name": "stdout",
     "output_type": "stream",
     "text": [
      "spr************************************************* \n",
      "Warning: you are running in tempo1 emulation mode \n",
      "************************************************* \n",
      "\n"
     ]
    },
    {
     "name": "stderr",
     "output_type": "stream",
     "text": [
      "/tmp/ipykernel_8229/2184178469.py:98: DeprecationWarning: distutils Version classes are deprecated. Use packaging.version instead.\n",
      "  weak_ft=T.tempopulsar('Perfect_Model.par','iteration_sub.tim')\n"
     ]
    },
    {
     "name": "stdout",
     "output_type": "stream",
     "text": [
      "spr************************************************* \n",
      "Warning: you are running in tempo1 emulation mode \n",
      "************************************************* \n",
      "\n",
      "iteration: 36\n",
      "************************************************* \n",
      "Warning: you are running in tempo1 emulation mode \n",
      "************************************************* \n",
      "************************************************* \n",
      "Warning: you are running in tempo1 emulation mode \n",
      "************************************************* \n"
     ]
    },
    {
     "name": "stderr",
     "output_type": "stream",
     "text": [
      "/tmp/ipykernel_8229/2184178469.py:98: DeprecationWarning: distutils Version classes are deprecated. Use packaging.version instead.\n",
      "  weak_ft=T.tempopulsar('Perfect_Model.par','iteration_sub.tim')\n"
     ]
    },
    {
     "name": "stdout",
     "output_type": "stream",
     "text": [
      "spr************************************************* \n",
      "Warning: you are running in tempo1 emulation mode \n",
      "************************************************* \n",
      "\n"
     ]
    },
    {
     "name": "stderr",
     "output_type": "stream",
     "text": [
      "/tmp/ipykernel_8229/2184178469.py:98: DeprecationWarning: distutils Version classes are deprecated. Use packaging.version instead.\n",
      "  weak_ft=T.tempopulsar('Perfect_Model.par','iteration_sub.tim')\n"
     ]
    },
    {
     "name": "stdout",
     "output_type": "stream",
     "text": [
      "spr************************************************* \n",
      "Warning: you are running in tempo1 emulation mode \n",
      "************************************************* \n",
      "\n"
     ]
    },
    {
     "name": "stderr",
     "output_type": "stream",
     "text": [
      "/tmp/ipykernel_8229/2184178469.py:98: DeprecationWarning: distutils Version classes are deprecated. Use packaging.version instead.\n",
      "  weak_ft=T.tempopulsar('Perfect_Model.par','iteration_sub.tim')\n"
     ]
    },
    {
     "name": "stdout",
     "output_type": "stream",
     "text": [
      "spr************************************************* \n",
      "Warning: you are running in tempo1 emulation mode \n",
      "************************************************* \n",
      "\n"
     ]
    },
    {
     "name": "stderr",
     "output_type": "stream",
     "text": [
      "/tmp/ipykernel_8229/2184178469.py:98: DeprecationWarning: distutils Version classes are deprecated. Use packaging.version instead.\n",
      "  weak_ft=T.tempopulsar('Perfect_Model.par','iteration_sub.tim')\n"
     ]
    },
    {
     "name": "stdout",
     "output_type": "stream",
     "text": [
      "spr\n",
      "************************************************* \n",
      "Warning: you are running in tempo1 emulation mode \n",
      "************************************************* \n"
     ]
    },
    {
     "name": "stderr",
     "output_type": "stream",
     "text": [
      "/tmp/ipykernel_8229/2184178469.py:98: DeprecationWarning: distutils Version classes are deprecated. Use packaging.version instead.\n",
      "  weak_ft=T.tempopulsar('Perfect_Model.par','iteration_sub.tim')\n"
     ]
    },
    {
     "name": "stdout",
     "output_type": "stream",
     "text": [
      "spr************************************************* \n",
      "Warning: you are running in tempo1 emulation mode \n",
      "************************************************* \n",
      "\n"
     ]
    },
    {
     "name": "stderr",
     "output_type": "stream",
     "text": [
      "/tmp/ipykernel_8229/2184178469.py:98: DeprecationWarning: distutils Version classes are deprecated. Use packaging.version instead.\n",
      "  weak_ft=T.tempopulsar('Perfect_Model.par','iteration_sub.tim')\n"
     ]
    },
    {
     "name": "stdout",
     "output_type": "stream",
     "text": [
      "spr************************************************* \n",
      "Warning: you are running in tempo1 emulation mode \n",
      "************************************************* \n",
      "\n"
     ]
    },
    {
     "name": "stderr",
     "output_type": "stream",
     "text": [
      "/tmp/ipykernel_8229/2184178469.py:98: DeprecationWarning: distutils Version classes are deprecated. Use packaging.version instead.\n",
      "  weak_ft=T.tempopulsar('Perfect_Model.par','iteration_sub.tim')\n"
     ]
    },
    {
     "name": "stdout",
     "output_type": "stream",
     "text": [
      "spr\n",
      "************************************************* \n",
      "Warning: you are running in tempo1 emulation mode \n",
      "************************************************* \n"
     ]
    },
    {
     "name": "stderr",
     "output_type": "stream",
     "text": [
      "/tmp/ipykernel_8229/2184178469.py:98: DeprecationWarning: distutils Version classes are deprecated. Use packaging.version instead.\n",
      "  weak_ft=T.tempopulsar('Perfect_Model.par','iteration_sub.tim')\n"
     ]
    },
    {
     "name": "stdout",
     "output_type": "stream",
     "text": [
      "spr************************************************* \n",
      "Warning: you are running in tempo1 emulation mode \n",
      "************************************************* \n",
      "\n"
     ]
    },
    {
     "name": "stderr",
     "output_type": "stream",
     "text": [
      "/tmp/ipykernel_8229/2184178469.py:98: DeprecationWarning: distutils Version classes are deprecated. Use packaging.version instead.\n",
      "  weak_ft=T.tempopulsar('Perfect_Model.par','iteration_sub.tim')\n"
     ]
    },
    {
     "name": "stdout",
     "output_type": "stream",
     "text": [
      "spr************************************************* \n",
      "Warning: you are running in tempo1 emulation mode \n",
      "************************************************* \n",
      "\n"
     ]
    },
    {
     "name": "stderr",
     "output_type": "stream",
     "text": [
      "/tmp/ipykernel_8229/2184178469.py:98: DeprecationWarning: distutils Version classes are deprecated. Use packaging.version instead.\n",
      "  weak_ft=T.tempopulsar('Perfect_Model.par','iteration_sub.tim')\n"
     ]
    },
    {
     "name": "stdout",
     "output_type": "stream",
     "text": [
      "spr************************************************* \n",
      "Warning: you are running in tempo1 emulation mode \n",
      "************************************************* \n",
      "\n",
      "iteration: 37\n",
      "************************************************* \n",
      "Warning: you are running in tempo1 emulation mode \n",
      "************************************************* \n",
      "************************************************* \n",
      "Warning: you are running in tempo1 emulation mode \n",
      "************************************************* \n"
     ]
    },
    {
     "name": "stderr",
     "output_type": "stream",
     "text": [
      "/tmp/ipykernel_8229/2184178469.py:98: DeprecationWarning: distutils Version classes are deprecated. Use packaging.version instead.\n",
      "  weak_ft=T.tempopulsar('Perfect_Model.par','iteration_sub.tim')\n"
     ]
    },
    {
     "name": "stdout",
     "output_type": "stream",
     "text": [
      "************************************************* \n",
      "Warning: you are running in tempo1 emulation mode \n",
      "************************************************* \n",
      "spr\n"
     ]
    },
    {
     "name": "stderr",
     "output_type": "stream",
     "text": [
      "/tmp/ipykernel_8229/2184178469.py:98: DeprecationWarning: distutils Version classes are deprecated. Use packaging.version instead.\n",
      "  weak_ft=T.tempopulsar('Perfect_Model.par','iteration_sub.tim')\n"
     ]
    },
    {
     "name": "stdout",
     "output_type": "stream",
     "text": [
      "spr************************************************* \n",
      "Warning: you are running in tempo1 emulation mode \n",
      "************************************************* \n",
      "\n"
     ]
    },
    {
     "name": "stderr",
     "output_type": "stream",
     "text": [
      "/tmp/ipykernel_8229/2184178469.py:98: DeprecationWarning: distutils Version classes are deprecated. Use packaging.version instead.\n",
      "  weak_ft=T.tempopulsar('Perfect_Model.par','iteration_sub.tim')\n"
     ]
    },
    {
     "name": "stdout",
     "output_type": "stream",
     "text": [
      "************************************************* \n",
      "Warning: you are running in tempo1 emulation mode \n",
      "************************************************* \n",
      "spr\n"
     ]
    },
    {
     "name": "stderr",
     "output_type": "stream",
     "text": [
      "/tmp/ipykernel_8229/2184178469.py:98: DeprecationWarning: distutils Version classes are deprecated. Use packaging.version instead.\n",
      "  weak_ft=T.tempopulsar('Perfect_Model.par','iteration_sub.tim')\n"
     ]
    },
    {
     "name": "stdout",
     "output_type": "stream",
     "text": [
      "spr\n",
      "************************************************* \n",
      "Warning: you are running in tempo1 emulation mode \n",
      "************************************************* \n"
     ]
    },
    {
     "name": "stderr",
     "output_type": "stream",
     "text": [
      "/tmp/ipykernel_8229/2184178469.py:98: DeprecationWarning: distutils Version classes are deprecated. Use packaging.version instead.\n",
      "  weak_ft=T.tempopulsar('Perfect_Model.par','iteration_sub.tim')\n"
     ]
    },
    {
     "name": "stdout",
     "output_type": "stream",
     "text": [
      "spr\n",
      "************************************************* \n",
      "Warning: you are running in tempo1 emulation mode \n",
      "************************************************* \n"
     ]
    },
    {
     "name": "stderr",
     "output_type": "stream",
     "text": [
      "/tmp/ipykernel_8229/2184178469.py:98: DeprecationWarning: distutils Version classes are deprecated. Use packaging.version instead.\n",
      "  weak_ft=T.tempopulsar('Perfect_Model.par','iteration_sub.tim')\n"
     ]
    },
    {
     "name": "stdout",
     "output_type": "stream",
     "text": [
      "spr************************************************* \n",
      "Warning: you are running in tempo1 emulation mode \n",
      "************************************************* \n",
      "\n"
     ]
    },
    {
     "name": "stderr",
     "output_type": "stream",
     "text": [
      "/tmp/ipykernel_8229/2184178469.py:98: DeprecationWarning: distutils Version classes are deprecated. Use packaging.version instead.\n",
      "  weak_ft=T.tempopulsar('Perfect_Model.par','iteration_sub.tim')\n"
     ]
    },
    {
     "name": "stdout",
     "output_type": "stream",
     "text": [
      "************************************************* \n",
      "Warning: you are running in tempo1 emulation mode \n",
      "************************************************* \n",
      "spr\n"
     ]
    },
    {
     "name": "stderr",
     "output_type": "stream",
     "text": [
      "/tmp/ipykernel_8229/2184178469.py:98: DeprecationWarning: distutils Version classes are deprecated. Use packaging.version instead.\n",
      "  weak_ft=T.tempopulsar('Perfect_Model.par','iteration_sub.tim')\n"
     ]
    },
    {
     "name": "stdout",
     "output_type": "stream",
     "text": [
      "spr************************************************* \n",
      "Warning: you are running in tempo1 emulation mode \n",
      "************************************************* \n",
      "\n"
     ]
    },
    {
     "name": "stderr",
     "output_type": "stream",
     "text": [
      "/tmp/ipykernel_8229/2184178469.py:98: DeprecationWarning: distutils Version classes are deprecated. Use packaging.version instead.\n",
      "  weak_ft=T.tempopulsar('Perfect_Model.par','iteration_sub.tim')\n"
     ]
    },
    {
     "name": "stdout",
     "output_type": "stream",
     "text": [
      "spr************************************************* \n",
      "Warning: you are running in tempo1 emulation mode \n",
      "************************************************* \n",
      "\n"
     ]
    },
    {
     "name": "stderr",
     "output_type": "stream",
     "text": [
      "/tmp/ipykernel_8229/2184178469.py:98: DeprecationWarning: distutils Version classes are deprecated. Use packaging.version instead.\n",
      "  weak_ft=T.tempopulsar('Perfect_Model.par','iteration_sub.tim')\n"
     ]
    },
    {
     "name": "stdout",
     "output_type": "stream",
     "text": [
      "spr************************************************* \n",
      "Warning: you are running in tempo1 emulation mode \n",
      "************************************************* \n",
      "\n",
      "iteration: 38\n",
      "************************************************* \n",
      "Warning: you are running in tempo1 emulation mode \n",
      "************************************************* \n",
      "************************************************* \n",
      "Warning: you are running in tempo1 emulation mode \n",
      "************************************************* \n"
     ]
    },
    {
     "name": "stderr",
     "output_type": "stream",
     "text": [
      "/tmp/ipykernel_8229/2184178469.py:98: DeprecationWarning: distutils Version classes are deprecated. Use packaging.version instead.\n",
      "  weak_ft=T.tempopulsar('Perfect_Model.par','iteration_sub.tim')\n"
     ]
    },
    {
     "name": "stdout",
     "output_type": "stream",
     "text": [
      "spr************************************************* \n",
      "Warning: you are running in tempo1 emulation mode \n",
      "************************************************* \n",
      "\n"
     ]
    },
    {
     "name": "stderr",
     "output_type": "stream",
     "text": [
      "/tmp/ipykernel_8229/2184178469.py:98: DeprecationWarning: distutils Version classes are deprecated. Use packaging.version instead.\n",
      "  weak_ft=T.tempopulsar('Perfect_Model.par','iteration_sub.tim')\n"
     ]
    },
    {
     "name": "stdout",
     "output_type": "stream",
     "text": [
      "spr************************************************* \n",
      "Warning: you are running in tempo1 emulation mode \n",
      "************************************************* \n",
      "\n"
     ]
    },
    {
     "name": "stderr",
     "output_type": "stream",
     "text": [
      "/tmp/ipykernel_8229/2184178469.py:98: DeprecationWarning: distutils Version classes are deprecated. Use packaging.version instead.\n",
      "  weak_ft=T.tempopulsar('Perfect_Model.par','iteration_sub.tim')\n"
     ]
    },
    {
     "name": "stdout",
     "output_type": "stream",
     "text": [
      "spr************************************************* \n",
      "Warning: you are running in tempo1 emulation mode \n",
      "************************************************* \n",
      "\n"
     ]
    },
    {
     "name": "stderr",
     "output_type": "stream",
     "text": [
      "/tmp/ipykernel_8229/2184178469.py:98: DeprecationWarning: distutils Version classes are deprecated. Use packaging.version instead.\n",
      "  weak_ft=T.tempopulsar('Perfect_Model.par','iteration_sub.tim')\n"
     ]
    },
    {
     "name": "stdout",
     "output_type": "stream",
     "text": [
      "spr************************************************* \n",
      "Warning: you are running in tempo1 emulation mode \n",
      "************************************************* \n",
      "\n"
     ]
    },
    {
     "name": "stderr",
     "output_type": "stream",
     "text": [
      "/tmp/ipykernel_8229/2184178469.py:98: DeprecationWarning: distutils Version classes are deprecated. Use packaging.version instead.\n",
      "  weak_ft=T.tempopulsar('Perfect_Model.par','iteration_sub.tim')\n"
     ]
    },
    {
     "name": "stdout",
     "output_type": "stream",
     "text": [
      "spr************************************************* \n",
      "Warning: you are running in tempo1 emulation mode \n",
      "************************************************* \n",
      "\n"
     ]
    },
    {
     "name": "stderr",
     "output_type": "stream",
     "text": [
      "/tmp/ipykernel_8229/2184178469.py:98: DeprecationWarning: distutils Version classes are deprecated. Use packaging.version instead.\n",
      "  weak_ft=T.tempopulsar('Perfect_Model.par','iteration_sub.tim')\n"
     ]
    },
    {
     "name": "stdout",
     "output_type": "stream",
     "text": [
      "spr************************************************* \n",
      "Warning: you are running in tempo1 emulation mode \n",
      "************************************************* \n",
      "\n"
     ]
    },
    {
     "name": "stderr",
     "output_type": "stream",
     "text": [
      "/tmp/ipykernel_8229/2184178469.py:98: DeprecationWarning: distutils Version classes are deprecated. Use packaging.version instead.\n",
      "  weak_ft=T.tempopulsar('Perfect_Model.par','iteration_sub.tim')\n"
     ]
    },
    {
     "name": "stdout",
     "output_type": "stream",
     "text": [
      "spr************************************************* \n",
      "Warning: you are running in tempo1 emulation mode \n",
      "************************************************* \n",
      "\n"
     ]
    },
    {
     "name": "stderr",
     "output_type": "stream",
     "text": [
      "/tmp/ipykernel_8229/2184178469.py:98: DeprecationWarning: distutils Version classes are deprecated. Use packaging.version instead.\n",
      "  weak_ft=T.tempopulsar('Perfect_Model.par','iteration_sub.tim')\n"
     ]
    },
    {
     "name": "stdout",
     "output_type": "stream",
     "text": [
      "spr************************************************* \n",
      "Warning: you are running in tempo1 emulation mode \n",
      "************************************************* \n",
      "\n"
     ]
    },
    {
     "name": "stderr",
     "output_type": "stream",
     "text": [
      "/tmp/ipykernel_8229/2184178469.py:98: DeprecationWarning: distutils Version classes are deprecated. Use packaging.version instead.\n",
      "  weak_ft=T.tempopulsar('Perfect_Model.par','iteration_sub.tim')\n"
     ]
    },
    {
     "name": "stdout",
     "output_type": "stream",
     "text": [
      "spr************************************************* \n",
      "Warning: you are running in tempo1 emulation mode \n",
      "************************************************* \n",
      "\n"
     ]
    },
    {
     "name": "stderr",
     "output_type": "stream",
     "text": [
      "/tmp/ipykernel_8229/2184178469.py:98: DeprecationWarning: distutils Version classes are deprecated. Use packaging.version instead.\n",
      "  weak_ft=T.tempopulsar('Perfect_Model.par','iteration_sub.tim')\n"
     ]
    },
    {
     "name": "stdout",
     "output_type": "stream",
     "text": [
      "spr************************************************* \n",
      "Warning: you are running in tempo1 emulation mode \n",
      "************************************************* \n",
      "\n",
      "iteration: 39\n",
      "************************************************* \n",
      "Warning: you are running in tempo1 emulation mode \n",
      "************************************************* \n",
      "************************************************* \n",
      "Warning: you are running in tempo1 emulation mode \n",
      "************************************************* \n"
     ]
    },
    {
     "name": "stderr",
     "output_type": "stream",
     "text": [
      "/tmp/ipykernel_8229/2184178469.py:98: DeprecationWarning: distutils Version classes are deprecated. Use packaging.version instead.\n",
      "  weak_ft=T.tempopulsar('Perfect_Model.par','iteration_sub.tim')\n"
     ]
    },
    {
     "name": "stdout",
     "output_type": "stream",
     "text": [
      "************************************************* \n",
      "Warning: you are running in tempo1 emulation mode \n",
      "************************************************* \n",
      "spr\n"
     ]
    },
    {
     "name": "stderr",
     "output_type": "stream",
     "text": [
      "/tmp/ipykernel_8229/2184178469.py:98: DeprecationWarning: distutils Version classes are deprecated. Use packaging.version instead.\n",
      "  weak_ft=T.tempopulsar('Perfect_Model.par','iteration_sub.tim')\n"
     ]
    },
    {
     "name": "stdout",
     "output_type": "stream",
     "text": [
      "************************************************* \n",
      "Warning: you are running in tempo1 emulation mode \n",
      "************************************************* \n",
      "spr\n"
     ]
    },
    {
     "name": "stderr",
     "output_type": "stream",
     "text": [
      "/tmp/ipykernel_8229/2184178469.py:98: DeprecationWarning: distutils Version classes are deprecated. Use packaging.version instead.\n",
      "  weak_ft=T.tempopulsar('Perfect_Model.par','iteration_sub.tim')\n"
     ]
    },
    {
     "name": "stdout",
     "output_type": "stream",
     "text": [
      "************************************************* \n",
      "Warning: you are running in tempo1 emulation mode \n",
      "************************************************* \n",
      "spr\n"
     ]
    },
    {
     "name": "stderr",
     "output_type": "stream",
     "text": [
      "/tmp/ipykernel_8229/2184178469.py:98: DeprecationWarning: distutils Version classes are deprecated. Use packaging.version instead.\n",
      "  weak_ft=T.tempopulsar('Perfect_Model.par','iteration_sub.tim')\n"
     ]
    },
    {
     "name": "stdout",
     "output_type": "stream",
     "text": [
      "************************************************* \n",
      "Warning: you are running in tempo1 emulation mode \n",
      "************************************************* \n",
      "spr\n"
     ]
    },
    {
     "name": "stderr",
     "output_type": "stream",
     "text": [
      "/tmp/ipykernel_8229/2184178469.py:98: DeprecationWarning: distutils Version classes are deprecated. Use packaging.version instead.\n",
      "  weak_ft=T.tempopulsar('Perfect_Model.par','iteration_sub.tim')\n"
     ]
    },
    {
     "name": "stdout",
     "output_type": "stream",
     "text": [
      "************************************************* \n",
      "Warning: you are running in tempo1 emulation mode \n",
      "************************************************* \n",
      "spr\n"
     ]
    },
    {
     "name": "stderr",
     "output_type": "stream",
     "text": [
      "/tmp/ipykernel_8229/2184178469.py:98: DeprecationWarning: distutils Version classes are deprecated. Use packaging.version instead.\n",
      "  weak_ft=T.tempopulsar('Perfect_Model.par','iteration_sub.tim')\n"
     ]
    },
    {
     "name": "stdout",
     "output_type": "stream",
     "text": [
      "************************************************* \n",
      "Warning: you are running in tempo1 emulation mode \n",
      "************************************************* \n",
      "spr\n"
     ]
    },
    {
     "name": "stderr",
     "output_type": "stream",
     "text": [
      "/tmp/ipykernel_8229/2184178469.py:98: DeprecationWarning: distutils Version classes are deprecated. Use packaging.version instead.\n",
      "  weak_ft=T.tempopulsar('Perfect_Model.par','iteration_sub.tim')\n"
     ]
    },
    {
     "name": "stdout",
     "output_type": "stream",
     "text": [
      "************************************************* \n",
      "Warning: you are running in tempo1 emulation mode \n",
      "************************************************* \n",
      "spr\n"
     ]
    },
    {
     "name": "stderr",
     "output_type": "stream",
     "text": [
      "/tmp/ipykernel_8229/2184178469.py:98: DeprecationWarning: distutils Version classes are deprecated. Use packaging.version instead.\n",
      "  weak_ft=T.tempopulsar('Perfect_Model.par','iteration_sub.tim')\n"
     ]
    },
    {
     "name": "stdout",
     "output_type": "stream",
     "text": [
      "************************************************* \n",
      "Warning: you are running in tempo1 emulation mode \n",
      "************************************************* \n",
      "spr\n"
     ]
    },
    {
     "name": "stderr",
     "output_type": "stream",
     "text": [
      "/tmp/ipykernel_8229/2184178469.py:98: DeprecationWarning: distutils Version classes are deprecated. Use packaging.version instead.\n",
      "  weak_ft=T.tempopulsar('Perfect_Model.par','iteration_sub.tim')\n"
     ]
    },
    {
     "name": "stdout",
     "output_type": "stream",
     "text": [
      "spr************************************************* \n",
      "Warning: you are running in tempo1 emulation mode \n",
      "************************************************* \n",
      "\n"
     ]
    },
    {
     "name": "stderr",
     "output_type": "stream",
     "text": [
      "/tmp/ipykernel_8229/2184178469.py:98: DeprecationWarning: distutils Version classes are deprecated. Use packaging.version instead.\n",
      "  weak_ft=T.tempopulsar('Perfect_Model.par','iteration_sub.tim')\n"
     ]
    },
    {
     "name": "stdout",
     "output_type": "stream",
     "text": [
      "spr************************************************* \n",
      "Warning: you are running in tempo1 emulation mode \n",
      "************************************************* \n",
      "\n",
      "iteration: 40\n",
      "************************************************* \n",
      "Warning: you are running in tempo1 emulation mode \n",
      "************************************************* \n",
      "************************************************* \n",
      "Warning: you are running in tempo1 emulation mode \n",
      "************************************************* \n"
     ]
    },
    {
     "name": "stderr",
     "output_type": "stream",
     "text": [
      "/tmp/ipykernel_8229/2184178469.py:98: DeprecationWarning: distutils Version classes are deprecated. Use packaging.version instead.\n",
      "  weak_ft=T.tempopulsar('Perfect_Model.par','iteration_sub.tim')\n"
     ]
    },
    {
     "name": "stdout",
     "output_type": "stream",
     "text": [
      "************************************************* \n",
      "Warning: you are running in tempo1 emulation mode \n",
      "************************************************* \n",
      "spr\n"
     ]
    },
    {
     "name": "stderr",
     "output_type": "stream",
     "text": [
      "/tmp/ipykernel_8229/2184178469.py:98: DeprecationWarning: distutils Version classes are deprecated. Use packaging.version instead.\n",
      "  weak_ft=T.tempopulsar('Perfect_Model.par','iteration_sub.tim')\n"
     ]
    },
    {
     "name": "stdout",
     "output_type": "stream",
     "text": [
      "spr\n",
      "************************************************* \n",
      "Warning: you are running in tempo1 emulation mode \n",
      "************************************************* \n"
     ]
    },
    {
     "name": "stderr",
     "output_type": "stream",
     "text": [
      "/tmp/ipykernel_8229/2184178469.py:98: DeprecationWarning: distutils Version classes are deprecated. Use packaging.version instead.\n",
      "  weak_ft=T.tempopulsar('Perfect_Model.par','iteration_sub.tim')\n"
     ]
    },
    {
     "name": "stdout",
     "output_type": "stream",
     "text": [
      "************************************************* \n",
      "Warning: you are running in tempo1 emulation mode \n",
      "************************************************* \n",
      "spr\n"
     ]
    },
    {
     "name": "stderr",
     "output_type": "stream",
     "text": [
      "/tmp/ipykernel_8229/2184178469.py:98: DeprecationWarning: distutils Version classes are deprecated. Use packaging.version instead.\n",
      "  weak_ft=T.tempopulsar('Perfect_Model.par','iteration_sub.tim')\n"
     ]
    },
    {
     "name": "stdout",
     "output_type": "stream",
     "text": [
      "spr************************************************* \n",
      "Warning: you are running in tempo1 emulation mode \n",
      "************************************************* \n",
      "\n"
     ]
    },
    {
     "name": "stderr",
     "output_type": "stream",
     "text": [
      "/tmp/ipykernel_8229/2184178469.py:98: DeprecationWarning: distutils Version classes are deprecated. Use packaging.version instead.\n",
      "  weak_ft=T.tempopulsar('Perfect_Model.par','iteration_sub.tim')\n"
     ]
    },
    {
     "name": "stdout",
     "output_type": "stream",
     "text": [
      "************************************************* \n",
      "Warning: you are running in tempo1 emulation mode \n",
      "************************************************* \n",
      "spr\n"
     ]
    },
    {
     "name": "stderr",
     "output_type": "stream",
     "text": [
      "/tmp/ipykernel_8229/2184178469.py:98: DeprecationWarning: distutils Version classes are deprecated. Use packaging.version instead.\n",
      "  weak_ft=T.tempopulsar('Perfect_Model.par','iteration_sub.tim')\n"
     ]
    },
    {
     "name": "stdout",
     "output_type": "stream",
     "text": [
      "spr************************************************* \n",
      "Warning: you are running in tempo1 emulation mode \n",
      "************************************************* \n",
      "\n"
     ]
    },
    {
     "name": "stderr",
     "output_type": "stream",
     "text": [
      "/tmp/ipykernel_8229/2184178469.py:98: DeprecationWarning: distutils Version classes are deprecated. Use packaging.version instead.\n",
      "  weak_ft=T.tempopulsar('Perfect_Model.par','iteration_sub.tim')\n"
     ]
    },
    {
     "name": "stdout",
     "output_type": "stream",
     "text": [
      "spr************************************************* \n",
      "Warning: you are running in tempo1 emulation mode \n",
      "************************************************* \n",
      "\n"
     ]
    },
    {
     "name": "stderr",
     "output_type": "stream",
     "text": [
      "/tmp/ipykernel_8229/2184178469.py:98: DeprecationWarning: distutils Version classes are deprecated. Use packaging.version instead.\n",
      "  weak_ft=T.tempopulsar('Perfect_Model.par','iteration_sub.tim')\n"
     ]
    },
    {
     "name": "stdout",
     "output_type": "stream",
     "text": [
      "spr************************************************* \n",
      "Warning: you are running in tempo1 emulation mode \n",
      "************************************************* \n",
      "\n"
     ]
    },
    {
     "name": "stderr",
     "output_type": "stream",
     "text": [
      "/tmp/ipykernel_8229/2184178469.py:98: DeprecationWarning: distutils Version classes are deprecated. Use packaging.version instead.\n",
      "  weak_ft=T.tempopulsar('Perfect_Model.par','iteration_sub.tim')\n"
     ]
    },
    {
     "name": "stdout",
     "output_type": "stream",
     "text": [
      "spr************************************************* \n",
      "Warning: you are running in tempo1 emulation mode \n",
      "************************************************* \n",
      "\n"
     ]
    },
    {
     "name": "stderr",
     "output_type": "stream",
     "text": [
      "/tmp/ipykernel_8229/2184178469.py:98: DeprecationWarning: distutils Version classes are deprecated. Use packaging.version instead.\n",
      "  weak_ft=T.tempopulsar('Perfect_Model.par','iteration_sub.tim')\n"
     ]
    },
    {
     "name": "stdout",
     "output_type": "stream",
     "text": [
      "spr\n",
      "************************************************* \n",
      "Warning: you are running in tempo1 emulation mode \n",
      "************************************************* \n",
      "iteration: 41\n",
      "************************************************* \n",
      "Warning: you are running in tempo1 emulation mode \n",
      "************************************************* \n",
      "************************************************* \n",
      "Warning: you are running in tempo1 emulation mode \n",
      "************************************************* \n"
     ]
    },
    {
     "name": "stderr",
     "output_type": "stream",
     "text": [
      "/tmp/ipykernel_8229/2184178469.py:98: DeprecationWarning: distutils Version classes are deprecated. Use packaging.version instead.\n",
      "  weak_ft=T.tempopulsar('Perfect_Model.par','iteration_sub.tim')\n"
     ]
    },
    {
     "name": "stdout",
     "output_type": "stream",
     "text": [
      "************************************************* \n",
      "Warning: you are running in tempo1 emulation mode \n",
      "************************************************* \n",
      "spr\n"
     ]
    },
    {
     "name": "stderr",
     "output_type": "stream",
     "text": [
      "/tmp/ipykernel_8229/2184178469.py:98: DeprecationWarning: distutils Version classes are deprecated. Use packaging.version instead.\n",
      "  weak_ft=T.tempopulsar('Perfect_Model.par','iteration_sub.tim')\n"
     ]
    },
    {
     "name": "stdout",
     "output_type": "stream",
     "text": [
      "************************************************* \n",
      "Warning: you are running in tempo1 emulation mode \n",
      "************************************************* \n",
      "spr\n"
     ]
    },
    {
     "name": "stderr",
     "output_type": "stream",
     "text": [
      "/tmp/ipykernel_8229/2184178469.py:98: DeprecationWarning: distutils Version classes are deprecated. Use packaging.version instead.\n",
      "  weak_ft=T.tempopulsar('Perfect_Model.par','iteration_sub.tim')\n"
     ]
    },
    {
     "name": "stdout",
     "output_type": "stream",
     "text": [
      "************************************************* \n",
      "Warning: you are running in tempo1 emulation mode \n",
      "************************************************* \n",
      "spr\n"
     ]
    },
    {
     "name": "stderr",
     "output_type": "stream",
     "text": [
      "/tmp/ipykernel_8229/2184178469.py:98: DeprecationWarning: distutils Version classes are deprecated. Use packaging.version instead.\n",
      "  weak_ft=T.tempopulsar('Perfect_Model.par','iteration_sub.tim')\n"
     ]
    },
    {
     "name": "stdout",
     "output_type": "stream",
     "text": [
      "spr************************************************* \n",
      "Warning: you are running in tempo1 emulation mode \n",
      "************************************************* \n",
      "\n"
     ]
    },
    {
     "name": "stderr",
     "output_type": "stream",
     "text": [
      "/tmp/ipykernel_8229/2184178469.py:98: DeprecationWarning: distutils Version classes are deprecated. Use packaging.version instead.\n",
      "  weak_ft=T.tempopulsar('Perfect_Model.par','iteration_sub.tim')\n"
     ]
    },
    {
     "name": "stdout",
     "output_type": "stream",
     "text": [
      "spr************************************************* \n",
      "Warning: you are running in tempo1 emulation mode \n",
      "************************************************* \n",
      "\n"
     ]
    },
    {
     "name": "stderr",
     "output_type": "stream",
     "text": [
      "/tmp/ipykernel_8229/2184178469.py:98: DeprecationWarning: distutils Version classes are deprecated. Use packaging.version instead.\n",
      "  weak_ft=T.tempopulsar('Perfect_Model.par','iteration_sub.tim')\n"
     ]
    },
    {
     "name": "stdout",
     "output_type": "stream",
     "text": [
      "spr************************************************* \n",
      "Warning: you are running in tempo1 emulation mode \n",
      "************************************************* \n",
      "\n"
     ]
    },
    {
     "name": "stderr",
     "output_type": "stream",
     "text": [
      "/tmp/ipykernel_8229/2184178469.py:98: DeprecationWarning: distutils Version classes are deprecated. Use packaging.version instead.\n",
      "  weak_ft=T.tempopulsar('Perfect_Model.par','iteration_sub.tim')\n"
     ]
    },
    {
     "name": "stdout",
     "output_type": "stream",
     "text": [
      "spr\n",
      "************************************************* \n",
      "Warning: you are running in tempo1 emulation mode \n",
      "************************************************* \n"
     ]
    },
    {
     "name": "stderr",
     "output_type": "stream",
     "text": [
      "/tmp/ipykernel_8229/2184178469.py:98: DeprecationWarning: distutils Version classes are deprecated. Use packaging.version instead.\n",
      "  weak_ft=T.tempopulsar('Perfect_Model.par','iteration_sub.tim')\n"
     ]
    },
    {
     "name": "stdout",
     "output_type": "stream",
     "text": [
      "spr************************************************* \n",
      "Warning: you are running in tempo1 emulation mode \n",
      "************************************************* \n",
      "\n"
     ]
    },
    {
     "name": "stderr",
     "output_type": "stream",
     "text": [
      "/tmp/ipykernel_8229/2184178469.py:98: DeprecationWarning: distutils Version classes are deprecated. Use packaging.version instead.\n",
      "  weak_ft=T.tempopulsar('Perfect_Model.par','iteration_sub.tim')\n"
     ]
    },
    {
     "name": "stdout",
     "output_type": "stream",
     "text": [
      "spr************************************************* \n",
      "Warning: you are running in tempo1 emulation mode \n",
      "************************************************* \n",
      "\n"
     ]
    },
    {
     "name": "stderr",
     "output_type": "stream",
     "text": [
      "/tmp/ipykernel_8229/2184178469.py:98: DeprecationWarning: distutils Version classes are deprecated. Use packaging.version instead.\n",
      "  weak_ft=T.tempopulsar('Perfect_Model.par','iteration_sub.tim')\n"
     ]
    },
    {
     "name": "stdout",
     "output_type": "stream",
     "text": [
      "spr************************************************* \n",
      "Warning: you are running in tempo1 emulation mode \n",
      "************************************************* \n",
      "\n",
      "iteration: 42\n",
      "************************************************* \n",
      "Warning: you are running in tempo1 emulation mode \n",
      "************************************************* \n",
      "************************************************* \n",
      "Warning: you are running in tempo1 emulation mode \n",
      "************************************************* \n"
     ]
    },
    {
     "name": "stderr",
     "output_type": "stream",
     "text": [
      "/tmp/ipykernel_8229/2184178469.py:98: DeprecationWarning: distutils Version classes are deprecated. Use packaging.version instead.\n",
      "  weak_ft=T.tempopulsar('Perfect_Model.par','iteration_sub.tim')\n"
     ]
    },
    {
     "name": "stdout",
     "output_type": "stream",
     "text": [
      "spr************************************************* \n",
      "Warning: you are running in tempo1 emulation mode \n",
      "************************************************* \n",
      "\n"
     ]
    },
    {
     "name": "stderr",
     "output_type": "stream",
     "text": [
      "/tmp/ipykernel_8229/2184178469.py:98: DeprecationWarning: distutils Version classes are deprecated. Use packaging.version instead.\n",
      "  weak_ft=T.tempopulsar('Perfect_Model.par','iteration_sub.tim')\n"
     ]
    },
    {
     "name": "stdout",
     "output_type": "stream",
     "text": [
      "spr************************************************* \n",
      "Warning: you are running in tempo1 emulation mode \n",
      "************************************************* \n",
      "\n"
     ]
    },
    {
     "name": "stderr",
     "output_type": "stream",
     "text": [
      "/tmp/ipykernel_8229/2184178469.py:98: DeprecationWarning: distutils Version classes are deprecated. Use packaging.version instead.\n",
      "  weak_ft=T.tempopulsar('Perfect_Model.par','iteration_sub.tim')\n"
     ]
    },
    {
     "name": "stdout",
     "output_type": "stream",
     "text": [
      "spr************************************************* \n",
      "Warning: you are running in tempo1 emulation mode \n",
      "************************************************* \n",
      "\n"
     ]
    },
    {
     "name": "stderr",
     "output_type": "stream",
     "text": [
      "/tmp/ipykernel_8229/2184178469.py:98: DeprecationWarning: distutils Version classes are deprecated. Use packaging.version instead.\n",
      "  weak_ft=T.tempopulsar('Perfect_Model.par','iteration_sub.tim')\n"
     ]
    },
    {
     "name": "stdout",
     "output_type": "stream",
     "text": [
      "spr************************************************* \n",
      "Warning: you are running in tempo1 emulation mode \n",
      "************************************************* \n",
      "\n"
     ]
    },
    {
     "name": "stderr",
     "output_type": "stream",
     "text": [
      "/tmp/ipykernel_8229/2184178469.py:98: DeprecationWarning: distutils Version classes are deprecated. Use packaging.version instead.\n",
      "  weak_ft=T.tempopulsar('Perfect_Model.par','iteration_sub.tim')\n"
     ]
    },
    {
     "name": "stdout",
     "output_type": "stream",
     "text": [
      "spr************************************************* \n",
      "Warning: you are running in tempo1 emulation mode \n",
      "************************************************* \n",
      "\n"
     ]
    },
    {
     "name": "stderr",
     "output_type": "stream",
     "text": [
      "/tmp/ipykernel_8229/2184178469.py:98: DeprecationWarning: distutils Version classes are deprecated. Use packaging.version instead.\n",
      "  weak_ft=T.tempopulsar('Perfect_Model.par','iteration_sub.tim')\n"
     ]
    },
    {
     "name": "stdout",
     "output_type": "stream",
     "text": [
      "************************************************* \n",
      "Warning: you are running in tempo1 emulation mode \n",
      "************************************************* \n",
      "spr\n"
     ]
    },
    {
     "name": "stderr",
     "output_type": "stream",
     "text": [
      "/tmp/ipykernel_8229/2184178469.py:98: DeprecationWarning: distutils Version classes are deprecated. Use packaging.version instead.\n",
      "  weak_ft=T.tempopulsar('Perfect_Model.par','iteration_sub.tim')\n"
     ]
    },
    {
     "name": "stdout",
     "output_type": "stream",
     "text": [
      "spr************************************************* \n",
      "Warning: you are running in tempo1 emulation mode \n",
      "************************************************* \n",
      "\n"
     ]
    },
    {
     "name": "stderr",
     "output_type": "stream",
     "text": [
      "/tmp/ipykernel_8229/2184178469.py:98: DeprecationWarning: distutils Version classes are deprecated. Use packaging.version instead.\n",
      "  weak_ft=T.tempopulsar('Perfect_Model.par','iteration_sub.tim')\n"
     ]
    },
    {
     "name": "stdout",
     "output_type": "stream",
     "text": [
      "spr************************************************* \n",
      "Warning: you are running in tempo1 emulation mode \n",
      "************************************************* \n",
      "\n"
     ]
    },
    {
     "name": "stderr",
     "output_type": "stream",
     "text": [
      "/tmp/ipykernel_8229/2184178469.py:98: DeprecationWarning: distutils Version classes are deprecated. Use packaging.version instead.\n",
      "  weak_ft=T.tempopulsar('Perfect_Model.par','iteration_sub.tim')\n"
     ]
    },
    {
     "name": "stdout",
     "output_type": "stream",
     "text": [
      "************************************************* \n",
      "Warning: you are running in tempo1 emulation mode \n",
      "************************************************* \n",
      "spr\n"
     ]
    },
    {
     "name": "stderr",
     "output_type": "stream",
     "text": [
      "/tmp/ipykernel_8229/2184178469.py:98: DeprecationWarning: distutils Version classes are deprecated. Use packaging.version instead.\n",
      "  weak_ft=T.tempopulsar('Perfect_Model.par','iteration_sub.tim')\n"
     ]
    },
    {
     "name": "stdout",
     "output_type": "stream",
     "text": [
      "spr************************************************* \n",
      "Warning: you are running in tempo1 emulation mode \n",
      "************************************************* \n",
      "\n",
      "iteration: 43\n",
      "************************************************* \n",
      "Warning: you are running in tempo1 emulation mode \n",
      "************************************************* \n",
      "************************************************* \n",
      "Warning: you are running in tempo1 emulation mode \n",
      "************************************************* \n"
     ]
    },
    {
     "name": "stderr",
     "output_type": "stream",
     "text": [
      "/tmp/ipykernel_8229/2184178469.py:98: DeprecationWarning: distutils Version classes are deprecated. Use packaging.version instead.\n",
      "  weak_ft=T.tempopulsar('Perfect_Model.par','iteration_sub.tim')\n"
     ]
    },
    {
     "name": "stdout",
     "output_type": "stream",
     "text": [
      "spr************************************************* \n",
      "Warning: you are running in tempo1 emulation mode \n",
      "************************************************* \n",
      "\n"
     ]
    },
    {
     "name": "stderr",
     "output_type": "stream",
     "text": [
      "/tmp/ipykernel_8229/2184178469.py:98: DeprecationWarning: distutils Version classes are deprecated. Use packaging.version instead.\n",
      "  weak_ft=T.tempopulsar('Perfect_Model.par','iteration_sub.tim')\n"
     ]
    },
    {
     "name": "stdout",
     "output_type": "stream",
     "text": [
      "spr************************************************* \n",
      "Warning: you are running in tempo1 emulation mode \n",
      "************************************************* \n",
      "\n"
     ]
    },
    {
     "name": "stderr",
     "output_type": "stream",
     "text": [
      "/tmp/ipykernel_8229/2184178469.py:98: DeprecationWarning: distutils Version classes are deprecated. Use packaging.version instead.\n",
      "  weak_ft=T.tempopulsar('Perfect_Model.par','iteration_sub.tim')\n"
     ]
    },
    {
     "name": "stdout",
     "output_type": "stream",
     "text": [
      "************************************************* \n",
      "Warning: you are running in tempo1 emulation mode \n",
      "************************************************* \n",
      "spr\n"
     ]
    },
    {
     "name": "stderr",
     "output_type": "stream",
     "text": [
      "/tmp/ipykernel_8229/2184178469.py:98: DeprecationWarning: distutils Version classes are deprecated. Use packaging.version instead.\n",
      "  weak_ft=T.tempopulsar('Perfect_Model.par','iteration_sub.tim')\n"
     ]
    },
    {
     "name": "stdout",
     "output_type": "stream",
     "text": [
      "spr************************************************* \n",
      "Warning: you are running in tempo1 emulation mode \n",
      "************************************************* \n",
      "\n"
     ]
    },
    {
     "name": "stderr",
     "output_type": "stream",
     "text": [
      "/tmp/ipykernel_8229/2184178469.py:98: DeprecationWarning: distutils Version classes are deprecated. Use packaging.version instead.\n",
      "  weak_ft=T.tempopulsar('Perfect_Model.par','iteration_sub.tim')\n"
     ]
    },
    {
     "name": "stdout",
     "output_type": "stream",
     "text": [
      "spr************************************************* \n",
      "Warning: you are running in tempo1 emulation mode \n",
      "************************************************* \n",
      "\n"
     ]
    },
    {
     "name": "stderr",
     "output_type": "stream",
     "text": [
      "/tmp/ipykernel_8229/2184178469.py:98: DeprecationWarning: distutils Version classes are deprecated. Use packaging.version instead.\n",
      "  weak_ft=T.tempopulsar('Perfect_Model.par','iteration_sub.tim')\n"
     ]
    },
    {
     "name": "stdout",
     "output_type": "stream",
     "text": [
      "spr************************************************* \n",
      "Warning: you are running in tempo1 emulation mode \n",
      "************************************************* \n",
      "\n"
     ]
    },
    {
     "name": "stderr",
     "output_type": "stream",
     "text": [
      "/tmp/ipykernel_8229/2184178469.py:98: DeprecationWarning: distutils Version classes are deprecated. Use packaging.version instead.\n",
      "  weak_ft=T.tempopulsar('Perfect_Model.par','iteration_sub.tim')\n"
     ]
    },
    {
     "name": "stdout",
     "output_type": "stream",
     "text": [
      "************************************************* \n",
      "Warning: you are running in tempo1 emulation mode \n",
      "************************************************* \n",
      "spr\n"
     ]
    },
    {
     "name": "stderr",
     "output_type": "stream",
     "text": [
      "/tmp/ipykernel_8229/2184178469.py:98: DeprecationWarning: distutils Version classes are deprecated. Use packaging.version instead.\n",
      "  weak_ft=T.tempopulsar('Perfect_Model.par','iteration_sub.tim')\n"
     ]
    },
    {
     "name": "stdout",
     "output_type": "stream",
     "text": [
      "spr************************************************* \n",
      "Warning: you are running in tempo1 emulation mode \n",
      "************************************************* \n",
      "\n"
     ]
    },
    {
     "name": "stderr",
     "output_type": "stream",
     "text": [
      "/tmp/ipykernel_8229/2184178469.py:98: DeprecationWarning: distutils Version classes are deprecated. Use packaging.version instead.\n",
      "  weak_ft=T.tempopulsar('Perfect_Model.par','iteration_sub.tim')\n"
     ]
    },
    {
     "name": "stdout",
     "output_type": "stream",
     "text": [
      "************************************************* \n",
      "Warning: you are running in tempo1 emulation mode \n",
      "************************************************* \n",
      "spr\n"
     ]
    },
    {
     "name": "stderr",
     "output_type": "stream",
     "text": [
      "/tmp/ipykernel_8229/2184178469.py:98: DeprecationWarning: distutils Version classes are deprecated. Use packaging.version instead.\n",
      "  weak_ft=T.tempopulsar('Perfect_Model.par','iteration_sub.tim')\n"
     ]
    },
    {
     "name": "stdout",
     "output_type": "stream",
     "text": [
      "spr************************************************* \n",
      "Warning: you are running in tempo1 emulation mode \n",
      "************************************************* \n",
      "\n",
      "iteration: 44\n",
      "************************************************* \n",
      "Warning: you are running in tempo1 emulation mode \n",
      "************************************************* \n",
      "************************************************* \n",
      "Warning: you are running in tempo1 emulation mode \n",
      "************************************************* \n"
     ]
    },
    {
     "name": "stderr",
     "output_type": "stream",
     "text": [
      "/tmp/ipykernel_8229/2184178469.py:98: DeprecationWarning: distutils Version classes are deprecated. Use packaging.version instead.\n",
      "  weak_ft=T.tempopulsar('Perfect_Model.par','iteration_sub.tim')\n"
     ]
    },
    {
     "name": "stdout",
     "output_type": "stream",
     "text": [
      "spr************************************************* \n",
      "Warning: you are running in tempo1 emulation mode \n",
      "************************************************* \n",
      "\n"
     ]
    },
    {
     "name": "stderr",
     "output_type": "stream",
     "text": [
      "/tmp/ipykernel_8229/2184178469.py:98: DeprecationWarning: distutils Version classes are deprecated. Use packaging.version instead.\n",
      "  weak_ft=T.tempopulsar('Perfect_Model.par','iteration_sub.tim')\n"
     ]
    },
    {
     "name": "stdout",
     "output_type": "stream",
     "text": [
      "spr************************************************* \n",
      "Warning: you are running in tempo1 emulation mode \n",
      "************************************************* \n",
      "\n"
     ]
    },
    {
     "name": "stderr",
     "output_type": "stream",
     "text": [
      "/tmp/ipykernel_8229/2184178469.py:98: DeprecationWarning: distutils Version classes are deprecated. Use packaging.version instead.\n",
      "  weak_ft=T.tempopulsar('Perfect_Model.par','iteration_sub.tim')\n"
     ]
    },
    {
     "name": "stdout",
     "output_type": "stream",
     "text": [
      "spr************************************************* \n",
      "Warning: you are running in tempo1 emulation mode \n",
      "************************************************* \n",
      "\n"
     ]
    },
    {
     "name": "stderr",
     "output_type": "stream",
     "text": [
      "/tmp/ipykernel_8229/2184178469.py:98: DeprecationWarning: distutils Version classes are deprecated. Use packaging.version instead.\n",
      "  weak_ft=T.tempopulsar('Perfect_Model.par','iteration_sub.tim')\n"
     ]
    },
    {
     "name": "stdout",
     "output_type": "stream",
     "text": [
      "spr************************************************* \n",
      "Warning: you are running in tempo1 emulation mode \n",
      "************************************************* \n",
      "\n"
     ]
    },
    {
     "name": "stderr",
     "output_type": "stream",
     "text": [
      "/tmp/ipykernel_8229/2184178469.py:98: DeprecationWarning: distutils Version classes are deprecated. Use packaging.version instead.\n",
      "  weak_ft=T.tempopulsar('Perfect_Model.par','iteration_sub.tim')\n"
     ]
    },
    {
     "name": "stdout",
     "output_type": "stream",
     "text": [
      "spr************************************************* \n",
      "Warning: you are running in tempo1 emulation mode \n",
      "************************************************* \n",
      "\n"
     ]
    },
    {
     "name": "stderr",
     "output_type": "stream",
     "text": [
      "/tmp/ipykernel_8229/2184178469.py:98: DeprecationWarning: distutils Version classes are deprecated. Use packaging.version instead.\n",
      "  weak_ft=T.tempopulsar('Perfect_Model.par','iteration_sub.tim')\n"
     ]
    },
    {
     "name": "stdout",
     "output_type": "stream",
     "text": [
      "spr************************************************* \n",
      "Warning: you are running in tempo1 emulation mode \n",
      "************************************************* \n",
      "\n"
     ]
    },
    {
     "name": "stderr",
     "output_type": "stream",
     "text": [
      "/tmp/ipykernel_8229/2184178469.py:98: DeprecationWarning: distutils Version classes are deprecated. Use packaging.version instead.\n",
      "  weak_ft=T.tempopulsar('Perfect_Model.par','iteration_sub.tim')\n"
     ]
    },
    {
     "name": "stdout",
     "output_type": "stream",
     "text": [
      "spr************************************************* \n",
      "Warning: you are running in tempo1 emulation mode \n",
      "************************************************* \n",
      "\n"
     ]
    },
    {
     "name": "stderr",
     "output_type": "stream",
     "text": [
      "/tmp/ipykernel_8229/2184178469.py:98: DeprecationWarning: distutils Version classes are deprecated. Use packaging.version instead.\n",
      "  weak_ft=T.tempopulsar('Perfect_Model.par','iteration_sub.tim')\n"
     ]
    },
    {
     "name": "stdout",
     "output_type": "stream",
     "text": [
      "spr************************************************* \n",
      "Warning: you are running in tempo1 emulation mode \n",
      "************************************************* \n",
      "\n"
     ]
    },
    {
     "name": "stderr",
     "output_type": "stream",
     "text": [
      "/tmp/ipykernel_8229/2184178469.py:98: DeprecationWarning: distutils Version classes are deprecated. Use packaging.version instead.\n",
      "  weak_ft=T.tempopulsar('Perfect_Model.par','iteration_sub.tim')\n"
     ]
    },
    {
     "name": "stdout",
     "output_type": "stream",
     "text": [
      "spr************************************************* \n",
      "Warning: you are running in tempo1 emulation mode \n",
      "************************************************* \n",
      "\n"
     ]
    },
    {
     "name": "stderr",
     "output_type": "stream",
     "text": [
      "/tmp/ipykernel_8229/2184178469.py:98: DeprecationWarning: distutils Version classes are deprecated. Use packaging.version instead.\n",
      "  weak_ft=T.tempopulsar('Perfect_Model.par','iteration_sub.tim')\n"
     ]
    },
    {
     "name": "stdout",
     "output_type": "stream",
     "text": [
      "spr************************************************* \n",
      "Warning: you are running in tempo1 emulation mode \n",
      "************************************************* \n",
      "\n",
      "iteration: 45\n",
      "************************************************* \n",
      "Warning: you are running in tempo1 emulation mode \n",
      "************************************************* \n",
      "************************************************* \n",
      "Warning: you are running in tempo1 emulation mode \n",
      "************************************************* \n"
     ]
    },
    {
     "name": "stderr",
     "output_type": "stream",
     "text": [
      "/tmp/ipykernel_8229/2184178469.py:98: DeprecationWarning: distutils Version classes are deprecated. Use packaging.version instead.\n",
      "  weak_ft=T.tempopulsar('Perfect_Model.par','iteration_sub.tim')\n"
     ]
    },
    {
     "name": "stdout",
     "output_type": "stream",
     "text": [
      "spr************************************************* \n",
      "Warning: you are running in tempo1 emulation mode \n",
      "************************************************* \n",
      "\n"
     ]
    },
    {
     "name": "stderr",
     "output_type": "stream",
     "text": [
      "/tmp/ipykernel_8229/2184178469.py:98: DeprecationWarning: distutils Version classes are deprecated. Use packaging.version instead.\n",
      "  weak_ft=T.tempopulsar('Perfect_Model.par','iteration_sub.tim')\n"
     ]
    },
    {
     "name": "stdout",
     "output_type": "stream",
     "text": [
      "spr************************************************* \n",
      "Warning: you are running in tempo1 emulation mode \n",
      "************************************************* \n",
      "\n"
     ]
    },
    {
     "name": "stderr",
     "output_type": "stream",
     "text": [
      "/tmp/ipykernel_8229/2184178469.py:98: DeprecationWarning: distutils Version classes are deprecated. Use packaging.version instead.\n",
      "  weak_ft=T.tempopulsar('Perfect_Model.par','iteration_sub.tim')\n"
     ]
    },
    {
     "name": "stdout",
     "output_type": "stream",
     "text": [
      "spr************************************************* \n",
      "Warning: you are running in tempo1 emulation mode \n",
      "************************************************* \n",
      "\n"
     ]
    },
    {
     "name": "stderr",
     "output_type": "stream",
     "text": [
      "/tmp/ipykernel_8229/2184178469.py:98: DeprecationWarning: distutils Version classes are deprecated. Use packaging.version instead.\n",
      "  weak_ft=T.tempopulsar('Perfect_Model.par','iteration_sub.tim')\n"
     ]
    },
    {
     "name": "stdout",
     "output_type": "stream",
     "text": [
      "spr************************************************* \n",
      "Warning: you are running in tempo1 emulation mode \n",
      "************************************************* \n",
      "\n"
     ]
    },
    {
     "name": "stderr",
     "output_type": "stream",
     "text": [
      "/tmp/ipykernel_8229/2184178469.py:98: DeprecationWarning: distutils Version classes are deprecated. Use packaging.version instead.\n",
      "  weak_ft=T.tempopulsar('Perfect_Model.par','iteration_sub.tim')\n"
     ]
    },
    {
     "name": "stdout",
     "output_type": "stream",
     "text": [
      "spr************************************************* \n",
      "Warning: you are running in tempo1 emulation mode \n",
      "************************************************* \n",
      "\n"
     ]
    },
    {
     "name": "stderr",
     "output_type": "stream",
     "text": [
      "/tmp/ipykernel_8229/2184178469.py:98: DeprecationWarning: distutils Version classes are deprecated. Use packaging.version instead.\n",
      "  weak_ft=T.tempopulsar('Perfect_Model.par','iteration_sub.tim')\n"
     ]
    },
    {
     "name": "stdout",
     "output_type": "stream",
     "text": [
      "spr************************************************* \n",
      "Warning: you are running in tempo1 emulation mode \n",
      "************************************************* \n",
      "\n"
     ]
    },
    {
     "name": "stderr",
     "output_type": "stream",
     "text": [
      "/tmp/ipykernel_8229/2184178469.py:98: DeprecationWarning: distutils Version classes are deprecated. Use packaging.version instead.\n",
      "  weak_ft=T.tempopulsar('Perfect_Model.par','iteration_sub.tim')\n"
     ]
    },
    {
     "name": "stdout",
     "output_type": "stream",
     "text": [
      "************************************************* \n",
      "Warning: you are running in tempo1 emulation mode \n",
      "************************************************* \n",
      "spr\n"
     ]
    },
    {
     "name": "stderr",
     "output_type": "stream",
     "text": [
      "/tmp/ipykernel_8229/2184178469.py:98: DeprecationWarning: distutils Version classes are deprecated. Use packaging.version instead.\n",
      "  weak_ft=T.tempopulsar('Perfect_Model.par','iteration_sub.tim')\n"
     ]
    },
    {
     "name": "stdout",
     "output_type": "stream",
     "text": [
      "spr************************************************* \n",
      "Warning: you are running in tempo1 emulation mode \n",
      "************************************************* \n",
      "\n"
     ]
    },
    {
     "name": "stderr",
     "output_type": "stream",
     "text": [
      "/tmp/ipykernel_8229/2184178469.py:98: DeprecationWarning: distutils Version classes are deprecated. Use packaging.version instead.\n",
      "  weak_ft=T.tempopulsar('Perfect_Model.par','iteration_sub.tim')\n"
     ]
    },
    {
     "name": "stdout",
     "output_type": "stream",
     "text": [
      "spr************************************************* \n",
      "Warning: you are running in tempo1 emulation mode \n",
      "************************************************* \n",
      "\n"
     ]
    },
    {
     "name": "stderr",
     "output_type": "stream",
     "text": [
      "/tmp/ipykernel_8229/2184178469.py:98: DeprecationWarning: distutils Version classes are deprecated. Use packaging.version instead.\n",
      "  weak_ft=T.tempopulsar('Perfect_Model.par','iteration_sub.tim')\n"
     ]
    },
    {
     "name": "stdout",
     "output_type": "stream",
     "text": [
      "spr************************************************* \n",
      "Warning: you are running in tempo1 emulation mode \n",
      "************************************************* \n",
      "\n",
      "iteration: 46\n",
      "************************************************* \n",
      "Warning: you are running in tempo1 emulation mode \n",
      "************************************************* \n",
      "************************************************* \n",
      "Warning: you are running in tempo1 emulation mode \n",
      "************************************************* \n"
     ]
    },
    {
     "name": "stderr",
     "output_type": "stream",
     "text": [
      "/tmp/ipykernel_8229/2184178469.py:98: DeprecationWarning: distutils Version classes are deprecated. Use packaging.version instead.\n",
      "  weak_ft=T.tempopulsar('Perfect_Model.par','iteration_sub.tim')\n"
     ]
    },
    {
     "name": "stdout",
     "output_type": "stream",
     "text": [
      "spr************************************************* \n",
      "Warning: you are running in tempo1 emulation mode \n",
      "************************************************* \n",
      "\n"
     ]
    },
    {
     "name": "stderr",
     "output_type": "stream",
     "text": [
      "/tmp/ipykernel_8229/2184178469.py:98: DeprecationWarning: distutils Version classes are deprecated. Use packaging.version instead.\n",
      "  weak_ft=T.tempopulsar('Perfect_Model.par','iteration_sub.tim')\n"
     ]
    },
    {
     "name": "stdout",
     "output_type": "stream",
     "text": [
      "spr************************************************* \n",
      "Warning: you are running in tempo1 emulation mode \n",
      "************************************************* \n",
      "\n"
     ]
    },
    {
     "name": "stderr",
     "output_type": "stream",
     "text": [
      "/tmp/ipykernel_8229/2184178469.py:98: DeprecationWarning: distutils Version classes are deprecated. Use packaging.version instead.\n",
      "  weak_ft=T.tempopulsar('Perfect_Model.par','iteration_sub.tim')\n"
     ]
    },
    {
     "name": "stdout",
     "output_type": "stream",
     "text": [
      "spr************************************************* \n",
      "Warning: you are running in tempo1 emulation mode \n",
      "************************************************* \n",
      "\n"
     ]
    },
    {
     "name": "stderr",
     "output_type": "stream",
     "text": [
      "/tmp/ipykernel_8229/2184178469.py:98: DeprecationWarning: distutils Version classes are deprecated. Use packaging.version instead.\n",
      "  weak_ft=T.tempopulsar('Perfect_Model.par','iteration_sub.tim')\n"
     ]
    },
    {
     "name": "stdout",
     "output_type": "stream",
     "text": [
      "spr************************************************* \n",
      "Warning: you are running in tempo1 emulation mode \n",
      "************************************************* \n",
      "\n"
     ]
    },
    {
     "name": "stderr",
     "output_type": "stream",
     "text": [
      "/tmp/ipykernel_8229/2184178469.py:98: DeprecationWarning: distutils Version classes are deprecated. Use packaging.version instead.\n",
      "  weak_ft=T.tempopulsar('Perfect_Model.par','iteration_sub.tim')\n"
     ]
    },
    {
     "name": "stdout",
     "output_type": "stream",
     "text": [
      "spr************************************************* \n",
      "Warning: you are running in tempo1 emulation mode \n",
      "************************************************* \n",
      "\n"
     ]
    },
    {
     "name": "stderr",
     "output_type": "stream",
     "text": [
      "/tmp/ipykernel_8229/2184178469.py:98: DeprecationWarning: distutils Version classes are deprecated. Use packaging.version instead.\n",
      "  weak_ft=T.tempopulsar('Perfect_Model.par','iteration_sub.tim')\n"
     ]
    },
    {
     "name": "stdout",
     "output_type": "stream",
     "text": [
      "spr\n",
      "************************************************* \n",
      "Warning: you are running in tempo1 emulation mode \n",
      "************************************************* \n"
     ]
    },
    {
     "name": "stderr",
     "output_type": "stream",
     "text": [
      "/tmp/ipykernel_8229/2184178469.py:98: DeprecationWarning: distutils Version classes are deprecated. Use packaging.version instead.\n",
      "  weak_ft=T.tempopulsar('Perfect_Model.par','iteration_sub.tim')\n"
     ]
    },
    {
     "name": "stdout",
     "output_type": "stream",
     "text": [
      "spr************************************************* \n",
      "Warning: you are running in tempo1 emulation mode \n",
      "************************************************* \n",
      "\n"
     ]
    },
    {
     "name": "stderr",
     "output_type": "stream",
     "text": [
      "/tmp/ipykernel_8229/2184178469.py:98: DeprecationWarning: distutils Version classes are deprecated. Use packaging.version instead.\n",
      "  weak_ft=T.tempopulsar('Perfect_Model.par','iteration_sub.tim')\n"
     ]
    },
    {
     "name": "stdout",
     "output_type": "stream",
     "text": [
      "spr************************************************* \n",
      "Warning: you are running in tempo1 emulation mode \n",
      "************************************************* \n",
      "\n"
     ]
    },
    {
     "name": "stderr",
     "output_type": "stream",
     "text": [
      "/tmp/ipykernel_8229/2184178469.py:98: DeprecationWarning: distutils Version classes are deprecated. Use packaging.version instead.\n",
      "  weak_ft=T.tempopulsar('Perfect_Model.par','iteration_sub.tim')\n"
     ]
    },
    {
     "name": "stdout",
     "output_type": "stream",
     "text": [
      "************************************************* \n",
      "Warning: you are running in tempo1 emulation mode \n",
      "************************************************* \n",
      "spr\n"
     ]
    },
    {
     "name": "stderr",
     "output_type": "stream",
     "text": [
      "/tmp/ipykernel_8229/2184178469.py:98: DeprecationWarning: distutils Version classes are deprecated. Use packaging.version instead.\n",
      "  weak_ft=T.tempopulsar('Perfect_Model.par','iteration_sub.tim')\n"
     ]
    },
    {
     "name": "stdout",
     "output_type": "stream",
     "text": [
      "spr************************************************* \n",
      "Warning: you are running in tempo1 emulation mode \n",
      "************************************************* \n",
      "\n",
      "iteration: 47\n",
      "************************************************* \n",
      "Warning: you are running in tempo1 emulation mode \n",
      "************************************************* \n",
      "************************************************* \n",
      "Warning: you are running in tempo1 emulation mode \n",
      "************************************************* \n"
     ]
    },
    {
     "name": "stderr",
     "output_type": "stream",
     "text": [
      "/tmp/ipykernel_8229/2184178469.py:98: DeprecationWarning: distutils Version classes are deprecated. Use packaging.version instead.\n",
      "  weak_ft=T.tempopulsar('Perfect_Model.par','iteration_sub.tim')\n"
     ]
    },
    {
     "name": "stdout",
     "output_type": "stream",
     "text": [
      "spr************************************************* \n",
      "Warning: you are running in tempo1 emulation mode \n",
      "************************************************* \n",
      "\n"
     ]
    },
    {
     "name": "stderr",
     "output_type": "stream",
     "text": [
      "/tmp/ipykernel_8229/2184178469.py:98: DeprecationWarning: distutils Version classes are deprecated. Use packaging.version instead.\n",
      "  weak_ft=T.tempopulsar('Perfect_Model.par','iteration_sub.tim')\n"
     ]
    },
    {
     "name": "stdout",
     "output_type": "stream",
     "text": [
      "spr************************************************* \n",
      "Warning: you are running in tempo1 emulation mode \n",
      "************************************************* \n",
      "\n"
     ]
    },
    {
     "name": "stderr",
     "output_type": "stream",
     "text": [
      "/tmp/ipykernel_8229/2184178469.py:98: DeprecationWarning: distutils Version classes are deprecated. Use packaging.version instead.\n",
      "  weak_ft=T.tempopulsar('Perfect_Model.par','iteration_sub.tim')\n"
     ]
    },
    {
     "name": "stdout",
     "output_type": "stream",
     "text": [
      "spr************************************************* \n",
      "Warning: you are running in tempo1 emulation mode \n",
      "************************************************* \n",
      "\n"
     ]
    },
    {
     "name": "stderr",
     "output_type": "stream",
     "text": [
      "/tmp/ipykernel_8229/2184178469.py:98: DeprecationWarning: distutils Version classes are deprecated. Use packaging.version instead.\n",
      "  weak_ft=T.tempopulsar('Perfect_Model.par','iteration_sub.tim')\n"
     ]
    },
    {
     "name": "stdout",
     "output_type": "stream",
     "text": [
      "spr************************************************* \n",
      "Warning: you are running in tempo1 emulation mode \n",
      "************************************************* \n",
      "\n"
     ]
    },
    {
     "name": "stderr",
     "output_type": "stream",
     "text": [
      "/tmp/ipykernel_8229/2184178469.py:98: DeprecationWarning: distutils Version classes are deprecated. Use packaging.version instead.\n",
      "  weak_ft=T.tempopulsar('Perfect_Model.par','iteration_sub.tim')\n"
     ]
    },
    {
     "name": "stdout",
     "output_type": "stream",
     "text": [
      "spr************************************************* \n",
      "Warning: you are running in tempo1 emulation mode \n",
      "************************************************* \n",
      "\n"
     ]
    },
    {
     "name": "stderr",
     "output_type": "stream",
     "text": [
      "/tmp/ipykernel_8229/2184178469.py:98: DeprecationWarning: distutils Version classes are deprecated. Use packaging.version instead.\n",
      "  weak_ft=T.tempopulsar('Perfect_Model.par','iteration_sub.tim')\n"
     ]
    },
    {
     "name": "stdout",
     "output_type": "stream",
     "text": [
      "spr************************************************* \n",
      "Warning: you are running in tempo1 emulation mode \n",
      "************************************************* \n",
      "\n"
     ]
    },
    {
     "name": "stderr",
     "output_type": "stream",
     "text": [
      "/tmp/ipykernel_8229/2184178469.py:98: DeprecationWarning: distutils Version classes are deprecated. Use packaging.version instead.\n",
      "  weak_ft=T.tempopulsar('Perfect_Model.par','iteration_sub.tim')\n"
     ]
    },
    {
     "name": "stdout",
     "output_type": "stream",
     "text": [
      "spr\n",
      "************************************************* \n",
      "Warning: you are running in tempo1 emulation mode \n",
      "************************************************* \n"
     ]
    },
    {
     "name": "stderr",
     "output_type": "stream",
     "text": [
      "/tmp/ipykernel_8229/2184178469.py:98: DeprecationWarning: distutils Version classes are deprecated. Use packaging.version instead.\n",
      "  weak_ft=T.tempopulsar('Perfect_Model.par','iteration_sub.tim')\n"
     ]
    },
    {
     "name": "stdout",
     "output_type": "stream",
     "text": [
      "spr************************************************* \n",
      "Warning: you are running in tempo1 emulation mode \n",
      "************************************************* \n",
      "\n"
     ]
    },
    {
     "name": "stderr",
     "output_type": "stream",
     "text": [
      "/tmp/ipykernel_8229/2184178469.py:98: DeprecationWarning: distutils Version classes are deprecated. Use packaging.version instead.\n",
      "  weak_ft=T.tempopulsar('Perfect_Model.par','iteration_sub.tim')\n"
     ]
    },
    {
     "name": "stdout",
     "output_type": "stream",
     "text": [
      "spr************************************************* \n",
      "Warning: you are running in tempo1 emulation mode \n",
      "************************************************* \n",
      "\n"
     ]
    },
    {
     "name": "stderr",
     "output_type": "stream",
     "text": [
      "/tmp/ipykernel_8229/2184178469.py:98: DeprecationWarning: distutils Version classes are deprecated. Use packaging.version instead.\n",
      "  weak_ft=T.tempopulsar('Perfect_Model.par','iteration_sub.tim')\n"
     ]
    },
    {
     "name": "stdout",
     "output_type": "stream",
     "text": [
      "spr************************************************* \n",
      "Warning: you are running in tempo1 emulation mode \n",
      "************************************************* \n",
      "\n",
      "iteration: 48\n",
      "************************************************* \n",
      "Warning: you are running in tempo1 emulation mode \n",
      "************************************************* \n",
      "************************************************* \n",
      "Warning: you are running in tempo1 emulation mode \n",
      "************************************************* \n"
     ]
    },
    {
     "name": "stderr",
     "output_type": "stream",
     "text": [
      "/tmp/ipykernel_8229/2184178469.py:98: DeprecationWarning: distutils Version classes are deprecated. Use packaging.version instead.\n",
      "  weak_ft=T.tempopulsar('Perfect_Model.par','iteration_sub.tim')\n"
     ]
    },
    {
     "name": "stdout",
     "output_type": "stream",
     "text": [
      "spr************************************************* \n",
      "Warning: you are running in tempo1 emulation mode \n",
      "************************************************* \n",
      "\n"
     ]
    },
    {
     "name": "stderr",
     "output_type": "stream",
     "text": [
      "/tmp/ipykernel_8229/2184178469.py:98: DeprecationWarning: distutils Version classes are deprecated. Use packaging.version instead.\n",
      "  weak_ft=T.tempopulsar('Perfect_Model.par','iteration_sub.tim')\n"
     ]
    },
    {
     "name": "stdout",
     "output_type": "stream",
     "text": [
      "spr************************************************* \n",
      "Warning: you are running in tempo1 emulation mode \n",
      "************************************************* \n",
      "\n"
     ]
    },
    {
     "name": "stderr",
     "output_type": "stream",
     "text": [
      "/tmp/ipykernel_8229/2184178469.py:98: DeprecationWarning: distutils Version classes are deprecated. Use packaging.version instead.\n",
      "  weak_ft=T.tempopulsar('Perfect_Model.par','iteration_sub.tim')\n"
     ]
    },
    {
     "name": "stdout",
     "output_type": "stream",
     "text": [
      "spr************************************************* \n",
      "Warning: you are running in tempo1 emulation mode \n",
      "************************************************* \n",
      "\n"
     ]
    },
    {
     "name": "stderr",
     "output_type": "stream",
     "text": [
      "/tmp/ipykernel_8229/2184178469.py:98: DeprecationWarning: distutils Version classes are deprecated. Use packaging.version instead.\n",
      "  weak_ft=T.tempopulsar('Perfect_Model.par','iteration_sub.tim')\n"
     ]
    },
    {
     "name": "stdout",
     "output_type": "stream",
     "text": [
      "spr************************************************* \n",
      "Warning: you are running in tempo1 emulation mode \n",
      "************************************************* \n",
      "\n"
     ]
    },
    {
     "name": "stderr",
     "output_type": "stream",
     "text": [
      "/tmp/ipykernel_8229/2184178469.py:98: DeprecationWarning: distutils Version classes are deprecated. Use packaging.version instead.\n",
      "  weak_ft=T.tempopulsar('Perfect_Model.par','iteration_sub.tim')\n"
     ]
    },
    {
     "name": "stdout",
     "output_type": "stream",
     "text": [
      "spr************************************************* \n",
      "Warning: you are running in tempo1 emulation mode \n",
      "************************************************* \n",
      "\n"
     ]
    },
    {
     "name": "stderr",
     "output_type": "stream",
     "text": [
      "/tmp/ipykernel_8229/2184178469.py:98: DeprecationWarning: distutils Version classes are deprecated. Use packaging.version instead.\n",
      "  weak_ft=T.tempopulsar('Perfect_Model.par','iteration_sub.tim')\n"
     ]
    },
    {
     "name": "stdout",
     "output_type": "stream",
     "text": [
      "spr\n",
      "************************************************* \n",
      "Warning: you are running in tempo1 emulation mode \n",
      "************************************************* \n"
     ]
    },
    {
     "name": "stderr",
     "output_type": "stream",
     "text": [
      "/tmp/ipykernel_8229/2184178469.py:98: DeprecationWarning: distutils Version classes are deprecated. Use packaging.version instead.\n",
      "  weak_ft=T.tempopulsar('Perfect_Model.par','iteration_sub.tim')\n"
     ]
    },
    {
     "name": "stdout",
     "output_type": "stream",
     "text": [
      "spr************************************************* \n",
      "Warning: you are running in tempo1 emulation mode \n",
      "************************************************* \n",
      "\n"
     ]
    },
    {
     "name": "stderr",
     "output_type": "stream",
     "text": [
      "/tmp/ipykernel_8229/2184178469.py:98: DeprecationWarning: distutils Version classes are deprecated. Use packaging.version instead.\n",
      "  weak_ft=T.tempopulsar('Perfect_Model.par','iteration_sub.tim')\n"
     ]
    },
    {
     "name": "stdout",
     "output_type": "stream",
     "text": [
      "spr************************************************* \n",
      "Warning: you are running in tempo1 emulation mode \n",
      "************************************************* \n",
      "\n"
     ]
    },
    {
     "name": "stderr",
     "output_type": "stream",
     "text": [
      "/tmp/ipykernel_8229/2184178469.py:98: DeprecationWarning: distutils Version classes are deprecated. Use packaging.version instead.\n",
      "  weak_ft=T.tempopulsar('Perfect_Model.par','iteration_sub.tim')\n"
     ]
    },
    {
     "name": "stdout",
     "output_type": "stream",
     "text": [
      "spr************************************************* \n",
      "Warning: you are running in tempo1 emulation mode \n",
      "************************************************* \n",
      "\n"
     ]
    },
    {
     "name": "stderr",
     "output_type": "stream",
     "text": [
      "/tmp/ipykernel_8229/2184178469.py:98: DeprecationWarning: distutils Version classes are deprecated. Use packaging.version instead.\n",
      "  weak_ft=T.tempopulsar('Perfect_Model.par','iteration_sub.tim')\n"
     ]
    },
    {
     "name": "stdout",
     "output_type": "stream",
     "text": [
      "spr************************************************* \n",
      "Warning: you are running in tempo1 emulation mode \n",
      "************************************************* \n",
      "\n",
      "iteration: 49\n",
      "************************************************* \n",
      "Warning: you are running in tempo1 emulation mode \n",
      "************************************************* \n",
      "************************************************* \n",
      "Warning: you are running in tempo1 emulation mode \n",
      "************************************************* \n"
     ]
    },
    {
     "name": "stderr",
     "output_type": "stream",
     "text": [
      "/tmp/ipykernel_8229/2184178469.py:98: DeprecationWarning: distutils Version classes are deprecated. Use packaging.version instead.\n",
      "  weak_ft=T.tempopulsar('Perfect_Model.par','iteration_sub.tim')\n"
     ]
    },
    {
     "name": "stdout",
     "output_type": "stream",
     "text": [
      "spr************************************************* \n",
      "Warning: you are running in tempo1 emulation mode \n",
      "************************************************* \n",
      "\n"
     ]
    },
    {
     "name": "stderr",
     "output_type": "stream",
     "text": [
      "/tmp/ipykernel_8229/2184178469.py:98: DeprecationWarning: distutils Version classes are deprecated. Use packaging.version instead.\n",
      "  weak_ft=T.tempopulsar('Perfect_Model.par','iteration_sub.tim')\n"
     ]
    },
    {
     "name": "stdout",
     "output_type": "stream",
     "text": [
      "spr************************************************* \n",
      "Warning: you are running in tempo1 emulation mode \n",
      "************************************************* \n",
      "\n"
     ]
    },
    {
     "name": "stderr",
     "output_type": "stream",
     "text": [
      "/tmp/ipykernel_8229/2184178469.py:98: DeprecationWarning: distutils Version classes are deprecated. Use packaging.version instead.\n",
      "  weak_ft=T.tempopulsar('Perfect_Model.par','iteration_sub.tim')\n"
     ]
    },
    {
     "name": "stdout",
     "output_type": "stream",
     "text": [
      "spr************************************************* \n",
      "Warning: you are running in tempo1 emulation mode \n",
      "************************************************* \n",
      "\n"
     ]
    },
    {
     "name": "stderr",
     "output_type": "stream",
     "text": [
      "/tmp/ipykernel_8229/2184178469.py:98: DeprecationWarning: distutils Version classes are deprecated. Use packaging.version instead.\n",
      "  weak_ft=T.tempopulsar('Perfect_Model.par','iteration_sub.tim')\n"
     ]
    },
    {
     "name": "stdout",
     "output_type": "stream",
     "text": [
      "spr************************************************* \n",
      "Warning: you are running in tempo1 emulation mode \n",
      "************************************************* \n",
      "\n"
     ]
    },
    {
     "name": "stderr",
     "output_type": "stream",
     "text": [
      "/tmp/ipykernel_8229/2184178469.py:98: DeprecationWarning: distutils Version classes are deprecated. Use packaging.version instead.\n",
      "  weak_ft=T.tempopulsar('Perfect_Model.par','iteration_sub.tim')\n"
     ]
    },
    {
     "name": "stdout",
     "output_type": "stream",
     "text": [
      "spr************************************************* \n",
      "Warning: you are running in tempo1 emulation mode \n",
      "************************************************* \n",
      "\n"
     ]
    },
    {
     "name": "stderr",
     "output_type": "stream",
     "text": [
      "/tmp/ipykernel_8229/2184178469.py:98: DeprecationWarning: distutils Version classes are deprecated. Use packaging.version instead.\n",
      "  weak_ft=T.tempopulsar('Perfect_Model.par','iteration_sub.tim')\n"
     ]
    },
    {
     "name": "stdout",
     "output_type": "stream",
     "text": [
      "spr************************************************* \n",
      "Warning: you are running in tempo1 emulation mode \n",
      "************************************************* \n",
      "\n"
     ]
    },
    {
     "name": "stderr",
     "output_type": "stream",
     "text": [
      "/tmp/ipykernel_8229/2184178469.py:98: DeprecationWarning: distutils Version classes are deprecated. Use packaging.version instead.\n",
      "  weak_ft=T.tempopulsar('Perfect_Model.par','iteration_sub.tim')\n"
     ]
    },
    {
     "name": "stdout",
     "output_type": "stream",
     "text": [
      "spr************************************************* \n",
      "Warning: you are running in tempo1 emulation mode \n",
      "************************************************* \n",
      "\n"
     ]
    },
    {
     "name": "stderr",
     "output_type": "stream",
     "text": [
      "/tmp/ipykernel_8229/2184178469.py:98: DeprecationWarning: distutils Version classes are deprecated. Use packaging.version instead.\n",
      "  weak_ft=T.tempopulsar('Perfect_Model.par','iteration_sub.tim')\n"
     ]
    },
    {
     "name": "stdout",
     "output_type": "stream",
     "text": [
      "spr************************************************* \n",
      "Warning: you are running in tempo1 emulation mode \n",
      "************************************************* \n",
      "\n"
     ]
    },
    {
     "name": "stderr",
     "output_type": "stream",
     "text": [
      "/tmp/ipykernel_8229/2184178469.py:98: DeprecationWarning: distutils Version classes are deprecated. Use packaging.version instead.\n",
      "  weak_ft=T.tempopulsar('Perfect_Model.par','iteration_sub.tim')\n"
     ]
    },
    {
     "name": "stdout",
     "output_type": "stream",
     "text": [
      "spr\n",
      "************************************************* \n",
      "Warning: you are running in tempo1 emulation mode \n",
      "************************************************* \n"
     ]
    },
    {
     "name": "stderr",
     "output_type": "stream",
     "text": [
      "/tmp/ipykernel_8229/2184178469.py:98: DeprecationWarning: distutils Version classes are deprecated. Use packaging.version instead.\n",
      "  weak_ft=T.tempopulsar('Perfect_Model.par','iteration_sub.tim')\n"
     ]
    },
    {
     "name": "stdout",
     "output_type": "stream",
     "text": [
      "spr************************************************* \n",
      "Warning: you are running in tempo1 emulation mode \n",
      "************************************************* \n",
      "\n",
      "iteration: 50\n",
      "************************************************* \n",
      "Warning: you are running in tempo1 emulation mode \n",
      "************************************************* \n",
      "************************************************* \n",
      "Warning: you are running in tempo1 emulation mode \n",
      "************************************************* \n"
     ]
    },
    {
     "name": "stderr",
     "output_type": "stream",
     "text": [
      "/tmp/ipykernel_8229/2184178469.py:98: DeprecationWarning: distutils Version classes are deprecated. Use packaging.version instead.\n",
      "  weak_ft=T.tempopulsar('Perfect_Model.par','iteration_sub.tim')\n"
     ]
    },
    {
     "name": "stdout",
     "output_type": "stream",
     "text": [
      "spr************************************************* \n",
      "Warning: you are running in tempo1 emulation mode \n",
      "************************************************* \n",
      "\n"
     ]
    },
    {
     "name": "stderr",
     "output_type": "stream",
     "text": [
      "/tmp/ipykernel_8229/2184178469.py:98: DeprecationWarning: distutils Version classes are deprecated. Use packaging.version instead.\n",
      "  weak_ft=T.tempopulsar('Perfect_Model.par','iteration_sub.tim')\n"
     ]
    },
    {
     "name": "stdout",
     "output_type": "stream",
     "text": [
      "spr************************************************* \n",
      "Warning: you are running in tempo1 emulation mode \n",
      "************************************************* \n",
      "\n"
     ]
    },
    {
     "name": "stderr",
     "output_type": "stream",
     "text": [
      "/tmp/ipykernel_8229/2184178469.py:98: DeprecationWarning: distutils Version classes are deprecated. Use packaging.version instead.\n",
      "  weak_ft=T.tempopulsar('Perfect_Model.par','iteration_sub.tim')\n"
     ]
    },
    {
     "name": "stdout",
     "output_type": "stream",
     "text": [
      "spr************************************************* \n",
      "Warning: you are running in tempo1 emulation mode \n",
      "************************************************* \n",
      "\n"
     ]
    },
    {
     "name": "stderr",
     "output_type": "stream",
     "text": [
      "/tmp/ipykernel_8229/2184178469.py:98: DeprecationWarning: distutils Version classes are deprecated. Use packaging.version instead.\n",
      "  weak_ft=T.tempopulsar('Perfect_Model.par','iteration_sub.tim')\n"
     ]
    },
    {
     "name": "stdout",
     "output_type": "stream",
     "text": [
      "spr************************************************* \n",
      "Warning: you are running in tempo1 emulation mode \n",
      "************************************************* \n",
      "\n"
     ]
    },
    {
     "name": "stderr",
     "output_type": "stream",
     "text": [
      "/tmp/ipykernel_8229/2184178469.py:98: DeprecationWarning: distutils Version classes are deprecated. Use packaging.version instead.\n",
      "  weak_ft=T.tempopulsar('Perfect_Model.par','iteration_sub.tim')\n"
     ]
    },
    {
     "name": "stdout",
     "output_type": "stream",
     "text": [
      "spr************************************************* \n",
      "Warning: you are running in tempo1 emulation mode \n",
      "************************************************* \n",
      "\n"
     ]
    },
    {
     "name": "stderr",
     "output_type": "stream",
     "text": [
      "/tmp/ipykernel_8229/2184178469.py:98: DeprecationWarning: distutils Version classes are deprecated. Use packaging.version instead.\n",
      "  weak_ft=T.tempopulsar('Perfect_Model.par','iteration_sub.tim')\n"
     ]
    },
    {
     "name": "stdout",
     "output_type": "stream",
     "text": [
      "spr************************************************* \n",
      "Warning: you are running in tempo1 emulation mode \n",
      "************************************************* \n",
      "\n"
     ]
    },
    {
     "name": "stderr",
     "output_type": "stream",
     "text": [
      "/tmp/ipykernel_8229/2184178469.py:98: DeprecationWarning: distutils Version classes are deprecated. Use packaging.version instead.\n",
      "  weak_ft=T.tempopulsar('Perfect_Model.par','iteration_sub.tim')\n"
     ]
    },
    {
     "name": "stdout",
     "output_type": "stream",
     "text": [
      "spr************************************************* \n",
      "Warning: you are running in tempo1 emulation mode \n",
      "************************************************* \n",
      "\n"
     ]
    },
    {
     "name": "stderr",
     "output_type": "stream",
     "text": [
      "/tmp/ipykernel_8229/2184178469.py:98: DeprecationWarning: distutils Version classes are deprecated. Use packaging.version instead.\n",
      "  weak_ft=T.tempopulsar('Perfect_Model.par','iteration_sub.tim')\n"
     ]
    },
    {
     "name": "stdout",
     "output_type": "stream",
     "text": [
      "spr************************************************* \n",
      "Warning: you are running in tempo1 emulation mode \n",
      "************************************************* \n",
      "\n"
     ]
    },
    {
     "name": "stderr",
     "output_type": "stream",
     "text": [
      "/tmp/ipykernel_8229/2184178469.py:98: DeprecationWarning: distutils Version classes are deprecated. Use packaging.version instead.\n",
      "  weak_ft=T.tempopulsar('Perfect_Model.par','iteration_sub.tim')\n"
     ]
    },
    {
     "name": "stdout",
     "output_type": "stream",
     "text": [
      "spr************************************************* \n",
      "Warning: you are running in tempo1 emulation mode \n",
      "************************************************* \n",
      "\n"
     ]
    },
    {
     "name": "stderr",
     "output_type": "stream",
     "text": [
      "/tmp/ipykernel_8229/2184178469.py:98: DeprecationWarning: distutils Version classes are deprecated. Use packaging.version instead.\n",
      "  weak_ft=T.tempopulsar('Perfect_Model.par','iteration_sub.tim')\n"
     ]
    },
    {
     "name": "stdout",
     "output_type": "stream",
     "text": [
      "spr************************************************* \n",
      "Warning: you are running in tempo1 emulation mode \n",
      "************************************************* \n",
      "\n",
      "iteration: 51\n",
      "************************************************* \n",
      "Warning: you are running in tempo1 emulation mode \n",
      "************************************************* \n",
      "************************************************* \n",
      "Warning: you are running in tempo1 emulation mode \n",
      "************************************************* \n"
     ]
    },
    {
     "name": "stderr",
     "output_type": "stream",
     "text": [
      "/tmp/ipykernel_8229/2184178469.py:98: DeprecationWarning: distutils Version classes are deprecated. Use packaging.version instead.\n",
      "  weak_ft=T.tempopulsar('Perfect_Model.par','iteration_sub.tim')\n"
     ]
    },
    {
     "name": "stdout",
     "output_type": "stream",
     "text": [
      "spr************************************************* \n",
      "Warning: you are running in tempo1 emulation mode \n",
      "************************************************* \n",
      "\n"
     ]
    },
    {
     "name": "stderr",
     "output_type": "stream",
     "text": [
      "/tmp/ipykernel_8229/2184178469.py:98: DeprecationWarning: distutils Version classes are deprecated. Use packaging.version instead.\n",
      "  weak_ft=T.tempopulsar('Perfect_Model.par','iteration_sub.tim')\n"
     ]
    },
    {
     "name": "stdout",
     "output_type": "stream",
     "text": [
      "spr************************************************* \n",
      "Warning: you are running in tempo1 emulation mode \n",
      "************************************************* \n",
      "\n"
     ]
    },
    {
     "name": "stderr",
     "output_type": "stream",
     "text": [
      "/tmp/ipykernel_8229/2184178469.py:98: DeprecationWarning: distutils Version classes are deprecated. Use packaging.version instead.\n",
      "  weak_ft=T.tempopulsar('Perfect_Model.par','iteration_sub.tim')\n"
     ]
    },
    {
     "name": "stdout",
     "output_type": "stream",
     "text": [
      "spr************************************************* \n",
      "Warning: you are running in tempo1 emulation mode \n",
      "************************************************* \n",
      "\n"
     ]
    },
    {
     "name": "stderr",
     "output_type": "stream",
     "text": [
      "/tmp/ipykernel_8229/2184178469.py:98: DeprecationWarning: distutils Version classes are deprecated. Use packaging.version instead.\n",
      "  weak_ft=T.tempopulsar('Perfect_Model.par','iteration_sub.tim')\n"
     ]
    },
    {
     "name": "stdout",
     "output_type": "stream",
     "text": [
      "spr************************************************* \n",
      "Warning: you are running in tempo1 emulation mode \n",
      "************************************************* \n",
      "\n"
     ]
    },
    {
     "name": "stderr",
     "output_type": "stream",
     "text": [
      "/tmp/ipykernel_8229/2184178469.py:98: DeprecationWarning: distutils Version classes are deprecated. Use packaging.version instead.\n",
      "  weak_ft=T.tempopulsar('Perfect_Model.par','iteration_sub.tim')\n"
     ]
    },
    {
     "name": "stdout",
     "output_type": "stream",
     "text": [
      "spr************************************************* \n",
      "Warning: you are running in tempo1 emulation mode \n",
      "************************************************* \n",
      "\n"
     ]
    },
    {
     "name": "stderr",
     "output_type": "stream",
     "text": [
      "/tmp/ipykernel_8229/2184178469.py:98: DeprecationWarning: distutils Version classes are deprecated. Use packaging.version instead.\n",
      "  weak_ft=T.tempopulsar('Perfect_Model.par','iteration_sub.tim')\n"
     ]
    },
    {
     "name": "stdout",
     "output_type": "stream",
     "text": [
      "spr************************************************* \n",
      "Warning: you are running in tempo1 emulation mode \n",
      "************************************************* \n",
      "\n"
     ]
    },
    {
     "name": "stderr",
     "output_type": "stream",
     "text": [
      "/tmp/ipykernel_8229/2184178469.py:98: DeprecationWarning: distutils Version classes are deprecated. Use packaging.version instead.\n",
      "  weak_ft=T.tempopulsar('Perfect_Model.par','iteration_sub.tim')\n"
     ]
    },
    {
     "name": "stdout",
     "output_type": "stream",
     "text": [
      "spr************************************************* \n",
      "Warning: you are running in tempo1 emulation mode \n",
      "************************************************* \n",
      "\n"
     ]
    },
    {
     "name": "stderr",
     "output_type": "stream",
     "text": [
      "/tmp/ipykernel_8229/2184178469.py:98: DeprecationWarning: distutils Version classes are deprecated. Use packaging.version instead.\n",
      "  weak_ft=T.tempopulsar('Perfect_Model.par','iteration_sub.tim')\n"
     ]
    },
    {
     "name": "stdout",
     "output_type": "stream",
     "text": [
      "spr************************************************* \n",
      "Warning: you are running in tempo1 emulation mode \n",
      "************************************************* \n",
      "\n"
     ]
    },
    {
     "name": "stderr",
     "output_type": "stream",
     "text": [
      "/tmp/ipykernel_8229/2184178469.py:98: DeprecationWarning: distutils Version classes are deprecated. Use packaging.version instead.\n",
      "  weak_ft=T.tempopulsar('Perfect_Model.par','iteration_sub.tim')\n"
     ]
    },
    {
     "name": "stdout",
     "output_type": "stream",
     "text": [
      "************************************************* \n",
      "Warning: you are running in tempo1 emulation mode \n",
      "************************************************* \n",
      "spr\n"
     ]
    },
    {
     "name": "stderr",
     "output_type": "stream",
     "text": [
      "/tmp/ipykernel_8229/2184178469.py:98: DeprecationWarning: distutils Version classes are deprecated. Use packaging.version instead.\n",
      "  weak_ft=T.tempopulsar('Perfect_Model.par','iteration_sub.tim')\n"
     ]
    },
    {
     "name": "stdout",
     "output_type": "stream",
     "text": [
      "************************************************* \n",
      "Warning: you are running in tempo1 emulation mode \n",
      "************************************************* \n",
      "spr\n",
      "iteration: 52\n",
      "************************************************* \n",
      "Warning: you are running in tempo1 emulation mode \n",
      "************************************************* \n",
      "************************************************* \n",
      "Warning: you are running in tempo1 emulation mode \n",
      "************************************************* \n"
     ]
    },
    {
     "name": "stderr",
     "output_type": "stream",
     "text": [
      "/tmp/ipykernel_8229/2184178469.py:98: DeprecationWarning: distutils Version classes are deprecated. Use packaging.version instead.\n",
      "  weak_ft=T.tempopulsar('Perfect_Model.par','iteration_sub.tim')\n"
     ]
    },
    {
     "name": "stdout",
     "output_type": "stream",
     "text": [
      "************************************************* \n",
      "Warning: you are running in tempo1 emulation mode \n",
      "************************************************* \n",
      "spr\n"
     ]
    },
    {
     "name": "stderr",
     "output_type": "stream",
     "text": [
      "/tmp/ipykernel_8229/2184178469.py:98: DeprecationWarning: distutils Version classes are deprecated. Use packaging.version instead.\n",
      "  weak_ft=T.tempopulsar('Perfect_Model.par','iteration_sub.tim')\n"
     ]
    },
    {
     "name": "stdout",
     "output_type": "stream",
     "text": [
      "spr************************************************* \n",
      "Warning: you are running in tempo1 emulation mode \n",
      "************************************************* \n",
      "\n"
     ]
    },
    {
     "name": "stderr",
     "output_type": "stream",
     "text": [
      "/tmp/ipykernel_8229/2184178469.py:98: DeprecationWarning: distutils Version classes are deprecated. Use packaging.version instead.\n",
      "  weak_ft=T.tempopulsar('Perfect_Model.par','iteration_sub.tim')\n"
     ]
    },
    {
     "name": "stdout",
     "output_type": "stream",
     "text": [
      "spr************************************************* \n",
      "Warning: you are running in tempo1 emulation mode \n",
      "************************************************* \n",
      "\n"
     ]
    },
    {
     "name": "stderr",
     "output_type": "stream",
     "text": [
      "/tmp/ipykernel_8229/2184178469.py:98: DeprecationWarning: distutils Version classes are deprecated. Use packaging.version instead.\n",
      "  weak_ft=T.tempopulsar('Perfect_Model.par','iteration_sub.tim')\n"
     ]
    },
    {
     "name": "stdout",
     "output_type": "stream",
     "text": [
      "spr************************************************* \n",
      "Warning: you are running in tempo1 emulation mode \n",
      "************************************************* \n",
      "\n"
     ]
    },
    {
     "name": "stderr",
     "output_type": "stream",
     "text": [
      "/tmp/ipykernel_8229/2184178469.py:98: DeprecationWarning: distutils Version classes are deprecated. Use packaging.version instead.\n",
      "  weak_ft=T.tempopulsar('Perfect_Model.par','iteration_sub.tim')\n"
     ]
    },
    {
     "name": "stdout",
     "output_type": "stream",
     "text": [
      "spr************************************************* \n",
      "Warning: you are running in tempo1 emulation mode \n",
      "************************************************* \n",
      "\n"
     ]
    },
    {
     "name": "stderr",
     "output_type": "stream",
     "text": [
      "/tmp/ipykernel_8229/2184178469.py:98: DeprecationWarning: distutils Version classes are deprecated. Use packaging.version instead.\n",
      "  weak_ft=T.tempopulsar('Perfect_Model.par','iteration_sub.tim')\n"
     ]
    },
    {
     "name": "stdout",
     "output_type": "stream",
     "text": [
      "spr************************************************* \n",
      "Warning: you are running in tempo1 emulation mode \n",
      "************************************************* \n",
      "\n"
     ]
    },
    {
     "name": "stderr",
     "output_type": "stream",
     "text": [
      "/tmp/ipykernel_8229/2184178469.py:98: DeprecationWarning: distutils Version classes are deprecated. Use packaging.version instead.\n",
      "  weak_ft=T.tempopulsar('Perfect_Model.par','iteration_sub.tim')\n"
     ]
    },
    {
     "name": "stdout",
     "output_type": "stream",
     "text": [
      "************************************************* \n",
      "Warning: you are running in tempo1 emulation mode \n",
      "************************************************* \n",
      "spr\n"
     ]
    },
    {
     "name": "stderr",
     "output_type": "stream",
     "text": [
      "/tmp/ipykernel_8229/2184178469.py:98: DeprecationWarning: distutils Version classes are deprecated. Use packaging.version instead.\n",
      "  weak_ft=T.tempopulsar('Perfect_Model.par','iteration_sub.tim')\n"
     ]
    },
    {
     "name": "stdout",
     "output_type": "stream",
     "text": [
      "spr************************************************* \n",
      "Warning: you are running in tempo1 emulation mode \n",
      "************************************************* \n",
      "\n"
     ]
    },
    {
     "name": "stderr",
     "output_type": "stream",
     "text": [
      "/tmp/ipykernel_8229/2184178469.py:98: DeprecationWarning: distutils Version classes are deprecated. Use packaging.version instead.\n",
      "  weak_ft=T.tempopulsar('Perfect_Model.par','iteration_sub.tim')\n"
     ]
    },
    {
     "name": "stdout",
     "output_type": "stream",
     "text": [
      "spr************************************************* \n",
      "Warning: you are running in tempo1 emulation mode \n",
      "************************************************* \n",
      "\n"
     ]
    },
    {
     "name": "stderr",
     "output_type": "stream",
     "text": [
      "/tmp/ipykernel_8229/2184178469.py:98: DeprecationWarning: distutils Version classes are deprecated. Use packaging.version instead.\n",
      "  weak_ft=T.tempopulsar('Perfect_Model.par','iteration_sub.tim')\n"
     ]
    },
    {
     "name": "stdout",
     "output_type": "stream",
     "text": [
      "spr************************************************* \n",
      "Warning: you are running in tempo1 emulation mode \n",
      "************************************************* \n",
      "\n",
      "iteration: 53\n",
      "************************************************* \n",
      "Warning: you are running in tempo1 emulation mode \n",
      "************************************************* \n",
      "************************************************* \n",
      "Warning: you are running in tempo1 emulation mode \n",
      "************************************************* \n"
     ]
    },
    {
     "name": "stderr",
     "output_type": "stream",
     "text": [
      "/tmp/ipykernel_8229/2184178469.py:98: DeprecationWarning: distutils Version classes are deprecated. Use packaging.version instead.\n",
      "  weak_ft=T.tempopulsar('Perfect_Model.par','iteration_sub.tim')\n"
     ]
    },
    {
     "name": "stdout",
     "output_type": "stream",
     "text": [
      "spr************************************************* \n",
      "Warning: you are running in tempo1 emulation mode \n",
      "************************************************* \n",
      "\n"
     ]
    },
    {
     "name": "stderr",
     "output_type": "stream",
     "text": [
      "/tmp/ipykernel_8229/2184178469.py:98: DeprecationWarning: distutils Version classes are deprecated. Use packaging.version instead.\n",
      "  weak_ft=T.tempopulsar('Perfect_Model.par','iteration_sub.tim')\n"
     ]
    },
    {
     "name": "stdout",
     "output_type": "stream",
     "text": [
      "spr************************************************* \n",
      "Warning: you are running in tempo1 emulation mode \n",
      "************************************************* \n",
      "\n"
     ]
    },
    {
     "name": "stderr",
     "output_type": "stream",
     "text": [
      "/tmp/ipykernel_8229/2184178469.py:98: DeprecationWarning: distutils Version classes are deprecated. Use packaging.version instead.\n",
      "  weak_ft=T.tempopulsar('Perfect_Model.par','iteration_sub.tim')\n"
     ]
    },
    {
     "name": "stdout",
     "output_type": "stream",
     "text": [
      "spr************************************************* \n",
      "Warning: you are running in tempo1 emulation mode \n",
      "************************************************* \n",
      "\n"
     ]
    },
    {
     "name": "stderr",
     "output_type": "stream",
     "text": [
      "/tmp/ipykernel_8229/2184178469.py:98: DeprecationWarning: distutils Version classes are deprecated. Use packaging.version instead.\n",
      "  weak_ft=T.tempopulsar('Perfect_Model.par','iteration_sub.tim')\n"
     ]
    },
    {
     "name": "stdout",
     "output_type": "stream",
     "text": [
      "spr************************************************* \n",
      "Warning: you are running in tempo1 emulation mode \n",
      "************************************************* \n",
      "\n"
     ]
    },
    {
     "name": "stderr",
     "output_type": "stream",
     "text": [
      "/tmp/ipykernel_8229/2184178469.py:98: DeprecationWarning: distutils Version classes are deprecated. Use packaging.version instead.\n",
      "  weak_ft=T.tempopulsar('Perfect_Model.par','iteration_sub.tim')\n"
     ]
    },
    {
     "name": "stdout",
     "output_type": "stream",
     "text": [
      "************************************************* \n",
      "Warning: you are running in tempo1 emulation mode \n",
      "************************************************* \n",
      "spr\n"
     ]
    },
    {
     "name": "stderr",
     "output_type": "stream",
     "text": [
      "/tmp/ipykernel_8229/2184178469.py:98: DeprecationWarning: distutils Version classes are deprecated. Use packaging.version instead.\n",
      "  weak_ft=T.tempopulsar('Perfect_Model.par','iteration_sub.tim')\n"
     ]
    },
    {
     "name": "stdout",
     "output_type": "stream",
     "text": [
      "spr************************************************* \n",
      "Warning: you are running in tempo1 emulation mode \n",
      "************************************************* \n",
      "\n"
     ]
    },
    {
     "name": "stderr",
     "output_type": "stream",
     "text": [
      "/tmp/ipykernel_8229/2184178469.py:98: DeprecationWarning: distutils Version classes are deprecated. Use packaging.version instead.\n",
      "  weak_ft=T.tempopulsar('Perfect_Model.par','iteration_sub.tim')\n"
     ]
    },
    {
     "name": "stdout",
     "output_type": "stream",
     "text": [
      "spr************************************************* \n",
      "Warning: you are running in tempo1 emulation mode \n",
      "************************************************* \n",
      "\n"
     ]
    },
    {
     "name": "stderr",
     "output_type": "stream",
     "text": [
      "/tmp/ipykernel_8229/2184178469.py:98: DeprecationWarning: distutils Version classes are deprecated. Use packaging.version instead.\n",
      "  weak_ft=T.tempopulsar('Perfect_Model.par','iteration_sub.tim')\n"
     ]
    },
    {
     "name": "stdout",
     "output_type": "stream",
     "text": [
      "spr************************************************* \n",
      "Warning: you are running in tempo1 emulation mode \n",
      "************************************************* \n",
      "\n"
     ]
    },
    {
     "name": "stderr",
     "output_type": "stream",
     "text": [
      "/tmp/ipykernel_8229/2184178469.py:98: DeprecationWarning: distutils Version classes are deprecated. Use packaging.version instead.\n",
      "  weak_ft=T.tempopulsar('Perfect_Model.par','iteration_sub.tim')\n"
     ]
    },
    {
     "name": "stdout",
     "output_type": "stream",
     "text": [
      "spr************************************************* \n",
      "Warning: you are running in tempo1 emulation mode \n",
      "************************************************* \n",
      "\n"
     ]
    },
    {
     "name": "stderr",
     "output_type": "stream",
     "text": [
      "/tmp/ipykernel_8229/2184178469.py:98: DeprecationWarning: distutils Version classes are deprecated. Use packaging.version instead.\n",
      "  weak_ft=T.tempopulsar('Perfect_Model.par','iteration_sub.tim')\n"
     ]
    },
    {
     "name": "stdout",
     "output_type": "stream",
     "text": [
      "spr************************************************* \n",
      "Warning: you are running in tempo1 emulation mode \n",
      "************************************************* \n",
      "\n",
      "iteration: 54\n",
      "************************************************* \n",
      "Warning: you are running in tempo1 emulation mode \n",
      "************************************************* \n",
      "************************************************* \n",
      "Warning: you are running in tempo1 emulation mode \n",
      "************************************************* \n"
     ]
    },
    {
     "name": "stderr",
     "output_type": "stream",
     "text": [
      "/tmp/ipykernel_8229/2184178469.py:98: DeprecationWarning: distutils Version classes are deprecated. Use packaging.version instead.\n",
      "  weak_ft=T.tempopulsar('Perfect_Model.par','iteration_sub.tim')\n"
     ]
    },
    {
     "name": "stdout",
     "output_type": "stream",
     "text": [
      "spr************************************************* \n",
      "Warning: you are running in tempo1 emulation mode \n",
      "************************************************* \n",
      "\n"
     ]
    },
    {
     "name": "stderr",
     "output_type": "stream",
     "text": [
      "/tmp/ipykernel_8229/2184178469.py:98: DeprecationWarning: distutils Version classes are deprecated. Use packaging.version instead.\n",
      "  weak_ft=T.tempopulsar('Perfect_Model.par','iteration_sub.tim')\n"
     ]
    },
    {
     "name": "stdout",
     "output_type": "stream",
     "text": [
      "spr************************************************* \n",
      "Warning: you are running in tempo1 emulation mode \n",
      "************************************************* \n",
      "\n"
     ]
    },
    {
     "name": "stderr",
     "output_type": "stream",
     "text": [
      "/tmp/ipykernel_8229/2184178469.py:98: DeprecationWarning: distutils Version classes are deprecated. Use packaging.version instead.\n",
      "  weak_ft=T.tempopulsar('Perfect_Model.par','iteration_sub.tim')\n"
     ]
    },
    {
     "name": "stdout",
     "output_type": "stream",
     "text": [
      "spr************************************************* \n",
      "Warning: you are running in tempo1 emulation mode \n",
      "************************************************* \n",
      "\n"
     ]
    },
    {
     "name": "stderr",
     "output_type": "stream",
     "text": [
      "/tmp/ipykernel_8229/2184178469.py:98: DeprecationWarning: distutils Version classes are deprecated. Use packaging.version instead.\n",
      "  weak_ft=T.tempopulsar('Perfect_Model.par','iteration_sub.tim')\n"
     ]
    },
    {
     "name": "stdout",
     "output_type": "stream",
     "text": [
      "spr************************************************* \n",
      "Warning: you are running in tempo1 emulation mode \n",
      "************************************************* \n",
      "\n"
     ]
    },
    {
     "name": "stderr",
     "output_type": "stream",
     "text": [
      "/tmp/ipykernel_8229/2184178469.py:98: DeprecationWarning: distutils Version classes are deprecated. Use packaging.version instead.\n",
      "  weak_ft=T.tempopulsar('Perfect_Model.par','iteration_sub.tim')\n"
     ]
    },
    {
     "name": "stdout",
     "output_type": "stream",
     "text": [
      "spr************************************************* \n",
      "Warning: you are running in tempo1 emulation mode \n",
      "************************************************* \n",
      "\n"
     ]
    },
    {
     "name": "stderr",
     "output_type": "stream",
     "text": [
      "/tmp/ipykernel_8229/2184178469.py:98: DeprecationWarning: distutils Version classes are deprecated. Use packaging.version instead.\n",
      "  weak_ft=T.tempopulsar('Perfect_Model.par','iteration_sub.tim')\n"
     ]
    },
    {
     "name": "stdout",
     "output_type": "stream",
     "text": [
      "spr************************************************* \n",
      "Warning: you are running in tempo1 emulation mode \n",
      "************************************************* \n",
      "\n"
     ]
    },
    {
     "name": "stderr",
     "output_type": "stream",
     "text": [
      "/tmp/ipykernel_8229/2184178469.py:98: DeprecationWarning: distutils Version classes are deprecated. Use packaging.version instead.\n",
      "  weak_ft=T.tempopulsar('Perfect_Model.par','iteration_sub.tim')\n"
     ]
    },
    {
     "name": "stdout",
     "output_type": "stream",
     "text": [
      "spr************************************************* \n",
      "Warning: you are running in tempo1 emulation mode \n",
      "************************************************* \n",
      "\n"
     ]
    },
    {
     "name": "stderr",
     "output_type": "stream",
     "text": [
      "/tmp/ipykernel_8229/2184178469.py:98: DeprecationWarning: distutils Version classes are deprecated. Use packaging.version instead.\n",
      "  weak_ft=T.tempopulsar('Perfect_Model.par','iteration_sub.tim')\n"
     ]
    },
    {
     "name": "stdout",
     "output_type": "stream",
     "text": [
      "spr************************************************* \n",
      "Warning: you are running in tempo1 emulation mode \n",
      "************************************************* \n",
      "\n"
     ]
    },
    {
     "name": "stderr",
     "output_type": "stream",
     "text": [
      "/tmp/ipykernel_8229/2184178469.py:98: DeprecationWarning: distutils Version classes are deprecated. Use packaging.version instead.\n",
      "  weak_ft=T.tempopulsar('Perfect_Model.par','iteration_sub.tim')\n"
     ]
    },
    {
     "name": "stdout",
     "output_type": "stream",
     "text": [
      "spr************************************************* \n",
      "Warning: you are running in tempo1 emulation mode \n",
      "************************************************* \n",
      "\n"
     ]
    },
    {
     "name": "stderr",
     "output_type": "stream",
     "text": [
      "/tmp/ipykernel_8229/2184178469.py:98: DeprecationWarning: distutils Version classes are deprecated. Use packaging.version instead.\n",
      "  weak_ft=T.tempopulsar('Perfect_Model.par','iteration_sub.tim')\n"
     ]
    },
    {
     "name": "stdout",
     "output_type": "stream",
     "text": [
      "spr************************************************* \n",
      "Warning: you are running in tempo1 emulation mode \n",
      "************************************************* \n",
      "\n",
      "iteration: 55\n",
      "************************************************* \n",
      "Warning: you are running in tempo1 emulation mode \n",
      "************************************************* \n",
      "************************************************* \n",
      "Warning: you are running in tempo1 emulation mode \n",
      "************************************************* \n"
     ]
    },
    {
     "name": "stderr",
     "output_type": "stream",
     "text": [
      "/tmp/ipykernel_8229/2184178469.py:98: DeprecationWarning: distutils Version classes are deprecated. Use packaging.version instead.\n",
      "  weak_ft=T.tempopulsar('Perfect_Model.par','iteration_sub.tim')\n"
     ]
    },
    {
     "name": "stdout",
     "output_type": "stream",
     "text": [
      "spr************************************************* \n",
      "Warning: you are running in tempo1 emulation mode \n",
      "************************************************* \n",
      "\n"
     ]
    },
    {
     "name": "stderr",
     "output_type": "stream",
     "text": [
      "/tmp/ipykernel_8229/2184178469.py:98: DeprecationWarning: distutils Version classes are deprecated. Use packaging.version instead.\n",
      "  weak_ft=T.tempopulsar('Perfect_Model.par','iteration_sub.tim')\n"
     ]
    },
    {
     "name": "stdout",
     "output_type": "stream",
     "text": [
      "spr************************************************* \n",
      "Warning: you are running in tempo1 emulation mode \n",
      "************************************************* \n",
      "\n"
     ]
    },
    {
     "name": "stderr",
     "output_type": "stream",
     "text": [
      "/tmp/ipykernel_8229/2184178469.py:98: DeprecationWarning: distutils Version classes are deprecated. Use packaging.version instead.\n",
      "  weak_ft=T.tempopulsar('Perfect_Model.par','iteration_sub.tim')\n"
     ]
    },
    {
     "name": "stdout",
     "output_type": "stream",
     "text": [
      "spr************************************************* \n",
      "Warning: you are running in tempo1 emulation mode \n",
      "************************************************* \n",
      "\n"
     ]
    },
    {
     "name": "stderr",
     "output_type": "stream",
     "text": [
      "/tmp/ipykernel_8229/2184178469.py:98: DeprecationWarning: distutils Version classes are deprecated. Use packaging.version instead.\n",
      "  weak_ft=T.tempopulsar('Perfect_Model.par','iteration_sub.tim')\n"
     ]
    },
    {
     "name": "stdout",
     "output_type": "stream",
     "text": [
      "spr************************************************* \n",
      "Warning: you are running in tempo1 emulation mode \n",
      "************************************************* \n",
      "\n"
     ]
    },
    {
     "name": "stderr",
     "output_type": "stream",
     "text": [
      "/tmp/ipykernel_8229/2184178469.py:98: DeprecationWarning: distutils Version classes are deprecated. Use packaging.version instead.\n",
      "  weak_ft=T.tempopulsar('Perfect_Model.par','iteration_sub.tim')\n"
     ]
    },
    {
     "name": "stdout",
     "output_type": "stream",
     "text": [
      "spr************************************************* \n",
      "Warning: you are running in tempo1 emulation mode \n",
      "************************************************* \n",
      "\n"
     ]
    },
    {
     "name": "stderr",
     "output_type": "stream",
     "text": [
      "/tmp/ipykernel_8229/2184178469.py:98: DeprecationWarning: distutils Version classes are deprecated. Use packaging.version instead.\n",
      "  weak_ft=T.tempopulsar('Perfect_Model.par','iteration_sub.tim')\n"
     ]
    },
    {
     "name": "stdout",
     "output_type": "stream",
     "text": [
      "spr************************************************* \n",
      "Warning: you are running in tempo1 emulation mode \n",
      "************************************************* \n",
      "\n"
     ]
    },
    {
     "name": "stderr",
     "output_type": "stream",
     "text": [
      "/tmp/ipykernel_8229/2184178469.py:98: DeprecationWarning: distutils Version classes are deprecated. Use packaging.version instead.\n",
      "  weak_ft=T.tempopulsar('Perfect_Model.par','iteration_sub.tim')\n"
     ]
    },
    {
     "name": "stdout",
     "output_type": "stream",
     "text": [
      "spr************************************************* \n",
      "Warning: you are running in tempo1 emulation mode \n",
      "************************************************* \n",
      "\n"
     ]
    },
    {
     "name": "stderr",
     "output_type": "stream",
     "text": [
      "/tmp/ipykernel_8229/2184178469.py:98: DeprecationWarning: distutils Version classes are deprecated. Use packaging.version instead.\n",
      "  weak_ft=T.tempopulsar('Perfect_Model.par','iteration_sub.tim')\n"
     ]
    },
    {
     "name": "stdout",
     "output_type": "stream",
     "text": [
      "spr************************************************* \n",
      "Warning: you are running in tempo1 emulation mode \n",
      "************************************************* \n",
      "\n"
     ]
    },
    {
     "name": "stderr",
     "output_type": "stream",
     "text": [
      "/tmp/ipykernel_8229/2184178469.py:98: DeprecationWarning: distutils Version classes are deprecated. Use packaging.version instead.\n",
      "  weak_ft=T.tempopulsar('Perfect_Model.par','iteration_sub.tim')\n"
     ]
    },
    {
     "name": "stdout",
     "output_type": "stream",
     "text": [
      "spr************************************************* \n",
      "Warning: you are running in tempo1 emulation mode \n",
      "************************************************* \n",
      "\n"
     ]
    },
    {
     "name": "stderr",
     "output_type": "stream",
     "text": [
      "/tmp/ipykernel_8229/2184178469.py:98: DeprecationWarning: distutils Version classes are deprecated. Use packaging.version instead.\n",
      "  weak_ft=T.tempopulsar('Perfect_Model.par','iteration_sub.tim')\n"
     ]
    },
    {
     "name": "stdout",
     "output_type": "stream",
     "text": [
      "spr************************************************* \n",
      "Warning: you are running in tempo1 emulation mode \n",
      "************************************************* \n",
      "\n",
      "iteration: 56\n",
      "************************************************* \n",
      "Warning: you are running in tempo1 emulation mode \n",
      "************************************************* \n",
      "************************************************* \n",
      "Warning: you are running in tempo1 emulation mode \n",
      "************************************************* \n"
     ]
    },
    {
     "name": "stderr",
     "output_type": "stream",
     "text": [
      "/tmp/ipykernel_8229/2184178469.py:98: DeprecationWarning: distutils Version classes are deprecated. Use packaging.version instead.\n",
      "  weak_ft=T.tempopulsar('Perfect_Model.par','iteration_sub.tim')\n"
     ]
    },
    {
     "name": "stdout",
     "output_type": "stream",
     "text": [
      "spr************************************************* \n",
      "Warning: you are running in tempo1 emulation mode \n",
      "************************************************* \n",
      "\n"
     ]
    },
    {
     "name": "stderr",
     "output_type": "stream",
     "text": [
      "/tmp/ipykernel_8229/2184178469.py:98: DeprecationWarning: distutils Version classes are deprecated. Use packaging.version instead.\n",
      "  weak_ft=T.tempopulsar('Perfect_Model.par','iteration_sub.tim')\n"
     ]
    },
    {
     "name": "stdout",
     "output_type": "stream",
     "text": [
      "spr************************************************* \n",
      "Warning: you are running in tempo1 emulation mode \n",
      "************************************************* \n",
      "\n"
     ]
    },
    {
     "name": "stderr",
     "output_type": "stream",
     "text": [
      "/tmp/ipykernel_8229/2184178469.py:98: DeprecationWarning: distutils Version classes are deprecated. Use packaging.version instead.\n",
      "  weak_ft=T.tempopulsar('Perfect_Model.par','iteration_sub.tim')\n"
     ]
    },
    {
     "name": "stdout",
     "output_type": "stream",
     "text": [
      "spr************************************************* \n",
      "Warning: you are running in tempo1 emulation mode \n",
      "************************************************* \n",
      "\n"
     ]
    },
    {
     "name": "stderr",
     "output_type": "stream",
     "text": [
      "/tmp/ipykernel_8229/2184178469.py:98: DeprecationWarning: distutils Version classes are deprecated. Use packaging.version instead.\n",
      "  weak_ft=T.tempopulsar('Perfect_Model.par','iteration_sub.tim')\n"
     ]
    },
    {
     "name": "stdout",
     "output_type": "stream",
     "text": [
      "spr************************************************* \n",
      "Warning: you are running in tempo1 emulation mode \n",
      "************************************************* \n",
      "\n"
     ]
    },
    {
     "name": "stderr",
     "output_type": "stream",
     "text": [
      "/tmp/ipykernel_8229/2184178469.py:98: DeprecationWarning: distutils Version classes are deprecated. Use packaging.version instead.\n",
      "  weak_ft=T.tempopulsar('Perfect_Model.par','iteration_sub.tim')\n"
     ]
    },
    {
     "name": "stdout",
     "output_type": "stream",
     "text": [
      "************************************************* \n",
      "Warning: you are running in tempo1 emulation mode \n",
      "************************************************* \n",
      "spr\n"
     ]
    },
    {
     "name": "stderr",
     "output_type": "stream",
     "text": [
      "/tmp/ipykernel_8229/2184178469.py:98: DeprecationWarning: distutils Version classes are deprecated. Use packaging.version instead.\n",
      "  weak_ft=T.tempopulsar('Perfect_Model.par','iteration_sub.tim')\n"
     ]
    },
    {
     "name": "stdout",
     "output_type": "stream",
     "text": [
      "spr\n",
      "************************************************* \n",
      "Warning: you are running in tempo1 emulation mode \n",
      "************************************************* \n"
     ]
    },
    {
     "name": "stderr",
     "output_type": "stream",
     "text": [
      "/tmp/ipykernel_8229/2184178469.py:98: DeprecationWarning: distutils Version classes are deprecated. Use packaging.version instead.\n",
      "  weak_ft=T.tempopulsar('Perfect_Model.par','iteration_sub.tim')\n"
     ]
    },
    {
     "name": "stdout",
     "output_type": "stream",
     "text": [
      "spr************************************************* \n",
      "Warning: you are running in tempo1 emulation mode \n",
      "************************************************* \n",
      "\n"
     ]
    },
    {
     "name": "stderr",
     "output_type": "stream",
     "text": [
      "/tmp/ipykernel_8229/2184178469.py:98: DeprecationWarning: distutils Version classes are deprecated. Use packaging.version instead.\n",
      "  weak_ft=T.tempopulsar('Perfect_Model.par','iteration_sub.tim')\n"
     ]
    },
    {
     "name": "stdout",
     "output_type": "stream",
     "text": [
      "************************************************* \n",
      "Warning: you are running in tempo1 emulation mode \n",
      "************************************************* \n",
      "spr\n"
     ]
    },
    {
     "name": "stderr",
     "output_type": "stream",
     "text": [
      "/tmp/ipykernel_8229/2184178469.py:98: DeprecationWarning: distutils Version classes are deprecated. Use packaging.version instead.\n",
      "  weak_ft=T.tempopulsar('Perfect_Model.par','iteration_sub.tim')\n"
     ]
    },
    {
     "name": "stdout",
     "output_type": "stream",
     "text": [
      "spr************************************************* \n",
      "Warning: you are running in tempo1 emulation mode \n",
      "************************************************* \n",
      "\n"
     ]
    },
    {
     "name": "stderr",
     "output_type": "stream",
     "text": [
      "/tmp/ipykernel_8229/2184178469.py:98: DeprecationWarning: distutils Version classes are deprecated. Use packaging.version instead.\n",
      "  weak_ft=T.tempopulsar('Perfect_Model.par','iteration_sub.tim')\n"
     ]
    },
    {
     "name": "stdout",
     "output_type": "stream",
     "text": [
      "spr************************************************* \n",
      "Warning: you are running in tempo1 emulation mode \n",
      "************************************************* \n",
      "\n",
      "iteration: 57\n",
      "************************************************* \n",
      "Warning: you are running in tempo1 emulation mode \n",
      "************************************************* \n",
      "************************************************* \n",
      "Warning: you are running in tempo1 emulation mode \n",
      "************************************************* \n"
     ]
    },
    {
     "name": "stderr",
     "output_type": "stream",
     "text": [
      "/tmp/ipykernel_8229/2184178469.py:98: DeprecationWarning: distutils Version classes are deprecated. Use packaging.version instead.\n",
      "  weak_ft=T.tempopulsar('Perfect_Model.par','iteration_sub.tim')\n"
     ]
    },
    {
     "name": "stdout",
     "output_type": "stream",
     "text": [
      "************************************************* \n",
      "Warning: you are running in tempo1 emulation mode \n",
      "************************************************* \n",
      "spr\n"
     ]
    },
    {
     "name": "stderr",
     "output_type": "stream",
     "text": [
      "/tmp/ipykernel_8229/2184178469.py:98: DeprecationWarning: distutils Version classes are deprecated. Use packaging.version instead.\n",
      "  weak_ft=T.tempopulsar('Perfect_Model.par','iteration_sub.tim')\n"
     ]
    },
    {
     "name": "stdout",
     "output_type": "stream",
     "text": [
      "spr************************************************* \n",
      "Warning: you are running in tempo1 emulation mode \n",
      "************************************************* \n",
      "\n"
     ]
    },
    {
     "name": "stderr",
     "output_type": "stream",
     "text": [
      "/tmp/ipykernel_8229/2184178469.py:98: DeprecationWarning: distutils Version classes are deprecated. Use packaging.version instead.\n",
      "  weak_ft=T.tempopulsar('Perfect_Model.par','iteration_sub.tim')\n"
     ]
    },
    {
     "name": "stdout",
     "output_type": "stream",
     "text": [
      "spr************************************************* \n",
      "Warning: you are running in tempo1 emulation mode \n",
      "************************************************* \n",
      "\n"
     ]
    },
    {
     "name": "stderr",
     "output_type": "stream",
     "text": [
      "/tmp/ipykernel_8229/2184178469.py:98: DeprecationWarning: distutils Version classes are deprecated. Use packaging.version instead.\n",
      "  weak_ft=T.tempopulsar('Perfect_Model.par','iteration_sub.tim')\n"
     ]
    },
    {
     "name": "stdout",
     "output_type": "stream",
     "text": [
      "spr************************************************* \n",
      "Warning: you are running in tempo1 emulation mode \n",
      "************************************************* \n",
      "\n"
     ]
    },
    {
     "name": "stderr",
     "output_type": "stream",
     "text": [
      "/tmp/ipykernel_8229/2184178469.py:98: DeprecationWarning: distutils Version classes are deprecated. Use packaging.version instead.\n",
      "  weak_ft=T.tempopulsar('Perfect_Model.par','iteration_sub.tim')\n"
     ]
    },
    {
     "name": "stdout",
     "output_type": "stream",
     "text": [
      "spr************************************************* \n",
      "Warning: you are running in tempo1 emulation mode \n",
      "************************************************* \n",
      "\n"
     ]
    },
    {
     "name": "stderr",
     "output_type": "stream",
     "text": [
      "/tmp/ipykernel_8229/2184178469.py:98: DeprecationWarning: distutils Version classes are deprecated. Use packaging.version instead.\n",
      "  weak_ft=T.tempopulsar('Perfect_Model.par','iteration_sub.tim')\n"
     ]
    },
    {
     "name": "stdout",
     "output_type": "stream",
     "text": [
      "spr************************************************* \n",
      "Warning: you are running in tempo1 emulation mode \n",
      "************************************************* \n",
      "\n"
     ]
    },
    {
     "name": "stderr",
     "output_type": "stream",
     "text": [
      "/tmp/ipykernel_8229/2184178469.py:98: DeprecationWarning: distutils Version classes are deprecated. Use packaging.version instead.\n",
      "  weak_ft=T.tempopulsar('Perfect_Model.par','iteration_sub.tim')\n"
     ]
    },
    {
     "name": "stdout",
     "output_type": "stream",
     "text": [
      "spr************************************************* \n",
      "Warning: you are running in tempo1 emulation mode \n",
      "************************************************* \n",
      "\n"
     ]
    },
    {
     "name": "stderr",
     "output_type": "stream",
     "text": [
      "/tmp/ipykernel_8229/2184178469.py:98: DeprecationWarning: distutils Version classes are deprecated. Use packaging.version instead.\n",
      "  weak_ft=T.tempopulsar('Perfect_Model.par','iteration_sub.tim')\n"
     ]
    },
    {
     "name": "stdout",
     "output_type": "stream",
     "text": [
      "spr************************************************* \n",
      "Warning: you are running in tempo1 emulation mode \n",
      "************************************************* \n",
      "\n"
     ]
    },
    {
     "name": "stderr",
     "output_type": "stream",
     "text": [
      "/tmp/ipykernel_8229/2184178469.py:98: DeprecationWarning: distutils Version classes are deprecated. Use packaging.version instead.\n",
      "  weak_ft=T.tempopulsar('Perfect_Model.par','iteration_sub.tim')\n"
     ]
    },
    {
     "name": "stdout",
     "output_type": "stream",
     "text": [
      "spr************************************************* \n",
      "Warning: you are running in tempo1 emulation mode \n",
      "************************************************* \n",
      "\n"
     ]
    },
    {
     "name": "stderr",
     "output_type": "stream",
     "text": [
      "/tmp/ipykernel_8229/2184178469.py:98: DeprecationWarning: distutils Version classes are deprecated. Use packaging.version instead.\n",
      "  weak_ft=T.tempopulsar('Perfect_Model.par','iteration_sub.tim')\n"
     ]
    },
    {
     "name": "stdout",
     "output_type": "stream",
     "text": [
      "spr************************************************* \n",
      "Warning: you are running in tempo1 emulation mode \n",
      "************************************************* \n",
      "\n",
      "iteration: 58\n",
      "************************************************* \n",
      "Warning: you are running in tempo1 emulation mode \n",
      "************************************************* \n",
      "************************************************* \n",
      "Warning: you are running in tempo1 emulation mode \n",
      "************************************************* \n"
     ]
    },
    {
     "name": "stderr",
     "output_type": "stream",
     "text": [
      "/tmp/ipykernel_8229/2184178469.py:98: DeprecationWarning: distutils Version classes are deprecated. Use packaging.version instead.\n",
      "  weak_ft=T.tempopulsar('Perfect_Model.par','iteration_sub.tim')\n"
     ]
    },
    {
     "name": "stdout",
     "output_type": "stream",
     "text": [
      "spr************************************************* \n",
      "Warning: you are running in tempo1 emulation mode \n",
      "************************************************* \n",
      "\n"
     ]
    },
    {
     "name": "stderr",
     "output_type": "stream",
     "text": [
      "/tmp/ipykernel_8229/2184178469.py:98: DeprecationWarning: distutils Version classes are deprecated. Use packaging.version instead.\n",
      "  weak_ft=T.tempopulsar('Perfect_Model.par','iteration_sub.tim')\n"
     ]
    },
    {
     "name": "stdout",
     "output_type": "stream",
     "text": [
      "spr************************************************* \n",
      "Warning: you are running in tempo1 emulation mode \n",
      "************************************************* \n",
      "\n"
     ]
    },
    {
     "name": "stderr",
     "output_type": "stream",
     "text": [
      "/tmp/ipykernel_8229/2184178469.py:98: DeprecationWarning: distutils Version classes are deprecated. Use packaging.version instead.\n",
      "  weak_ft=T.tempopulsar('Perfect_Model.par','iteration_sub.tim')\n"
     ]
    },
    {
     "name": "stdout",
     "output_type": "stream",
     "text": [
      "spr************************************************* \n",
      "Warning: you are running in tempo1 emulation mode \n",
      "************************************************* \n",
      "\n"
     ]
    },
    {
     "name": "stderr",
     "output_type": "stream",
     "text": [
      "/tmp/ipykernel_8229/2184178469.py:98: DeprecationWarning: distutils Version classes are deprecated. Use packaging.version instead.\n",
      "  weak_ft=T.tempopulsar('Perfect_Model.par','iteration_sub.tim')\n"
     ]
    },
    {
     "name": "stdout",
     "output_type": "stream",
     "text": [
      "spr************************************************* \n",
      "Warning: you are running in tempo1 emulation mode \n",
      "************************************************* \n",
      "\n"
     ]
    },
    {
     "name": "stderr",
     "output_type": "stream",
     "text": [
      "/tmp/ipykernel_8229/2184178469.py:98: DeprecationWarning: distutils Version classes are deprecated. Use packaging.version instead.\n",
      "  weak_ft=T.tempopulsar('Perfect_Model.par','iteration_sub.tim')\n"
     ]
    },
    {
     "name": "stdout",
     "output_type": "stream",
     "text": [
      "spr************************************************* \n",
      "Warning: you are running in tempo1 emulation mode \n",
      "************************************************* \n",
      "\n"
     ]
    },
    {
     "name": "stderr",
     "output_type": "stream",
     "text": [
      "/tmp/ipykernel_8229/2184178469.py:98: DeprecationWarning: distutils Version classes are deprecated. Use packaging.version instead.\n",
      "  weak_ft=T.tempopulsar('Perfect_Model.par','iteration_sub.tim')\n"
     ]
    },
    {
     "name": "stdout",
     "output_type": "stream",
     "text": [
      "spr************************************************* \n",
      "Warning: you are running in tempo1 emulation mode \n",
      "************************************************* \n",
      "\n"
     ]
    },
    {
     "name": "stderr",
     "output_type": "stream",
     "text": [
      "/tmp/ipykernel_8229/2184178469.py:98: DeprecationWarning: distutils Version classes are deprecated. Use packaging.version instead.\n",
      "  weak_ft=T.tempopulsar('Perfect_Model.par','iteration_sub.tim')\n"
     ]
    },
    {
     "name": "stdout",
     "output_type": "stream",
     "text": [
      "spr\n",
      "************************************************* \n",
      "Warning: you are running in tempo1 emulation mode \n",
      "************************************************* \n"
     ]
    },
    {
     "name": "stderr",
     "output_type": "stream",
     "text": [
      "/tmp/ipykernel_8229/2184178469.py:98: DeprecationWarning: distutils Version classes are deprecated. Use packaging.version instead.\n",
      "  weak_ft=T.tempopulsar('Perfect_Model.par','iteration_sub.tim')\n"
     ]
    },
    {
     "name": "stdout",
     "output_type": "stream",
     "text": [
      "spr************************************************* \n",
      "Warning: you are running in tempo1 emulation mode \n",
      "************************************************* \n",
      "\n"
     ]
    },
    {
     "name": "stderr",
     "output_type": "stream",
     "text": [
      "/tmp/ipykernel_8229/2184178469.py:98: DeprecationWarning: distutils Version classes are deprecated. Use packaging.version instead.\n",
      "  weak_ft=T.tempopulsar('Perfect_Model.par','iteration_sub.tim')\n"
     ]
    },
    {
     "name": "stdout",
     "output_type": "stream",
     "text": [
      "spr************************************************* \n",
      "Warning: you are running in tempo1 emulation mode \n",
      "************************************************* \n",
      "\n"
     ]
    },
    {
     "name": "stderr",
     "output_type": "stream",
     "text": [
      "/tmp/ipykernel_8229/2184178469.py:98: DeprecationWarning: distutils Version classes are deprecated. Use packaging.version instead.\n",
      "  weak_ft=T.tempopulsar('Perfect_Model.par','iteration_sub.tim')\n"
     ]
    },
    {
     "name": "stdout",
     "output_type": "stream",
     "text": [
      "spr************************************************* \n",
      "Warning: you are running in tempo1 emulation mode \n",
      "************************************************* \n",
      "\n",
      "iteration: 59\n",
      "************************************************* \n",
      "Warning: you are running in tempo1 emulation mode \n",
      "************************************************* \n",
      "************************************************* \n",
      "Warning: you are running in tempo1 emulation mode \n",
      "************************************************* \n"
     ]
    },
    {
     "name": "stderr",
     "output_type": "stream",
     "text": [
      "/tmp/ipykernel_8229/2184178469.py:98: DeprecationWarning: distutils Version classes are deprecated. Use packaging.version instead.\n",
      "  weak_ft=T.tempopulsar('Perfect_Model.par','iteration_sub.tim')\n"
     ]
    },
    {
     "name": "stdout",
     "output_type": "stream",
     "text": [
      "spr\n",
      "************************************************* \n",
      "Warning: you are running in tempo1 emulation mode \n",
      "************************************************* \n"
     ]
    },
    {
     "name": "stderr",
     "output_type": "stream",
     "text": [
      "/tmp/ipykernel_8229/2184178469.py:98: DeprecationWarning: distutils Version classes are deprecated. Use packaging.version instead.\n",
      "  weak_ft=T.tempopulsar('Perfect_Model.par','iteration_sub.tim')\n"
     ]
    },
    {
     "name": "stdout",
     "output_type": "stream",
     "text": [
      "spr************************************************* \n",
      "Warning: you are running in tempo1 emulation mode \n",
      "************************************************* \n",
      "\n"
     ]
    },
    {
     "name": "stderr",
     "output_type": "stream",
     "text": [
      "/tmp/ipykernel_8229/2184178469.py:98: DeprecationWarning: distutils Version classes are deprecated. Use packaging.version instead.\n",
      "  weak_ft=T.tempopulsar('Perfect_Model.par','iteration_sub.tim')\n"
     ]
    },
    {
     "name": "stdout",
     "output_type": "stream",
     "text": [
      "spr\n",
      "************************************************* \n",
      "Warning: you are running in tempo1 emulation mode \n",
      "************************************************* \n"
     ]
    },
    {
     "name": "stderr",
     "output_type": "stream",
     "text": [
      "/tmp/ipykernel_8229/2184178469.py:98: DeprecationWarning: distutils Version classes are deprecated. Use packaging.version instead.\n",
      "  weak_ft=T.tempopulsar('Perfect_Model.par','iteration_sub.tim')\n"
     ]
    },
    {
     "name": "stdout",
     "output_type": "stream",
     "text": [
      "spr************************************************* \n",
      "Warning: you are running in tempo1 emulation mode \n",
      "************************************************* \n",
      "\n"
     ]
    },
    {
     "name": "stderr",
     "output_type": "stream",
     "text": [
      "/tmp/ipykernel_8229/2184178469.py:98: DeprecationWarning: distutils Version classes are deprecated. Use packaging.version instead.\n",
      "  weak_ft=T.tempopulsar('Perfect_Model.par','iteration_sub.tim')\n"
     ]
    },
    {
     "name": "stdout",
     "output_type": "stream",
     "text": [
      "************************************************* \n",
      "Warning: you are running in tempo1 emulation mode \n",
      "************************************************* \n",
      "spr\n"
     ]
    },
    {
     "name": "stderr",
     "output_type": "stream",
     "text": [
      "/tmp/ipykernel_8229/2184178469.py:98: DeprecationWarning: distutils Version classes are deprecated. Use packaging.version instead.\n",
      "  weak_ft=T.tempopulsar('Perfect_Model.par','iteration_sub.tim')\n"
     ]
    },
    {
     "name": "stdout",
     "output_type": "stream",
     "text": [
      "spr************************************************* \n",
      "Warning: you are running in tempo1 emulation mode \n",
      "************************************************* \n",
      "\n"
     ]
    },
    {
     "name": "stderr",
     "output_type": "stream",
     "text": [
      "/tmp/ipykernel_8229/2184178469.py:98: DeprecationWarning: distutils Version classes are deprecated. Use packaging.version instead.\n",
      "  weak_ft=T.tempopulsar('Perfect_Model.par','iteration_sub.tim')\n"
     ]
    },
    {
     "name": "stdout",
     "output_type": "stream",
     "text": [
      "************************************************* \n",
      "Warning: you are running in tempo1 emulation mode \n",
      "************************************************* \n",
      "spr\n"
     ]
    },
    {
     "name": "stderr",
     "output_type": "stream",
     "text": [
      "/tmp/ipykernel_8229/2184178469.py:98: DeprecationWarning: distutils Version classes are deprecated. Use packaging.version instead.\n",
      "  weak_ft=T.tempopulsar('Perfect_Model.par','iteration_sub.tim')\n"
     ]
    },
    {
     "name": "stdout",
     "output_type": "stream",
     "text": [
      "spr************************************************* \n",
      "Warning: you are running in tempo1 emulation mode \n",
      "************************************************* \n",
      "\n"
     ]
    },
    {
     "name": "stderr",
     "output_type": "stream",
     "text": [
      "/tmp/ipykernel_8229/2184178469.py:98: DeprecationWarning: distutils Version classes are deprecated. Use packaging.version instead.\n",
      "  weak_ft=T.tempopulsar('Perfect_Model.par','iteration_sub.tim')\n"
     ]
    },
    {
     "name": "stdout",
     "output_type": "stream",
     "text": [
      "spr************************************************* \n",
      "Warning: you are running in tempo1 emulation mode \n",
      "************************************************* \n",
      "\n"
     ]
    },
    {
     "name": "stderr",
     "output_type": "stream",
     "text": [
      "/tmp/ipykernel_8229/2184178469.py:98: DeprecationWarning: distutils Version classes are deprecated. Use packaging.version instead.\n",
      "  weak_ft=T.tempopulsar('Perfect_Model.par','iteration_sub.tim')\n"
     ]
    },
    {
     "name": "stdout",
     "output_type": "stream",
     "text": [
      "spr************************************************* \n",
      "Warning: you are running in tempo1 emulation mode \n",
      "************************************************* \n",
      "\n",
      "iteration: 60\n",
      "************************************************* \n",
      "Warning: you are running in tempo1 emulation mode \n",
      "************************************************* \n",
      "************************************************* \n",
      "Warning: you are running in tempo1 emulation mode \n",
      "************************************************* \n"
     ]
    },
    {
     "name": "stderr",
     "output_type": "stream",
     "text": [
      "/tmp/ipykernel_8229/2184178469.py:98: DeprecationWarning: distutils Version classes are deprecated. Use packaging.version instead.\n",
      "  weak_ft=T.tempopulsar('Perfect_Model.par','iteration_sub.tim')\n"
     ]
    },
    {
     "name": "stdout",
     "output_type": "stream",
     "text": [
      "spr************************************************* \n",
      "Warning: you are running in tempo1 emulation mode \n",
      "************************************************* \n",
      "\n"
     ]
    },
    {
     "name": "stderr",
     "output_type": "stream",
     "text": [
      "/tmp/ipykernel_8229/2184178469.py:98: DeprecationWarning: distutils Version classes are deprecated. Use packaging.version instead.\n",
      "  weak_ft=T.tempopulsar('Perfect_Model.par','iteration_sub.tim')\n"
     ]
    },
    {
     "name": "stdout",
     "output_type": "stream",
     "text": [
      "spr************************************************* \n",
      "Warning: you are running in tempo1 emulation mode \n",
      "************************************************* \n",
      "\n"
     ]
    },
    {
     "name": "stderr",
     "output_type": "stream",
     "text": [
      "/tmp/ipykernel_8229/2184178469.py:98: DeprecationWarning: distutils Version classes are deprecated. Use packaging.version instead.\n",
      "  weak_ft=T.tempopulsar('Perfect_Model.par','iteration_sub.tim')\n"
     ]
    },
    {
     "name": "stdout",
     "output_type": "stream",
     "text": [
      "spr************************************************* \n",
      "Warning: you are running in tempo1 emulation mode \n",
      "************************************************* \n",
      "\n"
     ]
    },
    {
     "name": "stderr",
     "output_type": "stream",
     "text": [
      "/tmp/ipykernel_8229/2184178469.py:98: DeprecationWarning: distutils Version classes are deprecated. Use packaging.version instead.\n",
      "  weak_ft=T.tempopulsar('Perfect_Model.par','iteration_sub.tim')\n"
     ]
    },
    {
     "name": "stdout",
     "output_type": "stream",
     "text": [
      "spr************************************************* \n",
      "Warning: you are running in tempo1 emulation mode \n",
      "************************************************* \n",
      "\n"
     ]
    },
    {
     "name": "stderr",
     "output_type": "stream",
     "text": [
      "/tmp/ipykernel_8229/2184178469.py:98: DeprecationWarning: distutils Version classes are deprecated. Use packaging.version instead.\n",
      "  weak_ft=T.tempopulsar('Perfect_Model.par','iteration_sub.tim')\n"
     ]
    },
    {
     "name": "stdout",
     "output_type": "stream",
     "text": [
      "spr************************************************* \n",
      "Warning: you are running in tempo1 emulation mode \n",
      "************************************************* \n",
      "\n"
     ]
    },
    {
     "name": "stderr",
     "output_type": "stream",
     "text": [
      "/tmp/ipykernel_8229/2184178469.py:98: DeprecationWarning: distutils Version classes are deprecated. Use packaging.version instead.\n",
      "  weak_ft=T.tempopulsar('Perfect_Model.par','iteration_sub.tim')\n"
     ]
    },
    {
     "name": "stdout",
     "output_type": "stream",
     "text": [
      "spr************************************************* \n",
      "Warning: you are running in tempo1 emulation mode \n",
      "************************************************* \n",
      "\n"
     ]
    },
    {
     "name": "stderr",
     "output_type": "stream",
     "text": [
      "/tmp/ipykernel_8229/2184178469.py:98: DeprecationWarning: distutils Version classes are deprecated. Use packaging.version instead.\n",
      "  weak_ft=T.tempopulsar('Perfect_Model.par','iteration_sub.tim')\n"
     ]
    },
    {
     "name": "stdout",
     "output_type": "stream",
     "text": [
      "spr************************************************* \n",
      "Warning: you are running in tempo1 emulation mode \n",
      "************************************************* \n",
      "\n"
     ]
    },
    {
     "name": "stderr",
     "output_type": "stream",
     "text": [
      "/tmp/ipykernel_8229/2184178469.py:98: DeprecationWarning: distutils Version classes are deprecated. Use packaging.version instead.\n",
      "  weak_ft=T.tempopulsar('Perfect_Model.par','iteration_sub.tim')\n"
     ]
    },
    {
     "name": "stdout",
     "output_type": "stream",
     "text": [
      "spr************************************************* \n",
      "Warning: you are running in tempo1 emulation mode \n",
      "************************************************* \n",
      "\n"
     ]
    },
    {
     "name": "stderr",
     "output_type": "stream",
     "text": [
      "/tmp/ipykernel_8229/2184178469.py:98: DeprecationWarning: distutils Version classes are deprecated. Use packaging.version instead.\n",
      "  weak_ft=T.tempopulsar('Perfect_Model.par','iteration_sub.tim')\n"
     ]
    },
    {
     "name": "stdout",
     "output_type": "stream",
     "text": [
      "spr************************************************* \n",
      "Warning: you are running in tempo1 emulation mode \n",
      "************************************************* \n",
      "\n"
     ]
    },
    {
     "name": "stderr",
     "output_type": "stream",
     "text": [
      "/tmp/ipykernel_8229/2184178469.py:98: DeprecationWarning: distutils Version classes are deprecated. Use packaging.version instead.\n",
      "  weak_ft=T.tempopulsar('Perfect_Model.par','iteration_sub.tim')\n"
     ]
    },
    {
     "name": "stdout",
     "output_type": "stream",
     "text": [
      "spr************************************************* \n",
      "Warning: you are running in tempo1 emulation mode \n",
      "************************************************* \n",
      "\n",
      "iteration: 61\n",
      "************************************************* \n",
      "Warning: you are running in tempo1 emulation mode \n",
      "************************************************* \n",
      "************************************************* \n",
      "Warning: you are running in tempo1 emulation mode \n",
      "************************************************* \n"
     ]
    },
    {
     "name": "stderr",
     "output_type": "stream",
     "text": [
      "/tmp/ipykernel_8229/2184178469.py:98: DeprecationWarning: distutils Version classes are deprecated. Use packaging.version instead.\n",
      "  weak_ft=T.tempopulsar('Perfect_Model.par','iteration_sub.tim')\n"
     ]
    },
    {
     "name": "stdout",
     "output_type": "stream",
     "text": [
      "spr************************************************* \n",
      "Warning: you are running in tempo1 emulation mode \n",
      "************************************************* \n",
      "\n"
     ]
    },
    {
     "name": "stderr",
     "output_type": "stream",
     "text": [
      "/tmp/ipykernel_8229/2184178469.py:98: DeprecationWarning: distutils Version classes are deprecated. Use packaging.version instead.\n",
      "  weak_ft=T.tempopulsar('Perfect_Model.par','iteration_sub.tim')\n"
     ]
    },
    {
     "name": "stdout",
     "output_type": "stream",
     "text": [
      "spr************************************************* \n",
      "Warning: you are running in tempo1 emulation mode \n",
      "************************************************* \n",
      "\n"
     ]
    },
    {
     "name": "stderr",
     "output_type": "stream",
     "text": [
      "/tmp/ipykernel_8229/2184178469.py:98: DeprecationWarning: distutils Version classes are deprecated. Use packaging.version instead.\n",
      "  weak_ft=T.tempopulsar('Perfect_Model.par','iteration_sub.tim')\n"
     ]
    },
    {
     "name": "stdout",
     "output_type": "stream",
     "text": [
      "spr************************************************* \n",
      "Warning: you are running in tempo1 emulation mode \n",
      "************************************************* \n",
      "\n"
     ]
    },
    {
     "name": "stderr",
     "output_type": "stream",
     "text": [
      "/tmp/ipykernel_8229/2184178469.py:98: DeprecationWarning: distutils Version classes are deprecated. Use packaging.version instead.\n",
      "  weak_ft=T.tempopulsar('Perfect_Model.par','iteration_sub.tim')\n"
     ]
    },
    {
     "name": "stdout",
     "output_type": "stream",
     "text": [
      "************************************************* \n",
      "Warning: you are running in tempo1 emulation mode \n",
      "************************************************* \n",
      "spr\n"
     ]
    },
    {
     "name": "stderr",
     "output_type": "stream",
     "text": [
      "/tmp/ipykernel_8229/2184178469.py:98: DeprecationWarning: distutils Version classes are deprecated. Use packaging.version instead.\n",
      "  weak_ft=T.tempopulsar('Perfect_Model.par','iteration_sub.tim')\n"
     ]
    },
    {
     "name": "stdout",
     "output_type": "stream",
     "text": [
      "spr************************************************* \n",
      "Warning: you are running in tempo1 emulation mode \n",
      "************************************************* \n",
      "\n"
     ]
    },
    {
     "name": "stderr",
     "output_type": "stream",
     "text": [
      "/tmp/ipykernel_8229/2184178469.py:98: DeprecationWarning: distutils Version classes are deprecated. Use packaging.version instead.\n",
      "  weak_ft=T.tempopulsar('Perfect_Model.par','iteration_sub.tim')\n"
     ]
    },
    {
     "name": "stdout",
     "output_type": "stream",
     "text": [
      "spr************************************************* \n",
      "Warning: you are running in tempo1 emulation mode \n",
      "************************************************* \n",
      "\n"
     ]
    },
    {
     "name": "stderr",
     "output_type": "stream",
     "text": [
      "/tmp/ipykernel_8229/2184178469.py:98: DeprecationWarning: distutils Version classes are deprecated. Use packaging.version instead.\n",
      "  weak_ft=T.tempopulsar('Perfect_Model.par','iteration_sub.tim')\n"
     ]
    },
    {
     "name": "stdout",
     "output_type": "stream",
     "text": [
      "spr************************************************* \n",
      "Warning: you are running in tempo1 emulation mode \n",
      "************************************************* \n",
      "\n"
     ]
    },
    {
     "name": "stderr",
     "output_type": "stream",
     "text": [
      "/tmp/ipykernel_8229/2184178469.py:98: DeprecationWarning: distutils Version classes are deprecated. Use packaging.version instead.\n",
      "  weak_ft=T.tempopulsar('Perfect_Model.par','iteration_sub.tim')\n"
     ]
    },
    {
     "name": "stdout",
     "output_type": "stream",
     "text": [
      "spr\n",
      "************************************************* \n",
      "Warning: you are running in tempo1 emulation mode \n",
      "************************************************* \n"
     ]
    },
    {
     "name": "stderr",
     "output_type": "stream",
     "text": [
      "/tmp/ipykernel_8229/2184178469.py:98: DeprecationWarning: distutils Version classes are deprecated. Use packaging.version instead.\n",
      "  weak_ft=T.tempopulsar('Perfect_Model.par','iteration_sub.tim')\n"
     ]
    },
    {
     "name": "stdout",
     "output_type": "stream",
     "text": [
      "spr************************************************* \n",
      "Warning: you are running in tempo1 emulation mode \n",
      "************************************************* \n",
      "\n"
     ]
    },
    {
     "name": "stderr",
     "output_type": "stream",
     "text": [
      "/tmp/ipykernel_8229/2184178469.py:98: DeprecationWarning: distutils Version classes are deprecated. Use packaging.version instead.\n",
      "  weak_ft=T.tempopulsar('Perfect_Model.par','iteration_sub.tim')\n"
     ]
    },
    {
     "name": "stdout",
     "output_type": "stream",
     "text": [
      "spr************************************************* \n",
      "Warning: you are running in tempo1 emulation mode \n",
      "************************************************* \n",
      "\n",
      "iteration: 62\n",
      "************************************************* \n",
      "Warning: you are running in tempo1 emulation mode \n",
      "************************************************* \n",
      "************************************************* \n",
      "Warning: you are running in tempo1 emulation mode \n",
      "************************************************* \n"
     ]
    },
    {
     "name": "stderr",
     "output_type": "stream",
     "text": [
      "/tmp/ipykernel_8229/2184178469.py:98: DeprecationWarning: distutils Version classes are deprecated. Use packaging.version instead.\n",
      "  weak_ft=T.tempopulsar('Perfect_Model.par','iteration_sub.tim')\n"
     ]
    },
    {
     "name": "stdout",
     "output_type": "stream",
     "text": [
      "spr************************************************* \n",
      "Warning: you are running in tempo1 emulation mode \n",
      "************************************************* \n",
      "\n"
     ]
    },
    {
     "name": "stderr",
     "output_type": "stream",
     "text": [
      "/tmp/ipykernel_8229/2184178469.py:98: DeprecationWarning: distutils Version classes are deprecated. Use packaging.version instead.\n",
      "  weak_ft=T.tempopulsar('Perfect_Model.par','iteration_sub.tim')\n"
     ]
    },
    {
     "name": "stdout",
     "output_type": "stream",
     "text": [
      "spr************************************************* \n",
      "Warning: you are running in tempo1 emulation mode \n",
      "************************************************* \n",
      "\n"
     ]
    },
    {
     "name": "stderr",
     "output_type": "stream",
     "text": [
      "/tmp/ipykernel_8229/2184178469.py:98: DeprecationWarning: distutils Version classes are deprecated. Use packaging.version instead.\n",
      "  weak_ft=T.tempopulsar('Perfect_Model.par','iteration_sub.tim')\n"
     ]
    },
    {
     "name": "stdout",
     "output_type": "stream",
     "text": [
      "************************************************* \n",
      "Warning: you are running in tempo1 emulation mode \n",
      "************************************************* \n",
      "spr\n"
     ]
    },
    {
     "name": "stderr",
     "output_type": "stream",
     "text": [
      "/tmp/ipykernel_8229/2184178469.py:98: DeprecationWarning: distutils Version classes are deprecated. Use packaging.version instead.\n",
      "  weak_ft=T.tempopulsar('Perfect_Model.par','iteration_sub.tim')\n"
     ]
    },
    {
     "name": "stdout",
     "output_type": "stream",
     "text": [
      "spr************************************************* \n",
      "Warning: you are running in tempo1 emulation mode \n",
      "************************************************* \n",
      "\n"
     ]
    },
    {
     "name": "stderr",
     "output_type": "stream",
     "text": [
      "/tmp/ipykernel_8229/2184178469.py:98: DeprecationWarning: distutils Version classes are deprecated. Use packaging.version instead.\n",
      "  weak_ft=T.tempopulsar('Perfect_Model.par','iteration_sub.tim')\n"
     ]
    },
    {
     "name": "stdout",
     "output_type": "stream",
     "text": [
      "spr************************************************* \n",
      "Warning: you are running in tempo1 emulation mode \n",
      "************************************************* \n",
      "\n"
     ]
    },
    {
     "name": "stderr",
     "output_type": "stream",
     "text": [
      "/tmp/ipykernel_8229/2184178469.py:98: DeprecationWarning: distutils Version classes are deprecated. Use packaging.version instead.\n",
      "  weak_ft=T.tempopulsar('Perfect_Model.par','iteration_sub.tim')\n"
     ]
    },
    {
     "name": "stdout",
     "output_type": "stream",
     "text": [
      "spr************************************************* \n",
      "Warning: you are running in tempo1 emulation mode \n",
      "************************************************* \n",
      "\n"
     ]
    },
    {
     "name": "stderr",
     "output_type": "stream",
     "text": [
      "/tmp/ipykernel_8229/2184178469.py:98: DeprecationWarning: distutils Version classes are deprecated. Use packaging.version instead.\n",
      "  weak_ft=T.tempopulsar('Perfect_Model.par','iteration_sub.tim')\n"
     ]
    },
    {
     "name": "stdout",
     "output_type": "stream",
     "text": [
      "spr************************************************* \n",
      "Warning: you are running in tempo1 emulation mode \n",
      "************************************************* \n",
      "\n"
     ]
    },
    {
     "name": "stderr",
     "output_type": "stream",
     "text": [
      "/tmp/ipykernel_8229/2184178469.py:98: DeprecationWarning: distutils Version classes are deprecated. Use packaging.version instead.\n",
      "  weak_ft=T.tempopulsar('Perfect_Model.par','iteration_sub.tim')\n"
     ]
    },
    {
     "name": "stdout",
     "output_type": "stream",
     "text": [
      "spr************************************************* \n",
      "Warning: you are running in tempo1 emulation mode \n",
      "************************************************* \n",
      "\n"
     ]
    },
    {
     "name": "stderr",
     "output_type": "stream",
     "text": [
      "/tmp/ipykernel_8229/2184178469.py:98: DeprecationWarning: distutils Version classes are deprecated. Use packaging.version instead.\n",
      "  weak_ft=T.tempopulsar('Perfect_Model.par','iteration_sub.tim')\n"
     ]
    },
    {
     "name": "stdout",
     "output_type": "stream",
     "text": [
      "spr************************************************* \n",
      "Warning: you are running in tempo1 emulation mode \n",
      "************************************************* \n",
      "\n"
     ]
    },
    {
     "name": "stderr",
     "output_type": "stream",
     "text": [
      "/tmp/ipykernel_8229/2184178469.py:98: DeprecationWarning: distutils Version classes are deprecated. Use packaging.version instead.\n",
      "  weak_ft=T.tempopulsar('Perfect_Model.par','iteration_sub.tim')\n"
     ]
    },
    {
     "name": "stdout",
     "output_type": "stream",
     "text": [
      "spr************************************************* \n",
      "Warning: you are running in tempo1 emulation mode \n",
      "************************************************* \n",
      "\n",
      "iteration: 63\n",
      "************************************************* \n",
      "Warning: you are running in tempo1 emulation mode \n",
      "************************************************* \n",
      "************************************************* \n",
      "Warning: you are running in tempo1 emulation mode \n",
      "************************************************* \n"
     ]
    },
    {
     "name": "stderr",
     "output_type": "stream",
     "text": [
      "/tmp/ipykernel_8229/2184178469.py:98: DeprecationWarning: distutils Version classes are deprecated. Use packaging.version instead.\n",
      "  weak_ft=T.tempopulsar('Perfect_Model.par','iteration_sub.tim')\n"
     ]
    },
    {
     "name": "stdout",
     "output_type": "stream",
     "text": [
      "************************************************* \n",
      "Warning: you are running in tempo1 emulation mode \n",
      "************************************************* \n",
      "spr\n"
     ]
    },
    {
     "name": "stderr",
     "output_type": "stream",
     "text": [
      "/tmp/ipykernel_8229/2184178469.py:98: DeprecationWarning: distutils Version classes are deprecated. Use packaging.version instead.\n",
      "  weak_ft=T.tempopulsar('Perfect_Model.par','iteration_sub.tim')\n"
     ]
    },
    {
     "name": "stdout",
     "output_type": "stream",
     "text": [
      "spr************************************************* \n",
      "Warning: you are running in tempo1 emulation mode \n",
      "************************************************* \n",
      "\n"
     ]
    },
    {
     "name": "stderr",
     "output_type": "stream",
     "text": [
      "/tmp/ipykernel_8229/2184178469.py:98: DeprecationWarning: distutils Version classes are deprecated. Use packaging.version instead.\n",
      "  weak_ft=T.tempopulsar('Perfect_Model.par','iteration_sub.tim')\n"
     ]
    },
    {
     "name": "stdout",
     "output_type": "stream",
     "text": [
      "spr\n",
      "************************************************* \n",
      "Warning: you are running in tempo1 emulation mode \n",
      "************************************************* \n"
     ]
    },
    {
     "name": "stderr",
     "output_type": "stream",
     "text": [
      "/tmp/ipykernel_8229/2184178469.py:98: DeprecationWarning: distutils Version classes are deprecated. Use packaging.version instead.\n",
      "  weak_ft=T.tempopulsar('Perfect_Model.par','iteration_sub.tim')\n"
     ]
    },
    {
     "name": "stdout",
     "output_type": "stream",
     "text": [
      "spr************************************************* \n",
      "Warning: you are running in tempo1 emulation mode \n",
      "************************************************* \n",
      "\n"
     ]
    },
    {
     "name": "stderr",
     "output_type": "stream",
     "text": [
      "/tmp/ipykernel_8229/2184178469.py:98: DeprecationWarning: distutils Version classes are deprecated. Use packaging.version instead.\n",
      "  weak_ft=T.tempopulsar('Perfect_Model.par','iteration_sub.tim')\n"
     ]
    },
    {
     "name": "stdout",
     "output_type": "stream",
     "text": [
      "spr************************************************* \n",
      "Warning: you are running in tempo1 emulation mode \n",
      "************************************************* \n",
      "\n"
     ]
    },
    {
     "name": "stderr",
     "output_type": "stream",
     "text": [
      "/tmp/ipykernel_8229/2184178469.py:98: DeprecationWarning: distutils Version classes are deprecated. Use packaging.version instead.\n",
      "  weak_ft=T.tempopulsar('Perfect_Model.par','iteration_sub.tim')\n"
     ]
    },
    {
     "name": "stdout",
     "output_type": "stream",
     "text": [
      "spr************************************************* \n",
      "Warning: you are running in tempo1 emulation mode \n",
      "************************************************* \n",
      "\n"
     ]
    },
    {
     "name": "stderr",
     "output_type": "stream",
     "text": [
      "/tmp/ipykernel_8229/2184178469.py:98: DeprecationWarning: distutils Version classes are deprecated. Use packaging.version instead.\n",
      "  weak_ft=T.tempopulsar('Perfect_Model.par','iteration_sub.tim')\n"
     ]
    },
    {
     "name": "stdout",
     "output_type": "stream",
     "text": [
      "spr************************************************* \n",
      "Warning: you are running in tempo1 emulation mode \n",
      "************************************************* \n",
      "\n"
     ]
    },
    {
     "name": "stderr",
     "output_type": "stream",
     "text": [
      "/tmp/ipykernel_8229/2184178469.py:98: DeprecationWarning: distutils Version classes are deprecated. Use packaging.version instead.\n",
      "  weak_ft=T.tempopulsar('Perfect_Model.par','iteration_sub.tim')\n"
     ]
    },
    {
     "name": "stdout",
     "output_type": "stream",
     "text": [
      "spr************************************************* \n",
      "Warning: you are running in tempo1 emulation mode \n",
      "************************************************* \n",
      "\n"
     ]
    },
    {
     "name": "stderr",
     "output_type": "stream",
     "text": [
      "/tmp/ipykernel_8229/2184178469.py:98: DeprecationWarning: distutils Version classes are deprecated. Use packaging.version instead.\n",
      "  weak_ft=T.tempopulsar('Perfect_Model.par','iteration_sub.tim')\n"
     ]
    },
    {
     "name": "stdout",
     "output_type": "stream",
     "text": [
      "spr************************************************* \n",
      "Warning: you are running in tempo1 emulation mode \n",
      "************************************************* \n",
      "\n"
     ]
    },
    {
     "name": "stderr",
     "output_type": "stream",
     "text": [
      "/tmp/ipykernel_8229/2184178469.py:98: DeprecationWarning: distutils Version classes are deprecated. Use packaging.version instead.\n",
      "  weak_ft=T.tempopulsar('Perfect_Model.par','iteration_sub.tim')\n"
     ]
    },
    {
     "name": "stdout",
     "output_type": "stream",
     "text": [
      "************************************************* \n",
      "Warning: you are running in tempo1 emulation mode \n",
      "************************************************* \n",
      "spr\n",
      "iteration: 64\n",
      "************************************************* \n",
      "Warning: you are running in tempo1 emulation mode \n",
      "************************************************* \n",
      "************************************************* \n",
      "Warning: you are running in tempo1 emulation mode \n",
      "************************************************* \n"
     ]
    },
    {
     "name": "stderr",
     "output_type": "stream",
     "text": [
      "/tmp/ipykernel_8229/2184178469.py:98: DeprecationWarning: distutils Version classes are deprecated. Use packaging.version instead.\n",
      "  weak_ft=T.tempopulsar('Perfect_Model.par','iteration_sub.tim')\n"
     ]
    },
    {
     "name": "stdout",
     "output_type": "stream",
     "text": [
      "spr************************************************* \n",
      "Warning: you are running in tempo1 emulation mode \n",
      "************************************************* \n",
      "\n"
     ]
    },
    {
     "name": "stderr",
     "output_type": "stream",
     "text": [
      "/tmp/ipykernel_8229/2184178469.py:98: DeprecationWarning: distutils Version classes are deprecated. Use packaging.version instead.\n",
      "  weak_ft=T.tempopulsar('Perfect_Model.par','iteration_sub.tim')\n"
     ]
    },
    {
     "name": "stdout",
     "output_type": "stream",
     "text": [
      "spr************************************************* \n",
      "Warning: you are running in tempo1 emulation mode \n",
      "************************************************* \n",
      "\n"
     ]
    },
    {
     "name": "stderr",
     "output_type": "stream",
     "text": [
      "/tmp/ipykernel_8229/2184178469.py:98: DeprecationWarning: distutils Version classes are deprecated. Use packaging.version instead.\n",
      "  weak_ft=T.tempopulsar('Perfect_Model.par','iteration_sub.tim')\n"
     ]
    },
    {
     "name": "stdout",
     "output_type": "stream",
     "text": [
      "spr************************************************* \n",
      "Warning: you are running in tempo1 emulation mode \n",
      "************************************************* \n",
      "\n"
     ]
    },
    {
     "name": "stderr",
     "output_type": "stream",
     "text": [
      "/tmp/ipykernel_8229/2184178469.py:98: DeprecationWarning: distutils Version classes are deprecated. Use packaging.version instead.\n",
      "  weak_ft=T.tempopulsar('Perfect_Model.par','iteration_sub.tim')\n"
     ]
    },
    {
     "name": "stdout",
     "output_type": "stream",
     "text": [
      "spr************************************************* \n",
      "Warning: you are running in tempo1 emulation mode \n",
      "************************************************* \n",
      "\n"
     ]
    },
    {
     "name": "stderr",
     "output_type": "stream",
     "text": [
      "/tmp/ipykernel_8229/2184178469.py:98: DeprecationWarning: distutils Version classes are deprecated. Use packaging.version instead.\n",
      "  weak_ft=T.tempopulsar('Perfect_Model.par','iteration_sub.tim')\n"
     ]
    },
    {
     "name": "stdout",
     "output_type": "stream",
     "text": [
      "spr************************************************* \n",
      "Warning: you are running in tempo1 emulation mode \n",
      "************************************************* \n",
      "\n"
     ]
    },
    {
     "name": "stderr",
     "output_type": "stream",
     "text": [
      "/tmp/ipykernel_8229/2184178469.py:98: DeprecationWarning: distutils Version classes are deprecated. Use packaging.version instead.\n",
      "  weak_ft=T.tempopulsar('Perfect_Model.par','iteration_sub.tim')\n"
     ]
    },
    {
     "name": "stdout",
     "output_type": "stream",
     "text": [
      "spr************************************************* \n",
      "Warning: you are running in tempo1 emulation mode \n",
      "************************************************* \n",
      "\n"
     ]
    },
    {
     "name": "stderr",
     "output_type": "stream",
     "text": [
      "/tmp/ipykernel_8229/2184178469.py:98: DeprecationWarning: distutils Version classes are deprecated. Use packaging.version instead.\n",
      "  weak_ft=T.tempopulsar('Perfect_Model.par','iteration_sub.tim')\n"
     ]
    },
    {
     "name": "stdout",
     "output_type": "stream",
     "text": [
      "spr************************************************* \n",
      "Warning: you are running in tempo1 emulation mode \n",
      "************************************************* \n",
      "\n"
     ]
    },
    {
     "name": "stderr",
     "output_type": "stream",
     "text": [
      "/tmp/ipykernel_8229/2184178469.py:98: DeprecationWarning: distutils Version classes are deprecated. Use packaging.version instead.\n",
      "  weak_ft=T.tempopulsar('Perfect_Model.par','iteration_sub.tim')\n"
     ]
    },
    {
     "name": "stdout",
     "output_type": "stream",
     "text": [
      "spr************************************************* \n",
      "Warning: you are running in tempo1 emulation mode \n",
      "************************************************* \n",
      "\n"
     ]
    },
    {
     "name": "stderr",
     "output_type": "stream",
     "text": [
      "/tmp/ipykernel_8229/2184178469.py:98: DeprecationWarning: distutils Version classes are deprecated. Use packaging.version instead.\n",
      "  weak_ft=T.tempopulsar('Perfect_Model.par','iteration_sub.tim')\n"
     ]
    },
    {
     "name": "stdout",
     "output_type": "stream",
     "text": [
      "spr************************************************* \n",
      "Warning: you are running in tempo1 emulation mode \n",
      "************************************************* \n",
      "\n"
     ]
    },
    {
     "name": "stderr",
     "output_type": "stream",
     "text": [
      "/tmp/ipykernel_8229/2184178469.py:98: DeprecationWarning: distutils Version classes are deprecated. Use packaging.version instead.\n",
      "  weak_ft=T.tempopulsar('Perfect_Model.par','iteration_sub.tim')\n"
     ]
    },
    {
     "name": "stdout",
     "output_type": "stream",
     "text": [
      "spr************************************************* \n",
      "Warning: you are running in tempo1 emulation mode \n",
      "************************************************* \n",
      "\n",
      "iteration: 65\n",
      "************************************************* \n",
      "Warning: you are running in tempo1 emulation mode \n",
      "************************************************* \n",
      "************************************************* \n",
      "Warning: you are running in tempo1 emulation mode \n",
      "************************************************* \n"
     ]
    },
    {
     "name": "stderr",
     "output_type": "stream",
     "text": [
      "/tmp/ipykernel_8229/2184178469.py:98: DeprecationWarning: distutils Version classes are deprecated. Use packaging.version instead.\n",
      "  weak_ft=T.tempopulsar('Perfect_Model.par','iteration_sub.tim')\n"
     ]
    },
    {
     "name": "stdout",
     "output_type": "stream",
     "text": [
      "spr************************************************* \n",
      "Warning: you are running in tempo1 emulation mode \n",
      "************************************************* \n",
      "\n"
     ]
    },
    {
     "name": "stderr",
     "output_type": "stream",
     "text": [
      "/tmp/ipykernel_8229/2184178469.py:98: DeprecationWarning: distutils Version classes are deprecated. Use packaging.version instead.\n",
      "  weak_ft=T.tempopulsar('Perfect_Model.par','iteration_sub.tim')\n"
     ]
    },
    {
     "name": "stdout",
     "output_type": "stream",
     "text": [
      "spr************************************************* \n",
      "Warning: you are running in tempo1 emulation mode \n",
      "************************************************* \n",
      "\n"
     ]
    },
    {
     "name": "stderr",
     "output_type": "stream",
     "text": [
      "/tmp/ipykernel_8229/2184178469.py:98: DeprecationWarning: distutils Version classes are deprecated. Use packaging.version instead.\n",
      "  weak_ft=T.tempopulsar('Perfect_Model.par','iteration_sub.tim')\n"
     ]
    },
    {
     "name": "stdout",
     "output_type": "stream",
     "text": [
      "spr************************************************* \n",
      "Warning: you are running in tempo1 emulation mode \n",
      "************************************************* \n",
      "\n"
     ]
    },
    {
     "name": "stderr",
     "output_type": "stream",
     "text": [
      "/tmp/ipykernel_8229/2184178469.py:98: DeprecationWarning: distutils Version classes are deprecated. Use packaging.version instead.\n",
      "  weak_ft=T.tempopulsar('Perfect_Model.par','iteration_sub.tim')\n"
     ]
    },
    {
     "name": "stdout",
     "output_type": "stream",
     "text": [
      "spr************************************************* \n",
      "Warning: you are running in tempo1 emulation mode \n",
      "************************************************* \n",
      "\n"
     ]
    },
    {
     "name": "stderr",
     "output_type": "stream",
     "text": [
      "/tmp/ipykernel_8229/2184178469.py:98: DeprecationWarning: distutils Version classes are deprecated. Use packaging.version instead.\n",
      "  weak_ft=T.tempopulsar('Perfect_Model.par','iteration_sub.tim')\n"
     ]
    },
    {
     "name": "stdout",
     "output_type": "stream",
     "text": [
      "spr************************************************* \n",
      "Warning: you are running in tempo1 emulation mode \n",
      "************************************************* \n",
      "\n"
     ]
    },
    {
     "name": "stderr",
     "output_type": "stream",
     "text": [
      "/tmp/ipykernel_8229/2184178469.py:98: DeprecationWarning: distutils Version classes are deprecated. Use packaging.version instead.\n",
      "  weak_ft=T.tempopulsar('Perfect_Model.par','iteration_sub.tim')\n"
     ]
    },
    {
     "name": "stdout",
     "output_type": "stream",
     "text": [
      "spr************************************************* \n",
      "Warning: you are running in tempo1 emulation mode \n",
      "************************************************* \n",
      "\n"
     ]
    },
    {
     "name": "stderr",
     "output_type": "stream",
     "text": [
      "/tmp/ipykernel_8229/2184178469.py:98: DeprecationWarning: distutils Version classes are deprecated. Use packaging.version instead.\n",
      "  weak_ft=T.tempopulsar('Perfect_Model.par','iteration_sub.tim')\n"
     ]
    },
    {
     "name": "stdout",
     "output_type": "stream",
     "text": [
      "spr************************************************* \n",
      "Warning: you are running in tempo1 emulation mode \n",
      "************************************************* \n",
      "\n"
     ]
    },
    {
     "name": "stderr",
     "output_type": "stream",
     "text": [
      "/tmp/ipykernel_8229/2184178469.py:98: DeprecationWarning: distutils Version classes are deprecated. Use packaging.version instead.\n",
      "  weak_ft=T.tempopulsar('Perfect_Model.par','iteration_sub.tim')\n"
     ]
    },
    {
     "name": "stdout",
     "output_type": "stream",
     "text": [
      "spr************************************************* \n",
      "Warning: you are running in tempo1 emulation mode \n",
      "************************************************* \n",
      "\n"
     ]
    },
    {
     "name": "stderr",
     "output_type": "stream",
     "text": [
      "/tmp/ipykernel_8229/2184178469.py:98: DeprecationWarning: distutils Version classes are deprecated. Use packaging.version instead.\n",
      "  weak_ft=T.tempopulsar('Perfect_Model.par','iteration_sub.tim')\n"
     ]
    },
    {
     "name": "stdout",
     "output_type": "stream",
     "text": [
      "************************************************* \n",
      "Warning: you are running in tempo1 emulation mode \n",
      "************************************************* \n",
      "spr\n"
     ]
    },
    {
     "name": "stderr",
     "output_type": "stream",
     "text": [
      "/tmp/ipykernel_8229/2184178469.py:98: DeprecationWarning: distutils Version classes are deprecated. Use packaging.version instead.\n",
      "  weak_ft=T.tempopulsar('Perfect_Model.par','iteration_sub.tim')\n"
     ]
    },
    {
     "name": "stdout",
     "output_type": "stream",
     "text": [
      "spr************************************************* \n",
      "Warning: you are running in tempo1 emulation mode \n",
      "************************************************* \n",
      "\n",
      "iteration: 66\n",
      "************************************************* \n",
      "Warning: you are running in tempo1 emulation mode \n",
      "************************************************* \n",
      "************************************************* \n",
      "Warning: you are running in tempo1 emulation mode \n",
      "************************************************* \n"
     ]
    },
    {
     "name": "stderr",
     "output_type": "stream",
     "text": [
      "/tmp/ipykernel_8229/2184178469.py:98: DeprecationWarning: distutils Version classes are deprecated. Use packaging.version instead.\n",
      "  weak_ft=T.tempopulsar('Perfect_Model.par','iteration_sub.tim')\n"
     ]
    },
    {
     "name": "stdout",
     "output_type": "stream",
     "text": [
      "spr************************************************* \n",
      "Warning: you are running in tempo1 emulation mode \n",
      "************************************************* \n",
      "\n"
     ]
    },
    {
     "name": "stderr",
     "output_type": "stream",
     "text": [
      "/tmp/ipykernel_8229/2184178469.py:98: DeprecationWarning: distutils Version classes are deprecated. Use packaging.version instead.\n",
      "  weak_ft=T.tempopulsar('Perfect_Model.par','iteration_sub.tim')\n"
     ]
    },
    {
     "name": "stdout",
     "output_type": "stream",
     "text": [
      "spr************************************************* \n",
      "Warning: you are running in tempo1 emulation mode \n",
      "************************************************* \n",
      "\n"
     ]
    },
    {
     "name": "stderr",
     "output_type": "stream",
     "text": [
      "/tmp/ipykernel_8229/2184178469.py:98: DeprecationWarning: distutils Version classes are deprecated. Use packaging.version instead.\n",
      "  weak_ft=T.tempopulsar('Perfect_Model.par','iteration_sub.tim')\n"
     ]
    },
    {
     "name": "stdout",
     "output_type": "stream",
     "text": [
      "spr************************************************* \n",
      "Warning: you are running in tempo1 emulation mode \n",
      "************************************************* \n",
      "\n"
     ]
    },
    {
     "name": "stderr",
     "output_type": "stream",
     "text": [
      "/tmp/ipykernel_8229/2184178469.py:98: DeprecationWarning: distutils Version classes are deprecated. Use packaging.version instead.\n",
      "  weak_ft=T.tempopulsar('Perfect_Model.par','iteration_sub.tim')\n"
     ]
    },
    {
     "name": "stdout",
     "output_type": "stream",
     "text": [
      "spr************************************************* \n",
      "Warning: you are running in tempo1 emulation mode \n",
      "************************************************* \n",
      "\n"
     ]
    },
    {
     "name": "stderr",
     "output_type": "stream",
     "text": [
      "/tmp/ipykernel_8229/2184178469.py:98: DeprecationWarning: distutils Version classes are deprecated. Use packaging.version instead.\n",
      "  weak_ft=T.tempopulsar('Perfect_Model.par','iteration_sub.tim')\n"
     ]
    },
    {
     "name": "stdout",
     "output_type": "stream",
     "text": [
      "spr************************************************* \n",
      "Warning: you are running in tempo1 emulation mode \n",
      "************************************************* \n",
      "\n"
     ]
    },
    {
     "name": "stderr",
     "output_type": "stream",
     "text": [
      "/tmp/ipykernel_8229/2184178469.py:98: DeprecationWarning: distutils Version classes are deprecated. Use packaging.version instead.\n",
      "  weak_ft=T.tempopulsar('Perfect_Model.par','iteration_sub.tim')\n"
     ]
    },
    {
     "name": "stdout",
     "output_type": "stream",
     "text": [
      "spr************************************************* \n",
      "Warning: you are running in tempo1 emulation mode \n",
      "************************************************* \n",
      "\n"
     ]
    },
    {
     "name": "stderr",
     "output_type": "stream",
     "text": [
      "/tmp/ipykernel_8229/2184178469.py:98: DeprecationWarning: distutils Version classes are deprecated. Use packaging.version instead.\n",
      "  weak_ft=T.tempopulsar('Perfect_Model.par','iteration_sub.tim')\n"
     ]
    },
    {
     "name": "stdout",
     "output_type": "stream",
     "text": [
      "spr************************************************* \n",
      "Warning: you are running in tempo1 emulation mode \n",
      "************************************************* \n",
      "\n"
     ]
    },
    {
     "name": "stderr",
     "output_type": "stream",
     "text": [
      "/tmp/ipykernel_8229/2184178469.py:98: DeprecationWarning: distutils Version classes are deprecated. Use packaging.version instead.\n",
      "  weak_ft=T.tempopulsar('Perfect_Model.par','iteration_sub.tim')\n"
     ]
    },
    {
     "name": "stdout",
     "output_type": "stream",
     "text": [
      "spr************************************************* \n",
      "Warning: you are running in tempo1 emulation mode \n",
      "************************************************* \n",
      "\n"
     ]
    },
    {
     "name": "stderr",
     "output_type": "stream",
     "text": [
      "/tmp/ipykernel_8229/2184178469.py:98: DeprecationWarning: distutils Version classes are deprecated. Use packaging.version instead.\n",
      "  weak_ft=T.tempopulsar('Perfect_Model.par','iteration_sub.tim')\n"
     ]
    },
    {
     "name": "stdout",
     "output_type": "stream",
     "text": [
      "spr\n",
      "************************************************* \n",
      "Warning: you are running in tempo1 emulation mode \n",
      "************************************************* \n"
     ]
    },
    {
     "name": "stderr",
     "output_type": "stream",
     "text": [
      "/tmp/ipykernel_8229/2184178469.py:98: DeprecationWarning: distutils Version classes are deprecated. Use packaging.version instead.\n",
      "  weak_ft=T.tempopulsar('Perfect_Model.par','iteration_sub.tim')\n"
     ]
    },
    {
     "name": "stdout",
     "output_type": "stream",
     "text": [
      "spr************************************************* \n",
      "Warning: you are running in tempo1 emulation mode \n",
      "************************************************* \n",
      "\n",
      "iteration: 67\n",
      "************************************************* \n",
      "Warning: you are running in tempo1 emulation mode \n",
      "************************************************* \n",
      "************************************************* \n",
      "Warning: you are running in tempo1 emulation mode \n",
      "************************************************* \n"
     ]
    },
    {
     "name": "stderr",
     "output_type": "stream",
     "text": [
      "/tmp/ipykernel_8229/2184178469.py:98: DeprecationWarning: distutils Version classes are deprecated. Use packaging.version instead.\n",
      "  weak_ft=T.tempopulsar('Perfect_Model.par','iteration_sub.tim')\n"
     ]
    },
    {
     "name": "stdout",
     "output_type": "stream",
     "text": [
      "spr************************************************* \n",
      "Warning: you are running in tempo1 emulation mode \n",
      "************************************************* \n",
      "\n"
     ]
    },
    {
     "name": "stderr",
     "output_type": "stream",
     "text": [
      "/tmp/ipykernel_8229/2184178469.py:98: DeprecationWarning: distutils Version classes are deprecated. Use packaging.version instead.\n",
      "  weak_ft=T.tempopulsar('Perfect_Model.par','iteration_sub.tim')\n"
     ]
    },
    {
     "name": "stdout",
     "output_type": "stream",
     "text": [
      "spr************************************************* \n",
      "Warning: you are running in tempo1 emulation mode \n",
      "************************************************* \n",
      "\n"
     ]
    },
    {
     "name": "stderr",
     "output_type": "stream",
     "text": [
      "/tmp/ipykernel_8229/2184178469.py:98: DeprecationWarning: distutils Version classes are deprecated. Use packaging.version instead.\n",
      "  weak_ft=T.tempopulsar('Perfect_Model.par','iteration_sub.tim')\n"
     ]
    },
    {
     "name": "stdout",
     "output_type": "stream",
     "text": [
      "spr************************************************* \n",
      "Warning: you are running in tempo1 emulation mode \n",
      "************************************************* \n",
      "\n"
     ]
    },
    {
     "name": "stderr",
     "output_type": "stream",
     "text": [
      "/tmp/ipykernel_8229/2184178469.py:98: DeprecationWarning: distutils Version classes are deprecated. Use packaging.version instead.\n",
      "  weak_ft=T.tempopulsar('Perfect_Model.par','iteration_sub.tim')\n"
     ]
    },
    {
     "name": "stdout",
     "output_type": "stream",
     "text": [
      "spr************************************************* \n",
      "Warning: you are running in tempo1 emulation mode \n",
      "************************************************* \n",
      "\n"
     ]
    },
    {
     "name": "stderr",
     "output_type": "stream",
     "text": [
      "/tmp/ipykernel_8229/2184178469.py:98: DeprecationWarning: distutils Version classes are deprecated. Use packaging.version instead.\n",
      "  weak_ft=T.tempopulsar('Perfect_Model.par','iteration_sub.tim')\n"
     ]
    },
    {
     "name": "stdout",
     "output_type": "stream",
     "text": [
      "************************************************* \n",
      "Warning: you are running in tempo1 emulation mode \n",
      "************************************************* \n",
      "spr\n"
     ]
    },
    {
     "name": "stderr",
     "output_type": "stream",
     "text": [
      "/tmp/ipykernel_8229/2184178469.py:98: DeprecationWarning: distutils Version classes are deprecated. Use packaging.version instead.\n",
      "  weak_ft=T.tempopulsar('Perfect_Model.par','iteration_sub.tim')\n"
     ]
    },
    {
     "name": "stdout",
     "output_type": "stream",
     "text": [
      "spr************************************************* \n",
      "Warning: you are running in tempo1 emulation mode \n",
      "************************************************* \n",
      "\n"
     ]
    },
    {
     "name": "stderr",
     "output_type": "stream",
     "text": [
      "/tmp/ipykernel_8229/2184178469.py:98: DeprecationWarning: distutils Version classes are deprecated. Use packaging.version instead.\n",
      "  weak_ft=T.tempopulsar('Perfect_Model.par','iteration_sub.tim')\n"
     ]
    },
    {
     "name": "stdout",
     "output_type": "stream",
     "text": [
      "************************************************* \n",
      "Warning: you are running in tempo1 emulation mode \n",
      "************************************************* \n",
      "spr\n"
     ]
    },
    {
     "name": "stderr",
     "output_type": "stream",
     "text": [
      "/tmp/ipykernel_8229/2184178469.py:98: DeprecationWarning: distutils Version classes are deprecated. Use packaging.version instead.\n",
      "  weak_ft=T.tempopulsar('Perfect_Model.par','iteration_sub.tim')\n"
     ]
    },
    {
     "name": "stdout",
     "output_type": "stream",
     "text": [
      "spr************************************************* \n",
      "Warning: you are running in tempo1 emulation mode \n",
      "************************************************* \n",
      "\n"
     ]
    },
    {
     "name": "stderr",
     "output_type": "stream",
     "text": [
      "/tmp/ipykernel_8229/2184178469.py:98: DeprecationWarning: distutils Version classes are deprecated. Use packaging.version instead.\n",
      "  weak_ft=T.tempopulsar('Perfect_Model.par','iteration_sub.tim')\n"
     ]
    },
    {
     "name": "stdout",
     "output_type": "stream",
     "text": [
      "spr************************************************* \n",
      "Warning: you are running in tempo1 emulation mode \n",
      "************************************************* \n",
      "\n"
     ]
    },
    {
     "name": "stderr",
     "output_type": "stream",
     "text": [
      "/tmp/ipykernel_8229/2184178469.py:98: DeprecationWarning: distutils Version classes are deprecated. Use packaging.version instead.\n",
      "  weak_ft=T.tempopulsar('Perfect_Model.par','iteration_sub.tim')\n"
     ]
    },
    {
     "name": "stdout",
     "output_type": "stream",
     "text": [
      "spr************************************************* \n",
      "Warning: you are running in tempo1 emulation mode \n",
      "************************************************* \n",
      "\n",
      "iteration: 68\n",
      "************************************************* \n",
      "Warning: you are running in tempo1 emulation mode \n",
      "************************************************* \n",
      "************************************************* \n",
      "Warning: you are running in tempo1 emulation mode \n",
      "************************************************* \n"
     ]
    },
    {
     "name": "stderr",
     "output_type": "stream",
     "text": [
      "/tmp/ipykernel_8229/2184178469.py:98: DeprecationWarning: distutils Version classes are deprecated. Use packaging.version instead.\n",
      "  weak_ft=T.tempopulsar('Perfect_Model.par','iteration_sub.tim')\n"
     ]
    },
    {
     "name": "stdout",
     "output_type": "stream",
     "text": [
      "spr************************************************* \n",
      "Warning: you are running in tempo1 emulation mode \n",
      "************************************************* \n",
      "\n"
     ]
    },
    {
     "name": "stderr",
     "output_type": "stream",
     "text": [
      "/tmp/ipykernel_8229/2184178469.py:98: DeprecationWarning: distutils Version classes are deprecated. Use packaging.version instead.\n",
      "  weak_ft=T.tempopulsar('Perfect_Model.par','iteration_sub.tim')\n"
     ]
    },
    {
     "name": "stdout",
     "output_type": "stream",
     "text": [
      "spr************************************************* \n",
      "Warning: you are running in tempo1 emulation mode \n",
      "************************************************* \n",
      "\n"
     ]
    },
    {
     "name": "stderr",
     "output_type": "stream",
     "text": [
      "/tmp/ipykernel_8229/2184178469.py:98: DeprecationWarning: distutils Version classes are deprecated. Use packaging.version instead.\n",
      "  weak_ft=T.tempopulsar('Perfect_Model.par','iteration_sub.tim')\n"
     ]
    },
    {
     "name": "stdout",
     "output_type": "stream",
     "text": [
      "spr************************************************* \n",
      "Warning: you are running in tempo1 emulation mode \n",
      "************************************************* \n",
      "\n"
     ]
    },
    {
     "name": "stderr",
     "output_type": "stream",
     "text": [
      "/tmp/ipykernel_8229/2184178469.py:98: DeprecationWarning: distutils Version classes are deprecated. Use packaging.version instead.\n",
      "  weak_ft=T.tempopulsar('Perfect_Model.par','iteration_sub.tim')\n"
     ]
    },
    {
     "name": "stdout",
     "output_type": "stream",
     "text": [
      "spr************************************************* \n",
      "Warning: you are running in tempo1 emulation mode \n",
      "************************************************* \n",
      "\n"
     ]
    },
    {
     "name": "stderr",
     "output_type": "stream",
     "text": [
      "/tmp/ipykernel_8229/2184178469.py:98: DeprecationWarning: distutils Version classes are deprecated. Use packaging.version instead.\n",
      "  weak_ft=T.tempopulsar('Perfect_Model.par','iteration_sub.tim')\n"
     ]
    },
    {
     "name": "stdout",
     "output_type": "stream",
     "text": [
      "spr************************************************* \n",
      "Warning: you are running in tempo1 emulation mode \n",
      "************************************************* \n",
      "\n"
     ]
    },
    {
     "name": "stderr",
     "output_type": "stream",
     "text": [
      "/tmp/ipykernel_8229/2184178469.py:98: DeprecationWarning: distutils Version classes are deprecated. Use packaging.version instead.\n",
      "  weak_ft=T.tempopulsar('Perfect_Model.par','iteration_sub.tim')\n"
     ]
    },
    {
     "name": "stdout",
     "output_type": "stream",
     "text": [
      "spr************************************************* \n",
      "Warning: you are running in tempo1 emulation mode \n",
      "************************************************* \n",
      "\n"
     ]
    },
    {
     "name": "stderr",
     "output_type": "stream",
     "text": [
      "/tmp/ipykernel_8229/2184178469.py:98: DeprecationWarning: distutils Version classes are deprecated. Use packaging.version instead.\n",
      "  weak_ft=T.tempopulsar('Perfect_Model.par','iteration_sub.tim')\n"
     ]
    },
    {
     "name": "stdout",
     "output_type": "stream",
     "text": [
      "spr************************************************* \n",
      "Warning: you are running in tempo1 emulation mode \n",
      "************************************************* \n",
      "\n"
     ]
    },
    {
     "name": "stderr",
     "output_type": "stream",
     "text": [
      "/tmp/ipykernel_8229/2184178469.py:98: DeprecationWarning: distutils Version classes are deprecated. Use packaging.version instead.\n",
      "  weak_ft=T.tempopulsar('Perfect_Model.par','iteration_sub.tim')\n"
     ]
    },
    {
     "name": "stdout",
     "output_type": "stream",
     "text": [
      "spr************************************************* \n",
      "Warning: you are running in tempo1 emulation mode \n",
      "************************************************* \n",
      "\n"
     ]
    },
    {
     "name": "stderr",
     "output_type": "stream",
     "text": [
      "/tmp/ipykernel_8229/2184178469.py:98: DeprecationWarning: distutils Version classes are deprecated. Use packaging.version instead.\n",
      "  weak_ft=T.tempopulsar('Perfect_Model.par','iteration_sub.tim')\n"
     ]
    },
    {
     "name": "stdout",
     "output_type": "stream",
     "text": [
      "spr************************************************* \n",
      "Warning: you are running in tempo1 emulation mode \n",
      "************************************************* \n",
      "\n"
     ]
    },
    {
     "name": "stderr",
     "output_type": "stream",
     "text": [
      "/tmp/ipykernel_8229/2184178469.py:98: DeprecationWarning: distutils Version classes are deprecated. Use packaging.version instead.\n",
      "  weak_ft=T.tempopulsar('Perfect_Model.par','iteration_sub.tim')\n"
     ]
    },
    {
     "name": "stdout",
     "output_type": "stream",
     "text": [
      "spr************************************************* \n",
      "Warning: you are running in tempo1 emulation mode \n",
      "************************************************* \n",
      "\n",
      "iteration: 69\n",
      "************************************************* \n",
      "Warning: you are running in tempo1 emulation mode \n",
      "************************************************* \n",
      "************************************************* \n",
      "Warning: you are running in tempo1 emulation mode \n",
      "************************************************* \n"
     ]
    },
    {
     "name": "stderr",
     "output_type": "stream",
     "text": [
      "/tmp/ipykernel_8229/2184178469.py:98: DeprecationWarning: distutils Version classes are deprecated. Use packaging.version instead.\n",
      "  weak_ft=T.tempopulsar('Perfect_Model.par','iteration_sub.tim')\n"
     ]
    },
    {
     "name": "stdout",
     "output_type": "stream",
     "text": [
      "spr************************************************* \n",
      "Warning: you are running in tempo1 emulation mode \n",
      "************************************************* \n",
      "\n"
     ]
    },
    {
     "name": "stderr",
     "output_type": "stream",
     "text": [
      "/tmp/ipykernel_8229/2184178469.py:98: DeprecationWarning: distutils Version classes are deprecated. Use packaging.version instead.\n",
      "  weak_ft=T.tempopulsar('Perfect_Model.par','iteration_sub.tim')\n"
     ]
    },
    {
     "name": "stdout",
     "output_type": "stream",
     "text": [
      "spr************************************************* \n",
      "Warning: you are running in tempo1 emulation mode \n",
      "************************************************* \n",
      "\n"
     ]
    },
    {
     "name": "stderr",
     "output_type": "stream",
     "text": [
      "/tmp/ipykernel_8229/2184178469.py:98: DeprecationWarning: distutils Version classes are deprecated. Use packaging.version instead.\n",
      "  weak_ft=T.tempopulsar('Perfect_Model.par','iteration_sub.tim')\n"
     ]
    },
    {
     "name": "stdout",
     "output_type": "stream",
     "text": [
      "spr************************************************* \n",
      "Warning: you are running in tempo1 emulation mode \n",
      "************************************************* \n",
      "\n"
     ]
    },
    {
     "name": "stderr",
     "output_type": "stream",
     "text": [
      "/tmp/ipykernel_8229/2184178469.py:98: DeprecationWarning: distutils Version classes are deprecated. Use packaging.version instead.\n",
      "  weak_ft=T.tempopulsar('Perfect_Model.par','iteration_sub.tim')\n"
     ]
    },
    {
     "name": "stdout",
     "output_type": "stream",
     "text": [
      "spr************************************************* \n",
      "Warning: you are running in tempo1 emulation mode \n",
      "************************************************* \n",
      "\n"
     ]
    },
    {
     "name": "stderr",
     "output_type": "stream",
     "text": [
      "/tmp/ipykernel_8229/2184178469.py:98: DeprecationWarning: distutils Version classes are deprecated. Use packaging.version instead.\n",
      "  weak_ft=T.tempopulsar('Perfect_Model.par','iteration_sub.tim')\n"
     ]
    },
    {
     "name": "stdout",
     "output_type": "stream",
     "text": [
      "spr************************************************* \n",
      "Warning: you are running in tempo1 emulation mode \n",
      "************************************************* \n",
      "\n"
     ]
    },
    {
     "name": "stderr",
     "output_type": "stream",
     "text": [
      "/tmp/ipykernel_8229/2184178469.py:98: DeprecationWarning: distutils Version classes are deprecated. Use packaging.version instead.\n",
      "  weak_ft=T.tempopulsar('Perfect_Model.par','iteration_sub.tim')\n"
     ]
    },
    {
     "name": "stdout",
     "output_type": "stream",
     "text": [
      "spr************************************************* \n",
      "Warning: you are running in tempo1 emulation mode \n",
      "************************************************* \n",
      "\n"
     ]
    },
    {
     "name": "stderr",
     "output_type": "stream",
     "text": [
      "/tmp/ipykernel_8229/2184178469.py:98: DeprecationWarning: distutils Version classes are deprecated. Use packaging.version instead.\n",
      "  weak_ft=T.tempopulsar('Perfect_Model.par','iteration_sub.tim')\n"
     ]
    },
    {
     "name": "stdout",
     "output_type": "stream",
     "text": [
      "spr************************************************* \n",
      "Warning: you are running in tempo1 emulation mode \n",
      "************************************************* \n",
      "\n"
     ]
    },
    {
     "name": "stderr",
     "output_type": "stream",
     "text": [
      "/tmp/ipykernel_8229/2184178469.py:98: DeprecationWarning: distutils Version classes are deprecated. Use packaging.version instead.\n",
      "  weak_ft=T.tempopulsar('Perfect_Model.par','iteration_sub.tim')\n"
     ]
    },
    {
     "name": "stdout",
     "output_type": "stream",
     "text": [
      "spr\n",
      "************************************************* \n",
      "Warning: you are running in tempo1 emulation mode \n",
      "************************************************* \n"
     ]
    },
    {
     "name": "stderr",
     "output_type": "stream",
     "text": [
      "/tmp/ipykernel_8229/2184178469.py:98: DeprecationWarning: distutils Version classes are deprecated. Use packaging.version instead.\n",
      "  weak_ft=T.tempopulsar('Perfect_Model.par','iteration_sub.tim')\n"
     ]
    },
    {
     "name": "stdout",
     "output_type": "stream",
     "text": [
      "spr************************************************* \n",
      "Warning: you are running in tempo1 emulation mode \n",
      "************************************************* \n",
      "\n"
     ]
    },
    {
     "name": "stderr",
     "output_type": "stream",
     "text": [
      "/tmp/ipykernel_8229/2184178469.py:98: DeprecationWarning: distutils Version classes are deprecated. Use packaging.version instead.\n",
      "  weak_ft=T.tempopulsar('Perfect_Model.par','iteration_sub.tim')\n"
     ]
    },
    {
     "name": "stdout",
     "output_type": "stream",
     "text": [
      "spr************************************************* \n",
      "Warning: you are running in tempo1 emulation mode \n",
      "************************************************* \n",
      "\n",
      "iteration: 70\n",
      "************************************************* \n",
      "Warning: you are running in tempo1 emulation mode \n",
      "************************************************* \n",
      "************************************************* \n",
      "Warning: you are running in tempo1 emulation mode \n",
      "************************************************* \n"
     ]
    },
    {
     "name": "stderr",
     "output_type": "stream",
     "text": [
      "/tmp/ipykernel_8229/2184178469.py:98: DeprecationWarning: distutils Version classes are deprecated. Use packaging.version instead.\n",
      "  weak_ft=T.tempopulsar('Perfect_Model.par','iteration_sub.tim')\n"
     ]
    },
    {
     "name": "stdout",
     "output_type": "stream",
     "text": [
      "spr************************************************* \n",
      "Warning: you are running in tempo1 emulation mode \n",
      "************************************************* \n",
      "\n"
     ]
    },
    {
     "name": "stderr",
     "output_type": "stream",
     "text": [
      "/tmp/ipykernel_8229/2184178469.py:98: DeprecationWarning: distutils Version classes are deprecated. Use packaging.version instead.\n",
      "  weak_ft=T.tempopulsar('Perfect_Model.par','iteration_sub.tim')\n"
     ]
    },
    {
     "name": "stdout",
     "output_type": "stream",
     "text": [
      "spr************************************************* \n",
      "Warning: you are running in tempo1 emulation mode \n",
      "************************************************* \n",
      "\n"
     ]
    },
    {
     "name": "stderr",
     "output_type": "stream",
     "text": [
      "/tmp/ipykernel_8229/2184178469.py:98: DeprecationWarning: distutils Version classes are deprecated. Use packaging.version instead.\n",
      "  weak_ft=T.tempopulsar('Perfect_Model.par','iteration_sub.tim')\n"
     ]
    },
    {
     "name": "stdout",
     "output_type": "stream",
     "text": [
      "spr************************************************* \n",
      "Warning: you are running in tempo1 emulation mode \n",
      "************************************************* \n",
      "\n"
     ]
    },
    {
     "name": "stderr",
     "output_type": "stream",
     "text": [
      "/tmp/ipykernel_8229/2184178469.py:98: DeprecationWarning: distutils Version classes are deprecated. Use packaging.version instead.\n",
      "  weak_ft=T.tempopulsar('Perfect_Model.par','iteration_sub.tim')\n"
     ]
    },
    {
     "name": "stdout",
     "output_type": "stream",
     "text": [
      "spr************************************************* \n",
      "Warning: you are running in tempo1 emulation mode \n",
      "************************************************* \n",
      "\n"
     ]
    },
    {
     "name": "stderr",
     "output_type": "stream",
     "text": [
      "/tmp/ipykernel_8229/2184178469.py:98: DeprecationWarning: distutils Version classes are deprecated. Use packaging.version instead.\n",
      "  weak_ft=T.tempopulsar('Perfect_Model.par','iteration_sub.tim')\n"
     ]
    },
    {
     "name": "stdout",
     "output_type": "stream",
     "text": [
      "spr************************************************* \n",
      "Warning: you are running in tempo1 emulation mode \n",
      "************************************************* \n",
      "\n"
     ]
    },
    {
     "name": "stderr",
     "output_type": "stream",
     "text": [
      "/tmp/ipykernel_8229/2184178469.py:98: DeprecationWarning: distutils Version classes are deprecated. Use packaging.version instead.\n",
      "  weak_ft=T.tempopulsar('Perfect_Model.par','iteration_sub.tim')\n"
     ]
    },
    {
     "name": "stdout",
     "output_type": "stream",
     "text": [
      "spr************************************************* \n",
      "Warning: you are running in tempo1 emulation mode \n",
      "************************************************* \n",
      "\n"
     ]
    },
    {
     "name": "stderr",
     "output_type": "stream",
     "text": [
      "/tmp/ipykernel_8229/2184178469.py:98: DeprecationWarning: distutils Version classes are deprecated. Use packaging.version instead.\n",
      "  weak_ft=T.tempopulsar('Perfect_Model.par','iteration_sub.tim')\n"
     ]
    },
    {
     "name": "stdout",
     "output_type": "stream",
     "text": [
      "spr************************************************* \n",
      "Warning: you are running in tempo1 emulation mode \n",
      "************************************************* \n",
      "\n"
     ]
    },
    {
     "name": "stderr",
     "output_type": "stream",
     "text": [
      "/tmp/ipykernel_8229/2184178469.py:98: DeprecationWarning: distutils Version classes are deprecated. Use packaging.version instead.\n",
      "  weak_ft=T.tempopulsar('Perfect_Model.par','iteration_sub.tim')\n"
     ]
    },
    {
     "name": "stdout",
     "output_type": "stream",
     "text": [
      "spr************************************************* \n",
      "Warning: you are running in tempo1 emulation mode \n",
      "************************************************* \n",
      "\n"
     ]
    },
    {
     "name": "stderr",
     "output_type": "stream",
     "text": [
      "/tmp/ipykernel_8229/2184178469.py:98: DeprecationWarning: distutils Version classes are deprecated. Use packaging.version instead.\n",
      "  weak_ft=T.tempopulsar('Perfect_Model.par','iteration_sub.tim')\n"
     ]
    },
    {
     "name": "stdout",
     "output_type": "stream",
     "text": [
      "spr************************************************* \n",
      "Warning: you are running in tempo1 emulation mode \n",
      "************************************************* \n",
      "\n"
     ]
    },
    {
     "name": "stderr",
     "output_type": "stream",
     "text": [
      "/tmp/ipykernel_8229/2184178469.py:98: DeprecationWarning: distutils Version classes are deprecated. Use packaging.version instead.\n",
      "  weak_ft=T.tempopulsar('Perfect_Model.par','iteration_sub.tim')\n"
     ]
    },
    {
     "name": "stdout",
     "output_type": "stream",
     "text": [
      "spr************************************************* \n",
      "Warning: you are running in tempo1 emulation mode \n",
      "************************************************* \n",
      "\n",
      "iteration: 71\n",
      "************************************************* \n",
      "Warning: you are running in tempo1 emulation mode \n",
      "************************************************* \n",
      "************************************************* \n",
      "Warning: you are running in tempo1 emulation mode \n",
      "************************************************* \n"
     ]
    },
    {
     "name": "stderr",
     "output_type": "stream",
     "text": [
      "/tmp/ipykernel_8229/2184178469.py:98: DeprecationWarning: distutils Version classes are deprecated. Use packaging.version instead.\n",
      "  weak_ft=T.tempopulsar('Perfect_Model.par','iteration_sub.tim')\n"
     ]
    },
    {
     "name": "stdout",
     "output_type": "stream",
     "text": [
      "spr************************************************* \n",
      "Warning: you are running in tempo1 emulation mode \n",
      "************************************************* \n",
      "\n"
     ]
    },
    {
     "name": "stderr",
     "output_type": "stream",
     "text": [
      "/tmp/ipykernel_8229/2184178469.py:98: DeprecationWarning: distutils Version classes are deprecated. Use packaging.version instead.\n",
      "  weak_ft=T.tempopulsar('Perfect_Model.par','iteration_sub.tim')\n"
     ]
    },
    {
     "name": "stdout",
     "output_type": "stream",
     "text": [
      "spr************************************************* \n",
      "Warning: you are running in tempo1 emulation mode \n",
      "************************************************* \n",
      "\n"
     ]
    },
    {
     "name": "stderr",
     "output_type": "stream",
     "text": [
      "/tmp/ipykernel_8229/2184178469.py:98: DeprecationWarning: distutils Version classes are deprecated. Use packaging.version instead.\n",
      "  weak_ft=T.tempopulsar('Perfect_Model.par','iteration_sub.tim')\n"
     ]
    },
    {
     "name": "stdout",
     "output_type": "stream",
     "text": [
      "spr************************************************* \n",
      "Warning: you are running in tempo1 emulation mode \n",
      "************************************************* \n",
      "\n"
     ]
    },
    {
     "name": "stderr",
     "output_type": "stream",
     "text": [
      "/tmp/ipykernel_8229/2184178469.py:98: DeprecationWarning: distutils Version classes are deprecated. Use packaging.version instead.\n",
      "  weak_ft=T.tempopulsar('Perfect_Model.par','iteration_sub.tim')\n"
     ]
    },
    {
     "name": "stdout",
     "output_type": "stream",
     "text": [
      "spr************************************************* \n",
      "Warning: you are running in tempo1 emulation mode \n",
      "************************************************* \n",
      "\n"
     ]
    },
    {
     "name": "stderr",
     "output_type": "stream",
     "text": [
      "/tmp/ipykernel_8229/2184178469.py:98: DeprecationWarning: distutils Version classes are deprecated. Use packaging.version instead.\n",
      "  weak_ft=T.tempopulsar('Perfect_Model.par','iteration_sub.tim')\n"
     ]
    },
    {
     "name": "stdout",
     "output_type": "stream",
     "text": [
      "spr************************************************* \n",
      "Warning: you are running in tempo1 emulation mode \n",
      "************************************************* \n",
      "\n"
     ]
    },
    {
     "name": "stderr",
     "output_type": "stream",
     "text": [
      "/tmp/ipykernel_8229/2184178469.py:98: DeprecationWarning: distutils Version classes are deprecated. Use packaging.version instead.\n",
      "  weak_ft=T.tempopulsar('Perfect_Model.par','iteration_sub.tim')\n"
     ]
    },
    {
     "name": "stdout",
     "output_type": "stream",
     "text": [
      "spr************************************************* \n",
      "Warning: you are running in tempo1 emulation mode \n",
      "************************************************* \n",
      "\n"
     ]
    },
    {
     "name": "stderr",
     "output_type": "stream",
     "text": [
      "/tmp/ipykernel_8229/2184178469.py:98: DeprecationWarning: distutils Version classes are deprecated. Use packaging.version instead.\n",
      "  weak_ft=T.tempopulsar('Perfect_Model.par','iteration_sub.tim')\n"
     ]
    },
    {
     "name": "stdout",
     "output_type": "stream",
     "text": [
      "spr************************************************* \n",
      "Warning: you are running in tempo1 emulation mode \n",
      "************************************************* \n",
      "\n"
     ]
    },
    {
     "name": "stderr",
     "output_type": "stream",
     "text": [
      "/tmp/ipykernel_8229/2184178469.py:98: DeprecationWarning: distutils Version classes are deprecated. Use packaging.version instead.\n",
      "  weak_ft=T.tempopulsar('Perfect_Model.par','iteration_sub.tim')\n"
     ]
    },
    {
     "name": "stdout",
     "output_type": "stream",
     "text": [
      "spr************************************************* \n",
      "Warning: you are running in tempo1 emulation mode \n",
      "************************************************* \n",
      "\n"
     ]
    },
    {
     "name": "stderr",
     "output_type": "stream",
     "text": [
      "/tmp/ipykernel_8229/2184178469.py:98: DeprecationWarning: distutils Version classes are deprecated. Use packaging.version instead.\n",
      "  weak_ft=T.tempopulsar('Perfect_Model.par','iteration_sub.tim')\n"
     ]
    },
    {
     "name": "stdout",
     "output_type": "stream",
     "text": [
      "spr************************************************* \n",
      "Warning: you are running in tempo1 emulation mode \n",
      "************************************************* \n",
      "\n"
     ]
    },
    {
     "name": "stderr",
     "output_type": "stream",
     "text": [
      "/tmp/ipykernel_8229/2184178469.py:98: DeprecationWarning: distutils Version classes are deprecated. Use packaging.version instead.\n",
      "  weak_ft=T.tempopulsar('Perfect_Model.par','iteration_sub.tim')\n"
     ]
    },
    {
     "name": "stdout",
     "output_type": "stream",
     "text": [
      "spr************************************************* \n",
      "Warning: you are running in tempo1 emulation mode \n",
      "************************************************* \n",
      "\n",
      "iteration: 72\n",
      "************************************************* \n",
      "Warning: you are running in tempo1 emulation mode \n",
      "************************************************* \n",
      "************************************************* \n",
      "Warning: you are running in tempo1 emulation mode \n",
      "************************************************* \n"
     ]
    },
    {
     "name": "stderr",
     "output_type": "stream",
     "text": [
      "/tmp/ipykernel_8229/2184178469.py:98: DeprecationWarning: distutils Version classes are deprecated. Use packaging.version instead.\n",
      "  weak_ft=T.tempopulsar('Perfect_Model.par','iteration_sub.tim')\n"
     ]
    },
    {
     "name": "stdout",
     "output_type": "stream",
     "text": [
      "spr************************************************* \n",
      "Warning: you are running in tempo1 emulation mode \n",
      "************************************************* \n",
      "\n"
     ]
    },
    {
     "name": "stderr",
     "output_type": "stream",
     "text": [
      "/tmp/ipykernel_8229/2184178469.py:98: DeprecationWarning: distutils Version classes are deprecated. Use packaging.version instead.\n",
      "  weak_ft=T.tempopulsar('Perfect_Model.par','iteration_sub.tim')\n"
     ]
    },
    {
     "name": "stdout",
     "output_type": "stream",
     "text": [
      "spr\n",
      "************************************************* \n",
      "Warning: you are running in tempo1 emulation mode \n",
      "************************************************* \n"
     ]
    },
    {
     "name": "stderr",
     "output_type": "stream",
     "text": [
      "/tmp/ipykernel_8229/2184178469.py:98: DeprecationWarning: distutils Version classes are deprecated. Use packaging.version instead.\n",
      "  weak_ft=T.tempopulsar('Perfect_Model.par','iteration_sub.tim')\n"
     ]
    },
    {
     "name": "stdout",
     "output_type": "stream",
     "text": [
      "spr************************************************* \n",
      "Warning: you are running in tempo1 emulation mode \n",
      "************************************************* \n",
      "\n"
     ]
    },
    {
     "name": "stderr",
     "output_type": "stream",
     "text": [
      "/tmp/ipykernel_8229/2184178469.py:98: DeprecationWarning: distutils Version classes are deprecated. Use packaging.version instead.\n",
      "  weak_ft=T.tempopulsar('Perfect_Model.par','iteration_sub.tim')\n"
     ]
    },
    {
     "name": "stdout",
     "output_type": "stream",
     "text": [
      "spr************************************************* \n",
      "Warning: you are running in tempo1 emulation mode \n",
      "************************************************* \n",
      "\n"
     ]
    },
    {
     "name": "stderr",
     "output_type": "stream",
     "text": [
      "/tmp/ipykernel_8229/2184178469.py:98: DeprecationWarning: distutils Version classes are deprecated. Use packaging.version instead.\n",
      "  weak_ft=T.tempopulsar('Perfect_Model.par','iteration_sub.tim')\n"
     ]
    },
    {
     "name": "stdout",
     "output_type": "stream",
     "text": [
      "spr************************************************* \n",
      "Warning: you are running in tempo1 emulation mode \n",
      "************************************************* \n",
      "\n"
     ]
    },
    {
     "name": "stderr",
     "output_type": "stream",
     "text": [
      "/tmp/ipykernel_8229/2184178469.py:98: DeprecationWarning: distutils Version classes are deprecated. Use packaging.version instead.\n",
      "  weak_ft=T.tempopulsar('Perfect_Model.par','iteration_sub.tim')\n"
     ]
    },
    {
     "name": "stdout",
     "output_type": "stream",
     "text": [
      "spr************************************************* \n",
      "Warning: you are running in tempo1 emulation mode \n",
      "************************************************* \n",
      "\n"
     ]
    },
    {
     "name": "stderr",
     "output_type": "stream",
     "text": [
      "/tmp/ipykernel_8229/2184178469.py:98: DeprecationWarning: distutils Version classes are deprecated. Use packaging.version instead.\n",
      "  weak_ft=T.tempopulsar('Perfect_Model.par','iteration_sub.tim')\n"
     ]
    },
    {
     "name": "stdout",
     "output_type": "stream",
     "text": [
      "spr************************************************* \n",
      "Warning: you are running in tempo1 emulation mode \n",
      "************************************************* \n",
      "\n"
     ]
    },
    {
     "name": "stderr",
     "output_type": "stream",
     "text": [
      "/tmp/ipykernel_8229/2184178469.py:98: DeprecationWarning: distutils Version classes are deprecated. Use packaging.version instead.\n",
      "  weak_ft=T.tempopulsar('Perfect_Model.par','iteration_sub.tim')\n"
     ]
    },
    {
     "name": "stdout",
     "output_type": "stream",
     "text": [
      "spr************************************************* \n",
      "Warning: you are running in tempo1 emulation mode \n",
      "************************************************* \n",
      "\n"
     ]
    },
    {
     "name": "stderr",
     "output_type": "stream",
     "text": [
      "/tmp/ipykernel_8229/2184178469.py:98: DeprecationWarning: distutils Version classes are deprecated. Use packaging.version instead.\n",
      "  weak_ft=T.tempopulsar('Perfect_Model.par','iteration_sub.tim')\n"
     ]
    },
    {
     "name": "stdout",
     "output_type": "stream",
     "text": [
      "spr************************************************* \n",
      "Warning: you are running in tempo1 emulation mode \n",
      "************************************************* \n",
      "\n"
     ]
    },
    {
     "name": "stderr",
     "output_type": "stream",
     "text": [
      "/tmp/ipykernel_8229/2184178469.py:98: DeprecationWarning: distutils Version classes are deprecated. Use packaging.version instead.\n",
      "  weak_ft=T.tempopulsar('Perfect_Model.par','iteration_sub.tim')\n"
     ]
    },
    {
     "name": "stdout",
     "output_type": "stream",
     "text": [
      "************************************************* \n",
      "Warning: you are running in tempo1 emulation mode \n",
      "************************************************* \n",
      "spr\n",
      "iteration: 73\n",
      "************************************************* \n",
      "Warning: you are running in tempo1 emulation mode \n",
      "************************************************* \n",
      "************************************************* \n",
      "Warning: you are running in tempo1 emulation mode \n",
      "************************************************* \n"
     ]
    },
    {
     "name": "stderr",
     "output_type": "stream",
     "text": [
      "/tmp/ipykernel_8229/2184178469.py:98: DeprecationWarning: distutils Version classes are deprecated. Use packaging.version instead.\n",
      "  weak_ft=T.tempopulsar('Perfect_Model.par','iteration_sub.tim')\n"
     ]
    },
    {
     "name": "stdout",
     "output_type": "stream",
     "text": [
      "************************************************* \n",
      "Warning: you are running in tempo1 emulation mode \n",
      "************************************************* \n",
      "spr\n"
     ]
    },
    {
     "name": "stderr",
     "output_type": "stream",
     "text": [
      "/tmp/ipykernel_8229/2184178469.py:98: DeprecationWarning: distutils Version classes are deprecated. Use packaging.version instead.\n",
      "  weak_ft=T.tempopulsar('Perfect_Model.par','iteration_sub.tim')\n"
     ]
    },
    {
     "name": "stdout",
     "output_type": "stream",
     "text": [
      "spr************************************************* \n",
      "Warning: you are running in tempo1 emulation mode \n",
      "************************************************* \n",
      "\n"
     ]
    },
    {
     "name": "stderr",
     "output_type": "stream",
     "text": [
      "/tmp/ipykernel_8229/2184178469.py:98: DeprecationWarning: distutils Version classes are deprecated. Use packaging.version instead.\n",
      "  weak_ft=T.tempopulsar('Perfect_Model.par','iteration_sub.tim')\n"
     ]
    },
    {
     "name": "stdout",
     "output_type": "stream",
     "text": [
      "spr************************************************* \n",
      "Warning: you are running in tempo1 emulation mode \n",
      "************************************************* \n",
      "\n"
     ]
    },
    {
     "name": "stderr",
     "output_type": "stream",
     "text": [
      "/tmp/ipykernel_8229/2184178469.py:98: DeprecationWarning: distutils Version classes are deprecated. Use packaging.version instead.\n",
      "  weak_ft=T.tempopulsar('Perfect_Model.par','iteration_sub.tim')\n"
     ]
    },
    {
     "name": "stdout",
     "output_type": "stream",
     "text": [
      "spr************************************************* \n",
      "Warning: you are running in tempo1 emulation mode \n",
      "************************************************* \n",
      "\n"
     ]
    },
    {
     "name": "stderr",
     "output_type": "stream",
     "text": [
      "/tmp/ipykernel_8229/2184178469.py:98: DeprecationWarning: distutils Version classes are deprecated. Use packaging.version instead.\n",
      "  weak_ft=T.tempopulsar('Perfect_Model.par','iteration_sub.tim')\n"
     ]
    },
    {
     "name": "stdout",
     "output_type": "stream",
     "text": [
      "************************************************* \n",
      "Warning: you are running in tempo1 emulation mode \n",
      "************************************************* \n",
      "spr\n"
     ]
    },
    {
     "name": "stderr",
     "output_type": "stream",
     "text": [
      "/tmp/ipykernel_8229/2184178469.py:98: DeprecationWarning: distutils Version classes are deprecated. Use packaging.version instead.\n",
      "  weak_ft=T.tempopulsar('Perfect_Model.par','iteration_sub.tim')\n"
     ]
    },
    {
     "name": "stdout",
     "output_type": "stream",
     "text": [
      "************************************************* \n",
      "Warning: you are running in tempo1 emulation mode \n",
      "************************************************* \n",
      "spr\n"
     ]
    },
    {
     "name": "stderr",
     "output_type": "stream",
     "text": [
      "/tmp/ipykernel_8229/2184178469.py:98: DeprecationWarning: distutils Version classes are deprecated. Use packaging.version instead.\n",
      "  weak_ft=T.tempopulsar('Perfect_Model.par','iteration_sub.tim')\n"
     ]
    },
    {
     "name": "stdout",
     "output_type": "stream",
     "text": [
      "spr************************************************* \n",
      "Warning: you are running in tempo1 emulation mode \n",
      "************************************************* \n",
      "\n"
     ]
    },
    {
     "name": "stderr",
     "output_type": "stream",
     "text": [
      "/tmp/ipykernel_8229/2184178469.py:98: DeprecationWarning: distutils Version classes are deprecated. Use packaging.version instead.\n",
      "  weak_ft=T.tempopulsar('Perfect_Model.par','iteration_sub.tim')\n"
     ]
    },
    {
     "name": "stdout",
     "output_type": "stream",
     "text": [
      "spr************************************************* \n",
      "Warning: you are running in tempo1 emulation mode \n",
      "************************************************* \n",
      "\n"
     ]
    },
    {
     "name": "stderr",
     "output_type": "stream",
     "text": [
      "/tmp/ipykernel_8229/2184178469.py:98: DeprecationWarning: distutils Version classes are deprecated. Use packaging.version instead.\n",
      "  weak_ft=T.tempopulsar('Perfect_Model.par','iteration_sub.tim')\n"
     ]
    },
    {
     "name": "stdout",
     "output_type": "stream",
     "text": [
      "spr\n",
      "************************************************* \n",
      "Warning: you are running in tempo1 emulation mode \n",
      "************************************************* \n"
     ]
    },
    {
     "name": "stderr",
     "output_type": "stream",
     "text": [
      "/tmp/ipykernel_8229/2184178469.py:98: DeprecationWarning: distutils Version classes are deprecated. Use packaging.version instead.\n",
      "  weak_ft=T.tempopulsar('Perfect_Model.par','iteration_sub.tim')\n"
     ]
    },
    {
     "name": "stdout",
     "output_type": "stream",
     "text": [
      "spr************************************************* \n",
      "Warning: you are running in tempo1 emulation mode \n",
      "************************************************* \n",
      "\n",
      "iteration: 74\n",
      "************************************************* \n",
      "Warning: you are running in tempo1 emulation mode \n",
      "************************************************* \n",
      "************************************************* \n",
      "Warning: you are running in tempo1 emulation mode \n",
      "************************************************* \n"
     ]
    },
    {
     "name": "stderr",
     "output_type": "stream",
     "text": [
      "/tmp/ipykernel_8229/2184178469.py:98: DeprecationWarning: distutils Version classes are deprecated. Use packaging.version instead.\n",
      "  weak_ft=T.tempopulsar('Perfect_Model.par','iteration_sub.tim')\n"
     ]
    },
    {
     "name": "stdout",
     "output_type": "stream",
     "text": [
      "spr************************************************* \n",
      "Warning: you are running in tempo1 emulation mode \n",
      "************************************************* \n",
      "\n"
     ]
    },
    {
     "name": "stderr",
     "output_type": "stream",
     "text": [
      "/tmp/ipykernel_8229/2184178469.py:98: DeprecationWarning: distutils Version classes are deprecated. Use packaging.version instead.\n",
      "  weak_ft=T.tempopulsar('Perfect_Model.par','iteration_sub.tim')\n"
     ]
    },
    {
     "name": "stdout",
     "output_type": "stream",
     "text": [
      "spr************************************************* \n",
      "Warning: you are running in tempo1 emulation mode \n",
      "************************************************* \n",
      "\n"
     ]
    },
    {
     "name": "stderr",
     "output_type": "stream",
     "text": [
      "/tmp/ipykernel_8229/2184178469.py:98: DeprecationWarning: distutils Version classes are deprecated. Use packaging.version instead.\n",
      "  weak_ft=T.tempopulsar('Perfect_Model.par','iteration_sub.tim')\n"
     ]
    },
    {
     "name": "stdout",
     "output_type": "stream",
     "text": [
      "spr************************************************* \n",
      "Warning: you are running in tempo1 emulation mode \n",
      "************************************************* \n",
      "\n"
     ]
    },
    {
     "name": "stderr",
     "output_type": "stream",
     "text": [
      "/tmp/ipykernel_8229/2184178469.py:98: DeprecationWarning: distutils Version classes are deprecated. Use packaging.version instead.\n",
      "  weak_ft=T.tempopulsar('Perfect_Model.par','iteration_sub.tim')\n"
     ]
    },
    {
     "name": "stdout",
     "output_type": "stream",
     "text": [
      "spr************************************************* \n",
      "Warning: you are running in tempo1 emulation mode \n",
      "************************************************* \n",
      "\n"
     ]
    },
    {
     "name": "stderr",
     "output_type": "stream",
     "text": [
      "/tmp/ipykernel_8229/2184178469.py:98: DeprecationWarning: distutils Version classes are deprecated. Use packaging.version instead.\n",
      "  weak_ft=T.tempopulsar('Perfect_Model.par','iteration_sub.tim')\n"
     ]
    },
    {
     "name": "stdout",
     "output_type": "stream",
     "text": [
      "spr************************************************* \n",
      "Warning: you are running in tempo1 emulation mode \n",
      "************************************************* \n",
      "\n"
     ]
    },
    {
     "name": "stderr",
     "output_type": "stream",
     "text": [
      "/tmp/ipykernel_8229/2184178469.py:98: DeprecationWarning: distutils Version classes are deprecated. Use packaging.version instead.\n",
      "  weak_ft=T.tempopulsar('Perfect_Model.par','iteration_sub.tim')\n"
     ]
    },
    {
     "name": "stdout",
     "output_type": "stream",
     "text": [
      "spr************************************************* \n",
      "Warning: you are running in tempo1 emulation mode \n",
      "************************************************* \n",
      "\n"
     ]
    },
    {
     "name": "stderr",
     "output_type": "stream",
     "text": [
      "/tmp/ipykernel_8229/2184178469.py:98: DeprecationWarning: distutils Version classes are deprecated. Use packaging.version instead.\n",
      "  weak_ft=T.tempopulsar('Perfect_Model.par','iteration_sub.tim')\n"
     ]
    },
    {
     "name": "stdout",
     "output_type": "stream",
     "text": [
      "spr************************************************* \n",
      "Warning: you are running in tempo1 emulation mode \n",
      "************************************************* \n",
      "\n"
     ]
    },
    {
     "name": "stderr",
     "output_type": "stream",
     "text": [
      "/tmp/ipykernel_8229/2184178469.py:98: DeprecationWarning: distutils Version classes are deprecated. Use packaging.version instead.\n",
      "  weak_ft=T.tempopulsar('Perfect_Model.par','iteration_sub.tim')\n"
     ]
    },
    {
     "name": "stdout",
     "output_type": "stream",
     "text": [
      "spr************************************************* \n",
      "Warning: you are running in tempo1 emulation mode \n",
      "************************************************* \n",
      "\n"
     ]
    },
    {
     "name": "stderr",
     "output_type": "stream",
     "text": [
      "/tmp/ipykernel_8229/2184178469.py:98: DeprecationWarning: distutils Version classes are deprecated. Use packaging.version instead.\n",
      "  weak_ft=T.tempopulsar('Perfect_Model.par','iteration_sub.tim')\n"
     ]
    },
    {
     "name": "stdout",
     "output_type": "stream",
     "text": [
      "spr************************************************* \n",
      "Warning: you are running in tempo1 emulation mode \n",
      "************************************************* \n",
      "\n"
     ]
    },
    {
     "name": "stderr",
     "output_type": "stream",
     "text": [
      "/tmp/ipykernel_8229/2184178469.py:98: DeprecationWarning: distutils Version classes are deprecated. Use packaging.version instead.\n",
      "  weak_ft=T.tempopulsar('Perfect_Model.par','iteration_sub.tim')\n"
     ]
    },
    {
     "name": "stdout",
     "output_type": "stream",
     "text": [
      "spr************************************************* \n",
      "Warning: you are running in tempo1 emulation mode \n",
      "************************************************* \n",
      "\n",
      "iteration: 75\n",
      "************************************************* \n",
      "Warning: you are running in tempo1 emulation mode \n",
      "************************************************* \n",
      "************************************************* \n",
      "Warning: you are running in tempo1 emulation mode \n",
      "************************************************* \n"
     ]
    },
    {
     "name": "stderr",
     "output_type": "stream",
     "text": [
      "/tmp/ipykernel_8229/2184178469.py:98: DeprecationWarning: distutils Version classes are deprecated. Use packaging.version instead.\n",
      "  weak_ft=T.tempopulsar('Perfect_Model.par','iteration_sub.tim')\n"
     ]
    },
    {
     "name": "stdout",
     "output_type": "stream",
     "text": [
      "************************************************* \n",
      "Warning: you are running in tempo1 emulation mode \n",
      "************************************************* \n",
      "spr\n"
     ]
    },
    {
     "name": "stderr",
     "output_type": "stream",
     "text": [
      "/tmp/ipykernel_8229/2184178469.py:98: DeprecationWarning: distutils Version classes are deprecated. Use packaging.version instead.\n",
      "  weak_ft=T.tempopulsar('Perfect_Model.par','iteration_sub.tim')\n"
     ]
    },
    {
     "name": "stdout",
     "output_type": "stream",
     "text": [
      "spr************************************************* \n",
      "Warning: you are running in tempo1 emulation mode \n",
      "************************************************* \n",
      "\n"
     ]
    },
    {
     "name": "stderr",
     "output_type": "stream",
     "text": [
      "/tmp/ipykernel_8229/2184178469.py:98: DeprecationWarning: distutils Version classes are deprecated. Use packaging.version instead.\n",
      "  weak_ft=T.tempopulsar('Perfect_Model.par','iteration_sub.tim')\n"
     ]
    },
    {
     "name": "stdout",
     "output_type": "stream",
     "text": [
      "spr\n",
      "************************************************* \n",
      "Warning: you are running in tempo1 emulation mode \n",
      "************************************************* \n"
     ]
    },
    {
     "name": "stderr",
     "output_type": "stream",
     "text": [
      "/tmp/ipykernel_8229/2184178469.py:98: DeprecationWarning: distutils Version classes are deprecated. Use packaging.version instead.\n",
      "  weak_ft=T.tempopulsar('Perfect_Model.par','iteration_sub.tim')\n"
     ]
    },
    {
     "name": "stdout",
     "output_type": "stream",
     "text": [
      "spr************************************************* \n",
      "Warning: you are running in tempo1 emulation mode \n",
      "************************************************* \n",
      "\n"
     ]
    },
    {
     "name": "stderr",
     "output_type": "stream",
     "text": [
      "/tmp/ipykernel_8229/2184178469.py:98: DeprecationWarning: distutils Version classes are deprecated. Use packaging.version instead.\n",
      "  weak_ft=T.tempopulsar('Perfect_Model.par','iteration_sub.tim')\n"
     ]
    },
    {
     "name": "stdout",
     "output_type": "stream",
     "text": [
      "spr************************************************* \n",
      "Warning: you are running in tempo1 emulation mode \n",
      "************************************************* \n",
      "\n"
     ]
    },
    {
     "name": "stderr",
     "output_type": "stream",
     "text": [
      "/tmp/ipykernel_8229/2184178469.py:98: DeprecationWarning: distutils Version classes are deprecated. Use packaging.version instead.\n",
      "  weak_ft=T.tempopulsar('Perfect_Model.par','iteration_sub.tim')\n"
     ]
    },
    {
     "name": "stdout",
     "output_type": "stream",
     "text": [
      "************************************************* \n",
      "Warning: you are running in tempo1 emulation mode \n",
      "************************************************* \n",
      "spr\n"
     ]
    },
    {
     "name": "stderr",
     "output_type": "stream",
     "text": [
      "/tmp/ipykernel_8229/2184178469.py:98: DeprecationWarning: distutils Version classes are deprecated. Use packaging.version instead.\n",
      "  weak_ft=T.tempopulsar('Perfect_Model.par','iteration_sub.tim')\n"
     ]
    },
    {
     "name": "stdout",
     "output_type": "stream",
     "text": [
      "spr************************************************* \n",
      "Warning: you are running in tempo1 emulation mode \n",
      "************************************************* \n",
      "\n"
     ]
    },
    {
     "name": "stderr",
     "output_type": "stream",
     "text": [
      "/tmp/ipykernel_8229/2184178469.py:98: DeprecationWarning: distutils Version classes are deprecated. Use packaging.version instead.\n",
      "  weak_ft=T.tempopulsar('Perfect_Model.par','iteration_sub.tim')\n"
     ]
    },
    {
     "name": "stdout",
     "output_type": "stream",
     "text": [
      "spr************************************************* \n",
      "Warning: you are running in tempo1 emulation mode \n",
      "************************************************* \n",
      "\n"
     ]
    },
    {
     "name": "stderr",
     "output_type": "stream",
     "text": [
      "/tmp/ipykernel_8229/2184178469.py:98: DeprecationWarning: distutils Version classes are deprecated. Use packaging.version instead.\n",
      "  weak_ft=T.tempopulsar('Perfect_Model.par','iteration_sub.tim')\n"
     ]
    },
    {
     "name": "stdout",
     "output_type": "stream",
     "text": [
      "************************************************* \n",
      "Warning: you are running in tempo1 emulation mode \n",
      "************************************************* \n",
      "spr\n"
     ]
    },
    {
     "name": "stderr",
     "output_type": "stream",
     "text": [
      "/tmp/ipykernel_8229/2184178469.py:98: DeprecationWarning: distutils Version classes are deprecated. Use packaging.version instead.\n",
      "  weak_ft=T.tempopulsar('Perfect_Model.par','iteration_sub.tim')\n"
     ]
    },
    {
     "name": "stdout",
     "output_type": "stream",
     "text": [
      "spr************************************************* \n",
      "Warning: you are running in tempo1 emulation mode \n",
      "************************************************* \n",
      "\n",
      "iteration: 76\n",
      "************************************************* \n",
      "Warning: you are running in tempo1 emulation mode \n",
      "************************************************* \n",
      "************************************************* \n",
      "Warning: you are running in tempo1 emulation mode \n",
      "************************************************* \n"
     ]
    },
    {
     "name": "stderr",
     "output_type": "stream",
     "text": [
      "/tmp/ipykernel_8229/2184178469.py:98: DeprecationWarning: distutils Version classes are deprecated. Use packaging.version instead.\n",
      "  weak_ft=T.tempopulsar('Perfect_Model.par','iteration_sub.tim')\n"
     ]
    },
    {
     "name": "stdout",
     "output_type": "stream",
     "text": [
      "spr************************************************* \n",
      "Warning: you are running in tempo1 emulation mode \n",
      "************************************************* \n",
      "\n"
     ]
    },
    {
     "name": "stderr",
     "output_type": "stream",
     "text": [
      "/tmp/ipykernel_8229/2184178469.py:98: DeprecationWarning: distutils Version classes are deprecated. Use packaging.version instead.\n",
      "  weak_ft=T.tempopulsar('Perfect_Model.par','iteration_sub.tim')\n"
     ]
    },
    {
     "name": "stdout",
     "output_type": "stream",
     "text": [
      "************************************************* \n",
      "Warning: you are running in tempo1 emulation mode \n",
      "************************************************* \n",
      "spr\n"
     ]
    },
    {
     "name": "stderr",
     "output_type": "stream",
     "text": [
      "/tmp/ipykernel_8229/2184178469.py:98: DeprecationWarning: distutils Version classes are deprecated. Use packaging.version instead.\n",
      "  weak_ft=T.tempopulsar('Perfect_Model.par','iteration_sub.tim')\n"
     ]
    },
    {
     "name": "stdout",
     "output_type": "stream",
     "text": [
      "************************************************* \n",
      "Warning: you are running in tempo1 emulation mode \n",
      "************************************************* \n",
      "spr\n"
     ]
    },
    {
     "name": "stderr",
     "output_type": "stream",
     "text": [
      "/tmp/ipykernel_8229/2184178469.py:98: DeprecationWarning: distutils Version classes are deprecated. Use packaging.version instead.\n",
      "  weak_ft=T.tempopulsar('Perfect_Model.par','iteration_sub.tim')\n"
     ]
    },
    {
     "name": "stdout",
     "output_type": "stream",
     "text": [
      "spr************************************************* \n",
      "Warning: you are running in tempo1 emulation mode \n",
      "************************************************* \n",
      "\n"
     ]
    },
    {
     "name": "stderr",
     "output_type": "stream",
     "text": [
      "/tmp/ipykernel_8229/2184178469.py:98: DeprecationWarning: distutils Version classes are deprecated. Use packaging.version instead.\n",
      "  weak_ft=T.tempopulsar('Perfect_Model.par','iteration_sub.tim')\n"
     ]
    },
    {
     "name": "stdout",
     "output_type": "stream",
     "text": [
      "spr************************************************* \n",
      "Warning: you are running in tempo1 emulation mode \n",
      "************************************************* \n",
      "\n"
     ]
    },
    {
     "name": "stderr",
     "output_type": "stream",
     "text": [
      "/tmp/ipykernel_8229/2184178469.py:98: DeprecationWarning: distutils Version classes are deprecated. Use packaging.version instead.\n",
      "  weak_ft=T.tempopulsar('Perfect_Model.par','iteration_sub.tim')\n"
     ]
    },
    {
     "name": "stdout",
     "output_type": "stream",
     "text": [
      "spr************************************************* \n",
      "Warning: you are running in tempo1 emulation mode \n",
      "************************************************* \n",
      "\n"
     ]
    },
    {
     "name": "stderr",
     "output_type": "stream",
     "text": [
      "/tmp/ipykernel_8229/2184178469.py:98: DeprecationWarning: distutils Version classes are deprecated. Use packaging.version instead.\n",
      "  weak_ft=T.tempopulsar('Perfect_Model.par','iteration_sub.tim')\n"
     ]
    },
    {
     "name": "stdout",
     "output_type": "stream",
     "text": [
      "spr************************************************* \n",
      "Warning: you are running in tempo1 emulation mode \n",
      "************************************************* \n",
      "\n"
     ]
    },
    {
     "name": "stderr",
     "output_type": "stream",
     "text": [
      "/tmp/ipykernel_8229/2184178469.py:98: DeprecationWarning: distutils Version classes are deprecated. Use packaging.version instead.\n",
      "  weak_ft=T.tempopulsar('Perfect_Model.par','iteration_sub.tim')\n"
     ]
    },
    {
     "name": "stdout",
     "output_type": "stream",
     "text": [
      "spr************************************************* \n",
      "Warning: you are running in tempo1 emulation mode \n",
      "************************************************* \n",
      "\n"
     ]
    },
    {
     "name": "stderr",
     "output_type": "stream",
     "text": [
      "/tmp/ipykernel_8229/2184178469.py:98: DeprecationWarning: distutils Version classes are deprecated. Use packaging.version instead.\n",
      "  weak_ft=T.tempopulsar('Perfect_Model.par','iteration_sub.tim')\n"
     ]
    },
    {
     "name": "stdout",
     "output_type": "stream",
     "text": [
      "spr************************************************* \n",
      "Warning: you are running in tempo1 emulation mode \n",
      "************************************************* \n",
      "\n"
     ]
    },
    {
     "name": "stderr",
     "output_type": "stream",
     "text": [
      "/tmp/ipykernel_8229/2184178469.py:98: DeprecationWarning: distutils Version classes are deprecated. Use packaging.version instead.\n",
      "  weak_ft=T.tempopulsar('Perfect_Model.par','iteration_sub.tim')\n"
     ]
    },
    {
     "name": "stdout",
     "output_type": "stream",
     "text": [
      "************************************************* \n",
      "Warning: you are running in tempo1 emulation mode \n",
      "************************************************* \n",
      "spr\n",
      "iteration: 77\n",
      "************************************************* \n",
      "Warning: you are running in tempo1 emulation mode \n",
      "************************************************* \n",
      "************************************************* \n",
      "Warning: you are running in tempo1 emulation mode \n",
      "************************************************* \n"
     ]
    },
    {
     "name": "stderr",
     "output_type": "stream",
     "text": [
      "/tmp/ipykernel_8229/2184178469.py:98: DeprecationWarning: distutils Version classes are deprecated. Use packaging.version instead.\n",
      "  weak_ft=T.tempopulsar('Perfect_Model.par','iteration_sub.tim')\n"
     ]
    },
    {
     "name": "stdout",
     "output_type": "stream",
     "text": [
      "spr************************************************* \n",
      "Warning: you are running in tempo1 emulation mode \n",
      "************************************************* \n",
      "\n"
     ]
    },
    {
     "name": "stderr",
     "output_type": "stream",
     "text": [
      "/tmp/ipykernel_8229/2184178469.py:98: DeprecationWarning: distutils Version classes are deprecated. Use packaging.version instead.\n",
      "  weak_ft=T.tempopulsar('Perfect_Model.par','iteration_sub.tim')\n"
     ]
    },
    {
     "name": "stdout",
     "output_type": "stream",
     "text": [
      "spr************************************************* \n",
      "Warning: you are running in tempo1 emulation mode \n",
      "************************************************* \n",
      "\n"
     ]
    },
    {
     "name": "stderr",
     "output_type": "stream",
     "text": [
      "/tmp/ipykernel_8229/2184178469.py:98: DeprecationWarning: distutils Version classes are deprecated. Use packaging.version instead.\n",
      "  weak_ft=T.tempopulsar('Perfect_Model.par','iteration_sub.tim')\n"
     ]
    },
    {
     "name": "stdout",
     "output_type": "stream",
     "text": [
      "spr************************************************* \n",
      "Warning: you are running in tempo1 emulation mode \n",
      "************************************************* \n",
      "\n"
     ]
    },
    {
     "name": "stderr",
     "output_type": "stream",
     "text": [
      "/tmp/ipykernel_8229/2184178469.py:98: DeprecationWarning: distutils Version classes are deprecated. Use packaging.version instead.\n",
      "  weak_ft=T.tempopulsar('Perfect_Model.par','iteration_sub.tim')\n"
     ]
    },
    {
     "name": "stdout",
     "output_type": "stream",
     "text": [
      "spr************************************************* \n",
      "Warning: you are running in tempo1 emulation mode \n",
      "************************************************* \n",
      "\n"
     ]
    },
    {
     "name": "stderr",
     "output_type": "stream",
     "text": [
      "/tmp/ipykernel_8229/2184178469.py:98: DeprecationWarning: distutils Version classes are deprecated. Use packaging.version instead.\n",
      "  weak_ft=T.tempopulsar('Perfect_Model.par','iteration_sub.tim')\n"
     ]
    },
    {
     "name": "stdout",
     "output_type": "stream",
     "text": [
      "spr************************************************* \n",
      "Warning: you are running in tempo1 emulation mode \n",
      "************************************************* \n",
      "\n"
     ]
    },
    {
     "name": "stderr",
     "output_type": "stream",
     "text": [
      "/tmp/ipykernel_8229/2184178469.py:98: DeprecationWarning: distutils Version classes are deprecated. Use packaging.version instead.\n",
      "  weak_ft=T.tempopulsar('Perfect_Model.par','iteration_sub.tim')\n"
     ]
    },
    {
     "name": "stdout",
     "output_type": "stream",
     "text": [
      "spr************************************************* \n",
      "Warning: you are running in tempo1 emulation mode \n",
      "************************************************* \n",
      "\n"
     ]
    },
    {
     "name": "stderr",
     "output_type": "stream",
     "text": [
      "/tmp/ipykernel_8229/2184178469.py:98: DeprecationWarning: distutils Version classes are deprecated. Use packaging.version instead.\n",
      "  weak_ft=T.tempopulsar('Perfect_Model.par','iteration_sub.tim')\n"
     ]
    },
    {
     "name": "stdout",
     "output_type": "stream",
     "text": [
      "spr\n",
      "************************************************* \n",
      "Warning: you are running in tempo1 emulation mode \n",
      "************************************************* \n"
     ]
    },
    {
     "name": "stderr",
     "output_type": "stream",
     "text": [
      "/tmp/ipykernel_8229/2184178469.py:98: DeprecationWarning: distutils Version classes are deprecated. Use packaging.version instead.\n",
      "  weak_ft=T.tempopulsar('Perfect_Model.par','iteration_sub.tim')\n"
     ]
    },
    {
     "name": "stdout",
     "output_type": "stream",
     "text": [
      "spr************************************************* \n",
      "Warning: you are running in tempo1 emulation mode \n",
      "************************************************* \n",
      "\n"
     ]
    },
    {
     "name": "stderr",
     "output_type": "stream",
     "text": [
      "/tmp/ipykernel_8229/2184178469.py:98: DeprecationWarning: distutils Version classes are deprecated. Use packaging.version instead.\n",
      "  weak_ft=T.tempopulsar('Perfect_Model.par','iteration_sub.tim')\n"
     ]
    },
    {
     "name": "stdout",
     "output_type": "stream",
     "text": [
      "spr\n",
      "************************************************* \n",
      "Warning: you are running in tempo1 emulation mode \n",
      "************************************************* \n"
     ]
    },
    {
     "name": "stderr",
     "output_type": "stream",
     "text": [
      "/tmp/ipykernel_8229/2184178469.py:98: DeprecationWarning: distutils Version classes are deprecated. Use packaging.version instead.\n",
      "  weak_ft=T.tempopulsar('Perfect_Model.par','iteration_sub.tim')\n"
     ]
    },
    {
     "name": "stdout",
     "output_type": "stream",
     "text": [
      "************************************************* \n",
      "Warning: you are running in tempo1 emulation mode \n",
      "************************************************* \n",
      "spr\n",
      "iteration: 78\n",
      "************************************************* \n",
      "Warning: you are running in tempo1 emulation mode \n",
      "************************************************* \n",
      "************************************************* \n",
      "Warning: you are running in tempo1 emulation mode \n",
      "************************************************* \n"
     ]
    },
    {
     "name": "stderr",
     "output_type": "stream",
     "text": [
      "/tmp/ipykernel_8229/2184178469.py:98: DeprecationWarning: distutils Version classes are deprecated. Use packaging.version instead.\n",
      "  weak_ft=T.tempopulsar('Perfect_Model.par','iteration_sub.tim')\n"
     ]
    },
    {
     "name": "stdout",
     "output_type": "stream",
     "text": [
      "************************************************* \n",
      "Warning: you are running in tempo1 emulation mode \n",
      "************************************************* \n",
      "spr\n"
     ]
    },
    {
     "name": "stderr",
     "output_type": "stream",
     "text": [
      "/tmp/ipykernel_8229/2184178469.py:98: DeprecationWarning: distutils Version classes are deprecated. Use packaging.version instead.\n",
      "  weak_ft=T.tempopulsar('Perfect_Model.par','iteration_sub.tim')\n"
     ]
    },
    {
     "name": "stdout",
     "output_type": "stream",
     "text": [
      "************************************************* \n",
      "Warning: you are running in tempo1 emulation mode \n",
      "************************************************* \n",
      "spr\n"
     ]
    },
    {
     "name": "stderr",
     "output_type": "stream",
     "text": [
      "/tmp/ipykernel_8229/2184178469.py:98: DeprecationWarning: distutils Version classes are deprecated. Use packaging.version instead.\n",
      "  weak_ft=T.tempopulsar('Perfect_Model.par','iteration_sub.tim')\n"
     ]
    },
    {
     "name": "stdout",
     "output_type": "stream",
     "text": [
      "spr************************************************* \n",
      "Warning: you are running in tempo1 emulation mode \n",
      "************************************************* \n",
      "\n"
     ]
    },
    {
     "name": "stderr",
     "output_type": "stream",
     "text": [
      "/tmp/ipykernel_8229/2184178469.py:98: DeprecationWarning: distutils Version classes are deprecated. Use packaging.version instead.\n",
      "  weak_ft=T.tempopulsar('Perfect_Model.par','iteration_sub.tim')\n"
     ]
    },
    {
     "name": "stdout",
     "output_type": "stream",
     "text": [
      "spr************************************************* \n",
      "Warning: you are running in tempo1 emulation mode \n",
      "************************************************* \n",
      "\n"
     ]
    },
    {
     "name": "stderr",
     "output_type": "stream",
     "text": [
      "/tmp/ipykernel_8229/2184178469.py:98: DeprecationWarning: distutils Version classes are deprecated. Use packaging.version instead.\n",
      "  weak_ft=T.tempopulsar('Perfect_Model.par','iteration_sub.tim')\n"
     ]
    },
    {
     "name": "stdout",
     "output_type": "stream",
     "text": [
      "spr************************************************* \n",
      "Warning: you are running in tempo1 emulation mode \n",
      "************************************************* \n",
      "\n"
     ]
    },
    {
     "name": "stderr",
     "output_type": "stream",
     "text": [
      "/tmp/ipykernel_8229/2184178469.py:98: DeprecationWarning: distutils Version classes are deprecated. Use packaging.version instead.\n",
      "  weak_ft=T.tempopulsar('Perfect_Model.par','iteration_sub.tim')\n"
     ]
    },
    {
     "name": "stdout",
     "output_type": "stream",
     "text": [
      "spr\n",
      "************************************************* \n",
      "Warning: you are running in tempo1 emulation mode \n",
      "************************************************* \n"
     ]
    },
    {
     "name": "stderr",
     "output_type": "stream",
     "text": [
      "/tmp/ipykernel_8229/2184178469.py:98: DeprecationWarning: distutils Version classes are deprecated. Use packaging.version instead.\n",
      "  weak_ft=T.tempopulsar('Perfect_Model.par','iteration_sub.tim')\n"
     ]
    },
    {
     "name": "stdout",
     "output_type": "stream",
     "text": [
      "spr\n",
      "************************************************* \n",
      "Warning: you are running in tempo1 emulation mode \n",
      "************************************************* \n"
     ]
    },
    {
     "name": "stderr",
     "output_type": "stream",
     "text": [
      "/tmp/ipykernel_8229/2184178469.py:98: DeprecationWarning: distutils Version classes are deprecated. Use packaging.version instead.\n",
      "  weak_ft=T.tempopulsar('Perfect_Model.par','iteration_sub.tim')\n"
     ]
    },
    {
     "name": "stdout",
     "output_type": "stream",
     "text": [
      "spr************************************************* \n",
      "Warning: you are running in tempo1 emulation mode \n",
      "************************************************* \n",
      "\n"
     ]
    },
    {
     "name": "stderr",
     "output_type": "stream",
     "text": [
      "/tmp/ipykernel_8229/2184178469.py:98: DeprecationWarning: distutils Version classes are deprecated. Use packaging.version instead.\n",
      "  weak_ft=T.tempopulsar('Perfect_Model.par','iteration_sub.tim')\n"
     ]
    },
    {
     "name": "stdout",
     "output_type": "stream",
     "text": [
      "************************************************* \n",
      "Warning: you are running in tempo1 emulation mode \n",
      "************************************************* \n",
      "spr\n"
     ]
    },
    {
     "name": "stderr",
     "output_type": "stream",
     "text": [
      "/tmp/ipykernel_8229/2184178469.py:98: DeprecationWarning: distutils Version classes are deprecated. Use packaging.version instead.\n",
      "  weak_ft=T.tempopulsar('Perfect_Model.par','iteration_sub.tim')\n"
     ]
    },
    {
     "name": "stdout",
     "output_type": "stream",
     "text": [
      "************************************************* \n",
      "Warning: you are running in tempo1 emulation mode \n",
      "************************************************* \n",
      "spr\n",
      "iteration: 79\n",
      "************************************************* \n",
      "Warning: you are running in tempo1 emulation mode \n",
      "************************************************* \n",
      "************************************************* \n",
      "Warning: you are running in tempo1 emulation mode \n",
      "************************************************* \n"
     ]
    },
    {
     "name": "stderr",
     "output_type": "stream",
     "text": [
      "/tmp/ipykernel_8229/2184178469.py:98: DeprecationWarning: distutils Version classes are deprecated. Use packaging.version instead.\n",
      "  weak_ft=T.tempopulsar('Perfect_Model.par','iteration_sub.tim')\n"
     ]
    },
    {
     "name": "stdout",
     "output_type": "stream",
     "text": [
      "************************************************* \n",
      "Warning: you are running in tempo1 emulation mode \n",
      "************************************************* \n",
      "spr\n"
     ]
    },
    {
     "name": "stderr",
     "output_type": "stream",
     "text": [
      "/tmp/ipykernel_8229/2184178469.py:98: DeprecationWarning: distutils Version classes are deprecated. Use packaging.version instead.\n",
      "  weak_ft=T.tempopulsar('Perfect_Model.par','iteration_sub.tim')\n"
     ]
    },
    {
     "name": "stdout",
     "output_type": "stream",
     "text": [
      "spr************************************************* \n",
      "Warning: you are running in tempo1 emulation mode \n",
      "************************************************* \n",
      "\n"
     ]
    },
    {
     "name": "stderr",
     "output_type": "stream",
     "text": [
      "/tmp/ipykernel_8229/2184178469.py:98: DeprecationWarning: distutils Version classes are deprecated. Use packaging.version instead.\n",
      "  weak_ft=T.tempopulsar('Perfect_Model.par','iteration_sub.tim')\n"
     ]
    },
    {
     "name": "stdout",
     "output_type": "stream",
     "text": [
      "************************************************* \n",
      "Warning: you are running in tempo1 emulation mode \n",
      "************************************************* \n",
      "spr\n"
     ]
    },
    {
     "name": "stderr",
     "output_type": "stream",
     "text": [
      "/tmp/ipykernel_8229/2184178469.py:98: DeprecationWarning: distutils Version classes are deprecated. Use packaging.version instead.\n",
      "  weak_ft=T.tempopulsar('Perfect_Model.par','iteration_sub.tim')\n"
     ]
    },
    {
     "name": "stdout",
     "output_type": "stream",
     "text": [
      "************************************************* \n",
      "Warning: you are running in tempo1 emulation mode \n",
      "************************************************* \n",
      "spr\n"
     ]
    },
    {
     "name": "stderr",
     "output_type": "stream",
     "text": [
      "/tmp/ipykernel_8229/2184178469.py:98: DeprecationWarning: distutils Version classes are deprecated. Use packaging.version instead.\n",
      "  weak_ft=T.tempopulsar('Perfect_Model.par','iteration_sub.tim')\n"
     ]
    },
    {
     "name": "stdout",
     "output_type": "stream",
     "text": [
      "spr************************************************* \n",
      "Warning: you are running in tempo1 emulation mode \n",
      "************************************************* \n",
      "\n"
     ]
    },
    {
     "name": "stderr",
     "output_type": "stream",
     "text": [
      "/tmp/ipykernel_8229/2184178469.py:98: DeprecationWarning: distutils Version classes are deprecated. Use packaging.version instead.\n",
      "  weak_ft=T.tempopulsar('Perfect_Model.par','iteration_sub.tim')\n"
     ]
    },
    {
     "name": "stdout",
     "output_type": "stream",
     "text": [
      "spr************************************************* \n",
      "Warning: you are running in tempo1 emulation mode \n",
      "************************************************* \n",
      "\n"
     ]
    },
    {
     "name": "stderr",
     "output_type": "stream",
     "text": [
      "/tmp/ipykernel_8229/2184178469.py:98: DeprecationWarning: distutils Version classes are deprecated. Use packaging.version instead.\n",
      "  weak_ft=T.tempopulsar('Perfect_Model.par','iteration_sub.tim')\n"
     ]
    },
    {
     "name": "stdout",
     "output_type": "stream",
     "text": [
      "spr************************************************* \n",
      "Warning: you are running in tempo1 emulation mode \n",
      "************************************************* \n",
      "\n"
     ]
    },
    {
     "name": "stderr",
     "output_type": "stream",
     "text": [
      "/tmp/ipykernel_8229/2184178469.py:98: DeprecationWarning: distutils Version classes are deprecated. Use packaging.version instead.\n",
      "  weak_ft=T.tempopulsar('Perfect_Model.par','iteration_sub.tim')\n"
     ]
    },
    {
     "name": "stdout",
     "output_type": "stream",
     "text": [
      "spr************************************************* \n",
      "Warning: you are running in tempo1 emulation mode \n",
      "************************************************* \n",
      "\n"
     ]
    },
    {
     "name": "stderr",
     "output_type": "stream",
     "text": [
      "/tmp/ipykernel_8229/2184178469.py:98: DeprecationWarning: distutils Version classes are deprecated. Use packaging.version instead.\n",
      "  weak_ft=T.tempopulsar('Perfect_Model.par','iteration_sub.tim')\n"
     ]
    },
    {
     "name": "stdout",
     "output_type": "stream",
     "text": [
      "spr************************************************* \n",
      "Warning: you are running in tempo1 emulation mode \n",
      "************************************************* \n",
      "\n"
     ]
    },
    {
     "name": "stderr",
     "output_type": "stream",
     "text": [
      "/tmp/ipykernel_8229/2184178469.py:98: DeprecationWarning: distutils Version classes are deprecated. Use packaging.version instead.\n",
      "  weak_ft=T.tempopulsar('Perfect_Model.par','iteration_sub.tim')\n"
     ]
    },
    {
     "name": "stdout",
     "output_type": "stream",
     "text": [
      "************************************************* \n",
      "Warning: you are running in tempo1 emulation mode \n",
      "************************************************* \n",
      "spr\n",
      "iteration: 80\n",
      "************************************************* \n",
      "Warning: you are running in tempo1 emulation mode \n",
      "************************************************* \n",
      "************************************************* \n",
      "Warning: you are running in tempo1 emulation mode \n",
      "************************************************* \n"
     ]
    },
    {
     "name": "stderr",
     "output_type": "stream",
     "text": [
      "/tmp/ipykernel_8229/2184178469.py:98: DeprecationWarning: distutils Version classes are deprecated. Use packaging.version instead.\n",
      "  weak_ft=T.tempopulsar('Perfect_Model.par','iteration_sub.tim')\n"
     ]
    },
    {
     "name": "stdout",
     "output_type": "stream",
     "text": [
      "************************************************* \n",
      "Warning: you are running in tempo1 emulation mode \n",
      "************************************************* \n",
      "spr\n"
     ]
    },
    {
     "name": "stderr",
     "output_type": "stream",
     "text": [
      "/tmp/ipykernel_8229/2184178469.py:98: DeprecationWarning: distutils Version classes are deprecated. Use packaging.version instead.\n",
      "  weak_ft=T.tempopulsar('Perfect_Model.par','iteration_sub.tim')\n"
     ]
    },
    {
     "name": "stdout",
     "output_type": "stream",
     "text": [
      "************************************************* \n",
      "Warning: you are running in tempo1 emulation mode \n",
      "************************************************* \n",
      "spr\n"
     ]
    },
    {
     "name": "stderr",
     "output_type": "stream",
     "text": [
      "/tmp/ipykernel_8229/2184178469.py:98: DeprecationWarning: distutils Version classes are deprecated. Use packaging.version instead.\n",
      "  weak_ft=T.tempopulsar('Perfect_Model.par','iteration_sub.tim')\n"
     ]
    },
    {
     "name": "stdout",
     "output_type": "stream",
     "text": [
      "************************************************* \n",
      "Warning: you are running in tempo1 emulation mode \n",
      "************************************************* \n",
      "spr\n"
     ]
    },
    {
     "name": "stderr",
     "output_type": "stream",
     "text": [
      "/tmp/ipykernel_8229/2184178469.py:98: DeprecationWarning: distutils Version classes are deprecated. Use packaging.version instead.\n",
      "  weak_ft=T.tempopulsar('Perfect_Model.par','iteration_sub.tim')\n"
     ]
    },
    {
     "name": "stdout",
     "output_type": "stream",
     "text": [
      "spr************************************************* \n",
      "Warning: you are running in tempo1 emulation mode \n",
      "************************************************* \n",
      "\n"
     ]
    },
    {
     "name": "stderr",
     "output_type": "stream",
     "text": [
      "/tmp/ipykernel_8229/2184178469.py:98: DeprecationWarning: distutils Version classes are deprecated. Use packaging.version instead.\n",
      "  weak_ft=T.tempopulsar('Perfect_Model.par','iteration_sub.tim')\n"
     ]
    },
    {
     "name": "stdout",
     "output_type": "stream",
     "text": [
      "************************************************* \n",
      "Warning: you are running in tempo1 emulation mode \n",
      "************************************************* \n",
      "spr\n"
     ]
    },
    {
     "name": "stderr",
     "output_type": "stream",
     "text": [
      "/tmp/ipykernel_8229/2184178469.py:98: DeprecationWarning: distutils Version classes are deprecated. Use packaging.version instead.\n",
      "  weak_ft=T.tempopulsar('Perfect_Model.par','iteration_sub.tim')\n"
     ]
    },
    {
     "name": "stdout",
     "output_type": "stream",
     "text": [
      "spr\n",
      "************************************************* \n",
      "Warning: you are running in tempo1 emulation mode \n",
      "************************************************* \n"
     ]
    },
    {
     "name": "stderr",
     "output_type": "stream",
     "text": [
      "/tmp/ipykernel_8229/2184178469.py:98: DeprecationWarning: distutils Version classes are deprecated. Use packaging.version instead.\n",
      "  weak_ft=T.tempopulsar('Perfect_Model.par','iteration_sub.tim')\n"
     ]
    },
    {
     "name": "stdout",
     "output_type": "stream",
     "text": [
      "************************************************* \n",
      "Warning: you are running in tempo1 emulation mode \n",
      "************************************************* \n",
      "spr\n"
     ]
    },
    {
     "name": "stderr",
     "output_type": "stream",
     "text": [
      "/tmp/ipykernel_8229/2184178469.py:98: DeprecationWarning: distutils Version classes are deprecated. Use packaging.version instead.\n",
      "  weak_ft=T.tempopulsar('Perfect_Model.par','iteration_sub.tim')\n"
     ]
    },
    {
     "name": "stdout",
     "output_type": "stream",
     "text": [
      "spr************************************************* \n",
      "Warning: you are running in tempo1 emulation mode \n",
      "************************************************* \n",
      "\n"
     ]
    },
    {
     "name": "stderr",
     "output_type": "stream",
     "text": [
      "/tmp/ipykernel_8229/2184178469.py:98: DeprecationWarning: distutils Version classes are deprecated. Use packaging.version instead.\n",
      "  weak_ft=T.tempopulsar('Perfect_Model.par','iteration_sub.tim')\n"
     ]
    },
    {
     "name": "stdout",
     "output_type": "stream",
     "text": [
      "************************************************* \n",
      "Warning: you are running in tempo1 emulation mode \n",
      "************************************************* \n",
      "spr\n"
     ]
    },
    {
     "name": "stderr",
     "output_type": "stream",
     "text": [
      "/tmp/ipykernel_8229/2184178469.py:98: DeprecationWarning: distutils Version classes are deprecated. Use packaging.version instead.\n",
      "  weak_ft=T.tempopulsar('Perfect_Model.par','iteration_sub.tim')\n"
     ]
    },
    {
     "name": "stdout",
     "output_type": "stream",
     "text": [
      "spr************************************************* \n",
      "Warning: you are running in tempo1 emulation mode \n",
      "************************************************* \n",
      "\n",
      "iteration: 81\n",
      "************************************************* \n",
      "Warning: you are running in tempo1 emulation mode \n",
      "************************************************* \n",
      "************************************************* \n",
      "Warning: you are running in tempo1 emulation mode \n",
      "************************************************* \n"
     ]
    },
    {
     "name": "stderr",
     "output_type": "stream",
     "text": [
      "/tmp/ipykernel_8229/2184178469.py:98: DeprecationWarning: distutils Version classes are deprecated. Use packaging.version instead.\n",
      "  weak_ft=T.tempopulsar('Perfect_Model.par','iteration_sub.tim')\n"
     ]
    },
    {
     "name": "stdout",
     "output_type": "stream",
     "text": [
      "spr************************************************* \n",
      "Warning: you are running in tempo1 emulation mode \n",
      "************************************************* \n",
      "\n"
     ]
    },
    {
     "name": "stderr",
     "output_type": "stream",
     "text": [
      "/tmp/ipykernel_8229/2184178469.py:98: DeprecationWarning: distutils Version classes are deprecated. Use packaging.version instead.\n",
      "  weak_ft=T.tempopulsar('Perfect_Model.par','iteration_sub.tim')\n"
     ]
    },
    {
     "name": "stdout",
     "output_type": "stream",
     "text": [
      "spr************************************************* \n",
      "Warning: you are running in tempo1 emulation mode \n",
      "************************************************* \n",
      "\n"
     ]
    },
    {
     "name": "stderr",
     "output_type": "stream",
     "text": [
      "/tmp/ipykernel_8229/2184178469.py:98: DeprecationWarning: distutils Version classes are deprecated. Use packaging.version instead.\n",
      "  weak_ft=T.tempopulsar('Perfect_Model.par','iteration_sub.tim')\n"
     ]
    },
    {
     "name": "stdout",
     "output_type": "stream",
     "text": [
      "spr************************************************* \n",
      "Warning: you are running in tempo1 emulation mode \n",
      "************************************************* \n",
      "\n"
     ]
    },
    {
     "name": "stderr",
     "output_type": "stream",
     "text": [
      "/tmp/ipykernel_8229/2184178469.py:98: DeprecationWarning: distutils Version classes are deprecated. Use packaging.version instead.\n",
      "  weak_ft=T.tempopulsar('Perfect_Model.par','iteration_sub.tim')\n"
     ]
    },
    {
     "name": "stdout",
     "output_type": "stream",
     "text": [
      "************************************************* \n",
      "Warning: you are running in tempo1 emulation mode \n",
      "************************************************* \n",
      "spr\n"
     ]
    },
    {
     "name": "stderr",
     "output_type": "stream",
     "text": [
      "/tmp/ipykernel_8229/2184178469.py:98: DeprecationWarning: distutils Version classes are deprecated. Use packaging.version instead.\n",
      "  weak_ft=T.tempopulsar('Perfect_Model.par','iteration_sub.tim')\n"
     ]
    },
    {
     "name": "stdout",
     "output_type": "stream",
     "text": [
      "spr************************************************* \n",
      "Warning: you are running in tempo1 emulation mode \n",
      "************************************************* \n",
      "\n"
     ]
    },
    {
     "name": "stderr",
     "output_type": "stream",
     "text": [
      "/tmp/ipykernel_8229/2184178469.py:98: DeprecationWarning: distutils Version classes are deprecated. Use packaging.version instead.\n",
      "  weak_ft=T.tempopulsar('Perfect_Model.par','iteration_sub.tim')\n"
     ]
    },
    {
     "name": "stdout",
     "output_type": "stream",
     "text": [
      "spr\n",
      "************************************************* \n",
      "Warning: you are running in tempo1 emulation mode \n",
      "************************************************* \n"
     ]
    },
    {
     "name": "stderr",
     "output_type": "stream",
     "text": [
      "/tmp/ipykernel_8229/2184178469.py:98: DeprecationWarning: distutils Version classes are deprecated. Use packaging.version instead.\n",
      "  weak_ft=T.tempopulsar('Perfect_Model.par','iteration_sub.tim')\n"
     ]
    },
    {
     "name": "stdout",
     "output_type": "stream",
     "text": [
      "spr************************************************* \n",
      "Warning: you are running in tempo1 emulation mode \n",
      "************************************************* \n",
      "\n"
     ]
    },
    {
     "name": "stderr",
     "output_type": "stream",
     "text": [
      "/tmp/ipykernel_8229/2184178469.py:98: DeprecationWarning: distutils Version classes are deprecated. Use packaging.version instead.\n",
      "  weak_ft=T.tempopulsar('Perfect_Model.par','iteration_sub.tim')\n"
     ]
    },
    {
     "name": "stdout",
     "output_type": "stream",
     "text": [
      "spr************************************************* \n",
      "Warning: you are running in tempo1 emulation mode \n",
      "************************************************* \n",
      "\n"
     ]
    },
    {
     "name": "stderr",
     "output_type": "stream",
     "text": [
      "/tmp/ipykernel_8229/2184178469.py:98: DeprecationWarning: distutils Version classes are deprecated. Use packaging.version instead.\n",
      "  weak_ft=T.tempopulsar('Perfect_Model.par','iteration_sub.tim')\n"
     ]
    },
    {
     "name": "stdout",
     "output_type": "stream",
     "text": [
      "spr************************************************* \n",
      "Warning: you are running in tempo1 emulation mode \n",
      "************************************************* \n",
      "\n"
     ]
    },
    {
     "name": "stderr",
     "output_type": "stream",
     "text": [
      "/tmp/ipykernel_8229/2184178469.py:98: DeprecationWarning: distutils Version classes are deprecated. Use packaging.version instead.\n",
      "  weak_ft=T.tempopulsar('Perfect_Model.par','iteration_sub.tim')\n"
     ]
    },
    {
     "name": "stdout",
     "output_type": "stream",
     "text": [
      "spr************************************************* \n",
      "Warning: you are running in tempo1 emulation mode \n",
      "************************************************* \n",
      "\n",
      "iteration: 82\n",
      "************************************************* \n",
      "Warning: you are running in tempo1 emulation mode \n",
      "************************************************* \n",
      "************************************************* \n",
      "Warning: you are running in tempo1 emulation mode \n",
      "************************************************* \n"
     ]
    },
    {
     "name": "stderr",
     "output_type": "stream",
     "text": [
      "/tmp/ipykernel_8229/2184178469.py:98: DeprecationWarning: distutils Version classes are deprecated. Use packaging.version instead.\n",
      "  weak_ft=T.tempopulsar('Perfect_Model.par','iteration_sub.tim')\n"
     ]
    },
    {
     "name": "stdout",
     "output_type": "stream",
     "text": [
      "spr************************************************* \n",
      "Warning: you are running in tempo1 emulation mode \n",
      "************************************************* \n",
      "\n"
     ]
    },
    {
     "name": "stderr",
     "output_type": "stream",
     "text": [
      "/tmp/ipykernel_8229/2184178469.py:98: DeprecationWarning: distutils Version classes are deprecated. Use packaging.version instead.\n",
      "  weak_ft=T.tempopulsar('Perfect_Model.par','iteration_sub.tim')\n"
     ]
    },
    {
     "name": "stdout",
     "output_type": "stream",
     "text": [
      "spr************************************************* \n",
      "Warning: you are running in tempo1 emulation mode \n",
      "************************************************* \n",
      "\n"
     ]
    },
    {
     "name": "stderr",
     "output_type": "stream",
     "text": [
      "/tmp/ipykernel_8229/2184178469.py:98: DeprecationWarning: distutils Version classes are deprecated. Use packaging.version instead.\n",
      "  weak_ft=T.tempopulsar('Perfect_Model.par','iteration_sub.tim')\n"
     ]
    },
    {
     "name": "stdout",
     "output_type": "stream",
     "text": [
      "spr************************************************* \n",
      "Warning: you are running in tempo1 emulation mode \n",
      "************************************************* \n",
      "\n"
     ]
    },
    {
     "name": "stderr",
     "output_type": "stream",
     "text": [
      "/tmp/ipykernel_8229/2184178469.py:98: DeprecationWarning: distutils Version classes are deprecated. Use packaging.version instead.\n",
      "  weak_ft=T.tempopulsar('Perfect_Model.par','iteration_sub.tim')\n"
     ]
    },
    {
     "name": "stdout",
     "output_type": "stream",
     "text": [
      "spr************************************************* \n",
      "Warning: you are running in tempo1 emulation mode \n",
      "************************************************* \n",
      "\n"
     ]
    },
    {
     "name": "stderr",
     "output_type": "stream",
     "text": [
      "/tmp/ipykernel_8229/2184178469.py:98: DeprecationWarning: distutils Version classes are deprecated. Use packaging.version instead.\n",
      "  weak_ft=T.tempopulsar('Perfect_Model.par','iteration_sub.tim')\n"
     ]
    },
    {
     "name": "stdout",
     "output_type": "stream",
     "text": [
      "spr************************************************* \n",
      "Warning: you are running in tempo1 emulation mode \n",
      "************************************************* \n",
      "\n"
     ]
    },
    {
     "name": "stderr",
     "output_type": "stream",
     "text": [
      "/tmp/ipykernel_8229/2184178469.py:98: DeprecationWarning: distutils Version classes are deprecated. Use packaging.version instead.\n",
      "  weak_ft=T.tempopulsar('Perfect_Model.par','iteration_sub.tim')\n"
     ]
    },
    {
     "name": "stdout",
     "output_type": "stream",
     "text": [
      "spr************************************************* \n",
      "Warning: you are running in tempo1 emulation mode \n",
      "************************************************* \n",
      "\n"
     ]
    },
    {
     "name": "stderr",
     "output_type": "stream",
     "text": [
      "/tmp/ipykernel_8229/2184178469.py:98: DeprecationWarning: distutils Version classes are deprecated. Use packaging.version instead.\n",
      "  weak_ft=T.tempopulsar('Perfect_Model.par','iteration_sub.tim')\n"
     ]
    },
    {
     "name": "stdout",
     "output_type": "stream",
     "text": [
      "spr************************************************* \n",
      "Warning: you are running in tempo1 emulation mode \n",
      "************************************************* \n",
      "\n"
     ]
    },
    {
     "name": "stderr",
     "output_type": "stream",
     "text": [
      "/tmp/ipykernel_8229/2184178469.py:98: DeprecationWarning: distutils Version classes are deprecated. Use packaging.version instead.\n",
      "  weak_ft=T.tempopulsar('Perfect_Model.par','iteration_sub.tim')\n"
     ]
    },
    {
     "name": "stdout",
     "output_type": "stream",
     "text": [
      "spr************************************************* \n",
      "Warning: you are running in tempo1 emulation mode \n",
      "************************************************* \n",
      "\n"
     ]
    },
    {
     "name": "stderr",
     "output_type": "stream",
     "text": [
      "/tmp/ipykernel_8229/2184178469.py:98: DeprecationWarning: distutils Version classes are deprecated. Use packaging.version instead.\n",
      "  weak_ft=T.tempopulsar('Perfect_Model.par','iteration_sub.tim')\n"
     ]
    },
    {
     "name": "stdout",
     "output_type": "stream",
     "text": [
      "spr************************************************* \n",
      "Warning: you are running in tempo1 emulation mode \n",
      "************************************************* \n",
      "\n"
     ]
    },
    {
     "name": "stderr",
     "output_type": "stream",
     "text": [
      "/tmp/ipykernel_8229/2184178469.py:98: DeprecationWarning: distutils Version classes are deprecated. Use packaging.version instead.\n",
      "  weak_ft=T.tempopulsar('Perfect_Model.par','iteration_sub.tim')\n"
     ]
    },
    {
     "name": "stdout",
     "output_type": "stream",
     "text": [
      "spr************************************************* \n",
      "Warning: you are running in tempo1 emulation mode \n",
      "************************************************* \n",
      "\n",
      "iteration: 83\n",
      "************************************************* \n",
      "Warning: you are running in tempo1 emulation mode \n",
      "************************************************* \n",
      "************************************************* \n",
      "Warning: you are running in tempo1 emulation mode \n",
      "************************************************* \n"
     ]
    },
    {
     "name": "stderr",
     "output_type": "stream",
     "text": [
      "/tmp/ipykernel_8229/2184178469.py:98: DeprecationWarning: distutils Version classes are deprecated. Use packaging.version instead.\n",
      "  weak_ft=T.tempopulsar('Perfect_Model.par','iteration_sub.tim')\n"
     ]
    },
    {
     "name": "stdout",
     "output_type": "stream",
     "text": [
      "spr************************************************* \n",
      "Warning: you are running in tempo1 emulation mode \n",
      "************************************************* \n",
      "\n"
     ]
    },
    {
     "name": "stderr",
     "output_type": "stream",
     "text": [
      "/tmp/ipykernel_8229/2184178469.py:98: DeprecationWarning: distutils Version classes are deprecated. Use packaging.version instead.\n",
      "  weak_ft=T.tempopulsar('Perfect_Model.par','iteration_sub.tim')\n"
     ]
    },
    {
     "name": "stdout",
     "output_type": "stream",
     "text": [
      "spr\n",
      "************************************************* \n",
      "Warning: you are running in tempo1 emulation mode \n",
      "************************************************* \n"
     ]
    },
    {
     "name": "stderr",
     "output_type": "stream",
     "text": [
      "/tmp/ipykernel_8229/2184178469.py:98: DeprecationWarning: distutils Version classes are deprecated. Use packaging.version instead.\n",
      "  weak_ft=T.tempopulsar('Perfect_Model.par','iteration_sub.tim')\n"
     ]
    },
    {
     "name": "stdout",
     "output_type": "stream",
     "text": [
      "spr\n",
      "************************************************* \n",
      "Warning: you are running in tempo1 emulation mode \n",
      "************************************************* \n"
     ]
    },
    {
     "name": "stderr",
     "output_type": "stream",
     "text": [
      "/tmp/ipykernel_8229/2184178469.py:98: DeprecationWarning: distutils Version classes are deprecated. Use packaging.version instead.\n",
      "  weak_ft=T.tempopulsar('Perfect_Model.par','iteration_sub.tim')\n"
     ]
    },
    {
     "name": "stdout",
     "output_type": "stream",
     "text": [
      "spr************************************************* \n",
      "Warning: you are running in tempo1 emulation mode \n",
      "************************************************* \n",
      "\n"
     ]
    },
    {
     "name": "stderr",
     "output_type": "stream",
     "text": [
      "/tmp/ipykernel_8229/2184178469.py:98: DeprecationWarning: distutils Version classes are deprecated. Use packaging.version instead.\n",
      "  weak_ft=T.tempopulsar('Perfect_Model.par','iteration_sub.tim')\n"
     ]
    },
    {
     "name": "stdout",
     "output_type": "stream",
     "text": [
      "spr************************************************* \n",
      "Warning: you are running in tempo1 emulation mode \n",
      "************************************************* \n",
      "\n"
     ]
    },
    {
     "name": "stderr",
     "output_type": "stream",
     "text": [
      "/tmp/ipykernel_8229/2184178469.py:98: DeprecationWarning: distutils Version classes are deprecated. Use packaging.version instead.\n",
      "  weak_ft=T.tempopulsar('Perfect_Model.par','iteration_sub.tim')\n"
     ]
    },
    {
     "name": "stdout",
     "output_type": "stream",
     "text": [
      "spr************************************************* \n",
      "Warning: you are running in tempo1 emulation mode \n",
      "************************************************* \n",
      "\n"
     ]
    },
    {
     "name": "stderr",
     "output_type": "stream",
     "text": [
      "/tmp/ipykernel_8229/2184178469.py:98: DeprecationWarning: distutils Version classes are deprecated. Use packaging.version instead.\n",
      "  weak_ft=T.tempopulsar('Perfect_Model.par','iteration_sub.tim')\n"
     ]
    },
    {
     "name": "stdout",
     "output_type": "stream",
     "text": [
      "spr************************************************* \n",
      "Warning: you are running in tempo1 emulation mode \n",
      "************************************************* \n",
      "\n"
     ]
    },
    {
     "name": "stderr",
     "output_type": "stream",
     "text": [
      "/tmp/ipykernel_8229/2184178469.py:98: DeprecationWarning: distutils Version classes are deprecated. Use packaging.version instead.\n",
      "  weak_ft=T.tempopulsar('Perfect_Model.par','iteration_sub.tim')\n"
     ]
    },
    {
     "name": "stdout",
     "output_type": "stream",
     "text": [
      "spr************************************************* \n",
      "Warning: you are running in tempo1 emulation mode \n",
      "************************************************* \n",
      "\n"
     ]
    },
    {
     "name": "stderr",
     "output_type": "stream",
     "text": [
      "/tmp/ipykernel_8229/2184178469.py:98: DeprecationWarning: distutils Version classes are deprecated. Use packaging.version instead.\n",
      "  weak_ft=T.tempopulsar('Perfect_Model.par','iteration_sub.tim')\n"
     ]
    },
    {
     "name": "stdout",
     "output_type": "stream",
     "text": [
      "spr************************************************* \n",
      "Warning: you are running in tempo1 emulation mode \n",
      "************************************************* \n",
      "\n"
     ]
    },
    {
     "name": "stderr",
     "output_type": "stream",
     "text": [
      "/tmp/ipykernel_8229/2184178469.py:98: DeprecationWarning: distutils Version classes are deprecated. Use packaging.version instead.\n",
      "  weak_ft=T.tempopulsar('Perfect_Model.par','iteration_sub.tim')\n"
     ]
    },
    {
     "name": "stdout",
     "output_type": "stream",
     "text": [
      "spr************************************************* \n",
      "Warning: you are running in tempo1 emulation mode \n",
      "************************************************* \n",
      "\n",
      "iteration: 84\n",
      "************************************************* \n",
      "Warning: you are running in tempo1 emulation mode \n",
      "************************************************* \n",
      "************************************************* \n",
      "Warning: you are running in tempo1 emulation mode \n",
      "************************************************* \n"
     ]
    },
    {
     "name": "stderr",
     "output_type": "stream",
     "text": [
      "/tmp/ipykernel_8229/2184178469.py:98: DeprecationWarning: distutils Version classes are deprecated. Use packaging.version instead.\n",
      "  weak_ft=T.tempopulsar('Perfect_Model.par','iteration_sub.tim')\n"
     ]
    },
    {
     "name": "stdout",
     "output_type": "stream",
     "text": [
      "spr************************************************* \n",
      "Warning: you are running in tempo1 emulation mode \n",
      "************************************************* \n",
      "\n"
     ]
    },
    {
     "name": "stderr",
     "output_type": "stream",
     "text": [
      "/tmp/ipykernel_8229/2184178469.py:98: DeprecationWarning: distutils Version classes are deprecated. Use packaging.version instead.\n",
      "  weak_ft=T.tempopulsar('Perfect_Model.par','iteration_sub.tim')\n"
     ]
    },
    {
     "name": "stdout",
     "output_type": "stream",
     "text": [
      "spr************************************************* \n",
      "Warning: you are running in tempo1 emulation mode \n",
      "************************************************* \n",
      "\n"
     ]
    },
    {
     "name": "stderr",
     "output_type": "stream",
     "text": [
      "/tmp/ipykernel_8229/2184178469.py:98: DeprecationWarning: distutils Version classes are deprecated. Use packaging.version instead.\n",
      "  weak_ft=T.tempopulsar('Perfect_Model.par','iteration_sub.tim')\n"
     ]
    },
    {
     "name": "stdout",
     "output_type": "stream",
     "text": [
      "spr************************************************* \n",
      "Warning: you are running in tempo1 emulation mode \n",
      "************************************************* \n",
      "\n"
     ]
    },
    {
     "name": "stderr",
     "output_type": "stream",
     "text": [
      "/tmp/ipykernel_8229/2184178469.py:98: DeprecationWarning: distutils Version classes are deprecated. Use packaging.version instead.\n",
      "  weak_ft=T.tempopulsar('Perfect_Model.par','iteration_sub.tim')\n"
     ]
    },
    {
     "name": "stdout",
     "output_type": "stream",
     "text": [
      "spr************************************************* \n",
      "Warning: you are running in tempo1 emulation mode \n",
      "************************************************* \n",
      "\n"
     ]
    },
    {
     "name": "stderr",
     "output_type": "stream",
     "text": [
      "/tmp/ipykernel_8229/2184178469.py:98: DeprecationWarning: distutils Version classes are deprecated. Use packaging.version instead.\n",
      "  weak_ft=T.tempopulsar('Perfect_Model.par','iteration_sub.tim')\n"
     ]
    },
    {
     "name": "stdout",
     "output_type": "stream",
     "text": [
      "spr************************************************* \n",
      "Warning: you are running in tempo1 emulation mode \n",
      "************************************************* \n",
      "\n"
     ]
    },
    {
     "name": "stderr",
     "output_type": "stream",
     "text": [
      "/tmp/ipykernel_8229/2184178469.py:98: DeprecationWarning: distutils Version classes are deprecated. Use packaging.version instead.\n",
      "  weak_ft=T.tempopulsar('Perfect_Model.par','iteration_sub.tim')\n"
     ]
    },
    {
     "name": "stdout",
     "output_type": "stream",
     "text": [
      "spr************************************************* \n",
      "Warning: you are running in tempo1 emulation mode \n",
      "************************************************* \n",
      "\n"
     ]
    },
    {
     "name": "stderr",
     "output_type": "stream",
     "text": [
      "/tmp/ipykernel_8229/2184178469.py:98: DeprecationWarning: distutils Version classes are deprecated. Use packaging.version instead.\n",
      "  weak_ft=T.tempopulsar('Perfect_Model.par','iteration_sub.tim')\n"
     ]
    },
    {
     "name": "stdout",
     "output_type": "stream",
     "text": [
      "spr************************************************* \n",
      "Warning: you are running in tempo1 emulation mode \n",
      "************************************************* \n",
      "\n"
     ]
    },
    {
     "name": "stderr",
     "output_type": "stream",
     "text": [
      "/tmp/ipykernel_8229/2184178469.py:98: DeprecationWarning: distutils Version classes are deprecated. Use packaging.version instead.\n",
      "  weak_ft=T.tempopulsar('Perfect_Model.par','iteration_sub.tim')\n"
     ]
    },
    {
     "name": "stdout",
     "output_type": "stream",
     "text": [
      "spr************************************************* \n",
      "Warning: you are running in tempo1 emulation mode \n",
      "************************************************* \n",
      "\n"
     ]
    },
    {
     "name": "stderr",
     "output_type": "stream",
     "text": [
      "/tmp/ipykernel_8229/2184178469.py:98: DeprecationWarning: distutils Version classes are deprecated. Use packaging.version instead.\n",
      "  weak_ft=T.tempopulsar('Perfect_Model.par','iteration_sub.tim')\n"
     ]
    },
    {
     "name": "stdout",
     "output_type": "stream",
     "text": [
      "spr************************************************* \n",
      "Warning: you are running in tempo1 emulation mode \n",
      "************************************************* \n",
      "\n"
     ]
    },
    {
     "name": "stderr",
     "output_type": "stream",
     "text": [
      "/tmp/ipykernel_8229/2184178469.py:98: DeprecationWarning: distutils Version classes are deprecated. Use packaging.version instead.\n",
      "  weak_ft=T.tempopulsar('Perfect_Model.par','iteration_sub.tim')\n"
     ]
    },
    {
     "name": "stdout",
     "output_type": "stream",
     "text": [
      "spr************************************************* \n",
      "Warning: you are running in tempo1 emulation mode \n",
      "************************************************* \n",
      "\n",
      "iteration: 85\n",
      "************************************************* \n",
      "Warning: you are running in tempo1 emulation mode \n",
      "************************************************* \n",
      "************************************************* \n",
      "Warning: you are running in tempo1 emulation mode \n",
      "************************************************* \n"
     ]
    },
    {
     "name": "stderr",
     "output_type": "stream",
     "text": [
      "/tmp/ipykernel_8229/2184178469.py:98: DeprecationWarning: distutils Version classes are deprecated. Use packaging.version instead.\n",
      "  weak_ft=T.tempopulsar('Perfect_Model.par','iteration_sub.tim')\n"
     ]
    },
    {
     "name": "stdout",
     "output_type": "stream",
     "text": [
      "spr************************************************* \n",
      "Warning: you are running in tempo1 emulation mode \n",
      "************************************************* \n",
      "\n"
     ]
    },
    {
     "name": "stderr",
     "output_type": "stream",
     "text": [
      "/tmp/ipykernel_8229/2184178469.py:98: DeprecationWarning: distutils Version classes are deprecated. Use packaging.version instead.\n",
      "  weak_ft=T.tempopulsar('Perfect_Model.par','iteration_sub.tim')\n"
     ]
    },
    {
     "name": "stdout",
     "output_type": "stream",
     "text": [
      "spr************************************************* \n",
      "Warning: you are running in tempo1 emulation mode \n",
      "************************************************* \n",
      "\n"
     ]
    },
    {
     "name": "stderr",
     "output_type": "stream",
     "text": [
      "/tmp/ipykernel_8229/2184178469.py:98: DeprecationWarning: distutils Version classes are deprecated. Use packaging.version instead.\n",
      "  weak_ft=T.tempopulsar('Perfect_Model.par','iteration_sub.tim')\n"
     ]
    },
    {
     "name": "stdout",
     "output_type": "stream",
     "text": [
      "spr************************************************* \n",
      "Warning: you are running in tempo1 emulation mode \n",
      "************************************************* \n",
      "\n"
     ]
    },
    {
     "name": "stderr",
     "output_type": "stream",
     "text": [
      "/tmp/ipykernel_8229/2184178469.py:98: DeprecationWarning: distutils Version classes are deprecated. Use packaging.version instead.\n",
      "  weak_ft=T.tempopulsar('Perfect_Model.par','iteration_sub.tim')\n"
     ]
    },
    {
     "name": "stdout",
     "output_type": "stream",
     "text": [
      "spr************************************************* \n",
      "Warning: you are running in tempo1 emulation mode \n",
      "************************************************* \n",
      "\n"
     ]
    },
    {
     "name": "stderr",
     "output_type": "stream",
     "text": [
      "/tmp/ipykernel_8229/2184178469.py:98: DeprecationWarning: distutils Version classes are deprecated. Use packaging.version instead.\n",
      "  weak_ft=T.tempopulsar('Perfect_Model.par','iteration_sub.tim')\n"
     ]
    },
    {
     "name": "stdout",
     "output_type": "stream",
     "text": [
      "spr************************************************* \n",
      "Warning: you are running in tempo1 emulation mode \n",
      "************************************************* \n",
      "\n"
     ]
    },
    {
     "name": "stderr",
     "output_type": "stream",
     "text": [
      "/tmp/ipykernel_8229/2184178469.py:98: DeprecationWarning: distutils Version classes are deprecated. Use packaging.version instead.\n",
      "  weak_ft=T.tempopulsar('Perfect_Model.par','iteration_sub.tim')\n"
     ]
    },
    {
     "name": "stdout",
     "output_type": "stream",
     "text": [
      "spr************************************************* \n",
      "Warning: you are running in tempo1 emulation mode \n",
      "************************************************* \n",
      "\n"
     ]
    },
    {
     "name": "stderr",
     "output_type": "stream",
     "text": [
      "/tmp/ipykernel_8229/2184178469.py:98: DeprecationWarning: distutils Version classes are deprecated. Use packaging.version instead.\n",
      "  weak_ft=T.tempopulsar('Perfect_Model.par','iteration_sub.tim')\n"
     ]
    },
    {
     "name": "stdout",
     "output_type": "stream",
     "text": [
      "spr************************************************* \n",
      "Warning: you are running in tempo1 emulation mode \n",
      "************************************************* \n",
      "\n"
     ]
    },
    {
     "name": "stderr",
     "output_type": "stream",
     "text": [
      "/tmp/ipykernel_8229/2184178469.py:98: DeprecationWarning: distutils Version classes are deprecated. Use packaging.version instead.\n",
      "  weak_ft=T.tempopulsar('Perfect_Model.par','iteration_sub.tim')\n"
     ]
    },
    {
     "name": "stdout",
     "output_type": "stream",
     "text": [
      "spr************************************************* \n",
      "Warning: you are running in tempo1 emulation mode \n",
      "************************************************* \n",
      "\n"
     ]
    },
    {
     "name": "stderr",
     "output_type": "stream",
     "text": [
      "/tmp/ipykernel_8229/2184178469.py:98: DeprecationWarning: distutils Version classes are deprecated. Use packaging.version instead.\n",
      "  weak_ft=T.tempopulsar('Perfect_Model.par','iteration_sub.tim')\n"
     ]
    },
    {
     "name": "stdout",
     "output_type": "stream",
     "text": [
      "spr************************************************* \n",
      "Warning: you are running in tempo1 emulation mode \n",
      "************************************************* \n",
      "\n"
     ]
    },
    {
     "name": "stderr",
     "output_type": "stream",
     "text": [
      "/tmp/ipykernel_8229/2184178469.py:98: DeprecationWarning: distutils Version classes are deprecated. Use packaging.version instead.\n",
      "  weak_ft=T.tempopulsar('Perfect_Model.par','iteration_sub.tim')\n"
     ]
    },
    {
     "name": "stdout",
     "output_type": "stream",
     "text": [
      "spr\n",
      "************************************************* \n",
      "Warning: you are running in tempo1 emulation mode \n",
      "************************************************* \n",
      "iteration: 86\n",
      "************************************************* \n",
      "Warning: you are running in tempo1 emulation mode \n",
      "************************************************* \n",
      "************************************************* \n",
      "Warning: you are running in tempo1 emulation mode \n",
      "************************************************* \n"
     ]
    },
    {
     "name": "stderr",
     "output_type": "stream",
     "text": [
      "/tmp/ipykernel_8229/2184178469.py:98: DeprecationWarning: distutils Version classes are deprecated. Use packaging.version instead.\n",
      "  weak_ft=T.tempopulsar('Perfect_Model.par','iteration_sub.tim')\n"
     ]
    },
    {
     "name": "stdout",
     "output_type": "stream",
     "text": [
      "spr************************************************* \n",
      "Warning: you are running in tempo1 emulation mode \n",
      "************************************************* \n",
      "\n"
     ]
    },
    {
     "name": "stderr",
     "output_type": "stream",
     "text": [
      "/tmp/ipykernel_8229/2184178469.py:98: DeprecationWarning: distutils Version classes are deprecated. Use packaging.version instead.\n",
      "  weak_ft=T.tempopulsar('Perfect_Model.par','iteration_sub.tim')\n"
     ]
    },
    {
     "name": "stdout",
     "output_type": "stream",
     "text": [
      "spr************************************************* \n",
      "Warning: you are running in tempo1 emulation mode \n",
      "************************************************* \n",
      "\n"
     ]
    },
    {
     "name": "stderr",
     "output_type": "stream",
     "text": [
      "/tmp/ipykernel_8229/2184178469.py:98: DeprecationWarning: distutils Version classes are deprecated. Use packaging.version instead.\n",
      "  weak_ft=T.tempopulsar('Perfect_Model.par','iteration_sub.tim')\n"
     ]
    },
    {
     "name": "stdout",
     "output_type": "stream",
     "text": [
      "************************************************* \n",
      "Warning: you are running in tempo1 emulation mode \n",
      "************************************************* \n",
      "spr\n"
     ]
    },
    {
     "name": "stderr",
     "output_type": "stream",
     "text": [
      "/tmp/ipykernel_8229/2184178469.py:98: DeprecationWarning: distutils Version classes are deprecated. Use packaging.version instead.\n",
      "  weak_ft=T.tempopulsar('Perfect_Model.par','iteration_sub.tim')\n"
     ]
    },
    {
     "name": "stdout",
     "output_type": "stream",
     "text": [
      "spr************************************************* \n",
      "Warning: you are running in tempo1 emulation mode \n",
      "************************************************* \n",
      "\n"
     ]
    },
    {
     "name": "stderr",
     "output_type": "stream",
     "text": [
      "/tmp/ipykernel_8229/2184178469.py:98: DeprecationWarning: distutils Version classes are deprecated. Use packaging.version instead.\n",
      "  weak_ft=T.tempopulsar('Perfect_Model.par','iteration_sub.tim')\n"
     ]
    },
    {
     "name": "stdout",
     "output_type": "stream",
     "text": [
      "spr************************************************* \n",
      "Warning: you are running in tempo1 emulation mode \n",
      "************************************************* \n",
      "\n"
     ]
    },
    {
     "name": "stderr",
     "output_type": "stream",
     "text": [
      "/tmp/ipykernel_8229/2184178469.py:98: DeprecationWarning: distutils Version classes are deprecated. Use packaging.version instead.\n",
      "  weak_ft=T.tempopulsar('Perfect_Model.par','iteration_sub.tim')\n"
     ]
    },
    {
     "name": "stdout",
     "output_type": "stream",
     "text": [
      "spr************************************************* \n",
      "Warning: you are running in tempo1 emulation mode \n",
      "************************************************* \n",
      "\n"
     ]
    },
    {
     "name": "stderr",
     "output_type": "stream",
     "text": [
      "/tmp/ipykernel_8229/2184178469.py:98: DeprecationWarning: distutils Version classes are deprecated. Use packaging.version instead.\n",
      "  weak_ft=T.tempopulsar('Perfect_Model.par','iteration_sub.tim')\n"
     ]
    },
    {
     "name": "stdout",
     "output_type": "stream",
     "text": [
      "spr************************************************* \n",
      "Warning: you are running in tempo1 emulation mode \n",
      "************************************************* \n",
      "\n"
     ]
    },
    {
     "name": "stderr",
     "output_type": "stream",
     "text": [
      "/tmp/ipykernel_8229/2184178469.py:98: DeprecationWarning: distutils Version classes are deprecated. Use packaging.version instead.\n",
      "  weak_ft=T.tempopulsar('Perfect_Model.par','iteration_sub.tim')\n"
     ]
    },
    {
     "name": "stdout",
     "output_type": "stream",
     "text": [
      "spr************************************************* \n",
      "Warning: you are running in tempo1 emulation mode \n",
      "************************************************* \n",
      "\n"
     ]
    },
    {
     "name": "stderr",
     "output_type": "stream",
     "text": [
      "/tmp/ipykernel_8229/2184178469.py:98: DeprecationWarning: distutils Version classes are deprecated. Use packaging.version instead.\n",
      "  weak_ft=T.tempopulsar('Perfect_Model.par','iteration_sub.tim')\n"
     ]
    },
    {
     "name": "stdout",
     "output_type": "stream",
     "text": [
      "spr\n",
      "************************************************* \n",
      "Warning: you are running in tempo1 emulation mode \n",
      "************************************************* \n"
     ]
    },
    {
     "name": "stderr",
     "output_type": "stream",
     "text": [
      "/tmp/ipykernel_8229/2184178469.py:98: DeprecationWarning: distutils Version classes are deprecated. Use packaging.version instead.\n",
      "  weak_ft=T.tempopulsar('Perfect_Model.par','iteration_sub.tim')\n"
     ]
    },
    {
     "name": "stdout",
     "output_type": "stream",
     "text": [
      "spr************************************************* \n",
      "Warning: you are running in tempo1 emulation mode \n",
      "************************************************* \n",
      "\n",
      "iteration: 87\n",
      "************************************************* \n",
      "Warning: you are running in tempo1 emulation mode \n",
      "************************************************* \n",
      "************************************************* \n",
      "Warning: you are running in tempo1 emulation mode \n",
      "************************************************* \n"
     ]
    },
    {
     "name": "stderr",
     "output_type": "stream",
     "text": [
      "/tmp/ipykernel_8229/2184178469.py:98: DeprecationWarning: distutils Version classes are deprecated. Use packaging.version instead.\n",
      "  weak_ft=T.tempopulsar('Perfect_Model.par','iteration_sub.tim')\n"
     ]
    },
    {
     "name": "stdout",
     "output_type": "stream",
     "text": [
      "spr************************************************* \n",
      "Warning: you are running in tempo1 emulation mode \n",
      "************************************************* \n",
      "\n"
     ]
    },
    {
     "name": "stderr",
     "output_type": "stream",
     "text": [
      "/tmp/ipykernel_8229/2184178469.py:98: DeprecationWarning: distutils Version classes are deprecated. Use packaging.version instead.\n",
      "  weak_ft=T.tempopulsar('Perfect_Model.par','iteration_sub.tim')\n"
     ]
    },
    {
     "name": "stdout",
     "output_type": "stream",
     "text": [
      "spr************************************************* \n",
      "Warning: you are running in tempo1 emulation mode \n",
      "************************************************* \n",
      "\n"
     ]
    },
    {
     "name": "stderr",
     "output_type": "stream",
     "text": [
      "/tmp/ipykernel_8229/2184178469.py:98: DeprecationWarning: distutils Version classes are deprecated. Use packaging.version instead.\n",
      "  weak_ft=T.tempopulsar('Perfect_Model.par','iteration_sub.tim')\n"
     ]
    },
    {
     "name": "stdout",
     "output_type": "stream",
     "text": [
      "spr************************************************* \n",
      "Warning: you are running in tempo1 emulation mode \n",
      "************************************************* \n",
      "\n"
     ]
    },
    {
     "name": "stderr",
     "output_type": "stream",
     "text": [
      "/tmp/ipykernel_8229/2184178469.py:98: DeprecationWarning: distutils Version classes are deprecated. Use packaging.version instead.\n",
      "  weak_ft=T.tempopulsar('Perfect_Model.par','iteration_sub.tim')\n"
     ]
    },
    {
     "name": "stdout",
     "output_type": "stream",
     "text": [
      "spr************************************************* \n",
      "Warning: you are running in tempo1 emulation mode \n",
      "************************************************* \n",
      "\n"
     ]
    },
    {
     "name": "stderr",
     "output_type": "stream",
     "text": [
      "/tmp/ipykernel_8229/2184178469.py:98: DeprecationWarning: distutils Version classes are deprecated. Use packaging.version instead.\n",
      "  weak_ft=T.tempopulsar('Perfect_Model.par','iteration_sub.tim')\n"
     ]
    },
    {
     "name": "stdout",
     "output_type": "stream",
     "text": [
      "spr************************************************* \n",
      "Warning: you are running in tempo1 emulation mode \n",
      "************************************************* \n",
      "\n"
     ]
    },
    {
     "name": "stderr",
     "output_type": "stream",
     "text": [
      "/tmp/ipykernel_8229/2184178469.py:98: DeprecationWarning: distutils Version classes are deprecated. Use packaging.version instead.\n",
      "  weak_ft=T.tempopulsar('Perfect_Model.par','iteration_sub.tim')\n"
     ]
    },
    {
     "name": "stdout",
     "output_type": "stream",
     "text": [
      "spr************************************************* \n",
      "Warning: you are running in tempo1 emulation mode \n",
      "************************************************* \n",
      "\n"
     ]
    },
    {
     "name": "stderr",
     "output_type": "stream",
     "text": [
      "/tmp/ipykernel_8229/2184178469.py:98: DeprecationWarning: distutils Version classes are deprecated. Use packaging.version instead.\n",
      "  weak_ft=T.tempopulsar('Perfect_Model.par','iteration_sub.tim')\n"
     ]
    },
    {
     "name": "stdout",
     "output_type": "stream",
     "text": [
      "spr************************************************* \n",
      "Warning: you are running in tempo1 emulation mode \n",
      "************************************************* \n",
      "\n"
     ]
    },
    {
     "name": "stderr",
     "output_type": "stream",
     "text": [
      "/tmp/ipykernel_8229/2184178469.py:98: DeprecationWarning: distutils Version classes are deprecated. Use packaging.version instead.\n",
      "  weak_ft=T.tempopulsar('Perfect_Model.par','iteration_sub.tim')\n"
     ]
    },
    {
     "name": "stdout",
     "output_type": "stream",
     "text": [
      "spr\n",
      "************************************************* \n",
      "Warning: you are running in tempo1 emulation mode \n",
      "************************************************* \n"
     ]
    },
    {
     "name": "stderr",
     "output_type": "stream",
     "text": [
      "/tmp/ipykernel_8229/2184178469.py:98: DeprecationWarning: distutils Version classes are deprecated. Use packaging.version instead.\n",
      "  weak_ft=T.tempopulsar('Perfect_Model.par','iteration_sub.tim')\n"
     ]
    },
    {
     "name": "stdout",
     "output_type": "stream",
     "text": [
      "spr\n",
      "************************************************* \n",
      "Warning: you are running in tempo1 emulation mode \n",
      "************************************************* \n"
     ]
    },
    {
     "name": "stderr",
     "output_type": "stream",
     "text": [
      "/tmp/ipykernel_8229/2184178469.py:98: DeprecationWarning: distutils Version classes are deprecated. Use packaging.version instead.\n",
      "  weak_ft=T.tempopulsar('Perfect_Model.par','iteration_sub.tim')\n"
     ]
    },
    {
     "name": "stdout",
     "output_type": "stream",
     "text": [
      "spr************************************************* \n",
      "Warning: you are running in tempo1 emulation mode \n",
      "************************************************* \n",
      "\n",
      "iteration: 88\n",
      "************************************************* \n",
      "Warning: you are running in tempo1 emulation mode \n",
      "************************************************* \n",
      "************************************************* \n",
      "Warning: you are running in tempo1 emulation mode \n",
      "************************************************* \n"
     ]
    },
    {
     "name": "stderr",
     "output_type": "stream",
     "text": [
      "/tmp/ipykernel_8229/2184178469.py:98: DeprecationWarning: distutils Version classes are deprecated. Use packaging.version instead.\n",
      "  weak_ft=T.tempopulsar('Perfect_Model.par','iteration_sub.tim')\n"
     ]
    },
    {
     "name": "stdout",
     "output_type": "stream",
     "text": [
      "spr************************************************* \n",
      "Warning: you are running in tempo1 emulation mode \n",
      "************************************************* \n",
      "\n"
     ]
    },
    {
     "name": "stderr",
     "output_type": "stream",
     "text": [
      "/tmp/ipykernel_8229/2184178469.py:98: DeprecationWarning: distutils Version classes are deprecated. Use packaging.version instead.\n",
      "  weak_ft=T.tempopulsar('Perfect_Model.par','iteration_sub.tim')\n"
     ]
    },
    {
     "name": "stdout",
     "output_type": "stream",
     "text": [
      "spr************************************************* \n",
      "Warning: you are running in tempo1 emulation mode \n",
      "************************************************* \n",
      "\n"
     ]
    },
    {
     "name": "stderr",
     "output_type": "stream",
     "text": [
      "/tmp/ipykernel_8229/2184178469.py:98: DeprecationWarning: distutils Version classes are deprecated. Use packaging.version instead.\n",
      "  weak_ft=T.tempopulsar('Perfect_Model.par','iteration_sub.tim')\n"
     ]
    },
    {
     "name": "stdout",
     "output_type": "stream",
     "text": [
      "spr************************************************* \n",
      "Warning: you are running in tempo1 emulation mode \n",
      "************************************************* \n",
      "\n"
     ]
    },
    {
     "name": "stderr",
     "output_type": "stream",
     "text": [
      "/tmp/ipykernel_8229/2184178469.py:98: DeprecationWarning: distutils Version classes are deprecated. Use packaging.version instead.\n",
      "  weak_ft=T.tempopulsar('Perfect_Model.par','iteration_sub.tim')\n"
     ]
    },
    {
     "name": "stdout",
     "output_type": "stream",
     "text": [
      "spr************************************************* \n",
      "Warning: you are running in tempo1 emulation mode \n",
      "************************************************* \n",
      "\n"
     ]
    },
    {
     "name": "stderr",
     "output_type": "stream",
     "text": [
      "/tmp/ipykernel_8229/2184178469.py:98: DeprecationWarning: distutils Version classes are deprecated. Use packaging.version instead.\n",
      "  weak_ft=T.tempopulsar('Perfect_Model.par','iteration_sub.tim')\n"
     ]
    },
    {
     "name": "stdout",
     "output_type": "stream",
     "text": [
      "spr************************************************* \n",
      "Warning: you are running in tempo1 emulation mode \n",
      "************************************************* \n",
      "\n"
     ]
    },
    {
     "name": "stderr",
     "output_type": "stream",
     "text": [
      "/tmp/ipykernel_8229/2184178469.py:98: DeprecationWarning: distutils Version classes are deprecated. Use packaging.version instead.\n",
      "  weak_ft=T.tempopulsar('Perfect_Model.par','iteration_sub.tim')\n"
     ]
    },
    {
     "name": "stdout",
     "output_type": "stream",
     "text": [
      "spr************************************************* \n",
      "Warning: you are running in tempo1 emulation mode \n",
      "************************************************* \n",
      "\n"
     ]
    },
    {
     "name": "stderr",
     "output_type": "stream",
     "text": [
      "/tmp/ipykernel_8229/2184178469.py:98: DeprecationWarning: distutils Version classes are deprecated. Use packaging.version instead.\n",
      "  weak_ft=T.tempopulsar('Perfect_Model.par','iteration_sub.tim')\n"
     ]
    },
    {
     "name": "stdout",
     "output_type": "stream",
     "text": [
      "spr************************************************* \n",
      "Warning: you are running in tempo1 emulation mode \n",
      "************************************************* \n",
      "\n"
     ]
    },
    {
     "name": "stderr",
     "output_type": "stream",
     "text": [
      "/tmp/ipykernel_8229/2184178469.py:98: DeprecationWarning: distutils Version classes are deprecated. Use packaging.version instead.\n",
      "  weak_ft=T.tempopulsar('Perfect_Model.par','iteration_sub.tim')\n"
     ]
    },
    {
     "name": "stdout",
     "output_type": "stream",
     "text": [
      "spr************************************************* \n",
      "Warning: you are running in tempo1 emulation mode \n",
      "************************************************* \n",
      "\n"
     ]
    },
    {
     "name": "stderr",
     "output_type": "stream",
     "text": [
      "/tmp/ipykernel_8229/2184178469.py:98: DeprecationWarning: distutils Version classes are deprecated. Use packaging.version instead.\n",
      "  weak_ft=T.tempopulsar('Perfect_Model.par','iteration_sub.tim')\n"
     ]
    },
    {
     "name": "stdout",
     "output_type": "stream",
     "text": [
      "spr************************************************* \n",
      "Warning: you are running in tempo1 emulation mode \n",
      "************************************************* \n",
      "\n"
     ]
    },
    {
     "name": "stderr",
     "output_type": "stream",
     "text": [
      "/tmp/ipykernel_8229/2184178469.py:98: DeprecationWarning: distutils Version classes are deprecated. Use packaging.version instead.\n",
      "  weak_ft=T.tempopulsar('Perfect_Model.par','iteration_sub.tim')\n"
     ]
    },
    {
     "name": "stdout",
     "output_type": "stream",
     "text": [
      "spr************************************************* \n",
      "Warning: you are running in tempo1 emulation mode \n",
      "************************************************* \n",
      "\n",
      "iteration: 89\n",
      "************************************************* \n",
      "Warning: you are running in tempo1 emulation mode \n",
      "************************************************* \n",
      "************************************************* \n",
      "Warning: you are running in tempo1 emulation mode \n",
      "************************************************* \n"
     ]
    },
    {
     "name": "stderr",
     "output_type": "stream",
     "text": [
      "/tmp/ipykernel_8229/2184178469.py:98: DeprecationWarning: distutils Version classes are deprecated. Use packaging.version instead.\n",
      "  weak_ft=T.tempopulsar('Perfect_Model.par','iteration_sub.tim')\n"
     ]
    },
    {
     "name": "stdout",
     "output_type": "stream",
     "text": [
      "spr************************************************* \n",
      "Warning: you are running in tempo1 emulation mode \n",
      "************************************************* \n",
      "\n"
     ]
    },
    {
     "name": "stderr",
     "output_type": "stream",
     "text": [
      "/tmp/ipykernel_8229/2184178469.py:98: DeprecationWarning: distutils Version classes are deprecated. Use packaging.version instead.\n",
      "  weak_ft=T.tempopulsar('Perfect_Model.par','iteration_sub.tim')\n"
     ]
    },
    {
     "name": "stdout",
     "output_type": "stream",
     "text": [
      "spr************************************************* \n",
      "Warning: you are running in tempo1 emulation mode \n",
      "************************************************* \n",
      "\n"
     ]
    },
    {
     "name": "stderr",
     "output_type": "stream",
     "text": [
      "/tmp/ipykernel_8229/2184178469.py:98: DeprecationWarning: distutils Version classes are deprecated. Use packaging.version instead.\n",
      "  weak_ft=T.tempopulsar('Perfect_Model.par','iteration_sub.tim')\n"
     ]
    },
    {
     "name": "stdout",
     "output_type": "stream",
     "text": [
      "spr************************************************* \n",
      "Warning: you are running in tempo1 emulation mode \n",
      "************************************************* \n",
      "\n"
     ]
    },
    {
     "name": "stderr",
     "output_type": "stream",
     "text": [
      "/tmp/ipykernel_8229/2184178469.py:98: DeprecationWarning: distutils Version classes are deprecated. Use packaging.version instead.\n",
      "  weak_ft=T.tempopulsar('Perfect_Model.par','iteration_sub.tim')\n"
     ]
    },
    {
     "name": "stdout",
     "output_type": "stream",
     "text": [
      "spr************************************************* \n",
      "Warning: you are running in tempo1 emulation mode \n",
      "************************************************* \n",
      "\n"
     ]
    },
    {
     "name": "stderr",
     "output_type": "stream",
     "text": [
      "/tmp/ipykernel_8229/2184178469.py:98: DeprecationWarning: distutils Version classes are deprecated. Use packaging.version instead.\n",
      "  weak_ft=T.tempopulsar('Perfect_Model.par','iteration_sub.tim')\n"
     ]
    },
    {
     "name": "stdout",
     "output_type": "stream",
     "text": [
      "spr************************************************* \n",
      "Warning: you are running in tempo1 emulation mode \n",
      "************************************************* \n",
      "\n"
     ]
    },
    {
     "name": "stderr",
     "output_type": "stream",
     "text": [
      "/tmp/ipykernel_8229/2184178469.py:98: DeprecationWarning: distutils Version classes are deprecated. Use packaging.version instead.\n",
      "  weak_ft=T.tempopulsar('Perfect_Model.par','iteration_sub.tim')\n"
     ]
    },
    {
     "name": "stdout",
     "output_type": "stream",
     "text": [
      "spr************************************************* \n",
      "Warning: you are running in tempo1 emulation mode \n",
      "************************************************* \n",
      "\n"
     ]
    },
    {
     "name": "stderr",
     "output_type": "stream",
     "text": [
      "/tmp/ipykernel_8229/2184178469.py:98: DeprecationWarning: distutils Version classes are deprecated. Use packaging.version instead.\n",
      "  weak_ft=T.tempopulsar('Perfect_Model.par','iteration_sub.tim')\n"
     ]
    },
    {
     "name": "stdout",
     "output_type": "stream",
     "text": [
      "spr************************************************* \n",
      "Warning: you are running in tempo1 emulation mode \n",
      "************************************************* \n",
      "\n"
     ]
    },
    {
     "name": "stderr",
     "output_type": "stream",
     "text": [
      "/tmp/ipykernel_8229/2184178469.py:98: DeprecationWarning: distutils Version classes are deprecated. Use packaging.version instead.\n",
      "  weak_ft=T.tempopulsar('Perfect_Model.par','iteration_sub.tim')\n"
     ]
    },
    {
     "name": "stdout",
     "output_type": "stream",
     "text": [
      "spr************************************************* \n",
      "Warning: you are running in tempo1 emulation mode \n",
      "************************************************* \n",
      "\n"
     ]
    },
    {
     "name": "stderr",
     "output_type": "stream",
     "text": [
      "/tmp/ipykernel_8229/2184178469.py:98: DeprecationWarning: distutils Version classes are deprecated. Use packaging.version instead.\n",
      "  weak_ft=T.tempopulsar('Perfect_Model.par','iteration_sub.tim')\n"
     ]
    },
    {
     "name": "stdout",
     "output_type": "stream",
     "text": [
      "spr************************************************* \n",
      "Warning: you are running in tempo1 emulation mode \n",
      "************************************************* \n",
      "\n"
     ]
    },
    {
     "name": "stderr",
     "output_type": "stream",
     "text": [
      "/tmp/ipykernel_8229/2184178469.py:98: DeprecationWarning: distutils Version classes are deprecated. Use packaging.version instead.\n",
      "  weak_ft=T.tempopulsar('Perfect_Model.par','iteration_sub.tim')\n"
     ]
    },
    {
     "name": "stdout",
     "output_type": "stream",
     "text": [
      "spr************************************************* \n",
      "Warning: you are running in tempo1 emulation mode \n",
      "************************************************* \n",
      "\n",
      "iteration: 90\n",
      "************************************************* \n",
      "Warning: you are running in tempo1 emulation mode \n",
      "************************************************* \n",
      "************************************************* \n",
      "Warning: you are running in tempo1 emulation mode \n",
      "************************************************* \n"
     ]
    },
    {
     "name": "stderr",
     "output_type": "stream",
     "text": [
      "/tmp/ipykernel_8229/2184178469.py:98: DeprecationWarning: distutils Version classes are deprecated. Use packaging.version instead.\n",
      "  weak_ft=T.tempopulsar('Perfect_Model.par','iteration_sub.tim')\n"
     ]
    },
    {
     "name": "stdout",
     "output_type": "stream",
     "text": [
      "spr************************************************* \n",
      "Warning: you are running in tempo1 emulation mode \n",
      "************************************************* \n",
      "\n"
     ]
    },
    {
     "name": "stderr",
     "output_type": "stream",
     "text": [
      "/tmp/ipykernel_8229/2184178469.py:98: DeprecationWarning: distutils Version classes are deprecated. Use packaging.version instead.\n",
      "  weak_ft=T.tempopulsar('Perfect_Model.par','iteration_sub.tim')\n"
     ]
    },
    {
     "name": "stdout",
     "output_type": "stream",
     "text": [
      "spr************************************************* \n",
      "Warning: you are running in tempo1 emulation mode \n",
      "************************************************* \n",
      "\n"
     ]
    },
    {
     "name": "stderr",
     "output_type": "stream",
     "text": [
      "/tmp/ipykernel_8229/2184178469.py:98: DeprecationWarning: distutils Version classes are deprecated. Use packaging.version instead.\n",
      "  weak_ft=T.tempopulsar('Perfect_Model.par','iteration_sub.tim')\n"
     ]
    },
    {
     "name": "stdout",
     "output_type": "stream",
     "text": [
      "spr************************************************* \n",
      "Warning: you are running in tempo1 emulation mode \n",
      "************************************************* \n",
      "\n"
     ]
    },
    {
     "name": "stderr",
     "output_type": "stream",
     "text": [
      "/tmp/ipykernel_8229/2184178469.py:98: DeprecationWarning: distutils Version classes are deprecated. Use packaging.version instead.\n",
      "  weak_ft=T.tempopulsar('Perfect_Model.par','iteration_sub.tim')\n"
     ]
    },
    {
     "name": "stdout",
     "output_type": "stream",
     "text": [
      "spr************************************************* \n",
      "Warning: you are running in tempo1 emulation mode \n",
      "************************************************* \n",
      "\n"
     ]
    },
    {
     "name": "stderr",
     "output_type": "stream",
     "text": [
      "/tmp/ipykernel_8229/2184178469.py:98: DeprecationWarning: distutils Version classes are deprecated. Use packaging.version instead.\n",
      "  weak_ft=T.tempopulsar('Perfect_Model.par','iteration_sub.tim')\n"
     ]
    },
    {
     "name": "stdout",
     "output_type": "stream",
     "text": [
      "spr************************************************* \n",
      "Warning: you are running in tempo1 emulation mode \n",
      "************************************************* \n",
      "\n"
     ]
    },
    {
     "name": "stderr",
     "output_type": "stream",
     "text": [
      "/tmp/ipykernel_8229/2184178469.py:98: DeprecationWarning: distutils Version classes are deprecated. Use packaging.version instead.\n",
      "  weak_ft=T.tempopulsar('Perfect_Model.par','iteration_sub.tim')\n"
     ]
    },
    {
     "name": "stdout",
     "output_type": "stream",
     "text": [
      "spr************************************************* \n",
      "Warning: you are running in tempo1 emulation mode \n",
      "************************************************* \n",
      "\n"
     ]
    },
    {
     "name": "stderr",
     "output_type": "stream",
     "text": [
      "/tmp/ipykernel_8229/2184178469.py:98: DeprecationWarning: distutils Version classes are deprecated. Use packaging.version instead.\n",
      "  weak_ft=T.tempopulsar('Perfect_Model.par','iteration_sub.tim')\n"
     ]
    },
    {
     "name": "stdout",
     "output_type": "stream",
     "text": [
      "spr************************************************* \n",
      "Warning: you are running in tempo1 emulation mode \n",
      "************************************************* \n",
      "\n"
     ]
    },
    {
     "name": "stderr",
     "output_type": "stream",
     "text": [
      "/tmp/ipykernel_8229/2184178469.py:98: DeprecationWarning: distutils Version classes are deprecated. Use packaging.version instead.\n",
      "  weak_ft=T.tempopulsar('Perfect_Model.par','iteration_sub.tim')\n"
     ]
    },
    {
     "name": "stdout",
     "output_type": "stream",
     "text": [
      "spr************************************************* \n",
      "Warning: you are running in tempo1 emulation mode \n",
      "************************************************* \n",
      "\n"
     ]
    },
    {
     "name": "stderr",
     "output_type": "stream",
     "text": [
      "/tmp/ipykernel_8229/2184178469.py:98: DeprecationWarning: distutils Version classes are deprecated. Use packaging.version instead.\n",
      "  weak_ft=T.tempopulsar('Perfect_Model.par','iteration_sub.tim')\n"
     ]
    },
    {
     "name": "stdout",
     "output_type": "stream",
     "text": [
      "spr************************************************* \n",
      "Warning: you are running in tempo1 emulation mode \n",
      "************************************************* \n",
      "\n"
     ]
    },
    {
     "name": "stderr",
     "output_type": "stream",
     "text": [
      "/tmp/ipykernel_8229/2184178469.py:98: DeprecationWarning: distutils Version classes are deprecated. Use packaging.version instead.\n",
      "  weak_ft=T.tempopulsar('Perfect_Model.par','iteration_sub.tim')\n"
     ]
    },
    {
     "name": "stdout",
     "output_type": "stream",
     "text": [
      "spr************************************************* \n",
      "Warning: you are running in tempo1 emulation mode \n",
      "************************************************* \n",
      "\n",
      "iteration: 91\n",
      "************************************************* \n",
      "Warning: you are running in tempo1 emulation mode \n",
      "************************************************* \n",
      "************************************************* \n",
      "Warning: you are running in tempo1 emulation mode \n",
      "************************************************* \n"
     ]
    },
    {
     "name": "stderr",
     "output_type": "stream",
     "text": [
      "/tmp/ipykernel_8229/2184178469.py:98: DeprecationWarning: distutils Version classes are deprecated. Use packaging.version instead.\n",
      "  weak_ft=T.tempopulsar('Perfect_Model.par','iteration_sub.tim')\n"
     ]
    },
    {
     "name": "stdout",
     "output_type": "stream",
     "text": [
      "spr************************************************* \n",
      "Warning: you are running in tempo1 emulation mode \n",
      "************************************************* \n",
      "\n"
     ]
    },
    {
     "name": "stderr",
     "output_type": "stream",
     "text": [
      "/tmp/ipykernel_8229/2184178469.py:98: DeprecationWarning: distutils Version classes are deprecated. Use packaging.version instead.\n",
      "  weak_ft=T.tempopulsar('Perfect_Model.par','iteration_sub.tim')\n"
     ]
    },
    {
     "name": "stdout",
     "output_type": "stream",
     "text": [
      "spr************************************************* \n",
      "Warning: you are running in tempo1 emulation mode \n",
      "************************************************* \n",
      "\n"
     ]
    },
    {
     "name": "stderr",
     "output_type": "stream",
     "text": [
      "/tmp/ipykernel_8229/2184178469.py:98: DeprecationWarning: distutils Version classes are deprecated. Use packaging.version instead.\n",
      "  weak_ft=T.tempopulsar('Perfect_Model.par','iteration_sub.tim')\n"
     ]
    },
    {
     "name": "stdout",
     "output_type": "stream",
     "text": [
      "spr************************************************* \n",
      "Warning: you are running in tempo1 emulation mode \n",
      "************************************************* \n",
      "\n"
     ]
    },
    {
     "name": "stderr",
     "output_type": "stream",
     "text": [
      "/tmp/ipykernel_8229/2184178469.py:98: DeprecationWarning: distutils Version classes are deprecated. Use packaging.version instead.\n",
      "  weak_ft=T.tempopulsar('Perfect_Model.par','iteration_sub.tim')\n"
     ]
    },
    {
     "name": "stdout",
     "output_type": "stream",
     "text": [
      "spr************************************************* \n",
      "Warning: you are running in tempo1 emulation mode \n",
      "************************************************* \n",
      "\n"
     ]
    },
    {
     "name": "stderr",
     "output_type": "stream",
     "text": [
      "/tmp/ipykernel_8229/2184178469.py:98: DeprecationWarning: distutils Version classes are deprecated. Use packaging.version instead.\n",
      "  weak_ft=T.tempopulsar('Perfect_Model.par','iteration_sub.tim')\n"
     ]
    },
    {
     "name": "stdout",
     "output_type": "stream",
     "text": [
      "spr\n",
      "************************************************* \n",
      "Warning: you are running in tempo1 emulation mode \n",
      "************************************************* \n"
     ]
    },
    {
     "name": "stderr",
     "output_type": "stream",
     "text": [
      "/tmp/ipykernel_8229/2184178469.py:98: DeprecationWarning: distutils Version classes are deprecated. Use packaging.version instead.\n",
      "  weak_ft=T.tempopulsar('Perfect_Model.par','iteration_sub.tim')\n"
     ]
    },
    {
     "name": "stdout",
     "output_type": "stream",
     "text": [
      "spr************************************************* \n",
      "Warning: you are running in tempo1 emulation mode \n",
      "************************************************* \n",
      "\n"
     ]
    },
    {
     "name": "stderr",
     "output_type": "stream",
     "text": [
      "/tmp/ipykernel_8229/2184178469.py:98: DeprecationWarning: distutils Version classes are deprecated. Use packaging.version instead.\n",
      "  weak_ft=T.tempopulsar('Perfect_Model.par','iteration_sub.tim')\n"
     ]
    },
    {
     "name": "stdout",
     "output_type": "stream",
     "text": [
      "spr************************************************* \n",
      "Warning: you are running in tempo1 emulation mode \n",
      "************************************************* \n",
      "\n"
     ]
    },
    {
     "name": "stderr",
     "output_type": "stream",
     "text": [
      "/tmp/ipykernel_8229/2184178469.py:98: DeprecationWarning: distutils Version classes are deprecated. Use packaging.version instead.\n",
      "  weak_ft=T.tempopulsar('Perfect_Model.par','iteration_sub.tim')\n"
     ]
    },
    {
     "name": "stdout",
     "output_type": "stream",
     "text": [
      "spr************************************************* \n",
      "Warning: you are running in tempo1 emulation mode \n",
      "************************************************* \n",
      "\n"
     ]
    },
    {
     "name": "stderr",
     "output_type": "stream",
     "text": [
      "/tmp/ipykernel_8229/2184178469.py:98: DeprecationWarning: distutils Version classes are deprecated. Use packaging.version instead.\n",
      "  weak_ft=T.tempopulsar('Perfect_Model.par','iteration_sub.tim')\n"
     ]
    },
    {
     "name": "stdout",
     "output_type": "stream",
     "text": [
      "spr************************************************* \n",
      "Warning: you are running in tempo1 emulation mode \n",
      "************************************************* \n",
      "\n"
     ]
    },
    {
     "name": "stderr",
     "output_type": "stream",
     "text": [
      "/tmp/ipykernel_8229/2184178469.py:98: DeprecationWarning: distutils Version classes are deprecated. Use packaging.version instead.\n",
      "  weak_ft=T.tempopulsar('Perfect_Model.par','iteration_sub.tim')\n"
     ]
    },
    {
     "name": "stdout",
     "output_type": "stream",
     "text": [
      "spr************************************************* \n",
      "Warning: you are running in tempo1 emulation mode \n",
      "************************************************* \n",
      "\n",
      "iteration: 92\n",
      "************************************************* \n",
      "Warning: you are running in tempo1 emulation mode \n",
      "************************************************* \n",
      "************************************************* \n",
      "Warning: you are running in tempo1 emulation mode \n",
      "************************************************* \n"
     ]
    },
    {
     "name": "stderr",
     "output_type": "stream",
     "text": [
      "/tmp/ipykernel_8229/2184178469.py:98: DeprecationWarning: distutils Version classes are deprecated. Use packaging.version instead.\n",
      "  weak_ft=T.tempopulsar('Perfect_Model.par','iteration_sub.tim')\n"
     ]
    },
    {
     "name": "stdout",
     "output_type": "stream",
     "text": [
      "spr************************************************* \n",
      "Warning: you are running in tempo1 emulation mode \n",
      "************************************************* \n",
      "\n"
     ]
    },
    {
     "name": "stderr",
     "output_type": "stream",
     "text": [
      "/tmp/ipykernel_8229/2184178469.py:98: DeprecationWarning: distutils Version classes are deprecated. Use packaging.version instead.\n",
      "  weak_ft=T.tempopulsar('Perfect_Model.par','iteration_sub.tim')\n"
     ]
    },
    {
     "name": "stdout",
     "output_type": "stream",
     "text": [
      "spr************************************************* \n",
      "Warning: you are running in tempo1 emulation mode \n",
      "************************************************* \n",
      "\n"
     ]
    },
    {
     "name": "stderr",
     "output_type": "stream",
     "text": [
      "/tmp/ipykernel_8229/2184178469.py:98: DeprecationWarning: distutils Version classes are deprecated. Use packaging.version instead.\n",
      "  weak_ft=T.tempopulsar('Perfect_Model.par','iteration_sub.tim')\n"
     ]
    },
    {
     "name": "stdout",
     "output_type": "stream",
     "text": [
      "************************************************* \n",
      "Warning: you are running in tempo1 emulation mode \n",
      "************************************************* \n",
      "spr\n"
     ]
    },
    {
     "name": "stderr",
     "output_type": "stream",
     "text": [
      "/tmp/ipykernel_8229/2184178469.py:98: DeprecationWarning: distutils Version classes are deprecated. Use packaging.version instead.\n",
      "  weak_ft=T.tempopulsar('Perfect_Model.par','iteration_sub.tim')\n"
     ]
    },
    {
     "name": "stdout",
     "output_type": "stream",
     "text": [
      "spr************************************************* \n",
      "Warning: you are running in tempo1 emulation mode \n",
      "************************************************* \n",
      "\n"
     ]
    },
    {
     "name": "stderr",
     "output_type": "stream",
     "text": [
      "/tmp/ipykernel_8229/2184178469.py:98: DeprecationWarning: distutils Version classes are deprecated. Use packaging.version instead.\n",
      "  weak_ft=T.tempopulsar('Perfect_Model.par','iteration_sub.tim')\n"
     ]
    },
    {
     "name": "stdout",
     "output_type": "stream",
     "text": [
      "spr************************************************* \n",
      "Warning: you are running in tempo1 emulation mode \n",
      "************************************************* \n",
      "\n"
     ]
    },
    {
     "name": "stderr",
     "output_type": "stream",
     "text": [
      "/tmp/ipykernel_8229/2184178469.py:98: DeprecationWarning: distutils Version classes are deprecated. Use packaging.version instead.\n",
      "  weak_ft=T.tempopulsar('Perfect_Model.par','iteration_sub.tim')\n"
     ]
    },
    {
     "name": "stdout",
     "output_type": "stream",
     "text": [
      "spr\n",
      "************************************************* \n",
      "Warning: you are running in tempo1 emulation mode \n",
      "************************************************* \n"
     ]
    },
    {
     "name": "stderr",
     "output_type": "stream",
     "text": [
      "/tmp/ipykernel_8229/2184178469.py:98: DeprecationWarning: distutils Version classes are deprecated. Use packaging.version instead.\n",
      "  weak_ft=T.tempopulsar('Perfect_Model.par','iteration_sub.tim')\n"
     ]
    },
    {
     "name": "stdout",
     "output_type": "stream",
     "text": [
      "spr************************************************* \n",
      "Warning: you are running in tempo1 emulation mode \n",
      "************************************************* \n",
      "\n"
     ]
    },
    {
     "name": "stderr",
     "output_type": "stream",
     "text": [
      "/tmp/ipykernel_8229/2184178469.py:98: DeprecationWarning: distutils Version classes are deprecated. Use packaging.version instead.\n",
      "  weak_ft=T.tempopulsar('Perfect_Model.par','iteration_sub.tim')\n"
     ]
    },
    {
     "name": "stdout",
     "output_type": "stream",
     "text": [
      "spr************************************************* \n",
      "Warning: you are running in tempo1 emulation mode \n",
      "************************************************* \n",
      "\n"
     ]
    },
    {
     "name": "stderr",
     "output_type": "stream",
     "text": [
      "/tmp/ipykernel_8229/2184178469.py:98: DeprecationWarning: distutils Version classes are deprecated. Use packaging.version instead.\n",
      "  weak_ft=T.tempopulsar('Perfect_Model.par','iteration_sub.tim')\n"
     ]
    },
    {
     "name": "stdout",
     "output_type": "stream",
     "text": [
      "spr************************************************* \n",
      "Warning: you are running in tempo1 emulation mode \n",
      "************************************************* \n",
      "\n"
     ]
    },
    {
     "name": "stderr",
     "output_type": "stream",
     "text": [
      "/tmp/ipykernel_8229/2184178469.py:98: DeprecationWarning: distutils Version classes are deprecated. Use packaging.version instead.\n",
      "  weak_ft=T.tempopulsar('Perfect_Model.par','iteration_sub.tim')\n"
     ]
    },
    {
     "name": "stdout",
     "output_type": "stream",
     "text": [
      "spr************************************************* \n",
      "Warning: you are running in tempo1 emulation mode \n",
      "************************************************* \n",
      "\n",
      "iteration: 93\n",
      "************************************************* \n",
      "Warning: you are running in tempo1 emulation mode \n",
      "************************************************* \n",
      "************************************************* \n",
      "Warning: you are running in tempo1 emulation mode \n",
      "************************************************* \n"
     ]
    },
    {
     "name": "stderr",
     "output_type": "stream",
     "text": [
      "/tmp/ipykernel_8229/2184178469.py:98: DeprecationWarning: distutils Version classes are deprecated. Use packaging.version instead.\n",
      "  weak_ft=T.tempopulsar('Perfect_Model.par','iteration_sub.tim')\n"
     ]
    },
    {
     "name": "stdout",
     "output_type": "stream",
     "text": [
      "spr************************************************* \n",
      "Warning: you are running in tempo1 emulation mode \n",
      "************************************************* \n",
      "\n"
     ]
    },
    {
     "name": "stderr",
     "output_type": "stream",
     "text": [
      "/tmp/ipykernel_8229/2184178469.py:98: DeprecationWarning: distutils Version classes are deprecated. Use packaging.version instead.\n",
      "  weak_ft=T.tempopulsar('Perfect_Model.par','iteration_sub.tim')\n"
     ]
    },
    {
     "name": "stdout",
     "output_type": "stream",
     "text": [
      "************************************************* \n",
      "Warning: you are running in tempo1 emulation mode \n",
      "************************************************* \n",
      "spr\n"
     ]
    },
    {
     "name": "stderr",
     "output_type": "stream",
     "text": [
      "/tmp/ipykernel_8229/2184178469.py:98: DeprecationWarning: distutils Version classes are deprecated. Use packaging.version instead.\n",
      "  weak_ft=T.tempopulsar('Perfect_Model.par','iteration_sub.tim')\n"
     ]
    },
    {
     "name": "stdout",
     "output_type": "stream",
     "text": [
      "spr************************************************* \n",
      "Warning: you are running in tempo1 emulation mode \n",
      "************************************************* \n",
      "\n"
     ]
    },
    {
     "name": "stderr",
     "output_type": "stream",
     "text": [
      "/tmp/ipykernel_8229/2184178469.py:98: DeprecationWarning: distutils Version classes are deprecated. Use packaging.version instead.\n",
      "  weak_ft=T.tempopulsar('Perfect_Model.par','iteration_sub.tim')\n"
     ]
    },
    {
     "name": "stdout",
     "output_type": "stream",
     "text": [
      "spr************************************************* \n",
      "Warning: you are running in tempo1 emulation mode \n",
      "************************************************* \n",
      "\n"
     ]
    },
    {
     "name": "stderr",
     "output_type": "stream",
     "text": [
      "/tmp/ipykernel_8229/2184178469.py:98: DeprecationWarning: distutils Version classes are deprecated. Use packaging.version instead.\n",
      "  weak_ft=T.tempopulsar('Perfect_Model.par','iteration_sub.tim')\n"
     ]
    },
    {
     "name": "stdout",
     "output_type": "stream",
     "text": [
      "spr************************************************* \n",
      "Warning: you are running in tempo1 emulation mode \n",
      "************************************************* \n",
      "\n"
     ]
    },
    {
     "name": "stderr",
     "output_type": "stream",
     "text": [
      "/tmp/ipykernel_8229/2184178469.py:98: DeprecationWarning: distutils Version classes are deprecated. Use packaging.version instead.\n",
      "  weak_ft=T.tempopulsar('Perfect_Model.par','iteration_sub.tim')\n"
     ]
    },
    {
     "name": "stdout",
     "output_type": "stream",
     "text": [
      "spr************************************************* \n",
      "Warning: you are running in tempo1 emulation mode \n",
      "************************************************* \n",
      "\n"
     ]
    },
    {
     "name": "stderr",
     "output_type": "stream",
     "text": [
      "/tmp/ipykernel_8229/2184178469.py:98: DeprecationWarning: distutils Version classes are deprecated. Use packaging.version instead.\n",
      "  weak_ft=T.tempopulsar('Perfect_Model.par','iteration_sub.tim')\n"
     ]
    },
    {
     "name": "stdout",
     "output_type": "stream",
     "text": [
      "************************************************* \n",
      "Warning: you are running in tempo1 emulation mode \n",
      "************************************************* \n",
      "spr\n"
     ]
    },
    {
     "name": "stderr",
     "output_type": "stream",
     "text": [
      "/tmp/ipykernel_8229/2184178469.py:98: DeprecationWarning: distutils Version classes are deprecated. Use packaging.version instead.\n",
      "  weak_ft=T.tempopulsar('Perfect_Model.par','iteration_sub.tim')\n"
     ]
    },
    {
     "name": "stdout",
     "output_type": "stream",
     "text": [
      "************************************************* \n",
      "Warning: you are running in tempo1 emulation mode \n",
      "************************************************* \n",
      "spr\n"
     ]
    },
    {
     "name": "stderr",
     "output_type": "stream",
     "text": [
      "/tmp/ipykernel_8229/2184178469.py:98: DeprecationWarning: distutils Version classes are deprecated. Use packaging.version instead.\n",
      "  weak_ft=T.tempopulsar('Perfect_Model.par','iteration_sub.tim')\n"
     ]
    },
    {
     "name": "stdout",
     "output_type": "stream",
     "text": [
      "************************************************* \n",
      "Warning: you are running in tempo1 emulation mode \n",
      "************************************************* \n",
      "spr\n"
     ]
    },
    {
     "name": "stderr",
     "output_type": "stream",
     "text": [
      "/tmp/ipykernel_8229/2184178469.py:98: DeprecationWarning: distutils Version classes are deprecated. Use packaging.version instead.\n",
      "  weak_ft=T.tempopulsar('Perfect_Model.par','iteration_sub.tim')\n"
     ]
    },
    {
     "name": "stdout",
     "output_type": "stream",
     "text": [
      "spr************************************************* \n",
      "Warning: you are running in tempo1 emulation mode \n",
      "************************************************* \n",
      "\n",
      "iteration: 94\n",
      "************************************************* \n",
      "Warning: you are running in tempo1 emulation mode \n",
      "************************************************* \n",
      "************************************************* \n",
      "Warning: you are running in tempo1 emulation mode \n",
      "************************************************* \n"
     ]
    },
    {
     "name": "stderr",
     "output_type": "stream",
     "text": [
      "/tmp/ipykernel_8229/2184178469.py:98: DeprecationWarning: distutils Version classes are deprecated. Use packaging.version instead.\n",
      "  weak_ft=T.tempopulsar('Perfect_Model.par','iteration_sub.tim')\n"
     ]
    },
    {
     "name": "stdout",
     "output_type": "stream",
     "text": [
      "************************************************* \n",
      "Warning: you are running in tempo1 emulation mode \n",
      "************************************************* \n",
      "spr\n"
     ]
    },
    {
     "name": "stderr",
     "output_type": "stream",
     "text": [
      "/tmp/ipykernel_8229/2184178469.py:98: DeprecationWarning: distutils Version classes are deprecated. Use packaging.version instead.\n",
      "  weak_ft=T.tempopulsar('Perfect_Model.par','iteration_sub.tim')\n"
     ]
    },
    {
     "name": "stdout",
     "output_type": "stream",
     "text": [
      "spr\n",
      "************************************************* \n",
      "Warning: you are running in tempo1 emulation mode \n",
      "************************************************* \n"
     ]
    },
    {
     "name": "stderr",
     "output_type": "stream",
     "text": [
      "/tmp/ipykernel_8229/2184178469.py:98: DeprecationWarning: distutils Version classes are deprecated. Use packaging.version instead.\n",
      "  weak_ft=T.tempopulsar('Perfect_Model.par','iteration_sub.tim')\n"
     ]
    },
    {
     "name": "stdout",
     "output_type": "stream",
     "text": [
      "spr\n",
      "************************************************* \n",
      "Warning: you are running in tempo1 emulation mode \n",
      "************************************************* \n"
     ]
    },
    {
     "name": "stderr",
     "output_type": "stream",
     "text": [
      "/tmp/ipykernel_8229/2184178469.py:98: DeprecationWarning: distutils Version classes are deprecated. Use packaging.version instead.\n",
      "  weak_ft=T.tempopulsar('Perfect_Model.par','iteration_sub.tim')\n"
     ]
    },
    {
     "name": "stdout",
     "output_type": "stream",
     "text": [
      "spr************************************************* \n",
      "Warning: you are running in tempo1 emulation mode \n",
      "************************************************* \n",
      "\n"
     ]
    },
    {
     "name": "stderr",
     "output_type": "stream",
     "text": [
      "/tmp/ipykernel_8229/2184178469.py:98: DeprecationWarning: distutils Version classes are deprecated. Use packaging.version instead.\n",
      "  weak_ft=T.tempopulsar('Perfect_Model.par','iteration_sub.tim')\n"
     ]
    },
    {
     "name": "stdout",
     "output_type": "stream",
     "text": [
      "************************************************* \n",
      "Warning: you are running in tempo1 emulation mode \n",
      "************************************************* \n",
      "spr\n"
     ]
    },
    {
     "name": "stderr",
     "output_type": "stream",
     "text": [
      "/tmp/ipykernel_8229/2184178469.py:98: DeprecationWarning: distutils Version classes are deprecated. Use packaging.version instead.\n",
      "  weak_ft=T.tempopulsar('Perfect_Model.par','iteration_sub.tim')\n"
     ]
    },
    {
     "name": "stdout",
     "output_type": "stream",
     "text": [
      "************************************************* \n",
      "Warning: you are running in tempo1 emulation mode \n",
      "************************************************* \n",
      "spr\n"
     ]
    },
    {
     "name": "stderr",
     "output_type": "stream",
     "text": [
      "/tmp/ipykernel_8229/2184178469.py:98: DeprecationWarning: distutils Version classes are deprecated. Use packaging.version instead.\n",
      "  weak_ft=T.tempopulsar('Perfect_Model.par','iteration_sub.tim')\n"
     ]
    },
    {
     "name": "stdout",
     "output_type": "stream",
     "text": [
      "spr************************************************* \n",
      "Warning: you are running in tempo1 emulation mode \n",
      "************************************************* \n",
      "\n"
     ]
    },
    {
     "name": "stderr",
     "output_type": "stream",
     "text": [
      "/tmp/ipykernel_8229/2184178469.py:98: DeprecationWarning: distutils Version classes are deprecated. Use packaging.version instead.\n",
      "  weak_ft=T.tempopulsar('Perfect_Model.par','iteration_sub.tim')\n"
     ]
    },
    {
     "name": "stdout",
     "output_type": "stream",
     "text": [
      "spr************************************************* \n",
      "Warning: you are running in tempo1 emulation mode \n",
      "************************************************* \n",
      "\n"
     ]
    },
    {
     "name": "stderr",
     "output_type": "stream",
     "text": [
      "/tmp/ipykernel_8229/2184178469.py:98: DeprecationWarning: distutils Version classes are deprecated. Use packaging.version instead.\n",
      "  weak_ft=T.tempopulsar('Perfect_Model.par','iteration_sub.tim')\n"
     ]
    },
    {
     "name": "stdout",
     "output_type": "stream",
     "text": [
      "************************************************* \n",
      "Warning: you are running in tempo1 emulation mode \n",
      "************************************************* \n",
      "spr\n"
     ]
    },
    {
     "name": "stderr",
     "output_type": "stream",
     "text": [
      "/tmp/ipykernel_8229/2184178469.py:98: DeprecationWarning: distutils Version classes are deprecated. Use packaging.version instead.\n",
      "  weak_ft=T.tempopulsar('Perfect_Model.par','iteration_sub.tim')\n"
     ]
    },
    {
     "name": "stdout",
     "output_type": "stream",
     "text": [
      "************************************************* \n",
      "Warning: you are running in tempo1 emulation mode \n",
      "************************************************* \n",
      "spr\n",
      "iteration: 95\n",
      "************************************************* \n",
      "Warning: you are running in tempo1 emulation mode \n",
      "************************************************* \n",
      "************************************************* \n",
      "Warning: you are running in tempo1 emulation mode \n",
      "************************************************* \n"
     ]
    },
    {
     "name": "stderr",
     "output_type": "stream",
     "text": [
      "/tmp/ipykernel_8229/2184178469.py:98: DeprecationWarning: distutils Version classes are deprecated. Use packaging.version instead.\n",
      "  weak_ft=T.tempopulsar('Perfect_Model.par','iteration_sub.tim')\n"
     ]
    },
    {
     "name": "stdout",
     "output_type": "stream",
     "text": [
      "spr************************************************* \n",
      "Warning: you are running in tempo1 emulation mode \n",
      "************************************************* \n",
      "\n"
     ]
    },
    {
     "name": "stderr",
     "output_type": "stream",
     "text": [
      "/tmp/ipykernel_8229/2184178469.py:98: DeprecationWarning: distutils Version classes are deprecated. Use packaging.version instead.\n",
      "  weak_ft=T.tempopulsar('Perfect_Model.par','iteration_sub.tim')\n"
     ]
    },
    {
     "name": "stdout",
     "output_type": "stream",
     "text": [
      "spr************************************************* \n",
      "Warning: you are running in tempo1 emulation mode \n",
      "************************************************* \n",
      "\n"
     ]
    },
    {
     "name": "stderr",
     "output_type": "stream",
     "text": [
      "/tmp/ipykernel_8229/2184178469.py:98: DeprecationWarning: distutils Version classes are deprecated. Use packaging.version instead.\n",
      "  weak_ft=T.tempopulsar('Perfect_Model.par','iteration_sub.tim')\n"
     ]
    },
    {
     "name": "stdout",
     "output_type": "stream",
     "text": [
      "spr************************************************* \n",
      "Warning: you are running in tempo1 emulation mode \n",
      "************************************************* \n",
      "\n"
     ]
    },
    {
     "name": "stderr",
     "output_type": "stream",
     "text": [
      "/tmp/ipykernel_8229/2184178469.py:98: DeprecationWarning: distutils Version classes are deprecated. Use packaging.version instead.\n",
      "  weak_ft=T.tempopulsar('Perfect_Model.par','iteration_sub.tim')\n"
     ]
    },
    {
     "name": "stdout",
     "output_type": "stream",
     "text": [
      "************************************************* \n",
      "Warning: you are running in tempo1 emulation mode \n",
      "************************************************* \n",
      "spr\n"
     ]
    },
    {
     "name": "stderr",
     "output_type": "stream",
     "text": [
      "/tmp/ipykernel_8229/2184178469.py:98: DeprecationWarning: distutils Version classes are deprecated. Use packaging.version instead.\n",
      "  weak_ft=T.tempopulsar('Perfect_Model.par','iteration_sub.tim')\n"
     ]
    },
    {
     "name": "stdout",
     "output_type": "stream",
     "text": [
      "************************************************* \n",
      "Warning: you are running in tempo1 emulation mode \n",
      "************************************************* \n",
      "spr\n"
     ]
    },
    {
     "name": "stderr",
     "output_type": "stream",
     "text": [
      "/tmp/ipykernel_8229/2184178469.py:98: DeprecationWarning: distutils Version classes are deprecated. Use packaging.version instead.\n",
      "  weak_ft=T.tempopulsar('Perfect_Model.par','iteration_sub.tim')\n"
     ]
    },
    {
     "name": "stdout",
     "output_type": "stream",
     "text": [
      "************************************************* \n",
      "Warning: you are running in tempo1 emulation mode \n",
      "************************************************* \n",
      "spr\n"
     ]
    },
    {
     "name": "stderr",
     "output_type": "stream",
     "text": [
      "/tmp/ipykernel_8229/2184178469.py:98: DeprecationWarning: distutils Version classes are deprecated. Use packaging.version instead.\n",
      "  weak_ft=T.tempopulsar('Perfect_Model.par','iteration_sub.tim')\n"
     ]
    },
    {
     "name": "stdout",
     "output_type": "stream",
     "text": [
      "************************************************* \n",
      "Warning: you are running in tempo1 emulation mode \n",
      "************************************************* \n",
      "spr\n"
     ]
    },
    {
     "name": "stderr",
     "output_type": "stream",
     "text": [
      "/tmp/ipykernel_8229/2184178469.py:98: DeprecationWarning: distutils Version classes are deprecated. Use packaging.version instead.\n",
      "  weak_ft=T.tempopulsar('Perfect_Model.par','iteration_sub.tim')\n"
     ]
    },
    {
     "name": "stdout",
     "output_type": "stream",
     "text": [
      "spr************************************************* \n",
      "Warning: you are running in tempo1 emulation mode \n",
      "************************************************* \n",
      "\n"
     ]
    },
    {
     "name": "stderr",
     "output_type": "stream",
     "text": [
      "/tmp/ipykernel_8229/2184178469.py:98: DeprecationWarning: distutils Version classes are deprecated. Use packaging.version instead.\n",
      "  weak_ft=T.tempopulsar('Perfect_Model.par','iteration_sub.tim')\n"
     ]
    },
    {
     "name": "stdout",
     "output_type": "stream",
     "text": [
      "************************************************* \n",
      "Warning: you are running in tempo1 emulation mode \n",
      "************************************************* \n",
      "spr\n"
     ]
    },
    {
     "name": "stderr",
     "output_type": "stream",
     "text": [
      "/tmp/ipykernel_8229/2184178469.py:98: DeprecationWarning: distutils Version classes are deprecated. Use packaging.version instead.\n",
      "  weak_ft=T.tempopulsar('Perfect_Model.par','iteration_sub.tim')\n"
     ]
    },
    {
     "name": "stdout",
     "output_type": "stream",
     "text": [
      "************************************************* \n",
      "Warning: you are running in tempo1 emulation mode \n",
      "************************************************* \n",
      "spr\n",
      "iteration: 96\n",
      "************************************************* \n",
      "Warning: you are running in tempo1 emulation mode \n",
      "************************************************* \n",
      "************************************************* \n",
      "Warning: you are running in tempo1 emulation mode \n",
      "************************************************* \n"
     ]
    },
    {
     "name": "stderr",
     "output_type": "stream",
     "text": [
      "/tmp/ipykernel_8229/2184178469.py:98: DeprecationWarning: distutils Version classes are deprecated. Use packaging.version instead.\n",
      "  weak_ft=T.tempopulsar('Perfect_Model.par','iteration_sub.tim')\n"
     ]
    },
    {
     "name": "stdout",
     "output_type": "stream",
     "text": [
      "spr\n",
      "************************************************* \n",
      "Warning: you are running in tempo1 emulation mode \n",
      "************************************************* \n"
     ]
    },
    {
     "name": "stderr",
     "output_type": "stream",
     "text": [
      "/tmp/ipykernel_8229/2184178469.py:98: DeprecationWarning: distutils Version classes are deprecated. Use packaging.version instead.\n",
      "  weak_ft=T.tempopulsar('Perfect_Model.par','iteration_sub.tim')\n"
     ]
    },
    {
     "name": "stdout",
     "output_type": "stream",
     "text": [
      "************************************************* \n",
      "Warning: you are running in tempo1 emulation mode \n",
      "************************************************* \n",
      "spr\n"
     ]
    },
    {
     "name": "stderr",
     "output_type": "stream",
     "text": [
      "/tmp/ipykernel_8229/2184178469.py:98: DeprecationWarning: distutils Version classes are deprecated. Use packaging.version instead.\n",
      "  weak_ft=T.tempopulsar('Perfect_Model.par','iteration_sub.tim')\n"
     ]
    },
    {
     "name": "stdout",
     "output_type": "stream",
     "text": [
      "spr************************************************* \n",
      "Warning: you are running in tempo1 emulation mode \n",
      "************************************************* \n",
      "\n"
     ]
    },
    {
     "name": "stderr",
     "output_type": "stream",
     "text": [
      "/tmp/ipykernel_8229/2184178469.py:98: DeprecationWarning: distutils Version classes are deprecated. Use packaging.version instead.\n",
      "  weak_ft=T.tempopulsar('Perfect_Model.par','iteration_sub.tim')\n"
     ]
    },
    {
     "name": "stdout",
     "output_type": "stream",
     "text": [
      "************************************************* \n",
      "Warning: you are running in tempo1 emulation mode \n",
      "************************************************* \n",
      "spr\n"
     ]
    },
    {
     "name": "stderr",
     "output_type": "stream",
     "text": [
      "/tmp/ipykernel_8229/2184178469.py:98: DeprecationWarning: distutils Version classes are deprecated. Use packaging.version instead.\n",
      "  weak_ft=T.tempopulsar('Perfect_Model.par','iteration_sub.tim')\n"
     ]
    },
    {
     "name": "stdout",
     "output_type": "stream",
     "text": [
      "spr************************************************* \n",
      "Warning: you are running in tempo1 emulation mode \n",
      "************************************************* \n",
      "\n"
     ]
    },
    {
     "name": "stderr",
     "output_type": "stream",
     "text": [
      "/tmp/ipykernel_8229/2184178469.py:98: DeprecationWarning: distutils Version classes are deprecated. Use packaging.version instead.\n",
      "  weak_ft=T.tempopulsar('Perfect_Model.par','iteration_sub.tim')\n"
     ]
    },
    {
     "name": "stdout",
     "output_type": "stream",
     "text": [
      "************************************************* \n",
      "Warning: you are running in tempo1 emulation mode \n",
      "************************************************* \n",
      "spr\n"
     ]
    },
    {
     "name": "stderr",
     "output_type": "stream",
     "text": [
      "/tmp/ipykernel_8229/2184178469.py:98: DeprecationWarning: distutils Version classes are deprecated. Use packaging.version instead.\n",
      "  weak_ft=T.tempopulsar('Perfect_Model.par','iteration_sub.tim')\n"
     ]
    },
    {
     "name": "stdout",
     "output_type": "stream",
     "text": [
      "spr\n",
      "************************************************* \n",
      "Warning: you are running in tempo1 emulation mode \n",
      "************************************************* \n"
     ]
    },
    {
     "name": "stderr",
     "output_type": "stream",
     "text": [
      "/tmp/ipykernel_8229/2184178469.py:98: DeprecationWarning: distutils Version classes are deprecated. Use packaging.version instead.\n",
      "  weak_ft=T.tempopulsar('Perfect_Model.par','iteration_sub.tim')\n"
     ]
    },
    {
     "name": "stdout",
     "output_type": "stream",
     "text": [
      "************************************************* \n",
      "Warning: you are running in tempo1 emulation mode \n",
      "************************************************* \n",
      "spr\n"
     ]
    },
    {
     "name": "stderr",
     "output_type": "stream",
     "text": [
      "/tmp/ipykernel_8229/2184178469.py:98: DeprecationWarning: distutils Version classes are deprecated. Use packaging.version instead.\n",
      "  weak_ft=T.tempopulsar('Perfect_Model.par','iteration_sub.tim')\n"
     ]
    },
    {
     "name": "stdout",
     "output_type": "stream",
     "text": [
      "spr************************************************* \n",
      "Warning: you are running in tempo1 emulation mode \n",
      "************************************************* \n",
      "\n"
     ]
    },
    {
     "name": "stderr",
     "output_type": "stream",
     "text": [
      "/tmp/ipykernel_8229/2184178469.py:98: DeprecationWarning: distutils Version classes are deprecated. Use packaging.version instead.\n",
      "  weak_ft=T.tempopulsar('Perfect_Model.par','iteration_sub.tim')\n"
     ]
    },
    {
     "name": "stdout",
     "output_type": "stream",
     "text": [
      "************************************************* \n",
      "Warning: you are running in tempo1 emulation mode \n",
      "************************************************* \n",
      "spr\n",
      "iteration: 97\n",
      "************************************************* \n",
      "Warning: you are running in tempo1 emulation mode \n",
      "************************************************* \n",
      "************************************************* \n",
      "Warning: you are running in tempo1 emulation mode \n",
      "************************************************* \n"
     ]
    },
    {
     "name": "stderr",
     "output_type": "stream",
     "text": [
      "/tmp/ipykernel_8229/2184178469.py:98: DeprecationWarning: distutils Version classes are deprecated. Use packaging.version instead.\n",
      "  weak_ft=T.tempopulsar('Perfect_Model.par','iteration_sub.tim')\n"
     ]
    },
    {
     "name": "stdout",
     "output_type": "stream",
     "text": [
      "************************************************* \n",
      "Warning: you are running in tempo1 emulation mode \n",
      "************************************************* \n",
      "spr\n"
     ]
    },
    {
     "name": "stderr",
     "output_type": "stream",
     "text": [
      "/tmp/ipykernel_8229/2184178469.py:98: DeprecationWarning: distutils Version classes are deprecated. Use packaging.version instead.\n",
      "  weak_ft=T.tempopulsar('Perfect_Model.par','iteration_sub.tim')\n"
     ]
    },
    {
     "name": "stdout",
     "output_type": "stream",
     "text": [
      "spr************************************************* \n",
      "Warning: you are running in tempo1 emulation mode \n",
      "************************************************* \n",
      "\n"
     ]
    },
    {
     "name": "stderr",
     "output_type": "stream",
     "text": [
      "/tmp/ipykernel_8229/2184178469.py:98: DeprecationWarning: distutils Version classes are deprecated. Use packaging.version instead.\n",
      "  weak_ft=T.tempopulsar('Perfect_Model.par','iteration_sub.tim')\n"
     ]
    },
    {
     "name": "stdout",
     "output_type": "stream",
     "text": [
      "spr************************************************* \n",
      "Warning: you are running in tempo1 emulation mode \n",
      "************************************************* \n",
      "\n"
     ]
    },
    {
     "name": "stderr",
     "output_type": "stream",
     "text": [
      "/tmp/ipykernel_8229/2184178469.py:98: DeprecationWarning: distutils Version classes are deprecated. Use packaging.version instead.\n",
      "  weak_ft=T.tempopulsar('Perfect_Model.par','iteration_sub.tim')\n"
     ]
    },
    {
     "name": "stdout",
     "output_type": "stream",
     "text": [
      "spr************************************************* \n",
      "Warning: you are running in tempo1 emulation mode \n",
      "************************************************* \n",
      "\n"
     ]
    },
    {
     "name": "stderr",
     "output_type": "stream",
     "text": [
      "/tmp/ipykernel_8229/2184178469.py:98: DeprecationWarning: distutils Version classes are deprecated. Use packaging.version instead.\n",
      "  weak_ft=T.tempopulsar('Perfect_Model.par','iteration_sub.tim')\n"
     ]
    },
    {
     "name": "stdout",
     "output_type": "stream",
     "text": [
      "spr************************************************* \n",
      "Warning: you are running in tempo1 emulation mode \n",
      "************************************************* \n",
      "\n"
     ]
    },
    {
     "name": "stderr",
     "output_type": "stream",
     "text": [
      "/tmp/ipykernel_8229/2184178469.py:98: DeprecationWarning: distutils Version classes are deprecated. Use packaging.version instead.\n",
      "  weak_ft=T.tempopulsar('Perfect_Model.par','iteration_sub.tim')\n"
     ]
    },
    {
     "name": "stdout",
     "output_type": "stream",
     "text": [
      "spr************************************************* \n",
      "Warning: you are running in tempo1 emulation mode \n",
      "************************************************* \n",
      "\n"
     ]
    },
    {
     "name": "stderr",
     "output_type": "stream",
     "text": [
      "/tmp/ipykernel_8229/2184178469.py:98: DeprecationWarning: distutils Version classes are deprecated. Use packaging.version instead.\n",
      "  weak_ft=T.tempopulsar('Perfect_Model.par','iteration_sub.tim')\n"
     ]
    },
    {
     "name": "stdout",
     "output_type": "stream",
     "text": [
      "spr\n",
      "************************************************* \n",
      "Warning: you are running in tempo1 emulation mode \n",
      "************************************************* \n"
     ]
    },
    {
     "name": "stderr",
     "output_type": "stream",
     "text": [
      "/tmp/ipykernel_8229/2184178469.py:98: DeprecationWarning: distutils Version classes are deprecated. Use packaging.version instead.\n",
      "  weak_ft=T.tempopulsar('Perfect_Model.par','iteration_sub.tim')\n"
     ]
    },
    {
     "name": "stdout",
     "output_type": "stream",
     "text": [
      "************************************************* \n",
      "Warning: you are running in tempo1 emulation mode \n",
      "************************************************* \n",
      "spr\n"
     ]
    },
    {
     "name": "stderr",
     "output_type": "stream",
     "text": [
      "/tmp/ipykernel_8229/2184178469.py:98: DeprecationWarning: distutils Version classes are deprecated. Use packaging.version instead.\n",
      "  weak_ft=T.tempopulsar('Perfect_Model.par','iteration_sub.tim')\n"
     ]
    },
    {
     "name": "stdout",
     "output_type": "stream",
     "text": [
      "************************************************* \n",
      "Warning: you are running in tempo1 emulation mode \n",
      "************************************************* \n",
      "spr\n"
     ]
    },
    {
     "name": "stderr",
     "output_type": "stream",
     "text": [
      "/tmp/ipykernel_8229/2184178469.py:98: DeprecationWarning: distutils Version classes are deprecated. Use packaging.version instead.\n",
      "  weak_ft=T.tempopulsar('Perfect_Model.par','iteration_sub.tim')\n"
     ]
    },
    {
     "name": "stdout",
     "output_type": "stream",
     "text": [
      "spr************************************************* \n",
      "Warning: you are running in tempo1 emulation mode \n",
      "************************************************* \n",
      "\n",
      "iteration: 98\n",
      "************************************************* \n",
      "Warning: you are running in tempo1 emulation mode \n",
      "************************************************* \n",
      "************************************************* \n",
      "Warning: you are running in tempo1 emulation mode \n",
      "************************************************* \n"
     ]
    },
    {
     "name": "stderr",
     "output_type": "stream",
     "text": [
      "/tmp/ipykernel_8229/2184178469.py:98: DeprecationWarning: distutils Version classes are deprecated. Use packaging.version instead.\n",
      "  weak_ft=T.tempopulsar('Perfect_Model.par','iteration_sub.tim')\n"
     ]
    },
    {
     "name": "stdout",
     "output_type": "stream",
     "text": [
      "************************************************* \n",
      "Warning: you are running in tempo1 emulation mode \n",
      "************************************************* \n",
      "spr\n"
     ]
    },
    {
     "name": "stderr",
     "output_type": "stream",
     "text": [
      "/tmp/ipykernel_8229/2184178469.py:98: DeprecationWarning: distutils Version classes are deprecated. Use packaging.version instead.\n",
      "  weak_ft=T.tempopulsar('Perfect_Model.par','iteration_sub.tim')\n"
     ]
    },
    {
     "name": "stdout",
     "output_type": "stream",
     "text": [
      "spr************************************************* \n",
      "Warning: you are running in tempo1 emulation mode \n",
      "************************************************* \n",
      "\n"
     ]
    },
    {
     "name": "stderr",
     "output_type": "stream",
     "text": [
      "/tmp/ipykernel_8229/2184178469.py:98: DeprecationWarning: distutils Version classes are deprecated. Use packaging.version instead.\n",
      "  weak_ft=T.tempopulsar('Perfect_Model.par','iteration_sub.tim')\n"
     ]
    },
    {
     "name": "stdout",
     "output_type": "stream",
     "text": [
      "************************************************* \n",
      "Warning: you are running in tempo1 emulation mode \n",
      "************************************************* \n",
      "spr\n"
     ]
    },
    {
     "name": "stderr",
     "output_type": "stream",
     "text": [
      "/tmp/ipykernel_8229/2184178469.py:98: DeprecationWarning: distutils Version classes are deprecated. Use packaging.version instead.\n",
      "  weak_ft=T.tempopulsar('Perfect_Model.par','iteration_sub.tim')\n"
     ]
    },
    {
     "name": "stdout",
     "output_type": "stream",
     "text": [
      "spr************************************************* \n",
      "Warning: you are running in tempo1 emulation mode \n",
      "************************************************* \n",
      "\n"
     ]
    },
    {
     "name": "stderr",
     "output_type": "stream",
     "text": [
      "/tmp/ipykernel_8229/2184178469.py:98: DeprecationWarning: distutils Version classes are deprecated. Use packaging.version instead.\n",
      "  weak_ft=T.tempopulsar('Perfect_Model.par','iteration_sub.tim')\n"
     ]
    },
    {
     "name": "stdout",
     "output_type": "stream",
     "text": [
      "spr************************************************* \n",
      "Warning: you are running in tempo1 emulation mode \n",
      "************************************************* \n",
      "\n"
     ]
    },
    {
     "name": "stderr",
     "output_type": "stream",
     "text": [
      "/tmp/ipykernel_8229/2184178469.py:98: DeprecationWarning: distutils Version classes are deprecated. Use packaging.version instead.\n",
      "  weak_ft=T.tempopulsar('Perfect_Model.par','iteration_sub.tim')\n"
     ]
    },
    {
     "name": "stdout",
     "output_type": "stream",
     "text": [
      "spr************************************************* \n",
      "Warning: you are running in tempo1 emulation mode \n",
      "************************************************* \n",
      "\n"
     ]
    },
    {
     "name": "stderr",
     "output_type": "stream",
     "text": [
      "/tmp/ipykernel_8229/2184178469.py:98: DeprecationWarning: distutils Version classes are deprecated. Use packaging.version instead.\n",
      "  weak_ft=T.tempopulsar('Perfect_Model.par','iteration_sub.tim')\n"
     ]
    },
    {
     "name": "stdout",
     "output_type": "stream",
     "text": [
      "spr************************************************* \n",
      "Warning: you are running in tempo1 emulation mode \n",
      "************************************************* \n",
      "\n"
     ]
    },
    {
     "name": "stderr",
     "output_type": "stream",
     "text": [
      "/tmp/ipykernel_8229/2184178469.py:98: DeprecationWarning: distutils Version classes are deprecated. Use packaging.version instead.\n",
      "  weak_ft=T.tempopulsar('Perfect_Model.par','iteration_sub.tim')\n"
     ]
    },
    {
     "name": "stdout",
     "output_type": "stream",
     "text": [
      "spr\n",
      "************************************************* \n",
      "Warning: you are running in tempo1 emulation mode \n",
      "************************************************* \n"
     ]
    },
    {
     "name": "stderr",
     "output_type": "stream",
     "text": [
      "/tmp/ipykernel_8229/2184178469.py:98: DeprecationWarning: distutils Version classes are deprecated. Use packaging.version instead.\n",
      "  weak_ft=T.tempopulsar('Perfect_Model.par','iteration_sub.tim')\n"
     ]
    },
    {
     "name": "stdout",
     "output_type": "stream",
     "text": [
      "spr************************************************* \n",
      "Warning: you are running in tempo1 emulation mode \n",
      "************************************************* \n",
      "\n"
     ]
    },
    {
     "name": "stderr",
     "output_type": "stream",
     "text": [
      "/tmp/ipykernel_8229/2184178469.py:98: DeprecationWarning: distutils Version classes are deprecated. Use packaging.version instead.\n",
      "  weak_ft=T.tempopulsar('Perfect_Model.par','iteration_sub.tim')\n"
     ]
    },
    {
     "name": "stdout",
     "output_type": "stream",
     "text": [
      "spr************************************************* \n",
      "Warning: you are running in tempo1 emulation mode \n",
      "************************************************* \n",
      "\n",
      "iteration: 99\n",
      "************************************************* \n",
      "Warning: you are running in tempo1 emulation mode \n",
      "************************************************* \n",
      "************************************************* \n",
      "Warning: you are running in tempo1 emulation mode \n",
      "************************************************* \n"
     ]
    },
    {
     "name": "stderr",
     "output_type": "stream",
     "text": [
      "/tmp/ipykernel_8229/2184178469.py:98: DeprecationWarning: distutils Version classes are deprecated. Use packaging.version instead.\n",
      "  weak_ft=T.tempopulsar('Perfect_Model.par','iteration_sub.tim')\n"
     ]
    },
    {
     "name": "stdout",
     "output_type": "stream",
     "text": [
      "spr************************************************* \n",
      "Warning: you are running in tempo1 emulation mode \n",
      "************************************************* \n",
      "\n"
     ]
    },
    {
     "name": "stderr",
     "output_type": "stream",
     "text": [
      "/tmp/ipykernel_8229/2184178469.py:98: DeprecationWarning: distutils Version classes are deprecated. Use packaging.version instead.\n",
      "  weak_ft=T.tempopulsar('Perfect_Model.par','iteration_sub.tim')\n"
     ]
    },
    {
     "name": "stdout",
     "output_type": "stream",
     "text": [
      "************************************************* \n",
      "Warning: you are running in tempo1 emulation mode \n",
      "************************************************* \n",
      "spr\n"
     ]
    },
    {
     "name": "stderr",
     "output_type": "stream",
     "text": [
      "/tmp/ipykernel_8229/2184178469.py:98: DeprecationWarning: distutils Version classes are deprecated. Use packaging.version instead.\n",
      "  weak_ft=T.tempopulsar('Perfect_Model.par','iteration_sub.tim')\n"
     ]
    },
    {
     "name": "stdout",
     "output_type": "stream",
     "text": [
      "************************************************* \n",
      "Warning: you are running in tempo1 emulation mode \n",
      "************************************************* \n",
      "spr\n"
     ]
    },
    {
     "name": "stderr",
     "output_type": "stream",
     "text": [
      "/tmp/ipykernel_8229/2184178469.py:98: DeprecationWarning: distutils Version classes are deprecated. Use packaging.version instead.\n",
      "  weak_ft=T.tempopulsar('Perfect_Model.par','iteration_sub.tim')\n"
     ]
    },
    {
     "name": "stdout",
     "output_type": "stream",
     "text": [
      "************************************************* \n",
      "Warning: you are running in tempo1 emulation mode \n",
      "************************************************* \n",
      "spr\n"
     ]
    },
    {
     "name": "stderr",
     "output_type": "stream",
     "text": [
      "/tmp/ipykernel_8229/2184178469.py:98: DeprecationWarning: distutils Version classes are deprecated. Use packaging.version instead.\n",
      "  weak_ft=T.tempopulsar('Perfect_Model.par','iteration_sub.tim')\n"
     ]
    },
    {
     "name": "stdout",
     "output_type": "stream",
     "text": [
      "************************************************* \n",
      "Warning: you are running in tempo1 emulation mode \n",
      "************************************************* \n",
      "spr\n"
     ]
    },
    {
     "name": "stderr",
     "output_type": "stream",
     "text": [
      "/tmp/ipykernel_8229/2184178469.py:98: DeprecationWarning: distutils Version classes are deprecated. Use packaging.version instead.\n",
      "  weak_ft=T.tempopulsar('Perfect_Model.par','iteration_sub.tim')\n"
     ]
    },
    {
     "name": "stdout",
     "output_type": "stream",
     "text": [
      "************************************************* \n",
      "Warning: you are running in tempo1 emulation mode \n",
      "************************************************* \n",
      "spr\n"
     ]
    },
    {
     "name": "stderr",
     "output_type": "stream",
     "text": [
      "/tmp/ipykernel_8229/2184178469.py:98: DeprecationWarning: distutils Version classes are deprecated. Use packaging.version instead.\n",
      "  weak_ft=T.tempopulsar('Perfect_Model.par','iteration_sub.tim')\n"
     ]
    },
    {
     "name": "stdout",
     "output_type": "stream",
     "text": [
      "spr************************************************* \n",
      "Warning: you are running in tempo1 emulation mode \n",
      "************************************************* \n",
      "\n"
     ]
    },
    {
     "name": "stderr",
     "output_type": "stream",
     "text": [
      "/tmp/ipykernel_8229/2184178469.py:98: DeprecationWarning: distutils Version classes are deprecated. Use packaging.version instead.\n",
      "  weak_ft=T.tempopulsar('Perfect_Model.par','iteration_sub.tim')\n"
     ]
    },
    {
     "name": "stdout",
     "output_type": "stream",
     "text": [
      "spr************************************************* \n",
      "Warning: you are running in tempo1 emulation mode \n",
      "************************************************* \n",
      "\n"
     ]
    },
    {
     "name": "stderr",
     "output_type": "stream",
     "text": [
      "/tmp/ipykernel_8229/2184178469.py:98: DeprecationWarning: distutils Version classes are deprecated. Use packaging.version instead.\n",
      "  weak_ft=T.tempopulsar('Perfect_Model.par','iteration_sub.tim')\n"
     ]
    },
    {
     "name": "stdout",
     "output_type": "stream",
     "text": [
      "spr************************************************* \n",
      "Warning: you are running in tempo1 emulation mode \n",
      "************************************************* \n",
      "\n"
     ]
    },
    {
     "name": "stderr",
     "output_type": "stream",
     "text": [
      "/tmp/ipykernel_8229/2184178469.py:98: DeprecationWarning: distutils Version classes are deprecated. Use packaging.version instead.\n",
      "  weak_ft=T.tempopulsar('Perfect_Model.par','iteration_sub.tim')\n"
     ]
    },
    {
     "name": "stdout",
     "output_type": "stream",
     "text": [
      "************************************************* \n",
      "Warning: you are running in tempo1 emulation mode \n",
      "************************************************* \n",
      "spr\n"
     ]
    },
    {
     "data": {
      "text/plain": [
       "<Figure size 432x288 with 0 Axes>"
      ]
     },
     "metadata": {},
     "output_type": "display_data"
    }
   ],
   "source": [
    "incli=60\n",
    "Invest='spr'\n",
    "d=1 # in kpc\n",
    "ephemeris_gen(incli,Invest,d)\n",
    "\n",
    "if Invest=='spr':\n",
    "\n",
    "    param='STIG'                \n",
    "\n",
    "\n",
    "# generate simulation\n",
    "start_mjd=57989\n",
    "end_mjd=69000\n",
    "days=90\n",
    "obs_random_interval=0.3\n",
    "\n",
    "\n",
    "# simulation setting\n",
    "err_set= 95.04*0.28\n",
    "ef_cntrl=1.1\n",
    "\n",
    "# number of realisaions\n",
    "num_sim=100\n",
    "sel=3\n",
    " \n",
    "offset_index_loc=40\n",
    "#location of index of mjd where you want to inspect\n",
    "index_loc=np.array([25,30,35,40,45,50,55,60,65,70])\n",
    "index_loc=index_loc+offset_index_loc\n",
    "\n",
    "# put rms from tempo2. \n",
    "lnL_appender=np.zeros(0)\n",
    "\n",
    "# generate fake observation for simulation.\n",
    "obs_days=np.arange(start_mjd,end_mjd,days)\n",
    "rand_obs=obs_random_interval*days*np.random.randn(len(obs_days))\n",
    "obs_day=obs_days+rand_obs\n",
    "mjd_range=obs_days\n",
    "\n",
    "\n",
    "#generate realizations\n",
    "\n",
    "res_fit_val=np.zeros(0)\n",
    "res_fit_err=np.zeros(0)\n",
    "mjd_fit_loc=np.zeros(0)\n",
    "\n",
    "for i in range(0,num_sim):\n",
    "    print('iteration:',i)\n",
    "    #generate fake datasets for two cases\n",
    "\n",
    "    #rand_obs=0.3*days*np.random.randn(len(obs_days))\n",
    "    perfect = LT.fakepulsar(parfile='Perfect_Model.par',\n",
    "                            obstimes=mjd_range,  \n",
    "                            toaerr=err_set)\n",
    "\n",
    "    LT.add_efac(perfect,efac=ef_cntrl)\n",
    "    perfect_res=perfect.residuals()\n",
    "    \n",
    "    weak = LT.fakepulsar(parfile='Perfect_Model.par',\n",
    "                            obstimes=mjd_range,  \n",
    "                            toaerr=err_set)\n",
    "    \n",
    "    if Invest=='spr':\n",
    "        init_fit_h3=weak['H3'].val\n",
    "        init_fit_others=weak[param].val\n",
    "        weak['H3'].val = 0\n",
    "        weak['H3'].fit = 0\n",
    "        weak[param].val = 1\n",
    "        weak[param].fit = 0\n",
    "    else:\n",
    "        weak['PBDOT'].val=0\n",
    "    LT.add_efac(weak,efac=ef_cntrl)\n",
    "    weak_res=weak.residuals()\n",
    "\n",
    "\n",
    "# 545 is the maximum length of the tim file\n",
    "\n",
    "    weak.savetim('iteration.tim')    \n",
    "        \n",
    "    lnL=[]\n",
    "\n",
    "    #calculate ICs at each satDay.\n",
    "    \n",
    "    for mjd in mjd_range:\n",
    "\n",
    "        if mjd==mjd_range[0]:\n",
    "            pass\n",
    "        else:\n",
    "            model_weak_lnL=  Model.ln_L(weak_res,err_set,(mjd_range<mjd))#,'wo_pbdot')  \n",
    "            model_perfect_lnL=  Model.ln_L(perfect_res,err_set,(mjd_range<mjd))#,'wt_pbdot')\n",
    "\n",
    "            lnL=lnL+[model_weak_lnL-model_perfect_lnL]\n",
    "                \n",
    "\n",
    "    for fit_point in index_loc:\n",
    "        data=pd.read_csv('iteration.tim',skiprows=[i for i in range(fit_point,646)])\n",
    "        pd.DataFrame(data).to_csv('iteration_sub.tim', index=None)\n",
    "        weak_ft=T.tempopulsar('Perfect_Model.par','iteration_sub.tim')\n",
    "\n",
    "        weak_ft['RAJ'].fit = True\n",
    "        weak_ft['DECJ'].fit = True\n",
    "        weak_ft['PB'].fit = True\n",
    "        #sim_wo_ft['PMRA'].fit = True\n",
    "        #sim_wo_ft['PMDEC'].fit = True\n",
    "        #sim_wo_ft['DM'].fit = True\n",
    "        #sim_wo_ft['F0'].fit = True\n",
    "        #sim_wo_ft['F1'].fit = True\n",
    "        #sim_wo_ft['PB'].fit = True\n",
    "        #weak_ft['ECC'].fit = True\n",
    "        #sim_wo_ft['A1'].fit = True\n",
    "        #sim_wo_ft['T0'].fit = True\n",
    "        #sim_wo_ft['OM'].fit = True\n",
    "        #sim_wo_ft['OMDOT'].fit = True\n",
    "        print(Invest)\n",
    "        if Invest=='spr':\n",
    "            #if incli>=60:\n",
    "            #    param='STIG'                \n",
    "            #if incli<60:\n",
    "            #    param='H4'\n",
    "            weak_ft['H3'].val = init_fit_h3\n",
    "            weak_ft[param].val = init_fit_others\n",
    "            weak_ft['H3'].fit = True\n",
    "            weak_ft[param].fit = True\n",
    "            ret = weak_ft.fit()\n",
    "\n",
    "            invest_array2=[weak_ft['H3'].val]  \n",
    "            invest_array_err2=[weak_ft['H3'].err]  \n",
    "            \n",
    "            invest_array=[weak_ft[param].val]  \n",
    "            invest_array_err=[weak_ft[param].err]  \n",
    "            values=[weak_ft['RAJ'].val,weak_ft['DECJ'].val]+[invest_array[0]]+[invest_array2[0]]    \n",
    "            errors=[weak_ft['RAJ'].err,weak_ft['DECJ'].err]+[invest_array_err[0]]+[invest_array_err2[0]]   \n",
    "            \n",
    "            \n",
    "        if Invest=='pbdot':\n",
    "            param='PBDOT'\n",
    "            weak_ft['PBDOT'].fit = True\n",
    "            for i in range(0,3):\n",
    "                ret = weak_ft.fit()\n",
    "            invest_array=[weak_ft['PBDOT'].val]  \n",
    "            invest_array_err=[weak_ft['PBDOT'].err]  \n",
    "            values=[weak_ft['RAJ'].val,weak_ft['DECJ'].val]+invest_array    \n",
    "            errors=[weak_ft['RAJ'].err,weak_ft['DECJ'].err]+invest_array_err   \n",
    "            \n",
    "            \n",
    "              \n",
    "        res_fit_val=np.append(res_fit_val,values)\n",
    "        res_fit_err=np.append(res_fit_err,errors)\n",
    "      \n",
    "    #append ICs at each realization\n",
    "\n",
    "    lnL_appender=np.append(lnL_appender,np.array(lnL))\n",
    "    \n",
    "mjd_range_chisq=mjd_range[1:] \n",
    "num_mjd=len(mjd_range_chisq)       \n",
    "\n",
    "# calculate mean, std of ICs at each mjd.\n",
    "lnL_mean=lnL_appender.reshape(num_sim,num_mjd).mean(axis=0)\n",
    "lnL_std=lnL_appender.reshape(num_sim,num_mjd).std(axis=0)\n",
    "\n",
    "\n",
    "somecondition = True\n",
    "\n",
    "matplotlib.rc('axes',edgecolor='k')\n",
    "plt.figure(1) #create one of the figures that must appear with the chart\n",
    "gs = gridspec.GridSpec(3,1)\n",
    "\n",
    "\n",
    "min_lnL_range=lnL_mean-lnL_std\n",
    "max_lnL_range=lnL_mean+lnL_std\n",
    "\n"
   ]
  },
  {
   "cell_type": "markdown",
   "id": "2cf08fb2",
   "metadata": {},
   "source": [
    "#  3. To see the results, please run the code below"
   ]
  },
  {
   "cell_type": "code",
   "execution_count": 113,
   "id": "894a03a0",
   "metadata": {},
   "outputs": [
    {
     "data": {
      "image/png": "[encoded data removed]",
      "text/plain": [
       "<Figure size 576x720 with 6 Axes>"
      ]
     },
     "metadata": {
      "image/png": {
       "height": 627,
       "width": 593
      },
      "needs_background": "light"
     },
     "output_type": "display_data"
    }
   ],
   "source": [
    "if Invest=='spr':\n",
    "    f, (resid_fig, likeli_fig, meas_fig, meas_fig2) = plt.subplots(4, 1, gridspec_kw={'height_ratios': [40, 20, 10,10]})\n",
    "\n",
    "    resid_fig.figure.set_size_inches(16, 10)\n",
    "    resid_fig.errorbar(mjd_range,perfect_res*1e+6,err_set,fmt='.',label=r'M(D|$\\dot{P}_{\\rm b}\\in$P)')\n",
    "    resid_fig.errorbar(mjd_range,weak_res*1e+6,err_set,fmt='.',label=r'M(D|$\\dot{P}_{\\rm b}\\notin$P)',zorder=100)\n",
    "\n",
    "    resid_fig.set_xticks([])\n",
    "    resid_fig.set_ylabel('Residuals ($\\mu$s)',fontsize=15, color='k')\n",
    "    resid_fig.tick_params(axis='y',  labelsize=15)\n",
    "    resid_fig.legend(fontsize=15)\n",
    "    resid_fig.set_rasterized(True)\n",
    "\n",
    "\n",
    "    likeli_fig.figure.set_size_inches(8, 10)\n",
    "    likeli_fig.axhline(1,xmin=0,xmax=69000,linestyle=':',color='g')\n",
    "    \n",
    "    \n",
    "    #sel_model=min(mjd_range_chisq[(lnL_mean/lnL_std)>sel])\n",
    "#    likeli_fig.axhline(min(lnL_mean[mjd_range_chisq>sel_model]),xmin=0,xmax=69000,linestyle=':',color='r')\n",
    "    likeli_fig.set_yscale('log')\n",
    "    likeli_fig.fill_between(mjd_range_chisq, min_lnL_range, max_lnL_range,\n",
    "                     facecolor=\"green\", alpha=0.2)         \n",
    "    likeli_fig.plot(mjd_range_chisq,lnL_mean,label=r'$\\ln{L}$',color='green') \n",
    " \n",
    "    Z_mjd=mjd_range[1:][index_loc]\n",
    "    mask= [np.around(i,3) in np.around(Z_mjd,3) for i in np.around(mjd_range[1:],3)]\n",
    "\n",
    "    \n",
    "    fitting_values=np.reshape(res_fit_val,[int(len(res_fit_val)/len(values)),len(values)])\n",
    "    fitting_erorrs=np.reshape(res_fit_err,[int(len(res_fit_err)/len(errors)),len(errors)])    \n",
    "    mass_measure=fitting_values[:,3].reshape(num_sim,len(index_loc)).mean(axis=0)\n",
    "    mass_err=fitting_erorrs[:,3].reshape(num_sim,len(index_loc)).mean(axis=0)\n",
    "    sini_measure=fitting_values[:,2].reshape(num_sim,len(index_loc)).mean(axis=0)\n",
    "    sini_err=fitting_erorrs[:,2].reshape(num_sim,len(index_loc)).mean(axis=0)\n",
    "\n",
    "        #pbd_measure_err=res_fit_val.reshape(num_sim,len(index_loc)).std(axis=0)\n",
    "        #pbd_unc_err=res_fit_err.reshape(num_sim,len(index_loc)).std(axis=0)\n",
    "    mask= [i in Z_mjd for i in mjd_range[1:]]\n",
    "    lnL_mean_unc=lnL_mean[mask]\n",
    "    min_lnL_cb=min_lnL_range[mask]\n",
    "    max_lnL_cb=max_lnL_range[mask]\n",
    "    min_lnL_cb=min_lnL_range[mask]\n",
    "    max_lnL_cb=max_lnL_range[mask]\n",
    "      \n",
    "\n",
    "\n",
    "    Z = abs(sini_measure/sini_err)\n",
    "        #normalize = colors.Normalize(vmin=Z.min(), vmax=Z.max())\n",
    "        #Z_err=Z*np.sqrt((pbd_measure_err/pbd_measure)**2+(pbd_unc_err/pbd_unc)**2)\n",
    "\n",
    "\n",
    "#    likeli_fig.axhline(min(lnL_mean_unc[Z>3]),xmin=0,xmax=69000,linestyle=':',color='r')\n",
    "        #ax.axhline(min(Z[Z>3]),xmin=0,xmax=69000,linestyle=':',color='r')\n",
    "\n",
    "    likeli_fig.set_ylabel(r'M(D|$\\dot{P}_{\\rm b}\\notin$P)-M(D|$\\dot{P}_{\\rm b}\\in$P)',fontsize=15, color='k')\n",
    "    likeli_fig.legend(fontsize=15)\n",
    "    likeli_fig.tick_params(axis='both', labelsize=15)\n",
    "    likeli_fig.set_xticks([])\n",
    "\n",
    "\n",
    "    color=meas_fig.scatter(Z_mjd,sini_measure,edgecolors='none',s=50,c=Z, cmap='RdYlGn',zorder=9999999)\n",
    "    \n",
    "    meas_fig.figure.set_size_inches(8, 10)\n",
    "    meas_fig.errorbar(Z_mjd,sini_measure,sini_err,marker='.', linestyle='',color='k')\n",
    "    meas_fig.set_ylabel(r'$\\zeta$',fontsize=15, color='k')\n",
    "    #meas_fig.set_xlabel('MJD',fontsize=15, color='k')\n",
    "    meas_fig.set_xlim(min(mjd_range_chisq),max(mjd_range_chisq))\n",
    "    meas_fig.set_ylim(0,1.5)\n",
    "    meas_fig.tick_params(axis='both', labelsize=15)\n",
    "    meas_fig.set_xticks([])   \n",
    "    add_colorbar_outside(color,meas_fig)\n",
    "\n",
    "    Z = abs(mass_measure/mass_err)\n",
    "    color=meas_fig2.scatter(Z_mjd,mass_measure,edgecolors='none',s=50,c=Z, cmap='RdYlGn',zorder=9999999)\n",
    "    meas_fig2.figure.set_size_inches(8, 10)\n",
    "    meas_fig2.errorbar(Z_mjd,mass_measure,mass_err,marker='.', linestyle='',color='k')\n",
    "    meas_fig2.set_ylabel(r'$h_{\\rm 3}$',fontsize=15, color='k')\n",
    "    meas_fig2.set_xlabel('MJD',fontsize=15, color='k')\n",
    "    meas_fig2.set_xlim(min(mjd_range_chisq),max(mjd_range_chisq))\n",
    "    #meas_fig2.set_ylim(,1.25+0.5)\n",
    "    meas_fig2.tick_params(axis='both', labelsize=15)\n",
    "    meas_fig2.tick_params(axis='x', labelsize=15,rotation=45)    \n",
    "    add_colorbar_outside(color,meas_fig2)\n",
    "    \n",
    "    #plt.colorbar(color, format='%d', orientation='horizontal',shrink=0.6)\n",
    "    plt.savefig('forecast_%s.pdf'%(incli), bbox_inches='tight', dpi=120)    \n",
    "    plt.show()\n",
    "    data=pd.DataFrame({'mjd':Z_mjd,'stig':sini_measure,'dstig':sini_err,'h3':mass_measure,'dh3':mass_err})\n",
    "    data.to_csv('%s.csv'%incli)\n",
    "else:\n",
    "    f, (resid_fig, likeli_fig, meas_fig, meas_fig2) = plt.subplots(4, 1, gridspec_kw={'height_ratios': [20, 20, 10,10]})\n",
    "\n",
    "    resid_fig.figure.set_size_inches(16, 10)\n",
    "    resid_fig.errorbar(mjd_range,perfect_res*1e+6,err_set,fmt='.',label=r'M(D|$\\dot{P}_{\\rm b}\\in$P)')\n",
    "    resid_fig.errorbar(mjd_range,weak_res*1e+6,err_set,fmt='.',label=r'M(D|$\\dot{P}_{\\rm b}\\notin$P)',zorder=100)\n",
    "\n",
    "    resid_fig.set_xticks([])\n",
    "    resid_fig.set_ylabel('Residuals ($\\mu$s)',fontsize=15, color='k')\n",
    "    resid_fig.tick_params(axis='y',  labelsize=15)\n",
    "    resid_fig.legend(fontsize=15)\n",
    "    resid_fig.set_rasterized(True)\n",
    "\n",
    "\n",
    "    likeli_fig.figure.set_size_inches(8, 10)\n",
    "    likeli_fig.axhline(1,xmin=0,xmax=69000,linestyle=':',color='g')\n",
    "    \n",
    "    \n",
    "    sel_model=min(mjd_range_chisq[(lnL_mean/lnL_std)>sel])\n",
    "    likeli_fig.axhline(min(lnL_mean[mjd_range_chisq>sel_model]),xmin=0,xmax=69000,linestyle=':',color='r')\n",
    "    likeli_fig.set_yscale('log')\n",
    "    likeli_fig.fill_between(mjd_range_chisq, min_lnL_range, max_lnL_range,\n",
    "                     facecolor=\"green\", alpha=0.2)         \n",
    "    likeli_fig.plot(mjd_range_chisq,lnL_mean,label=r'$\\ln{L}$',color='green') \n",
    " \n",
    "    Z_mjd=mjd_range[1:][index_loc]\n",
    "    mask= [np.around(i,3) in np.around(Z_mjd,3) for i in np.around(mjd_range[1:],3)]\n",
    "\n",
    "\n",
    "    pbd_measure=res_fit_val.reshape(num_sim,len(index_loc)).mean(axis=0)\n",
    "    pbd_unc=res_fit_err.reshape(num_sim,len(index_loc)).mean(axis=0)\n",
    "    mask= [i in Z_mjd for i in mjd_range[1:]]\n",
    "    lnL_mean_unc=lnL_mean[mask]\n",
    "    min_lnL_cb=min_lnL_range[mask]\n",
    "    max_lnL_cb=max_lnL_range[mask]\n",
    "    min_lnL_cb=min_lnL_range[mask]\n",
    "    max_lnL_cb=max_lnL_range[mask]\n",
    "\n",
    "    \n",
    "    Z = abs(pbd_measure/pbd_unc)\n",
    "\n",
    "    color=likeli_fig.scatter(Z_mjd,lnL_mean_unc,edgecolors='none',s=50,c=Z, cmap='RdYlGn')\n",
    "\n",
    "    likeli_fig.axhline(min(lnL_mean_unc[Z>3]),xmin=0,xmax=69000,linestyle=':',color='r')\n",
    "    likeli_fig.set_ylabel(r'M(D|$\\dot{P}_{\\rm b}\\notin$P)-M(D|$\\dot{P}_{\\rm b}\\in$P)',fontsize=15, color='k')\n",
    "    likeli_fig.legend(fontsize=15)\n",
    "    likeli_fig.tick_params(axis='both', labelsize=15)\n",
    "    likeli_fig.set_xticks([])\n",
    "\n",
    "    add_colorbar_outside(color,likeli_fig)\n",
    "\n",
    "    meas_fig.figure.set_size_inches(8, 10)\n",
    "    meas_fig.errorbar(Z_mjd,pbd_measure,pbd_unc,marker='.', linestyle='',color='k')\n",
    "    meas_fig.axhline(1.7417306822136477e-15,linestyle=':',color='b')\n",
    "    meas_fig.axhline(1.1530558681173629e-14,linestyle=':',color='b')\n",
    "    meas_fig.set_ylabel(r'$\\dot{P}_{\\rm b}$',fontsize=15, color='k')\n",
    "    meas_fig.set_xlabel('MJD',fontsize=15, color='k')\n",
    "    meas_fig.set_xlim(min(mjd_range_chisq),max(mjd_range_chisq))\n",
    "    meas_fig.set_ylim(-5e-14,6e-14)\n",
    "    meas_fig.tick_params(axis='both', labelsize=15)\n",
    "    meas_fig.tick_params(axis='x', labelsize=15,rotation=45)    \n",
    "\n",
    "\n",
    "\n",
    "    #plt.colorbar(color, format='%d', orientation='horizontal',shrink=0.6)\n",
    "    plt.savefig('forecast.pdf', bbox_inches='tight', dpi=120)    \n",
    "    plt.show()"
   ]
  }
 ],
 "metadata": {
  "kernelspec": {
   "display_name": "Python 3 (ipykernel)",
   "language": "python",
   "name": "python3"
  },
  "language_info": {
   "codemirror_mode": {
    "name": "ipython",
    "version": 3
   },
   "file_extension": ".py",
   "mimetype": "text/x-python",
   "name": "python",
   "nbconvert_exporter": "python",
   "pygments_lexer": "ipython3",
   "version": "3.9.7"
  }
 },
 "nbformat": 4,
 "nbformat_minor": 5
}
