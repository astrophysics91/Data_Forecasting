{
 "cells": [
  {
   "cell_type": "code",
   "execution_count": 13,
   "id": "94bd4737",
   "metadata": {},
   "outputs": [],
   "source": [
    "%matplotlib inline\n",
    "%config InlineBackend.figure_format = 'retina'\n",
    "import sys, math, numpy as N, matplotlib.pyplot as P\n",
    "from libstempo.libstempo import *\n",
    "import libstempo\n",
    "import libstempo.plot as LP, libstempo.toasim as LT\n",
    "import numpy as np\n",
    "import matplotlib\n",
    "import matplotlib.pyplot as plt\n",
    "import matplotlib.gridspec as gridspec\n",
    "import libstempo as T\n",
    "from astropy.stats import LombScargle\n",
    "import pandas as pd\n",
    "import subprocess\n",
    "from mpl_toolkits.axes_grid1 import make_axes_locatable\n",
    "\n",
    "\n",
    "def add_colorbar_outside_mod(mappable, ax, label=None, **kwargs):\n",
    "    \"\"\"\n",
    "    Add a colorbar outside the plot.\n",
    "\n",
    "    Parameters:\n",
    "        mappable (scalar mappable): The image (or other mappable object) \n",
    "                                    to which the colorbar applies.\n",
    "        ax (matplotlib.axes.Axes): The axes to which the colorbar will be added.\n",
    "        label (str, optional): The label for the colorbar.\n",
    "        **kwargs: Additional keyword arguments passed to the colorbar function.\n",
    "\n",
    "    Returns:\n",
    "        colorbar (matplotlib.colorbar.Colorbar): The colorbar object.\n",
    "    \"\"\"\n",
    "    divider = make_axes_locatable(ax)\n",
    "    cax = divider.new_horizontal(size=\"5%\", pad=0.05)\n",
    "    fig = ax.get_figure()\n",
    "    fig.add_axes(cax)\n",
    "    colorbar = fig.colorbar(mappable, cax=cax, **kwargs)\n",
    "    if label:\n",
    "        colorbar.set_label(label)\n",
    "        colorbar.ax.set_ylabel(label, fontsize=15) \n",
    "    return colorbar\n",
    "\n",
    "class Model:\n",
    "\n",
    "    def __init__(self):\n",
    "        pass\n",
    "    \n",
    "    \n",
    "    \n",
    "    def lnL(new,toa_err,mask):\n",
    "\n",
    "        residual=new[mask]\n",
    "        toaerr=toa_err[mask]*1e-6\n",
    "        \n",
    "        likeli=1/np.sqrt(2*np.pi*toaerr**2)*np.exp(-residual**2/(2*toaerr**2))\n",
    "        log_lik=1\n",
    "        for l in likeli:\n",
    "            log_lik=log_lik*l\n",
    "        lnL=np.log(log_lik)\n",
    "        \n",
    "        return lnL\n",
    "\n",
    "    def red_chisq(origina, new, toa_err, mask):\n",
    "\n",
    "        residual=np.append(original['res'],new[mask])\n",
    "        toaerr=np.append(original['err']*1e-6,toa_err[mask]*1e-6)\n",
    "        chisq=sum(residual**2/toaerr**2)\n",
    "        return chisq\n",
    "\n",
    "def add_colorbar_outside(im,ax):\n",
    "    fig = ax.get_figure()\n",
    "    bbox = ax.get_position() #bbox contains the [x0 (left), y0 (bottom), x1 (right), y1 (top)] of the axis.\n",
    "    width = 0.05\n",
    "    eps = 0.01 #margin between plot and colorbar\n",
    "    # [left most position, bottom position, width, height] of color bar.\n",
    "    cax = fig.add_axes([bbox.x1 + eps, bbox.y0, width, bbox.height])\n",
    "    cbar = fig.colorbar(im, cax=cax)\n",
    "\n",
    "class toa:\n",
    "\n",
    "    def __init__(self):\n",
    "        pass    \n",
    "\n",
    "    def mjd(data):\n",
    "        mjd_scat=data.satDay()+data.satSec()\n",
    "        return mjd_scat    \n",
    "\n",
    "    def res(data):\n",
    "        res=data.residuals()\n",
    "        return res   \n",
    "\n",
    "    def err(data):\n",
    "        toaerr=data.toaerrs\n",
    "        return toaerr*1e-6 \n"
   ]
  },
  {
   "cell_type": "code",
   "execution_count": 16,
   "id": "b00e6e04",
   "metadata": {
    "scrolled": true
   },
   "outputs": [
    {
     "name": "stderr",
     "output_type": "stream",
     "text": [
      "/tmp/ipykernel_61419/3737954191.py:118: DeprecationWarning: distutils Version classes are deprecated. Use packaging.version instead.\n",
      "  sim_wo_ft=T.tempopulsar('sim_wt_pbd.par','iteration_sub.tim')\n",
      "/tmp/ipykernel_61419/3737954191.py:118: DeprecationWarning: distutils Version classes are deprecated. Use packaging.version instead.\n",
      "  sim_wo_ft=T.tempopulsar('sim_wt_pbd.par','iteration_sub.tim')\n",
      "/tmp/ipykernel_61419/3737954191.py:118: DeprecationWarning: distutils Version classes are deprecated. Use packaging.version instead.\n",
      "  sim_wo_ft=T.tempopulsar('sim_wt_pbd.par','iteration_sub.tim')\n",
      "/tmp/ipykernel_61419/3737954191.py:118: DeprecationWarning: distutils Version classes are deprecated. Use packaging.version instead.\n",
      "  sim_wo_ft=T.tempopulsar('sim_wt_pbd.par','iteration_sub.tim')\n",
      "/tmp/ipykernel_61419/3737954191.py:118: DeprecationWarning: distutils Version classes are deprecated. Use packaging.version instead.\n",
      "  sim_wo_ft=T.tempopulsar('sim_wt_pbd.par','iteration_sub.tim')\n",
      "/tmp/ipykernel_61419/3737954191.py:118: DeprecationWarning: distutils Version classes are deprecated. Use packaging.version instead.\n",
      "  sim_wo_ft=T.tempopulsar('sim_wt_pbd.par','iteration_sub.tim')\n",
      "/tmp/ipykernel_61419/3737954191.py:118: DeprecationWarning: distutils Version classes are deprecated. Use packaging.version instead.\n",
      "  sim_wo_ft=T.tempopulsar('sim_wt_pbd.par','iteration_sub.tim')\n",
      "/tmp/ipykernel_61419/3737954191.py:118: DeprecationWarning: distutils Version classes are deprecated. Use packaging.version instead.\n",
      "  sim_wo_ft=T.tempopulsar('sim_wt_pbd.par','iteration_sub.tim')\n",
      "/tmp/ipykernel_61419/3737954191.py:118: DeprecationWarning: distutils Version classes are deprecated. Use packaging.version instead.\n",
      "  sim_wo_ft=T.tempopulsar('sim_wt_pbd.par','iteration_sub.tim')\n",
      "/tmp/ipykernel_61419/3737954191.py:118: DeprecationWarning: distutils Version classes are deprecated. Use packaging.version instead.\n",
      "  sim_wo_ft=T.tempopulsar('sim_wt_pbd.par','iteration_sub.tim')\n"
     ]
    },
    {
     "name": "stdout",
     "output_type": "stream",
     "text": [
      "1 per 80\n"
     ]
    },
    {
     "name": "stderr",
     "output_type": "stream",
     "text": [
      "/tmp/ipykernel_61419/3737954191.py:118: DeprecationWarning: distutils Version classes are deprecated. Use packaging.version instead.\n",
      "  sim_wo_ft=T.tempopulsar('sim_wt_pbd.par','iteration_sub.tim')\n",
      "/tmp/ipykernel_61419/3737954191.py:118: DeprecationWarning: distutils Version classes are deprecated. Use packaging.version instead.\n",
      "  sim_wo_ft=T.tempopulsar('sim_wt_pbd.par','iteration_sub.tim')\n",
      "/tmp/ipykernel_61419/3737954191.py:118: DeprecationWarning: distutils Version classes are deprecated. Use packaging.version instead.\n",
      "  sim_wo_ft=T.tempopulsar('sim_wt_pbd.par','iteration_sub.tim')\n",
      "/tmp/ipykernel_61419/3737954191.py:118: DeprecationWarning: distutils Version classes are deprecated. Use packaging.version instead.\n",
      "  sim_wo_ft=T.tempopulsar('sim_wt_pbd.par','iteration_sub.tim')\n",
      "/tmp/ipykernel_61419/3737954191.py:118: DeprecationWarning: distutils Version classes are deprecated. Use packaging.version instead.\n",
      "  sim_wo_ft=T.tempopulsar('sim_wt_pbd.par','iteration_sub.tim')\n",
      "/tmp/ipykernel_61419/3737954191.py:118: DeprecationWarning: distutils Version classes are deprecated. Use packaging.version instead.\n",
      "  sim_wo_ft=T.tempopulsar('sim_wt_pbd.par','iteration_sub.tim')\n",
      "/tmp/ipykernel_61419/3737954191.py:118: DeprecationWarning: distutils Version classes are deprecated. Use packaging.version instead.\n",
      "  sim_wo_ft=T.tempopulsar('sim_wt_pbd.par','iteration_sub.tim')\n",
      "/tmp/ipykernel_61419/3737954191.py:118: DeprecationWarning: distutils Version classes are deprecated. Use packaging.version instead.\n",
      "  sim_wo_ft=T.tempopulsar('sim_wt_pbd.par','iteration_sub.tim')\n",
      "/tmp/ipykernel_61419/3737954191.py:118: DeprecationWarning: distutils Version classes are deprecated. Use packaging.version instead.\n",
      "  sim_wo_ft=T.tempopulsar('sim_wt_pbd.par','iteration_sub.tim')\n",
      "/tmp/ipykernel_61419/3737954191.py:118: DeprecationWarning: distutils Version classes are deprecated. Use packaging.version instead.\n",
      "  sim_wo_ft=T.tempopulsar('sim_wt_pbd.par','iteration_sub.tim')\n"
     ]
    },
    {
     "name": "stdout",
     "output_type": "stream",
     "text": [
      "2 per 80\n"
     ]
    },
    {
     "name": "stderr",
     "output_type": "stream",
     "text": [
      "/tmp/ipykernel_61419/3737954191.py:118: DeprecationWarning: distutils Version classes are deprecated. Use packaging.version instead.\n",
      "  sim_wo_ft=T.tempopulsar('sim_wt_pbd.par','iteration_sub.tim')\n",
      "/tmp/ipykernel_61419/3737954191.py:118: DeprecationWarning: distutils Version classes are deprecated. Use packaging.version instead.\n",
      "  sim_wo_ft=T.tempopulsar('sim_wt_pbd.par','iteration_sub.tim')\n",
      "/tmp/ipykernel_61419/3737954191.py:118: DeprecationWarning: distutils Version classes are deprecated. Use packaging.version instead.\n",
      "  sim_wo_ft=T.tempopulsar('sim_wt_pbd.par','iteration_sub.tim')\n",
      "/tmp/ipykernel_61419/3737954191.py:118: DeprecationWarning: distutils Version classes are deprecated. Use packaging.version instead.\n",
      "  sim_wo_ft=T.tempopulsar('sim_wt_pbd.par','iteration_sub.tim')\n",
      "/tmp/ipykernel_61419/3737954191.py:118: DeprecationWarning: distutils Version classes are deprecated. Use packaging.version instead.\n",
      "  sim_wo_ft=T.tempopulsar('sim_wt_pbd.par','iteration_sub.tim')\n",
      "/tmp/ipykernel_61419/3737954191.py:118: DeprecationWarning: distutils Version classes are deprecated. Use packaging.version instead.\n",
      "  sim_wo_ft=T.tempopulsar('sim_wt_pbd.par','iteration_sub.tim')\n",
      "/tmp/ipykernel_61419/3737954191.py:118: DeprecationWarning: distutils Version classes are deprecated. Use packaging.version instead.\n",
      "  sim_wo_ft=T.tempopulsar('sim_wt_pbd.par','iteration_sub.tim')\n",
      "/tmp/ipykernel_61419/3737954191.py:118: DeprecationWarning: distutils Version classes are deprecated. Use packaging.version instead.\n",
      "  sim_wo_ft=T.tempopulsar('sim_wt_pbd.par','iteration_sub.tim')\n",
      "/tmp/ipykernel_61419/3737954191.py:118: DeprecationWarning: distutils Version classes are deprecated. Use packaging.version instead.\n",
      "  sim_wo_ft=T.tempopulsar('sim_wt_pbd.par','iteration_sub.tim')\n",
      "/tmp/ipykernel_61419/3737954191.py:118: DeprecationWarning: distutils Version classes are deprecated. Use packaging.version instead.\n",
      "  sim_wo_ft=T.tempopulsar('sim_wt_pbd.par','iteration_sub.tim')\n"
     ]
    },
    {
     "name": "stdout",
     "output_type": "stream",
     "text": [
      "3 per 80\n"
     ]
    },
    {
     "name": "stderr",
     "output_type": "stream",
     "text": [
      "/tmp/ipykernel_61419/3737954191.py:118: DeprecationWarning: distutils Version classes are deprecated. Use packaging.version instead.\n",
      "  sim_wo_ft=T.tempopulsar('sim_wt_pbd.par','iteration_sub.tim')\n",
      "/tmp/ipykernel_61419/3737954191.py:118: DeprecationWarning: distutils Version classes are deprecated. Use packaging.version instead.\n",
      "  sim_wo_ft=T.tempopulsar('sim_wt_pbd.par','iteration_sub.tim')\n",
      "/tmp/ipykernel_61419/3737954191.py:118: DeprecationWarning: distutils Version classes are deprecated. Use packaging.version instead.\n",
      "  sim_wo_ft=T.tempopulsar('sim_wt_pbd.par','iteration_sub.tim')\n",
      "/tmp/ipykernel_61419/3737954191.py:118: DeprecationWarning: distutils Version classes are deprecated. Use packaging.version instead.\n",
      "  sim_wo_ft=T.tempopulsar('sim_wt_pbd.par','iteration_sub.tim')\n",
      "/tmp/ipykernel_61419/3737954191.py:118: DeprecationWarning: distutils Version classes are deprecated. Use packaging.version instead.\n",
      "  sim_wo_ft=T.tempopulsar('sim_wt_pbd.par','iteration_sub.tim')\n",
      "/tmp/ipykernel_61419/3737954191.py:118: DeprecationWarning: distutils Version classes are deprecated. Use packaging.version instead.\n",
      "  sim_wo_ft=T.tempopulsar('sim_wt_pbd.par','iteration_sub.tim')\n",
      "/tmp/ipykernel_61419/3737954191.py:118: DeprecationWarning: distutils Version classes are deprecated. Use packaging.version instead.\n",
      "  sim_wo_ft=T.tempopulsar('sim_wt_pbd.par','iteration_sub.tim')\n",
      "/tmp/ipykernel_61419/3737954191.py:118: DeprecationWarning: distutils Version classes are deprecated. Use packaging.version instead.\n",
      "  sim_wo_ft=T.tempopulsar('sim_wt_pbd.par','iteration_sub.tim')\n",
      "/tmp/ipykernel_61419/3737954191.py:118: DeprecationWarning: distutils Version classes are deprecated. Use packaging.version instead.\n",
      "  sim_wo_ft=T.tempopulsar('sim_wt_pbd.par','iteration_sub.tim')\n",
      "/tmp/ipykernel_61419/3737954191.py:118: DeprecationWarning: distutils Version classes are deprecated. Use packaging.version instead.\n",
      "  sim_wo_ft=T.tempopulsar('sim_wt_pbd.par','iteration_sub.tim')\n"
     ]
    },
    {
     "name": "stdout",
     "output_type": "stream",
     "text": [
      "4 per 80\n"
     ]
    },
    {
     "name": "stderr",
     "output_type": "stream",
     "text": [
      "/tmp/ipykernel_61419/3737954191.py:118: DeprecationWarning: distutils Version classes are deprecated. Use packaging.version instead.\n",
      "  sim_wo_ft=T.tempopulsar('sim_wt_pbd.par','iteration_sub.tim')\n",
      "/tmp/ipykernel_61419/3737954191.py:118: DeprecationWarning: distutils Version classes are deprecated. Use packaging.version instead.\n",
      "  sim_wo_ft=T.tempopulsar('sim_wt_pbd.par','iteration_sub.tim')\n",
      "/tmp/ipykernel_61419/3737954191.py:118: DeprecationWarning: distutils Version classes are deprecated. Use packaging.version instead.\n",
      "  sim_wo_ft=T.tempopulsar('sim_wt_pbd.par','iteration_sub.tim')\n",
      "/tmp/ipykernel_61419/3737954191.py:118: DeprecationWarning: distutils Version classes are deprecated. Use packaging.version instead.\n",
      "  sim_wo_ft=T.tempopulsar('sim_wt_pbd.par','iteration_sub.tim')\n",
      "/tmp/ipykernel_61419/3737954191.py:118: DeprecationWarning: distutils Version classes are deprecated. Use packaging.version instead.\n",
      "  sim_wo_ft=T.tempopulsar('sim_wt_pbd.par','iteration_sub.tim')\n",
      "/tmp/ipykernel_61419/3737954191.py:118: DeprecationWarning: distutils Version classes are deprecated. Use packaging.version instead.\n",
      "  sim_wo_ft=T.tempopulsar('sim_wt_pbd.par','iteration_sub.tim')\n",
      "/tmp/ipykernel_61419/3737954191.py:118: DeprecationWarning: distutils Version classes are deprecated. Use packaging.version instead.\n",
      "  sim_wo_ft=T.tempopulsar('sim_wt_pbd.par','iteration_sub.tim')\n",
      "/tmp/ipykernel_61419/3737954191.py:118: DeprecationWarning: distutils Version classes are deprecated. Use packaging.version instead.\n",
      "  sim_wo_ft=T.tempopulsar('sim_wt_pbd.par','iteration_sub.tim')\n",
      "/tmp/ipykernel_61419/3737954191.py:118: DeprecationWarning: distutils Version classes are deprecated. Use packaging.version instead.\n",
      "  sim_wo_ft=T.tempopulsar('sim_wt_pbd.par','iteration_sub.tim')\n",
      "/tmp/ipykernel_61419/3737954191.py:118: DeprecationWarning: distutils Version classes are deprecated. Use packaging.version instead.\n",
      "  sim_wo_ft=T.tempopulsar('sim_wt_pbd.par','iteration_sub.tim')\n"
     ]
    },
    {
     "name": "stdout",
     "output_type": "stream",
     "text": [
      "5 per 80\n"
     ]
    },
    {
     "name": "stderr",
     "output_type": "stream",
     "text": [
      "/tmp/ipykernel_61419/3737954191.py:118: DeprecationWarning: distutils Version classes are deprecated. Use packaging.version instead.\n",
      "  sim_wo_ft=T.tempopulsar('sim_wt_pbd.par','iteration_sub.tim')\n",
      "/tmp/ipykernel_61419/3737954191.py:118: DeprecationWarning: distutils Version classes are deprecated. Use packaging.version instead.\n",
      "  sim_wo_ft=T.tempopulsar('sim_wt_pbd.par','iteration_sub.tim')\n",
      "/tmp/ipykernel_61419/3737954191.py:118: DeprecationWarning: distutils Version classes are deprecated. Use packaging.version instead.\n",
      "  sim_wo_ft=T.tempopulsar('sim_wt_pbd.par','iteration_sub.tim')\n",
      "/tmp/ipykernel_61419/3737954191.py:118: DeprecationWarning: distutils Version classes are deprecated. Use packaging.version instead.\n",
      "  sim_wo_ft=T.tempopulsar('sim_wt_pbd.par','iteration_sub.tim')\n",
      "/tmp/ipykernel_61419/3737954191.py:118: DeprecationWarning: distutils Version classes are deprecated. Use packaging.version instead.\n",
      "  sim_wo_ft=T.tempopulsar('sim_wt_pbd.par','iteration_sub.tim')\n",
      "/tmp/ipykernel_61419/3737954191.py:118: DeprecationWarning: distutils Version classes are deprecated. Use packaging.version instead.\n",
      "  sim_wo_ft=T.tempopulsar('sim_wt_pbd.par','iteration_sub.tim')\n",
      "/tmp/ipykernel_61419/3737954191.py:118: DeprecationWarning: distutils Version classes are deprecated. Use packaging.version instead.\n",
      "  sim_wo_ft=T.tempopulsar('sim_wt_pbd.par','iteration_sub.tim')\n",
      "/tmp/ipykernel_61419/3737954191.py:118: DeprecationWarning: distutils Version classes are deprecated. Use packaging.version instead.\n",
      "  sim_wo_ft=T.tempopulsar('sim_wt_pbd.par','iteration_sub.tim')\n",
      "/tmp/ipykernel_61419/3737954191.py:118: DeprecationWarning: distutils Version classes are deprecated. Use packaging.version instead.\n",
      "  sim_wo_ft=T.tempopulsar('sim_wt_pbd.par','iteration_sub.tim')\n",
      "/tmp/ipykernel_61419/3737954191.py:118: DeprecationWarning: distutils Version classes are deprecated. Use packaging.version instead.\n",
      "  sim_wo_ft=T.tempopulsar('sim_wt_pbd.par','iteration_sub.tim')\n"
     ]
    },
    {
     "name": "stdout",
     "output_type": "stream",
     "text": [
      "6 per 80\n"
     ]
    },
    {
     "name": "stderr",
     "output_type": "stream",
     "text": [
      "/tmp/ipykernel_61419/3737954191.py:118: DeprecationWarning: distutils Version classes are deprecated. Use packaging.version instead.\n",
      "  sim_wo_ft=T.tempopulsar('sim_wt_pbd.par','iteration_sub.tim')\n",
      "/tmp/ipykernel_61419/3737954191.py:118: DeprecationWarning: distutils Version classes are deprecated. Use packaging.version instead.\n",
      "  sim_wo_ft=T.tempopulsar('sim_wt_pbd.par','iteration_sub.tim')\n",
      "/tmp/ipykernel_61419/3737954191.py:118: DeprecationWarning: distutils Version classes are deprecated. Use packaging.version instead.\n",
      "  sim_wo_ft=T.tempopulsar('sim_wt_pbd.par','iteration_sub.tim')\n",
      "/tmp/ipykernel_61419/3737954191.py:118: DeprecationWarning: distutils Version classes are deprecated. Use packaging.version instead.\n",
      "  sim_wo_ft=T.tempopulsar('sim_wt_pbd.par','iteration_sub.tim')\n",
      "/tmp/ipykernel_61419/3737954191.py:118: DeprecationWarning: distutils Version classes are deprecated. Use packaging.version instead.\n",
      "  sim_wo_ft=T.tempopulsar('sim_wt_pbd.par','iteration_sub.tim')\n",
      "/tmp/ipykernel_61419/3737954191.py:118: DeprecationWarning: distutils Version classes are deprecated. Use packaging.version instead.\n",
      "  sim_wo_ft=T.tempopulsar('sim_wt_pbd.par','iteration_sub.tim')\n",
      "/tmp/ipykernel_61419/3737954191.py:118: DeprecationWarning: distutils Version classes are deprecated. Use packaging.version instead.\n",
      "  sim_wo_ft=T.tempopulsar('sim_wt_pbd.par','iteration_sub.tim')\n",
      "/tmp/ipykernel_61419/3737954191.py:118: DeprecationWarning: distutils Version classes are deprecated. Use packaging.version instead.\n",
      "  sim_wo_ft=T.tempopulsar('sim_wt_pbd.par','iteration_sub.tim')\n",
      "/tmp/ipykernel_61419/3737954191.py:118: DeprecationWarning: distutils Version classes are deprecated. Use packaging.version instead.\n",
      "  sim_wo_ft=T.tempopulsar('sim_wt_pbd.par','iteration_sub.tim')\n",
      "/tmp/ipykernel_61419/3737954191.py:118: DeprecationWarning: distutils Version classes are deprecated. Use packaging.version instead.\n",
      "  sim_wo_ft=T.tempopulsar('sim_wt_pbd.par','iteration_sub.tim')\n"
     ]
    },
    {
     "name": "stdout",
     "output_type": "stream",
     "text": [
      "7 per 80\n"
     ]
    },
    {
     "name": "stderr",
     "output_type": "stream",
     "text": [
      "/tmp/ipykernel_61419/3737954191.py:118: DeprecationWarning: distutils Version classes are deprecated. Use packaging.version instead.\n",
      "  sim_wo_ft=T.tempopulsar('sim_wt_pbd.par','iteration_sub.tim')\n",
      "/tmp/ipykernel_61419/3737954191.py:118: DeprecationWarning: distutils Version classes are deprecated. Use packaging.version instead.\n",
      "  sim_wo_ft=T.tempopulsar('sim_wt_pbd.par','iteration_sub.tim')\n",
      "/tmp/ipykernel_61419/3737954191.py:118: DeprecationWarning: distutils Version classes are deprecated. Use packaging.version instead.\n",
      "  sim_wo_ft=T.tempopulsar('sim_wt_pbd.par','iteration_sub.tim')\n",
      "/tmp/ipykernel_61419/3737954191.py:118: DeprecationWarning: distutils Version classes are deprecated. Use packaging.version instead.\n",
      "  sim_wo_ft=T.tempopulsar('sim_wt_pbd.par','iteration_sub.tim')\n",
      "/tmp/ipykernel_61419/3737954191.py:118: DeprecationWarning: distutils Version classes are deprecated. Use packaging.version instead.\n",
      "  sim_wo_ft=T.tempopulsar('sim_wt_pbd.par','iteration_sub.tim')\n",
      "/tmp/ipykernel_61419/3737954191.py:118: DeprecationWarning: distutils Version classes are deprecated. Use packaging.version instead.\n",
      "  sim_wo_ft=T.tempopulsar('sim_wt_pbd.par','iteration_sub.tim')\n",
      "/tmp/ipykernel_61419/3737954191.py:118: DeprecationWarning: distutils Version classes are deprecated. Use packaging.version instead.\n",
      "  sim_wo_ft=T.tempopulsar('sim_wt_pbd.par','iteration_sub.tim')\n",
      "/tmp/ipykernel_61419/3737954191.py:118: DeprecationWarning: distutils Version classes are deprecated. Use packaging.version instead.\n",
      "  sim_wo_ft=T.tempopulsar('sim_wt_pbd.par','iteration_sub.tim')\n",
      "/tmp/ipykernel_61419/3737954191.py:118: DeprecationWarning: distutils Version classes are deprecated. Use packaging.version instead.\n",
      "  sim_wo_ft=T.tempopulsar('sim_wt_pbd.par','iteration_sub.tim')\n",
      "/tmp/ipykernel_61419/3737954191.py:118: DeprecationWarning: distutils Version classes are deprecated. Use packaging.version instead.\n",
      "  sim_wo_ft=T.tempopulsar('sim_wt_pbd.par','iteration_sub.tim')\n"
     ]
    },
    {
     "name": "stdout",
     "output_type": "stream",
     "text": [
      "8 per 80\n"
     ]
    },
    {
     "name": "stderr",
     "output_type": "stream",
     "text": [
      "/tmp/ipykernel_61419/3737954191.py:118: DeprecationWarning: distutils Version classes are deprecated. Use packaging.version instead.\n",
      "  sim_wo_ft=T.tempopulsar('sim_wt_pbd.par','iteration_sub.tim')\n",
      "/tmp/ipykernel_61419/3737954191.py:118: DeprecationWarning: distutils Version classes are deprecated. Use packaging.version instead.\n",
      "  sim_wo_ft=T.tempopulsar('sim_wt_pbd.par','iteration_sub.tim')\n",
      "/tmp/ipykernel_61419/3737954191.py:118: DeprecationWarning: distutils Version classes are deprecated. Use packaging.version instead.\n",
      "  sim_wo_ft=T.tempopulsar('sim_wt_pbd.par','iteration_sub.tim')\n",
      "/tmp/ipykernel_61419/3737954191.py:118: DeprecationWarning: distutils Version classes are deprecated. Use packaging.version instead.\n",
      "  sim_wo_ft=T.tempopulsar('sim_wt_pbd.par','iteration_sub.tim')\n",
      "/tmp/ipykernel_61419/3737954191.py:118: DeprecationWarning: distutils Version classes are deprecated. Use packaging.version instead.\n",
      "  sim_wo_ft=T.tempopulsar('sim_wt_pbd.par','iteration_sub.tim')\n",
      "/tmp/ipykernel_61419/3737954191.py:118: DeprecationWarning: distutils Version classes are deprecated. Use packaging.version instead.\n",
      "  sim_wo_ft=T.tempopulsar('sim_wt_pbd.par','iteration_sub.tim')\n",
      "/tmp/ipykernel_61419/3737954191.py:118: DeprecationWarning: distutils Version classes are deprecated. Use packaging.version instead.\n",
      "  sim_wo_ft=T.tempopulsar('sim_wt_pbd.par','iteration_sub.tim')\n",
      "/tmp/ipykernel_61419/3737954191.py:118: DeprecationWarning: distutils Version classes are deprecated. Use packaging.version instead.\n",
      "  sim_wo_ft=T.tempopulsar('sim_wt_pbd.par','iteration_sub.tim')\n",
      "/tmp/ipykernel_61419/3737954191.py:118: DeprecationWarning: distutils Version classes are deprecated. Use packaging.version instead.\n",
      "  sim_wo_ft=T.tempopulsar('sim_wt_pbd.par','iteration_sub.tim')\n",
      "/tmp/ipykernel_61419/3737954191.py:118: DeprecationWarning: distutils Version classes are deprecated. Use packaging.version instead.\n",
      "  sim_wo_ft=T.tempopulsar('sim_wt_pbd.par','iteration_sub.tim')\n"
     ]
    },
    {
     "name": "stdout",
     "output_type": "stream",
     "text": [
      "9 per 80\n"
     ]
    },
    {
     "name": "stderr",
     "output_type": "stream",
     "text": [
      "/tmp/ipykernel_61419/3737954191.py:118: DeprecationWarning: distutils Version classes are deprecated. Use packaging.version instead.\n",
      "  sim_wo_ft=T.tempopulsar('sim_wt_pbd.par','iteration_sub.tim')\n",
      "/tmp/ipykernel_61419/3737954191.py:118: DeprecationWarning: distutils Version classes are deprecated. Use packaging.version instead.\n",
      "  sim_wo_ft=T.tempopulsar('sim_wt_pbd.par','iteration_sub.tim')\n",
      "/tmp/ipykernel_61419/3737954191.py:118: DeprecationWarning: distutils Version classes are deprecated. Use packaging.version instead.\n",
      "  sim_wo_ft=T.tempopulsar('sim_wt_pbd.par','iteration_sub.tim')\n",
      "/tmp/ipykernel_61419/3737954191.py:118: DeprecationWarning: distutils Version classes are deprecated. Use packaging.version instead.\n",
      "  sim_wo_ft=T.tempopulsar('sim_wt_pbd.par','iteration_sub.tim')\n",
      "/tmp/ipykernel_61419/3737954191.py:118: DeprecationWarning: distutils Version classes are deprecated. Use packaging.version instead.\n",
      "  sim_wo_ft=T.tempopulsar('sim_wt_pbd.par','iteration_sub.tim')\n",
      "/tmp/ipykernel_61419/3737954191.py:118: DeprecationWarning: distutils Version classes are deprecated. Use packaging.version instead.\n",
      "  sim_wo_ft=T.tempopulsar('sim_wt_pbd.par','iteration_sub.tim')\n",
      "/tmp/ipykernel_61419/3737954191.py:118: DeprecationWarning: distutils Version classes are deprecated. Use packaging.version instead.\n",
      "  sim_wo_ft=T.tempopulsar('sim_wt_pbd.par','iteration_sub.tim')\n",
      "/tmp/ipykernel_61419/3737954191.py:118: DeprecationWarning: distutils Version classes are deprecated. Use packaging.version instead.\n",
      "  sim_wo_ft=T.tempopulsar('sim_wt_pbd.par','iteration_sub.tim')\n",
      "/tmp/ipykernel_61419/3737954191.py:118: DeprecationWarning: distutils Version classes are deprecated. Use packaging.version instead.\n",
      "  sim_wo_ft=T.tempopulsar('sim_wt_pbd.par','iteration_sub.tim')\n",
      "/tmp/ipykernel_61419/3737954191.py:118: DeprecationWarning: distutils Version classes are deprecated. Use packaging.version instead.\n",
      "  sim_wo_ft=T.tempopulsar('sim_wt_pbd.par','iteration_sub.tim')\n"
     ]
    },
    {
     "name": "stdout",
     "output_type": "stream",
     "text": [
      "10 per 80\n"
     ]
    },
    {
     "name": "stderr",
     "output_type": "stream",
     "text": [
      "/tmp/ipykernel_61419/3737954191.py:118: DeprecationWarning: distutils Version classes are deprecated. Use packaging.version instead.\n",
      "  sim_wo_ft=T.tempopulsar('sim_wt_pbd.par','iteration_sub.tim')\n",
      "/tmp/ipykernel_61419/3737954191.py:118: DeprecationWarning: distutils Version classes are deprecated. Use packaging.version instead.\n",
      "  sim_wo_ft=T.tempopulsar('sim_wt_pbd.par','iteration_sub.tim')\n",
      "/tmp/ipykernel_61419/3737954191.py:118: DeprecationWarning: distutils Version classes are deprecated. Use packaging.version instead.\n",
      "  sim_wo_ft=T.tempopulsar('sim_wt_pbd.par','iteration_sub.tim')\n",
      "/tmp/ipykernel_61419/3737954191.py:118: DeprecationWarning: distutils Version classes are deprecated. Use packaging.version instead.\n",
      "  sim_wo_ft=T.tempopulsar('sim_wt_pbd.par','iteration_sub.tim')\n",
      "/tmp/ipykernel_61419/3737954191.py:118: DeprecationWarning: distutils Version classes are deprecated. Use packaging.version instead.\n",
      "  sim_wo_ft=T.tempopulsar('sim_wt_pbd.par','iteration_sub.tim')\n",
      "/tmp/ipykernel_61419/3737954191.py:118: DeprecationWarning: distutils Version classes are deprecated. Use packaging.version instead.\n",
      "  sim_wo_ft=T.tempopulsar('sim_wt_pbd.par','iteration_sub.tim')\n",
      "/tmp/ipykernel_61419/3737954191.py:118: DeprecationWarning: distutils Version classes are deprecated. Use packaging.version instead.\n",
      "  sim_wo_ft=T.tempopulsar('sim_wt_pbd.par','iteration_sub.tim')\n",
      "/tmp/ipykernel_61419/3737954191.py:118: DeprecationWarning: distutils Version classes are deprecated. Use packaging.version instead.\n",
      "  sim_wo_ft=T.tempopulsar('sim_wt_pbd.par','iteration_sub.tim')\n",
      "/tmp/ipykernel_61419/3737954191.py:118: DeprecationWarning: distutils Version classes are deprecated. Use packaging.version instead.\n",
      "  sim_wo_ft=T.tempopulsar('sim_wt_pbd.par','iteration_sub.tim')\n",
      "/tmp/ipykernel_61419/3737954191.py:118: DeprecationWarning: distutils Version classes are deprecated. Use packaging.version instead.\n",
      "  sim_wo_ft=T.tempopulsar('sim_wt_pbd.par','iteration_sub.tim')\n"
     ]
    },
    {
     "name": "stdout",
     "output_type": "stream",
     "text": [
      "11 per 80\n"
     ]
    },
    {
     "name": "stderr",
     "output_type": "stream",
     "text": [
      "/tmp/ipykernel_61419/3737954191.py:118: DeprecationWarning: distutils Version classes are deprecated. Use packaging.version instead.\n",
      "  sim_wo_ft=T.tempopulsar('sim_wt_pbd.par','iteration_sub.tim')\n",
      "/tmp/ipykernel_61419/3737954191.py:118: DeprecationWarning: distutils Version classes are deprecated. Use packaging.version instead.\n",
      "  sim_wo_ft=T.tempopulsar('sim_wt_pbd.par','iteration_sub.tim')\n",
      "/tmp/ipykernel_61419/3737954191.py:118: DeprecationWarning: distutils Version classes are deprecated. Use packaging.version instead.\n",
      "  sim_wo_ft=T.tempopulsar('sim_wt_pbd.par','iteration_sub.tim')\n",
      "/tmp/ipykernel_61419/3737954191.py:118: DeprecationWarning: distutils Version classes are deprecated. Use packaging.version instead.\n",
      "  sim_wo_ft=T.tempopulsar('sim_wt_pbd.par','iteration_sub.tim')\n",
      "/tmp/ipykernel_61419/3737954191.py:118: DeprecationWarning: distutils Version classes are deprecated. Use packaging.version instead.\n",
      "  sim_wo_ft=T.tempopulsar('sim_wt_pbd.par','iteration_sub.tim')\n",
      "/tmp/ipykernel_61419/3737954191.py:118: DeprecationWarning: distutils Version classes are deprecated. Use packaging.version instead.\n",
      "  sim_wo_ft=T.tempopulsar('sim_wt_pbd.par','iteration_sub.tim')\n",
      "/tmp/ipykernel_61419/3737954191.py:118: DeprecationWarning: distutils Version classes are deprecated. Use packaging.version instead.\n",
      "  sim_wo_ft=T.tempopulsar('sim_wt_pbd.par','iteration_sub.tim')\n",
      "/tmp/ipykernel_61419/3737954191.py:118: DeprecationWarning: distutils Version classes are deprecated. Use packaging.version instead.\n",
      "  sim_wo_ft=T.tempopulsar('sim_wt_pbd.par','iteration_sub.tim')\n",
      "/tmp/ipykernel_61419/3737954191.py:118: DeprecationWarning: distutils Version classes are deprecated. Use packaging.version instead.\n",
      "  sim_wo_ft=T.tempopulsar('sim_wt_pbd.par','iteration_sub.tim')\n",
      "/tmp/ipykernel_61419/3737954191.py:118: DeprecationWarning: distutils Version classes are deprecated. Use packaging.version instead.\n",
      "  sim_wo_ft=T.tempopulsar('sim_wt_pbd.par','iteration_sub.tim')\n"
     ]
    },
    {
     "name": "stdout",
     "output_type": "stream",
     "text": [
      "12 per 80\n"
     ]
    },
    {
     "name": "stderr",
     "output_type": "stream",
     "text": [
      "/tmp/ipykernel_61419/3737954191.py:118: DeprecationWarning: distutils Version classes are deprecated. Use packaging.version instead.\n",
      "  sim_wo_ft=T.tempopulsar('sim_wt_pbd.par','iteration_sub.tim')\n",
      "/tmp/ipykernel_61419/3737954191.py:118: DeprecationWarning: distutils Version classes are deprecated. Use packaging.version instead.\n",
      "  sim_wo_ft=T.tempopulsar('sim_wt_pbd.par','iteration_sub.tim')\n",
      "/tmp/ipykernel_61419/3737954191.py:118: DeprecationWarning: distutils Version classes are deprecated. Use packaging.version instead.\n",
      "  sim_wo_ft=T.tempopulsar('sim_wt_pbd.par','iteration_sub.tim')\n",
      "/tmp/ipykernel_61419/3737954191.py:118: DeprecationWarning: distutils Version classes are deprecated. Use packaging.version instead.\n",
      "  sim_wo_ft=T.tempopulsar('sim_wt_pbd.par','iteration_sub.tim')\n",
      "/tmp/ipykernel_61419/3737954191.py:118: DeprecationWarning: distutils Version classes are deprecated. Use packaging.version instead.\n",
      "  sim_wo_ft=T.tempopulsar('sim_wt_pbd.par','iteration_sub.tim')\n",
      "/tmp/ipykernel_61419/3737954191.py:118: DeprecationWarning: distutils Version classes are deprecated. Use packaging.version instead.\n",
      "  sim_wo_ft=T.tempopulsar('sim_wt_pbd.par','iteration_sub.tim')\n",
      "/tmp/ipykernel_61419/3737954191.py:118: DeprecationWarning: distutils Version classes are deprecated. Use packaging.version instead.\n",
      "  sim_wo_ft=T.tempopulsar('sim_wt_pbd.par','iteration_sub.tim')\n",
      "/tmp/ipykernel_61419/3737954191.py:118: DeprecationWarning: distutils Version classes are deprecated. Use packaging.version instead.\n",
      "  sim_wo_ft=T.tempopulsar('sim_wt_pbd.par','iteration_sub.tim')\n",
      "/tmp/ipykernel_61419/3737954191.py:118: DeprecationWarning: distutils Version classes are deprecated. Use packaging.version instead.\n",
      "  sim_wo_ft=T.tempopulsar('sim_wt_pbd.par','iteration_sub.tim')\n",
      "/tmp/ipykernel_61419/3737954191.py:118: DeprecationWarning: distutils Version classes are deprecated. Use packaging.version instead.\n",
      "  sim_wo_ft=T.tempopulsar('sim_wt_pbd.par','iteration_sub.tim')\n"
     ]
    },
    {
     "name": "stdout",
     "output_type": "stream",
     "text": [
      "13 per 80\n"
     ]
    },
    {
     "name": "stderr",
     "output_type": "stream",
     "text": [
      "/tmp/ipykernel_61419/3737954191.py:118: DeprecationWarning: distutils Version classes are deprecated. Use packaging.version instead.\n",
      "  sim_wo_ft=T.tempopulsar('sim_wt_pbd.par','iteration_sub.tim')\n",
      "/tmp/ipykernel_61419/3737954191.py:118: DeprecationWarning: distutils Version classes are deprecated. Use packaging.version instead.\n",
      "  sim_wo_ft=T.tempopulsar('sim_wt_pbd.par','iteration_sub.tim')\n",
      "/tmp/ipykernel_61419/3737954191.py:118: DeprecationWarning: distutils Version classes are deprecated. Use packaging.version instead.\n",
      "  sim_wo_ft=T.tempopulsar('sim_wt_pbd.par','iteration_sub.tim')\n",
      "/tmp/ipykernel_61419/3737954191.py:118: DeprecationWarning: distutils Version classes are deprecated. Use packaging.version instead.\n",
      "  sim_wo_ft=T.tempopulsar('sim_wt_pbd.par','iteration_sub.tim')\n",
      "/tmp/ipykernel_61419/3737954191.py:118: DeprecationWarning: distutils Version classes are deprecated. Use packaging.version instead.\n",
      "  sim_wo_ft=T.tempopulsar('sim_wt_pbd.par','iteration_sub.tim')\n",
      "/tmp/ipykernel_61419/3737954191.py:118: DeprecationWarning: distutils Version classes are deprecated. Use packaging.version instead.\n",
      "  sim_wo_ft=T.tempopulsar('sim_wt_pbd.par','iteration_sub.tim')\n",
      "/tmp/ipykernel_61419/3737954191.py:118: DeprecationWarning: distutils Version classes are deprecated. Use packaging.version instead.\n",
      "  sim_wo_ft=T.tempopulsar('sim_wt_pbd.par','iteration_sub.tim')\n",
      "/tmp/ipykernel_61419/3737954191.py:118: DeprecationWarning: distutils Version classes are deprecated. Use packaging.version instead.\n",
      "  sim_wo_ft=T.tempopulsar('sim_wt_pbd.par','iteration_sub.tim')\n",
      "/tmp/ipykernel_61419/3737954191.py:118: DeprecationWarning: distutils Version classes are deprecated. Use packaging.version instead.\n",
      "  sim_wo_ft=T.tempopulsar('sim_wt_pbd.par','iteration_sub.tim')\n",
      "/tmp/ipykernel_61419/3737954191.py:118: DeprecationWarning: distutils Version classes are deprecated. Use packaging.version instead.\n",
      "  sim_wo_ft=T.tempopulsar('sim_wt_pbd.par','iteration_sub.tim')\n"
     ]
    },
    {
     "name": "stdout",
     "output_type": "stream",
     "text": [
      "14 per 80\n"
     ]
    },
    {
     "name": "stderr",
     "output_type": "stream",
     "text": [
      "/tmp/ipykernel_61419/3737954191.py:118: DeprecationWarning: distutils Version classes are deprecated. Use packaging.version instead.\n",
      "  sim_wo_ft=T.tempopulsar('sim_wt_pbd.par','iteration_sub.tim')\n",
      "/tmp/ipykernel_61419/3737954191.py:118: DeprecationWarning: distutils Version classes are deprecated. Use packaging.version instead.\n",
      "  sim_wo_ft=T.tempopulsar('sim_wt_pbd.par','iteration_sub.tim')\n",
      "/tmp/ipykernel_61419/3737954191.py:118: DeprecationWarning: distutils Version classes are deprecated. Use packaging.version instead.\n",
      "  sim_wo_ft=T.tempopulsar('sim_wt_pbd.par','iteration_sub.tim')\n",
      "/tmp/ipykernel_61419/3737954191.py:118: DeprecationWarning: distutils Version classes are deprecated. Use packaging.version instead.\n",
      "  sim_wo_ft=T.tempopulsar('sim_wt_pbd.par','iteration_sub.tim')\n",
      "/tmp/ipykernel_61419/3737954191.py:118: DeprecationWarning: distutils Version classes are deprecated. Use packaging.version instead.\n",
      "  sim_wo_ft=T.tempopulsar('sim_wt_pbd.par','iteration_sub.tim')\n",
      "/tmp/ipykernel_61419/3737954191.py:118: DeprecationWarning: distutils Version classes are deprecated. Use packaging.version instead.\n",
      "  sim_wo_ft=T.tempopulsar('sim_wt_pbd.par','iteration_sub.tim')\n",
      "/tmp/ipykernel_61419/3737954191.py:118: DeprecationWarning: distutils Version classes are deprecated. Use packaging.version instead.\n",
      "  sim_wo_ft=T.tempopulsar('sim_wt_pbd.par','iteration_sub.tim')\n",
      "/tmp/ipykernel_61419/3737954191.py:118: DeprecationWarning: distutils Version classes are deprecated. Use packaging.version instead.\n",
      "  sim_wo_ft=T.tempopulsar('sim_wt_pbd.par','iteration_sub.tim')\n",
      "/tmp/ipykernel_61419/3737954191.py:118: DeprecationWarning: distutils Version classes are deprecated. Use packaging.version instead.\n",
      "  sim_wo_ft=T.tempopulsar('sim_wt_pbd.par','iteration_sub.tim')\n",
      "/tmp/ipykernel_61419/3737954191.py:118: DeprecationWarning: distutils Version classes are deprecated. Use packaging.version instead.\n",
      "  sim_wo_ft=T.tempopulsar('sim_wt_pbd.par','iteration_sub.tim')\n"
     ]
    },
    {
     "name": "stdout",
     "output_type": "stream",
     "text": [
      "15 per 80\n"
     ]
    },
    {
     "name": "stderr",
     "output_type": "stream",
     "text": [
      "/tmp/ipykernel_61419/3737954191.py:118: DeprecationWarning: distutils Version classes are deprecated. Use packaging.version instead.\n",
      "  sim_wo_ft=T.tempopulsar('sim_wt_pbd.par','iteration_sub.tim')\n",
      "/tmp/ipykernel_61419/3737954191.py:118: DeprecationWarning: distutils Version classes are deprecated. Use packaging.version instead.\n",
      "  sim_wo_ft=T.tempopulsar('sim_wt_pbd.par','iteration_sub.tim')\n",
      "/tmp/ipykernel_61419/3737954191.py:118: DeprecationWarning: distutils Version classes are deprecated. Use packaging.version instead.\n",
      "  sim_wo_ft=T.tempopulsar('sim_wt_pbd.par','iteration_sub.tim')\n",
      "/tmp/ipykernel_61419/3737954191.py:118: DeprecationWarning: distutils Version classes are deprecated. Use packaging.version instead.\n",
      "  sim_wo_ft=T.tempopulsar('sim_wt_pbd.par','iteration_sub.tim')\n",
      "/tmp/ipykernel_61419/3737954191.py:118: DeprecationWarning: distutils Version classes are deprecated. Use packaging.version instead.\n",
      "  sim_wo_ft=T.tempopulsar('sim_wt_pbd.par','iteration_sub.tim')\n",
      "/tmp/ipykernel_61419/3737954191.py:118: DeprecationWarning: distutils Version classes are deprecated. Use packaging.version instead.\n",
      "  sim_wo_ft=T.tempopulsar('sim_wt_pbd.par','iteration_sub.tim')\n",
      "/tmp/ipykernel_61419/3737954191.py:118: DeprecationWarning: distutils Version classes are deprecated. Use packaging.version instead.\n",
      "  sim_wo_ft=T.tempopulsar('sim_wt_pbd.par','iteration_sub.tim')\n",
      "/tmp/ipykernel_61419/3737954191.py:118: DeprecationWarning: distutils Version classes are deprecated. Use packaging.version instead.\n",
      "  sim_wo_ft=T.tempopulsar('sim_wt_pbd.par','iteration_sub.tim')\n",
      "/tmp/ipykernel_61419/3737954191.py:118: DeprecationWarning: distutils Version classes are deprecated. Use packaging.version instead.\n",
      "  sim_wo_ft=T.tempopulsar('sim_wt_pbd.par','iteration_sub.tim')\n",
      "/tmp/ipykernel_61419/3737954191.py:118: DeprecationWarning: distutils Version classes are deprecated. Use packaging.version instead.\n",
      "  sim_wo_ft=T.tempopulsar('sim_wt_pbd.par','iteration_sub.tim')\n"
     ]
    },
    {
     "name": "stdout",
     "output_type": "stream",
     "text": [
      "16 per 80\n"
     ]
    },
    {
     "name": "stderr",
     "output_type": "stream",
     "text": [
      "/tmp/ipykernel_61419/3737954191.py:118: DeprecationWarning: distutils Version classes are deprecated. Use packaging.version instead.\n",
      "  sim_wo_ft=T.tempopulsar('sim_wt_pbd.par','iteration_sub.tim')\n",
      "/tmp/ipykernel_61419/3737954191.py:118: DeprecationWarning: distutils Version classes are deprecated. Use packaging.version instead.\n",
      "  sim_wo_ft=T.tempopulsar('sim_wt_pbd.par','iteration_sub.tim')\n",
      "/tmp/ipykernel_61419/3737954191.py:118: DeprecationWarning: distutils Version classes are deprecated. Use packaging.version instead.\n",
      "  sim_wo_ft=T.tempopulsar('sim_wt_pbd.par','iteration_sub.tim')\n",
      "/tmp/ipykernel_61419/3737954191.py:118: DeprecationWarning: distutils Version classes are deprecated. Use packaging.version instead.\n",
      "  sim_wo_ft=T.tempopulsar('sim_wt_pbd.par','iteration_sub.tim')\n",
      "/tmp/ipykernel_61419/3737954191.py:118: DeprecationWarning: distutils Version classes are deprecated. Use packaging.version instead.\n",
      "  sim_wo_ft=T.tempopulsar('sim_wt_pbd.par','iteration_sub.tim')\n",
      "/tmp/ipykernel_61419/3737954191.py:118: DeprecationWarning: distutils Version classes are deprecated. Use packaging.version instead.\n",
      "  sim_wo_ft=T.tempopulsar('sim_wt_pbd.par','iteration_sub.tim')\n",
      "/tmp/ipykernel_61419/3737954191.py:118: DeprecationWarning: distutils Version classes are deprecated. Use packaging.version instead.\n",
      "  sim_wo_ft=T.tempopulsar('sim_wt_pbd.par','iteration_sub.tim')\n",
      "/tmp/ipykernel_61419/3737954191.py:118: DeprecationWarning: distutils Version classes are deprecated. Use packaging.version instead.\n",
      "  sim_wo_ft=T.tempopulsar('sim_wt_pbd.par','iteration_sub.tim')\n",
      "/tmp/ipykernel_61419/3737954191.py:118: DeprecationWarning: distutils Version classes are deprecated. Use packaging.version instead.\n",
      "  sim_wo_ft=T.tempopulsar('sim_wt_pbd.par','iteration_sub.tim')\n",
      "/tmp/ipykernel_61419/3737954191.py:118: DeprecationWarning: distutils Version classes are deprecated. Use packaging.version instead.\n",
      "  sim_wo_ft=T.tempopulsar('sim_wt_pbd.par','iteration_sub.tim')\n"
     ]
    },
    {
     "name": "stdout",
     "output_type": "stream",
     "text": [
      "17 per 80\n"
     ]
    },
    {
     "name": "stderr",
     "output_type": "stream",
     "text": [
      "/tmp/ipykernel_61419/3737954191.py:118: DeprecationWarning: distutils Version classes are deprecated. Use packaging.version instead.\n",
      "  sim_wo_ft=T.tempopulsar('sim_wt_pbd.par','iteration_sub.tim')\n",
      "/tmp/ipykernel_61419/3737954191.py:118: DeprecationWarning: distutils Version classes are deprecated. Use packaging.version instead.\n",
      "  sim_wo_ft=T.tempopulsar('sim_wt_pbd.par','iteration_sub.tim')\n",
      "/tmp/ipykernel_61419/3737954191.py:118: DeprecationWarning: distutils Version classes are deprecated. Use packaging.version instead.\n",
      "  sim_wo_ft=T.tempopulsar('sim_wt_pbd.par','iteration_sub.tim')\n",
      "/tmp/ipykernel_61419/3737954191.py:118: DeprecationWarning: distutils Version classes are deprecated. Use packaging.version instead.\n",
      "  sim_wo_ft=T.tempopulsar('sim_wt_pbd.par','iteration_sub.tim')\n",
      "/tmp/ipykernel_61419/3737954191.py:118: DeprecationWarning: distutils Version classes are deprecated. Use packaging.version instead.\n",
      "  sim_wo_ft=T.tempopulsar('sim_wt_pbd.par','iteration_sub.tim')\n",
      "/tmp/ipykernel_61419/3737954191.py:118: DeprecationWarning: distutils Version classes are deprecated. Use packaging.version instead.\n",
      "  sim_wo_ft=T.tempopulsar('sim_wt_pbd.par','iteration_sub.tim')\n",
      "/tmp/ipykernel_61419/3737954191.py:118: DeprecationWarning: distutils Version classes are deprecated. Use packaging.version instead.\n",
      "  sim_wo_ft=T.tempopulsar('sim_wt_pbd.par','iteration_sub.tim')\n",
      "/tmp/ipykernel_61419/3737954191.py:118: DeprecationWarning: distutils Version classes are deprecated. Use packaging.version instead.\n",
      "  sim_wo_ft=T.tempopulsar('sim_wt_pbd.par','iteration_sub.tim')\n",
      "/tmp/ipykernel_61419/3737954191.py:118: DeprecationWarning: distutils Version classes are deprecated. Use packaging.version instead.\n",
      "  sim_wo_ft=T.tempopulsar('sim_wt_pbd.par','iteration_sub.tim')\n",
      "/tmp/ipykernel_61419/3737954191.py:118: DeprecationWarning: distutils Version classes are deprecated. Use packaging.version instead.\n",
      "  sim_wo_ft=T.tempopulsar('sim_wt_pbd.par','iteration_sub.tim')\n"
     ]
    },
    {
     "name": "stdout",
     "output_type": "stream",
     "text": [
      "18 per 80\n"
     ]
    },
    {
     "name": "stderr",
     "output_type": "stream",
     "text": [
      "/tmp/ipykernel_61419/3737954191.py:118: DeprecationWarning: distutils Version classes are deprecated. Use packaging.version instead.\n",
      "  sim_wo_ft=T.tempopulsar('sim_wt_pbd.par','iteration_sub.tim')\n",
      "/tmp/ipykernel_61419/3737954191.py:118: DeprecationWarning: distutils Version classes are deprecated. Use packaging.version instead.\n",
      "  sim_wo_ft=T.tempopulsar('sim_wt_pbd.par','iteration_sub.tim')\n",
      "/tmp/ipykernel_61419/3737954191.py:118: DeprecationWarning: distutils Version classes are deprecated. Use packaging.version instead.\n",
      "  sim_wo_ft=T.tempopulsar('sim_wt_pbd.par','iteration_sub.tim')\n",
      "/tmp/ipykernel_61419/3737954191.py:118: DeprecationWarning: distutils Version classes are deprecated. Use packaging.version instead.\n",
      "  sim_wo_ft=T.tempopulsar('sim_wt_pbd.par','iteration_sub.tim')\n",
      "/tmp/ipykernel_61419/3737954191.py:118: DeprecationWarning: distutils Version classes are deprecated. Use packaging.version instead.\n",
      "  sim_wo_ft=T.tempopulsar('sim_wt_pbd.par','iteration_sub.tim')\n",
      "/tmp/ipykernel_61419/3737954191.py:118: DeprecationWarning: distutils Version classes are deprecated. Use packaging.version instead.\n",
      "  sim_wo_ft=T.tempopulsar('sim_wt_pbd.par','iteration_sub.tim')\n",
      "/tmp/ipykernel_61419/3737954191.py:118: DeprecationWarning: distutils Version classes are deprecated. Use packaging.version instead.\n",
      "  sim_wo_ft=T.tempopulsar('sim_wt_pbd.par','iteration_sub.tim')\n",
      "/tmp/ipykernel_61419/3737954191.py:118: DeprecationWarning: distutils Version classes are deprecated. Use packaging.version instead.\n",
      "  sim_wo_ft=T.tempopulsar('sim_wt_pbd.par','iteration_sub.tim')\n",
      "/tmp/ipykernel_61419/3737954191.py:118: DeprecationWarning: distutils Version classes are deprecated. Use packaging.version instead.\n",
      "  sim_wo_ft=T.tempopulsar('sim_wt_pbd.par','iteration_sub.tim')\n",
      "/tmp/ipykernel_61419/3737954191.py:118: DeprecationWarning: distutils Version classes are deprecated. Use packaging.version instead.\n",
      "  sim_wo_ft=T.tempopulsar('sim_wt_pbd.par','iteration_sub.tim')\n"
     ]
    },
    {
     "name": "stdout",
     "output_type": "stream",
     "text": [
      "19 per 80\n"
     ]
    },
    {
     "name": "stderr",
     "output_type": "stream",
     "text": [
      "/tmp/ipykernel_61419/3737954191.py:118: DeprecationWarning: distutils Version classes are deprecated. Use packaging.version instead.\n",
      "  sim_wo_ft=T.tempopulsar('sim_wt_pbd.par','iteration_sub.tim')\n",
      "/tmp/ipykernel_61419/3737954191.py:118: DeprecationWarning: distutils Version classes are deprecated. Use packaging.version instead.\n",
      "  sim_wo_ft=T.tempopulsar('sim_wt_pbd.par','iteration_sub.tim')\n",
      "/tmp/ipykernel_61419/3737954191.py:118: DeprecationWarning: distutils Version classes are deprecated. Use packaging.version instead.\n",
      "  sim_wo_ft=T.tempopulsar('sim_wt_pbd.par','iteration_sub.tim')\n",
      "/tmp/ipykernel_61419/3737954191.py:118: DeprecationWarning: distutils Version classes are deprecated. Use packaging.version instead.\n",
      "  sim_wo_ft=T.tempopulsar('sim_wt_pbd.par','iteration_sub.tim')\n",
      "/tmp/ipykernel_61419/3737954191.py:118: DeprecationWarning: distutils Version classes are deprecated. Use packaging.version instead.\n",
      "  sim_wo_ft=T.tempopulsar('sim_wt_pbd.par','iteration_sub.tim')\n",
      "/tmp/ipykernel_61419/3737954191.py:118: DeprecationWarning: distutils Version classes are deprecated. Use packaging.version instead.\n",
      "  sim_wo_ft=T.tempopulsar('sim_wt_pbd.par','iteration_sub.tim')\n",
      "/tmp/ipykernel_61419/3737954191.py:118: DeprecationWarning: distutils Version classes are deprecated. Use packaging.version instead.\n",
      "  sim_wo_ft=T.tempopulsar('sim_wt_pbd.par','iteration_sub.tim')\n",
      "/tmp/ipykernel_61419/3737954191.py:118: DeprecationWarning: distutils Version classes are deprecated. Use packaging.version instead.\n",
      "  sim_wo_ft=T.tempopulsar('sim_wt_pbd.par','iteration_sub.tim')\n",
      "/tmp/ipykernel_61419/3737954191.py:118: DeprecationWarning: distutils Version classes are deprecated. Use packaging.version instead.\n",
      "  sim_wo_ft=T.tempopulsar('sim_wt_pbd.par','iteration_sub.tim')\n",
      "/tmp/ipykernel_61419/3737954191.py:118: DeprecationWarning: distutils Version classes are deprecated. Use packaging.version instead.\n",
      "  sim_wo_ft=T.tempopulsar('sim_wt_pbd.par','iteration_sub.tim')\n"
     ]
    },
    {
     "name": "stdout",
     "output_type": "stream",
     "text": [
      "20 per 80\n"
     ]
    },
    {
     "name": "stderr",
     "output_type": "stream",
     "text": [
      "/tmp/ipykernel_61419/3737954191.py:118: DeprecationWarning: distutils Version classes are deprecated. Use packaging.version instead.\n",
      "  sim_wo_ft=T.tempopulsar('sim_wt_pbd.par','iteration_sub.tim')\n",
      "/tmp/ipykernel_61419/3737954191.py:118: DeprecationWarning: distutils Version classes are deprecated. Use packaging.version instead.\n",
      "  sim_wo_ft=T.tempopulsar('sim_wt_pbd.par','iteration_sub.tim')\n",
      "/tmp/ipykernel_61419/3737954191.py:118: DeprecationWarning: distutils Version classes are deprecated. Use packaging.version instead.\n",
      "  sim_wo_ft=T.tempopulsar('sim_wt_pbd.par','iteration_sub.tim')\n",
      "/tmp/ipykernel_61419/3737954191.py:118: DeprecationWarning: distutils Version classes are deprecated. Use packaging.version instead.\n",
      "  sim_wo_ft=T.tempopulsar('sim_wt_pbd.par','iteration_sub.tim')\n",
      "/tmp/ipykernel_61419/3737954191.py:118: DeprecationWarning: distutils Version classes are deprecated. Use packaging.version instead.\n",
      "  sim_wo_ft=T.tempopulsar('sim_wt_pbd.par','iteration_sub.tim')\n",
      "/tmp/ipykernel_61419/3737954191.py:118: DeprecationWarning: distutils Version classes are deprecated. Use packaging.version instead.\n",
      "  sim_wo_ft=T.tempopulsar('sim_wt_pbd.par','iteration_sub.tim')\n",
      "/tmp/ipykernel_61419/3737954191.py:118: DeprecationWarning: distutils Version classes are deprecated. Use packaging.version instead.\n",
      "  sim_wo_ft=T.tempopulsar('sim_wt_pbd.par','iteration_sub.tim')\n",
      "/tmp/ipykernel_61419/3737954191.py:118: DeprecationWarning: distutils Version classes are deprecated. Use packaging.version instead.\n",
      "  sim_wo_ft=T.tempopulsar('sim_wt_pbd.par','iteration_sub.tim')\n",
      "/tmp/ipykernel_61419/3737954191.py:118: DeprecationWarning: distutils Version classes are deprecated. Use packaging.version instead.\n",
      "  sim_wo_ft=T.tempopulsar('sim_wt_pbd.par','iteration_sub.tim')\n",
      "/tmp/ipykernel_61419/3737954191.py:118: DeprecationWarning: distutils Version classes are deprecated. Use packaging.version instead.\n",
      "  sim_wo_ft=T.tempopulsar('sim_wt_pbd.par','iteration_sub.tim')\n"
     ]
    },
    {
     "name": "stdout",
     "output_type": "stream",
     "text": [
      "21 per 80\n"
     ]
    },
    {
     "name": "stderr",
     "output_type": "stream",
     "text": [
      "/tmp/ipykernel_61419/3737954191.py:118: DeprecationWarning: distutils Version classes are deprecated. Use packaging.version instead.\n",
      "  sim_wo_ft=T.tempopulsar('sim_wt_pbd.par','iteration_sub.tim')\n",
      "/tmp/ipykernel_61419/3737954191.py:118: DeprecationWarning: distutils Version classes are deprecated. Use packaging.version instead.\n",
      "  sim_wo_ft=T.tempopulsar('sim_wt_pbd.par','iteration_sub.tim')\n",
      "/tmp/ipykernel_61419/3737954191.py:118: DeprecationWarning: distutils Version classes are deprecated. Use packaging.version instead.\n",
      "  sim_wo_ft=T.tempopulsar('sim_wt_pbd.par','iteration_sub.tim')\n",
      "/tmp/ipykernel_61419/3737954191.py:118: DeprecationWarning: distutils Version classes are deprecated. Use packaging.version instead.\n",
      "  sim_wo_ft=T.tempopulsar('sim_wt_pbd.par','iteration_sub.tim')\n",
      "/tmp/ipykernel_61419/3737954191.py:118: DeprecationWarning: distutils Version classes are deprecated. Use packaging.version instead.\n",
      "  sim_wo_ft=T.tempopulsar('sim_wt_pbd.par','iteration_sub.tim')\n",
      "/tmp/ipykernel_61419/3737954191.py:118: DeprecationWarning: distutils Version classes are deprecated. Use packaging.version instead.\n",
      "  sim_wo_ft=T.tempopulsar('sim_wt_pbd.par','iteration_sub.tim')\n",
      "/tmp/ipykernel_61419/3737954191.py:118: DeprecationWarning: distutils Version classes are deprecated. Use packaging.version instead.\n",
      "  sim_wo_ft=T.tempopulsar('sim_wt_pbd.par','iteration_sub.tim')\n",
      "/tmp/ipykernel_61419/3737954191.py:118: DeprecationWarning: distutils Version classes are deprecated. Use packaging.version instead.\n",
      "  sim_wo_ft=T.tempopulsar('sim_wt_pbd.par','iteration_sub.tim')\n",
      "/tmp/ipykernel_61419/3737954191.py:118: DeprecationWarning: distutils Version classes are deprecated. Use packaging.version instead.\n",
      "  sim_wo_ft=T.tempopulsar('sim_wt_pbd.par','iteration_sub.tim')\n",
      "/tmp/ipykernel_61419/3737954191.py:118: DeprecationWarning: distutils Version classes are deprecated. Use packaging.version instead.\n",
      "  sim_wo_ft=T.tempopulsar('sim_wt_pbd.par','iteration_sub.tim')\n"
     ]
    },
    {
     "name": "stdout",
     "output_type": "stream",
     "text": [
      "22 per 80\n"
     ]
    },
    {
     "name": "stderr",
     "output_type": "stream",
     "text": [
      "/tmp/ipykernel_61419/3737954191.py:118: DeprecationWarning: distutils Version classes are deprecated. Use packaging.version instead.\n",
      "  sim_wo_ft=T.tempopulsar('sim_wt_pbd.par','iteration_sub.tim')\n",
      "/tmp/ipykernel_61419/3737954191.py:118: DeprecationWarning: distutils Version classes are deprecated. Use packaging.version instead.\n",
      "  sim_wo_ft=T.tempopulsar('sim_wt_pbd.par','iteration_sub.tim')\n",
      "/tmp/ipykernel_61419/3737954191.py:118: DeprecationWarning: distutils Version classes are deprecated. Use packaging.version instead.\n",
      "  sim_wo_ft=T.tempopulsar('sim_wt_pbd.par','iteration_sub.tim')\n",
      "/tmp/ipykernel_61419/3737954191.py:118: DeprecationWarning: distutils Version classes are deprecated. Use packaging.version instead.\n",
      "  sim_wo_ft=T.tempopulsar('sim_wt_pbd.par','iteration_sub.tim')\n",
      "/tmp/ipykernel_61419/3737954191.py:118: DeprecationWarning: distutils Version classes are deprecated. Use packaging.version instead.\n",
      "  sim_wo_ft=T.tempopulsar('sim_wt_pbd.par','iteration_sub.tim')\n",
      "/tmp/ipykernel_61419/3737954191.py:118: DeprecationWarning: distutils Version classes are deprecated. Use packaging.version instead.\n",
      "  sim_wo_ft=T.tempopulsar('sim_wt_pbd.par','iteration_sub.tim')\n",
      "/tmp/ipykernel_61419/3737954191.py:118: DeprecationWarning: distutils Version classes are deprecated. Use packaging.version instead.\n",
      "  sim_wo_ft=T.tempopulsar('sim_wt_pbd.par','iteration_sub.tim')\n",
      "/tmp/ipykernel_61419/3737954191.py:118: DeprecationWarning: distutils Version classes are deprecated. Use packaging.version instead.\n",
      "  sim_wo_ft=T.tempopulsar('sim_wt_pbd.par','iteration_sub.tim')\n",
      "/tmp/ipykernel_61419/3737954191.py:118: DeprecationWarning: distutils Version classes are deprecated. Use packaging.version instead.\n",
      "  sim_wo_ft=T.tempopulsar('sim_wt_pbd.par','iteration_sub.tim')\n",
      "/tmp/ipykernel_61419/3737954191.py:118: DeprecationWarning: distutils Version classes are deprecated. Use packaging.version instead.\n",
      "  sim_wo_ft=T.tempopulsar('sim_wt_pbd.par','iteration_sub.tim')\n"
     ]
    },
    {
     "name": "stdout",
     "output_type": "stream",
     "text": [
      "23 per 80\n"
     ]
    },
    {
     "name": "stderr",
     "output_type": "stream",
     "text": [
      "/tmp/ipykernel_61419/3737954191.py:118: DeprecationWarning: distutils Version classes are deprecated. Use packaging.version instead.\n",
      "  sim_wo_ft=T.tempopulsar('sim_wt_pbd.par','iteration_sub.tim')\n",
      "/tmp/ipykernel_61419/3737954191.py:118: DeprecationWarning: distutils Version classes are deprecated. Use packaging.version instead.\n",
      "  sim_wo_ft=T.tempopulsar('sim_wt_pbd.par','iteration_sub.tim')\n",
      "/tmp/ipykernel_61419/3737954191.py:118: DeprecationWarning: distutils Version classes are deprecated. Use packaging.version instead.\n",
      "  sim_wo_ft=T.tempopulsar('sim_wt_pbd.par','iteration_sub.tim')\n",
      "/tmp/ipykernel_61419/3737954191.py:118: DeprecationWarning: distutils Version classes are deprecated. Use packaging.version instead.\n",
      "  sim_wo_ft=T.tempopulsar('sim_wt_pbd.par','iteration_sub.tim')\n",
      "/tmp/ipykernel_61419/3737954191.py:118: DeprecationWarning: distutils Version classes are deprecated. Use packaging.version instead.\n",
      "  sim_wo_ft=T.tempopulsar('sim_wt_pbd.par','iteration_sub.tim')\n",
      "/tmp/ipykernel_61419/3737954191.py:118: DeprecationWarning: distutils Version classes are deprecated. Use packaging.version instead.\n",
      "  sim_wo_ft=T.tempopulsar('sim_wt_pbd.par','iteration_sub.tim')\n",
      "/tmp/ipykernel_61419/3737954191.py:118: DeprecationWarning: distutils Version classes are deprecated. Use packaging.version instead.\n",
      "  sim_wo_ft=T.tempopulsar('sim_wt_pbd.par','iteration_sub.tim')\n",
      "/tmp/ipykernel_61419/3737954191.py:118: DeprecationWarning: distutils Version classes are deprecated. Use packaging.version instead.\n",
      "  sim_wo_ft=T.tempopulsar('sim_wt_pbd.par','iteration_sub.tim')\n",
      "/tmp/ipykernel_61419/3737954191.py:118: DeprecationWarning: distutils Version classes are deprecated. Use packaging.version instead.\n",
      "  sim_wo_ft=T.tempopulsar('sim_wt_pbd.par','iteration_sub.tim')\n",
      "/tmp/ipykernel_61419/3737954191.py:118: DeprecationWarning: distutils Version classes are deprecated. Use packaging.version instead.\n",
      "  sim_wo_ft=T.tempopulsar('sim_wt_pbd.par','iteration_sub.tim')\n"
     ]
    },
    {
     "name": "stdout",
     "output_type": "stream",
     "text": [
      "24 per 80\n"
     ]
    },
    {
     "name": "stderr",
     "output_type": "stream",
     "text": [
      "/tmp/ipykernel_61419/3737954191.py:118: DeprecationWarning: distutils Version classes are deprecated. Use packaging.version instead.\n",
      "  sim_wo_ft=T.tempopulsar('sim_wt_pbd.par','iteration_sub.tim')\n",
      "/tmp/ipykernel_61419/3737954191.py:118: DeprecationWarning: distutils Version classes are deprecated. Use packaging.version instead.\n",
      "  sim_wo_ft=T.tempopulsar('sim_wt_pbd.par','iteration_sub.tim')\n",
      "/tmp/ipykernel_61419/3737954191.py:118: DeprecationWarning: distutils Version classes are deprecated. Use packaging.version instead.\n",
      "  sim_wo_ft=T.tempopulsar('sim_wt_pbd.par','iteration_sub.tim')\n",
      "/tmp/ipykernel_61419/3737954191.py:118: DeprecationWarning: distutils Version classes are deprecated. Use packaging.version instead.\n",
      "  sim_wo_ft=T.tempopulsar('sim_wt_pbd.par','iteration_sub.tim')\n",
      "/tmp/ipykernel_61419/3737954191.py:118: DeprecationWarning: distutils Version classes are deprecated. Use packaging.version instead.\n",
      "  sim_wo_ft=T.tempopulsar('sim_wt_pbd.par','iteration_sub.tim')\n",
      "/tmp/ipykernel_61419/3737954191.py:118: DeprecationWarning: distutils Version classes are deprecated. Use packaging.version instead.\n",
      "  sim_wo_ft=T.tempopulsar('sim_wt_pbd.par','iteration_sub.tim')\n",
      "/tmp/ipykernel_61419/3737954191.py:118: DeprecationWarning: distutils Version classes are deprecated. Use packaging.version instead.\n",
      "  sim_wo_ft=T.tempopulsar('sim_wt_pbd.par','iteration_sub.tim')\n",
      "/tmp/ipykernel_61419/3737954191.py:118: DeprecationWarning: distutils Version classes are deprecated. Use packaging.version instead.\n",
      "  sim_wo_ft=T.tempopulsar('sim_wt_pbd.par','iteration_sub.tim')\n",
      "/tmp/ipykernel_61419/3737954191.py:118: DeprecationWarning: distutils Version classes are deprecated. Use packaging.version instead.\n",
      "  sim_wo_ft=T.tempopulsar('sim_wt_pbd.par','iteration_sub.tim')\n",
      "/tmp/ipykernel_61419/3737954191.py:118: DeprecationWarning: distutils Version classes are deprecated. Use packaging.version instead.\n",
      "  sim_wo_ft=T.tempopulsar('sim_wt_pbd.par','iteration_sub.tim')\n"
     ]
    },
    {
     "name": "stdout",
     "output_type": "stream",
     "text": [
      "25 per 80\n"
     ]
    },
    {
     "name": "stderr",
     "output_type": "stream",
     "text": [
      "/tmp/ipykernel_61419/3737954191.py:118: DeprecationWarning: distutils Version classes are deprecated. Use packaging.version instead.\n",
      "  sim_wo_ft=T.tempopulsar('sim_wt_pbd.par','iteration_sub.tim')\n",
      "/tmp/ipykernel_61419/3737954191.py:118: DeprecationWarning: distutils Version classes are deprecated. Use packaging.version instead.\n",
      "  sim_wo_ft=T.tempopulsar('sim_wt_pbd.par','iteration_sub.tim')\n",
      "/tmp/ipykernel_61419/3737954191.py:118: DeprecationWarning: distutils Version classes are deprecated. Use packaging.version instead.\n",
      "  sim_wo_ft=T.tempopulsar('sim_wt_pbd.par','iteration_sub.tim')\n",
      "/tmp/ipykernel_61419/3737954191.py:118: DeprecationWarning: distutils Version classes are deprecated. Use packaging.version instead.\n",
      "  sim_wo_ft=T.tempopulsar('sim_wt_pbd.par','iteration_sub.tim')\n",
      "/tmp/ipykernel_61419/3737954191.py:118: DeprecationWarning: distutils Version classes are deprecated. Use packaging.version instead.\n",
      "  sim_wo_ft=T.tempopulsar('sim_wt_pbd.par','iteration_sub.tim')\n",
      "/tmp/ipykernel_61419/3737954191.py:118: DeprecationWarning: distutils Version classes are deprecated. Use packaging.version instead.\n",
      "  sim_wo_ft=T.tempopulsar('sim_wt_pbd.par','iteration_sub.tim')\n",
      "/tmp/ipykernel_61419/3737954191.py:118: DeprecationWarning: distutils Version classes are deprecated. Use packaging.version instead.\n",
      "  sim_wo_ft=T.tempopulsar('sim_wt_pbd.par','iteration_sub.tim')\n",
      "/tmp/ipykernel_61419/3737954191.py:118: DeprecationWarning: distutils Version classes are deprecated. Use packaging.version instead.\n",
      "  sim_wo_ft=T.tempopulsar('sim_wt_pbd.par','iteration_sub.tim')\n",
      "/tmp/ipykernel_61419/3737954191.py:118: DeprecationWarning: distutils Version classes are deprecated. Use packaging.version instead.\n",
      "  sim_wo_ft=T.tempopulsar('sim_wt_pbd.par','iteration_sub.tim')\n",
      "/tmp/ipykernel_61419/3737954191.py:118: DeprecationWarning: distutils Version classes are deprecated. Use packaging.version instead.\n",
      "  sim_wo_ft=T.tempopulsar('sim_wt_pbd.par','iteration_sub.tim')\n"
     ]
    },
    {
     "name": "stdout",
     "output_type": "stream",
     "text": [
      "26 per 80\n"
     ]
    },
    {
     "name": "stderr",
     "output_type": "stream",
     "text": [
      "/tmp/ipykernel_61419/3737954191.py:118: DeprecationWarning: distutils Version classes are deprecated. Use packaging.version instead.\n",
      "  sim_wo_ft=T.tempopulsar('sim_wt_pbd.par','iteration_sub.tim')\n",
      "/tmp/ipykernel_61419/3737954191.py:118: DeprecationWarning: distutils Version classes are deprecated. Use packaging.version instead.\n",
      "  sim_wo_ft=T.tempopulsar('sim_wt_pbd.par','iteration_sub.tim')\n",
      "/tmp/ipykernel_61419/3737954191.py:118: DeprecationWarning: distutils Version classes are deprecated. Use packaging.version instead.\n",
      "  sim_wo_ft=T.tempopulsar('sim_wt_pbd.par','iteration_sub.tim')\n",
      "/tmp/ipykernel_61419/3737954191.py:118: DeprecationWarning: distutils Version classes are deprecated. Use packaging.version instead.\n",
      "  sim_wo_ft=T.tempopulsar('sim_wt_pbd.par','iteration_sub.tim')\n",
      "/tmp/ipykernel_61419/3737954191.py:118: DeprecationWarning: distutils Version classes are deprecated. Use packaging.version instead.\n",
      "  sim_wo_ft=T.tempopulsar('sim_wt_pbd.par','iteration_sub.tim')\n",
      "/tmp/ipykernel_61419/3737954191.py:118: DeprecationWarning: distutils Version classes are deprecated. Use packaging.version instead.\n",
      "  sim_wo_ft=T.tempopulsar('sim_wt_pbd.par','iteration_sub.tim')\n",
      "/tmp/ipykernel_61419/3737954191.py:118: DeprecationWarning: distutils Version classes are deprecated. Use packaging.version instead.\n",
      "  sim_wo_ft=T.tempopulsar('sim_wt_pbd.par','iteration_sub.tim')\n",
      "/tmp/ipykernel_61419/3737954191.py:118: DeprecationWarning: distutils Version classes are deprecated. Use packaging.version instead.\n",
      "  sim_wo_ft=T.tempopulsar('sim_wt_pbd.par','iteration_sub.tim')\n",
      "/tmp/ipykernel_61419/3737954191.py:118: DeprecationWarning: distutils Version classes are deprecated. Use packaging.version instead.\n",
      "  sim_wo_ft=T.tempopulsar('sim_wt_pbd.par','iteration_sub.tim')\n",
      "/tmp/ipykernel_61419/3737954191.py:118: DeprecationWarning: distutils Version classes are deprecated. Use packaging.version instead.\n",
      "  sim_wo_ft=T.tempopulsar('sim_wt_pbd.par','iteration_sub.tim')\n"
     ]
    },
    {
     "name": "stdout",
     "output_type": "stream",
     "text": [
      "27 per 80\n"
     ]
    },
    {
     "name": "stderr",
     "output_type": "stream",
     "text": [
      "/tmp/ipykernel_61419/3737954191.py:118: DeprecationWarning: distutils Version classes are deprecated. Use packaging.version instead.\n",
      "  sim_wo_ft=T.tempopulsar('sim_wt_pbd.par','iteration_sub.tim')\n",
      "/tmp/ipykernel_61419/3737954191.py:118: DeprecationWarning: distutils Version classes are deprecated. Use packaging.version instead.\n",
      "  sim_wo_ft=T.tempopulsar('sim_wt_pbd.par','iteration_sub.tim')\n",
      "/tmp/ipykernel_61419/3737954191.py:118: DeprecationWarning: distutils Version classes are deprecated. Use packaging.version instead.\n",
      "  sim_wo_ft=T.tempopulsar('sim_wt_pbd.par','iteration_sub.tim')\n",
      "/tmp/ipykernel_61419/3737954191.py:118: DeprecationWarning: distutils Version classes are deprecated. Use packaging.version instead.\n",
      "  sim_wo_ft=T.tempopulsar('sim_wt_pbd.par','iteration_sub.tim')\n",
      "/tmp/ipykernel_61419/3737954191.py:118: DeprecationWarning: distutils Version classes are deprecated. Use packaging.version instead.\n",
      "  sim_wo_ft=T.tempopulsar('sim_wt_pbd.par','iteration_sub.tim')\n",
      "/tmp/ipykernel_61419/3737954191.py:118: DeprecationWarning: distutils Version classes are deprecated. Use packaging.version instead.\n",
      "  sim_wo_ft=T.tempopulsar('sim_wt_pbd.par','iteration_sub.tim')\n",
      "/tmp/ipykernel_61419/3737954191.py:118: DeprecationWarning: distutils Version classes are deprecated. Use packaging.version instead.\n",
      "  sim_wo_ft=T.tempopulsar('sim_wt_pbd.par','iteration_sub.tim')\n",
      "/tmp/ipykernel_61419/3737954191.py:118: DeprecationWarning: distutils Version classes are deprecated. Use packaging.version instead.\n",
      "  sim_wo_ft=T.tempopulsar('sim_wt_pbd.par','iteration_sub.tim')\n",
      "/tmp/ipykernel_61419/3737954191.py:118: DeprecationWarning: distutils Version classes are deprecated. Use packaging.version instead.\n",
      "  sim_wo_ft=T.tempopulsar('sim_wt_pbd.par','iteration_sub.tim')\n",
      "/tmp/ipykernel_61419/3737954191.py:118: DeprecationWarning: distutils Version classes are deprecated. Use packaging.version instead.\n",
      "  sim_wo_ft=T.tempopulsar('sim_wt_pbd.par','iteration_sub.tim')\n"
     ]
    },
    {
     "name": "stdout",
     "output_type": "stream",
     "text": [
      "28 per 80\n"
     ]
    },
    {
     "name": "stderr",
     "output_type": "stream",
     "text": [
      "/tmp/ipykernel_61419/3737954191.py:118: DeprecationWarning: distutils Version classes are deprecated. Use packaging.version instead.\n",
      "  sim_wo_ft=T.tempopulsar('sim_wt_pbd.par','iteration_sub.tim')\n",
      "/tmp/ipykernel_61419/3737954191.py:118: DeprecationWarning: distutils Version classes are deprecated. Use packaging.version instead.\n",
      "  sim_wo_ft=T.tempopulsar('sim_wt_pbd.par','iteration_sub.tim')\n",
      "/tmp/ipykernel_61419/3737954191.py:118: DeprecationWarning: distutils Version classes are deprecated. Use packaging.version instead.\n",
      "  sim_wo_ft=T.tempopulsar('sim_wt_pbd.par','iteration_sub.tim')\n",
      "/tmp/ipykernel_61419/3737954191.py:118: DeprecationWarning: distutils Version classes are deprecated. Use packaging.version instead.\n",
      "  sim_wo_ft=T.tempopulsar('sim_wt_pbd.par','iteration_sub.tim')\n",
      "/tmp/ipykernel_61419/3737954191.py:118: DeprecationWarning: distutils Version classes are deprecated. Use packaging.version instead.\n",
      "  sim_wo_ft=T.tempopulsar('sim_wt_pbd.par','iteration_sub.tim')\n",
      "/tmp/ipykernel_61419/3737954191.py:118: DeprecationWarning: distutils Version classes are deprecated. Use packaging.version instead.\n",
      "  sim_wo_ft=T.tempopulsar('sim_wt_pbd.par','iteration_sub.tim')\n",
      "/tmp/ipykernel_61419/3737954191.py:118: DeprecationWarning: distutils Version classes are deprecated. Use packaging.version instead.\n",
      "  sim_wo_ft=T.tempopulsar('sim_wt_pbd.par','iteration_sub.tim')\n",
      "/tmp/ipykernel_61419/3737954191.py:118: DeprecationWarning: distutils Version classes are deprecated. Use packaging.version instead.\n",
      "  sim_wo_ft=T.tempopulsar('sim_wt_pbd.par','iteration_sub.tim')\n",
      "/tmp/ipykernel_61419/3737954191.py:118: DeprecationWarning: distutils Version classes are deprecated. Use packaging.version instead.\n",
      "  sim_wo_ft=T.tempopulsar('sim_wt_pbd.par','iteration_sub.tim')\n",
      "/tmp/ipykernel_61419/3737954191.py:118: DeprecationWarning: distutils Version classes are deprecated. Use packaging.version instead.\n",
      "  sim_wo_ft=T.tempopulsar('sim_wt_pbd.par','iteration_sub.tim')\n"
     ]
    },
    {
     "name": "stdout",
     "output_type": "stream",
     "text": [
      "29 per 80\n"
     ]
    },
    {
     "name": "stderr",
     "output_type": "stream",
     "text": [
      "/tmp/ipykernel_61419/3737954191.py:118: DeprecationWarning: distutils Version classes are deprecated. Use packaging.version instead.\n",
      "  sim_wo_ft=T.tempopulsar('sim_wt_pbd.par','iteration_sub.tim')\n",
      "/tmp/ipykernel_61419/3737954191.py:118: DeprecationWarning: distutils Version classes are deprecated. Use packaging.version instead.\n",
      "  sim_wo_ft=T.tempopulsar('sim_wt_pbd.par','iteration_sub.tim')\n",
      "/tmp/ipykernel_61419/3737954191.py:118: DeprecationWarning: distutils Version classes are deprecated. Use packaging.version instead.\n",
      "  sim_wo_ft=T.tempopulsar('sim_wt_pbd.par','iteration_sub.tim')\n",
      "/tmp/ipykernel_61419/3737954191.py:118: DeprecationWarning: distutils Version classes are deprecated. Use packaging.version instead.\n",
      "  sim_wo_ft=T.tempopulsar('sim_wt_pbd.par','iteration_sub.tim')\n",
      "/tmp/ipykernel_61419/3737954191.py:118: DeprecationWarning: distutils Version classes are deprecated. Use packaging.version instead.\n",
      "  sim_wo_ft=T.tempopulsar('sim_wt_pbd.par','iteration_sub.tim')\n",
      "/tmp/ipykernel_61419/3737954191.py:118: DeprecationWarning: distutils Version classes are deprecated. Use packaging.version instead.\n",
      "  sim_wo_ft=T.tempopulsar('sim_wt_pbd.par','iteration_sub.tim')\n",
      "/tmp/ipykernel_61419/3737954191.py:118: DeprecationWarning: distutils Version classes are deprecated. Use packaging.version instead.\n",
      "  sim_wo_ft=T.tempopulsar('sim_wt_pbd.par','iteration_sub.tim')\n",
      "/tmp/ipykernel_61419/3737954191.py:118: DeprecationWarning: distutils Version classes are deprecated. Use packaging.version instead.\n",
      "  sim_wo_ft=T.tempopulsar('sim_wt_pbd.par','iteration_sub.tim')\n",
      "/tmp/ipykernel_61419/3737954191.py:118: DeprecationWarning: distutils Version classes are deprecated. Use packaging.version instead.\n",
      "  sim_wo_ft=T.tempopulsar('sim_wt_pbd.par','iteration_sub.tim')\n",
      "/tmp/ipykernel_61419/3737954191.py:118: DeprecationWarning: distutils Version classes are deprecated. Use packaging.version instead.\n",
      "  sim_wo_ft=T.tempopulsar('sim_wt_pbd.par','iteration_sub.tim')\n"
     ]
    },
    {
     "name": "stdout",
     "output_type": "stream",
     "text": [
      "30 per 80\n"
     ]
    },
    {
     "name": "stderr",
     "output_type": "stream",
     "text": [
      "/tmp/ipykernel_61419/3737954191.py:118: DeprecationWarning: distutils Version classes are deprecated. Use packaging.version instead.\n",
      "  sim_wo_ft=T.tempopulsar('sim_wt_pbd.par','iteration_sub.tim')\n",
      "/tmp/ipykernel_61419/3737954191.py:118: DeprecationWarning: distutils Version classes are deprecated. Use packaging.version instead.\n",
      "  sim_wo_ft=T.tempopulsar('sim_wt_pbd.par','iteration_sub.tim')\n",
      "/tmp/ipykernel_61419/3737954191.py:118: DeprecationWarning: distutils Version classes are deprecated. Use packaging.version instead.\n",
      "  sim_wo_ft=T.tempopulsar('sim_wt_pbd.par','iteration_sub.tim')\n",
      "/tmp/ipykernel_61419/3737954191.py:118: DeprecationWarning: distutils Version classes are deprecated. Use packaging.version instead.\n",
      "  sim_wo_ft=T.tempopulsar('sim_wt_pbd.par','iteration_sub.tim')\n",
      "/tmp/ipykernel_61419/3737954191.py:118: DeprecationWarning: distutils Version classes are deprecated. Use packaging.version instead.\n",
      "  sim_wo_ft=T.tempopulsar('sim_wt_pbd.par','iteration_sub.tim')\n",
      "/tmp/ipykernel_61419/3737954191.py:118: DeprecationWarning: distutils Version classes are deprecated. Use packaging.version instead.\n",
      "  sim_wo_ft=T.tempopulsar('sim_wt_pbd.par','iteration_sub.tim')\n",
      "/tmp/ipykernel_61419/3737954191.py:118: DeprecationWarning: distutils Version classes are deprecated. Use packaging.version instead.\n",
      "  sim_wo_ft=T.tempopulsar('sim_wt_pbd.par','iteration_sub.tim')\n",
      "/tmp/ipykernel_61419/3737954191.py:118: DeprecationWarning: distutils Version classes are deprecated. Use packaging.version instead.\n",
      "  sim_wo_ft=T.tempopulsar('sim_wt_pbd.par','iteration_sub.tim')\n",
      "/tmp/ipykernel_61419/3737954191.py:118: DeprecationWarning: distutils Version classes are deprecated. Use packaging.version instead.\n",
      "  sim_wo_ft=T.tempopulsar('sim_wt_pbd.par','iteration_sub.tim')\n",
      "/tmp/ipykernel_61419/3737954191.py:118: DeprecationWarning: distutils Version classes are deprecated. Use packaging.version instead.\n",
      "  sim_wo_ft=T.tempopulsar('sim_wt_pbd.par','iteration_sub.tim')\n"
     ]
    },
    {
     "name": "stdout",
     "output_type": "stream",
     "text": [
      "31 per 80\n"
     ]
    },
    {
     "name": "stderr",
     "output_type": "stream",
     "text": [
      "/tmp/ipykernel_61419/3737954191.py:118: DeprecationWarning: distutils Version classes are deprecated. Use packaging.version instead.\n",
      "  sim_wo_ft=T.tempopulsar('sim_wt_pbd.par','iteration_sub.tim')\n",
      "/tmp/ipykernel_61419/3737954191.py:118: DeprecationWarning: distutils Version classes are deprecated. Use packaging.version instead.\n",
      "  sim_wo_ft=T.tempopulsar('sim_wt_pbd.par','iteration_sub.tim')\n",
      "/tmp/ipykernel_61419/3737954191.py:118: DeprecationWarning: distutils Version classes are deprecated. Use packaging.version instead.\n",
      "  sim_wo_ft=T.tempopulsar('sim_wt_pbd.par','iteration_sub.tim')\n",
      "/tmp/ipykernel_61419/3737954191.py:118: DeprecationWarning: distutils Version classes are deprecated. Use packaging.version instead.\n",
      "  sim_wo_ft=T.tempopulsar('sim_wt_pbd.par','iteration_sub.tim')\n",
      "/tmp/ipykernel_61419/3737954191.py:118: DeprecationWarning: distutils Version classes are deprecated. Use packaging.version instead.\n",
      "  sim_wo_ft=T.tempopulsar('sim_wt_pbd.par','iteration_sub.tim')\n",
      "/tmp/ipykernel_61419/3737954191.py:118: DeprecationWarning: distutils Version classes are deprecated. Use packaging.version instead.\n",
      "  sim_wo_ft=T.tempopulsar('sim_wt_pbd.par','iteration_sub.tim')\n",
      "/tmp/ipykernel_61419/3737954191.py:118: DeprecationWarning: distutils Version classes are deprecated. Use packaging.version instead.\n",
      "  sim_wo_ft=T.tempopulsar('sim_wt_pbd.par','iteration_sub.tim')\n",
      "/tmp/ipykernel_61419/3737954191.py:118: DeprecationWarning: distutils Version classes are deprecated. Use packaging.version instead.\n",
      "  sim_wo_ft=T.tempopulsar('sim_wt_pbd.par','iteration_sub.tim')\n",
      "/tmp/ipykernel_61419/3737954191.py:118: DeprecationWarning: distutils Version classes are deprecated. Use packaging.version instead.\n",
      "  sim_wo_ft=T.tempopulsar('sim_wt_pbd.par','iteration_sub.tim')\n",
      "/tmp/ipykernel_61419/3737954191.py:118: DeprecationWarning: distutils Version classes are deprecated. Use packaging.version instead.\n",
      "  sim_wo_ft=T.tempopulsar('sim_wt_pbd.par','iteration_sub.tim')\n"
     ]
    },
    {
     "name": "stdout",
     "output_type": "stream",
     "text": [
      "32 per 80\n"
     ]
    },
    {
     "name": "stderr",
     "output_type": "stream",
     "text": [
      "/tmp/ipykernel_61419/3737954191.py:118: DeprecationWarning: distutils Version classes are deprecated. Use packaging.version instead.\n",
      "  sim_wo_ft=T.tempopulsar('sim_wt_pbd.par','iteration_sub.tim')\n",
      "/tmp/ipykernel_61419/3737954191.py:118: DeprecationWarning: distutils Version classes are deprecated. Use packaging.version instead.\n",
      "  sim_wo_ft=T.tempopulsar('sim_wt_pbd.par','iteration_sub.tim')\n",
      "/tmp/ipykernel_61419/3737954191.py:118: DeprecationWarning: distutils Version classes are deprecated. Use packaging.version instead.\n",
      "  sim_wo_ft=T.tempopulsar('sim_wt_pbd.par','iteration_sub.tim')\n",
      "/tmp/ipykernel_61419/3737954191.py:118: DeprecationWarning: distutils Version classes are deprecated. Use packaging.version instead.\n",
      "  sim_wo_ft=T.tempopulsar('sim_wt_pbd.par','iteration_sub.tim')\n",
      "/tmp/ipykernel_61419/3737954191.py:118: DeprecationWarning: distutils Version classes are deprecated. Use packaging.version instead.\n",
      "  sim_wo_ft=T.tempopulsar('sim_wt_pbd.par','iteration_sub.tim')\n",
      "/tmp/ipykernel_61419/3737954191.py:118: DeprecationWarning: distutils Version classes are deprecated. Use packaging.version instead.\n",
      "  sim_wo_ft=T.tempopulsar('sim_wt_pbd.par','iteration_sub.tim')\n",
      "/tmp/ipykernel_61419/3737954191.py:118: DeprecationWarning: distutils Version classes are deprecated. Use packaging.version instead.\n",
      "  sim_wo_ft=T.tempopulsar('sim_wt_pbd.par','iteration_sub.tim')\n",
      "/tmp/ipykernel_61419/3737954191.py:118: DeprecationWarning: distutils Version classes are deprecated. Use packaging.version instead.\n",
      "  sim_wo_ft=T.tempopulsar('sim_wt_pbd.par','iteration_sub.tim')\n",
      "/tmp/ipykernel_61419/3737954191.py:118: DeprecationWarning: distutils Version classes are deprecated. Use packaging.version instead.\n",
      "  sim_wo_ft=T.tempopulsar('sim_wt_pbd.par','iteration_sub.tim')\n",
      "/tmp/ipykernel_61419/3737954191.py:118: DeprecationWarning: distutils Version classes are deprecated. Use packaging.version instead.\n",
      "  sim_wo_ft=T.tempopulsar('sim_wt_pbd.par','iteration_sub.tim')\n"
     ]
    },
    {
     "name": "stdout",
     "output_type": "stream",
     "text": [
      "33 per 80\n"
     ]
    },
    {
     "name": "stderr",
     "output_type": "stream",
     "text": [
      "/tmp/ipykernel_61419/3737954191.py:118: DeprecationWarning: distutils Version classes are deprecated. Use packaging.version instead.\n",
      "  sim_wo_ft=T.tempopulsar('sim_wt_pbd.par','iteration_sub.tim')\n",
      "/tmp/ipykernel_61419/3737954191.py:118: DeprecationWarning: distutils Version classes are deprecated. Use packaging.version instead.\n",
      "  sim_wo_ft=T.tempopulsar('sim_wt_pbd.par','iteration_sub.tim')\n",
      "/tmp/ipykernel_61419/3737954191.py:118: DeprecationWarning: distutils Version classes are deprecated. Use packaging.version instead.\n",
      "  sim_wo_ft=T.tempopulsar('sim_wt_pbd.par','iteration_sub.tim')\n",
      "/tmp/ipykernel_61419/3737954191.py:118: DeprecationWarning: distutils Version classes are deprecated. Use packaging.version instead.\n",
      "  sim_wo_ft=T.tempopulsar('sim_wt_pbd.par','iteration_sub.tim')\n",
      "/tmp/ipykernel_61419/3737954191.py:118: DeprecationWarning: distutils Version classes are deprecated. Use packaging.version instead.\n",
      "  sim_wo_ft=T.tempopulsar('sim_wt_pbd.par','iteration_sub.tim')\n",
      "/tmp/ipykernel_61419/3737954191.py:118: DeprecationWarning: distutils Version classes are deprecated. Use packaging.version instead.\n",
      "  sim_wo_ft=T.tempopulsar('sim_wt_pbd.par','iteration_sub.tim')\n",
      "/tmp/ipykernel_61419/3737954191.py:118: DeprecationWarning: distutils Version classes are deprecated. Use packaging.version instead.\n",
      "  sim_wo_ft=T.tempopulsar('sim_wt_pbd.par','iteration_sub.tim')\n",
      "/tmp/ipykernel_61419/3737954191.py:118: DeprecationWarning: distutils Version classes are deprecated. Use packaging.version instead.\n",
      "  sim_wo_ft=T.tempopulsar('sim_wt_pbd.par','iteration_sub.tim')\n",
      "/tmp/ipykernel_61419/3737954191.py:118: DeprecationWarning: distutils Version classes are deprecated. Use packaging.version instead.\n",
      "  sim_wo_ft=T.tempopulsar('sim_wt_pbd.par','iteration_sub.tim')\n",
      "/tmp/ipykernel_61419/3737954191.py:118: DeprecationWarning: distutils Version classes are deprecated. Use packaging.version instead.\n",
      "  sim_wo_ft=T.tempopulsar('sim_wt_pbd.par','iteration_sub.tim')\n"
     ]
    },
    {
     "name": "stdout",
     "output_type": "stream",
     "text": [
      "34 per 80\n"
     ]
    },
    {
     "name": "stderr",
     "output_type": "stream",
     "text": [
      "/tmp/ipykernel_61419/3737954191.py:118: DeprecationWarning: distutils Version classes are deprecated. Use packaging.version instead.\n",
      "  sim_wo_ft=T.tempopulsar('sim_wt_pbd.par','iteration_sub.tim')\n",
      "/tmp/ipykernel_61419/3737954191.py:118: DeprecationWarning: distutils Version classes are deprecated. Use packaging.version instead.\n",
      "  sim_wo_ft=T.tempopulsar('sim_wt_pbd.par','iteration_sub.tim')\n",
      "/tmp/ipykernel_61419/3737954191.py:118: DeprecationWarning: distutils Version classes are deprecated. Use packaging.version instead.\n",
      "  sim_wo_ft=T.tempopulsar('sim_wt_pbd.par','iteration_sub.tim')\n",
      "/tmp/ipykernel_61419/3737954191.py:118: DeprecationWarning: distutils Version classes are deprecated. Use packaging.version instead.\n",
      "  sim_wo_ft=T.tempopulsar('sim_wt_pbd.par','iteration_sub.tim')\n",
      "/tmp/ipykernel_61419/3737954191.py:118: DeprecationWarning: distutils Version classes are deprecated. Use packaging.version instead.\n",
      "  sim_wo_ft=T.tempopulsar('sim_wt_pbd.par','iteration_sub.tim')\n",
      "/tmp/ipykernel_61419/3737954191.py:118: DeprecationWarning: distutils Version classes are deprecated. Use packaging.version instead.\n",
      "  sim_wo_ft=T.tempopulsar('sim_wt_pbd.par','iteration_sub.tim')\n",
      "/tmp/ipykernel_61419/3737954191.py:118: DeprecationWarning: distutils Version classes are deprecated. Use packaging.version instead.\n",
      "  sim_wo_ft=T.tempopulsar('sim_wt_pbd.par','iteration_sub.tim')\n",
      "/tmp/ipykernel_61419/3737954191.py:118: DeprecationWarning: distutils Version classes are deprecated. Use packaging.version instead.\n",
      "  sim_wo_ft=T.tempopulsar('sim_wt_pbd.par','iteration_sub.tim')\n",
      "/tmp/ipykernel_61419/3737954191.py:118: DeprecationWarning: distutils Version classes are deprecated. Use packaging.version instead.\n",
      "  sim_wo_ft=T.tempopulsar('sim_wt_pbd.par','iteration_sub.tim')\n",
      "/tmp/ipykernel_61419/3737954191.py:118: DeprecationWarning: distutils Version classes are deprecated. Use packaging.version instead.\n",
      "  sim_wo_ft=T.tempopulsar('sim_wt_pbd.par','iteration_sub.tim')\n"
     ]
    },
    {
     "name": "stdout",
     "output_type": "stream",
     "text": [
      "35 per 80\n"
     ]
    },
    {
     "name": "stderr",
     "output_type": "stream",
     "text": [
      "/tmp/ipykernel_61419/3737954191.py:118: DeprecationWarning: distutils Version classes are deprecated. Use packaging.version instead.\n",
      "  sim_wo_ft=T.tempopulsar('sim_wt_pbd.par','iteration_sub.tim')\n",
      "/tmp/ipykernel_61419/3737954191.py:118: DeprecationWarning: distutils Version classes are deprecated. Use packaging.version instead.\n",
      "  sim_wo_ft=T.tempopulsar('sim_wt_pbd.par','iteration_sub.tim')\n",
      "/tmp/ipykernel_61419/3737954191.py:118: DeprecationWarning: distutils Version classes are deprecated. Use packaging.version instead.\n",
      "  sim_wo_ft=T.tempopulsar('sim_wt_pbd.par','iteration_sub.tim')\n",
      "/tmp/ipykernel_61419/3737954191.py:118: DeprecationWarning: distutils Version classes are deprecated. Use packaging.version instead.\n",
      "  sim_wo_ft=T.tempopulsar('sim_wt_pbd.par','iteration_sub.tim')\n",
      "/tmp/ipykernel_61419/3737954191.py:118: DeprecationWarning: distutils Version classes are deprecated. Use packaging.version instead.\n",
      "  sim_wo_ft=T.tempopulsar('sim_wt_pbd.par','iteration_sub.tim')\n",
      "/tmp/ipykernel_61419/3737954191.py:118: DeprecationWarning: distutils Version classes are deprecated. Use packaging.version instead.\n",
      "  sim_wo_ft=T.tempopulsar('sim_wt_pbd.par','iteration_sub.tim')\n",
      "/tmp/ipykernel_61419/3737954191.py:118: DeprecationWarning: distutils Version classes are deprecated. Use packaging.version instead.\n",
      "  sim_wo_ft=T.tempopulsar('sim_wt_pbd.par','iteration_sub.tim')\n",
      "/tmp/ipykernel_61419/3737954191.py:118: DeprecationWarning: distutils Version classes are deprecated. Use packaging.version instead.\n",
      "  sim_wo_ft=T.tempopulsar('sim_wt_pbd.par','iteration_sub.tim')\n",
      "/tmp/ipykernel_61419/3737954191.py:118: DeprecationWarning: distutils Version classes are deprecated. Use packaging.version instead.\n",
      "  sim_wo_ft=T.tempopulsar('sim_wt_pbd.par','iteration_sub.tim')\n",
      "/tmp/ipykernel_61419/3737954191.py:118: DeprecationWarning: distutils Version classes are deprecated. Use packaging.version instead.\n",
      "  sim_wo_ft=T.tempopulsar('sim_wt_pbd.par','iteration_sub.tim')\n"
     ]
    },
    {
     "name": "stdout",
     "output_type": "stream",
     "text": [
      "36 per 80\n"
     ]
    },
    {
     "name": "stderr",
     "output_type": "stream",
     "text": [
      "/tmp/ipykernel_61419/3737954191.py:118: DeprecationWarning: distutils Version classes are deprecated. Use packaging.version instead.\n",
      "  sim_wo_ft=T.tempopulsar('sim_wt_pbd.par','iteration_sub.tim')\n",
      "/tmp/ipykernel_61419/3737954191.py:118: DeprecationWarning: distutils Version classes are deprecated. Use packaging.version instead.\n",
      "  sim_wo_ft=T.tempopulsar('sim_wt_pbd.par','iteration_sub.tim')\n",
      "/tmp/ipykernel_61419/3737954191.py:118: DeprecationWarning: distutils Version classes are deprecated. Use packaging.version instead.\n",
      "  sim_wo_ft=T.tempopulsar('sim_wt_pbd.par','iteration_sub.tim')\n",
      "/tmp/ipykernel_61419/3737954191.py:118: DeprecationWarning: distutils Version classes are deprecated. Use packaging.version instead.\n",
      "  sim_wo_ft=T.tempopulsar('sim_wt_pbd.par','iteration_sub.tim')\n",
      "/tmp/ipykernel_61419/3737954191.py:118: DeprecationWarning: distutils Version classes are deprecated. Use packaging.version instead.\n",
      "  sim_wo_ft=T.tempopulsar('sim_wt_pbd.par','iteration_sub.tim')\n",
      "/tmp/ipykernel_61419/3737954191.py:118: DeprecationWarning: distutils Version classes are deprecated. Use packaging.version instead.\n",
      "  sim_wo_ft=T.tempopulsar('sim_wt_pbd.par','iteration_sub.tim')\n",
      "/tmp/ipykernel_61419/3737954191.py:118: DeprecationWarning: distutils Version classes are deprecated. Use packaging.version instead.\n",
      "  sim_wo_ft=T.tempopulsar('sim_wt_pbd.par','iteration_sub.tim')\n",
      "/tmp/ipykernel_61419/3737954191.py:118: DeprecationWarning: distutils Version classes are deprecated. Use packaging.version instead.\n",
      "  sim_wo_ft=T.tempopulsar('sim_wt_pbd.par','iteration_sub.tim')\n",
      "/tmp/ipykernel_61419/3737954191.py:118: DeprecationWarning: distutils Version classes are deprecated. Use packaging.version instead.\n",
      "  sim_wo_ft=T.tempopulsar('sim_wt_pbd.par','iteration_sub.tim')\n",
      "/tmp/ipykernel_61419/3737954191.py:118: DeprecationWarning: distutils Version classes are deprecated. Use packaging.version instead.\n",
      "  sim_wo_ft=T.tempopulsar('sim_wt_pbd.par','iteration_sub.tim')\n"
     ]
    },
    {
     "name": "stdout",
     "output_type": "stream",
     "text": [
      "37 per 80\n"
     ]
    },
    {
     "name": "stderr",
     "output_type": "stream",
     "text": [
      "/tmp/ipykernel_61419/3737954191.py:118: DeprecationWarning: distutils Version classes are deprecated. Use packaging.version instead.\n",
      "  sim_wo_ft=T.tempopulsar('sim_wt_pbd.par','iteration_sub.tim')\n",
      "/tmp/ipykernel_61419/3737954191.py:118: DeprecationWarning: distutils Version classes are deprecated. Use packaging.version instead.\n",
      "  sim_wo_ft=T.tempopulsar('sim_wt_pbd.par','iteration_sub.tim')\n",
      "/tmp/ipykernel_61419/3737954191.py:118: DeprecationWarning: distutils Version classes are deprecated. Use packaging.version instead.\n",
      "  sim_wo_ft=T.tempopulsar('sim_wt_pbd.par','iteration_sub.tim')\n",
      "/tmp/ipykernel_61419/3737954191.py:118: DeprecationWarning: distutils Version classes are deprecated. Use packaging.version instead.\n",
      "  sim_wo_ft=T.tempopulsar('sim_wt_pbd.par','iteration_sub.tim')\n",
      "/tmp/ipykernel_61419/3737954191.py:118: DeprecationWarning: distutils Version classes are deprecated. Use packaging.version instead.\n",
      "  sim_wo_ft=T.tempopulsar('sim_wt_pbd.par','iteration_sub.tim')\n",
      "/tmp/ipykernel_61419/3737954191.py:118: DeprecationWarning: distutils Version classes are deprecated. Use packaging.version instead.\n",
      "  sim_wo_ft=T.tempopulsar('sim_wt_pbd.par','iteration_sub.tim')\n",
      "/tmp/ipykernel_61419/3737954191.py:118: DeprecationWarning: distutils Version classes are deprecated. Use packaging.version instead.\n",
      "  sim_wo_ft=T.tempopulsar('sim_wt_pbd.par','iteration_sub.tim')\n",
      "/tmp/ipykernel_61419/3737954191.py:118: DeprecationWarning: distutils Version classes are deprecated. Use packaging.version instead.\n",
      "  sim_wo_ft=T.tempopulsar('sim_wt_pbd.par','iteration_sub.tim')\n",
      "/tmp/ipykernel_61419/3737954191.py:118: DeprecationWarning: distutils Version classes are deprecated. Use packaging.version instead.\n",
      "  sim_wo_ft=T.tempopulsar('sim_wt_pbd.par','iteration_sub.tim')\n",
      "/tmp/ipykernel_61419/3737954191.py:118: DeprecationWarning: distutils Version classes are deprecated. Use packaging.version instead.\n",
      "  sim_wo_ft=T.tempopulsar('sim_wt_pbd.par','iteration_sub.tim')\n"
     ]
    },
    {
     "name": "stdout",
     "output_type": "stream",
     "text": [
      "38 per 80\n"
     ]
    },
    {
     "name": "stderr",
     "output_type": "stream",
     "text": [
      "/tmp/ipykernel_61419/3737954191.py:118: DeprecationWarning: distutils Version classes are deprecated. Use packaging.version instead.\n",
      "  sim_wo_ft=T.tempopulsar('sim_wt_pbd.par','iteration_sub.tim')\n",
      "/tmp/ipykernel_61419/3737954191.py:118: DeprecationWarning: distutils Version classes are deprecated. Use packaging.version instead.\n",
      "  sim_wo_ft=T.tempopulsar('sim_wt_pbd.par','iteration_sub.tim')\n",
      "/tmp/ipykernel_61419/3737954191.py:118: DeprecationWarning: distutils Version classes are deprecated. Use packaging.version instead.\n",
      "  sim_wo_ft=T.tempopulsar('sim_wt_pbd.par','iteration_sub.tim')\n",
      "/tmp/ipykernel_61419/3737954191.py:118: DeprecationWarning: distutils Version classes are deprecated. Use packaging.version instead.\n",
      "  sim_wo_ft=T.tempopulsar('sim_wt_pbd.par','iteration_sub.tim')\n",
      "/tmp/ipykernel_61419/3737954191.py:118: DeprecationWarning: distutils Version classes are deprecated. Use packaging.version instead.\n",
      "  sim_wo_ft=T.tempopulsar('sim_wt_pbd.par','iteration_sub.tim')\n",
      "/tmp/ipykernel_61419/3737954191.py:118: DeprecationWarning: distutils Version classes are deprecated. Use packaging.version instead.\n",
      "  sim_wo_ft=T.tempopulsar('sim_wt_pbd.par','iteration_sub.tim')\n",
      "/tmp/ipykernel_61419/3737954191.py:118: DeprecationWarning: distutils Version classes are deprecated. Use packaging.version instead.\n",
      "  sim_wo_ft=T.tempopulsar('sim_wt_pbd.par','iteration_sub.tim')\n",
      "/tmp/ipykernel_61419/3737954191.py:118: DeprecationWarning: distutils Version classes are deprecated. Use packaging.version instead.\n",
      "  sim_wo_ft=T.tempopulsar('sim_wt_pbd.par','iteration_sub.tim')\n",
      "/tmp/ipykernel_61419/3737954191.py:118: DeprecationWarning: distutils Version classes are deprecated. Use packaging.version instead.\n",
      "  sim_wo_ft=T.tempopulsar('sim_wt_pbd.par','iteration_sub.tim')\n",
      "/tmp/ipykernel_61419/3737954191.py:118: DeprecationWarning: distutils Version classes are deprecated. Use packaging.version instead.\n",
      "  sim_wo_ft=T.tempopulsar('sim_wt_pbd.par','iteration_sub.tim')\n"
     ]
    },
    {
     "name": "stdout",
     "output_type": "stream",
     "text": [
      "39 per 80\n"
     ]
    },
    {
     "name": "stderr",
     "output_type": "stream",
     "text": [
      "/tmp/ipykernel_61419/3737954191.py:118: DeprecationWarning: distutils Version classes are deprecated. Use packaging.version instead.\n",
      "  sim_wo_ft=T.tempopulsar('sim_wt_pbd.par','iteration_sub.tim')\n",
      "/tmp/ipykernel_61419/3737954191.py:118: DeprecationWarning: distutils Version classes are deprecated. Use packaging.version instead.\n",
      "  sim_wo_ft=T.tempopulsar('sim_wt_pbd.par','iteration_sub.tim')\n",
      "/tmp/ipykernel_61419/3737954191.py:118: DeprecationWarning: distutils Version classes are deprecated. Use packaging.version instead.\n",
      "  sim_wo_ft=T.tempopulsar('sim_wt_pbd.par','iteration_sub.tim')\n",
      "/tmp/ipykernel_61419/3737954191.py:118: DeprecationWarning: distutils Version classes are deprecated. Use packaging.version instead.\n",
      "  sim_wo_ft=T.tempopulsar('sim_wt_pbd.par','iteration_sub.tim')\n",
      "/tmp/ipykernel_61419/3737954191.py:118: DeprecationWarning: distutils Version classes are deprecated. Use packaging.version instead.\n",
      "  sim_wo_ft=T.tempopulsar('sim_wt_pbd.par','iteration_sub.tim')\n",
      "/tmp/ipykernel_61419/3737954191.py:118: DeprecationWarning: distutils Version classes are deprecated. Use packaging.version instead.\n",
      "  sim_wo_ft=T.tempopulsar('sim_wt_pbd.par','iteration_sub.tim')\n",
      "/tmp/ipykernel_61419/3737954191.py:118: DeprecationWarning: distutils Version classes are deprecated. Use packaging.version instead.\n",
      "  sim_wo_ft=T.tempopulsar('sim_wt_pbd.par','iteration_sub.tim')\n",
      "/tmp/ipykernel_61419/3737954191.py:118: DeprecationWarning: distutils Version classes are deprecated. Use packaging.version instead.\n",
      "  sim_wo_ft=T.tempopulsar('sim_wt_pbd.par','iteration_sub.tim')\n",
      "/tmp/ipykernel_61419/3737954191.py:118: DeprecationWarning: distutils Version classes are deprecated. Use packaging.version instead.\n",
      "  sim_wo_ft=T.tempopulsar('sim_wt_pbd.par','iteration_sub.tim')\n",
      "/tmp/ipykernel_61419/3737954191.py:118: DeprecationWarning: distutils Version classes are deprecated. Use packaging.version instead.\n",
      "  sim_wo_ft=T.tempopulsar('sim_wt_pbd.par','iteration_sub.tim')\n"
     ]
    },
    {
     "name": "stdout",
     "output_type": "stream",
     "text": [
      "40 per 80\n"
     ]
    },
    {
     "name": "stderr",
     "output_type": "stream",
     "text": [
      "/tmp/ipykernel_61419/3737954191.py:118: DeprecationWarning: distutils Version classes are deprecated. Use packaging.version instead.\n",
      "  sim_wo_ft=T.tempopulsar('sim_wt_pbd.par','iteration_sub.tim')\n",
      "/tmp/ipykernel_61419/3737954191.py:118: DeprecationWarning: distutils Version classes are deprecated. Use packaging.version instead.\n",
      "  sim_wo_ft=T.tempopulsar('sim_wt_pbd.par','iteration_sub.tim')\n",
      "/tmp/ipykernel_61419/3737954191.py:118: DeprecationWarning: distutils Version classes are deprecated. Use packaging.version instead.\n",
      "  sim_wo_ft=T.tempopulsar('sim_wt_pbd.par','iteration_sub.tim')\n",
      "/tmp/ipykernel_61419/3737954191.py:118: DeprecationWarning: distutils Version classes are deprecated. Use packaging.version instead.\n",
      "  sim_wo_ft=T.tempopulsar('sim_wt_pbd.par','iteration_sub.tim')\n",
      "/tmp/ipykernel_61419/3737954191.py:118: DeprecationWarning: distutils Version classes are deprecated. Use packaging.version instead.\n",
      "  sim_wo_ft=T.tempopulsar('sim_wt_pbd.par','iteration_sub.tim')\n",
      "/tmp/ipykernel_61419/3737954191.py:118: DeprecationWarning: distutils Version classes are deprecated. Use packaging.version instead.\n",
      "  sim_wo_ft=T.tempopulsar('sim_wt_pbd.par','iteration_sub.tim')\n",
      "/tmp/ipykernel_61419/3737954191.py:118: DeprecationWarning: distutils Version classes are deprecated. Use packaging.version instead.\n",
      "  sim_wo_ft=T.tempopulsar('sim_wt_pbd.par','iteration_sub.tim')\n",
      "/tmp/ipykernel_61419/3737954191.py:118: DeprecationWarning: distutils Version classes are deprecated. Use packaging.version instead.\n",
      "  sim_wo_ft=T.tempopulsar('sim_wt_pbd.par','iteration_sub.tim')\n",
      "/tmp/ipykernel_61419/3737954191.py:118: DeprecationWarning: distutils Version classes are deprecated. Use packaging.version instead.\n",
      "  sim_wo_ft=T.tempopulsar('sim_wt_pbd.par','iteration_sub.tim')\n",
      "/tmp/ipykernel_61419/3737954191.py:118: DeprecationWarning: distutils Version classes are deprecated. Use packaging.version instead.\n",
      "  sim_wo_ft=T.tempopulsar('sim_wt_pbd.par','iteration_sub.tim')\n"
     ]
    },
    {
     "name": "stdout",
     "output_type": "stream",
     "text": [
      "41 per 80\n"
     ]
    },
    {
     "name": "stderr",
     "output_type": "stream",
     "text": [
      "/tmp/ipykernel_61419/3737954191.py:118: DeprecationWarning: distutils Version classes are deprecated. Use packaging.version instead.\n",
      "  sim_wo_ft=T.tempopulsar('sim_wt_pbd.par','iteration_sub.tim')\n",
      "/tmp/ipykernel_61419/3737954191.py:118: DeprecationWarning: distutils Version classes are deprecated. Use packaging.version instead.\n",
      "  sim_wo_ft=T.tempopulsar('sim_wt_pbd.par','iteration_sub.tim')\n",
      "/tmp/ipykernel_61419/3737954191.py:118: DeprecationWarning: distutils Version classes are deprecated. Use packaging.version instead.\n",
      "  sim_wo_ft=T.tempopulsar('sim_wt_pbd.par','iteration_sub.tim')\n",
      "/tmp/ipykernel_61419/3737954191.py:118: DeprecationWarning: distutils Version classes are deprecated. Use packaging.version instead.\n",
      "  sim_wo_ft=T.tempopulsar('sim_wt_pbd.par','iteration_sub.tim')\n",
      "/tmp/ipykernel_61419/3737954191.py:118: DeprecationWarning: distutils Version classes are deprecated. Use packaging.version instead.\n",
      "  sim_wo_ft=T.tempopulsar('sim_wt_pbd.par','iteration_sub.tim')\n",
      "/tmp/ipykernel_61419/3737954191.py:118: DeprecationWarning: distutils Version classes are deprecated. Use packaging.version instead.\n",
      "  sim_wo_ft=T.tempopulsar('sim_wt_pbd.par','iteration_sub.tim')\n",
      "/tmp/ipykernel_61419/3737954191.py:118: DeprecationWarning: distutils Version classes are deprecated. Use packaging.version instead.\n",
      "  sim_wo_ft=T.tempopulsar('sim_wt_pbd.par','iteration_sub.tim')\n",
      "/tmp/ipykernel_61419/3737954191.py:118: DeprecationWarning: distutils Version classes are deprecated. Use packaging.version instead.\n",
      "  sim_wo_ft=T.tempopulsar('sim_wt_pbd.par','iteration_sub.tim')\n",
      "/tmp/ipykernel_61419/3737954191.py:118: DeprecationWarning: distutils Version classes are deprecated. Use packaging.version instead.\n",
      "  sim_wo_ft=T.tempopulsar('sim_wt_pbd.par','iteration_sub.tim')\n",
      "/tmp/ipykernel_61419/3737954191.py:118: DeprecationWarning: distutils Version classes are deprecated. Use packaging.version instead.\n",
      "  sim_wo_ft=T.tempopulsar('sim_wt_pbd.par','iteration_sub.tim')\n"
     ]
    },
    {
     "name": "stdout",
     "output_type": "stream",
     "text": [
      "42 per 80\n"
     ]
    },
    {
     "name": "stderr",
     "output_type": "stream",
     "text": [
      "/tmp/ipykernel_61419/3737954191.py:118: DeprecationWarning: distutils Version classes are deprecated. Use packaging.version instead.\n",
      "  sim_wo_ft=T.tempopulsar('sim_wt_pbd.par','iteration_sub.tim')\n",
      "/tmp/ipykernel_61419/3737954191.py:118: DeprecationWarning: distutils Version classes are deprecated. Use packaging.version instead.\n",
      "  sim_wo_ft=T.tempopulsar('sim_wt_pbd.par','iteration_sub.tim')\n",
      "/tmp/ipykernel_61419/3737954191.py:118: DeprecationWarning: distutils Version classes are deprecated. Use packaging.version instead.\n",
      "  sim_wo_ft=T.tempopulsar('sim_wt_pbd.par','iteration_sub.tim')\n",
      "/tmp/ipykernel_61419/3737954191.py:118: DeprecationWarning: distutils Version classes are deprecated. Use packaging.version instead.\n",
      "  sim_wo_ft=T.tempopulsar('sim_wt_pbd.par','iteration_sub.tim')\n",
      "/tmp/ipykernel_61419/3737954191.py:118: DeprecationWarning: distutils Version classes are deprecated. Use packaging.version instead.\n",
      "  sim_wo_ft=T.tempopulsar('sim_wt_pbd.par','iteration_sub.tim')\n",
      "/tmp/ipykernel_61419/3737954191.py:118: DeprecationWarning: distutils Version classes are deprecated. Use packaging.version instead.\n",
      "  sim_wo_ft=T.tempopulsar('sim_wt_pbd.par','iteration_sub.tim')\n",
      "/tmp/ipykernel_61419/3737954191.py:118: DeprecationWarning: distutils Version classes are deprecated. Use packaging.version instead.\n",
      "  sim_wo_ft=T.tempopulsar('sim_wt_pbd.par','iteration_sub.tim')\n",
      "/tmp/ipykernel_61419/3737954191.py:118: DeprecationWarning: distutils Version classes are deprecated. Use packaging.version instead.\n",
      "  sim_wo_ft=T.tempopulsar('sim_wt_pbd.par','iteration_sub.tim')\n",
      "/tmp/ipykernel_61419/3737954191.py:118: DeprecationWarning: distutils Version classes are deprecated. Use packaging.version instead.\n",
      "  sim_wo_ft=T.tempopulsar('sim_wt_pbd.par','iteration_sub.tim')\n",
      "/tmp/ipykernel_61419/3737954191.py:118: DeprecationWarning: distutils Version classes are deprecated. Use packaging.version instead.\n",
      "  sim_wo_ft=T.tempopulsar('sim_wt_pbd.par','iteration_sub.tim')\n"
     ]
    },
    {
     "name": "stdout",
     "output_type": "stream",
     "text": [
      "43 per 80\n"
     ]
    },
    {
     "name": "stderr",
     "output_type": "stream",
     "text": [
      "/tmp/ipykernel_61419/3737954191.py:118: DeprecationWarning: distutils Version classes are deprecated. Use packaging.version instead.\n",
      "  sim_wo_ft=T.tempopulsar('sim_wt_pbd.par','iteration_sub.tim')\n",
      "/tmp/ipykernel_61419/3737954191.py:118: DeprecationWarning: distutils Version classes are deprecated. Use packaging.version instead.\n",
      "  sim_wo_ft=T.tempopulsar('sim_wt_pbd.par','iteration_sub.tim')\n",
      "/tmp/ipykernel_61419/3737954191.py:118: DeprecationWarning: distutils Version classes are deprecated. Use packaging.version instead.\n",
      "  sim_wo_ft=T.tempopulsar('sim_wt_pbd.par','iteration_sub.tim')\n",
      "/tmp/ipykernel_61419/3737954191.py:118: DeprecationWarning: distutils Version classes are deprecated. Use packaging.version instead.\n",
      "  sim_wo_ft=T.tempopulsar('sim_wt_pbd.par','iteration_sub.tim')\n",
      "/tmp/ipykernel_61419/3737954191.py:118: DeprecationWarning: distutils Version classes are deprecated. Use packaging.version instead.\n",
      "  sim_wo_ft=T.tempopulsar('sim_wt_pbd.par','iteration_sub.tim')\n",
      "/tmp/ipykernel_61419/3737954191.py:118: DeprecationWarning: distutils Version classes are deprecated. Use packaging.version instead.\n",
      "  sim_wo_ft=T.tempopulsar('sim_wt_pbd.par','iteration_sub.tim')\n",
      "/tmp/ipykernel_61419/3737954191.py:118: DeprecationWarning: distutils Version classes are deprecated. Use packaging.version instead.\n",
      "  sim_wo_ft=T.tempopulsar('sim_wt_pbd.par','iteration_sub.tim')\n",
      "/tmp/ipykernel_61419/3737954191.py:118: DeprecationWarning: distutils Version classes are deprecated. Use packaging.version instead.\n",
      "  sim_wo_ft=T.tempopulsar('sim_wt_pbd.par','iteration_sub.tim')\n",
      "/tmp/ipykernel_61419/3737954191.py:118: DeprecationWarning: distutils Version classes are deprecated. Use packaging.version instead.\n",
      "  sim_wo_ft=T.tempopulsar('sim_wt_pbd.par','iteration_sub.tim')\n",
      "/tmp/ipykernel_61419/3737954191.py:118: DeprecationWarning: distutils Version classes are deprecated. Use packaging.version instead.\n",
      "  sim_wo_ft=T.tempopulsar('sim_wt_pbd.par','iteration_sub.tim')\n"
     ]
    },
    {
     "name": "stdout",
     "output_type": "stream",
     "text": [
      "44 per 80\n"
     ]
    },
    {
     "name": "stderr",
     "output_type": "stream",
     "text": [
      "/tmp/ipykernel_61419/3737954191.py:118: DeprecationWarning: distutils Version classes are deprecated. Use packaging.version instead.\n",
      "  sim_wo_ft=T.tempopulsar('sim_wt_pbd.par','iteration_sub.tim')\n",
      "/tmp/ipykernel_61419/3737954191.py:118: DeprecationWarning: distutils Version classes are deprecated. Use packaging.version instead.\n",
      "  sim_wo_ft=T.tempopulsar('sim_wt_pbd.par','iteration_sub.tim')\n",
      "/tmp/ipykernel_61419/3737954191.py:118: DeprecationWarning: distutils Version classes are deprecated. Use packaging.version instead.\n",
      "  sim_wo_ft=T.tempopulsar('sim_wt_pbd.par','iteration_sub.tim')\n",
      "/tmp/ipykernel_61419/3737954191.py:118: DeprecationWarning: distutils Version classes are deprecated. Use packaging.version instead.\n",
      "  sim_wo_ft=T.tempopulsar('sim_wt_pbd.par','iteration_sub.tim')\n",
      "/tmp/ipykernel_61419/3737954191.py:118: DeprecationWarning: distutils Version classes are deprecated. Use packaging.version instead.\n",
      "  sim_wo_ft=T.tempopulsar('sim_wt_pbd.par','iteration_sub.tim')\n",
      "/tmp/ipykernel_61419/3737954191.py:118: DeprecationWarning: distutils Version classes are deprecated. Use packaging.version instead.\n",
      "  sim_wo_ft=T.tempopulsar('sim_wt_pbd.par','iteration_sub.tim')\n",
      "/tmp/ipykernel_61419/3737954191.py:118: DeprecationWarning: distutils Version classes are deprecated. Use packaging.version instead.\n",
      "  sim_wo_ft=T.tempopulsar('sim_wt_pbd.par','iteration_sub.tim')\n",
      "/tmp/ipykernel_61419/3737954191.py:118: DeprecationWarning: distutils Version classes are deprecated. Use packaging.version instead.\n",
      "  sim_wo_ft=T.tempopulsar('sim_wt_pbd.par','iteration_sub.tim')\n",
      "/tmp/ipykernel_61419/3737954191.py:118: DeprecationWarning: distutils Version classes are deprecated. Use packaging.version instead.\n",
      "  sim_wo_ft=T.tempopulsar('sim_wt_pbd.par','iteration_sub.tim')\n",
      "/tmp/ipykernel_61419/3737954191.py:118: DeprecationWarning: distutils Version classes are deprecated. Use packaging.version instead.\n",
      "  sim_wo_ft=T.tempopulsar('sim_wt_pbd.par','iteration_sub.tim')\n"
     ]
    },
    {
     "name": "stdout",
     "output_type": "stream",
     "text": [
      "45 per 80\n"
     ]
    },
    {
     "name": "stderr",
     "output_type": "stream",
     "text": [
      "/tmp/ipykernel_61419/3737954191.py:118: DeprecationWarning: distutils Version classes are deprecated. Use packaging.version instead.\n",
      "  sim_wo_ft=T.tempopulsar('sim_wt_pbd.par','iteration_sub.tim')\n",
      "/tmp/ipykernel_61419/3737954191.py:118: DeprecationWarning: distutils Version classes are deprecated. Use packaging.version instead.\n",
      "  sim_wo_ft=T.tempopulsar('sim_wt_pbd.par','iteration_sub.tim')\n",
      "/tmp/ipykernel_61419/3737954191.py:118: DeprecationWarning: distutils Version classes are deprecated. Use packaging.version instead.\n",
      "  sim_wo_ft=T.tempopulsar('sim_wt_pbd.par','iteration_sub.tim')\n",
      "/tmp/ipykernel_61419/3737954191.py:118: DeprecationWarning: distutils Version classes are deprecated. Use packaging.version instead.\n",
      "  sim_wo_ft=T.tempopulsar('sim_wt_pbd.par','iteration_sub.tim')\n",
      "/tmp/ipykernel_61419/3737954191.py:118: DeprecationWarning: distutils Version classes are deprecated. Use packaging.version instead.\n",
      "  sim_wo_ft=T.tempopulsar('sim_wt_pbd.par','iteration_sub.tim')\n",
      "/tmp/ipykernel_61419/3737954191.py:118: DeprecationWarning: distutils Version classes are deprecated. Use packaging.version instead.\n",
      "  sim_wo_ft=T.tempopulsar('sim_wt_pbd.par','iteration_sub.tim')\n",
      "/tmp/ipykernel_61419/3737954191.py:118: DeprecationWarning: distutils Version classes are deprecated. Use packaging.version instead.\n",
      "  sim_wo_ft=T.tempopulsar('sim_wt_pbd.par','iteration_sub.tim')\n",
      "/tmp/ipykernel_61419/3737954191.py:118: DeprecationWarning: distutils Version classes are deprecated. Use packaging.version instead.\n",
      "  sim_wo_ft=T.tempopulsar('sim_wt_pbd.par','iteration_sub.tim')\n",
      "/tmp/ipykernel_61419/3737954191.py:118: DeprecationWarning: distutils Version classes are deprecated. Use packaging.version instead.\n",
      "  sim_wo_ft=T.tempopulsar('sim_wt_pbd.par','iteration_sub.tim')\n",
      "/tmp/ipykernel_61419/3737954191.py:118: DeprecationWarning: distutils Version classes are deprecated. Use packaging.version instead.\n",
      "  sim_wo_ft=T.tempopulsar('sim_wt_pbd.par','iteration_sub.tim')\n"
     ]
    },
    {
     "name": "stdout",
     "output_type": "stream",
     "text": [
      "46 per 80\n"
     ]
    },
    {
     "name": "stderr",
     "output_type": "stream",
     "text": [
      "/tmp/ipykernel_61419/3737954191.py:118: DeprecationWarning: distutils Version classes are deprecated. Use packaging.version instead.\n",
      "  sim_wo_ft=T.tempopulsar('sim_wt_pbd.par','iteration_sub.tim')\n",
      "/tmp/ipykernel_61419/3737954191.py:118: DeprecationWarning: distutils Version classes are deprecated. Use packaging.version instead.\n",
      "  sim_wo_ft=T.tempopulsar('sim_wt_pbd.par','iteration_sub.tim')\n",
      "/tmp/ipykernel_61419/3737954191.py:118: DeprecationWarning: distutils Version classes are deprecated. Use packaging.version instead.\n",
      "  sim_wo_ft=T.tempopulsar('sim_wt_pbd.par','iteration_sub.tim')\n",
      "/tmp/ipykernel_61419/3737954191.py:118: DeprecationWarning: distutils Version classes are deprecated. Use packaging.version instead.\n",
      "  sim_wo_ft=T.tempopulsar('sim_wt_pbd.par','iteration_sub.tim')\n",
      "/tmp/ipykernel_61419/3737954191.py:118: DeprecationWarning: distutils Version classes are deprecated. Use packaging.version instead.\n",
      "  sim_wo_ft=T.tempopulsar('sim_wt_pbd.par','iteration_sub.tim')\n",
      "/tmp/ipykernel_61419/3737954191.py:118: DeprecationWarning: distutils Version classes are deprecated. Use packaging.version instead.\n",
      "  sim_wo_ft=T.tempopulsar('sim_wt_pbd.par','iteration_sub.tim')\n",
      "/tmp/ipykernel_61419/3737954191.py:118: DeprecationWarning: distutils Version classes are deprecated. Use packaging.version instead.\n",
      "  sim_wo_ft=T.tempopulsar('sim_wt_pbd.par','iteration_sub.tim')\n",
      "/tmp/ipykernel_61419/3737954191.py:118: DeprecationWarning: distutils Version classes are deprecated. Use packaging.version instead.\n",
      "  sim_wo_ft=T.tempopulsar('sim_wt_pbd.par','iteration_sub.tim')\n",
      "/tmp/ipykernel_61419/3737954191.py:118: DeprecationWarning: distutils Version classes are deprecated. Use packaging.version instead.\n",
      "  sim_wo_ft=T.tempopulsar('sim_wt_pbd.par','iteration_sub.tim')\n",
      "/tmp/ipykernel_61419/3737954191.py:118: DeprecationWarning: distutils Version classes are deprecated. Use packaging.version instead.\n",
      "  sim_wo_ft=T.tempopulsar('sim_wt_pbd.par','iteration_sub.tim')\n"
     ]
    },
    {
     "name": "stdout",
     "output_type": "stream",
     "text": [
      "47 per 80\n"
     ]
    },
    {
     "name": "stderr",
     "output_type": "stream",
     "text": [
      "/tmp/ipykernel_61419/3737954191.py:118: DeprecationWarning: distutils Version classes are deprecated. Use packaging.version instead.\n",
      "  sim_wo_ft=T.tempopulsar('sim_wt_pbd.par','iteration_sub.tim')\n",
      "/tmp/ipykernel_61419/3737954191.py:118: DeprecationWarning: distutils Version classes are deprecated. Use packaging.version instead.\n",
      "  sim_wo_ft=T.tempopulsar('sim_wt_pbd.par','iteration_sub.tim')\n",
      "/tmp/ipykernel_61419/3737954191.py:118: DeprecationWarning: distutils Version classes are deprecated. Use packaging.version instead.\n",
      "  sim_wo_ft=T.tempopulsar('sim_wt_pbd.par','iteration_sub.tim')\n",
      "/tmp/ipykernel_61419/3737954191.py:118: DeprecationWarning: distutils Version classes are deprecated. Use packaging.version instead.\n",
      "  sim_wo_ft=T.tempopulsar('sim_wt_pbd.par','iteration_sub.tim')\n",
      "/tmp/ipykernel_61419/3737954191.py:118: DeprecationWarning: distutils Version classes are deprecated. Use packaging.version instead.\n",
      "  sim_wo_ft=T.tempopulsar('sim_wt_pbd.par','iteration_sub.tim')\n",
      "/tmp/ipykernel_61419/3737954191.py:118: DeprecationWarning: distutils Version classes are deprecated. Use packaging.version instead.\n",
      "  sim_wo_ft=T.tempopulsar('sim_wt_pbd.par','iteration_sub.tim')\n",
      "/tmp/ipykernel_61419/3737954191.py:118: DeprecationWarning: distutils Version classes are deprecated. Use packaging.version instead.\n",
      "  sim_wo_ft=T.tempopulsar('sim_wt_pbd.par','iteration_sub.tim')\n",
      "/tmp/ipykernel_61419/3737954191.py:118: DeprecationWarning: distutils Version classes are deprecated. Use packaging.version instead.\n",
      "  sim_wo_ft=T.tempopulsar('sim_wt_pbd.par','iteration_sub.tim')\n",
      "/tmp/ipykernel_61419/3737954191.py:118: DeprecationWarning: distutils Version classes are deprecated. Use packaging.version instead.\n",
      "  sim_wo_ft=T.tempopulsar('sim_wt_pbd.par','iteration_sub.tim')\n",
      "/tmp/ipykernel_61419/3737954191.py:118: DeprecationWarning: distutils Version classes are deprecated. Use packaging.version instead.\n",
      "  sim_wo_ft=T.tempopulsar('sim_wt_pbd.par','iteration_sub.tim')\n"
     ]
    },
    {
     "name": "stdout",
     "output_type": "stream",
     "text": [
      "48 per 80\n"
     ]
    },
    {
     "name": "stderr",
     "output_type": "stream",
     "text": [
      "/tmp/ipykernel_61419/3737954191.py:118: DeprecationWarning: distutils Version classes are deprecated. Use packaging.version instead.\n",
      "  sim_wo_ft=T.tempopulsar('sim_wt_pbd.par','iteration_sub.tim')\n",
      "/tmp/ipykernel_61419/3737954191.py:118: DeprecationWarning: distutils Version classes are deprecated. Use packaging.version instead.\n",
      "  sim_wo_ft=T.tempopulsar('sim_wt_pbd.par','iteration_sub.tim')\n",
      "/tmp/ipykernel_61419/3737954191.py:118: DeprecationWarning: distutils Version classes are deprecated. Use packaging.version instead.\n",
      "  sim_wo_ft=T.tempopulsar('sim_wt_pbd.par','iteration_sub.tim')\n",
      "/tmp/ipykernel_61419/3737954191.py:118: DeprecationWarning: distutils Version classes are deprecated. Use packaging.version instead.\n",
      "  sim_wo_ft=T.tempopulsar('sim_wt_pbd.par','iteration_sub.tim')\n",
      "/tmp/ipykernel_61419/3737954191.py:118: DeprecationWarning: distutils Version classes are deprecated. Use packaging.version instead.\n",
      "  sim_wo_ft=T.tempopulsar('sim_wt_pbd.par','iteration_sub.tim')\n",
      "/tmp/ipykernel_61419/3737954191.py:118: DeprecationWarning: distutils Version classes are deprecated. Use packaging.version instead.\n",
      "  sim_wo_ft=T.tempopulsar('sim_wt_pbd.par','iteration_sub.tim')\n",
      "/tmp/ipykernel_61419/3737954191.py:118: DeprecationWarning: distutils Version classes are deprecated. Use packaging.version instead.\n",
      "  sim_wo_ft=T.tempopulsar('sim_wt_pbd.par','iteration_sub.tim')\n",
      "/tmp/ipykernel_61419/3737954191.py:118: DeprecationWarning: distutils Version classes are deprecated. Use packaging.version instead.\n",
      "  sim_wo_ft=T.tempopulsar('sim_wt_pbd.par','iteration_sub.tim')\n",
      "/tmp/ipykernel_61419/3737954191.py:118: DeprecationWarning: distutils Version classes are deprecated. Use packaging.version instead.\n",
      "  sim_wo_ft=T.tempopulsar('sim_wt_pbd.par','iteration_sub.tim')\n",
      "/tmp/ipykernel_61419/3737954191.py:118: DeprecationWarning: distutils Version classes are deprecated. Use packaging.version instead.\n",
      "  sim_wo_ft=T.tempopulsar('sim_wt_pbd.par','iteration_sub.tim')\n"
     ]
    },
    {
     "name": "stdout",
     "output_type": "stream",
     "text": [
      "49 per 80\n"
     ]
    },
    {
     "name": "stderr",
     "output_type": "stream",
     "text": [
      "/tmp/ipykernel_61419/3737954191.py:118: DeprecationWarning: distutils Version classes are deprecated. Use packaging.version instead.\n",
      "  sim_wo_ft=T.tempopulsar('sim_wt_pbd.par','iteration_sub.tim')\n",
      "/tmp/ipykernel_61419/3737954191.py:118: DeprecationWarning: distutils Version classes are deprecated. Use packaging.version instead.\n",
      "  sim_wo_ft=T.tempopulsar('sim_wt_pbd.par','iteration_sub.tim')\n",
      "/tmp/ipykernel_61419/3737954191.py:118: DeprecationWarning: distutils Version classes are deprecated. Use packaging.version instead.\n",
      "  sim_wo_ft=T.tempopulsar('sim_wt_pbd.par','iteration_sub.tim')\n",
      "/tmp/ipykernel_61419/3737954191.py:118: DeprecationWarning: distutils Version classes are deprecated. Use packaging.version instead.\n",
      "  sim_wo_ft=T.tempopulsar('sim_wt_pbd.par','iteration_sub.tim')\n",
      "/tmp/ipykernel_61419/3737954191.py:118: DeprecationWarning: distutils Version classes are deprecated. Use packaging.version instead.\n",
      "  sim_wo_ft=T.tempopulsar('sim_wt_pbd.par','iteration_sub.tim')\n",
      "/tmp/ipykernel_61419/3737954191.py:118: DeprecationWarning: distutils Version classes are deprecated. Use packaging.version instead.\n",
      "  sim_wo_ft=T.tempopulsar('sim_wt_pbd.par','iteration_sub.tim')\n",
      "/tmp/ipykernel_61419/3737954191.py:118: DeprecationWarning: distutils Version classes are deprecated. Use packaging.version instead.\n",
      "  sim_wo_ft=T.tempopulsar('sim_wt_pbd.par','iteration_sub.tim')\n",
      "/tmp/ipykernel_61419/3737954191.py:118: DeprecationWarning: distutils Version classes are deprecated. Use packaging.version instead.\n",
      "  sim_wo_ft=T.tempopulsar('sim_wt_pbd.par','iteration_sub.tim')\n",
      "/tmp/ipykernel_61419/3737954191.py:118: DeprecationWarning: distutils Version classes are deprecated. Use packaging.version instead.\n",
      "  sim_wo_ft=T.tempopulsar('sim_wt_pbd.par','iteration_sub.tim')\n",
      "/tmp/ipykernel_61419/3737954191.py:118: DeprecationWarning: distutils Version classes are deprecated. Use packaging.version instead.\n",
      "  sim_wo_ft=T.tempopulsar('sim_wt_pbd.par','iteration_sub.tim')\n"
     ]
    },
    {
     "name": "stdout",
     "output_type": "stream",
     "text": [
      "50 per 80\n"
     ]
    },
    {
     "name": "stderr",
     "output_type": "stream",
     "text": [
      "/tmp/ipykernel_61419/3737954191.py:118: DeprecationWarning: distutils Version classes are deprecated. Use packaging.version instead.\n",
      "  sim_wo_ft=T.tempopulsar('sim_wt_pbd.par','iteration_sub.tim')\n",
      "/tmp/ipykernel_61419/3737954191.py:118: DeprecationWarning: distutils Version classes are deprecated. Use packaging.version instead.\n",
      "  sim_wo_ft=T.tempopulsar('sim_wt_pbd.par','iteration_sub.tim')\n",
      "/tmp/ipykernel_61419/3737954191.py:118: DeprecationWarning: distutils Version classes are deprecated. Use packaging.version instead.\n",
      "  sim_wo_ft=T.tempopulsar('sim_wt_pbd.par','iteration_sub.tim')\n",
      "/tmp/ipykernel_61419/3737954191.py:118: DeprecationWarning: distutils Version classes are deprecated. Use packaging.version instead.\n",
      "  sim_wo_ft=T.tempopulsar('sim_wt_pbd.par','iteration_sub.tim')\n",
      "/tmp/ipykernel_61419/3737954191.py:118: DeprecationWarning: distutils Version classes are deprecated. Use packaging.version instead.\n",
      "  sim_wo_ft=T.tempopulsar('sim_wt_pbd.par','iteration_sub.tim')\n",
      "/tmp/ipykernel_61419/3737954191.py:118: DeprecationWarning: distutils Version classes are deprecated. Use packaging.version instead.\n",
      "  sim_wo_ft=T.tempopulsar('sim_wt_pbd.par','iteration_sub.tim')\n",
      "/tmp/ipykernel_61419/3737954191.py:118: DeprecationWarning: distutils Version classes are deprecated. Use packaging.version instead.\n",
      "  sim_wo_ft=T.tempopulsar('sim_wt_pbd.par','iteration_sub.tim')\n",
      "/tmp/ipykernel_61419/3737954191.py:118: DeprecationWarning: distutils Version classes are deprecated. Use packaging.version instead.\n",
      "  sim_wo_ft=T.tempopulsar('sim_wt_pbd.par','iteration_sub.tim')\n",
      "/tmp/ipykernel_61419/3737954191.py:118: DeprecationWarning: distutils Version classes are deprecated. Use packaging.version instead.\n",
      "  sim_wo_ft=T.tempopulsar('sim_wt_pbd.par','iteration_sub.tim')\n",
      "/tmp/ipykernel_61419/3737954191.py:118: DeprecationWarning: distutils Version classes are deprecated. Use packaging.version instead.\n",
      "  sim_wo_ft=T.tempopulsar('sim_wt_pbd.par','iteration_sub.tim')\n"
     ]
    },
    {
     "name": "stdout",
     "output_type": "stream",
     "text": [
      "51 per 80\n"
     ]
    },
    {
     "name": "stderr",
     "output_type": "stream",
     "text": [
      "/tmp/ipykernel_61419/3737954191.py:118: DeprecationWarning: distutils Version classes are deprecated. Use packaging.version instead.\n",
      "  sim_wo_ft=T.tempopulsar('sim_wt_pbd.par','iteration_sub.tim')\n",
      "/tmp/ipykernel_61419/3737954191.py:118: DeprecationWarning: distutils Version classes are deprecated. Use packaging.version instead.\n",
      "  sim_wo_ft=T.tempopulsar('sim_wt_pbd.par','iteration_sub.tim')\n",
      "/tmp/ipykernel_61419/3737954191.py:118: DeprecationWarning: distutils Version classes are deprecated. Use packaging.version instead.\n",
      "  sim_wo_ft=T.tempopulsar('sim_wt_pbd.par','iteration_sub.tim')\n",
      "/tmp/ipykernel_61419/3737954191.py:118: DeprecationWarning: distutils Version classes are deprecated. Use packaging.version instead.\n",
      "  sim_wo_ft=T.tempopulsar('sim_wt_pbd.par','iteration_sub.tim')\n",
      "/tmp/ipykernel_61419/3737954191.py:118: DeprecationWarning: distutils Version classes are deprecated. Use packaging.version instead.\n",
      "  sim_wo_ft=T.tempopulsar('sim_wt_pbd.par','iteration_sub.tim')\n",
      "/tmp/ipykernel_61419/3737954191.py:118: DeprecationWarning: distutils Version classes are deprecated. Use packaging.version instead.\n",
      "  sim_wo_ft=T.tempopulsar('sim_wt_pbd.par','iteration_sub.tim')\n",
      "/tmp/ipykernel_61419/3737954191.py:118: DeprecationWarning: distutils Version classes are deprecated. Use packaging.version instead.\n",
      "  sim_wo_ft=T.tempopulsar('sim_wt_pbd.par','iteration_sub.tim')\n",
      "/tmp/ipykernel_61419/3737954191.py:118: DeprecationWarning: distutils Version classes are deprecated. Use packaging.version instead.\n",
      "  sim_wo_ft=T.tempopulsar('sim_wt_pbd.par','iteration_sub.tim')\n",
      "/tmp/ipykernel_61419/3737954191.py:118: DeprecationWarning: distutils Version classes are deprecated. Use packaging.version instead.\n",
      "  sim_wo_ft=T.tempopulsar('sim_wt_pbd.par','iteration_sub.tim')\n",
      "/tmp/ipykernel_61419/3737954191.py:118: DeprecationWarning: distutils Version classes are deprecated. Use packaging.version instead.\n",
      "  sim_wo_ft=T.tempopulsar('sim_wt_pbd.par','iteration_sub.tim')\n"
     ]
    },
    {
     "name": "stdout",
     "output_type": "stream",
     "text": [
      "52 per 80\n"
     ]
    },
    {
     "name": "stderr",
     "output_type": "stream",
     "text": [
      "/tmp/ipykernel_61419/3737954191.py:118: DeprecationWarning: distutils Version classes are deprecated. Use packaging.version instead.\n",
      "  sim_wo_ft=T.tempopulsar('sim_wt_pbd.par','iteration_sub.tim')\n",
      "/tmp/ipykernel_61419/3737954191.py:118: DeprecationWarning: distutils Version classes are deprecated. Use packaging.version instead.\n",
      "  sim_wo_ft=T.tempopulsar('sim_wt_pbd.par','iteration_sub.tim')\n",
      "/tmp/ipykernel_61419/3737954191.py:118: DeprecationWarning: distutils Version classes are deprecated. Use packaging.version instead.\n",
      "  sim_wo_ft=T.tempopulsar('sim_wt_pbd.par','iteration_sub.tim')\n",
      "/tmp/ipykernel_61419/3737954191.py:118: DeprecationWarning: distutils Version classes are deprecated. Use packaging.version instead.\n",
      "  sim_wo_ft=T.tempopulsar('sim_wt_pbd.par','iteration_sub.tim')\n",
      "/tmp/ipykernel_61419/3737954191.py:118: DeprecationWarning: distutils Version classes are deprecated. Use packaging.version instead.\n",
      "  sim_wo_ft=T.tempopulsar('sim_wt_pbd.par','iteration_sub.tim')\n",
      "/tmp/ipykernel_61419/3737954191.py:118: DeprecationWarning: distutils Version classes are deprecated. Use packaging.version instead.\n",
      "  sim_wo_ft=T.tempopulsar('sim_wt_pbd.par','iteration_sub.tim')\n",
      "/tmp/ipykernel_61419/3737954191.py:118: DeprecationWarning: distutils Version classes are deprecated. Use packaging.version instead.\n",
      "  sim_wo_ft=T.tempopulsar('sim_wt_pbd.par','iteration_sub.tim')\n",
      "/tmp/ipykernel_61419/3737954191.py:118: DeprecationWarning: distutils Version classes are deprecated. Use packaging.version instead.\n",
      "  sim_wo_ft=T.tempopulsar('sim_wt_pbd.par','iteration_sub.tim')\n",
      "/tmp/ipykernel_61419/3737954191.py:118: DeprecationWarning: distutils Version classes are deprecated. Use packaging.version instead.\n",
      "  sim_wo_ft=T.tempopulsar('sim_wt_pbd.par','iteration_sub.tim')\n",
      "/tmp/ipykernel_61419/3737954191.py:118: DeprecationWarning: distutils Version classes are deprecated. Use packaging.version instead.\n",
      "  sim_wo_ft=T.tempopulsar('sim_wt_pbd.par','iteration_sub.tim')\n"
     ]
    },
    {
     "name": "stdout",
     "output_type": "stream",
     "text": [
      "53 per 80\n"
     ]
    },
    {
     "name": "stderr",
     "output_type": "stream",
     "text": [
      "/tmp/ipykernel_61419/3737954191.py:118: DeprecationWarning: distutils Version classes are deprecated. Use packaging.version instead.\n",
      "  sim_wo_ft=T.tempopulsar('sim_wt_pbd.par','iteration_sub.tim')\n",
      "/tmp/ipykernel_61419/3737954191.py:118: DeprecationWarning: distutils Version classes are deprecated. Use packaging.version instead.\n",
      "  sim_wo_ft=T.tempopulsar('sim_wt_pbd.par','iteration_sub.tim')\n",
      "/tmp/ipykernel_61419/3737954191.py:118: DeprecationWarning: distutils Version classes are deprecated. Use packaging.version instead.\n",
      "  sim_wo_ft=T.tempopulsar('sim_wt_pbd.par','iteration_sub.tim')\n",
      "/tmp/ipykernel_61419/3737954191.py:118: DeprecationWarning: distutils Version classes are deprecated. Use packaging.version instead.\n",
      "  sim_wo_ft=T.tempopulsar('sim_wt_pbd.par','iteration_sub.tim')\n",
      "/tmp/ipykernel_61419/3737954191.py:118: DeprecationWarning: distutils Version classes are deprecated. Use packaging.version instead.\n",
      "  sim_wo_ft=T.tempopulsar('sim_wt_pbd.par','iteration_sub.tim')\n",
      "/tmp/ipykernel_61419/3737954191.py:118: DeprecationWarning: distutils Version classes are deprecated. Use packaging.version instead.\n",
      "  sim_wo_ft=T.tempopulsar('sim_wt_pbd.par','iteration_sub.tim')\n",
      "/tmp/ipykernel_61419/3737954191.py:118: DeprecationWarning: distutils Version classes are deprecated. Use packaging.version instead.\n",
      "  sim_wo_ft=T.tempopulsar('sim_wt_pbd.par','iteration_sub.tim')\n",
      "/tmp/ipykernel_61419/3737954191.py:118: DeprecationWarning: distutils Version classes are deprecated. Use packaging.version instead.\n",
      "  sim_wo_ft=T.tempopulsar('sim_wt_pbd.par','iteration_sub.tim')\n",
      "/tmp/ipykernel_61419/3737954191.py:118: DeprecationWarning: distutils Version classes are deprecated. Use packaging.version instead.\n",
      "  sim_wo_ft=T.tempopulsar('sim_wt_pbd.par','iteration_sub.tim')\n",
      "/tmp/ipykernel_61419/3737954191.py:118: DeprecationWarning: distutils Version classes are deprecated. Use packaging.version instead.\n",
      "  sim_wo_ft=T.tempopulsar('sim_wt_pbd.par','iteration_sub.tim')\n"
     ]
    },
    {
     "name": "stdout",
     "output_type": "stream",
     "text": [
      "54 per 80\n"
     ]
    },
    {
     "name": "stderr",
     "output_type": "stream",
     "text": [
      "/tmp/ipykernel_61419/3737954191.py:118: DeprecationWarning: distutils Version classes are deprecated. Use packaging.version instead.\n",
      "  sim_wo_ft=T.tempopulsar('sim_wt_pbd.par','iteration_sub.tim')\n",
      "/tmp/ipykernel_61419/3737954191.py:118: DeprecationWarning: distutils Version classes are deprecated. Use packaging.version instead.\n",
      "  sim_wo_ft=T.tempopulsar('sim_wt_pbd.par','iteration_sub.tim')\n",
      "/tmp/ipykernel_61419/3737954191.py:118: DeprecationWarning: distutils Version classes are deprecated. Use packaging.version instead.\n",
      "  sim_wo_ft=T.tempopulsar('sim_wt_pbd.par','iteration_sub.tim')\n",
      "/tmp/ipykernel_61419/3737954191.py:118: DeprecationWarning: distutils Version classes are deprecated. Use packaging.version instead.\n",
      "  sim_wo_ft=T.tempopulsar('sim_wt_pbd.par','iteration_sub.tim')\n",
      "/tmp/ipykernel_61419/3737954191.py:118: DeprecationWarning: distutils Version classes are deprecated. Use packaging.version instead.\n",
      "  sim_wo_ft=T.tempopulsar('sim_wt_pbd.par','iteration_sub.tim')\n",
      "/tmp/ipykernel_61419/3737954191.py:118: DeprecationWarning: distutils Version classes are deprecated. Use packaging.version instead.\n",
      "  sim_wo_ft=T.tempopulsar('sim_wt_pbd.par','iteration_sub.tim')\n",
      "/tmp/ipykernel_61419/3737954191.py:118: DeprecationWarning: distutils Version classes are deprecated. Use packaging.version instead.\n",
      "  sim_wo_ft=T.tempopulsar('sim_wt_pbd.par','iteration_sub.tim')\n",
      "/tmp/ipykernel_61419/3737954191.py:118: DeprecationWarning: distutils Version classes are deprecated. Use packaging.version instead.\n",
      "  sim_wo_ft=T.tempopulsar('sim_wt_pbd.par','iteration_sub.tim')\n",
      "/tmp/ipykernel_61419/3737954191.py:118: DeprecationWarning: distutils Version classes are deprecated. Use packaging.version instead.\n",
      "  sim_wo_ft=T.tempopulsar('sim_wt_pbd.par','iteration_sub.tim')\n",
      "/tmp/ipykernel_61419/3737954191.py:118: DeprecationWarning: distutils Version classes are deprecated. Use packaging.version instead.\n",
      "  sim_wo_ft=T.tempopulsar('sim_wt_pbd.par','iteration_sub.tim')\n"
     ]
    },
    {
     "name": "stdout",
     "output_type": "stream",
     "text": [
      "55 per 80\n"
     ]
    },
    {
     "name": "stderr",
     "output_type": "stream",
     "text": [
      "/tmp/ipykernel_61419/3737954191.py:118: DeprecationWarning: distutils Version classes are deprecated. Use packaging.version instead.\n",
      "  sim_wo_ft=T.tempopulsar('sim_wt_pbd.par','iteration_sub.tim')\n",
      "/tmp/ipykernel_61419/3737954191.py:118: DeprecationWarning: distutils Version classes are deprecated. Use packaging.version instead.\n",
      "  sim_wo_ft=T.tempopulsar('sim_wt_pbd.par','iteration_sub.tim')\n",
      "/tmp/ipykernel_61419/3737954191.py:118: DeprecationWarning: distutils Version classes are deprecated. Use packaging.version instead.\n",
      "  sim_wo_ft=T.tempopulsar('sim_wt_pbd.par','iteration_sub.tim')\n",
      "/tmp/ipykernel_61419/3737954191.py:118: DeprecationWarning: distutils Version classes are deprecated. Use packaging.version instead.\n",
      "  sim_wo_ft=T.tempopulsar('sim_wt_pbd.par','iteration_sub.tim')\n",
      "/tmp/ipykernel_61419/3737954191.py:118: DeprecationWarning: distutils Version classes are deprecated. Use packaging.version instead.\n",
      "  sim_wo_ft=T.tempopulsar('sim_wt_pbd.par','iteration_sub.tim')\n",
      "/tmp/ipykernel_61419/3737954191.py:118: DeprecationWarning: distutils Version classes are deprecated. Use packaging.version instead.\n",
      "  sim_wo_ft=T.tempopulsar('sim_wt_pbd.par','iteration_sub.tim')\n",
      "/tmp/ipykernel_61419/3737954191.py:118: DeprecationWarning: distutils Version classes are deprecated. Use packaging.version instead.\n",
      "  sim_wo_ft=T.tempopulsar('sim_wt_pbd.par','iteration_sub.tim')\n",
      "/tmp/ipykernel_61419/3737954191.py:118: DeprecationWarning: distutils Version classes are deprecated. Use packaging.version instead.\n",
      "  sim_wo_ft=T.tempopulsar('sim_wt_pbd.par','iteration_sub.tim')\n",
      "/tmp/ipykernel_61419/3737954191.py:118: DeprecationWarning: distutils Version classes are deprecated. Use packaging.version instead.\n",
      "  sim_wo_ft=T.tempopulsar('sim_wt_pbd.par','iteration_sub.tim')\n",
      "/tmp/ipykernel_61419/3737954191.py:118: DeprecationWarning: distutils Version classes are deprecated. Use packaging.version instead.\n",
      "  sim_wo_ft=T.tempopulsar('sim_wt_pbd.par','iteration_sub.tim')\n"
     ]
    },
    {
     "name": "stdout",
     "output_type": "stream",
     "text": [
      "56 per 80\n"
     ]
    },
    {
     "name": "stderr",
     "output_type": "stream",
     "text": [
      "/tmp/ipykernel_61419/3737954191.py:118: DeprecationWarning: distutils Version classes are deprecated. Use packaging.version instead.\n",
      "  sim_wo_ft=T.tempopulsar('sim_wt_pbd.par','iteration_sub.tim')\n",
      "/tmp/ipykernel_61419/3737954191.py:118: DeprecationWarning: distutils Version classes are deprecated. Use packaging.version instead.\n",
      "  sim_wo_ft=T.tempopulsar('sim_wt_pbd.par','iteration_sub.tim')\n",
      "/tmp/ipykernel_61419/3737954191.py:118: DeprecationWarning: distutils Version classes are deprecated. Use packaging.version instead.\n",
      "  sim_wo_ft=T.tempopulsar('sim_wt_pbd.par','iteration_sub.tim')\n",
      "/tmp/ipykernel_61419/3737954191.py:118: DeprecationWarning: distutils Version classes are deprecated. Use packaging.version instead.\n",
      "  sim_wo_ft=T.tempopulsar('sim_wt_pbd.par','iteration_sub.tim')\n",
      "/tmp/ipykernel_61419/3737954191.py:118: DeprecationWarning: distutils Version classes are deprecated. Use packaging.version instead.\n",
      "  sim_wo_ft=T.tempopulsar('sim_wt_pbd.par','iteration_sub.tim')\n",
      "/tmp/ipykernel_61419/3737954191.py:118: DeprecationWarning: distutils Version classes are deprecated. Use packaging.version instead.\n",
      "  sim_wo_ft=T.tempopulsar('sim_wt_pbd.par','iteration_sub.tim')\n",
      "/tmp/ipykernel_61419/3737954191.py:118: DeprecationWarning: distutils Version classes are deprecated. Use packaging.version instead.\n",
      "  sim_wo_ft=T.tempopulsar('sim_wt_pbd.par','iteration_sub.tim')\n",
      "/tmp/ipykernel_61419/3737954191.py:118: DeprecationWarning: distutils Version classes are deprecated. Use packaging.version instead.\n",
      "  sim_wo_ft=T.tempopulsar('sim_wt_pbd.par','iteration_sub.tim')\n",
      "/tmp/ipykernel_61419/3737954191.py:118: DeprecationWarning: distutils Version classes are deprecated. Use packaging.version instead.\n",
      "  sim_wo_ft=T.tempopulsar('sim_wt_pbd.par','iteration_sub.tim')\n",
      "/tmp/ipykernel_61419/3737954191.py:118: DeprecationWarning: distutils Version classes are deprecated. Use packaging.version instead.\n",
      "  sim_wo_ft=T.tempopulsar('sim_wt_pbd.par','iteration_sub.tim')\n"
     ]
    },
    {
     "name": "stdout",
     "output_type": "stream",
     "text": [
      "57 per 80\n"
     ]
    },
    {
     "name": "stderr",
     "output_type": "stream",
     "text": [
      "/tmp/ipykernel_61419/3737954191.py:118: DeprecationWarning: distutils Version classes are deprecated. Use packaging.version instead.\n",
      "  sim_wo_ft=T.tempopulsar('sim_wt_pbd.par','iteration_sub.tim')\n",
      "/tmp/ipykernel_61419/3737954191.py:118: DeprecationWarning: distutils Version classes are deprecated. Use packaging.version instead.\n",
      "  sim_wo_ft=T.tempopulsar('sim_wt_pbd.par','iteration_sub.tim')\n",
      "/tmp/ipykernel_61419/3737954191.py:118: DeprecationWarning: distutils Version classes are deprecated. Use packaging.version instead.\n",
      "  sim_wo_ft=T.tempopulsar('sim_wt_pbd.par','iteration_sub.tim')\n",
      "/tmp/ipykernel_61419/3737954191.py:118: DeprecationWarning: distutils Version classes are deprecated. Use packaging.version instead.\n",
      "  sim_wo_ft=T.tempopulsar('sim_wt_pbd.par','iteration_sub.tim')\n",
      "/tmp/ipykernel_61419/3737954191.py:118: DeprecationWarning: distutils Version classes are deprecated. Use packaging.version instead.\n",
      "  sim_wo_ft=T.tempopulsar('sim_wt_pbd.par','iteration_sub.tim')\n",
      "/tmp/ipykernel_61419/3737954191.py:118: DeprecationWarning: distutils Version classes are deprecated. Use packaging.version instead.\n",
      "  sim_wo_ft=T.tempopulsar('sim_wt_pbd.par','iteration_sub.tim')\n",
      "/tmp/ipykernel_61419/3737954191.py:118: DeprecationWarning: distutils Version classes are deprecated. Use packaging.version instead.\n",
      "  sim_wo_ft=T.tempopulsar('sim_wt_pbd.par','iteration_sub.tim')\n",
      "/tmp/ipykernel_61419/3737954191.py:118: DeprecationWarning: distutils Version classes are deprecated. Use packaging.version instead.\n",
      "  sim_wo_ft=T.tempopulsar('sim_wt_pbd.par','iteration_sub.tim')\n",
      "/tmp/ipykernel_61419/3737954191.py:118: DeprecationWarning: distutils Version classes are deprecated. Use packaging.version instead.\n",
      "  sim_wo_ft=T.tempopulsar('sim_wt_pbd.par','iteration_sub.tim')\n",
      "/tmp/ipykernel_61419/3737954191.py:118: DeprecationWarning: distutils Version classes are deprecated. Use packaging.version instead.\n",
      "  sim_wo_ft=T.tempopulsar('sim_wt_pbd.par','iteration_sub.tim')\n"
     ]
    },
    {
     "name": "stdout",
     "output_type": "stream",
     "text": [
      "58 per 80\n"
     ]
    },
    {
     "name": "stderr",
     "output_type": "stream",
     "text": [
      "/tmp/ipykernel_61419/3737954191.py:118: DeprecationWarning: distutils Version classes are deprecated. Use packaging.version instead.\n",
      "  sim_wo_ft=T.tempopulsar('sim_wt_pbd.par','iteration_sub.tim')\n",
      "/tmp/ipykernel_61419/3737954191.py:118: DeprecationWarning: distutils Version classes are deprecated. Use packaging.version instead.\n",
      "  sim_wo_ft=T.tempopulsar('sim_wt_pbd.par','iteration_sub.tim')\n",
      "/tmp/ipykernel_61419/3737954191.py:118: DeprecationWarning: distutils Version classes are deprecated. Use packaging.version instead.\n",
      "  sim_wo_ft=T.tempopulsar('sim_wt_pbd.par','iteration_sub.tim')\n",
      "/tmp/ipykernel_61419/3737954191.py:118: DeprecationWarning: distutils Version classes are deprecated. Use packaging.version instead.\n",
      "  sim_wo_ft=T.tempopulsar('sim_wt_pbd.par','iteration_sub.tim')\n",
      "/tmp/ipykernel_61419/3737954191.py:118: DeprecationWarning: distutils Version classes are deprecated. Use packaging.version instead.\n",
      "  sim_wo_ft=T.tempopulsar('sim_wt_pbd.par','iteration_sub.tim')\n",
      "/tmp/ipykernel_61419/3737954191.py:118: DeprecationWarning: distutils Version classes are deprecated. Use packaging.version instead.\n",
      "  sim_wo_ft=T.tempopulsar('sim_wt_pbd.par','iteration_sub.tim')\n",
      "/tmp/ipykernel_61419/3737954191.py:118: DeprecationWarning: distutils Version classes are deprecated. Use packaging.version instead.\n",
      "  sim_wo_ft=T.tempopulsar('sim_wt_pbd.par','iteration_sub.tim')\n",
      "/tmp/ipykernel_61419/3737954191.py:118: DeprecationWarning: distutils Version classes are deprecated. Use packaging.version instead.\n",
      "  sim_wo_ft=T.tempopulsar('sim_wt_pbd.par','iteration_sub.tim')\n",
      "/tmp/ipykernel_61419/3737954191.py:118: DeprecationWarning: distutils Version classes are deprecated. Use packaging.version instead.\n",
      "  sim_wo_ft=T.tempopulsar('sim_wt_pbd.par','iteration_sub.tim')\n",
      "/tmp/ipykernel_61419/3737954191.py:118: DeprecationWarning: distutils Version classes are deprecated. Use packaging.version instead.\n",
      "  sim_wo_ft=T.tempopulsar('sim_wt_pbd.par','iteration_sub.tim')\n"
     ]
    },
    {
     "name": "stdout",
     "output_type": "stream",
     "text": [
      "59 per 80\n"
     ]
    },
    {
     "name": "stderr",
     "output_type": "stream",
     "text": [
      "/tmp/ipykernel_61419/3737954191.py:118: DeprecationWarning: distutils Version classes are deprecated. Use packaging.version instead.\n",
      "  sim_wo_ft=T.tempopulsar('sim_wt_pbd.par','iteration_sub.tim')\n",
      "/tmp/ipykernel_61419/3737954191.py:118: DeprecationWarning: distutils Version classes are deprecated. Use packaging.version instead.\n",
      "  sim_wo_ft=T.tempopulsar('sim_wt_pbd.par','iteration_sub.tim')\n",
      "/tmp/ipykernel_61419/3737954191.py:118: DeprecationWarning: distutils Version classes are deprecated. Use packaging.version instead.\n",
      "  sim_wo_ft=T.tempopulsar('sim_wt_pbd.par','iteration_sub.tim')\n",
      "/tmp/ipykernel_61419/3737954191.py:118: DeprecationWarning: distutils Version classes are deprecated. Use packaging.version instead.\n",
      "  sim_wo_ft=T.tempopulsar('sim_wt_pbd.par','iteration_sub.tim')\n",
      "/tmp/ipykernel_61419/3737954191.py:118: DeprecationWarning: distutils Version classes are deprecated. Use packaging.version instead.\n",
      "  sim_wo_ft=T.tempopulsar('sim_wt_pbd.par','iteration_sub.tim')\n",
      "/tmp/ipykernel_61419/3737954191.py:118: DeprecationWarning: distutils Version classes are deprecated. Use packaging.version instead.\n",
      "  sim_wo_ft=T.tempopulsar('sim_wt_pbd.par','iteration_sub.tim')\n",
      "/tmp/ipykernel_61419/3737954191.py:118: DeprecationWarning: distutils Version classes are deprecated. Use packaging.version instead.\n",
      "  sim_wo_ft=T.tempopulsar('sim_wt_pbd.par','iteration_sub.tim')\n",
      "/tmp/ipykernel_61419/3737954191.py:118: DeprecationWarning: distutils Version classes are deprecated. Use packaging.version instead.\n",
      "  sim_wo_ft=T.tempopulsar('sim_wt_pbd.par','iteration_sub.tim')\n",
      "/tmp/ipykernel_61419/3737954191.py:118: DeprecationWarning: distutils Version classes are deprecated. Use packaging.version instead.\n",
      "  sim_wo_ft=T.tempopulsar('sim_wt_pbd.par','iteration_sub.tim')\n",
      "/tmp/ipykernel_61419/3737954191.py:118: DeprecationWarning: distutils Version classes are deprecated. Use packaging.version instead.\n",
      "  sim_wo_ft=T.tempopulsar('sim_wt_pbd.par','iteration_sub.tim')\n"
     ]
    },
    {
     "name": "stdout",
     "output_type": "stream",
     "text": [
      "60 per 80\n"
     ]
    },
    {
     "name": "stderr",
     "output_type": "stream",
     "text": [
      "/tmp/ipykernel_61419/3737954191.py:118: DeprecationWarning: distutils Version classes are deprecated. Use packaging.version instead.\n",
      "  sim_wo_ft=T.tempopulsar('sim_wt_pbd.par','iteration_sub.tim')\n",
      "/tmp/ipykernel_61419/3737954191.py:118: DeprecationWarning: distutils Version classes are deprecated. Use packaging.version instead.\n",
      "  sim_wo_ft=T.tempopulsar('sim_wt_pbd.par','iteration_sub.tim')\n",
      "/tmp/ipykernel_61419/3737954191.py:118: DeprecationWarning: distutils Version classes are deprecated. Use packaging.version instead.\n",
      "  sim_wo_ft=T.tempopulsar('sim_wt_pbd.par','iteration_sub.tim')\n",
      "/tmp/ipykernel_61419/3737954191.py:118: DeprecationWarning: distutils Version classes are deprecated. Use packaging.version instead.\n",
      "  sim_wo_ft=T.tempopulsar('sim_wt_pbd.par','iteration_sub.tim')\n",
      "/tmp/ipykernel_61419/3737954191.py:118: DeprecationWarning: distutils Version classes are deprecated. Use packaging.version instead.\n",
      "  sim_wo_ft=T.tempopulsar('sim_wt_pbd.par','iteration_sub.tim')\n",
      "/tmp/ipykernel_61419/3737954191.py:118: DeprecationWarning: distutils Version classes are deprecated. Use packaging.version instead.\n",
      "  sim_wo_ft=T.tempopulsar('sim_wt_pbd.par','iteration_sub.tim')\n",
      "/tmp/ipykernel_61419/3737954191.py:118: DeprecationWarning: distutils Version classes are deprecated. Use packaging.version instead.\n",
      "  sim_wo_ft=T.tempopulsar('sim_wt_pbd.par','iteration_sub.tim')\n",
      "/tmp/ipykernel_61419/3737954191.py:118: DeprecationWarning: distutils Version classes are deprecated. Use packaging.version instead.\n",
      "  sim_wo_ft=T.tempopulsar('sim_wt_pbd.par','iteration_sub.tim')\n",
      "/tmp/ipykernel_61419/3737954191.py:118: DeprecationWarning: distutils Version classes are deprecated. Use packaging.version instead.\n",
      "  sim_wo_ft=T.tempopulsar('sim_wt_pbd.par','iteration_sub.tim')\n",
      "/tmp/ipykernel_61419/3737954191.py:118: DeprecationWarning: distutils Version classes are deprecated. Use packaging.version instead.\n",
      "  sim_wo_ft=T.tempopulsar('sim_wt_pbd.par','iteration_sub.tim')\n"
     ]
    },
    {
     "name": "stdout",
     "output_type": "stream",
     "text": [
      "61 per 80\n"
     ]
    },
    {
     "name": "stderr",
     "output_type": "stream",
     "text": [
      "/tmp/ipykernel_61419/3737954191.py:118: DeprecationWarning: distutils Version classes are deprecated. Use packaging.version instead.\n",
      "  sim_wo_ft=T.tempopulsar('sim_wt_pbd.par','iteration_sub.tim')\n",
      "/tmp/ipykernel_61419/3737954191.py:118: DeprecationWarning: distutils Version classes are deprecated. Use packaging.version instead.\n",
      "  sim_wo_ft=T.tempopulsar('sim_wt_pbd.par','iteration_sub.tim')\n",
      "/tmp/ipykernel_61419/3737954191.py:118: DeprecationWarning: distutils Version classes are deprecated. Use packaging.version instead.\n",
      "  sim_wo_ft=T.tempopulsar('sim_wt_pbd.par','iteration_sub.tim')\n",
      "/tmp/ipykernel_61419/3737954191.py:118: DeprecationWarning: distutils Version classes are deprecated. Use packaging.version instead.\n",
      "  sim_wo_ft=T.tempopulsar('sim_wt_pbd.par','iteration_sub.tim')\n",
      "/tmp/ipykernel_61419/3737954191.py:118: DeprecationWarning: distutils Version classes are deprecated. Use packaging.version instead.\n",
      "  sim_wo_ft=T.tempopulsar('sim_wt_pbd.par','iteration_sub.tim')\n",
      "/tmp/ipykernel_61419/3737954191.py:118: DeprecationWarning: distutils Version classes are deprecated. Use packaging.version instead.\n",
      "  sim_wo_ft=T.tempopulsar('sim_wt_pbd.par','iteration_sub.tim')\n",
      "/tmp/ipykernel_61419/3737954191.py:118: DeprecationWarning: distutils Version classes are deprecated. Use packaging.version instead.\n",
      "  sim_wo_ft=T.tempopulsar('sim_wt_pbd.par','iteration_sub.tim')\n",
      "/tmp/ipykernel_61419/3737954191.py:118: DeprecationWarning: distutils Version classes are deprecated. Use packaging.version instead.\n",
      "  sim_wo_ft=T.tempopulsar('sim_wt_pbd.par','iteration_sub.tim')\n",
      "/tmp/ipykernel_61419/3737954191.py:118: DeprecationWarning: distutils Version classes are deprecated. Use packaging.version instead.\n",
      "  sim_wo_ft=T.tempopulsar('sim_wt_pbd.par','iteration_sub.tim')\n",
      "/tmp/ipykernel_61419/3737954191.py:118: DeprecationWarning: distutils Version classes are deprecated. Use packaging.version instead.\n",
      "  sim_wo_ft=T.tempopulsar('sim_wt_pbd.par','iteration_sub.tim')\n"
     ]
    },
    {
     "name": "stdout",
     "output_type": "stream",
     "text": [
      "62 per 80\n"
     ]
    },
    {
     "name": "stderr",
     "output_type": "stream",
     "text": [
      "/tmp/ipykernel_61419/3737954191.py:118: DeprecationWarning: distutils Version classes are deprecated. Use packaging.version instead.\n",
      "  sim_wo_ft=T.tempopulsar('sim_wt_pbd.par','iteration_sub.tim')\n",
      "/tmp/ipykernel_61419/3737954191.py:118: DeprecationWarning: distutils Version classes are deprecated. Use packaging.version instead.\n",
      "  sim_wo_ft=T.tempopulsar('sim_wt_pbd.par','iteration_sub.tim')\n",
      "/tmp/ipykernel_61419/3737954191.py:118: DeprecationWarning: distutils Version classes are deprecated. Use packaging.version instead.\n",
      "  sim_wo_ft=T.tempopulsar('sim_wt_pbd.par','iteration_sub.tim')\n",
      "/tmp/ipykernel_61419/3737954191.py:118: DeprecationWarning: distutils Version classes are deprecated. Use packaging.version instead.\n",
      "  sim_wo_ft=T.tempopulsar('sim_wt_pbd.par','iteration_sub.tim')\n",
      "/tmp/ipykernel_61419/3737954191.py:118: DeprecationWarning: distutils Version classes are deprecated. Use packaging.version instead.\n",
      "  sim_wo_ft=T.tempopulsar('sim_wt_pbd.par','iteration_sub.tim')\n",
      "/tmp/ipykernel_61419/3737954191.py:118: DeprecationWarning: distutils Version classes are deprecated. Use packaging.version instead.\n",
      "  sim_wo_ft=T.tempopulsar('sim_wt_pbd.par','iteration_sub.tim')\n",
      "/tmp/ipykernel_61419/3737954191.py:118: DeprecationWarning: distutils Version classes are deprecated. Use packaging.version instead.\n",
      "  sim_wo_ft=T.tempopulsar('sim_wt_pbd.par','iteration_sub.tim')\n",
      "/tmp/ipykernel_61419/3737954191.py:118: DeprecationWarning: distutils Version classes are deprecated. Use packaging.version instead.\n",
      "  sim_wo_ft=T.tempopulsar('sim_wt_pbd.par','iteration_sub.tim')\n",
      "/tmp/ipykernel_61419/3737954191.py:118: DeprecationWarning: distutils Version classes are deprecated. Use packaging.version instead.\n",
      "  sim_wo_ft=T.tempopulsar('sim_wt_pbd.par','iteration_sub.tim')\n",
      "/tmp/ipykernel_61419/3737954191.py:118: DeprecationWarning: distutils Version classes are deprecated. Use packaging.version instead.\n",
      "  sim_wo_ft=T.tempopulsar('sim_wt_pbd.par','iteration_sub.tim')\n"
     ]
    },
    {
     "name": "stdout",
     "output_type": "stream",
     "text": [
      "63 per 80\n"
     ]
    },
    {
     "name": "stderr",
     "output_type": "stream",
     "text": [
      "/tmp/ipykernel_61419/3737954191.py:118: DeprecationWarning: distutils Version classes are deprecated. Use packaging.version instead.\n",
      "  sim_wo_ft=T.tempopulsar('sim_wt_pbd.par','iteration_sub.tim')\n",
      "/tmp/ipykernel_61419/3737954191.py:118: DeprecationWarning: distutils Version classes are deprecated. Use packaging.version instead.\n",
      "  sim_wo_ft=T.tempopulsar('sim_wt_pbd.par','iteration_sub.tim')\n",
      "/tmp/ipykernel_61419/3737954191.py:118: DeprecationWarning: distutils Version classes are deprecated. Use packaging.version instead.\n",
      "  sim_wo_ft=T.tempopulsar('sim_wt_pbd.par','iteration_sub.tim')\n",
      "/tmp/ipykernel_61419/3737954191.py:118: DeprecationWarning: distutils Version classes are deprecated. Use packaging.version instead.\n",
      "  sim_wo_ft=T.tempopulsar('sim_wt_pbd.par','iteration_sub.tim')\n",
      "/tmp/ipykernel_61419/3737954191.py:118: DeprecationWarning: distutils Version classes are deprecated. Use packaging.version instead.\n",
      "  sim_wo_ft=T.tempopulsar('sim_wt_pbd.par','iteration_sub.tim')\n",
      "/tmp/ipykernel_61419/3737954191.py:118: DeprecationWarning: distutils Version classes are deprecated. Use packaging.version instead.\n",
      "  sim_wo_ft=T.tempopulsar('sim_wt_pbd.par','iteration_sub.tim')\n",
      "/tmp/ipykernel_61419/3737954191.py:118: DeprecationWarning: distutils Version classes are deprecated. Use packaging.version instead.\n",
      "  sim_wo_ft=T.tempopulsar('sim_wt_pbd.par','iteration_sub.tim')\n",
      "/tmp/ipykernel_61419/3737954191.py:118: DeprecationWarning: distutils Version classes are deprecated. Use packaging.version instead.\n",
      "  sim_wo_ft=T.tempopulsar('sim_wt_pbd.par','iteration_sub.tim')\n",
      "/tmp/ipykernel_61419/3737954191.py:118: DeprecationWarning: distutils Version classes are deprecated. Use packaging.version instead.\n",
      "  sim_wo_ft=T.tempopulsar('sim_wt_pbd.par','iteration_sub.tim')\n",
      "/tmp/ipykernel_61419/3737954191.py:118: DeprecationWarning: distutils Version classes are deprecated. Use packaging.version instead.\n",
      "  sim_wo_ft=T.tempopulsar('sim_wt_pbd.par','iteration_sub.tim')\n"
     ]
    },
    {
     "name": "stdout",
     "output_type": "stream",
     "text": [
      "64 per 80\n"
     ]
    },
    {
     "name": "stderr",
     "output_type": "stream",
     "text": [
      "/tmp/ipykernel_61419/3737954191.py:118: DeprecationWarning: distutils Version classes are deprecated. Use packaging.version instead.\n",
      "  sim_wo_ft=T.tempopulsar('sim_wt_pbd.par','iteration_sub.tim')\n",
      "/tmp/ipykernel_61419/3737954191.py:118: DeprecationWarning: distutils Version classes are deprecated. Use packaging.version instead.\n",
      "  sim_wo_ft=T.tempopulsar('sim_wt_pbd.par','iteration_sub.tim')\n",
      "/tmp/ipykernel_61419/3737954191.py:118: DeprecationWarning: distutils Version classes are deprecated. Use packaging.version instead.\n",
      "  sim_wo_ft=T.tempopulsar('sim_wt_pbd.par','iteration_sub.tim')\n",
      "/tmp/ipykernel_61419/3737954191.py:118: DeprecationWarning: distutils Version classes are deprecated. Use packaging.version instead.\n",
      "  sim_wo_ft=T.tempopulsar('sim_wt_pbd.par','iteration_sub.tim')\n",
      "/tmp/ipykernel_61419/3737954191.py:118: DeprecationWarning: distutils Version classes are deprecated. Use packaging.version instead.\n",
      "  sim_wo_ft=T.tempopulsar('sim_wt_pbd.par','iteration_sub.tim')\n",
      "/tmp/ipykernel_61419/3737954191.py:118: DeprecationWarning: distutils Version classes are deprecated. Use packaging.version instead.\n",
      "  sim_wo_ft=T.tempopulsar('sim_wt_pbd.par','iteration_sub.tim')\n",
      "/tmp/ipykernel_61419/3737954191.py:118: DeprecationWarning: distutils Version classes are deprecated. Use packaging.version instead.\n",
      "  sim_wo_ft=T.tempopulsar('sim_wt_pbd.par','iteration_sub.tim')\n",
      "/tmp/ipykernel_61419/3737954191.py:118: DeprecationWarning: distutils Version classes are deprecated. Use packaging.version instead.\n",
      "  sim_wo_ft=T.tempopulsar('sim_wt_pbd.par','iteration_sub.tim')\n",
      "/tmp/ipykernel_61419/3737954191.py:118: DeprecationWarning: distutils Version classes are deprecated. Use packaging.version instead.\n",
      "  sim_wo_ft=T.tempopulsar('sim_wt_pbd.par','iteration_sub.tim')\n",
      "/tmp/ipykernel_61419/3737954191.py:118: DeprecationWarning: distutils Version classes are deprecated. Use packaging.version instead.\n",
      "  sim_wo_ft=T.tempopulsar('sim_wt_pbd.par','iteration_sub.tim')\n"
     ]
    },
    {
     "name": "stdout",
     "output_type": "stream",
     "text": [
      "65 per 80\n"
     ]
    },
    {
     "name": "stderr",
     "output_type": "stream",
     "text": [
      "/tmp/ipykernel_61419/3737954191.py:118: DeprecationWarning: distutils Version classes are deprecated. Use packaging.version instead.\n",
      "  sim_wo_ft=T.tempopulsar('sim_wt_pbd.par','iteration_sub.tim')\n",
      "/tmp/ipykernel_61419/3737954191.py:118: DeprecationWarning: distutils Version classes are deprecated. Use packaging.version instead.\n",
      "  sim_wo_ft=T.tempopulsar('sim_wt_pbd.par','iteration_sub.tim')\n",
      "/tmp/ipykernel_61419/3737954191.py:118: DeprecationWarning: distutils Version classes are deprecated. Use packaging.version instead.\n",
      "  sim_wo_ft=T.tempopulsar('sim_wt_pbd.par','iteration_sub.tim')\n",
      "/tmp/ipykernel_61419/3737954191.py:118: DeprecationWarning: distutils Version classes are deprecated. Use packaging.version instead.\n",
      "  sim_wo_ft=T.tempopulsar('sim_wt_pbd.par','iteration_sub.tim')\n",
      "/tmp/ipykernel_61419/3737954191.py:118: DeprecationWarning: distutils Version classes are deprecated. Use packaging.version instead.\n",
      "  sim_wo_ft=T.tempopulsar('sim_wt_pbd.par','iteration_sub.tim')\n",
      "/tmp/ipykernel_61419/3737954191.py:118: DeprecationWarning: distutils Version classes are deprecated. Use packaging.version instead.\n",
      "  sim_wo_ft=T.tempopulsar('sim_wt_pbd.par','iteration_sub.tim')\n",
      "/tmp/ipykernel_61419/3737954191.py:118: DeprecationWarning: distutils Version classes are deprecated. Use packaging.version instead.\n",
      "  sim_wo_ft=T.tempopulsar('sim_wt_pbd.par','iteration_sub.tim')\n",
      "/tmp/ipykernel_61419/3737954191.py:118: DeprecationWarning: distutils Version classes are deprecated. Use packaging.version instead.\n",
      "  sim_wo_ft=T.tempopulsar('sim_wt_pbd.par','iteration_sub.tim')\n",
      "/tmp/ipykernel_61419/3737954191.py:118: DeprecationWarning: distutils Version classes are deprecated. Use packaging.version instead.\n",
      "  sim_wo_ft=T.tempopulsar('sim_wt_pbd.par','iteration_sub.tim')\n",
      "/tmp/ipykernel_61419/3737954191.py:118: DeprecationWarning: distutils Version classes are deprecated. Use packaging.version instead.\n",
      "  sim_wo_ft=T.tempopulsar('sim_wt_pbd.par','iteration_sub.tim')\n"
     ]
    },
    {
     "name": "stdout",
     "output_type": "stream",
     "text": [
      "66 per 80\n"
     ]
    },
    {
     "name": "stderr",
     "output_type": "stream",
     "text": [
      "/tmp/ipykernel_61419/3737954191.py:118: DeprecationWarning: distutils Version classes are deprecated. Use packaging.version instead.\n",
      "  sim_wo_ft=T.tempopulsar('sim_wt_pbd.par','iteration_sub.tim')\n",
      "/tmp/ipykernel_61419/3737954191.py:118: DeprecationWarning: distutils Version classes are deprecated. Use packaging.version instead.\n",
      "  sim_wo_ft=T.tempopulsar('sim_wt_pbd.par','iteration_sub.tim')\n",
      "/tmp/ipykernel_61419/3737954191.py:118: DeprecationWarning: distutils Version classes are deprecated. Use packaging.version instead.\n",
      "  sim_wo_ft=T.tempopulsar('sim_wt_pbd.par','iteration_sub.tim')\n",
      "/tmp/ipykernel_61419/3737954191.py:118: DeprecationWarning: distutils Version classes are deprecated. Use packaging.version instead.\n",
      "  sim_wo_ft=T.tempopulsar('sim_wt_pbd.par','iteration_sub.tim')\n",
      "/tmp/ipykernel_61419/3737954191.py:118: DeprecationWarning: distutils Version classes are deprecated. Use packaging.version instead.\n",
      "  sim_wo_ft=T.tempopulsar('sim_wt_pbd.par','iteration_sub.tim')\n",
      "/tmp/ipykernel_61419/3737954191.py:118: DeprecationWarning: distutils Version classes are deprecated. Use packaging.version instead.\n",
      "  sim_wo_ft=T.tempopulsar('sim_wt_pbd.par','iteration_sub.tim')\n",
      "/tmp/ipykernel_61419/3737954191.py:118: DeprecationWarning: distutils Version classes are deprecated. Use packaging.version instead.\n",
      "  sim_wo_ft=T.tempopulsar('sim_wt_pbd.par','iteration_sub.tim')\n",
      "/tmp/ipykernel_61419/3737954191.py:118: DeprecationWarning: distutils Version classes are deprecated. Use packaging.version instead.\n",
      "  sim_wo_ft=T.tempopulsar('sim_wt_pbd.par','iteration_sub.tim')\n",
      "/tmp/ipykernel_61419/3737954191.py:118: DeprecationWarning: distutils Version classes are deprecated. Use packaging.version instead.\n",
      "  sim_wo_ft=T.tempopulsar('sim_wt_pbd.par','iteration_sub.tim')\n",
      "/tmp/ipykernel_61419/3737954191.py:118: DeprecationWarning: distutils Version classes are deprecated. Use packaging.version instead.\n",
      "  sim_wo_ft=T.tempopulsar('sim_wt_pbd.par','iteration_sub.tim')\n"
     ]
    },
    {
     "name": "stdout",
     "output_type": "stream",
     "text": [
      "67 per 80\n"
     ]
    },
    {
     "name": "stderr",
     "output_type": "stream",
     "text": [
      "/tmp/ipykernel_61419/3737954191.py:118: DeprecationWarning: distutils Version classes are deprecated. Use packaging.version instead.\n",
      "  sim_wo_ft=T.tempopulsar('sim_wt_pbd.par','iteration_sub.tim')\n",
      "/tmp/ipykernel_61419/3737954191.py:118: DeprecationWarning: distutils Version classes are deprecated. Use packaging.version instead.\n",
      "  sim_wo_ft=T.tempopulsar('sim_wt_pbd.par','iteration_sub.tim')\n",
      "/tmp/ipykernel_61419/3737954191.py:118: DeprecationWarning: distutils Version classes are deprecated. Use packaging.version instead.\n",
      "  sim_wo_ft=T.tempopulsar('sim_wt_pbd.par','iteration_sub.tim')\n",
      "/tmp/ipykernel_61419/3737954191.py:118: DeprecationWarning: distutils Version classes are deprecated. Use packaging.version instead.\n",
      "  sim_wo_ft=T.tempopulsar('sim_wt_pbd.par','iteration_sub.tim')\n",
      "/tmp/ipykernel_61419/3737954191.py:118: DeprecationWarning: distutils Version classes are deprecated. Use packaging.version instead.\n",
      "  sim_wo_ft=T.tempopulsar('sim_wt_pbd.par','iteration_sub.tim')\n",
      "/tmp/ipykernel_61419/3737954191.py:118: DeprecationWarning: distutils Version classes are deprecated. Use packaging.version instead.\n",
      "  sim_wo_ft=T.tempopulsar('sim_wt_pbd.par','iteration_sub.tim')\n",
      "/tmp/ipykernel_61419/3737954191.py:118: DeprecationWarning: distutils Version classes are deprecated. Use packaging.version instead.\n",
      "  sim_wo_ft=T.tempopulsar('sim_wt_pbd.par','iteration_sub.tim')\n",
      "/tmp/ipykernel_61419/3737954191.py:118: DeprecationWarning: distutils Version classes are deprecated. Use packaging.version instead.\n",
      "  sim_wo_ft=T.tempopulsar('sim_wt_pbd.par','iteration_sub.tim')\n",
      "/tmp/ipykernel_61419/3737954191.py:118: DeprecationWarning: distutils Version classes are deprecated. Use packaging.version instead.\n",
      "  sim_wo_ft=T.tempopulsar('sim_wt_pbd.par','iteration_sub.tim')\n",
      "/tmp/ipykernel_61419/3737954191.py:118: DeprecationWarning: distutils Version classes are deprecated. Use packaging.version instead.\n",
      "  sim_wo_ft=T.tempopulsar('sim_wt_pbd.par','iteration_sub.tim')\n"
     ]
    },
    {
     "name": "stdout",
     "output_type": "stream",
     "text": [
      "68 per 80\n"
     ]
    },
    {
     "name": "stderr",
     "output_type": "stream",
     "text": [
      "/tmp/ipykernel_61419/3737954191.py:118: DeprecationWarning: distutils Version classes are deprecated. Use packaging.version instead.\n",
      "  sim_wo_ft=T.tempopulsar('sim_wt_pbd.par','iteration_sub.tim')\n",
      "/tmp/ipykernel_61419/3737954191.py:118: DeprecationWarning: distutils Version classes are deprecated. Use packaging.version instead.\n",
      "  sim_wo_ft=T.tempopulsar('sim_wt_pbd.par','iteration_sub.tim')\n",
      "/tmp/ipykernel_61419/3737954191.py:118: DeprecationWarning: distutils Version classes are deprecated. Use packaging.version instead.\n",
      "  sim_wo_ft=T.tempopulsar('sim_wt_pbd.par','iteration_sub.tim')\n",
      "/tmp/ipykernel_61419/3737954191.py:118: DeprecationWarning: distutils Version classes are deprecated. Use packaging.version instead.\n",
      "  sim_wo_ft=T.tempopulsar('sim_wt_pbd.par','iteration_sub.tim')\n",
      "/tmp/ipykernel_61419/3737954191.py:118: DeprecationWarning: distutils Version classes are deprecated. Use packaging.version instead.\n",
      "  sim_wo_ft=T.tempopulsar('sim_wt_pbd.par','iteration_sub.tim')\n",
      "/tmp/ipykernel_61419/3737954191.py:118: DeprecationWarning: distutils Version classes are deprecated. Use packaging.version instead.\n",
      "  sim_wo_ft=T.tempopulsar('sim_wt_pbd.par','iteration_sub.tim')\n",
      "/tmp/ipykernel_61419/3737954191.py:118: DeprecationWarning: distutils Version classes are deprecated. Use packaging.version instead.\n",
      "  sim_wo_ft=T.tempopulsar('sim_wt_pbd.par','iteration_sub.tim')\n",
      "/tmp/ipykernel_61419/3737954191.py:118: DeprecationWarning: distutils Version classes are deprecated. Use packaging.version instead.\n",
      "  sim_wo_ft=T.tempopulsar('sim_wt_pbd.par','iteration_sub.tim')\n",
      "/tmp/ipykernel_61419/3737954191.py:118: DeprecationWarning: distutils Version classes are deprecated. Use packaging.version instead.\n",
      "  sim_wo_ft=T.tempopulsar('sim_wt_pbd.par','iteration_sub.tim')\n",
      "/tmp/ipykernel_61419/3737954191.py:118: DeprecationWarning: distutils Version classes are deprecated. Use packaging.version instead.\n",
      "  sim_wo_ft=T.tempopulsar('sim_wt_pbd.par','iteration_sub.tim')\n"
     ]
    },
    {
     "name": "stdout",
     "output_type": "stream",
     "text": [
      "69 per 80\n"
     ]
    },
    {
     "name": "stderr",
     "output_type": "stream",
     "text": [
      "/tmp/ipykernel_61419/3737954191.py:118: DeprecationWarning: distutils Version classes are deprecated. Use packaging.version instead.\n",
      "  sim_wo_ft=T.tempopulsar('sim_wt_pbd.par','iteration_sub.tim')\n",
      "/tmp/ipykernel_61419/3737954191.py:118: DeprecationWarning: distutils Version classes are deprecated. Use packaging.version instead.\n",
      "  sim_wo_ft=T.tempopulsar('sim_wt_pbd.par','iteration_sub.tim')\n",
      "/tmp/ipykernel_61419/3737954191.py:118: DeprecationWarning: distutils Version classes are deprecated. Use packaging.version instead.\n",
      "  sim_wo_ft=T.tempopulsar('sim_wt_pbd.par','iteration_sub.tim')\n",
      "/tmp/ipykernel_61419/3737954191.py:118: DeprecationWarning: distutils Version classes are deprecated. Use packaging.version instead.\n",
      "  sim_wo_ft=T.tempopulsar('sim_wt_pbd.par','iteration_sub.tim')\n",
      "/tmp/ipykernel_61419/3737954191.py:118: DeprecationWarning: distutils Version classes are deprecated. Use packaging.version instead.\n",
      "  sim_wo_ft=T.tempopulsar('sim_wt_pbd.par','iteration_sub.tim')\n",
      "/tmp/ipykernel_61419/3737954191.py:118: DeprecationWarning: distutils Version classes are deprecated. Use packaging.version instead.\n",
      "  sim_wo_ft=T.tempopulsar('sim_wt_pbd.par','iteration_sub.tim')\n",
      "/tmp/ipykernel_61419/3737954191.py:118: DeprecationWarning: distutils Version classes are deprecated. Use packaging.version instead.\n",
      "  sim_wo_ft=T.tempopulsar('sim_wt_pbd.par','iteration_sub.tim')\n",
      "/tmp/ipykernel_61419/3737954191.py:118: DeprecationWarning: distutils Version classes are deprecated. Use packaging.version instead.\n",
      "  sim_wo_ft=T.tempopulsar('sim_wt_pbd.par','iteration_sub.tim')\n",
      "/tmp/ipykernel_61419/3737954191.py:118: DeprecationWarning: distutils Version classes are deprecated. Use packaging.version instead.\n",
      "  sim_wo_ft=T.tempopulsar('sim_wt_pbd.par','iteration_sub.tim')\n",
      "/tmp/ipykernel_61419/3737954191.py:118: DeprecationWarning: distutils Version classes are deprecated. Use packaging.version instead.\n",
      "  sim_wo_ft=T.tempopulsar('sim_wt_pbd.par','iteration_sub.tim')\n"
     ]
    },
    {
     "name": "stdout",
     "output_type": "stream",
     "text": [
      "70 per 80\n"
     ]
    },
    {
     "name": "stderr",
     "output_type": "stream",
     "text": [
      "/tmp/ipykernel_61419/3737954191.py:118: DeprecationWarning: distutils Version classes are deprecated. Use packaging.version instead.\n",
      "  sim_wo_ft=T.tempopulsar('sim_wt_pbd.par','iteration_sub.tim')\n",
      "/tmp/ipykernel_61419/3737954191.py:118: DeprecationWarning: distutils Version classes are deprecated. Use packaging.version instead.\n",
      "  sim_wo_ft=T.tempopulsar('sim_wt_pbd.par','iteration_sub.tim')\n",
      "/tmp/ipykernel_61419/3737954191.py:118: DeprecationWarning: distutils Version classes are deprecated. Use packaging.version instead.\n",
      "  sim_wo_ft=T.tempopulsar('sim_wt_pbd.par','iteration_sub.tim')\n",
      "/tmp/ipykernel_61419/3737954191.py:118: DeprecationWarning: distutils Version classes are deprecated. Use packaging.version instead.\n",
      "  sim_wo_ft=T.tempopulsar('sim_wt_pbd.par','iteration_sub.tim')\n",
      "/tmp/ipykernel_61419/3737954191.py:118: DeprecationWarning: distutils Version classes are deprecated. Use packaging.version instead.\n",
      "  sim_wo_ft=T.tempopulsar('sim_wt_pbd.par','iteration_sub.tim')\n",
      "/tmp/ipykernel_61419/3737954191.py:118: DeprecationWarning: distutils Version classes are deprecated. Use packaging.version instead.\n",
      "  sim_wo_ft=T.tempopulsar('sim_wt_pbd.par','iteration_sub.tim')\n",
      "/tmp/ipykernel_61419/3737954191.py:118: DeprecationWarning: distutils Version classes are deprecated. Use packaging.version instead.\n",
      "  sim_wo_ft=T.tempopulsar('sim_wt_pbd.par','iteration_sub.tim')\n",
      "/tmp/ipykernel_61419/3737954191.py:118: DeprecationWarning: distutils Version classes are deprecated. Use packaging.version instead.\n",
      "  sim_wo_ft=T.tempopulsar('sim_wt_pbd.par','iteration_sub.tim')\n",
      "/tmp/ipykernel_61419/3737954191.py:118: DeprecationWarning: distutils Version classes are deprecated. Use packaging.version instead.\n",
      "  sim_wo_ft=T.tempopulsar('sim_wt_pbd.par','iteration_sub.tim')\n",
      "/tmp/ipykernel_61419/3737954191.py:118: DeprecationWarning: distutils Version classes are deprecated. Use packaging.version instead.\n",
      "  sim_wo_ft=T.tempopulsar('sim_wt_pbd.par','iteration_sub.tim')\n"
     ]
    },
    {
     "name": "stdout",
     "output_type": "stream",
     "text": [
      "71 per 80\n"
     ]
    },
    {
     "name": "stderr",
     "output_type": "stream",
     "text": [
      "/tmp/ipykernel_61419/3737954191.py:118: DeprecationWarning: distutils Version classes are deprecated. Use packaging.version instead.\n",
      "  sim_wo_ft=T.tempopulsar('sim_wt_pbd.par','iteration_sub.tim')\n",
      "/tmp/ipykernel_61419/3737954191.py:118: DeprecationWarning: distutils Version classes are deprecated. Use packaging.version instead.\n",
      "  sim_wo_ft=T.tempopulsar('sim_wt_pbd.par','iteration_sub.tim')\n",
      "/tmp/ipykernel_61419/3737954191.py:118: DeprecationWarning: distutils Version classes are deprecated. Use packaging.version instead.\n",
      "  sim_wo_ft=T.tempopulsar('sim_wt_pbd.par','iteration_sub.tim')\n",
      "/tmp/ipykernel_61419/3737954191.py:118: DeprecationWarning: distutils Version classes are deprecated. Use packaging.version instead.\n",
      "  sim_wo_ft=T.tempopulsar('sim_wt_pbd.par','iteration_sub.tim')\n",
      "/tmp/ipykernel_61419/3737954191.py:118: DeprecationWarning: distutils Version classes are deprecated. Use packaging.version instead.\n",
      "  sim_wo_ft=T.tempopulsar('sim_wt_pbd.par','iteration_sub.tim')\n",
      "/tmp/ipykernel_61419/3737954191.py:118: DeprecationWarning: distutils Version classes are deprecated. Use packaging.version instead.\n",
      "  sim_wo_ft=T.tempopulsar('sim_wt_pbd.par','iteration_sub.tim')\n",
      "/tmp/ipykernel_61419/3737954191.py:118: DeprecationWarning: distutils Version classes are deprecated. Use packaging.version instead.\n",
      "  sim_wo_ft=T.tempopulsar('sim_wt_pbd.par','iteration_sub.tim')\n",
      "/tmp/ipykernel_61419/3737954191.py:118: DeprecationWarning: distutils Version classes are deprecated. Use packaging.version instead.\n",
      "  sim_wo_ft=T.tempopulsar('sim_wt_pbd.par','iteration_sub.tim')\n",
      "/tmp/ipykernel_61419/3737954191.py:118: DeprecationWarning: distutils Version classes are deprecated. Use packaging.version instead.\n",
      "  sim_wo_ft=T.tempopulsar('sim_wt_pbd.par','iteration_sub.tim')\n",
      "/tmp/ipykernel_61419/3737954191.py:118: DeprecationWarning: distutils Version classes are deprecated. Use packaging.version instead.\n",
      "  sim_wo_ft=T.tempopulsar('sim_wt_pbd.par','iteration_sub.tim')\n"
     ]
    },
    {
     "name": "stdout",
     "output_type": "stream",
     "text": [
      "72 per 80\n"
     ]
    },
    {
     "name": "stderr",
     "output_type": "stream",
     "text": [
      "/tmp/ipykernel_61419/3737954191.py:118: DeprecationWarning: distutils Version classes are deprecated. Use packaging.version instead.\n",
      "  sim_wo_ft=T.tempopulsar('sim_wt_pbd.par','iteration_sub.tim')\n",
      "/tmp/ipykernel_61419/3737954191.py:118: DeprecationWarning: distutils Version classes are deprecated. Use packaging.version instead.\n",
      "  sim_wo_ft=T.tempopulsar('sim_wt_pbd.par','iteration_sub.tim')\n",
      "/tmp/ipykernel_61419/3737954191.py:118: DeprecationWarning: distutils Version classes are deprecated. Use packaging.version instead.\n",
      "  sim_wo_ft=T.tempopulsar('sim_wt_pbd.par','iteration_sub.tim')\n",
      "/tmp/ipykernel_61419/3737954191.py:118: DeprecationWarning: distutils Version classes are deprecated. Use packaging.version instead.\n",
      "  sim_wo_ft=T.tempopulsar('sim_wt_pbd.par','iteration_sub.tim')\n",
      "/tmp/ipykernel_61419/3737954191.py:118: DeprecationWarning: distutils Version classes are deprecated. Use packaging.version instead.\n",
      "  sim_wo_ft=T.tempopulsar('sim_wt_pbd.par','iteration_sub.tim')\n",
      "/tmp/ipykernel_61419/3737954191.py:118: DeprecationWarning: distutils Version classes are deprecated. Use packaging.version instead.\n",
      "  sim_wo_ft=T.tempopulsar('sim_wt_pbd.par','iteration_sub.tim')\n",
      "/tmp/ipykernel_61419/3737954191.py:118: DeprecationWarning: distutils Version classes are deprecated. Use packaging.version instead.\n",
      "  sim_wo_ft=T.tempopulsar('sim_wt_pbd.par','iteration_sub.tim')\n",
      "/tmp/ipykernel_61419/3737954191.py:118: DeprecationWarning: distutils Version classes are deprecated. Use packaging.version instead.\n",
      "  sim_wo_ft=T.tempopulsar('sim_wt_pbd.par','iteration_sub.tim')\n",
      "/tmp/ipykernel_61419/3737954191.py:118: DeprecationWarning: distutils Version classes are deprecated. Use packaging.version instead.\n",
      "  sim_wo_ft=T.tempopulsar('sim_wt_pbd.par','iteration_sub.tim')\n",
      "/tmp/ipykernel_61419/3737954191.py:118: DeprecationWarning: distutils Version classes are deprecated. Use packaging.version instead.\n",
      "  sim_wo_ft=T.tempopulsar('sim_wt_pbd.par','iteration_sub.tim')\n"
     ]
    },
    {
     "name": "stdout",
     "output_type": "stream",
     "text": [
      "73 per 80\n"
     ]
    },
    {
     "name": "stderr",
     "output_type": "stream",
     "text": [
      "/tmp/ipykernel_61419/3737954191.py:118: DeprecationWarning: distutils Version classes are deprecated. Use packaging.version instead.\n",
      "  sim_wo_ft=T.tempopulsar('sim_wt_pbd.par','iteration_sub.tim')\n",
      "/tmp/ipykernel_61419/3737954191.py:118: DeprecationWarning: distutils Version classes are deprecated. Use packaging.version instead.\n",
      "  sim_wo_ft=T.tempopulsar('sim_wt_pbd.par','iteration_sub.tim')\n",
      "/tmp/ipykernel_61419/3737954191.py:118: DeprecationWarning: distutils Version classes are deprecated. Use packaging.version instead.\n",
      "  sim_wo_ft=T.tempopulsar('sim_wt_pbd.par','iteration_sub.tim')\n",
      "/tmp/ipykernel_61419/3737954191.py:118: DeprecationWarning: distutils Version classes are deprecated. Use packaging.version instead.\n",
      "  sim_wo_ft=T.tempopulsar('sim_wt_pbd.par','iteration_sub.tim')\n",
      "/tmp/ipykernel_61419/3737954191.py:118: DeprecationWarning: distutils Version classes are deprecated. Use packaging.version instead.\n",
      "  sim_wo_ft=T.tempopulsar('sim_wt_pbd.par','iteration_sub.tim')\n",
      "/tmp/ipykernel_61419/3737954191.py:118: DeprecationWarning: distutils Version classes are deprecated. Use packaging.version instead.\n",
      "  sim_wo_ft=T.tempopulsar('sim_wt_pbd.par','iteration_sub.tim')\n",
      "/tmp/ipykernel_61419/3737954191.py:118: DeprecationWarning: distutils Version classes are deprecated. Use packaging.version instead.\n",
      "  sim_wo_ft=T.tempopulsar('sim_wt_pbd.par','iteration_sub.tim')\n",
      "/tmp/ipykernel_61419/3737954191.py:118: DeprecationWarning: distutils Version classes are deprecated. Use packaging.version instead.\n",
      "  sim_wo_ft=T.tempopulsar('sim_wt_pbd.par','iteration_sub.tim')\n",
      "/tmp/ipykernel_61419/3737954191.py:118: DeprecationWarning: distutils Version classes are deprecated. Use packaging.version instead.\n",
      "  sim_wo_ft=T.tempopulsar('sim_wt_pbd.par','iteration_sub.tim')\n",
      "/tmp/ipykernel_61419/3737954191.py:118: DeprecationWarning: distutils Version classes are deprecated. Use packaging.version instead.\n",
      "  sim_wo_ft=T.tempopulsar('sim_wt_pbd.par','iteration_sub.tim')\n"
     ]
    },
    {
     "name": "stdout",
     "output_type": "stream",
     "text": [
      "74 per 80\n"
     ]
    },
    {
     "name": "stderr",
     "output_type": "stream",
     "text": [
      "/tmp/ipykernel_61419/3737954191.py:118: DeprecationWarning: distutils Version classes are deprecated. Use packaging.version instead.\n",
      "  sim_wo_ft=T.tempopulsar('sim_wt_pbd.par','iteration_sub.tim')\n",
      "/tmp/ipykernel_61419/3737954191.py:118: DeprecationWarning: distutils Version classes are deprecated. Use packaging.version instead.\n",
      "  sim_wo_ft=T.tempopulsar('sim_wt_pbd.par','iteration_sub.tim')\n",
      "/tmp/ipykernel_61419/3737954191.py:118: DeprecationWarning: distutils Version classes are deprecated. Use packaging.version instead.\n",
      "  sim_wo_ft=T.tempopulsar('sim_wt_pbd.par','iteration_sub.tim')\n",
      "/tmp/ipykernel_61419/3737954191.py:118: DeprecationWarning: distutils Version classes are deprecated. Use packaging.version instead.\n",
      "  sim_wo_ft=T.tempopulsar('sim_wt_pbd.par','iteration_sub.tim')\n",
      "/tmp/ipykernel_61419/3737954191.py:118: DeprecationWarning: distutils Version classes are deprecated. Use packaging.version instead.\n",
      "  sim_wo_ft=T.tempopulsar('sim_wt_pbd.par','iteration_sub.tim')\n",
      "/tmp/ipykernel_61419/3737954191.py:118: DeprecationWarning: distutils Version classes are deprecated. Use packaging.version instead.\n",
      "  sim_wo_ft=T.tempopulsar('sim_wt_pbd.par','iteration_sub.tim')\n",
      "/tmp/ipykernel_61419/3737954191.py:118: DeprecationWarning: distutils Version classes are deprecated. Use packaging.version instead.\n",
      "  sim_wo_ft=T.tempopulsar('sim_wt_pbd.par','iteration_sub.tim')\n",
      "/tmp/ipykernel_61419/3737954191.py:118: DeprecationWarning: distutils Version classes are deprecated. Use packaging.version instead.\n",
      "  sim_wo_ft=T.tempopulsar('sim_wt_pbd.par','iteration_sub.tim')\n",
      "/tmp/ipykernel_61419/3737954191.py:118: DeprecationWarning: distutils Version classes are deprecated. Use packaging.version instead.\n",
      "  sim_wo_ft=T.tempopulsar('sim_wt_pbd.par','iteration_sub.tim')\n",
      "/tmp/ipykernel_61419/3737954191.py:118: DeprecationWarning: distutils Version classes are deprecated. Use packaging.version instead.\n",
      "  sim_wo_ft=T.tempopulsar('sim_wt_pbd.par','iteration_sub.tim')\n"
     ]
    },
    {
     "name": "stdout",
     "output_type": "stream",
     "text": [
      "75 per 80\n"
     ]
    },
    {
     "name": "stderr",
     "output_type": "stream",
     "text": [
      "/tmp/ipykernel_61419/3737954191.py:118: DeprecationWarning: distutils Version classes are deprecated. Use packaging.version instead.\n",
      "  sim_wo_ft=T.tempopulsar('sim_wt_pbd.par','iteration_sub.tim')\n",
      "/tmp/ipykernel_61419/3737954191.py:118: DeprecationWarning: distutils Version classes are deprecated. Use packaging.version instead.\n",
      "  sim_wo_ft=T.tempopulsar('sim_wt_pbd.par','iteration_sub.tim')\n",
      "/tmp/ipykernel_61419/3737954191.py:118: DeprecationWarning: distutils Version classes are deprecated. Use packaging.version instead.\n",
      "  sim_wo_ft=T.tempopulsar('sim_wt_pbd.par','iteration_sub.tim')\n",
      "/tmp/ipykernel_61419/3737954191.py:118: DeprecationWarning: distutils Version classes are deprecated. Use packaging.version instead.\n",
      "  sim_wo_ft=T.tempopulsar('sim_wt_pbd.par','iteration_sub.tim')\n",
      "/tmp/ipykernel_61419/3737954191.py:118: DeprecationWarning: distutils Version classes are deprecated. Use packaging.version instead.\n",
      "  sim_wo_ft=T.tempopulsar('sim_wt_pbd.par','iteration_sub.tim')\n",
      "/tmp/ipykernel_61419/3737954191.py:118: DeprecationWarning: distutils Version classes are deprecated. Use packaging.version instead.\n",
      "  sim_wo_ft=T.tempopulsar('sim_wt_pbd.par','iteration_sub.tim')\n",
      "/tmp/ipykernel_61419/3737954191.py:118: DeprecationWarning: distutils Version classes are deprecated. Use packaging.version instead.\n",
      "  sim_wo_ft=T.tempopulsar('sim_wt_pbd.par','iteration_sub.tim')\n",
      "/tmp/ipykernel_61419/3737954191.py:118: DeprecationWarning: distutils Version classes are deprecated. Use packaging.version instead.\n",
      "  sim_wo_ft=T.tempopulsar('sim_wt_pbd.par','iteration_sub.tim')\n",
      "/tmp/ipykernel_61419/3737954191.py:118: DeprecationWarning: distutils Version classes are deprecated. Use packaging.version instead.\n",
      "  sim_wo_ft=T.tempopulsar('sim_wt_pbd.par','iteration_sub.tim')\n",
      "/tmp/ipykernel_61419/3737954191.py:118: DeprecationWarning: distutils Version classes are deprecated. Use packaging.version instead.\n",
      "  sim_wo_ft=T.tempopulsar('sim_wt_pbd.par','iteration_sub.tim')\n"
     ]
    },
    {
     "name": "stdout",
     "output_type": "stream",
     "text": [
      "76 per 80\n"
     ]
    },
    {
     "name": "stderr",
     "output_type": "stream",
     "text": [
      "/tmp/ipykernel_61419/3737954191.py:118: DeprecationWarning: distutils Version classes are deprecated. Use packaging.version instead.\n",
      "  sim_wo_ft=T.tempopulsar('sim_wt_pbd.par','iteration_sub.tim')\n",
      "/tmp/ipykernel_61419/3737954191.py:118: DeprecationWarning: distutils Version classes are deprecated. Use packaging.version instead.\n",
      "  sim_wo_ft=T.tempopulsar('sim_wt_pbd.par','iteration_sub.tim')\n",
      "/tmp/ipykernel_61419/3737954191.py:118: DeprecationWarning: distutils Version classes are deprecated. Use packaging.version instead.\n",
      "  sim_wo_ft=T.tempopulsar('sim_wt_pbd.par','iteration_sub.tim')\n",
      "/tmp/ipykernel_61419/3737954191.py:118: DeprecationWarning: distutils Version classes are deprecated. Use packaging.version instead.\n",
      "  sim_wo_ft=T.tempopulsar('sim_wt_pbd.par','iteration_sub.tim')\n",
      "/tmp/ipykernel_61419/3737954191.py:118: DeprecationWarning: distutils Version classes are deprecated. Use packaging.version instead.\n",
      "  sim_wo_ft=T.tempopulsar('sim_wt_pbd.par','iteration_sub.tim')\n",
      "/tmp/ipykernel_61419/3737954191.py:118: DeprecationWarning: distutils Version classes are deprecated. Use packaging.version instead.\n",
      "  sim_wo_ft=T.tempopulsar('sim_wt_pbd.par','iteration_sub.tim')\n",
      "/tmp/ipykernel_61419/3737954191.py:118: DeprecationWarning: distutils Version classes are deprecated. Use packaging.version instead.\n",
      "  sim_wo_ft=T.tempopulsar('sim_wt_pbd.par','iteration_sub.tim')\n",
      "/tmp/ipykernel_61419/3737954191.py:118: DeprecationWarning: distutils Version classes are deprecated. Use packaging.version instead.\n",
      "  sim_wo_ft=T.tempopulsar('sim_wt_pbd.par','iteration_sub.tim')\n",
      "/tmp/ipykernel_61419/3737954191.py:118: DeprecationWarning: distutils Version classes are deprecated. Use packaging.version instead.\n",
      "  sim_wo_ft=T.tempopulsar('sim_wt_pbd.par','iteration_sub.tim')\n",
      "/tmp/ipykernel_61419/3737954191.py:118: DeprecationWarning: distutils Version classes are deprecated. Use packaging.version instead.\n",
      "  sim_wo_ft=T.tempopulsar('sim_wt_pbd.par','iteration_sub.tim')\n"
     ]
    },
    {
     "name": "stdout",
     "output_type": "stream",
     "text": [
      "77 per 80\n"
     ]
    },
    {
     "name": "stderr",
     "output_type": "stream",
     "text": [
      "/tmp/ipykernel_61419/3737954191.py:118: DeprecationWarning: distutils Version classes are deprecated. Use packaging.version instead.\n",
      "  sim_wo_ft=T.tempopulsar('sim_wt_pbd.par','iteration_sub.tim')\n",
      "/tmp/ipykernel_61419/3737954191.py:118: DeprecationWarning: distutils Version classes are deprecated. Use packaging.version instead.\n",
      "  sim_wo_ft=T.tempopulsar('sim_wt_pbd.par','iteration_sub.tim')\n",
      "/tmp/ipykernel_61419/3737954191.py:118: DeprecationWarning: distutils Version classes are deprecated. Use packaging.version instead.\n",
      "  sim_wo_ft=T.tempopulsar('sim_wt_pbd.par','iteration_sub.tim')\n",
      "/tmp/ipykernel_61419/3737954191.py:118: DeprecationWarning: distutils Version classes are deprecated. Use packaging.version instead.\n",
      "  sim_wo_ft=T.tempopulsar('sim_wt_pbd.par','iteration_sub.tim')\n",
      "/tmp/ipykernel_61419/3737954191.py:118: DeprecationWarning: distutils Version classes are deprecated. Use packaging.version instead.\n",
      "  sim_wo_ft=T.tempopulsar('sim_wt_pbd.par','iteration_sub.tim')\n",
      "/tmp/ipykernel_61419/3737954191.py:118: DeprecationWarning: distutils Version classes are deprecated. Use packaging.version instead.\n",
      "  sim_wo_ft=T.tempopulsar('sim_wt_pbd.par','iteration_sub.tim')\n",
      "/tmp/ipykernel_61419/3737954191.py:118: DeprecationWarning: distutils Version classes are deprecated. Use packaging.version instead.\n",
      "  sim_wo_ft=T.tempopulsar('sim_wt_pbd.par','iteration_sub.tim')\n",
      "/tmp/ipykernel_61419/3737954191.py:118: DeprecationWarning: distutils Version classes are deprecated. Use packaging.version instead.\n",
      "  sim_wo_ft=T.tempopulsar('sim_wt_pbd.par','iteration_sub.tim')\n",
      "/tmp/ipykernel_61419/3737954191.py:118: DeprecationWarning: distutils Version classes are deprecated. Use packaging.version instead.\n",
      "  sim_wo_ft=T.tempopulsar('sim_wt_pbd.par','iteration_sub.tim')\n",
      "/tmp/ipykernel_61419/3737954191.py:118: DeprecationWarning: distutils Version classes are deprecated. Use packaging.version instead.\n",
      "  sim_wo_ft=T.tempopulsar('sim_wt_pbd.par','iteration_sub.tim')\n"
     ]
    },
    {
     "name": "stdout",
     "output_type": "stream",
     "text": [
      "78 per 80\n"
     ]
    },
    {
     "name": "stderr",
     "output_type": "stream",
     "text": [
      "/tmp/ipykernel_61419/3737954191.py:118: DeprecationWarning: distutils Version classes are deprecated. Use packaging.version instead.\n",
      "  sim_wo_ft=T.tempopulsar('sim_wt_pbd.par','iteration_sub.tim')\n",
      "/tmp/ipykernel_61419/3737954191.py:118: DeprecationWarning: distutils Version classes are deprecated. Use packaging.version instead.\n",
      "  sim_wo_ft=T.tempopulsar('sim_wt_pbd.par','iteration_sub.tim')\n",
      "/tmp/ipykernel_61419/3737954191.py:118: DeprecationWarning: distutils Version classes are deprecated. Use packaging.version instead.\n",
      "  sim_wo_ft=T.tempopulsar('sim_wt_pbd.par','iteration_sub.tim')\n",
      "/tmp/ipykernel_61419/3737954191.py:118: DeprecationWarning: distutils Version classes are deprecated. Use packaging.version instead.\n",
      "  sim_wo_ft=T.tempopulsar('sim_wt_pbd.par','iteration_sub.tim')\n",
      "/tmp/ipykernel_61419/3737954191.py:118: DeprecationWarning: distutils Version classes are deprecated. Use packaging.version instead.\n",
      "  sim_wo_ft=T.tempopulsar('sim_wt_pbd.par','iteration_sub.tim')\n",
      "/tmp/ipykernel_61419/3737954191.py:118: DeprecationWarning: distutils Version classes are deprecated. Use packaging.version instead.\n",
      "  sim_wo_ft=T.tempopulsar('sim_wt_pbd.par','iteration_sub.tim')\n",
      "/tmp/ipykernel_61419/3737954191.py:118: DeprecationWarning: distutils Version classes are deprecated. Use packaging.version instead.\n",
      "  sim_wo_ft=T.tempopulsar('sim_wt_pbd.par','iteration_sub.tim')\n",
      "/tmp/ipykernel_61419/3737954191.py:118: DeprecationWarning: distutils Version classes are deprecated. Use packaging.version instead.\n",
      "  sim_wo_ft=T.tempopulsar('sim_wt_pbd.par','iteration_sub.tim')\n",
      "/tmp/ipykernel_61419/3737954191.py:118: DeprecationWarning: distutils Version classes are deprecated. Use packaging.version instead.\n",
      "  sim_wo_ft=T.tempopulsar('sim_wt_pbd.par','iteration_sub.tim')\n",
      "/tmp/ipykernel_61419/3737954191.py:118: DeprecationWarning: distutils Version classes are deprecated. Use packaging.version instead.\n",
      "  sim_wo_ft=T.tempopulsar('sim_wt_pbd.par','iteration_sub.tim')\n"
     ]
    },
    {
     "name": "stdout",
     "output_type": "stream",
     "text": [
      "79 per 80\n"
     ]
    },
    {
     "name": "stderr",
     "output_type": "stream",
     "text": [
      "/tmp/ipykernel_61419/3737954191.py:118: DeprecationWarning: distutils Version classes are deprecated. Use packaging.version instead.\n",
      "  sim_wo_ft=T.tempopulsar('sim_wt_pbd.par','iteration_sub.tim')\n",
      "/tmp/ipykernel_61419/3737954191.py:118: DeprecationWarning: distutils Version classes are deprecated. Use packaging.version instead.\n",
      "  sim_wo_ft=T.tempopulsar('sim_wt_pbd.par','iteration_sub.tim')\n",
      "/tmp/ipykernel_61419/3737954191.py:118: DeprecationWarning: distutils Version classes are deprecated. Use packaging.version instead.\n",
      "  sim_wo_ft=T.tempopulsar('sim_wt_pbd.par','iteration_sub.tim')\n",
      "/tmp/ipykernel_61419/3737954191.py:118: DeprecationWarning: distutils Version classes are deprecated. Use packaging.version instead.\n",
      "  sim_wo_ft=T.tempopulsar('sim_wt_pbd.par','iteration_sub.tim')\n",
      "/tmp/ipykernel_61419/3737954191.py:118: DeprecationWarning: distutils Version classes are deprecated. Use packaging.version instead.\n",
      "  sim_wo_ft=T.tempopulsar('sim_wt_pbd.par','iteration_sub.tim')\n",
      "/tmp/ipykernel_61419/3737954191.py:118: DeprecationWarning: distutils Version classes are deprecated. Use packaging.version instead.\n",
      "  sim_wo_ft=T.tempopulsar('sim_wt_pbd.par','iteration_sub.tim')\n",
      "/tmp/ipykernel_61419/3737954191.py:118: DeprecationWarning: distutils Version classes are deprecated. Use packaging.version instead.\n",
      "  sim_wo_ft=T.tempopulsar('sim_wt_pbd.par','iteration_sub.tim')\n",
      "/tmp/ipykernel_61419/3737954191.py:118: DeprecationWarning: distutils Version classes are deprecated. Use packaging.version instead.\n",
      "  sim_wo_ft=T.tempopulsar('sim_wt_pbd.par','iteration_sub.tim')\n",
      "/tmp/ipykernel_61419/3737954191.py:118: DeprecationWarning: distutils Version classes are deprecated. Use packaging.version instead.\n",
      "  sim_wo_ft=T.tempopulsar('sim_wt_pbd.par','iteration_sub.tim')\n",
      "/tmp/ipykernel_61419/3737954191.py:118: DeprecationWarning: distutils Version classes are deprecated. Use packaging.version instead.\n",
      "  sim_wo_ft=T.tempopulsar('sim_wt_pbd.par','iteration_sub.tim')\n"
     ]
    },
    {
     "name": "stdout",
     "output_type": "stream",
     "text": [
      "80 per 80\n"
     ]
    }
   ],
   "source": [
    "\n",
    "# generate simulation\n",
    "pbdot_wo=1.46e-14\n",
    "\n",
    "\n",
    "\n",
    "# number of realizations\n",
    "num_sim=80\n",
    "sel=3\n",
    "ef_cntrl=1.2\n",
    "meerkat_extension=60675\n",
    "phase_ska=61465\n",
    "days=90\n",
    "obs_random_interval=0.3\n",
    "mk_rms=4.76\n",
    "pk_rms=10.341\n",
    "\n",
    "status=1\n",
    "#location of index of mjd where you want to inspect\n",
    "\n",
    "start=meerkat_extension\n",
    "\n",
    "# call files and make observed arrays\n",
    "\n",
    "original=pd.read_csv('original.csv')\n",
    "\n",
    "res=original['res']\n",
    "toas=original['toa']\n",
    "err=original['err']\n",
    "\n",
    "\n",
    "lnL_appender=np.zeros(0)\n",
    "\n",
    "# generate fake observation for simulation.\n",
    "obs_days=np.arange(meerkat_extension,69160,days)\n",
    "rand_obs=obs_random_interval*days*np.random.randn(len(obs_days))\n",
    "obs_day=obs_days+rand_obs\n",
    "mjd_range=np.append(toas,obs_day)\n",
    "phase1=(mjd_range>=meerkat_extension) & (mjd_range<phase_ska)\n",
    "phase2=(mjd_range>=phase_ska)\n",
    "\n",
    "phase1_rms=mk_rms*0.72\n",
    "phase2_rms=mk_rms*0.28\n",
    "err_set=np.concatenate((np.array(err),np.array([phase1_rms]*len(phase1[phase1==True])),\n",
    "                               np.array([phase2_rms]*len(phase2[phase2==True]))))\n",
    "\n",
    "index_loc=np.array([i for i in range(535,len(err_set)-5,10)])\n",
    "\n",
    "#generate realizations\n",
    "\n",
    "res_fit_val=np.zeros(0)\n",
    "res_fit_err=np.zeros(0)\n",
    "mjd_fit_loc=np.zeros(0)\n",
    "\n",
    "for i in range(0,num_sim):\n",
    "    #generate fake datasets for two cases\n",
    "\n",
    "    #rand_obs=0.3*days*np.random.randn(len(obs_days))\n",
    "    sim = LT.fakepulsar(parfile='sim_wt_pbd.par',\n",
    "                            obstimes=mjd_range,  \n",
    "                            toaerr=err_set)\n",
    "\n",
    "    LT.add_efac(sim,efac=ef_cntrl)\n",
    "    wt_res=sim.residuals()\n",
    "    \n",
    "    sim_wo = LT.fakepulsar(parfile='sim_wt_pbd.par',\n",
    "                            obstimes=mjd_range,  \n",
    "                            toaerr=err_set)\n",
    "\n",
    "    sim_wo['PBDOT'].val=pbdot_wo\n",
    "    sim_wo['PBDOT'].fit = False\n",
    "    LT.add_efac(sim_wo,efac=ef_cntrl)\n",
    "    wo_res=sim_wo.residuals()\n",
    "    \n",
    "\n",
    "    \n",
    "    sim_wo_prefit = LT.fakepulsar(parfile='sim_wt_pbd.par',\n",
    "                            obstimes=mjd_range,  \n",
    "                            toaerr=err_set)\n",
    "    sim_wo_prefit['PB'].fit = True  \n",
    "    sim_wo_prefit['RAJ'].fit = True\n",
    "    sim_wo_prefit['DECJ'].fit = True\n",
    "    sim_wo_prefit['EPS1'].fit = True\n",
    "    sim_wo_prefit['EPS2'].fit = True\n",
    "    sim_wo_prefit['TASC'].fit = True\n",
    "    sim_wo_prefit['A1'].fit = True\n",
    "\n",
    "    for i in range(0,3):\n",
    "        ret = sim_wo_prefit.fit()\n",
    "    #sim_wo_prefit['PBDOT'].val=5.847219647852672e-15\n",
    "    #sim_wo_prefit['PBDOT'].fit = False\n",
    "    #for i in range(0,3):\n",
    "    #    ret = sim_wo_prefit.fit()\n",
    "    LT.add_efac(sim_wo_prefit,efac=ef_cntrl)\n",
    "    wo_prefit_res=sim_wo_prefit.residuals()    \n",
    "\n",
    "# 545 is the maximum length of the tim file\n",
    "\n",
    "    sim_wo_prefit.savetim('iteration.tim')    \n",
    "        \n",
    "    lnL=[]\n",
    "\n",
    "    #calculate ICs at each satDay.\n",
    "        \n",
    "\n",
    "    for mjd in mjd_range:\n",
    "        if mjd==mjd_range[0]:\n",
    "            pass\n",
    "        else:\n",
    "            model_wo=  Model.lnL(wo_res,err_set,(mjd_range<mjd))#,'wo_pbdot')  \n",
    "            model_wt=  Model.lnL(wt_res,err_set,(mjd_range<mjd))#,'wt_pbdot')\n",
    "\n",
    "\n",
    "            lnL=lnL+[-model_wo+model_wt]\n",
    "            \n",
    "    for fit_point in index_loc:\n",
    "        data=pd.read_csv('iteration.tim',skiprows=[i for i in range(fit_point,len(err_set))])\n",
    "        pd.DataFrame(data).to_csv('iteration_sub.tim', index=None)\n",
    "        sim_wo_ft=T.tempopulsar('sim_wt_pbd.par','iteration_sub.tim')\n",
    "\n",
    "        sim_wo_ft['PB'].fit = True  \n",
    "        sim_wo_ft['RAJ'].fit = True\n",
    "        sim_wo_ft['DECJ'].fit = True\n",
    "        sim_wo_ft['EPS1'].fit = True\n",
    "        sim_wo_ft['EPS2'].fit = True\n",
    "        #sim_wo_ft['TASC'].fit = True\n",
    "        sim_wo_ft['A1'].fit = True\n",
    "        sim_wo_ft['PBDOT'].val=5.847219647852672e-15\n",
    "        for i in range(0,3):\n",
    "            ret = sim_wo_ft.fit()\n",
    "        sim_wo_ft['PBDOT'].fit = True\n",
    "        for i in range(0,3):\n",
    "            ret = sim_wo_ft.fit()\n",
    "        res_fit_val=np.append(res_fit_val,sim_wo_ft['PBDOT'].val)\n",
    "        res_fit_err=np.append(res_fit_err,sim_wo_ft['PBDOT'].err)\n",
    "    \n",
    "    #append ICs at each realization\n",
    "\n",
    "    lnL_appender=np.append(lnL_appender,np.array(lnL))\n",
    "    print('%s per %s'%(status,num_sim))\n",
    "    status=status+1        \n",
    "    \n",
    "mjd_range_chisq=mjd_range[1:] \n",
    "num_mjd=len(mjd_range_chisq)       \n",
    "\n",
    "# calculate mean, std of ICs at each mjd.\n",
    "\n",
    "lnL_mean=lnL_appender.reshape(num_sim,num_mjd).mean(axis=0)\n",
    "lnL_std=lnL_appender.reshape(num_sim,num_mjd).std(axis=0)\n",
    "\n",
    "\n",
    "\n",
    "min_lnL_range=lnL_mean-lnL_std\n",
    "max_lnL_range=lnL_mean+lnL_std\n",
    "\n"
   ]
  },
  {
   "cell_type": "code",
   "execution_count": 24,
   "id": "59a6e588",
   "metadata": {},
   "outputs": [
    {
     "name": "stderr",
     "output_type": "stream",
     "text": [
      "/home/jiwoong/anaconda3/envs/libstempo/lib/python3.9/site-packages/numpy/ma/core.py:6849: RuntimeWarning: overflow encountered in power\n",
      "  result = np.where(m, fa, umath.power(fa, fb)).view(basetype)\n",
      "No artists with labels found to put in legend.  Note that artists whose label start with an underscore are ignored when legend() is called with no argument.\n",
      "No artists with labels found to put in legend.  Note that artists whose label start with an underscore are ignored when legend() is called with no argument.\n",
      "No artists with labels found to put in legend.  Note that artists whose label start with an underscore are ignored when legend() is called with no argument.\n",
      "No artists with labels found to put in legend.  Note that artists whose label start with an underscore are ignored when legend() is called with no argument.\n"
     ]
    },
    {
     "data": {
      "image/png": "[encoded data removed]",
      "text/plain": [
       "<Figure size 576x720 with 4 Axes>"
      ]
     },
     "metadata": {
      "image/png": {
       "height": 693,
       "width": 609
      },
      "needs_background": "light"
     },
     "output_type": "display_data"
    }
   ],
   "source": [
    "somecondition = True\n",
    "sel = 3\n",
    "fig, axs = plt.subplots(3, 1, figsize=(12, 15))  # Create subplots\n",
    "\n",
    "if not somecondition:\n",
    "    ax = axs[0]  # Always create the first subplot\n",
    "    ax.plot(list1)  # Populate the \"main\" subplot\n",
    "else:\n",
    "    ax = axs[0]\n",
    "    ax.errorbar(mjd_range, wt_res * 1e+6, err_set, fmt='.', label=r'M$_{1}$=M(D|$\\dot{P_{b}}^{GW}\\in$P)')\n",
    "    ax.errorbar(mjd_range, wo_res * 1e+6, err_set, fmt='.', label=r'M$_{2}$=M(D|$\\dot{P_{b}}^{GW}\\notin$P)', zorder=100)\n",
    "\n",
    "    # plot upgrade \n",
    "    ax.axvline(meerkat_extension, ymin=-60, ymax=60, linestyle='--', color='yellow')\n",
    "    ax.axvline(phase_ska, ymin=-60, ymax=60, linestyle='--', color='yellow')\n",
    "    ax.text(63000, 100, 'C', fontsize=15)\n",
    "    ax.text(60870, 100, 'B', fontsize=15)\n",
    "    ax.text(58000, 100, 'A', fontsize=15)\n",
    "\n",
    "    ax.set_xticks([])\n",
    "    ax.set_ylabel('Residuals ($\\mu$s)', fontsize=15)\n",
    "    ax.set_xlim(min(original['toa']) - 100, max(mjd_range) + 100)\n",
    "    ax.tick_params(axis='y', labelsize=15)\n",
    "    ax.legend(fontsize=15,loc='lower right')\n",
    "    ax.set_rasterized(True)\n",
    "    # other plot settings...\n",
    "\n",
    "    ax = axs[1]\n",
    "    ax.set_xticks([])\n",
    "    ax.figure.set_size_inches(8, 10)\n",
    "    ax.figure.set_size_inches(8, 10)\n",
    "    ax.axhline(1, xmin=0, xmax=69000, linestyle=':', color='g')\n",
    "    sel_model = min(mjd_range_chisq[(lnL_mean / lnL_std) > sel])\n",
    "    ax.axhline(min(lnL_mean[mjd_range_chisq > sel_model]), xmin=0, xmax=69000, linestyle=':', color='r')\n",
    "    ax.set_xlim(min(original['toa']) - 100, max(mjd_range) + 100)\n",
    "    ax.set_yscale('log')\n",
    "    ax.fill_between(mjd_range_chisq, min_lnL_range, max_lnL_range,\n",
    "                     facecolor=\"green\", alpha=0.2)\n",
    "    ax.plot(mjd_range_chisq, lnL_mean, color='green')\n",
    "\n",
    "    ax.axvline(meerkat_extension, ymin=-60, ymax=60, linestyle='--', color='yellow', zorder=-100)\n",
    "    ax.axvline(phase_ska, ymin=-60, ymax=60, linestyle='--', color='yellow', zorder=-100)\n",
    "\n",
    "\n",
    "    Z_mjd = mjd_range[0:][index_loc]\n",
    "    mask = [np.around(i, 3) in np.around(Z_mjd, 3) for i in np.around(mjd_range[1:], 3)]\n",
    "\n",
    "    pbd_measure = res_fit_val.reshape(num_sim, len(index_loc)).mean(axis=0)\n",
    "    pbd_err = res_fit_err.reshape(num_sim, len(index_loc)).mean(axis=0)\n",
    "\n",
    "    mask = [i in Z_mjd for i in mjd_range[1:]]\n",
    "    min_lnL_cb = min_lnL_range[mask]\n",
    "    max_lnL_cb = max_lnL_range[mask]\n",
    "\n",
    "    Z = abs(pbd_measure / pbd_err)\n",
    "\n",
    "    color = ax.scatter(Z_mjd, lnL_mean[index_loc], edgecolors='none', s=50, c=Z, cmap='RdYlGn')\n",
    "\n",
    "    ax.axhline(min(lnL_mean[index_loc][Z > sel]), xmin=0, xmax=69000, linestyle=':', color='r')\n",
    "    ax.set_ylabel(r'$\\ln{L(M_{1})}-\\ln{L(M_{2})}$', fontsize=15)\n",
    "    ax.set_xlim(min(original['toa']) - 100, max(mjd_range) + 100)\n",
    "    ax.legend(fontsize=15)\n",
    "    ax.tick_params(axis='both', labelsize=15)\n",
    "    ax.tick_params(axis='y', labelsize=15)\n",
    "    ax.set_rasterized(True)\n",
    "    ax.legend().set_visible(False)\n",
    "\n",
    "    # other plot settings...\n",
    "\n",
    "    ax = axs[2]\n",
    "    ax.set_xlim(min(original['toa']) - 100, max(mjd_range) + 100)\n",
    "    ax.errorbar(Z_mjd, pbd_measure * 1e+15, pbd_err * 1e+15, fmt='o', color='k',lw=1, label=None)\n",
    "    ax.set_xlabel('MJD', fontsize=15)\n",
    "    ax.set_ylabel(r'$\\dot{P}_{b} (\\times 10^{-15})$', fontsize=15, labelpad=15)\n",
    "    ax.tick_params(axis='y', labelsize=15)\n",
    "    ax.legend(fontsize=15)\n",
    "    ax.set_rasterized(True)\n",
    "    #y_ticks = np.linspace(1, 10.6, 12)\n",
    "    #y_ticklabels = ['{}'.format(i) for i in range(1, 24,2)]\n",
    "    #plt.yticks(y_ticks, y_ticklabels)\n",
    "    ax.tick_params(axis='x', labelsize=15, rotation=45)\n",
    "    ax.axhline(5.847219647852672+5.847219647852672/3, xmin=0, xmax=69000, linestyle=':', color='blue')\n",
    "    ax.axhline(5.847219647852672-5.847219647852672/3, xmin=0, xmax=69000, linestyle=':', color='blue')\n",
    "    ax.axhline(5.847219647852672, xmin=0, xmax=69000, linestyle=':', color='green')\n",
    "    ax.legend().set_visible(False)\n",
    "    # other plot settings...\n",
    "\n",
    "# Adjust layout\n",
    "plt.tight_layout(pad=2.0)\n",
    "\n",
    "# Find the height of the middle panel\n",
    "bbox = axs[1].get_position()\n",
    "middle_panel_height = bbox.y1 - bbox.y0\n",
    "\n",
    "# Create color bar beside the middle panel\n",
    "cax = fig.add_axes([bbox.x1 + 0.01, bbox.y0, 0.02, middle_panel_height])\n",
    "cbar = plt.colorbar(color, cax=cax)\n",
    "cbar.ax.tick_params(labelsize=12)\n",
    "cbar.set_label(r'$\\sigma$', fontsize=15)\n",
    "plt.savefig('forecast.pdf', bbox_inches='tight', dpi=120)    \n",
    "plt.show()"
   ]
  }
 ],
 "metadata": {
  "kernelspec": {
   "display_name": "Python [conda env:libstempo] *",
   "language": "python",
   "name": "conda-env-libstempo-py"
  },
  "language_info": {
   "codemirror_mode": {
    "name": "ipython",
    "version": 3
   },
   "file_extension": ".py",
   "mimetype": "text/x-python",
   "name": "python",
   "nbconvert_exporter": "python",
   "pygments_lexer": "ipython3",
   "version": "3.9.7"
  }
 },
 "nbformat": 4,
 "nbformat_minor": 5
}
